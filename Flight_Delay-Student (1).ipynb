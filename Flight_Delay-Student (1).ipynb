{
 "cells": [
  {
   "cell_type": "markdown",
   "metadata": {},
   "source": [
    "# Problem: Predicting Airplane Delays\n",
    "\n",
    "The goals of this notebook are:\n",
    "- Process and create a dataset from downloaded .zip files\n",
    "- Perform exploratory data analysis (EDA)\n",
    "- Establish a baseline model\n",
    "- Move from a simple model to an ensemble model\n",
    "- Perform hyperparameter optimization\n",
    "- Check feature importance\n",
    "\n",
    "\n",
    "## Introduction to business scenario\n",
    "\n",
    "You work for a travel booking website that wants to improve the customer experience for flights that were delayed. The company wants to create a feature to let customers know if the flight will be delayed because of weather when they book a flight to or from the busiest airports for domestic travel in the US. \n",
    "\n",
    "You are tasked with solving part of this problem by using machine learning (ML) to identify whether the flight will be delayed because of weather. You have been given access to the a dataset about the on-time performance of domestic flights that were operated by large air carriers. You can use this data to train an ML model to predict if the flight is going to be delayed for the busiest airports.\n",
    "\n",
    "\n",
    "## About this dataset\n",
    "\n",
    "This dataset contains scheduled and actual departure and arrival times reported by certified US air carriers that account for at least 1 percent of domestic scheduled passenger revenues. The data was collected by the U.S. Office of Airline Information, Bureau of Transportation Statistics (BTS). The dataset contains date, time, origin, destination, airline, distance, and delay status of flights for flights between 2013 and 2018.\n",
    "\n",
    "\n",
    "### Features\n",
    "\n",
    "For more information about features in the dataset, see [On-time delay dataset features](https://www.transtats.bts.gov/Fields.asp).\n",
    "\n",
    "### Dataset attributions  \n",
    "Website: https://www.transtats.bts.gov/\n",
    "\n",
    "Dataset(s) used in this lab were compiled by the U.S. Office of Airline Information, Bureau of Transportation Statistics (BTS), Airline On-Time Performance Data, available at https://www.transtats.bts.gov/DatabaseInfo.asp?DB_ID=120&DB_URL=Mode_ID=1&Mode_Desc=Aviation&Subject_ID2=0."
   ]
  },
  {
   "cell_type": "markdown",
   "metadata": {},
   "source": [
    "# Step 1: Problem formulation and data collection\n",
    "\n",
    "Start this project by writing a few sentences that summarize the business problem and the business goal that you want to achieve in this scenario. You can write down your ideas in the following sections. Include a business metric that you would like your team to aspire toward. After you define that information, write the ML problem statement. Finally, add a comment or two about the type of ML this activity represents. \n",
    "\n",
    "#### <span style=\"color: blue;\">Project presentation: Include a summary of these details in your project presentation.</span>\n",
    "\n",
    "### 1. Determine if and why ML is an appropriate solution to deploy for this scenario."
   ]
  },
  {
   "cell_type": "code",
   "execution_count": null,
   "metadata": {},
   "outputs": [],
   "source": [
    "# Write your answer here\n",
    "ML เหมาะสมเพราะมีข้อมูลที่่จำเป็นเพียงพอในการนำมาวิเคราะห์ความล่าช้าที่เกิดขึ้นได้"
   ]
  },
  {
   "cell_type": "markdown",
   "metadata": {},
   "source": [
    "### 2. Formulate the business problem, success metrics, and desired ML output."
   ]
  },
  {
   "cell_type": "code",
   "execution_count": null,
   "metadata": {},
   "outputs": [],
   "source": [
    "# Write your answer here\n",
    "business problem = เที่ยวบินของลูกค้าดีเลย์ ,success metrics = การรู้ล่วงหน้าว่าเที่ยวบินจะดีเลย์หรือไม่, desired ML output = predicเที่ยวบิน\n",
    "ที่อาจจะดีเลย์"
   ]
  },
  {
   "cell_type": "markdown",
   "metadata": {},
   "source": [
    "### 3. Identify the type of ML problem that you're working with."
   ]
  },
  {
   "cell_type": "code",
   "execution_count": null,
   "metadata": {},
   "outputs": [],
   "source": [
    "# Write your answer here\n",
    "type of ML problem = Supervised learning จากข้อมูลวันที่และเวลาทั้งหมดที่มีให้อยู่แล้ว"
   ]
  },
  {
   "cell_type": "markdown",
   "metadata": {},
   "source": [
    "### 4. Analyze the appropriateness of the data that you're working with."
   ]
  },
  {
   "cell_type": "code",
   "execution_count": null,
   "metadata": {},
   "outputs": [],
   "source": [
    "# Write your answer here\n",
    "data set ที่ได้มาคิดว่ามีข้อมูลที่เหมาะสมในการนำมาวิเคราะห์ เพราะมีข้อมูลของ date, time, origin, \n",
    "destination, airline, distance, and delay status of flights for flights"
   ]
  },
  {
   "cell_type": "markdown",
   "metadata": {},
   "source": [
    "### Setup\n",
    "\n",
    "Now that you have decided where you want to focus your attention, you will set up this lab so that you can start solving the problem.\n",
    "\n",
    "**Note:** This notebook was created and tested on an `ml.m4.xlarge` notebook instance with 25 GB storage. "
   ]
  },
  {
   "cell_type": "code",
   "execution_count": 1,
   "metadata": {},
   "outputs": [],
   "source": [
    "import os\n",
    "from pathlib2 import Path\n",
    "from zipfile import ZipFile\n",
    "import time\n",
    "\n",
    "import pandas as pd\n",
    "import numpy as np\n",
    "import subprocess\n",
    "\n",
    "import matplotlib.pyplot as plt\n",
    "import seaborn as sns\n",
    "\n",
    "sns.set()\n",
    "instance_type='ml.m4.xlarge'\n",
    "\n",
    "import warnings\n",
    "warnings.filterwarnings('ignore')\n",
    "\n",
    "%matplotlib inline"
   ]
  },
  {
   "cell_type": "markdown",
   "metadata": {},
   "source": [
    "# Step 2: Data preprocessing and visualization  \n",
    "In this data preprocessing phase, you explore and visualize your data to better understand it. First, import the necessary libraries and read the data into a pandas DataFrame. After you import the data, explore the dataset. Look for the shape of the dataset and explore your columns and the types of columns that you will work with (numerical, categorical). Consider performing basic statistics on the features to get a sense of feature means and ranges. Examine your target column closely, and determine its distribution.\n",
    "\n",
    "\n",
    "### Specific questions to consider\n",
    "\n",
    "Throughout this section of the lab, consider the following questions:\n",
    "\n",
    "1. What can you deduce from the basic statistics that you ran on the features? \n",
    "2. What can you deduce from the distributions of the target classes?\n",
    "3. Is there anything else you can deduce by exploring the data?\n",
    "\n",
    "#### <span style=\"color: blue;\">Project presentation: Include a summary of your answers to these questions (and other similar questions) in your project presentation.</span>"
   ]
  },
  {
   "cell_type": "markdown",
   "metadata": {},
   "source": [
    "Start by bringing in the dataset from a public Amazon Simple Storage Service (Amazon S3) bucket to this notebook environment."
   ]
  },
  {
   "cell_type": "code",
   "execution_count": 2,
   "metadata": {},
   "outputs": [
    {
     "name": "stdout",
     "output_type": "stream",
     "text": [
      "download: s3://aws-tc-largeobjects/CUR-TF-200-ACMLFO-1/flight_delay_project/data/On_Time_Reporting_Carrier_On_Time_Performance_1987_present_2014_1.zip to ../project/data/FlightDelays/On_Time_Reporting_Carrier_On_Time_Performance_1987_present_2014_1.zip\n",
      "download: s3://aws-tc-largeobjects/CUR-TF-200-ACMLFO-1/flight_delay_project/data/On_Time_Reporting_Carrier_On_Time_Performance_1987_present_2014_10.zip to ../project/data/FlightDelays/On_Time_Reporting_Carrier_On_Time_Performance_1987_present_2014_10.zip\n",
      "download: s3://aws-tc-largeobjects/CUR-TF-200-ACMLFO-1/flight_delay_project/data/On_Time_Reporting_Carrier_On_Time_Performance_1987_present_2014_12.zip to ../project/data/FlightDelays/On_Time_Reporting_Carrier_On_Time_Performance_1987_present_2014_12.zip\n",
      "download: s3://aws-tc-largeobjects/CUR-TF-200-ACMLFO-1/flight_delay_project/data/On_Time_Reporting_Carrier_On_Time_Performance_1987_present_2014_2.zip to ../project/data/FlightDelays/On_Time_Reporting_Carrier_On_Time_Performance_1987_present_2014_2.zip\n",
      "download: s3://aws-tc-largeobjects/CUR-TF-200-ACMLFO-1/flight_delay_project/data/On_Time_Reporting_Carrier_On_Time_Performance_1987_present_2014_4.zip to ../project/data/FlightDelays/On_Time_Reporting_Carrier_On_Time_Performance_1987_present_2014_4.zip\n",
      "download: s3://aws-tc-largeobjects/CUR-TF-200-ACMLFO-1/flight_delay_project/data/On_Time_Reporting_Carrier_On_Time_Performance_1987_present_2014_5.zip to ../project/data/FlightDelays/On_Time_Reporting_Carrier_On_Time_Performance_1987_present_2014_5.zip\n",
      "download: s3://aws-tc-largeobjects/CUR-TF-200-ACMLFO-1/flight_delay_project/data/On_Time_Reporting_Carrier_On_Time_Performance_1987_present_2014_6.zip to ../project/data/FlightDelays/On_Time_Reporting_Carrier_On_Time_Performance_1987_present_2014_6.zip\n",
      "download: s3://aws-tc-largeobjects/CUR-TF-200-ACMLFO-1/flight_delay_project/data/On_Time_Reporting_Carrier_On_Time_Performance_1987_present_2014_3.zip to ../project/data/FlightDelays/On_Time_Reporting_Carrier_On_Time_Performance_1987_present_2014_3.zip\n",
      "download: s3://aws-tc-largeobjects/CUR-TF-200-ACMLFO-1/flight_delay_project/data/On_Time_Reporting_Carrier_On_Time_Performance_1987_present_2014_7.zip to ../project/data/FlightDelays/On_Time_Reporting_Carrier_On_Time_Performance_1987_present_2014_7.zip\n",
      "download: s3://aws-tc-largeobjects/CUR-TF-200-ACMLFO-1/flight_delay_project/data/On_Time_Reporting_Carrier_On_Time_Performance_1987_present_2014_8.zip to ../project/data/FlightDelays/On_Time_Reporting_Carrier_On_Time_Performance_1987_present_2014_8.zip\n",
      "download: s3://aws-tc-largeobjects/CUR-TF-200-ACMLFO-1/flight_delay_project/data/On_Time_Reporting_Carrier_On_Time_Performance_1987_present_2015_10.zip to ../project/data/FlightDelays/On_Time_Reporting_Carrier_On_Time_Performance_1987_present_2015_10.zip\n",
      "download: s3://aws-tc-largeobjects/CUR-TF-200-ACMLFO-1/flight_delay_project/data/On_Time_Reporting_Carrier_On_Time_Performance_1987_present_2015_1.zip to ../project/data/FlightDelays/On_Time_Reporting_Carrier_On_Time_Performance_1987_present_2015_1.zip\n",
      "download: s3://aws-tc-largeobjects/CUR-TF-200-ACMLFO-1/flight_delay_project/data/On_Time_Reporting_Carrier_On_Time_Performance_1987_present_2015_11.zip to ../project/data/FlightDelays/On_Time_Reporting_Carrier_On_Time_Performance_1987_present_2015_11.zip\n",
      "download: s3://aws-tc-largeobjects/CUR-TF-200-ACMLFO-1/flight_delay_project/data/On_Time_Reporting_Carrier_On_Time_Performance_1987_present_2015_2.zip to ../project/data/FlightDelays/On_Time_Reporting_Carrier_On_Time_Performance_1987_present_2015_2.zip\n",
      "download: s3://aws-tc-largeobjects/CUR-TF-200-ACMLFO-1/flight_delay_project/data/On_Time_Reporting_Carrier_On_Time_Performance_1987_present_2015_12.zip to ../project/data/FlightDelays/On_Time_Reporting_Carrier_On_Time_Performance_1987_present_2015_12.zip\n",
      "download: s3://aws-tc-largeobjects/CUR-TF-200-ACMLFO-1/flight_delay_project/data/On_Time_Reporting_Carrier_On_Time_Performance_1987_present_2015_3.zip to ../project/data/FlightDelays/On_Time_Reporting_Carrier_On_Time_Performance_1987_present_2015_3.zip\n",
      "download: s3://aws-tc-largeobjects/CUR-TF-200-ACMLFO-1/flight_delay_project/data/On_Time_Reporting_Carrier_On_Time_Performance_1987_present_2014_11.zip to ../project/data/FlightDelays/On_Time_Reporting_Carrier_On_Time_Performance_1987_present_2014_11.zip\n",
      "download: s3://aws-tc-largeobjects/CUR-TF-200-ACMLFO-1/flight_delay_project/data/On_Time_Reporting_Carrier_On_Time_Performance_1987_present_2014_9.zip to ../project/data/FlightDelays/On_Time_Reporting_Carrier_On_Time_Performance_1987_present_2014_9.zip\n",
      "download: s3://aws-tc-largeobjects/CUR-TF-200-ACMLFO-1/flight_delay_project/data/On_Time_Reporting_Carrier_On_Time_Performance_1987_present_2015_5.zip to ../project/data/FlightDelays/On_Time_Reporting_Carrier_On_Time_Performance_1987_present_2015_5.zip\n",
      "download: s3://aws-tc-largeobjects/CUR-TF-200-ACMLFO-1/flight_delay_project/data/On_Time_Reporting_Carrier_On_Time_Performance_1987_present_2015_4.zip to ../project/data/FlightDelays/On_Time_Reporting_Carrier_On_Time_Performance_1987_present_2015_4.zip\n",
      "download: s3://aws-tc-largeobjects/CUR-TF-200-ACMLFO-1/flight_delay_project/data/On_Time_Reporting_Carrier_On_Time_Performance_1987_present_2015_9.zip to ../project/data/FlightDelays/On_Time_Reporting_Carrier_On_Time_Performance_1987_present_2015_9.zip\n",
      "download: s3://aws-tc-largeobjects/CUR-TF-200-ACMLFO-1/flight_delay_project/data/On_Time_Reporting_Carrier_On_Time_Performance_1987_present_2015_6.zip to ../project/data/FlightDelays/On_Time_Reporting_Carrier_On_Time_Performance_1987_present_2015_6.zip\n",
      "download: s3://aws-tc-largeobjects/CUR-TF-200-ACMLFO-1/flight_delay_project/data/On_Time_Reporting_Carrier_On_Time_Performance_1987_present_2016_1.zip to ../project/data/FlightDelays/On_Time_Reporting_Carrier_On_Time_Performance_1987_present_2016_1.zip\n",
      "download: s3://aws-tc-largeobjects/CUR-TF-200-ACMLFO-1/flight_delay_project/data/On_Time_Reporting_Carrier_On_Time_Performance_1987_present_2016_2.zip to ../project/data/FlightDelays/On_Time_Reporting_Carrier_On_Time_Performance_1987_present_2016_2.zip\n",
      "download: s3://aws-tc-largeobjects/CUR-TF-200-ACMLFO-1/flight_delay_project/data/On_Time_Reporting_Carrier_On_Time_Performance_1987_present_2016_11.zip to ../project/data/FlightDelays/On_Time_Reporting_Carrier_On_Time_Performance_1987_present_2016_11.zip\n",
      "download: s3://aws-tc-largeobjects/CUR-TF-200-ACMLFO-1/flight_delay_project/data/On_Time_Reporting_Carrier_On_Time_Performance_1987_present_2016_10.zip to ../project/data/FlightDelays/On_Time_Reporting_Carrier_On_Time_Performance_1987_present_2016_10.zip\n",
      "download: s3://aws-tc-largeobjects/CUR-TF-200-ACMLFO-1/flight_delay_project/data/On_Time_Reporting_Carrier_On_Time_Performance_1987_present_2015_7.zip to ../project/data/FlightDelays/On_Time_Reporting_Carrier_On_Time_Performance_1987_present_2015_7.zip\n",
      "download: s3://aws-tc-largeobjects/CUR-TF-200-ACMLFO-1/flight_delay_project/data/On_Time_Reporting_Carrier_On_Time_Performance_1987_present_2016_12.zip to ../project/data/FlightDelays/On_Time_Reporting_Carrier_On_Time_Performance_1987_present_2016_12.zip\n",
      "download: s3://aws-tc-largeobjects/CUR-TF-200-ACMLFO-1/flight_delay_project/data/On_Time_Reporting_Carrier_On_Time_Performance_1987_present_2016_3.zip to ../project/data/FlightDelays/On_Time_Reporting_Carrier_On_Time_Performance_1987_present_2016_3.zip\n",
      "download: s3://aws-tc-largeobjects/CUR-TF-200-ACMLFO-1/flight_delay_project/data/On_Time_Reporting_Carrier_On_Time_Performance_1987_present_2015_8.zip to ../project/data/FlightDelays/On_Time_Reporting_Carrier_On_Time_Performance_1987_present_2015_8.zip\n",
      "download: s3://aws-tc-largeobjects/CUR-TF-200-ACMLFO-1/flight_delay_project/data/On_Time_Reporting_Carrier_On_Time_Performance_1987_present_2016_6.zip to ../project/data/FlightDelays/On_Time_Reporting_Carrier_On_Time_Performance_1987_present_2016_6.zip\n",
      "download: s3://aws-tc-largeobjects/CUR-TF-200-ACMLFO-1/flight_delay_project/data/On_Time_Reporting_Carrier_On_Time_Performance_1987_present_2016_5.zip to ../project/data/FlightDelays/On_Time_Reporting_Carrier_On_Time_Performance_1987_present_2016_5.zip\n",
      "download: s3://aws-tc-largeobjects/CUR-TF-200-ACMLFO-1/flight_delay_project/data/On_Time_Reporting_Carrier_On_Time_Performance_1987_present_2016_8.zip to ../project/data/FlightDelays/On_Time_Reporting_Carrier_On_Time_Performance_1987_present_2016_8.zip\n",
      "download: s3://aws-tc-largeobjects/CUR-TF-200-ACMLFO-1/flight_delay_project/data/On_Time_Reporting_Carrier_On_Time_Performance_1987_present_2016_4.zip to ../project/data/FlightDelays/On_Time_Reporting_Carrier_On_Time_Performance_1987_present_2016_4.zip\n",
      "download: s3://aws-tc-largeobjects/CUR-TF-200-ACMLFO-1/flight_delay_project/data/On_Time_Reporting_Carrier_On_Time_Performance_1987_present_2016_7.zip to ../project/data/FlightDelays/On_Time_Reporting_Carrier_On_Time_Performance_1987_present_2016_7.zip\n",
      "download: s3://aws-tc-largeobjects/CUR-TF-200-ACMLFO-1/flight_delay_project/data/On_Time_Reporting_Carrier_On_Time_Performance_1987_present_2017_1.zip to ../project/data/FlightDelays/On_Time_Reporting_Carrier_On_Time_Performance_1987_present_2017_1.zip\n",
      "download: s3://aws-tc-largeobjects/CUR-TF-200-ACMLFO-1/flight_delay_project/data/On_Time_Reporting_Carrier_On_Time_Performance_1987_present_2017_12.zip to ../project/data/FlightDelays/On_Time_Reporting_Carrier_On_Time_Performance_1987_present_2017_12.zip\n",
      "download: s3://aws-tc-largeobjects/CUR-TF-200-ACMLFO-1/flight_delay_project/data/On_Time_Reporting_Carrier_On_Time_Performance_1987_present_2016_9.zip to ../project/data/FlightDelays/On_Time_Reporting_Carrier_On_Time_Performance_1987_present_2016_9.zip\n",
      "download: s3://aws-tc-largeobjects/CUR-TF-200-ACMLFO-1/flight_delay_project/data/On_Time_Reporting_Carrier_On_Time_Performance_1987_present_2017_2.zip to ../project/data/FlightDelays/On_Time_Reporting_Carrier_On_Time_Performance_1987_present_2017_2.zip\n",
      "download: s3://aws-tc-largeobjects/CUR-TF-200-ACMLFO-1/flight_delay_project/data/On_Time_Reporting_Carrier_On_Time_Performance_1987_present_2017_11.zip to ../project/data/FlightDelays/On_Time_Reporting_Carrier_On_Time_Performance_1987_present_2017_11.zip\n",
      "download: s3://aws-tc-largeobjects/CUR-TF-200-ACMLFO-1/flight_delay_project/data/On_Time_Reporting_Carrier_On_Time_Performance_1987_present_2017_10.zip to ../project/data/FlightDelays/On_Time_Reporting_Carrier_On_Time_Performance_1987_present_2017_10.zip\n",
      "download: s3://aws-tc-largeobjects/CUR-TF-200-ACMLFO-1/flight_delay_project/data/On_Time_Reporting_Carrier_On_Time_Performance_1987_present_2017_6.zip to ../project/data/FlightDelays/On_Time_Reporting_Carrier_On_Time_Performance_1987_present_2017_6.zip\n",
      "download: s3://aws-tc-largeobjects/CUR-TF-200-ACMLFO-1/flight_delay_project/data/On_Time_Reporting_Carrier_On_Time_Performance_1987_present_2017_5.zip to ../project/data/FlightDelays/On_Time_Reporting_Carrier_On_Time_Performance_1987_present_2017_5.zip\n",
      "download: s3://aws-tc-largeobjects/CUR-TF-200-ACMLFO-1/flight_delay_project/data/On_Time_Reporting_Carrier_On_Time_Performance_1987_present_2017_4.zip to ../project/data/FlightDelays/On_Time_Reporting_Carrier_On_Time_Performance_1987_present_2017_4.zip\n",
      "download: s3://aws-tc-largeobjects/CUR-TF-200-ACMLFO-1/flight_delay_project/data/On_Time_Reporting_Carrier_On_Time_Performance_1987_present_2017_7.zip to ../project/data/FlightDelays/On_Time_Reporting_Carrier_On_Time_Performance_1987_present_2017_7.zip\n",
      "download: s3://aws-tc-largeobjects/CUR-TF-200-ACMLFO-1/flight_delay_project/data/On_Time_Reporting_Carrier_On_Time_Performance_1987_present_2017_9.zip to ../project/data/FlightDelays/On_Time_Reporting_Carrier_On_Time_Performance_1987_present_2017_9.zip\n",
      "download: s3://aws-tc-largeobjects/CUR-TF-200-ACMLFO-1/flight_delay_project/data/On_Time_Reporting_Carrier_On_Time_Performance_1987_present_2017_8.zip to ../project/data/FlightDelays/On_Time_Reporting_Carrier_On_Time_Performance_1987_present_2017_8.zip\n",
      "download: s3://aws-tc-largeobjects/CUR-TF-200-ACMLFO-1/flight_delay_project/data/On_Time_Reporting_Carrier_On_Time_Performance_1987_present_2018_1.zip to ../project/data/FlightDelays/On_Time_Reporting_Carrier_On_Time_Performance_1987_present_2018_1.zip\n",
      "download: s3://aws-tc-largeobjects/CUR-TF-200-ACMLFO-1/flight_delay_project/data/On_Time_Reporting_Carrier_On_Time_Performance_1987_present_2017_3.zip to ../project/data/FlightDelays/On_Time_Reporting_Carrier_On_Time_Performance_1987_present_2017_3.zip\n",
      "download: s3://aws-tc-largeobjects/CUR-TF-200-ACMLFO-1/flight_delay_project/data/On_Time_Reporting_Carrier_On_Time_Performance_1987_present_2018_10.zip to ../project/data/FlightDelays/On_Time_Reporting_Carrier_On_Time_Performance_1987_present_2018_10.zip\n",
      "download: s3://aws-tc-largeobjects/CUR-TF-200-ACMLFO-1/flight_delay_project/data/On_Time_Reporting_Carrier_On_Time_Performance_1987_present_2018_11.zip to ../project/data/FlightDelays/On_Time_Reporting_Carrier_On_Time_Performance_1987_present_2018_11.zip\n",
      "download: s3://aws-tc-largeobjects/CUR-TF-200-ACMLFO-1/flight_delay_project/data/On_Time_Reporting_Carrier_On_Time_Performance_1987_present_2018_2.zip to ../project/data/FlightDelays/On_Time_Reporting_Carrier_On_Time_Performance_1987_present_2018_2.zip\n",
      "download: s3://aws-tc-largeobjects/CUR-TF-200-ACMLFO-1/flight_delay_project/data/On_Time_Reporting_Carrier_On_Time_Performance_1987_present_2018_3.zip to ../project/data/FlightDelays/On_Time_Reporting_Carrier_On_Time_Performance_1987_present_2018_3.zip\n",
      "download: s3://aws-tc-largeobjects/CUR-TF-200-ACMLFO-1/flight_delay_project/data/On_Time_Reporting_Carrier_On_Time_Performance_1987_present_2018_12.zip to ../project/data/FlightDelays/On_Time_Reporting_Carrier_On_Time_Performance_1987_present_2018_12.zip\n",
      "download: s3://aws-tc-largeobjects/CUR-TF-200-ACMLFO-1/flight_delay_project/data/On_Time_Reporting_Carrier_On_Time_Performance_1987_present_2018_4.zip to ../project/data/FlightDelays/On_Time_Reporting_Carrier_On_Time_Performance_1987_present_2018_4.zip\n",
      "download: s3://aws-tc-largeobjects/CUR-TF-200-ACMLFO-1/flight_delay_project/data/On_Time_Reporting_Carrier_On_Time_Performance_1987_present_2018_6.zip to ../project/data/FlightDelays/On_Time_Reporting_Carrier_On_Time_Performance_1987_present_2018_6.zip\n",
      "download: s3://aws-tc-largeobjects/CUR-TF-200-ACMLFO-1/flight_delay_project/data/On_Time_Reporting_Carrier_On_Time_Performance_1987_present_2018_5.zip to ../project/data/FlightDelays/On_Time_Reporting_Carrier_On_Time_Performance_1987_present_2018_5.zip\n",
      "download: s3://aws-tc-largeobjects/CUR-TF-200-ACMLFO-1/flight_delay_project/data/On_Time_Reporting_Carrier_On_Time_Performance_1987_present_2018_9.zip to ../project/data/FlightDelays/On_Time_Reporting_Carrier_On_Time_Performance_1987_present_2018_9.zip\n",
      "download: s3://aws-tc-largeobjects/CUR-TF-200-ACMLFO-1/flight_delay_project/data/On_Time_Reporting_Carrier_On_Time_Performance_1987_present_2018_7.zip to ../project/data/FlightDelays/On_Time_Reporting_Carrier_On_Time_Performance_1987_present_2018_7.zip\n",
      "download: s3://aws-tc-largeobjects/CUR-TF-200-ACMLFO-1/flight_delay_project/data/On_Time_Reporting_Carrier_On_Time_Performance_1987_present_2018_8.zip to ../project/data/FlightDelays/On_Time_Reporting_Carrier_On_Time_Performance_1987_present_2018_8.zip\n"
     ]
    }
   ],
   "source": [
    "# download the files\n",
    "\n",
    "zip_path = '/home/ec2-user/SageMaker/project/data/FlightDelays/'\n",
    "base_path = '/home/ec2-user/SageMaker/project/data/FlightDelays/'\n",
    "csv_base_path = '/home/ec2-user/SageMaker/project/data/csvFlightDelays/'\n",
    "\n",
    "!mkdir -p {zip_path}\n",
    "!mkdir -p {csv_base_path}\n",
    "!aws s3 cp s3://aws-tc-largeobjects/CUR-TF-200-ACMLFO-1/flight_delay_project/data/ {zip_path} --recursive\n"
   ]
  },
  {
   "cell_type": "code",
   "execution_count": 3,
   "metadata": {},
   "outputs": [
    {
     "data": {
      "text/plain": [
       "60"
      ]
     },
     "execution_count": 3,
     "metadata": {},
     "output_type": "execute_result"
    }
   ],
   "source": [
    "zip_files = [str(file) for file in list(Path(base_path).iterdir()) if '.zip' in str(file)]\n",
    "len(zip_files)"
   ]
  },
  {
   "cell_type": "markdown",
   "metadata": {},
   "source": [
    "Extract comma-separated values (CSV) files from the .zip files."
   ]
  },
  {
   "cell_type": "code",
   "execution_count": 4,
   "metadata": {},
   "outputs": [
    {
     "name": "stdout",
     "output_type": "stream",
     "text": [
      "Extracting /home/ec2-user/SageMaker/project/data/FlightDelays/On_Time_Reporting_Carrier_On_Time_Performance_1987_present_2017_10.zip \n",
      "Extracting /home/ec2-user/SageMaker/project/data/FlightDelays/On_Time_Reporting_Carrier_On_Time_Performance_1987_present_2015_5.zip \n",
      "Extracting /home/ec2-user/SageMaker/project/data/FlightDelays/On_Time_Reporting_Carrier_On_Time_Performance_1987_present_2015_1.zip \n",
      "Extracting /home/ec2-user/SageMaker/project/data/FlightDelays/On_Time_Reporting_Carrier_On_Time_Performance_1987_present_2015_11.zip \n",
      "Extracting /home/ec2-user/SageMaker/project/data/FlightDelays/On_Time_Reporting_Carrier_On_Time_Performance_1987_present_2018_10.zip \n",
      "Extracting /home/ec2-user/SageMaker/project/data/FlightDelays/On_Time_Reporting_Carrier_On_Time_Performance_1987_present_2016_1.zip \n",
      "Extracting /home/ec2-user/SageMaker/project/data/FlightDelays/On_Time_Reporting_Carrier_On_Time_Performance_1987_present_2014_8.zip \n",
      "Extracting /home/ec2-user/SageMaker/project/data/FlightDelays/On_Time_Reporting_Carrier_On_Time_Performance_1987_present_2017_6.zip \n",
      "Extracting /home/ec2-user/SageMaker/project/data/FlightDelays/On_Time_Reporting_Carrier_On_Time_Performance_1987_present_2017_8.zip \n",
      "Extracting /home/ec2-user/SageMaker/project/data/FlightDelays/On_Time_Reporting_Carrier_On_Time_Performance_1987_present_2016_12.zip \n",
      "Extracting /home/ec2-user/SageMaker/project/data/FlightDelays/On_Time_Reporting_Carrier_On_Time_Performance_1987_present_2015_2.zip \n",
      "Extracting /home/ec2-user/SageMaker/project/data/FlightDelays/On_Time_Reporting_Carrier_On_Time_Performance_1987_present_2018_12.zip \n",
      "Extracting /home/ec2-user/SageMaker/project/data/FlightDelays/On_Time_Reporting_Carrier_On_Time_Performance_1987_present_2018_7.zip \n",
      "Extracting /home/ec2-user/SageMaker/project/data/FlightDelays/On_Time_Reporting_Carrier_On_Time_Performance_1987_present_2016_8.zip \n",
      "Extracting /home/ec2-user/SageMaker/project/data/FlightDelays/On_Time_Reporting_Carrier_On_Time_Performance_1987_present_2016_11.zip \n",
      "Extracting /home/ec2-user/SageMaker/project/data/FlightDelays/On_Time_Reporting_Carrier_On_Time_Performance_1987_present_2015_12.zip \n",
      "Extracting /home/ec2-user/SageMaker/project/data/FlightDelays/On_Time_Reporting_Carrier_On_Time_Performance_1987_present_2016_3.zip \n",
      "Extracting /home/ec2-user/SageMaker/project/data/FlightDelays/On_Time_Reporting_Carrier_On_Time_Performance_1987_present_2018_8.zip \n",
      "Extracting /home/ec2-user/SageMaker/project/data/FlightDelays/On_Time_Reporting_Carrier_On_Time_Performance_1987_present_2018_9.zip \n",
      "Extracting /home/ec2-user/SageMaker/project/data/FlightDelays/On_Time_Reporting_Carrier_On_Time_Performance_1987_present_2016_4.zip \n",
      "Extracting /home/ec2-user/SageMaker/project/data/FlightDelays/On_Time_Reporting_Carrier_On_Time_Performance_1987_present_2017_9.zip \n",
      "Extracting /home/ec2-user/SageMaker/project/data/FlightDelays/On_Time_Reporting_Carrier_On_Time_Performance_1987_present_2018_11.zip \n",
      "Extracting /home/ec2-user/SageMaker/project/data/FlightDelays/On_Time_Reporting_Carrier_On_Time_Performance_1987_present_2017_2.zip \n",
      "Extracting /home/ec2-user/SageMaker/project/data/FlightDelays/On_Time_Reporting_Carrier_On_Time_Performance_1987_present_2014_5.zip \n",
      "Extracting /home/ec2-user/SageMaker/project/data/FlightDelays/On_Time_Reporting_Carrier_On_Time_Performance_1987_present_2014_11.zip \n",
      "Extracting /home/ec2-user/SageMaker/project/data/FlightDelays/On_Time_Reporting_Carrier_On_Time_Performance_1987_present_2017_3.zip \n",
      "Extracting /home/ec2-user/SageMaker/project/data/FlightDelays/On_Time_Reporting_Carrier_On_Time_Performance_1987_present_2018_4.zip \n",
      "Extracting /home/ec2-user/SageMaker/project/data/FlightDelays/On_Time_Reporting_Carrier_On_Time_Performance_1987_present_2016_9.zip \n",
      "Extracting /home/ec2-user/SageMaker/project/data/FlightDelays/On_Time_Reporting_Carrier_On_Time_Performance_1987_present_2017_1.zip \n",
      "Extracting /home/ec2-user/SageMaker/project/data/FlightDelays/On_Time_Reporting_Carrier_On_Time_Performance_1987_present_2015_8.zip \n",
      "Extracting /home/ec2-user/SageMaker/project/data/FlightDelays/On_Time_Reporting_Carrier_On_Time_Performance_1987_present_2015_10.zip \n",
      "Extracting /home/ec2-user/SageMaker/project/data/FlightDelays/On_Time_Reporting_Carrier_On_Time_Performance_1987_present_2016_10.zip \n",
      "Extracting /home/ec2-user/SageMaker/project/data/FlightDelays/On_Time_Reporting_Carrier_On_Time_Performance_1987_present_2014_10.zip \n",
      "Extracting /home/ec2-user/SageMaker/project/data/FlightDelays/On_Time_Reporting_Carrier_On_Time_Performance_1987_present_2015_9.zip \n",
      "Extracting /home/ec2-user/SageMaker/project/data/FlightDelays/On_Time_Reporting_Carrier_On_Time_Performance_1987_present_2014_7.zip \n",
      "Extracting /home/ec2-user/SageMaker/project/data/FlightDelays/On_Time_Reporting_Carrier_On_Time_Performance_1987_present_2014_1.zip \n",
      "Extracting /home/ec2-user/SageMaker/project/data/FlightDelays/On_Time_Reporting_Carrier_On_Time_Performance_1987_present_2015_7.zip \n",
      "Extracting /home/ec2-user/SageMaker/project/data/FlightDelays/On_Time_Reporting_Carrier_On_Time_Performance_1987_present_2017_11.zip \n",
      "Extracting /home/ec2-user/SageMaker/project/data/FlightDelays/On_Time_Reporting_Carrier_On_Time_Performance_1987_present_2018_2.zip \n",
      "Extracting /home/ec2-user/SageMaker/project/data/FlightDelays/On_Time_Reporting_Carrier_On_Time_Performance_1987_present_2016_6.zip \n",
      "Extracting /home/ec2-user/SageMaker/project/data/FlightDelays/On_Time_Reporting_Carrier_On_Time_Performance_1987_present_2017_12.zip \n",
      "Extracting /home/ec2-user/SageMaker/project/data/FlightDelays/On_Time_Reporting_Carrier_On_Time_Performance_1987_present_2017_7.zip \n",
      "Extracting /home/ec2-user/SageMaker/project/data/FlightDelays/On_Time_Reporting_Carrier_On_Time_Performance_1987_present_2018_5.zip \n",
      "Extracting /home/ec2-user/SageMaker/project/data/FlightDelays/On_Time_Reporting_Carrier_On_Time_Performance_1987_present_2014_2.zip \n",
      "Extracting /home/ec2-user/SageMaker/project/data/FlightDelays/On_Time_Reporting_Carrier_On_Time_Performance_1987_present_2016_2.zip \n",
      "Extracting /home/ec2-user/SageMaker/project/data/FlightDelays/On_Time_Reporting_Carrier_On_Time_Performance_1987_present_2015_4.zip \n",
      "Extracting /home/ec2-user/SageMaker/project/data/FlightDelays/On_Time_Reporting_Carrier_On_Time_Performance_1987_present_2016_7.zip \n",
      "Extracting /home/ec2-user/SageMaker/project/data/FlightDelays/On_Time_Reporting_Carrier_On_Time_Performance_1987_present_2018_6.zip \n",
      "Extracting /home/ec2-user/SageMaker/project/data/FlightDelays/On_Time_Reporting_Carrier_On_Time_Performance_1987_present_2015_3.zip \n",
      "Extracting /home/ec2-user/SageMaker/project/data/FlightDelays/On_Time_Reporting_Carrier_On_Time_Performance_1987_present_2017_4.zip \n",
      "Extracting /home/ec2-user/SageMaker/project/data/FlightDelays/On_Time_Reporting_Carrier_On_Time_Performance_1987_present_2018_3.zip \n",
      "Extracting /home/ec2-user/SageMaker/project/data/FlightDelays/On_Time_Reporting_Carrier_On_Time_Performance_1987_present_2018_1.zip \n",
      "Extracting /home/ec2-user/SageMaker/project/data/FlightDelays/On_Time_Reporting_Carrier_On_Time_Performance_1987_present_2014_9.zip \n",
      "Extracting /home/ec2-user/SageMaker/project/data/FlightDelays/On_Time_Reporting_Carrier_On_Time_Performance_1987_present_2015_6.zip \n",
      "Extracting /home/ec2-user/SageMaker/project/data/FlightDelays/On_Time_Reporting_Carrier_On_Time_Performance_1987_present_2014_6.zip \n",
      "Extracting /home/ec2-user/SageMaker/project/data/FlightDelays/On_Time_Reporting_Carrier_On_Time_Performance_1987_present_2014_4.zip \n",
      "Extracting /home/ec2-user/SageMaker/project/data/FlightDelays/On_Time_Reporting_Carrier_On_Time_Performance_1987_present_2014_3.zip \n",
      "Extracting /home/ec2-user/SageMaker/project/data/FlightDelays/On_Time_Reporting_Carrier_On_Time_Performance_1987_present_2014_12.zip \n",
      "Extracting /home/ec2-user/SageMaker/project/data/FlightDelays/On_Time_Reporting_Carrier_On_Time_Performance_1987_present_2017_5.zip \n",
      "Extracting /home/ec2-user/SageMaker/project/data/FlightDelays/On_Time_Reporting_Carrier_On_Time_Performance_1987_present_2016_5.zip \n",
      "Files Extracted\n"
     ]
    }
   ],
   "source": [
    "def zip2csv(zipFile_name , file_path):\n",
    "    \"\"\"\n",
    "    Extract csv from zip files\n",
    "    zipFile_name: name of the zip file\n",
    "    file_path : name of the folder to store csv\n",
    "    \"\"\"\n",
    "\n",
    "    try:\n",
    "        with ZipFile(zipFile_name, 'r') as z: \n",
    "            print(f'Extracting {zipFile_name} ') \n",
    "            z.extractall(path=file_path) \n",
    "    except:\n",
    "        print(f'zip2csv failed for {zipFile_name}')\n",
    "\n",
    "for file in zip_files:\n",
    "    zip2csv(file, csv_base_path)\n",
    "\n",
    "print(\"Files Extracted\")"
   ]
  },
  {
   "cell_type": "code",
   "execution_count": 5,
   "metadata": {},
   "outputs": [
    {
     "data": {
      "text/plain": [
       "60"
      ]
     },
     "execution_count": 5,
     "metadata": {},
     "output_type": "execute_result"
    }
   ],
   "source": [
    "csv_files = [str(file) for file in list(Path(csv_base_path).iterdir()) if '.csv' in str(file)]\n",
    "len(csv_files)"
   ]
  },
  {
   "cell_type": "markdown",
   "metadata": {},
   "source": [
    "Before you load the CSV file, read the HTML file from the extracted folder. This HTML file includes the background and more information about the features that are included in the dataset."
   ]
  },
  {
   "cell_type": "code",
   "execution_count": 6,
   "metadata": {},
   "outputs": [
    {
     "data": {
      "text/html": [
       "\n",
       "        <iframe\n",
       "            width=\"1000\"\n",
       "            height=\"600\"\n",
       "            src=\"../project/data/csvFlightDelays/readme.html\"\n",
       "            frameborder=\"0\"\n",
       "            allowfullscreen\n",
       "        ></iframe>\n",
       "        "
      ],
      "text/plain": [
       "<IPython.lib.display.IFrame at 0x7fd62ffccf98>"
      ]
     },
     "execution_count": 6,
     "metadata": {},
     "output_type": "execute_result"
    }
   ],
   "source": [
    "from IPython.display import IFrame\n",
    "\n",
    "IFrame(src=os.path.relpath(f\"{csv_base_path}readme.html\"), width=1000, height=600)"
   ]
  },
  {
   "cell_type": "markdown",
   "metadata": {},
   "source": [
    "#### Load sample CSV file\n",
    "\n",
    "Before you combine all the CSV files, examine the data from a single CSV file. By using pandas, read the `On_Time_Reporting_Carrier_On_Time_Performance_(1987_present)_2018_9.csv` file first. You can use the built-in `read_csv` function in Python ([pandas.read_csv documentation](https://pandas.pydata.org/pandas-docs/stable/reference/api/pandas.read_csv.html))."
   ]
  },
  {
   "cell_type": "code",
   "execution_count": 7,
   "metadata": {},
   "outputs": [],
   "source": [
    "df_temp = pd.read_csv(f\"{csv_base_path}On_Time_Reporting_Carrier_On_Time_Performance_(1987_present)_2018_9.csv\")"
   ]
  },
  {
   "cell_type": "markdown",
   "metadata": {},
   "source": [
    "**Question**: Print the row and column length in the dataset, and print the column names.\n",
    "\n",
    "**Hint**: To view the rows and columns of a DataFrame, use the `<DataFrame>.shape` function. To view the column names, use the `<DataFrame>.columns` function."
   ]
  },
  {
   "cell_type": "code",
   "execution_count": 8,
   "metadata": {},
   "outputs": [
    {
     "name": "stdout",
     "output_type": "stream",
     "text": [
      "Rows and columns in one CSV file is (585749, 110)\n"
     ]
    }
   ],
   "source": [
    "df_shape = df_temp.shape # **ENTER YOUR CODE HERE**\n",
    "print(f'Rows and columns in one CSV file is {df_shape}')"
   ]
  },
  {
   "cell_type": "markdown",
   "metadata": {},
   "source": [
    "**Question**: Print the first 10 rows of the dataset.  \n",
    "\n",
    "**Hint**: To print `x` number of rows, use the built-in `head(x)` function in pandas."
   ]
  },
  {
   "cell_type": "code",
   "execution_count": 9,
   "metadata": {},
   "outputs": [
    {
     "data": {
      "text/html": [
       "<div>\n",
       "<style scoped>\n",
       "    .dataframe tbody tr th:only-of-type {\n",
       "        vertical-align: middle;\n",
       "    }\n",
       "\n",
       "    .dataframe tbody tr th {\n",
       "        vertical-align: top;\n",
       "    }\n",
       "\n",
       "    .dataframe thead th {\n",
       "        text-align: right;\n",
       "    }\n",
       "</style>\n",
       "<table border=\"1\" class=\"dataframe\">\n",
       "  <thead>\n",
       "    <tr style=\"text-align: right;\">\n",
       "      <th></th>\n",
       "      <th>Year</th>\n",
       "      <th>Quarter</th>\n",
       "      <th>Month</th>\n",
       "      <th>DayofMonth</th>\n",
       "      <th>DayOfWeek</th>\n",
       "      <th>FlightDate</th>\n",
       "      <th>Reporting_Airline</th>\n",
       "      <th>DOT_ID_Reporting_Airline</th>\n",
       "      <th>IATA_CODE_Reporting_Airline</th>\n",
       "      <th>Tail_Number</th>\n",
       "      <th>...</th>\n",
       "      <th>Div4TailNum</th>\n",
       "      <th>Div5Airport</th>\n",
       "      <th>Div5AirportID</th>\n",
       "      <th>Div5AirportSeqID</th>\n",
       "      <th>Div5WheelsOn</th>\n",
       "      <th>Div5TotalGTime</th>\n",
       "      <th>Div5LongestGTime</th>\n",
       "      <th>Div5WheelsOff</th>\n",
       "      <th>Div5TailNum</th>\n",
       "      <th>Unnamed: 109</th>\n",
       "    </tr>\n",
       "  </thead>\n",
       "  <tbody>\n",
       "    <tr>\n",
       "      <th>0</th>\n",
       "      <td>2018</td>\n",
       "      <td>3</td>\n",
       "      <td>9</td>\n",
       "      <td>3</td>\n",
       "      <td>1</td>\n",
       "      <td>2018-09-03</td>\n",
       "      <td>9E</td>\n",
       "      <td>20363</td>\n",
       "      <td>9E</td>\n",
       "      <td>N908XJ</td>\n",
       "      <td>...</td>\n",
       "      <td>NaN</td>\n",
       "      <td>NaN</td>\n",
       "      <td>NaN</td>\n",
       "      <td>NaN</td>\n",
       "      <td>NaN</td>\n",
       "      <td>NaN</td>\n",
       "      <td>NaN</td>\n",
       "      <td>NaN</td>\n",
       "      <td>NaN</td>\n",
       "      <td>NaN</td>\n",
       "    </tr>\n",
       "    <tr>\n",
       "      <th>1</th>\n",
       "      <td>2018</td>\n",
       "      <td>3</td>\n",
       "      <td>9</td>\n",
       "      <td>9</td>\n",
       "      <td>7</td>\n",
       "      <td>2018-09-09</td>\n",
       "      <td>9E</td>\n",
       "      <td>20363</td>\n",
       "      <td>9E</td>\n",
       "      <td>N315PQ</td>\n",
       "      <td>...</td>\n",
       "      <td>NaN</td>\n",
       "      <td>NaN</td>\n",
       "      <td>NaN</td>\n",
       "      <td>NaN</td>\n",
       "      <td>NaN</td>\n",
       "      <td>NaN</td>\n",
       "      <td>NaN</td>\n",
       "      <td>NaN</td>\n",
       "      <td>NaN</td>\n",
       "      <td>NaN</td>\n",
       "    </tr>\n",
       "    <tr>\n",
       "      <th>2</th>\n",
       "      <td>2018</td>\n",
       "      <td>3</td>\n",
       "      <td>9</td>\n",
       "      <td>10</td>\n",
       "      <td>1</td>\n",
       "      <td>2018-09-10</td>\n",
       "      <td>9E</td>\n",
       "      <td>20363</td>\n",
       "      <td>9E</td>\n",
       "      <td>N582CA</td>\n",
       "      <td>...</td>\n",
       "      <td>NaN</td>\n",
       "      <td>NaN</td>\n",
       "      <td>NaN</td>\n",
       "      <td>NaN</td>\n",
       "      <td>NaN</td>\n",
       "      <td>NaN</td>\n",
       "      <td>NaN</td>\n",
       "      <td>NaN</td>\n",
       "      <td>NaN</td>\n",
       "      <td>NaN</td>\n",
       "    </tr>\n",
       "    <tr>\n",
       "      <th>3</th>\n",
       "      <td>2018</td>\n",
       "      <td>3</td>\n",
       "      <td>9</td>\n",
       "      <td>13</td>\n",
       "      <td>4</td>\n",
       "      <td>2018-09-13</td>\n",
       "      <td>9E</td>\n",
       "      <td>20363</td>\n",
       "      <td>9E</td>\n",
       "      <td>N292PQ</td>\n",
       "      <td>...</td>\n",
       "      <td>NaN</td>\n",
       "      <td>NaN</td>\n",
       "      <td>NaN</td>\n",
       "      <td>NaN</td>\n",
       "      <td>NaN</td>\n",
       "      <td>NaN</td>\n",
       "      <td>NaN</td>\n",
       "      <td>NaN</td>\n",
       "      <td>NaN</td>\n",
       "      <td>NaN</td>\n",
       "    </tr>\n",
       "    <tr>\n",
       "      <th>4</th>\n",
       "      <td>2018</td>\n",
       "      <td>3</td>\n",
       "      <td>9</td>\n",
       "      <td>14</td>\n",
       "      <td>5</td>\n",
       "      <td>2018-09-14</td>\n",
       "      <td>9E</td>\n",
       "      <td>20363</td>\n",
       "      <td>9E</td>\n",
       "      <td>N600LR</td>\n",
       "      <td>...</td>\n",
       "      <td>NaN</td>\n",
       "      <td>NaN</td>\n",
       "      <td>NaN</td>\n",
       "      <td>NaN</td>\n",
       "      <td>NaN</td>\n",
       "      <td>NaN</td>\n",
       "      <td>NaN</td>\n",
       "      <td>NaN</td>\n",
       "      <td>NaN</td>\n",
       "      <td>NaN</td>\n",
       "    </tr>\n",
       "    <tr>\n",
       "      <th>5</th>\n",
       "      <td>2018</td>\n",
       "      <td>3</td>\n",
       "      <td>9</td>\n",
       "      <td>16</td>\n",
       "      <td>7</td>\n",
       "      <td>2018-09-16</td>\n",
       "      <td>9E</td>\n",
       "      <td>20363</td>\n",
       "      <td>9E</td>\n",
       "      <td>N316PQ</td>\n",
       "      <td>...</td>\n",
       "      <td>NaN</td>\n",
       "      <td>NaN</td>\n",
       "      <td>NaN</td>\n",
       "      <td>NaN</td>\n",
       "      <td>NaN</td>\n",
       "      <td>NaN</td>\n",
       "      <td>NaN</td>\n",
       "      <td>NaN</td>\n",
       "      <td>NaN</td>\n",
       "      <td>NaN</td>\n",
       "    </tr>\n",
       "    <tr>\n",
       "      <th>6</th>\n",
       "      <td>2018</td>\n",
       "      <td>3</td>\n",
       "      <td>9</td>\n",
       "      <td>17</td>\n",
       "      <td>1</td>\n",
       "      <td>2018-09-17</td>\n",
       "      <td>9E</td>\n",
       "      <td>20363</td>\n",
       "      <td>9E</td>\n",
       "      <td>N916XJ</td>\n",
       "      <td>...</td>\n",
       "      <td>NaN</td>\n",
       "      <td>NaN</td>\n",
       "      <td>NaN</td>\n",
       "      <td>NaN</td>\n",
       "      <td>NaN</td>\n",
       "      <td>NaN</td>\n",
       "      <td>NaN</td>\n",
       "      <td>NaN</td>\n",
       "      <td>NaN</td>\n",
       "      <td>NaN</td>\n",
       "    </tr>\n",
       "    <tr>\n",
       "      <th>7</th>\n",
       "      <td>2018</td>\n",
       "      <td>3</td>\n",
       "      <td>9</td>\n",
       "      <td>20</td>\n",
       "      <td>4</td>\n",
       "      <td>2018-09-20</td>\n",
       "      <td>9E</td>\n",
       "      <td>20363</td>\n",
       "      <td>9E</td>\n",
       "      <td>N371CA</td>\n",
       "      <td>...</td>\n",
       "      <td>NaN</td>\n",
       "      <td>NaN</td>\n",
       "      <td>NaN</td>\n",
       "      <td>NaN</td>\n",
       "      <td>NaN</td>\n",
       "      <td>NaN</td>\n",
       "      <td>NaN</td>\n",
       "      <td>NaN</td>\n",
       "      <td>NaN</td>\n",
       "      <td>NaN</td>\n",
       "    </tr>\n",
       "    <tr>\n",
       "      <th>8</th>\n",
       "      <td>2018</td>\n",
       "      <td>3</td>\n",
       "      <td>9</td>\n",
       "      <td>21</td>\n",
       "      <td>5</td>\n",
       "      <td>2018-09-21</td>\n",
       "      <td>9E</td>\n",
       "      <td>20363</td>\n",
       "      <td>9E</td>\n",
       "      <td>N601LR</td>\n",
       "      <td>...</td>\n",
       "      <td>NaN</td>\n",
       "      <td>NaN</td>\n",
       "      <td>NaN</td>\n",
       "      <td>NaN</td>\n",
       "      <td>NaN</td>\n",
       "      <td>NaN</td>\n",
       "      <td>NaN</td>\n",
       "      <td>NaN</td>\n",
       "      <td>NaN</td>\n",
       "      <td>NaN</td>\n",
       "    </tr>\n",
       "    <tr>\n",
       "      <th>9</th>\n",
       "      <td>2018</td>\n",
       "      <td>3</td>\n",
       "      <td>9</td>\n",
       "      <td>23</td>\n",
       "      <td>7</td>\n",
       "      <td>2018-09-23</td>\n",
       "      <td>9E</td>\n",
       "      <td>20363</td>\n",
       "      <td>9E</td>\n",
       "      <td>N906XJ</td>\n",
       "      <td>...</td>\n",
       "      <td>NaN</td>\n",
       "      <td>NaN</td>\n",
       "      <td>NaN</td>\n",
       "      <td>NaN</td>\n",
       "      <td>NaN</td>\n",
       "      <td>NaN</td>\n",
       "      <td>NaN</td>\n",
       "      <td>NaN</td>\n",
       "      <td>NaN</td>\n",
       "      <td>NaN</td>\n",
       "    </tr>\n",
       "  </tbody>\n",
       "</table>\n",
       "<p>10 rows × 110 columns</p>\n",
       "</div>"
      ],
      "text/plain": [
       "   Year  Quarter  Month  DayofMonth  DayOfWeek  FlightDate Reporting_Airline  \\\n",
       "0  2018        3      9           3          1  2018-09-03                9E   \n",
       "1  2018        3      9           9          7  2018-09-09                9E   \n",
       "2  2018        3      9          10          1  2018-09-10                9E   \n",
       "3  2018        3      9          13          4  2018-09-13                9E   \n",
       "4  2018        3      9          14          5  2018-09-14                9E   \n",
       "5  2018        3      9          16          7  2018-09-16                9E   \n",
       "6  2018        3      9          17          1  2018-09-17                9E   \n",
       "7  2018        3      9          20          4  2018-09-20                9E   \n",
       "8  2018        3      9          21          5  2018-09-21                9E   \n",
       "9  2018        3      9          23          7  2018-09-23                9E   \n",
       "\n",
       "   DOT_ID_Reporting_Airline IATA_CODE_Reporting_Airline Tail_Number  ...  \\\n",
       "0                     20363                          9E      N908XJ  ...   \n",
       "1                     20363                          9E      N315PQ  ...   \n",
       "2                     20363                          9E      N582CA  ...   \n",
       "3                     20363                          9E      N292PQ  ...   \n",
       "4                     20363                          9E      N600LR  ...   \n",
       "5                     20363                          9E      N316PQ  ...   \n",
       "6                     20363                          9E      N916XJ  ...   \n",
       "7                     20363                          9E      N371CA  ...   \n",
       "8                     20363                          9E      N601LR  ...   \n",
       "9                     20363                          9E      N906XJ  ...   \n",
       "\n",
       "   Div4TailNum  Div5Airport  Div5AirportID  Div5AirportSeqID Div5WheelsOn  \\\n",
       "0          NaN          NaN            NaN               NaN          NaN   \n",
       "1          NaN          NaN            NaN               NaN          NaN   \n",
       "2          NaN          NaN            NaN               NaN          NaN   \n",
       "3          NaN          NaN            NaN               NaN          NaN   \n",
       "4          NaN          NaN            NaN               NaN          NaN   \n",
       "5          NaN          NaN            NaN               NaN          NaN   \n",
       "6          NaN          NaN            NaN               NaN          NaN   \n",
       "7          NaN          NaN            NaN               NaN          NaN   \n",
       "8          NaN          NaN            NaN               NaN          NaN   \n",
       "9          NaN          NaN            NaN               NaN          NaN   \n",
       "\n",
       "  Div5TotalGTime Div5LongestGTime  Div5WheelsOff Div5TailNum  Unnamed: 109  \n",
       "0            NaN              NaN            NaN         NaN           NaN  \n",
       "1            NaN              NaN            NaN         NaN           NaN  \n",
       "2            NaN              NaN            NaN         NaN           NaN  \n",
       "3            NaN              NaN            NaN         NaN           NaN  \n",
       "4            NaN              NaN            NaN         NaN           NaN  \n",
       "5            NaN              NaN            NaN         NaN           NaN  \n",
       "6            NaN              NaN            NaN         NaN           NaN  \n",
       "7            NaN              NaN            NaN         NaN           NaN  \n",
       "8            NaN              NaN            NaN         NaN           NaN  \n",
       "9            NaN              NaN            NaN         NaN           NaN  \n",
       "\n",
       "[10 rows x 110 columns]"
      ]
     },
     "execution_count": 9,
     "metadata": {},
     "output_type": "execute_result"
    }
   ],
   "source": [
    "# Enter your code here\n",
    "df_temp.head(10)"
   ]
  },
  {
   "cell_type": "markdown",
   "metadata": {},
   "source": [
    "**Question**: Print all the columns in the dataset. To view the column names, use `<DataFrame>.columns`."
   ]
  },
  {
   "cell_type": "code",
   "execution_count": 11,
   "metadata": {},
   "outputs": [
    {
     "name": "stdout",
     "output_type": "stream",
     "text": [
      "The column names are :\n",
      "#########\n",
      "Year\n",
      "Quarter\n",
      "Month\n",
      "DayofMonth\n",
      "DayOfWeek\n",
      "FlightDate\n",
      "Reporting_Airline\n",
      "DOT_ID_Reporting_Airline\n",
      "IATA_CODE_Reporting_Airline\n",
      "Tail_Number\n",
      "Flight_Number_Reporting_Airline\n",
      "OriginAirportID\n",
      "OriginAirportSeqID\n",
      "OriginCityMarketID\n",
      "Origin\n",
      "OriginCityName\n",
      "OriginState\n",
      "OriginStateFips\n",
      "OriginStateName\n",
      "OriginWac\n",
      "DestAirportID\n",
      "DestAirportSeqID\n",
      "DestCityMarketID\n",
      "Dest\n",
      "DestCityName\n",
      "DestState\n",
      "DestStateFips\n",
      "DestStateName\n",
      "DestWac\n",
      "CRSDepTime\n",
      "DepTime\n",
      "DepDelay\n",
      "DepDelayMinutes\n",
      "DepDel15\n",
      "DepartureDelayGroups\n",
      "DepTimeBlk\n",
      "TaxiOut\n",
      "WheelsOff\n",
      "WheelsOn\n",
      "TaxiIn\n",
      "CRSArrTime\n",
      "ArrTime\n",
      "ArrDelay\n",
      "ArrDelayMinutes\n",
      "ArrDel15\n",
      "ArrivalDelayGroups\n",
      "ArrTimeBlk\n",
      "Cancelled\n",
      "CancellationCode\n",
      "Diverted\n",
      "CRSElapsedTime\n",
      "ActualElapsedTime\n",
      "AirTime\n",
      "Flights\n",
      "Distance\n",
      "DistanceGroup\n",
      "CarrierDelay\n",
      "WeatherDelay\n",
      "NASDelay\n",
      "SecurityDelay\n",
      "LateAircraftDelay\n",
      "FirstDepTime\n",
      "TotalAddGTime\n",
      "LongestAddGTime\n",
      "DivAirportLandings\n",
      "DivReachedDest\n",
      "DivActualElapsedTime\n",
      "DivArrDelay\n",
      "DivDistance\n",
      "Div1Airport\n",
      "Div1AirportID\n",
      "Div1AirportSeqID\n",
      "Div1WheelsOn\n",
      "Div1TotalGTime\n",
      "Div1LongestGTime\n",
      "Div1WheelsOff\n",
      "Div1TailNum\n",
      "Div2Airport\n",
      "Div2AirportID\n",
      "Div2AirportSeqID\n",
      "Div2WheelsOn\n",
      "Div2TotalGTime\n",
      "Div2LongestGTime\n",
      "Div2WheelsOff\n",
      "Div2TailNum\n",
      "Div3Airport\n",
      "Div3AirportID\n",
      "Div3AirportSeqID\n",
      "Div3WheelsOn\n",
      "Div3TotalGTime\n",
      "Div3LongestGTime\n",
      "Div3WheelsOff\n",
      "Div3TailNum\n",
      "Div4Airport\n",
      "Div4AirportID\n",
      "Div4AirportSeqID\n",
      "Div4WheelsOn\n",
      "Div4TotalGTime\n",
      "Div4LongestGTime\n",
      "Div4WheelsOff\n",
      "Div4TailNum\n",
      "Div5Airport\n",
      "Div5AirportID\n",
      "Div5AirportSeqID\n",
      "Div5WheelsOn\n",
      "Div5TotalGTime\n",
      "Div5LongestGTime\n",
      "Div5WheelsOff\n",
      "Div5TailNum\n",
      "Unnamed: 109\n"
     ]
    }
   ],
   "source": [
    "print(f'The column names are :')\n",
    "print('#########')\n",
    "for col in df_temp.columns:   # **ENTER YOUR CODE HERE**\n",
    "    print(col)"
   ]
  },
  {
   "cell_type": "markdown",
   "metadata": {},
   "source": [
    "**Question**: Print all the columns in the dataset that contain the word *Del*. This will help you see how many columns have *delay data* in them.\n",
    "\n",
    "**Hint**: To include values that pass certain `if` statement criteria, you can use a Python list comprehension.\n",
    "\n",
    "For example: `[x for x in [1,2,3,4,5] if x > 2]`  \n",
    "\n",
    "**Hint**: To check if the value is in a list, you can use the `in` keyword ([Python in Keyword documentation](https://www.w3schools.com/python/ref_keyword_in.asp)). \n",
    "\n",
    "For example: `5 in [1,2,3,4,5]`"
   ]
  },
  {
   "cell_type": "code",
   "execution_count": 17,
   "metadata": {},
   "outputs": [
    {
     "name": "stdout",
     "output_type": "stream",
     "text": [
      "['DepDelay', 'DepDelayMinutes', 'DepDel15', 'DepartureDelayGroups', 'ArrDelay', 'ArrDelayMinutes', 'ArrDel15', 'ArrivalDelayGroups', 'CarrierDelay', 'WeatherDelay', 'NASDelay', 'SecurityDelay', 'LateAircraftDelay', 'DivArrDelay']\n"
     ]
    }
   ],
   "source": [
    "# Enter your code here\n",
    "df_Del=[x for x in df_temp if 'Del' in x]\n",
    "print(df_Del)"
   ]
  },
  {
   "cell_type": "markdown",
   "metadata": {},
   "source": [
    "Here are some more questions to help you learn more about your dataset.\n",
    "\n",
    "**Questions**   \n",
    "\n",
    "1. How many rows and columns does the dataset have?   \n",
    "2. How many years are included in the dataset?   \n",
    "3. What is the date range for the dataset?   \n",
    "4. Which airlines are included in the dataset?   \n",
    "5. Which origin and destination airports are covered?\n",
    "\n",
    "**Hints**\n",
    "- To show the dimensions of the DataFrame, use `df_temp.shape`.\n",
    "- To refer to a specific column, use `df_temp.columnName` (for example, `df_temp.CarrierDelay`).\n",
    "- To get unique values for a column, use `df_temp.column.unique()` (for, example `df_temp.Year.unique()`)."
   ]
  },
  {
   "cell_type": "code",
   "execution_count": 24,
   "metadata": {},
   "outputs": [
    {
     "name": "stdout",
     "output_type": "stream",
     "text": [
      "The #rows and #columns are  585749  and  110\n",
      "The years in this dataset are:  [2018]\n",
      "The months covered in this dataset are:  [9]\n",
      "The date range for data is : 2018-09-01  to  2018-09-30\n",
      "The airlines covered in this dataset are:  ['9E', 'B6', 'WN', 'YV', 'YX', 'EV', 'AA', 'AS', 'DL', 'HA', 'UA', 'F9', 'G4', 'MQ', 'NK', 'OH', 'OO']\n",
      "The Origin airports covered are:  ['DFW', 'LGA', 'MSN', 'MSP', 'ATL', 'BDL', 'VLD', 'JFK', 'RDU', 'CHS', 'DTW', 'GRB', 'PVD', 'SHV', 'FNT', 'PIT', 'RIC', 'RST', 'RSW', 'CVG', 'LIT', 'ORD', 'JAX', 'TRI', 'BOS', 'CWA', 'DCA', 'CHO', 'AVP', 'IND', 'GRR', 'BTR', 'MEM', 'TUL', 'CLE', 'STL', 'BTV', 'OMA', 'MGM', 'TVC', 'SAV', 'GSP', 'EWR', 'OAJ', 'BNA', 'MCI', 'TLH', 'ROC', 'LEX', 'PWM', 'BUF', 'AGS', 'CLT', 'GSO', 'BWI', 'SAT', 'PHL', 'TYS', 'ACK', 'DSM', 'GNV', 'AVL', 'BGR', 'MHT', 'ILM', 'MOT', 'IAH', 'SBN', 'SYR', 'ORF', 'MKE', 'XNA', 'MSY', 'PBI', 'ABE', 'HPN', 'EVV', 'ALB', 'LNK', 'AUS', 'PHF', 'CHA', 'GTR', 'BMI', 'BQK', 'CID', 'CAK', 'ATW', 'ABY', 'CAE', 'SRQ', 'MLI', 'BHM', 'IAD', 'CSG', 'CMH', 'MCO', 'MBS', 'FLL', 'SDF', 'TPA', 'MVY', 'LAS', 'LGB', 'SFO', 'SAN', 'LAX', 'RNO', 'PDX', 'ANC', 'ABQ', 'SLC', 'DEN', 'PHX', 'OAK', 'SMF', 'SJU', 'SEA', 'HOU', 'STX', 'BUR', 'SWF', 'SJC', 'DAB', 'BQN', 'PSE', 'ORH', 'HYA', 'STT', 'ONT', 'HRL', 'ICT', 'ISP', 'LBB', 'MAF', 'MDW', 'OKC', 'PNS', 'SNA', 'TUS', 'AMA', 'BOI', 'CRP', 'DAL', 'ECP', 'ELP', 'GEG', 'LFT', 'MFE', 'MDT', 'JAN', 'COS', 'MOB', 'VPS', 'MTJ', 'DRO', 'GPT', 'BFL', 'MRY', 'SBA', 'PSP', 'FSD', 'BRO', 'RAP', 'COU', 'STS', 'PIA', 'FAT', 'SBP', 'FSM', 'HSV', 'BIS', 'DAY', 'BZN', 'MIA', 'EYW', 'MYR', 'HHH', 'GJT', 'FAR', 'SGF', 'HOB', 'CLL', 'LRD', 'AEX', 'ERI', 'MLU', 'LCH', 'ROA', 'LAW', 'MHK', 'GRK', 'SAF', 'GRI', 'JLN', 'ROW', 'FWA', 'CRW', 'LAN', 'OGG', 'HNL', 'KOA', 'EGE', 'LIH', 'MLB', 'JAC', 'FAI', 'RDM', 'ADQ', 'BET', 'BRW', 'SCC', 'KTN', 'YAK', 'CDV', 'JNU', 'SIT', 'PSG', 'WRG', 'OME', 'OTZ', 'ADK', 'FCA', 'FAY', 'PSC', 'BIL', 'MSO', 'ITO', 'PPG', 'MFR', 'EUG', 'GUM', 'SPN', 'DLH', 'TTN', 'BKG', 'SFB', 'PIE', 'PGD', 'AZA', 'SMX', 'RFD', 'SCK', 'OWB', 'HTS', 'BLV', 'IAG', 'USA', 'GFK', 'BLI', 'ELM', 'PBG', 'LCK', 'GTF', 'OGD', 'IDA', 'PVU', 'TOL', 'PSM', 'CKB', 'HGR', 'SPI', 'STC', 'ACT', 'TYR', 'ABI', 'AZO', 'CMI', 'BPT', 'GCK', 'MQT', 'ALO', 'TXK', 'SPS', 'SWO', 'DBQ', 'SUX', 'SJT', 'GGG', 'LSE', 'LBE', 'ACY', 'LYH', 'PGV', 'HVN', 'EWN', 'DHN', 'PIH', 'IMT', 'WYS', 'CPR', 'SCE', 'HLN', 'SUN', 'ISN', 'CMX', 'EAU', 'LWB', 'SHD', 'LBF', 'HYS', 'SLN', 'EAR', 'VEL', 'CNY', 'GCC', 'RKS', 'PUB', 'LBL', 'MKG', 'PAH', 'CGI', 'UIN', 'BFF', 'DVL', 'JMS', 'LAR', 'SGU', 'PRC', 'ASE', 'RDD', 'ACV', 'OTH', 'COD', 'LWS', 'ABR', 'APN', 'ESC', 'PLN', 'BJI', 'BRD', 'BTM', 'CDC', 'CIU', 'EKO', 'TWF', 'HIB', 'BGM', 'RHI', 'ITH', 'INL', 'FLG', 'YUM', 'MEI', 'PIB', 'HDN']\n",
      "The Destination airports covered are:  ['CVG', 'PWM', 'RDU', 'MSP', 'MSN', 'SHV', 'CLT', 'PIT', 'RIC', 'IAH', 'ATL', 'JFK', 'DCA', 'DTW', 'LGA', 'TYS', 'PVD', 'FNT', 'LIT', 'BUF', 'ORD', 'TRI', 'IND', 'BGR', 'AVP', 'BWI', 'LEX', 'BDL', 'GRR', 'CWA', 'TUL', 'MEM', 'AGS', 'EWR', 'MGM', 'PHL', 'SYR', 'OMA', 'STL', 'TVC', 'ORF', 'CLE', 'ABY', 'BOS', 'OAJ', 'TLH', 'BTR', 'SAT', 'JAX', 'BNA', 'CHO', 'VLD', 'ROC', 'DFW', 'GNV', 'ACK', 'PBI', 'CHS', 'GRB', 'MOT', 'MKE', 'DSM', 'ILM', 'GSO', 'MCI', 'SBN', 'BTV', 'MVY', 'XNA', 'RST', 'EVV', 'HPN', 'RSW', 'MDT', 'ROA', 'GSP', 'MCO', 'CSG', 'SAV', 'PHF', 'ALB', 'CHA', 'ABE', 'BMI', 'MSY', 'IAD', 'GTR', 'CID', 'CAK', 'ATW', 'AUS', 'BQK', 'MLI', 'CAE', 'CMH', 'AVL', 'MBS', 'FLL', 'SDF', 'TPA', 'LNK', 'SRQ', 'MHT', 'BHM', 'LAS', 'SFO', 'SAN', 'RNO', 'LGB', 'ANC', 'PDX', 'SJU', 'ABQ', 'SLC', 'DEN', 'LAX', 'PHX', 'OAK', 'SMF', 'SEA', 'STX', 'BUR', 'DAB', 'SJC', 'SWF', 'HOU', 'BQN', 'PSE', 'ORH', 'HYA', 'STT', 'ONT', 'DAL', 'ECP', 'ELP', 'HRL', 'MAF', 'MDW', 'OKC', 'PNS', 'SNA', 'AMA', 'BOI', 'GEG', 'ICT', 'LBB', 'TUS', 'ISP', 'CRP', 'MFE', 'LFT', 'VPS', 'JAN', 'COS', 'MOB', 'DRO', 'GPT', 'BFL', 'COU', 'SBP', 'MTJ', 'SBA', 'PSP', 'FSD', 'FSM', 'BRO', 'PIA', 'STS', 'FAT', 'RAP', 'MRY', 'HSV', 'BIS', 'DAY', 'BZN', 'MIA', 'EYW', 'MYR', 'HHH', 'GJT', 'FAR', 'MLU', 'LRD', 'CLL', 'LCH', 'FWA', 'GRK', 'SGF', 'HOB', 'LAW', 'MHK', 'SAF', 'JLN', 'ROW', 'GRI', 'AEX', 'CRW', 'LAN', 'ERI', 'HNL', 'KOA', 'OGG', 'EGE', 'LIH', 'JAC', 'MLB', 'RDM', 'BET', 'ADQ', 'BRW', 'SCC', 'FAI', 'JNU', 'CDV', 'YAK', 'SIT', 'KTN', 'WRG', 'PSG', 'OME', 'OTZ', 'ADK', 'FCA', 'BIL', 'PSC', 'FAY', 'MSO', 'ITO', 'PPG', 'MFR', 'DLH', 'EUG', 'GUM', 'SPN', 'TTN', 'BKG', 'AZA', 'SFB', 'LCK', 'BLI', 'SCK', 'PIE', 'RFD', 'PVU', 'PBG', 'BLV', 'PGD', 'SPI', 'USA', 'TOL', 'IDA', 'ELM', 'HTS', 'HGR', 'SMX', 'OGD', 'GFK', 'STC', 'GTF', 'IAG', 'CKB', 'OWB', 'PSM', 'ABI', 'TYR', 'ALO', 'SUX', 'AZO', 'ACT', 'CMI', 'BPT', 'TXK', 'SWO', 'SPS', 'DBQ', 'SJT', 'GGG', 'LSE', 'MQT', 'GCK', 'LBE', 'ACY', 'LYH', 'PGV', 'HVN', 'EWN', 'DHN', 'PIH', 'WYS', 'SCE', 'IMT', 'HLN', 'ASE', 'SUN', 'ISN', 'EAR', 'SGU', 'VEL', 'SHD', 'LWB', 'MKG', 'SLN', 'HYS', 'BFF', 'PUB', 'LBL', 'CMX', 'EAU', 'PAH', 'UIN', 'RKS', 'CGI', 'CNY', 'JMS', 'DVL', 'LAR', 'GCC', 'LBF', 'PRC', 'RDD', 'ACV', 'OTH', 'COD', 'LWS', 'ABR', 'APN', 'PLN', 'BJI', 'CPR', 'BRD', 'BTM', 'CDC', 'CIU', 'ESC', 'EKO', 'ITH', 'HIB', 'BGM', 'TWF', 'RHI', 'INL', 'FLG', 'YUM', 'MEI', 'PIB', 'HDN']\n"
     ]
    }
   ],
   "source": [
    "print(\"The #rows and #columns are \", df_temp.shape[0] , \" and \", df_temp.shape[1])\n",
    "print(\"The years in this dataset are: \", df_temp.Year.unique())\n",
    "print(\"The months covered in this dataset are: \", df_temp.Month.unique())\n",
    "print(\"The date range for data is :\" , min(df_temp.FlightDate.unique()), \" to \", max(df_temp.FlightDate.unique()))\n",
    "print(\"The airlines covered in this dataset are: \", list(df_temp.Reporting_Airline.unique()))\n",
    "print(\"The Origin airports covered are: \", list(df_temp.Origin.unique()))\n",
    "print(\"The Destination airports covered are: \", list(df_temp.Dest.unique()))"
   ]
  },
  {
   "cell_type": "markdown",
   "metadata": {},
   "source": [
    "**Question**: What is the count of all the origin and destination airports?\n",
    "\n",
    "**Hint**: To find the values for each airport by using the **Origin** and **Dest** columns, you can use the `values_count` function in pandas ([pandas.Series.value_counts documentation](https://pandas.pydata.org/pandas-docs/stable/reference/api/pandas.Series.value_counts.html))."
   ]
  },
  {
   "cell_type": "code",
   "execution_count": 28,
   "metadata": {},
   "outputs": [
    {
     "data": {
      "text/html": [
       "<div>\n",
       "<style scoped>\n",
       "    .dataframe tbody tr th:only-of-type {\n",
       "        vertical-align: middle;\n",
       "    }\n",
       "\n",
       "    .dataframe tbody tr th {\n",
       "        vertical-align: top;\n",
       "    }\n",
       "\n",
       "    .dataframe thead th {\n",
       "        text-align: right;\n",
       "    }\n",
       "</style>\n",
       "<table border=\"1\" class=\"dataframe\">\n",
       "  <thead>\n",
       "    <tr style=\"text-align: right;\">\n",
       "      <th></th>\n",
       "      <th>Origin</th>\n",
       "      <th>Destination</th>\n",
       "    </tr>\n",
       "  </thead>\n",
       "  <tbody>\n",
       "    <tr>\n",
       "      <th>ABE</th>\n",
       "      <td>303</td>\n",
       "      <td>303</td>\n",
       "    </tr>\n",
       "    <tr>\n",
       "      <th>ABI</th>\n",
       "      <td>169</td>\n",
       "      <td>169</td>\n",
       "    </tr>\n",
       "    <tr>\n",
       "      <th>ABQ</th>\n",
       "      <td>2077</td>\n",
       "      <td>2076</td>\n",
       "    </tr>\n",
       "    <tr>\n",
       "      <th>ABR</th>\n",
       "      <td>60</td>\n",
       "      <td>60</td>\n",
       "    </tr>\n",
       "    <tr>\n",
       "      <th>ABY</th>\n",
       "      <td>79</td>\n",
       "      <td>79</td>\n",
       "    </tr>\n",
       "    <tr>\n",
       "      <th>...</th>\n",
       "      <td>...</td>\n",
       "      <td>...</td>\n",
       "    </tr>\n",
       "    <tr>\n",
       "      <th>WRG</th>\n",
       "      <td>60</td>\n",
       "      <td>60</td>\n",
       "    </tr>\n",
       "    <tr>\n",
       "      <th>WYS</th>\n",
       "      <td>52</td>\n",
       "      <td>52</td>\n",
       "    </tr>\n",
       "    <tr>\n",
       "      <th>XNA</th>\n",
       "      <td>1004</td>\n",
       "      <td>1004</td>\n",
       "    </tr>\n",
       "    <tr>\n",
       "      <th>YAK</th>\n",
       "      <td>60</td>\n",
       "      <td>60</td>\n",
       "    </tr>\n",
       "    <tr>\n",
       "      <th>YUM</th>\n",
       "      <td>96</td>\n",
       "      <td>96</td>\n",
       "    </tr>\n",
       "  </tbody>\n",
       "</table>\n",
       "<p>346 rows × 2 columns</p>\n",
       "</div>"
      ],
      "text/plain": [
       "     Origin  Destination\n",
       "ABE     303          303\n",
       "ABI     169          169\n",
       "ABQ    2077         2076\n",
       "ABR      60           60\n",
       "ABY      79           79\n",
       "..      ...          ...\n",
       "WRG      60           60\n",
       "WYS      52           52\n",
       "XNA    1004         1004\n",
       "YAK      60           60\n",
       "YUM      96           96\n",
       "\n",
       "[346 rows x 2 columns]"
      ]
     },
     "execution_count": 28,
     "metadata": {},
     "output_type": "execute_result"
    }
   ],
   "source": [
    "counts = pd.DataFrame({'Origin':df_temp.Origin.value_counts(), 'Destination':df_temp.Dest.value_counts()})\n",
    "counts"
   ]
  },
  {
   "cell_type": "markdown",
   "metadata": {},
   "source": [
    "**Question**: Print the top 15 origin and destination airports based on number of flights in the dataset.\n",
    "\n",
    "**Hint**: You can use the `sort_values` function in pandas ([pandas.DataFrame.sort_values documentation](https://pandas.pydata.org/pandas-docs/stable/reference/api/pandas.DataFrame.sort_values.html))."
   ]
  },
  {
   "cell_type": "code",
   "execution_count": 30,
   "metadata": {},
   "outputs": [
    {
     "data": {
      "text/html": [
       "<div>\n",
       "<style scoped>\n",
       "    .dataframe tbody tr th:only-of-type {\n",
       "        vertical-align: middle;\n",
       "    }\n",
       "\n",
       "    .dataframe tbody tr th {\n",
       "        vertical-align: top;\n",
       "    }\n",
       "\n",
       "    .dataframe thead th {\n",
       "        text-align: right;\n",
       "    }\n",
       "</style>\n",
       "<table border=\"1\" class=\"dataframe\">\n",
       "  <thead>\n",
       "    <tr style=\"text-align: right;\">\n",
       "      <th></th>\n",
       "      <th>Origin</th>\n",
       "      <th>Destination</th>\n",
       "    </tr>\n",
       "  </thead>\n",
       "  <tbody>\n",
       "    <tr>\n",
       "      <th>ATL</th>\n",
       "      <td>31525</td>\n",
       "      <td>31521</td>\n",
       "    </tr>\n",
       "    <tr>\n",
       "      <th>ORD</th>\n",
       "      <td>28257</td>\n",
       "      <td>28250</td>\n",
       "    </tr>\n",
       "    <tr>\n",
       "      <th>DFW</th>\n",
       "      <td>22802</td>\n",
       "      <td>22795</td>\n",
       "    </tr>\n",
       "    <tr>\n",
       "      <th>DEN</th>\n",
       "      <td>19807</td>\n",
       "      <td>19807</td>\n",
       "    </tr>\n",
       "    <tr>\n",
       "      <th>CLT</th>\n",
       "      <td>19655</td>\n",
       "      <td>19654</td>\n",
       "    </tr>\n",
       "    <tr>\n",
       "      <th>LAX</th>\n",
       "      <td>17875</td>\n",
       "      <td>17873</td>\n",
       "    </tr>\n",
       "    <tr>\n",
       "      <th>SFO</th>\n",
       "      <td>14332</td>\n",
       "      <td>14348</td>\n",
       "    </tr>\n",
       "    <tr>\n",
       "      <th>IAH</th>\n",
       "      <td>14210</td>\n",
       "      <td>14203</td>\n",
       "    </tr>\n",
       "    <tr>\n",
       "      <th>LGA</th>\n",
       "      <td>13850</td>\n",
       "      <td>13850</td>\n",
       "    </tr>\n",
       "    <tr>\n",
       "      <th>MSP</th>\n",
       "      <td>13349</td>\n",
       "      <td>13347</td>\n",
       "    </tr>\n",
       "    <tr>\n",
       "      <th>LAS</th>\n",
       "      <td>13318</td>\n",
       "      <td>13322</td>\n",
       "    </tr>\n",
       "    <tr>\n",
       "      <th>PHX</th>\n",
       "      <td>13126</td>\n",
       "      <td>13128</td>\n",
       "    </tr>\n",
       "    <tr>\n",
       "      <th>DTW</th>\n",
       "      <td>12725</td>\n",
       "      <td>12724</td>\n",
       "    </tr>\n",
       "    <tr>\n",
       "      <th>BOS</th>\n",
       "      <td>12223</td>\n",
       "      <td>12227</td>\n",
       "    </tr>\n",
       "    <tr>\n",
       "      <th>SEA</th>\n",
       "      <td>11872</td>\n",
       "      <td>11877</td>\n",
       "    </tr>\n",
       "  </tbody>\n",
       "</table>\n",
       "</div>"
      ],
      "text/plain": [
       "     Origin  Destination\n",
       "ATL   31525        31521\n",
       "ORD   28257        28250\n",
       "DFW   22802        22795\n",
       "DEN   19807        19807\n",
       "CLT   19655        19654\n",
       "LAX   17875        17873\n",
       "SFO   14332        14348\n",
       "IAH   14210        14203\n",
       "LGA   13850        13850\n",
       "MSP   13349        13347\n",
       "LAS   13318        13322\n",
       "PHX   13126        13128\n",
       "DTW   12725        12724\n",
       "BOS   12223        12227\n",
       "SEA   11872        11877"
      ]
     },
     "execution_count": 30,
     "metadata": {},
     "output_type": "execute_result"
    }
   ],
   "source": [
    "counts.sort_values(by='Origin',ascending=False).head(15) # Enter your code here"
   ]
  },
  {
   "cell_type": "markdown",
   "metadata": {},
   "source": [
    "**Given all the information about a flight trip, can you predict if it would be delayed?**"
   ]
  },
  {
   "cell_type": "markdown",
   "metadata": {},
   "source": [
    "The **ArrDel15** column is an indicator variable that takes the value *1* when the delay is more than 15 minutes. Otherwise, it takes a value of *0*.\n",
    "\n",
    "You could use this as a target column for the classification problem."
   ]
  },
  {
   "cell_type": "markdown",
   "metadata": {},
   "source": [
    "Now, assume that you are traveling from San Francisco to Los Angeles on a work trip. You want to better manage your reservations in Los Angeles. Thus, want to have an idea of whether your flight will be delayed, given a set of features. How many features from this dataset would you need to know before your flight?\n",
    "\n",
    "Columns such as `DepDelay`, `ArrDelay`, `CarrierDelay`, `WeatherDelay`, `NASDelay`, `SecurityDelay`, `LateAircraftDelay`, and `DivArrDelay` contain information about a delay. But this delay could have occured at the origin or the destination. If there were a sudden weather delay 10 minutes before landing, this data wouldn't be helpful to managing your Los Angeles reservations.\n",
    "\n",
    "So to simplify the problem statement, consider the following columns to predict an arrival delay:<br>\n",
    "\n",
    "`Year`, `Quarter`, `Month`, `DayofMonth`, `DayOfWeek`, `FlightDate`, `Reporting_Airline`, `Origin`, `OriginState`, `Dest`, `DestState`, `CRSDepTime`, `DepDelayMinutes`, `DepartureDelayGroups`, `Cancelled`, `Diverted`, `Distance`, `DistanceGroup`, `ArrDelay`, `ArrDelayMinutes`, `ArrDel15`, `AirTime`\n",
    "\n",
    "You will also filter the source and destination airports to be:\n",
    "- Top airports: ATL, ORD, DFW, DEN, CLT, LAX, IAH, PHX, SFO\n",
    "- Top five airlines: UA, OO, WN, AA, DL\n",
    "\n",
    "This information should help reduce the size of data across the CSV files that will be combined."
   ]
  },
  {
   "cell_type": "markdown",
   "metadata": {},
   "source": [
    "#### Combine all CSV files\n",
    " \n",
    "First, create an empy DataFrame that you will use to copy your individual DataFrames from each file. Then, for each file in the `csv_files` list:\n",
    "\n",
    "1. Read the CSV file into a dataframe \n",
    "2. Filter the columns based on the `filter_cols` variable\n",
    "\n",
    "```\n",
    "        columns = ['col1', 'col2']\n",
    "        df_filter = df[columns]\n",
    "```\n",
    "\n",
    "3. Keep only the `subset_vals` in each of the `subset_cols`. To check if the `val` is in the DataFrame column, use the `isin` function in pandas ([pandas.DataFram.isin documentation](https://pandas.pydata.org/pandas-docs/stable/reference/api/pandas.DataFrame.isin.html)). Then, choose the rows that include it.\n",
    "\n",
    "```\n",
    "        df_eg[df_eg['col1'].isin('5')]\n",
    "```\n",
    "\n",
    "4. Concatenate the DataFrame with the empty DataFrame "
   ]
  },
  {
   "cell_type": "code",
   "execution_count": 31,
   "metadata": {},
   "outputs": [],
   "source": [
    "def combine_csv(csv_files, filter_cols, subset_cols, subset_vals, file_name):\n",
    "\n",
    "    \"\"\"\n",
    "    Combine csv files into one Data Frame\n",
    "    csv_files: list of csv file paths\n",
    "    filter_cols: list of columns to filter\n",
    "    subset_cols: list of columns to subset rows\n",
    "    subset_vals: list of list of values to subset rows\n",
    "    \"\"\"\n",
    "\n",
    "    df = pd.DataFrame()\n",
    "    \n",
    "    for file in csv_files:\n",
    "        df_temp = pd.read_csv(file)\n",
    "        df_temp = df_temp[filter_cols]\n",
    "        for col, val in zip(subset_cols,subset_vals):\n",
    "            df_temp = df_temp[df_temp[col].isin(val)]      \n",
    "        \n",
    "        df = pd.concat([df, df_temp], axis=0)\n",
    "      \n",
    "    df.to_csv(file_name, index=False)\n",
    "    print(f'Combined csv stored at {file_name}')"
   ]
  },
  {
   "cell_type": "code",
   "execution_count": 32,
   "metadata": {},
   "outputs": [],
   "source": [
    "#cols is the list of columns to predict Arrival Delay \n",
    "cols = ['Year','Quarter','Month','DayofMonth','DayOfWeek','FlightDate',\n",
    "        'Reporting_Airline','Origin','OriginState','Dest','DestState',\n",
    "        'CRSDepTime','Cancelled','Diverted','Distance','DistanceGroup',\n",
    "        'ArrDelay','ArrDelayMinutes','ArrDel15','AirTime']\n",
    "\n",
    "subset_cols = ['Origin', 'Dest', 'Reporting_Airline']\n",
    "\n",
    "# subset_vals is a list collection of the top origin and destination airports and top 5 airlines\n",
    "subset_vals = [['ATL', 'ORD', 'DFW', 'DEN', 'CLT', 'LAX', 'IAH', 'PHX', 'SFO'], \n",
    "               ['ATL', 'ORD', 'DFW', 'DEN', 'CLT', 'LAX', 'IAH', 'PHX', 'SFO'], \n",
    "               ['UA', 'OO', 'WN', 'AA', 'DL']]"
   ]
  },
  {
   "cell_type": "markdown",
   "metadata": {},
   "source": [
    "Use the previous function to merge all the different files into a single file that you can read easily. \n",
    "\n",
    "**Note**: This process will take 5-7 minutes to complete."
   ]
  },
  {
   "cell_type": "code",
   "execution_count": 33,
   "metadata": {},
   "outputs": [
    {
     "name": "stdout",
     "output_type": "stream",
     "text": [
      "Combined csv stored at /home/ec2-user/SageMaker/project/data/FlightDelays/combined_files.csv\n",
      "CSVs merged in 4.97 minutes\n"
     ]
    }
   ],
   "source": [
    "start = time.time()\n",
    "combined_csv_filename = f\"{base_path}combined_files.csv\"\n",
    "combine_csv(csv_files, cols, subset_cols, subset_vals, combined_csv_filename)\n",
    "print(f'CSVs merged in {round((time.time() - start)/60,2)} minutes')"
   ]
  },
  {
   "cell_type": "markdown",
   "metadata": {},
   "source": [
    "#### Load the dataset\n",
    "\n",
    "Load the combined dataset."
   ]
  },
  {
   "cell_type": "code",
   "execution_count": 34,
   "metadata": {},
   "outputs": [],
   "source": [
    "data = pd.read_csv(combined_csv_filename)"
   ]
  },
  {
   "cell_type": "markdown",
   "metadata": {},
   "source": [
    "Print the first five records."
   ]
  },
  {
   "cell_type": "code",
   "execution_count": 35,
   "metadata": {},
   "outputs": [
    {
     "data": {
      "text/html": [
       "<div>\n",
       "<style scoped>\n",
       "    .dataframe tbody tr th:only-of-type {\n",
       "        vertical-align: middle;\n",
       "    }\n",
       "\n",
       "    .dataframe tbody tr th {\n",
       "        vertical-align: top;\n",
       "    }\n",
       "\n",
       "    .dataframe thead th {\n",
       "        text-align: right;\n",
       "    }\n",
       "</style>\n",
       "<table border=\"1\" class=\"dataframe\">\n",
       "  <thead>\n",
       "    <tr style=\"text-align: right;\">\n",
       "      <th></th>\n",
       "      <th>Year</th>\n",
       "      <th>Quarter</th>\n",
       "      <th>Month</th>\n",
       "      <th>DayofMonth</th>\n",
       "      <th>DayOfWeek</th>\n",
       "      <th>FlightDate</th>\n",
       "      <th>Reporting_Airline</th>\n",
       "      <th>Origin</th>\n",
       "      <th>OriginState</th>\n",
       "      <th>Dest</th>\n",
       "      <th>DestState</th>\n",
       "      <th>CRSDepTime</th>\n",
       "      <th>Cancelled</th>\n",
       "      <th>Diverted</th>\n",
       "      <th>Distance</th>\n",
       "      <th>DistanceGroup</th>\n",
       "      <th>ArrDelay</th>\n",
       "      <th>ArrDelayMinutes</th>\n",
       "      <th>ArrDel15</th>\n",
       "      <th>AirTime</th>\n",
       "    </tr>\n",
       "  </thead>\n",
       "  <tbody>\n",
       "    <tr>\n",
       "      <th>0</th>\n",
       "      <td>2016</td>\n",
       "      <td>4</td>\n",
       "      <td>11</td>\n",
       "      <td>1</td>\n",
       "      <td>2</td>\n",
       "      <td>2016-11-01</td>\n",
       "      <td>AA</td>\n",
       "      <td>SFO</td>\n",
       "      <td>CA</td>\n",
       "      <td>DFW</td>\n",
       "      <td>TX</td>\n",
       "      <td>1000</td>\n",
       "      <td>0.0</td>\n",
       "      <td>0.0</td>\n",
       "      <td>1464.0</td>\n",
       "      <td>6</td>\n",
       "      <td>-13.0</td>\n",
       "      <td>0.0</td>\n",
       "      <td>0.0</td>\n",
       "      <td>171.0</td>\n",
       "    </tr>\n",
       "    <tr>\n",
       "      <th>1</th>\n",
       "      <td>2016</td>\n",
       "      <td>4</td>\n",
       "      <td>11</td>\n",
       "      <td>2</td>\n",
       "      <td>3</td>\n",
       "      <td>2016-11-02</td>\n",
       "      <td>AA</td>\n",
       "      <td>SFO</td>\n",
       "      <td>CA</td>\n",
       "      <td>DFW</td>\n",
       "      <td>TX</td>\n",
       "      <td>1000</td>\n",
       "      <td>0.0</td>\n",
       "      <td>0.0</td>\n",
       "      <td>1464.0</td>\n",
       "      <td>6</td>\n",
       "      <td>-4.0</td>\n",
       "      <td>0.0</td>\n",
       "      <td>0.0</td>\n",
       "      <td>187.0</td>\n",
       "    </tr>\n",
       "    <tr>\n",
       "      <th>2</th>\n",
       "      <td>2016</td>\n",
       "      <td>4</td>\n",
       "      <td>11</td>\n",
       "      <td>3</td>\n",
       "      <td>4</td>\n",
       "      <td>2016-11-03</td>\n",
       "      <td>AA</td>\n",
       "      <td>SFO</td>\n",
       "      <td>CA</td>\n",
       "      <td>DFW</td>\n",
       "      <td>TX</td>\n",
       "      <td>1000</td>\n",
       "      <td>0.0</td>\n",
       "      <td>0.0</td>\n",
       "      <td>1464.0</td>\n",
       "      <td>6</td>\n",
       "      <td>-3.0</td>\n",
       "      <td>0.0</td>\n",
       "      <td>0.0</td>\n",
       "      <td>183.0</td>\n",
       "    </tr>\n",
       "    <tr>\n",
       "      <th>3</th>\n",
       "      <td>2016</td>\n",
       "      <td>4</td>\n",
       "      <td>11</td>\n",
       "      <td>4</td>\n",
       "      <td>5</td>\n",
       "      <td>2016-11-04</td>\n",
       "      <td>AA</td>\n",
       "      <td>SFO</td>\n",
       "      <td>CA</td>\n",
       "      <td>DFW</td>\n",
       "      <td>TX</td>\n",
       "      <td>1000</td>\n",
       "      <td>0.0</td>\n",
       "      <td>0.0</td>\n",
       "      <td>1464.0</td>\n",
       "      <td>6</td>\n",
       "      <td>39.0</td>\n",
       "      <td>39.0</td>\n",
       "      <td>1.0</td>\n",
       "      <td>186.0</td>\n",
       "    </tr>\n",
       "    <tr>\n",
       "      <th>4</th>\n",
       "      <td>2016</td>\n",
       "      <td>4</td>\n",
       "      <td>11</td>\n",
       "      <td>5</td>\n",
       "      <td>6</td>\n",
       "      <td>2016-11-05</td>\n",
       "      <td>AA</td>\n",
       "      <td>SFO</td>\n",
       "      <td>CA</td>\n",
       "      <td>DFW</td>\n",
       "      <td>TX</td>\n",
       "      <td>1000</td>\n",
       "      <td>0.0</td>\n",
       "      <td>0.0</td>\n",
       "      <td>1464.0</td>\n",
       "      <td>6</td>\n",
       "      <td>-5.0</td>\n",
       "      <td>0.0</td>\n",
       "      <td>0.0</td>\n",
       "      <td>184.0</td>\n",
       "    </tr>\n",
       "  </tbody>\n",
       "</table>\n",
       "</div>"
      ],
      "text/plain": [
       "   Year  Quarter  Month  DayofMonth  DayOfWeek  FlightDate Reporting_Airline  \\\n",
       "0  2016        4     11           1          2  2016-11-01                AA   \n",
       "1  2016        4     11           2          3  2016-11-02                AA   \n",
       "2  2016        4     11           3          4  2016-11-03                AA   \n",
       "3  2016        4     11           4          5  2016-11-04                AA   \n",
       "4  2016        4     11           5          6  2016-11-05                AA   \n",
       "\n",
       "  Origin OriginState Dest DestState  CRSDepTime  Cancelled  Diverted  \\\n",
       "0    SFO          CA  DFW        TX        1000        0.0       0.0   \n",
       "1    SFO          CA  DFW        TX        1000        0.0       0.0   \n",
       "2    SFO          CA  DFW        TX        1000        0.0       0.0   \n",
       "3    SFO          CA  DFW        TX        1000        0.0       0.0   \n",
       "4    SFO          CA  DFW        TX        1000        0.0       0.0   \n",
       "\n",
       "   Distance  DistanceGroup  ArrDelay  ArrDelayMinutes  ArrDel15  AirTime  \n",
       "0    1464.0              6     -13.0              0.0       0.0    171.0  \n",
       "1    1464.0              6      -4.0              0.0       0.0    187.0  \n",
       "2    1464.0              6      -3.0              0.0       0.0    183.0  \n",
       "3    1464.0              6      39.0             39.0       1.0    186.0  \n",
       "4    1464.0              6      -5.0              0.0       0.0    184.0  "
      ]
     },
     "execution_count": 35,
     "metadata": {},
     "output_type": "execute_result"
    }
   ],
   "source": [
    "# Enter your code here \n",
    "data.head(5)"
   ]
  },
  {
   "cell_type": "markdown",
   "metadata": {},
   "source": [
    "Here are some more questions to help you learn more about your dataset.\n",
    "\n",
    "**Questions**   \n",
    "\n",
    "1. How many rows and columns does the dataset have?   \n",
    "2. How many years are included in the dataset?   \n",
    "3. What is the date range for the dataset?   \n",
    "4. Which airlines are included in the dataset?   \n",
    "5. Which origin and destination airports are covered?"
   ]
  },
  {
   "cell_type": "code",
   "execution_count": 36,
   "metadata": {},
   "outputs": [
    {
     "name": "stdout",
     "output_type": "stream",
     "text": [
      "The #rows and #columns are  585749  and  110\n",
      "The years in this dataset are:  [2018]\n",
      "The months covered in this dataset are:  [9]\n",
      "The date range for data is : 2018-09-01  to  2018-09-30\n",
      "The airlines covered in this dataset are:  ['9E', 'B6', 'WN', 'YV', 'YX', 'EV', 'AA', 'AS', 'DL', 'HA', 'UA', 'F9', 'G4', 'MQ', 'NK', 'OH', 'OO']\n",
      "The Origin airports covered are:  ['DFW', 'LGA', 'MSN', 'MSP', 'ATL', 'BDL', 'VLD', 'JFK', 'RDU', 'CHS', 'DTW', 'GRB', 'PVD', 'SHV', 'FNT', 'PIT', 'RIC', 'RST', 'RSW', 'CVG', 'LIT', 'ORD', 'JAX', 'TRI', 'BOS', 'CWA', 'DCA', 'CHO', 'AVP', 'IND', 'GRR', 'BTR', 'MEM', 'TUL', 'CLE', 'STL', 'BTV', 'OMA', 'MGM', 'TVC', 'SAV', 'GSP', 'EWR', 'OAJ', 'BNA', 'MCI', 'TLH', 'ROC', 'LEX', 'PWM', 'BUF', 'AGS', 'CLT', 'GSO', 'BWI', 'SAT', 'PHL', 'TYS', 'ACK', 'DSM', 'GNV', 'AVL', 'BGR', 'MHT', 'ILM', 'MOT', 'IAH', 'SBN', 'SYR', 'ORF', 'MKE', 'XNA', 'MSY', 'PBI', 'ABE', 'HPN', 'EVV', 'ALB', 'LNK', 'AUS', 'PHF', 'CHA', 'GTR', 'BMI', 'BQK', 'CID', 'CAK', 'ATW', 'ABY', 'CAE', 'SRQ', 'MLI', 'BHM', 'IAD', 'CSG', 'CMH', 'MCO', 'MBS', 'FLL', 'SDF', 'TPA', 'MVY', 'LAS', 'LGB', 'SFO', 'SAN', 'LAX', 'RNO', 'PDX', 'ANC', 'ABQ', 'SLC', 'DEN', 'PHX', 'OAK', 'SMF', 'SJU', 'SEA', 'HOU', 'STX', 'BUR', 'SWF', 'SJC', 'DAB', 'BQN', 'PSE', 'ORH', 'HYA', 'STT', 'ONT', 'HRL', 'ICT', 'ISP', 'LBB', 'MAF', 'MDW', 'OKC', 'PNS', 'SNA', 'TUS', 'AMA', 'BOI', 'CRP', 'DAL', 'ECP', 'ELP', 'GEG', 'LFT', 'MFE', 'MDT', 'JAN', 'COS', 'MOB', 'VPS', 'MTJ', 'DRO', 'GPT', 'BFL', 'MRY', 'SBA', 'PSP', 'FSD', 'BRO', 'RAP', 'COU', 'STS', 'PIA', 'FAT', 'SBP', 'FSM', 'HSV', 'BIS', 'DAY', 'BZN', 'MIA', 'EYW', 'MYR', 'HHH', 'GJT', 'FAR', 'SGF', 'HOB', 'CLL', 'LRD', 'AEX', 'ERI', 'MLU', 'LCH', 'ROA', 'LAW', 'MHK', 'GRK', 'SAF', 'GRI', 'JLN', 'ROW', 'FWA', 'CRW', 'LAN', 'OGG', 'HNL', 'KOA', 'EGE', 'LIH', 'MLB', 'JAC', 'FAI', 'RDM', 'ADQ', 'BET', 'BRW', 'SCC', 'KTN', 'YAK', 'CDV', 'JNU', 'SIT', 'PSG', 'WRG', 'OME', 'OTZ', 'ADK', 'FCA', 'FAY', 'PSC', 'BIL', 'MSO', 'ITO', 'PPG', 'MFR', 'EUG', 'GUM', 'SPN', 'DLH', 'TTN', 'BKG', 'SFB', 'PIE', 'PGD', 'AZA', 'SMX', 'RFD', 'SCK', 'OWB', 'HTS', 'BLV', 'IAG', 'USA', 'GFK', 'BLI', 'ELM', 'PBG', 'LCK', 'GTF', 'OGD', 'IDA', 'PVU', 'TOL', 'PSM', 'CKB', 'HGR', 'SPI', 'STC', 'ACT', 'TYR', 'ABI', 'AZO', 'CMI', 'BPT', 'GCK', 'MQT', 'ALO', 'TXK', 'SPS', 'SWO', 'DBQ', 'SUX', 'SJT', 'GGG', 'LSE', 'LBE', 'ACY', 'LYH', 'PGV', 'HVN', 'EWN', 'DHN', 'PIH', 'IMT', 'WYS', 'CPR', 'SCE', 'HLN', 'SUN', 'ISN', 'CMX', 'EAU', 'LWB', 'SHD', 'LBF', 'HYS', 'SLN', 'EAR', 'VEL', 'CNY', 'GCC', 'RKS', 'PUB', 'LBL', 'MKG', 'PAH', 'CGI', 'UIN', 'BFF', 'DVL', 'JMS', 'LAR', 'SGU', 'PRC', 'ASE', 'RDD', 'ACV', 'OTH', 'COD', 'LWS', 'ABR', 'APN', 'ESC', 'PLN', 'BJI', 'BRD', 'BTM', 'CDC', 'CIU', 'EKO', 'TWF', 'HIB', 'BGM', 'RHI', 'ITH', 'INL', 'FLG', 'YUM', 'MEI', 'PIB', 'HDN']\n",
      "The Destination airports covered are:  ['CVG', 'PWM', 'RDU', 'MSP', 'MSN', 'SHV', 'CLT', 'PIT', 'RIC', 'IAH', 'ATL', 'JFK', 'DCA', 'DTW', 'LGA', 'TYS', 'PVD', 'FNT', 'LIT', 'BUF', 'ORD', 'TRI', 'IND', 'BGR', 'AVP', 'BWI', 'LEX', 'BDL', 'GRR', 'CWA', 'TUL', 'MEM', 'AGS', 'EWR', 'MGM', 'PHL', 'SYR', 'OMA', 'STL', 'TVC', 'ORF', 'CLE', 'ABY', 'BOS', 'OAJ', 'TLH', 'BTR', 'SAT', 'JAX', 'BNA', 'CHO', 'VLD', 'ROC', 'DFW', 'GNV', 'ACK', 'PBI', 'CHS', 'GRB', 'MOT', 'MKE', 'DSM', 'ILM', 'GSO', 'MCI', 'SBN', 'BTV', 'MVY', 'XNA', 'RST', 'EVV', 'HPN', 'RSW', 'MDT', 'ROA', 'GSP', 'MCO', 'CSG', 'SAV', 'PHF', 'ALB', 'CHA', 'ABE', 'BMI', 'MSY', 'IAD', 'GTR', 'CID', 'CAK', 'ATW', 'AUS', 'BQK', 'MLI', 'CAE', 'CMH', 'AVL', 'MBS', 'FLL', 'SDF', 'TPA', 'LNK', 'SRQ', 'MHT', 'BHM', 'LAS', 'SFO', 'SAN', 'RNO', 'LGB', 'ANC', 'PDX', 'SJU', 'ABQ', 'SLC', 'DEN', 'LAX', 'PHX', 'OAK', 'SMF', 'SEA', 'STX', 'BUR', 'DAB', 'SJC', 'SWF', 'HOU', 'BQN', 'PSE', 'ORH', 'HYA', 'STT', 'ONT', 'DAL', 'ECP', 'ELP', 'HRL', 'MAF', 'MDW', 'OKC', 'PNS', 'SNA', 'AMA', 'BOI', 'GEG', 'ICT', 'LBB', 'TUS', 'ISP', 'CRP', 'MFE', 'LFT', 'VPS', 'JAN', 'COS', 'MOB', 'DRO', 'GPT', 'BFL', 'COU', 'SBP', 'MTJ', 'SBA', 'PSP', 'FSD', 'FSM', 'BRO', 'PIA', 'STS', 'FAT', 'RAP', 'MRY', 'HSV', 'BIS', 'DAY', 'BZN', 'MIA', 'EYW', 'MYR', 'HHH', 'GJT', 'FAR', 'MLU', 'LRD', 'CLL', 'LCH', 'FWA', 'GRK', 'SGF', 'HOB', 'LAW', 'MHK', 'SAF', 'JLN', 'ROW', 'GRI', 'AEX', 'CRW', 'LAN', 'ERI', 'HNL', 'KOA', 'OGG', 'EGE', 'LIH', 'JAC', 'MLB', 'RDM', 'BET', 'ADQ', 'BRW', 'SCC', 'FAI', 'JNU', 'CDV', 'YAK', 'SIT', 'KTN', 'WRG', 'PSG', 'OME', 'OTZ', 'ADK', 'FCA', 'BIL', 'PSC', 'FAY', 'MSO', 'ITO', 'PPG', 'MFR', 'DLH', 'EUG', 'GUM', 'SPN', 'TTN', 'BKG', 'AZA', 'SFB', 'LCK', 'BLI', 'SCK', 'PIE', 'RFD', 'PVU', 'PBG', 'BLV', 'PGD', 'SPI', 'USA', 'TOL', 'IDA', 'ELM', 'HTS', 'HGR', 'SMX', 'OGD', 'GFK', 'STC', 'GTF', 'IAG', 'CKB', 'OWB', 'PSM', 'ABI', 'TYR', 'ALO', 'SUX', 'AZO', 'ACT', 'CMI', 'BPT', 'TXK', 'SWO', 'SPS', 'DBQ', 'SJT', 'GGG', 'LSE', 'MQT', 'GCK', 'LBE', 'ACY', 'LYH', 'PGV', 'HVN', 'EWN', 'DHN', 'PIH', 'WYS', 'SCE', 'IMT', 'HLN', 'ASE', 'SUN', 'ISN', 'EAR', 'SGU', 'VEL', 'SHD', 'LWB', 'MKG', 'SLN', 'HYS', 'BFF', 'PUB', 'LBL', 'CMX', 'EAU', 'PAH', 'UIN', 'RKS', 'CGI', 'CNY', 'JMS', 'DVL', 'LAR', 'GCC', 'LBF', 'PRC', 'RDD', 'ACV', 'OTH', 'COD', 'LWS', 'ABR', 'APN', 'PLN', 'BJI', 'CPR', 'BRD', 'BTM', 'CDC', 'CIU', 'ESC', 'EKO', 'ITH', 'HIB', 'BGM', 'TWF', 'RHI', 'INL', 'FLG', 'YUM', 'MEI', 'PIB', 'HDN']\n"
     ]
    }
   ],
   "source": [
    "print(\"The #rows and #columns are \", df_temp.shape[0] , \" and \", df_temp.shape[1])\n",
    "print(\"The years in this dataset are: \", df_temp.Year.unique())\n",
    "print(\"The months covered in this dataset are: \", df_temp.Month.unique())\n",
    "print(\"The date range for data is :\" , min(df_temp.FlightDate.unique()), \" to \", max(df_temp.FlightDate.unique()))\n",
    "print(\"The airlines covered in this dataset are: \", list(df_temp.Reporting_Airline.unique()))\n",
    "print(\"The Origin airports covered are: \", list(df_temp.Origin.unique()))\n",
    "print(\"The Destination airports covered are: \", list(df_temp.Dest.unique()))"
   ]
  },
  {
   "cell_type": "markdown",
   "metadata": {},
   "source": [
    "Define your target column: **is_delay** (*1* means that the arrival time delayed more than 15 minutes, and *0* means all other cases). To rename the column from **ArrDel15** to *is_delay*, use the `rename` method .\n",
    "\n",
    "**Hint**: You can use the `rename` function in pandas ([pandas.DataFrame.rename documentation](https://pandas.pydata.org/pandas-docs/stable/reference/api/pandas.DataFrame.rename.html)).\n",
    "\n",
    "For example:\n",
    "```\n",
    "data.rename(columns={'col1':'column1'}, inplace=True)\n",
    "```"
   ]
  },
  {
   "cell_type": "code",
   "execution_count": 38,
   "metadata": {},
   "outputs": [
    {
     "data": {
      "text/html": [
       "<div>\n",
       "<style scoped>\n",
       "    .dataframe tbody tr th:only-of-type {\n",
       "        vertical-align: middle;\n",
       "    }\n",
       "\n",
       "    .dataframe tbody tr th {\n",
       "        vertical-align: top;\n",
       "    }\n",
       "\n",
       "    .dataframe thead th {\n",
       "        text-align: right;\n",
       "    }\n",
       "</style>\n",
       "<table border=\"1\" class=\"dataframe\">\n",
       "  <thead>\n",
       "    <tr style=\"text-align: right;\">\n",
       "      <th></th>\n",
       "      <th>Year</th>\n",
       "      <th>Quarter</th>\n",
       "      <th>Month</th>\n",
       "      <th>DayofMonth</th>\n",
       "      <th>DayOfWeek</th>\n",
       "      <th>FlightDate</th>\n",
       "      <th>Reporting_Airline</th>\n",
       "      <th>Origin</th>\n",
       "      <th>OriginState</th>\n",
       "      <th>Dest</th>\n",
       "      <th>DestState</th>\n",
       "      <th>CRSDepTime</th>\n",
       "      <th>Cancelled</th>\n",
       "      <th>Diverted</th>\n",
       "      <th>Distance</th>\n",
       "      <th>DistanceGroup</th>\n",
       "      <th>ArrDelay</th>\n",
       "      <th>ArrDelayMinutes</th>\n",
       "      <th>is_delay</th>\n",
       "      <th>AirTime</th>\n",
       "    </tr>\n",
       "  </thead>\n",
       "  <tbody>\n",
       "    <tr>\n",
       "      <th>0</th>\n",
       "      <td>2016</td>\n",
       "      <td>4</td>\n",
       "      <td>11</td>\n",
       "      <td>1</td>\n",
       "      <td>2</td>\n",
       "      <td>2016-11-01</td>\n",
       "      <td>AA</td>\n",
       "      <td>SFO</td>\n",
       "      <td>CA</td>\n",
       "      <td>DFW</td>\n",
       "      <td>TX</td>\n",
       "      <td>1000</td>\n",
       "      <td>0.0</td>\n",
       "      <td>0.0</td>\n",
       "      <td>1464.0</td>\n",
       "      <td>6</td>\n",
       "      <td>-13.0</td>\n",
       "      <td>0.0</td>\n",
       "      <td>0.0</td>\n",
       "      <td>171.0</td>\n",
       "    </tr>\n",
       "    <tr>\n",
       "      <th>1</th>\n",
       "      <td>2016</td>\n",
       "      <td>4</td>\n",
       "      <td>11</td>\n",
       "      <td>2</td>\n",
       "      <td>3</td>\n",
       "      <td>2016-11-02</td>\n",
       "      <td>AA</td>\n",
       "      <td>SFO</td>\n",
       "      <td>CA</td>\n",
       "      <td>DFW</td>\n",
       "      <td>TX</td>\n",
       "      <td>1000</td>\n",
       "      <td>0.0</td>\n",
       "      <td>0.0</td>\n",
       "      <td>1464.0</td>\n",
       "      <td>6</td>\n",
       "      <td>-4.0</td>\n",
       "      <td>0.0</td>\n",
       "      <td>0.0</td>\n",
       "      <td>187.0</td>\n",
       "    </tr>\n",
       "  </tbody>\n",
       "</table>\n",
       "</div>"
      ],
      "text/plain": [
       "   Year  Quarter  Month  DayofMonth  DayOfWeek  FlightDate Reporting_Airline  \\\n",
       "0  2016        4     11           1          2  2016-11-01                AA   \n",
       "1  2016        4     11           2          3  2016-11-02                AA   \n",
       "\n",
       "  Origin OriginState Dest DestState  CRSDepTime  Cancelled  Diverted  \\\n",
       "0    SFO          CA  DFW        TX        1000        0.0       0.0   \n",
       "1    SFO          CA  DFW        TX        1000        0.0       0.0   \n",
       "\n",
       "   Distance  DistanceGroup  ArrDelay  ArrDelayMinutes  is_delay  AirTime  \n",
       "0    1464.0              6     -13.0              0.0       0.0    171.0  \n",
       "1    1464.0              6      -4.0              0.0       0.0    187.0  "
      ]
     },
     "execution_count": 38,
     "metadata": {},
     "output_type": "execute_result"
    }
   ],
   "source": [
    "data.rename(columns={'ArrDel15':'is_delay'}, inplace=True)# Enter your code here\n",
    "data.head(2)"
   ]
  },
  {
   "cell_type": "markdown",
   "metadata": {},
   "source": [
    "Look for nulls across columns. You can use the `isnull()` function ([pandas.isnull documentation](https://pandas.pydata.org/pandas-docs/version/0.17.0/generated/pandas.isnull.html)).\n",
    "\n",
    "**Hint**: `isnull()` detects whether the particular value is null or not. It returns a boolean (*True* or *False*) in its place. To sum the number of columns, use the `sum(axis=0)` function (for example, `df.isnull().sum(axis=0)`)."
   ]
  },
  {
   "cell_type": "code",
   "execution_count": 39,
   "metadata": {},
   "outputs": [
    {
     "data": {
      "text/plain": [
       "Year                     0\n",
       "Quarter                  0\n",
       "Month                    0\n",
       "DayofMonth               0\n",
       "DayOfWeek                0\n",
       "FlightDate               0\n",
       "Reporting_Airline        0\n",
       "Origin                   0\n",
       "OriginState              0\n",
       "Dest                     0\n",
       "DestState                0\n",
       "CRSDepTime               0\n",
       "Cancelled                0\n",
       "Diverted                 0\n",
       "Distance                 0\n",
       "DistanceGroup            0\n",
       "ArrDelay             22540\n",
       "ArrDelayMinutes      22540\n",
       "is_delay             22540\n",
       "AirTime              22540\n",
       "dtype: int64"
      ]
     },
     "execution_count": 39,
     "metadata": {},
     "output_type": "execute_result"
    }
   ],
   "source": [
    "data.isnull().sum(axis=0)"
   ]
  },
  {
   "cell_type": "markdown",
   "metadata": {},
   "source": [
    "The arrival delay details and airtime are missing for 22,540 out of 1,658,130 rows, which is 1.3 percent. You can either remove or impute these rows. The documentation doesn't mention any information about missing rows.\n"
   ]
  },
  {
   "cell_type": "code",
   "execution_count": 41,
   "metadata": {},
   "outputs": [
    {
     "data": {
      "text/plain": [
       "Year                 0\n",
       "Quarter              0\n",
       "Month                0\n",
       "DayofMonth           0\n",
       "DayOfWeek            0\n",
       "FlightDate           0\n",
       "Reporting_Airline    0\n",
       "Origin               0\n",
       "OriginState          0\n",
       "Dest                 0\n",
       "DestState            0\n",
       "CRSDepTime           0\n",
       "Cancelled            0\n",
       "Diverted             0\n",
       "Distance             0\n",
       "DistanceGroup        0\n",
       "ArrDelay             0\n",
       "ArrDelayMinutes      0\n",
       "is_delay             0\n",
       "AirTime              0\n",
       "dtype: int64"
      ]
     },
     "execution_count": 41,
     "metadata": {},
     "output_type": "execute_result"
    }
   ],
   "source": [
    "### Remove null columns\n",
    "data = data[~data.is_delay.isnull()]\n",
    "data.isnull().sum(axis = 0)"
   ]
  },
  {
   "cell_type": "markdown",
   "metadata": {},
   "source": [
    "Get the hour of the day in 24-hour-time format from CRSDepTime."
   ]
  },
  {
   "cell_type": "code",
   "execution_count": 42,
   "metadata": {},
   "outputs": [],
   "source": [
    "data['DepHourofDay'] = (data['CRSDepTime']//100)"
   ]
  },
  {
   "cell_type": "markdown",
   "metadata": {},
   "source": [
    "## **The ML problem statement**\n",
    "- Given a set of features, can you predict if a flight is going to be delayed more than 15 minutes?\n",
    "- Because the target variable takes only a value of *0* or *1*, you could use a classification algorithm. \n",
    "\n",
    "Before you start modeling, it's a good practice to look at feature distribution, correlations, and others.\n",
    "- This will give you an idea of any non-linearity or patterns in the data\n",
    "    - Linear models: Add power, exponential, or interaction features\n",
    "    - Try a non-linear model\n",
    "- Data imbalance \n",
    "    - Choose metrics that won't give biased model performance (accuracy versus the area under the curve, or AUC)\n",
    "    - Use weighted or custom loss functions\n",
    "- Missing data\n",
    "    - Do imputation based on simple statistics -- mean, median, mode (numerical variables), frequent class (categorical variables)\n",
    "    - Clustering-based imputation (k-nearest neighbors, or KNNs, to predict column value)\n",
    "    - Drop column"
   ]
  },
  {
   "cell_type": "markdown",
   "metadata": {},
   "source": [
    "### Data exploration\n",
    "\n",
    "Check the classes *delay* versus *no delay*.\n"
   ]
  },
  {
   "cell_type": "code",
   "execution_count": 43,
   "metadata": {},
   "outputs": [
    {
     "data": {
      "image/png": "[encoded data removed]",
      "text/plain": [
       "<Figure size 432x288 with 1 Axes>"
      ]
     },
     "metadata": {
      "needs_background": "light"
     },
     "output_type": "display_data"
    }
   ],
   "source": [
    "(data.groupby('is_delay').size()/len(data) ).plot(kind='bar')# Enter your code here\n",
    "plt.ylabel('Frequency')\n",
    "plt.title('Distribution of classes')\n",
    "plt.show()"
   ]
  },
  {
   "cell_type": "markdown",
   "metadata": {},
   "source": [
    "**Question**: What can you deduce from the bar plot about the ratio of *delay* versus *no delay*?"
   ]
  },
  {
   "cell_type": "markdown",
   "metadata": {},
   "source": [
    "# Enter your answer here\n",
    "delay มีสัดส่วนที่น้อยกว่า no delay"
   ]
  },
  {
   "cell_type": "markdown",
   "metadata": {},
   "source": [
    "Run the following two cells and answer the questions."
   ]
  },
  {
   "cell_type": "code",
   "execution_count": 45,
   "metadata": {},
   "outputs": [
    {
     "data": {
      "image/png": "[encoded data removed]",
      "text/plain": [
       "<Figure size 1440x1440 with 6 Axes>"
      ]
     },
     "metadata": {
      "needs_background": "light"
     },
     "output_type": "display_data"
    }
   ],
   "source": [
    "viz_columns = ['Month', 'DepHourofDay', 'DayOfWeek', 'Reporting_Airline', 'Origin', 'Dest']\n",
    "fig, axes = plt.subplots(3, 2, figsize=(20,20), squeeze=False)\n",
    "# fig.autofmt_xdate(rotation=90)\n",
    "\n",
    "for idx, column in enumerate(viz_columns):\n",
    "    ax = axes[idx//2, idx%2]\n",
    "    temp = data.groupby(column)['is_delay'].value_counts(normalize=True).rename('percentage').\\\n",
    "    mul(100).reset_index().sort_values(column)\n",
    "    sns.barplot(x=column, y=\"percentage\", hue=\"is_delay\", data=temp, ax=ax)\n",
    "    plt.ylabel('% delay/no-delay')\n",
    "    \n",
    "\n",
    "plt.show()"
   ]
  },
  {
   "cell_type": "code",
   "execution_count": 46,
   "metadata": {},
   "outputs": [
    {
     "data": {
      "image/png": "[encoded data removed]",
      "text/plain": [
       "<Figure size 360x360 with 1 Axes>"
      ]
     },
     "metadata": {
      "needs_background": "light"
     },
     "output_type": "display_data"
    }
   ],
   "source": [
    "sns.lmplot( x=\"is_delay\", y=\"Distance\", data=data, fit_reg=False, hue='is_delay', legend=False)\n",
    "plt.legend(loc='center')\n",
    "plt.xlabel('is_delay')\n",
    "plt.ylabel('Distance')\n",
    "plt.show()"
   ]
  },
  {
   "cell_type": "markdown",
   "metadata": {},
   "source": [
    "**Questions**\n",
    "\n",
    "Using the data from the previous charts, answer these questions:\n",
    "\n",
    "- Which months have the most delays?\n",
    "- What time of the day has the most delays?\n",
    "- What day of the week has the most delays?\n",
    "- Which airline has the most delays?\n",
    "- Which origin and destination airports have the most delays?\n",
    "- Is flight distance a factor in the delays?"
   ]
  },
  {
   "cell_type": "markdown",
   "metadata": {},
   "source": [
    "# Enter your answers here\n",
    "Which months have the most delays = เดือน 6\n",
    "What time of the day has the most delays = 21.00\n",
    "What day of the week has the most delays = day 4\n",
    "Which airline has the most delays = WN\n",
    "Which origin and destination airports have the most delays = ORD , SFO\n",
    "Is flight distance a factor in the delays = ระยะทางไม่มีผลต่อการดีเลย์"
   ]
  },
  {
   "cell_type": "markdown",
   "metadata": {},
   "source": [
    "### Features\n",
    "\n",
    "Look at all the columns and what their specific types are."
   ]
  },
  {
   "cell_type": "code",
   "execution_count": 47,
   "metadata": {},
   "outputs": [
    {
     "data": {
      "text/plain": [
       "Index(['Year', 'Quarter', 'Month', 'DayofMonth', 'DayOfWeek', 'FlightDate',\n",
       "       'Reporting_Airline', 'Origin', 'OriginState', 'Dest', 'DestState',\n",
       "       'CRSDepTime', 'Cancelled', 'Diverted', 'Distance', 'DistanceGroup',\n",
       "       'ArrDelay', 'ArrDelayMinutes', 'is_delay', 'AirTime', 'DepHourofDay'],\n",
       "      dtype='object')"
      ]
     },
     "execution_count": 47,
     "metadata": {},
     "output_type": "execute_result"
    }
   ],
   "source": [
    "data.columns"
   ]
  },
  {
   "cell_type": "code",
   "execution_count": 48,
   "metadata": {},
   "outputs": [
    {
     "data": {
      "text/plain": [
       "Year                   int64\n",
       "Quarter                int64\n",
       "Month                  int64\n",
       "DayofMonth             int64\n",
       "DayOfWeek              int64\n",
       "FlightDate            object\n",
       "Reporting_Airline     object\n",
       "Origin                object\n",
       "OriginState           object\n",
       "Dest                  object\n",
       "DestState             object\n",
       "CRSDepTime             int64\n",
       "Cancelled            float64\n",
       "Diverted             float64\n",
       "Distance             float64\n",
       "DistanceGroup          int64\n",
       "ArrDelay             float64\n",
       "ArrDelayMinutes      float64\n",
       "is_delay             float64\n",
       "AirTime              float64\n",
       "DepHourofDay           int64\n",
       "dtype: object"
      ]
     },
     "execution_count": 48,
     "metadata": {},
     "output_type": "execute_result"
    }
   ],
   "source": [
    "data.dtypes"
   ]
  },
  {
   "cell_type": "markdown",
   "metadata": {},
   "source": [
    "Filtering the required columns:\n",
    "- *Date* is redundant, because you have *Year*, *Quarter*, *Month*, *DayofMonth*, and *DayOfWeek* to describe the date.\n",
    "- Use *Origin* and *Dest* codes instead of *OriginState* and *DestState*.\n",
    "- Because you are only classifying whether the flight is delayed or not, you don't need *TotalDelayMinutes*, *DepDelayMinutes*, and *ArrDelayMinutes*.\n",
    "\n",
    "Treat *DepHourofDay* as a categorical variable because it doesn't have any quantitative relation with the target.\n",
    "- If you needed to do a one-hot encoding of this variable, it would result in 23 more columns.\n",
    "- Other alternatives to handling categorical variables include hash encoding, regularized mean encoding, and bucketizing the values, among others.\n",
    "- In this case, you only need to split into buckets.\n",
    "\n",
    "To change a column type to category, use the `astype` function ([pandas.DataFrame.astype documentation](https://pandas.pydata.org/pandas-docs/stable/reference/api/pandas.DataFrame.astype.html))."
   ]
  },
  {
   "cell_type": "code",
   "execution_count": 49,
   "metadata": {},
   "outputs": [],
   "source": [
    "data_orig = data.copy()\n",
    "data = data[[ 'is_delay', 'Quarter', 'Month', 'DayofMonth', 'DayOfWeek', \n",
    "       'Reporting_Airline', 'Origin', 'Dest','Distance','DepHourofDay']]\n",
    "categorical_columns  = ['Quarter', 'Month', 'DayofMonth', 'DayOfWeek', \n",
    "       'Reporting_Airline', 'Origin', 'Dest', 'DepHourofDay']\n",
    "for c in categorical_columns:\n",
    "    data[c] = data[c].astype('category')"
   ]
  },
  {
   "cell_type": "markdown",
   "metadata": {},
   "source": [
    "To use one-hot encoding, use the `get_dummies` function in pandas for the categorical columns that you selected. Then, you can concatenate those generated features to your original dataset by using the `concat` function in pandas. For encoding categorical variables, you can also use *dummy encoding* by using a keyword `drop_first=True`. For more information about dummy encoding, see [Dummy variable (statistics)](https://en.wikiversity.org/wiki/Dummy_variable_(statistics)).\n",
    "\n",
    "For example:\n",
    "```\n",
    "pd.get_dummies(df[['column1','columns2']], drop_first=True)\n",
    "```"
   ]
  },
  {
   "cell_type": "code",
   "execution_count": 51,
   "metadata": {},
   "outputs": [],
   "source": [
    "data_dummies = pd.get_dummies(data[['is_delay', 'Quarter', 'Month', 'DayofMonth', 'DayOfWeek', \n",
    "       'Reporting_Airline', 'Origin', 'Dest','Distance','DepHourofDay']], drop_first=True) # Enter your code here\n",
    "data = pd.concat([data, data_dummies], axis = 1)\n",
    "data.drop(categorical_columns,axis=1, inplace=True)"
   ]
  },
  {
   "cell_type": "markdown",
   "metadata": {},
   "source": [
    "Check the length of the dataset and the new columns.\n",
    "\n",
    "**Hint**: Use the `shape` and `columns` properties."
   ]
  },
  {
   "cell_type": "code",
   "execution_count": 52,
   "metadata": {},
   "outputs": [
    {
     "data": {
      "text/plain": [
       "(1635590, 96)"
      ]
     },
     "execution_count": 52,
     "metadata": {},
     "output_type": "execute_result"
    }
   ],
   "source": [
    "# Enter your code here\n",
    "data.shape"
   ]
  },
  {
   "cell_type": "code",
   "execution_count": 54,
   "metadata": {},
   "outputs": [
    {
     "data": {
      "text/plain": [
       "Index(['is_delay', 'Distance', 'is_delay', 'Distance', 'Quarter_2',\n",
       "       'Quarter_3', 'Quarter_4', 'Month_2', 'Month_3', 'Month_4', 'Month_5',\n",
       "       'Month_6', 'Month_7', 'Month_8', 'Month_9', 'Month_10', 'Month_11',\n",
       "       'Month_12', 'DayofMonth_2', 'DayofMonth_3', 'DayofMonth_4',\n",
       "       'DayofMonth_5', 'DayofMonth_6', 'DayofMonth_7', 'DayofMonth_8',\n",
       "       'DayofMonth_9', 'DayofMonth_10', 'DayofMonth_11', 'DayofMonth_12',\n",
       "       'DayofMonth_13', 'DayofMonth_14', 'DayofMonth_15', 'DayofMonth_16',\n",
       "       'DayofMonth_17', 'DayofMonth_18', 'DayofMonth_19', 'DayofMonth_20',\n",
       "       'DayofMonth_21', 'DayofMonth_22', 'DayofMonth_23', 'DayofMonth_24',\n",
       "       'DayofMonth_25', 'DayofMonth_26', 'DayofMonth_27', 'DayofMonth_28',\n",
       "       'DayofMonth_29', 'DayofMonth_30', 'DayofMonth_31', 'DayOfWeek_2',\n",
       "       'DayOfWeek_3', 'DayOfWeek_4', 'DayOfWeek_5', 'DayOfWeek_6',\n",
       "       'DayOfWeek_7', 'Reporting_Airline_DL', 'Reporting_Airline_OO',\n",
       "       'Reporting_Airline_UA', 'Reporting_Airline_WN', 'Origin_CLT',\n",
       "       'Origin_DEN', 'Origin_DFW', 'Origin_IAH', 'Origin_LAX', 'Origin_ORD',\n",
       "       'Origin_PHX', 'Origin_SFO', 'Dest_CLT', 'Dest_DEN', 'Dest_DFW',\n",
       "       'Dest_IAH', 'Dest_LAX', 'Dest_ORD', 'Dest_PHX', 'Dest_SFO',\n",
       "       'DepHourofDay_1', 'DepHourofDay_2', 'DepHourofDay_4', 'DepHourofDay_5',\n",
       "       'DepHourofDay_6', 'DepHourofDay_7', 'DepHourofDay_8', 'DepHourofDay_9',\n",
       "       'DepHourofDay_10', 'DepHourofDay_11', 'DepHourofDay_12',\n",
       "       'DepHourofDay_13', 'DepHourofDay_14', 'DepHourofDay_15',\n",
       "       'DepHourofDay_16', 'DepHourofDay_17', 'DepHourofDay_18',\n",
       "       'DepHourofDay_19', 'DepHourofDay_20', 'DepHourofDay_21',\n",
       "       'DepHourofDay_22', 'DepHourofDay_23'],\n",
       "      dtype='object')"
      ]
     },
     "execution_count": 54,
     "metadata": {},
     "output_type": "execute_result"
    }
   ],
   "source": [
    "# Enter your code here\n",
    "data.columns"
   ]
  },
  {
   "cell_type": "markdown",
   "metadata": {},
   "source": [
    "You are now ready to train the model. Before you split the data, rename the **is_delay** column to *target*.\n",
    "\n",
    "**Hint**: You can use the `rename` function in pandas ([pandas.DataFrame.rename documentation](https://pandas.pydata.org/pandas-docs/stable/reference/api/pandas.DataFrame.rename.html))."
   ]
  },
  {
   "cell_type": "code",
   "execution_count": 60,
   "metadata": {},
   "outputs": [
    {
     "data": {
      "text/html": [
       "<div>\n",
       "<style scoped>\n",
       "    .dataframe tbody tr th:only-of-type {\n",
       "        vertical-align: middle;\n",
       "    }\n",
       "\n",
       "    .dataframe tbody tr th {\n",
       "        vertical-align: top;\n",
       "    }\n",
       "\n",
       "    .dataframe thead th {\n",
       "        text-align: right;\n",
       "    }\n",
       "</style>\n",
       "<table border=\"1\" class=\"dataframe\">\n",
       "  <thead>\n",
       "    <tr style=\"text-align: right;\">\n",
       "      <th></th>\n",
       "      <th>target</th>\n",
       "      <th>Distance</th>\n",
       "      <th>target</th>\n",
       "      <th>Distance</th>\n",
       "      <th>Quarter_2</th>\n",
       "      <th>Quarter_3</th>\n",
       "      <th>Quarter_4</th>\n",
       "      <th>Month_2</th>\n",
       "      <th>Month_3</th>\n",
       "      <th>Month_4</th>\n",
       "      <th>...</th>\n",
       "      <th>DepHourofDay_14</th>\n",
       "      <th>DepHourofDay_15</th>\n",
       "      <th>DepHourofDay_16</th>\n",
       "      <th>DepHourofDay_17</th>\n",
       "      <th>DepHourofDay_18</th>\n",
       "      <th>DepHourofDay_19</th>\n",
       "      <th>DepHourofDay_20</th>\n",
       "      <th>DepHourofDay_21</th>\n",
       "      <th>DepHourofDay_22</th>\n",
       "      <th>DepHourofDay_23</th>\n",
       "    </tr>\n",
       "  </thead>\n",
       "  <tbody>\n",
       "    <tr>\n",
       "      <th>0</th>\n",
       "      <td>0.0</td>\n",
       "      <td>1464.0</td>\n",
       "      <td>0.0</td>\n",
       "      <td>1464.0</td>\n",
       "      <td>0</td>\n",
       "      <td>0</td>\n",
       "      <td>1</td>\n",
       "      <td>0</td>\n",
       "      <td>0</td>\n",
       "      <td>0</td>\n",
       "      <td>...</td>\n",
       "      <td>0</td>\n",
       "      <td>0</td>\n",
       "      <td>0</td>\n",
       "      <td>0</td>\n",
       "      <td>0</td>\n",
       "      <td>0</td>\n",
       "      <td>0</td>\n",
       "      <td>0</td>\n",
       "      <td>0</td>\n",
       "      <td>0</td>\n",
       "    </tr>\n",
       "    <tr>\n",
       "      <th>1</th>\n",
       "      <td>0.0</td>\n",
       "      <td>1464.0</td>\n",
       "      <td>0.0</td>\n",
       "      <td>1464.0</td>\n",
       "      <td>0</td>\n",
       "      <td>0</td>\n",
       "      <td>1</td>\n",
       "      <td>0</td>\n",
       "      <td>0</td>\n",
       "      <td>0</td>\n",
       "      <td>...</td>\n",
       "      <td>0</td>\n",
       "      <td>0</td>\n",
       "      <td>0</td>\n",
       "      <td>0</td>\n",
       "      <td>0</td>\n",
       "      <td>0</td>\n",
       "      <td>0</td>\n",
       "      <td>0</td>\n",
       "      <td>0</td>\n",
       "      <td>0</td>\n",
       "    </tr>\n",
       "  </tbody>\n",
       "</table>\n",
       "<p>2 rows × 96 columns</p>\n",
       "</div>"
      ],
      "text/plain": [
       "   target  Distance  target  Distance  Quarter_2  Quarter_3  Quarter_4  \\\n",
       "0     0.0    1464.0     0.0    1464.0          0          0          1   \n",
       "1     0.0    1464.0     0.0    1464.0          0          0          1   \n",
       "\n",
       "   Month_2  Month_3  Month_4  ...  DepHourofDay_14  DepHourofDay_15  \\\n",
       "0        0        0        0  ...                0                0   \n",
       "1        0        0        0  ...                0                0   \n",
       "\n",
       "   DepHourofDay_16  DepHourofDay_17  DepHourofDay_18  DepHourofDay_19  \\\n",
       "0                0                0                0                0   \n",
       "1                0                0                0                0   \n",
       "\n",
       "   DepHourofDay_20  DepHourofDay_21  DepHourofDay_22  DepHourofDay_23  \n",
       "0                0                0                0                0  \n",
       "1                0                0                0                0  \n",
       "\n",
       "[2 rows x 96 columns]"
      ]
     },
     "execution_count": 60,
     "metadata": {},
     "output_type": "execute_result"
    }
   ],
   "source": [
    "data.rename(columns = {'is_delay':'target'}, inplace=True )# Enter your code here\n",
    "data.head(2)"
   ]
  },
  {
   "cell_type": "markdown",
   "metadata": {},
   "source": [
    "## <span style=\"color:red\"> End of Step 2 </span>\n",
    "\n",
    "Save the project file to your local computer. Follow these steps:\n",
    "\n",
    "1. In the file explorer on the left, right-click the notebook that you're working on. \n",
    "\n",
    "2. Choose **Download**, and save the file locally.  \n",
    "\n",
    "This action downloads the current notebook to the default download folder on your computer."
   ]
  },
  {
   "cell_type": "markdown",
   "metadata": {},
   "source": [
    "# Step 3: Model training and evaluation\n",
    "\n",
    "You must include some preliminary steps when you convert the dataset from a DataFrame to a format that a machine learning algorithm can use. For Amazon SageMaker, you must perform these steps:\n",
    "\n",
    "1. Split the data into `train_data`, `validation_data`, and `test_data` by using `sklearn.model_selection.train_test_split`.  \n",
    "\n",
    "2. Convert the dataset to an appropriate file format that the Amazon SageMaker training job can use. This can be either a CSV file or record protobuf. For more information, see [Common Data Formats for Training](https://docs.aws.amazon.com/sagemaker/latest/dg/cdf-training.html).  \n",
    "\n",
    "3. Upload the data to your S3 bucket. If you haven't created one before, see [Create a Bucket](https://docs.aws.amazon.com/AmazonS3/latest/gsg/CreatingABucket.html).  \n",
    "\n",
    "Use the following cells to complete these steps. Insert and delete cells where needed.\n",
    "\n",
    "#### <span style=\"color: blue;\">Project presentation: In your project presentation, write down the key decisions that you made in this phase.</span>"
   ]
  },
  {
   "cell_type": "markdown",
   "metadata": {},
   "source": [
    "### Train-test split"
   ]
  },
  {
   "cell_type": "code",
   "execution_count": 58,
   "metadata": {},
   "outputs": [],
   "source": [
    "from sklearn.model_selection import train_test_split\n",
    "def split_data(data):\n",
    "    train, test_and_validate = train_test_split(data, test_size=0.2, random_state=42, stratify=data['target'])\n",
    "    test, validate = train_test_split(test_and_validate, test_size=0.5, random_state=42, stratify=test_and_validate['target'])\n",
    "    return train, validate, test"
   ]
  },
  {
   "cell_type": "code",
   "execution_count": null,
   "metadata": {},
   "outputs": [],
   "source": [
    "train, validate, test = split_data(data)\n",
    "print(train['target'].value_counts())\n",
    "print(test['target'].value_counts())\n",
    "print(validate['target'].value_counts())"
   ]
  },
  {
   "cell_type": "markdown",
   "metadata": {},
   "source": [
    "**Sample answer**\n",
    "```\n",
    "0.0    1033570\n",
    "1.0     274902\n",
    "Name: target, dtype: int64\n",
    "0.0    129076\n",
    "1.0     34483\n",
    "Name: target, dtype: int64\n",
    "0.0    129612\n",
    "1.0     33947\n",
    "Name: target, dtype: int64\n",
    "```"
   ]
  },
  {
   "cell_type": "markdown",
   "metadata": {},
   "source": [
    "### Baseline classification model"
   ]
  },
  {
   "cell_type": "code",
   "execution_count": 67,
   "metadata": {},
   "outputs": [],
   "source": [
    "import sagemaker\n",
    "from sagemaker.serializers import CSVSerializer\n",
    "from sagemaker.amazon.amazon_estimator import RecordSet\n",
    "import boto3\n",
    "\n",
    "# Instantiate the LinearLearner estimator object with 1 ml.m4.xlarge\n",
    "classifier_estimator = sagemaker.LinearLearner(role=sagemaker.get_execution_role(),\n",
    "                                               instance_count=1,\n",
    "                                               instance_type='ml.m4.xlarge',\n",
    "                                               predictor_type='binary_classifier',\n",
    "                                               binary_classifier_model_selection_criteria='accuracy')"
   ]
  },
  {
   "cell_type": "markdown",
   "metadata": {},
   "source": [
    "### Sample code\n",
    "```\n",
    "num_classes = len(pd.unique(train_labels))\n",
    "classifier_estimator = sagemaker.LinearLearner(role=sagemaker.get_execution_role(),\n",
    "                                              instance_count=1,\n",
    "                                              instance_type='ml.m4.xlarge',\n",
    "                                              predictor_type='binary_classifier',\n",
    "                                              binary_classifier_model_selection_criteria = 'cross_entropy_loss')\n",
    "                                              \n",
    "```"
   ]
  },
  {
   "cell_type": "markdown",
   "metadata": {},
   "source": [
    "Linear learner accepts training data in protobuf or CSV content types. It also accepts inference requests in protobuf, CSV, or JavaScript Object Notation (JSON) content types. Training data has features and ground-truth labels, but the data in an inference request has only features.\n",
    "\n",
    "In a production pipeline, AWS recommends converting the data to the Amazon SageMaker protobuf format and storing it in Amazon S3. To get up and running quickly, AWS provides the `record_set` operation for converting and uploading the dataset when it's small enough to fit in local memory. It accepts NumPy arrays like the ones you already have, so you will use it for this step. The `RecordSet` object will track the temporary Amazon S3 location of your data. Create train, validation, and test records by using the `estimator.record_set` function. Then, start your training job by using the `estimator.fit` function."
   ]
  },
  {
   "cell_type": "code",
   "execution_count": 68,
   "metadata": {},
   "outputs": [],
   "source": [
    "### Create train, validate, and test records\n",
    "train_records = classifier_estimator.record_set(train.values[:, 1:].astype(np.float32), train.values[:, 0].astype(np.float32), channel='train')\n",
    "val_records = classifier_estimator.record_set(validate.values[:, 1:].astype(np.float32), validate.values[:, 0].astype(np.float32), channel='validation')\n",
    "test_records = classifier_estimator.record_set(test.values[:, 1:].astype(np.float32), test.values[:, 0].astype(np.float32), channel='test')"
   ]
  },
  {
   "cell_type": "markdown",
   "metadata": {},
   "source": [
    "Now, train your model on the dataset that you just uploaded.\n",
    "\n",
    "### Sample code\n",
    "```\n",
    "linear.fit([train_records,val_records,test_records])\n",
    "```"
   ]
  },
  {
   "cell_type": "code",
   "execution_count": 70,
   "metadata": {},
   "outputs": [
    {
     "name": "stderr",
     "output_type": "stream",
     "text": [
      "Defaulting to the only supported framework/algorithm version: 1. Ignoring framework/algorithm version: 1.\n",
      "Defaulting to the only supported framework/algorithm version: 1. Ignoring framework/algorithm version: 1.\n"
     ]
    },
    {
     "name": "stdout",
     "output_type": "stream",
     "text": [
      "2022-04-18 23:01:38 Starting - Starting the training job...\n",
      "2022-04-18 23:02:06 Starting - Preparing the instances for trainingProfilerReport-1650322898: InProgress\n",
      ".........\n",
      "2022-04-18 23:03:37 Downloading - Downloading input data......\n",
      "2022-04-18 23:04:33 Training - Downloading the training image...\n",
      "2022-04-18 23:05:05 Training - Training image download completed. Training in progress.\u001b[34mDocker entrypoint called with argument(s): train\u001b[0m\n",
      "\u001b[34mRunning default environment configuration script\u001b[0m\n",
      "\u001b[34m[04/18/2022 23:05:06 INFO 140493168445248 integration.py:636] worker started\u001b[0m\n",
      "\u001b[34m[04/18/2022 23:05:06 INFO 140493168445248] Reading default configuration from /opt/amazon/lib/python3.7/site-packages/algorithm/resources/default-input.json: {'mini_batch_size': '1000', 'epochs': '15', 'feature_dim': 'auto', 'use_bias': 'true', 'binary_classifier_model_selection_criteria': 'accuracy', 'f_beta': '1.0', 'target_recall': '0.8', 'target_precision': '0.8', 'num_models': 'auto', 'num_calibration_samples': '10000000', 'init_method': 'uniform', 'init_scale': '0.07', 'init_sigma': '0.01', 'init_bias': '0.0', 'optimizer': 'auto', 'loss': 'auto', 'margin': '1.0', 'quantile': '0.5', 'loss_insensitivity': '0.01', 'huber_delta': '1.0', 'num_classes': '1', 'accuracy_top_k': '3', 'wd': 'auto', 'l1': 'auto', 'momentum': 'auto', 'learning_rate': 'auto', 'beta_1': 'auto', 'beta_2': 'auto', 'bias_lr_mult': 'auto', 'bias_wd_mult': 'auto', 'use_lr_scheduler': 'true', 'lr_scheduler_step': 'auto', 'lr_scheduler_factor': 'auto', 'lr_scheduler_minimum_lr': 'auto', 'positive_example_weight_mult': '1.0', 'balance_multiclass_weights': 'false', 'normalize_data': 'true', 'normalize_label': 'auto', 'unbias_data': 'auto', 'unbias_label': 'auto', 'num_point_for_scaler': '10000', '_kvstore': 'auto', '_num_gpus': 'auto', '_num_kv_servers': 'auto', '_log_level': 'info', '_tuning_objective_metric': '', 'early_stopping_patience': '3', 'early_stopping_tolerance': '0.001', '_enable_profiler': 'false'}\u001b[0m\n",
      "\u001b[34m[04/18/2022 23:05:06 INFO 140493168445248] Merging with provided configuration from /opt/ml/input/config/hyperparameters.json: {'binary_classifier_model_selection_criteria': 'accuracy', 'feature_dim': '95', 'mini_batch_size': '1000', 'predictor_type': 'binary_classifier'}\u001b[0m\n",
      "\u001b[34m[04/18/2022 23:05:06 INFO 140493168445248] Final configuration: {'mini_batch_size': '1000', 'epochs': '15', 'feature_dim': '95', 'use_bias': 'true', 'binary_classifier_model_selection_criteria': 'accuracy', 'f_beta': '1.0', 'target_recall': '0.8', 'target_precision': '0.8', 'num_models': 'auto', 'num_calibration_samples': '10000000', 'init_method': 'uniform', 'init_scale': '0.07', 'init_sigma': '0.01', 'init_bias': '0.0', 'optimizer': 'auto', 'loss': 'auto', 'margin': '1.0', 'quantile': '0.5', 'loss_insensitivity': '0.01', 'huber_delta': '1.0', 'num_classes': '1', 'accuracy_top_k': '3', 'wd': 'auto', 'l1': 'auto', 'momentum': 'auto', 'learning_rate': 'auto', 'beta_1': 'auto', 'beta_2': 'auto', 'bias_lr_mult': 'auto', 'bias_wd_mult': 'auto', 'use_lr_scheduler': 'true', 'lr_scheduler_step': 'auto', 'lr_scheduler_factor': 'auto', 'lr_scheduler_minimum_lr': 'auto', 'positive_example_weight_mult': '1.0', 'balance_multiclass_weights': 'false', 'normalize_data': 'true', 'normalize_label': 'auto', 'unbias_data': 'auto', 'unbias_label': 'auto', 'num_point_for_scaler': '10000', '_kvstore': 'auto', '_num_gpus': 'auto', '_num_kv_servers': 'auto', '_log_level': 'info', '_tuning_objective_metric': '', 'early_stopping_patience': '3', 'early_stopping_tolerance': '0.001', '_enable_profiler': 'false', 'predictor_type': 'binary_classifier'}\u001b[0m\n",
      "\u001b[34m[04/18/2022 23:05:06 WARNING 140493168445248] Loggers have already been setup.\u001b[0m\n",
      "\u001b[34mProcess 1 is a worker.\u001b[0m\n",
      "\u001b[34m[04/18/2022 23:05:06 INFO 140493168445248] Using default worker.\u001b[0m\n",
      "\u001b[34m[04/18/2022 23:05:06 INFO 140493168445248] Checkpoint loading and saving are disabled.\u001b[0m\n",
      "\u001b[34m[2022-04-18 23:05:06.457] [tensorio] [warning] TensorIO is already initialized; ignoring the initialization routine.\u001b[0m\n",
      "\u001b[34m[2022-04-18 23:05:06.467] [tensorio] [warning] TensorIO is already initialized; ignoring the initialization routine.\u001b[0m\n",
      "\u001b[34m[2022-04-18 23:05:06.551] [tensorio] [info] epoch_stats={\"data_pipeline\": \"/opt/ml/input/data/train\", \"epoch\": 0, \"duration\": 104, \"num_examples\": 1, \"num_bytes\": 428000}\u001b[0m\n",
      "\u001b[34m[04/18/2022 23:05:06 INFO 140493168445248] Create Store: local\u001b[0m\n",
      "\u001b[34m[2022-04-18 23:05:06.721] [tensorio] [info] epoch_stats={\"data_pipeline\": \"/opt/ml/input/data/train\", \"epoch\": 1, \"duration\": 168, \"num_examples\": 11, \"num_bytes\": 4708000}\u001b[0m\n",
      "\u001b[34m[04/18/2022 23:05:06 INFO 140493168445248] Scaler algorithm parameters\n",
      " <algorithm.scaler.ScalerAlgorithmStable object at 0x7fc6b8db7ed0>\u001b[0m\n",
      "\u001b[34m[04/18/2022 23:05:06 INFO 140493168445248] Scaling model computed with parameters:\n",
      " {'stdev_label': None, 'stdev_weight': \u001b[0m\n",
      "\u001b[34m[5.3343506e+02 4.1050661e-01 5.3343506e+02 4.3008721e-01 4.4405359e-01\n",
      " 4.3596333e-01 2.6102975e-01 2.7833980e-01 2.7255568e-01 2.7339277e-01\n",
      " 2.7560723e-01 2.8539872e-01 2.9682240e-01 2.7601957e-01 2.8487492e-01\n",
      " 2.7436474e-01 2.7752411e-01 1.7405383e-01 1.7816046e-01 1.7133678e-01\n",
      " 1.7720398e-01 1.7307141e-01 1.7405385e-01 1.7816047e-01 1.8099521e-01\n",
      " 1.8076095e-01 1.8331906e-01 1.8377976e-01 1.7863649e-01 1.7551577e-01\n",
      " 1.7648269e-01 1.8192884e-01 1.7816046e-01 1.8076093e-01 1.8583660e-01\n",
      " 1.8538183e-01 1.8122913e-01 1.7600001e-01 1.7380884e-01 1.7696391e-01\n",
      " 1.7982030e-01 1.7863649e-01 1.7033654e-01 1.8005596e-01 1.8146273e-01\n",
      " 1.7033653e-01 1.2790464e-01 3.4566173e-01 3.5428712e-01 3.5337943e-01\n",
      " 3.5857978e-01 3.2749569e-01 3.4613618e-01 3.7126258e-01 2.3714967e-01\n",
      " 4.5888969e-01 3.1692594e-01 2.4115555e-01 3.2250047e-01 3.3419102e-01\n",
      " 2.7820414e-01 3.5255852e-01 3.3530056e-01 3.0180967e-01 3.2076919e-01\n",
      " 2.3765521e-01 3.1770080e-01 3.2496157e-01 2.7450320e-01 3.5264996e-01\n",
      " 3.3550155e-01 3.0372128e-01 3.3720142e-01 4.6658956e-02 1.0000000e+00\n",
      " 1.0000000e+00 1.6549201e-01 2.3253612e-01 2.5329950e-01 2.4891667e-01\n",
      " 2.4165024e-01 2.4410403e-01 2.3815933e-01 2.5143364e-01 2.4165024e-01\n",
      " 2.4812311e-01 2.3288187e-01 2.3545448e-01 2.3528408e-01 2.2092301e-01\n",
      " 2.2921814e-01 1.8987285e-01 1.5722698e-01 1.6806139e-01 1.0258281e-01]\u001b[0m\n",
      "\u001b[34m<NDArray 95 @cpu(0)>, 'mean_label': None, 'mean_weight': \u001b[0m\n",
      "\u001b[34m[1.01097778e+03 2.14545459e-01 1.01097778e+03 2.45000020e-01\n",
      " 2.70181805e-01 2.55181849e-01 7.35454559e-02 8.46363753e-02\n",
      " 8.08181912e-02 8.13636407e-02 8.28181878e-02 8.94545615e-02\n",
      " 9.76363644e-02 8.30909014e-02 8.90909359e-02 8.20000097e-02\n",
      " 8.40909109e-02 3.12727243e-02 3.28181833e-02 3.02727297e-02\n",
      " 3.24545465e-02 3.09090912e-02 3.12727280e-02 3.28181833e-02\n",
      " 3.39090973e-02 3.38181853e-02 3.48181799e-02 3.50000039e-02\n",
      " 3.30000035e-02 3.18181813e-02 3.21818218e-02 3.42727266e-02\n",
      " 3.28181833e-02 3.38181853e-02 3.58181819e-02 3.56363654e-02\n",
      " 3.40000018e-02 3.20000052e-02 3.11818197e-02 3.23636420e-02\n",
      " 3.34545486e-02 3.30000035e-02 2.99090948e-02 3.35454568e-02\n",
      " 3.40909138e-02 2.99090948e-02 1.66363660e-02 1.38727263e-01\n",
      " 1.47181854e-01 1.46272734e-01 1.51545465e-01 1.22181825e-01\n",
      " 1.39181823e-01 1.65090904e-01 5.98181896e-02 3.01454544e-01\n",
      " 1.13272741e-01 6.20000027e-02 1.17909096e-01 1.28090918e-01\n",
      " 8.45454559e-02 1.45454556e-01 1.29090935e-01 1.01363644e-01\n",
      " 1.16454549e-01 6.00909106e-02 1.13909110e-01 1.20000005e-01\n",
      " 8.20909217e-02 1.45545468e-01 1.29272729e-01 1.02818191e-01\n",
      " 1.30818203e-01 2.18181824e-03 0.00000000e+00 0.00000000e+00\n",
      " 2.81818230e-02 5.73636368e-02 6.89090937e-02 6.63636401e-02\n",
      " 6.22727312e-02 6.36363626e-02 6.03636354e-02 6.78181872e-02\n",
      " 6.22727349e-02 6.59091026e-02 5.75454608e-02 5.89090995e-02\n",
      " 5.88181876e-02 5.14545515e-02 5.56363687e-02 3.74545529e-02\n",
      " 2.53636371e-02 2.90909111e-02 1.06363632e-02]\u001b[0m\n",
      "\u001b[34m<NDArray 95 @cpu(0)>}\u001b[0m\n",
      "\u001b[34m[04/18/2022 23:05:06 INFO 140493168445248] nvidia-smi: took 0.086 seconds to run.\u001b[0m\n",
      "\u001b[34m[04/18/2022 23:05:06 INFO 140493168445248] nvidia-smi identified 0 GPUs.\u001b[0m\n",
      "\u001b[34m[04/18/2022 23:05:06 INFO 140493168445248] Number of GPUs being used: 0\u001b[0m\n",
      "\u001b[34m#metrics {\"StartTime\": 1650323106.9345512, \"EndTime\": 1650323106.934593, \"Dimensions\": {\"Algorithm\": \"Linear Learner\", \"Host\": \"algo-1\", \"Operation\": \"training\", \"Meta\": \"init_train_data_iter\"}, \"Metrics\": {\"Total Records Seen\": {\"sum\": 12000.0, \"count\": 1, \"min\": 12000, \"max\": 12000}, \"Total Batches Seen\": {\"sum\": 12.0, \"count\": 1, \"min\": 12, \"max\": 12}, \"Max Records Seen Between Resets\": {\"sum\": 11000.0, \"count\": 1, \"min\": 11000, \"max\": 11000}, \"Max Batches Seen Between Resets\": {\"sum\": 11.0, \"count\": 1, \"min\": 11, \"max\": 11}, \"Reset Count\": {\"sum\": 2.0, \"count\": 1, \"min\": 2, \"max\": 2}, \"Number of Records Since Last Reset\": {\"sum\": 0.0, \"count\": 1, \"min\": 0, \"max\": 0}, \"Number of Batches Since Last Reset\": {\"sum\": 0.0, \"count\": 1, \"min\": 0, \"max\": 0}}}\u001b[0m\n",
      "\u001b[34m[2022-04-18 23:06:06.403] [tensorio] [info] epoch_stats={\"data_pipeline\": \"/opt/ml/input/data/train\", \"epoch\": 3, \"duration\": 59467, \"num_examples\": 1309, \"num_bytes\": 560026016}\u001b[0m\n",
      "\u001b[34m#metrics {\"StartTime\": 1650323166.4036703, \"EndTime\": 1650323166.4039123, \"Dimensions\": {\"Algorithm\": \"Linear Learner\", \"Host\": \"algo-1\", \"Operation\": \"training\", \"epoch\": 0, \"model\": 0}, \"Metrics\": {\"train_binary_classification_cross_entropy_objective\": {\"sum\": 0.1331664172443775, \"count\": 1, \"min\": 0.1331664172443775, \"max\": 0.1331664172443775}}}\u001b[0m\n",
      "\u001b[34m#metrics {\"StartTime\": 1650323166.4045165, \"EndTime\": 1650323166.4045448, \"Dimensions\": {\"Algorithm\": \"Linear Learner\", \"Host\": \"algo-1\", \"Operation\": \"training\", \"epoch\": 0, \"model\": 1}, \"Metrics\": {\"train_binary_classification_cross_entropy_objective\": {\"sum\": 0.10864174193198528, \"count\": 1, \"min\": 0.10864174193198528, \"max\": 0.10864174193198528}}}\u001b[0m\n",
      "\u001b[34m#metrics {\"StartTime\": 1650323166.4046538, \"EndTime\": 1650323166.404672, \"Dimensions\": {\"Algorithm\": \"Linear Learner\", \"Host\": \"algo-1\", \"Operation\": \"training\", \"epoch\": 0, \"model\": 2}, \"Metrics\": {\"train_binary_classification_cross_entropy_objective\": {\"sum\": 0.13493469757406718, \"count\": 1, \"min\": 0.13493469757406718, \"max\": 0.13493469757406718}}}\u001b[0m\n",
      "\u001b[34m#metrics {\"StartTime\": 1650323166.4047272, \"EndTime\": 1650323166.404742, \"Dimensions\": {\"Algorithm\": \"Linear Learner\", \"Host\": \"algo-1\", \"Operation\": \"training\", \"epoch\": 0, \"model\": 3}, \"Metrics\": {\"train_binary_classification_cross_entropy_objective\": {\"sum\": 0.11081204543419934, \"count\": 1, \"min\": 0.11081204543419934, \"max\": 0.11081204543419934}}}\u001b[0m\n",
      "\u001b[34m#metrics {\"StartTime\": 1650323166.4047914, \"EndTime\": 1650323166.4048054, \"Dimensions\": {\"Algorithm\": \"Linear Learner\", \"Host\": \"algo-1\", \"Operation\": \"training\", \"epoch\": 0, \"model\": 4}, \"Metrics\": {\"train_binary_classification_cross_entropy_objective\": {\"sum\": 0.007756184383269844, \"count\": 1, \"min\": 0.007756184383269844, \"max\": 0.007756184383269844}}}\u001b[0m\n",
      "\u001b[34m#metrics {\"StartTime\": 1650323166.404853, \"EndTime\": 1650323166.4048665, \"Dimensions\": {\"Algorithm\": \"Linear Learner\", \"Host\": \"algo-1\", \"Operation\": \"training\", \"epoch\": 0, \"model\": 5}, \"Metrics\": {\"train_binary_classification_cross_entropy_objective\": {\"sum\": 0.007862435487796771, \"count\": 1, \"min\": 0.007862435487796771, \"max\": 0.007862435487796771}}}\u001b[0m\n",
      "\u001b[34m#metrics {\"StartTime\": 1650323166.4049137, \"EndTime\": 1650323166.4049275, \"Dimensions\": {\"Algorithm\": \"Linear Learner\", \"Host\": \"algo-1\", \"Operation\": \"training\", \"epoch\": 0, \"model\": 6}, \"Metrics\": {\"train_binary_classification_cross_entropy_objective\": {\"sum\": 0.007676947506606032, \"count\": 1, \"min\": 0.007676947506606032, \"max\": 0.007676947506606032}}}\u001b[0m\n",
      "\u001b[34m#metrics {\"StartTime\": 1650323166.404973, \"EndTime\": 1650323166.4049861, \"Dimensions\": {\"Algorithm\": \"Linear Learner\", \"Host\": \"algo-1\", \"Operation\": \"training\", \"epoch\": 0, \"model\": 7}, \"Metrics\": {\"train_binary_classification_cross_entropy_objective\": {\"sum\": 0.007631076595788702, \"count\": 1, \"min\": 0.007631076595788702, \"max\": 0.007631076595788702}}}\u001b[0m\n",
      "\u001b[34m#metrics {\"StartTime\": 1650323166.4050848, \"EndTime\": 1650323166.4051025, \"Dimensions\": {\"Algorithm\": \"Linear Learner\", \"Host\": \"algo-1\", \"Operation\": \"training\", \"epoch\": 0, \"model\": 8}, \"Metrics\": {\"train_binary_classification_cross_entropy_objective\": {\"sum\": 0.14065564575545283, \"count\": 1, \"min\": 0.14065564575545283, \"max\": 0.14065564575545283}}}\u001b[0m\n",
      "\u001b[34m#metrics {\"StartTime\": 1650323166.4051502, \"EndTime\": 1650323166.4051638, \"Dimensions\": {\"Algorithm\": \"Linear Learner\", \"Host\": \"algo-1\", \"Operation\": \"training\", \"epoch\": 0, \"model\": 9}, \"Metrics\": {\"train_binary_classification_cross_entropy_objective\": {\"sum\": 0.12362968694471073, \"count\": 1, \"min\": 0.12362968694471073, \"max\": 0.12362968694471073}}}\u001b[0m\n",
      "\u001b[34m#metrics {\"StartTime\": 1650323166.4052064, \"EndTime\": 1650323166.4052212, \"Dimensions\": {\"Algorithm\": \"Linear Learner\", \"Host\": \"algo-1\", \"Operation\": \"training\", \"epoch\": 0, \"model\": 10}, \"Metrics\": {\"train_binary_classification_cross_entropy_objective\": {\"sum\": 0.1352376392580318, \"count\": 1, \"min\": 0.1352376392580318, \"max\": 0.1352376392580318}}}\u001b[0m\n",
      "\u001b[34m#metrics {\"StartTime\": 1650323166.4052682, \"EndTime\": 1650323166.4052813, \"Dimensions\": {\"Algorithm\": \"Linear Learner\", \"Host\": \"algo-1\", \"Operation\": \"training\", \"epoch\": 0, \"model\": 11}, \"Metrics\": {\"train_binary_classification_cross_entropy_objective\": {\"sum\": 0.11751788623179864, \"count\": 1, \"min\": 0.11751788623179864, \"max\": 0.11751788623179864}}}\u001b[0m\n",
      "\u001b[34m#metrics {\"StartTime\": 1650323166.4053218, \"EndTime\": 1650323166.4053333, \"Dimensions\": {\"Algorithm\": \"Linear Learner\", \"Host\": \"algo-1\", \"Operation\": \"training\", \"epoch\": 0, \"model\": 12}, \"Metrics\": {\"train_binary_classification_cross_entropy_objective\": {\"sum\": 0.029077839297256703, \"count\": 1, \"min\": 0.029077839297256703, \"max\": 0.029077839297256703}}}\u001b[0m\n",
      "\u001b[34m#metrics {\"StartTime\": 1650323166.405377, \"EndTime\": 1650323166.4053903, \"Dimensions\": {\"Algorithm\": \"Linear Learner\", \"Host\": \"algo-1\", \"Operation\": \"training\", \"epoch\": 0, \"model\": 13}, \"Metrics\": {\"train_binary_classification_cross_entropy_objective\": {\"sum\": 0.02876296930283946, \"count\": 1, \"min\": 0.02876296930283946, \"max\": 0.02876296930283946}}}\u001b[0m\n",
      "\u001b[34m#metrics {\"StartTime\": 1650323166.4054353, \"EndTime\": 1650323166.4054487, \"Dimensions\": {\"Algorithm\": \"Linear Learner\", \"Host\": \"algo-1\", \"Operation\": \"training\", \"epoch\": 0, \"model\": 14}, \"Metrics\": {\"train_binary_classification_cross_entropy_objective\": {\"sum\": 0.02871343753243076, \"count\": 1, \"min\": 0.02871343753243076, \"max\": 0.02871343753243076}}}\u001b[0m\n",
      "\u001b[34m#metrics {\"StartTime\": 1650323166.4054942, \"EndTime\": 1650323166.405507, \"Dimensions\": {\"Algorithm\": \"Linear Learner\", \"Host\": \"algo-1\", \"Operation\": \"training\", \"epoch\": 0, \"model\": 15}, \"Metrics\": {\"train_binary_classification_cross_entropy_objective\": {\"sum\": 0.02884675130348322, \"count\": 1, \"min\": 0.02884675130348322, \"max\": 0.02884675130348322}}}\u001b[0m\n",
      "\u001b[34m#metrics {\"StartTime\": 1650323166.4055521, \"EndTime\": 1650323166.4055655, \"Dimensions\": {\"Algorithm\": \"Linear Learner\", \"Host\": \"algo-1\", \"Operation\": \"training\", \"epoch\": 0, \"model\": 16}, \"Metrics\": {\"train_binary_classification_cross_entropy_objective\": {\"sum\": 0.38720130605435155, \"count\": 1, \"min\": 0.38720130605435155, \"max\": 0.38720130605435155}}}\u001b[0m\n",
      "\u001b[34m#metrics {\"StartTime\": 1650323166.4056106, \"EndTime\": 1650323166.405624, \"Dimensions\": {\"Algorithm\": \"Linear Learner\", \"Host\": \"algo-1\", \"Operation\": \"training\", \"epoch\": 0, \"model\": 17}, \"Metrics\": {\"train_binary_classification_cross_entropy_objective\": {\"sum\": 0.3891242323009246, \"count\": 1, \"min\": 0.3891242323009246, \"max\": 0.3891242323009246}}}\u001b[0m\n",
      "\u001b[34m#metrics {\"StartTime\": 1650323166.4056692, \"EndTime\": 1650323166.4056823, \"Dimensions\": {\"Algorithm\": \"Linear Learner\", \"Host\": \"algo-1\", \"Operation\": \"training\", \"epoch\": 0, \"model\": 18}, \"Metrics\": {\"train_binary_classification_cross_entropy_objective\": {\"sum\": 0.3867259570013857, \"count\": 1, \"min\": 0.3867259570013857, \"max\": 0.3867259570013857}}}\u001b[0m\n",
      "\u001b[34m#metrics {\"StartTime\": 1650323166.4057274, \"EndTime\": 1650323166.4057405, \"Dimensions\": {\"Algorithm\": \"Linear Learner\", \"Host\": \"algo-1\", \"Operation\": \"training\", \"epoch\": 0, \"model\": 19}, \"Metrics\": {\"train_binary_classification_cross_entropy_objective\": {\"sum\": 0.3872262556443521, \"count\": 1, \"min\": 0.3872262556443521, \"max\": 0.3872262556443521}}}\u001b[0m\n",
      "\u001b[34m#metrics {\"StartTime\": 1650323166.4057856, \"EndTime\": 1650323166.4057987, \"Dimensions\": {\"Algorithm\": \"Linear Learner\", \"Host\": \"algo-1\", \"Operation\": \"training\", \"epoch\": 0, \"model\": 20}, \"Metrics\": {\"train_binary_classification_cross_entropy_objective\": {\"sum\": 0.38494902694188854, \"count\": 1, \"min\": 0.38494902694188854, \"max\": 0.38494902694188854}}}\u001b[0m\n",
      "\u001b[34m#metrics {\"StartTime\": 1650323166.4058435, \"EndTime\": 1650323166.4058566, \"Dimensions\": {\"Algorithm\": \"Linear Learner\", \"Host\": \"algo-1\", \"Operation\": \"training\", \"epoch\": 0, \"model\": 21}, \"Metrics\": {\"train_binary_classification_cross_entropy_objective\": {\"sum\": 0.38631418973590254, \"count\": 1, \"min\": 0.38631418973590254, \"max\": 0.38631418973590254}}}\u001b[0m\n",
      "\u001b[34m#metrics {\"StartTime\": 1650323166.4059002, \"EndTime\": 1650323166.4059124, \"Dimensions\": {\"Algorithm\": \"Linear Learner\", \"Host\": \"algo-1\", \"Operation\": \"training\", \"epoch\": 0, \"model\": 22}, \"Metrics\": {\"train_binary_classification_cross_entropy_objective\": {\"sum\": 0.3849124827720339, \"count\": 1, \"min\": 0.3849124827720339, \"max\": 0.3849124827720339}}}\u001b[0m\n",
      "\u001b[34m#metrics {\"StartTime\": 1650323166.4059563, \"EndTime\": 1650323166.4059699, \"Dimensions\": {\"Algorithm\": \"Linear Learner\", \"Host\": \"algo-1\", \"Operation\": \"training\", \"epoch\": 0, \"model\": 23}, \"Metrics\": {\"train_binary_classification_cross_entropy_objective\": {\"sum\": 0.3862911632666165, \"count\": 1, \"min\": 0.3862911632666165, \"max\": 0.3862911632666165}}}\u001b[0m\n",
      "\u001b[34m#metrics {\"StartTime\": 1650323166.406017, \"EndTime\": 1650323166.4060292, \"Dimensions\": {\"Algorithm\": \"Linear Learner\", \"Host\": \"algo-1\", \"Operation\": \"training\", \"epoch\": 0, \"model\": 24}, \"Metrics\": {\"train_binary_classification_cross_entropy_objective\": {\"sum\": 0.5135002144396488, \"count\": 1, \"min\": 0.5135002144396488, \"max\": 0.5135002144396488}}}\u001b[0m\n",
      "\u001b[34m#metrics {\"StartTime\": 1650323166.4060748, \"EndTime\": 1650323166.406088, \"Dimensions\": {\"Algorithm\": \"Linear Learner\", \"Host\": \"algo-1\", \"Operation\": \"training\", \"epoch\": 0, \"model\": 25}, \"Metrics\": {\"train_binary_classification_cross_entropy_objective\": {\"sum\": 0.5134552713330004, \"count\": 1, \"min\": 0.5134552713330004, \"max\": 0.5134552713330004}}}\u001b[0m\n",
      "\u001b[34m#metrics {\"StartTime\": 1650323166.4061568, \"EndTime\": 1650323166.4061723, \"Dimensions\": {\"Algorithm\": \"Linear Learner\", \"Host\": \"algo-1\", \"Operation\": \"training\", \"epoch\": 0, \"model\": 26}, \"Metrics\": {\"train_binary_classification_cross_entropy_objective\": {\"sum\": 0.5134307716206309, \"count\": 1, \"min\": 0.5134307716206309, \"max\": 0.5134307716206309}}}\u001b[0m\n",
      "\u001b[34m#metrics {\"StartTime\": 1650323166.406222, \"EndTime\": 1650323166.4062357, \"Dimensions\": {\"Algorithm\": \"Linear Learner\", \"Host\": \"algo-1\", \"Operation\": \"training\", \"epoch\": 0, \"model\": 27}, \"Metrics\": {\"train_binary_classification_cross_entropy_objective\": {\"sum\": 0.5134482646090539, \"count\": 1, \"min\": 0.5134482646090539, \"max\": 0.5134482646090539}}}\u001b[0m\n",
      "\u001b[34m#metrics {\"StartTime\": 1650323166.4062812, \"EndTime\": 1650323166.4062946, \"Dimensions\": {\"Algorithm\": \"Linear Learner\", \"Host\": \"algo-1\", \"Operation\": \"training\", \"epoch\": 0, \"model\": 28}, \"Metrics\": {\"train_binary_classification_cross_entropy_objective\": {\"sum\": 0.513496355179253, \"count\": 1, \"min\": 0.513496355179253, \"max\": 0.513496355179253}}}\u001b[0m\n",
      "\u001b[34m#metrics {\"StartTime\": 1650323166.4063392, \"EndTime\": 1650323166.4063518, \"Dimensions\": {\"Algorithm\": \"Linear Learner\", \"Host\": \"algo-1\", \"Operation\": \"training\", \"epoch\": 0, \"model\": 29}, \"Metrics\": {\"train_binary_classification_cross_entropy_objective\": {\"sum\": 0.5142151769002279, \"count\": 1, \"min\": 0.5142151769002279, \"max\": 0.5142151769002279}}}\u001b[0m\n",
      "\u001b[34m#metrics {\"StartTime\": 1650323166.406397, \"EndTime\": 1650323166.4064102, \"Dimensions\": {\"Algorithm\": \"Linear Learner\", \"Host\": \"algo-1\", \"Operation\": \"training\", \"epoch\": 0, \"model\": 30}, \"Metrics\": {\"train_binary_classification_cross_entropy_objective\": {\"sum\": 0.5134722295638618, \"count\": 1, \"min\": 0.5134722295638618, \"max\": 0.5134722295638618}}}\u001b[0m\n",
      "\u001b[34m#metrics {\"StartTime\": 1650323166.4064553, \"EndTime\": 1650323166.4064686, \"Dimensions\": {\"Algorithm\": \"Linear Learner\", \"Host\": \"algo-1\", \"Operation\": \"training\", \"epoch\": 0, \"model\": 31}, \"Metrics\": {\"train_binary_classification_cross_entropy_objective\": {\"sum\": 0.5141969093532738, \"count\": 1, \"min\": 0.5141969093532738, \"max\": 0.5141969093532738}}}\u001b[0m\n",
      "\u001b[34m[04/18/2022 23:06:06 INFO 140493168445248] #quality_metric: host=algo-1, epoch=0, train binary_classification_cross_entropy_objective <loss>=0.1331664172443775\u001b[0m\n",
      "\u001b[34m[2022-04-18 23:06:06.435] [tensorio] [info] epoch_stats={\"data_pipeline\": \"/opt/ml/input/data/validation\", \"epoch\": 0, \"duration\": 59978, \"num_examples\": 1, \"num_bytes\": 428000}\u001b[0m\n",
      "\u001b[34m[2022-04-18 23:06:12.686] [tensorio] [info] epoch_stats={\"data_pipeline\": \"/opt/ml/input/data/validation\", \"epoch\": 2, \"duration\": 6244, \"num_examples\": 164, \"num_bytes\": 70003252}\u001b[0m\n",
      "\u001b[34m#metrics {\"StartTime\": 1650323174.7382574, \"EndTime\": 1650323174.738322, \"Dimensions\": {\"Algorithm\": \"Linear Learner\", \"Host\": \"algo-1\", \"Operation\": \"training\", \"epoch\": 0, \"model\": 0}, \"Metrics\": {\"validation_binary_classification_cross_entropy_objective\": {\"sum\": 0.04559021606458374, \"count\": 1, \"min\": 0.04559021606458374, \"max\": 0.04559021606458374}}}\u001b[0m\n",
      "\u001b[34m#metrics {\"StartTime\": 1650323174.7384145, \"EndTime\": 1650323174.7384374, \"Dimensions\": {\"Algorithm\": \"Linear Learner\", \"Host\": \"algo-1\", \"Operation\": \"training\", \"epoch\": 0, \"model\": 1}, \"Metrics\": {\"validation_binary_classification_cross_entropy_objective\": {\"sum\": 0.02133438369540789, \"count\": 1, \"min\": 0.02133438369540789, \"max\": 0.02133438369540789}}}\u001b[0m\n",
      "\u001b[34m#metrics {\"StartTime\": 1650323174.7384944, \"EndTime\": 1650323174.7385106, \"Dimensions\": {\"Algorithm\": \"Linear Learner\", \"Host\": \"algo-1\", \"Operation\": \"training\", \"epoch\": 0, \"model\": 2}, \"Metrics\": {\"validation_binary_classification_cross_entropy_objective\": {\"sum\": 0.046176292000971154, \"count\": 1, \"min\": 0.046176292000971154, \"max\": 0.046176292000971154}}}\u001b[0m\n",
      "\u001b[34m#metrics {\"StartTime\": 1650323174.7385616, \"EndTime\": 1650323174.738576, \"Dimensions\": {\"Algorithm\": \"Linear Learner\", \"Host\": \"algo-1\", \"Operation\": \"training\", \"epoch\": 0, \"model\": 3}, \"Metrics\": {\"validation_binary_classification_cross_entropy_objective\": {\"sum\": 0.021713097166231276, \"count\": 1, \"min\": 0.021713097166231276, \"max\": 0.021713097166231276}}}\u001b[0m\n",
      "\u001b[34m#metrics {\"StartTime\": 1650323174.7386246, \"EndTime\": 1650323174.7386384, \"Dimensions\": {\"Algorithm\": \"Linear Learner\", \"Host\": \"algo-1\", \"Operation\": \"training\", \"epoch\": 0, \"model\": 4}, \"Metrics\": {\"validation_binary_classification_cross_entropy_objective\": {\"sum\": 0.0007032523405410587, \"count\": 1, \"min\": 0.0007032523405410587, \"max\": 0.0007032523405410587}}}\u001b[0m\n",
      "\u001b[34m#metrics {\"StartTime\": 1650323174.7386878, \"EndTime\": 1650323174.738703, \"Dimensions\": {\"Algorithm\": \"Linear Learner\", \"Host\": \"algo-1\", \"Operation\": \"training\", \"epoch\": 0, \"model\": 5}, \"Metrics\": {\"validation_binary_classification_cross_entropy_objective\": {\"sum\": 0.0005480143793565415, \"count\": 1, \"min\": 0.0005480143793565415, \"max\": 0.0005480143793565415}}}\u001b[0m\n",
      "\u001b[34m#metrics {\"StartTime\": 1650323174.7387545, \"EndTime\": 1650323174.7387714, \"Dimensions\": {\"Algorithm\": \"Linear Learner\", \"Host\": \"algo-1\", \"Operation\": \"training\", \"epoch\": 0, \"model\": 6}, \"Metrics\": {\"validation_binary_classification_cross_entropy_objective\": {\"sum\": 0.0006998268028353363, \"count\": 1, \"min\": 0.0006998268028353363, \"max\": 0.0006998268028353363}}}\u001b[0m\n",
      "\u001b[34m#metrics {\"StartTime\": 1650323174.7388256, \"EndTime\": 1650323174.7388415, \"Dimensions\": {\"Algorithm\": \"Linear Learner\", \"Host\": \"algo-1\", \"Operation\": \"training\", \"epoch\": 0, \"model\": 7}, \"Metrics\": {\"validation_binary_classification_cross_entropy_objective\": {\"sum\": 0.0005454265453039691, \"count\": 1, \"min\": 0.0005454265453039691, \"max\": 0.0005454265453039691}}}\u001b[0m\n",
      "\u001b[34m#metrics {\"StartTime\": 1650323174.7388954, \"EndTime\": 1650323174.7389107, \"Dimensions\": {\"Algorithm\": \"Linear Learner\", \"Host\": \"algo-1\", \"Operation\": \"training\", \"epoch\": 0, \"model\": 8}, \"Metrics\": {\"validation_binary_classification_cross_entropy_objective\": {\"sum\": 0.053828741067579386, \"count\": 1, \"min\": 0.053828741067579386, \"max\": 0.053828741067579386}}}\u001b[0m\n",
      "\u001b[34m#metrics {\"StartTime\": 1650323174.7389646, \"EndTime\": 1650323174.7389808, \"Dimensions\": {\"Algorithm\": \"Linear Learner\", \"Host\": \"algo-1\", \"Operation\": \"training\", \"epoch\": 0, \"model\": 9}, \"Metrics\": {\"validation_binary_classification_cross_entropy_objective\": {\"sum\": 0.033504487098537726, \"count\": 1, \"min\": 0.033504487098537726, \"max\": 0.033504487098537726}}}\u001b[0m\n",
      "\u001b[34m#metrics {\"StartTime\": 1650323174.7390337, \"EndTime\": 1650323174.7390516, \"Dimensions\": {\"Algorithm\": \"Linear Learner\", \"Host\": \"algo-1\", \"Operation\": \"training\", \"epoch\": 0, \"model\": 10}, \"Metrics\": {\"validation_binary_classification_cross_entropy_objective\": {\"sum\": 0.052122559565295615, \"count\": 1, \"min\": 0.052122559565295615, \"max\": 0.052122559565295615}}}\u001b[0m\n",
      "\u001b[34m#metrics {\"StartTime\": 1650323174.7391038, \"EndTime\": 1650323174.739119, \"Dimensions\": {\"Algorithm\": \"Linear Learner\", \"Host\": \"algo-1\", \"Operation\": \"training\", \"epoch\": 0, \"model\": 11}, \"Metrics\": {\"validation_binary_classification_cross_entropy_objective\": {\"sum\": 0.03261634233974416, \"count\": 1, \"min\": 0.03261634233974416, \"max\": 0.03261634233974416}}}\u001b[0m\n",
      "\u001b[34m#metrics {\"StartTime\": 1650323174.7391677, \"EndTime\": 1650323174.7391834, \"Dimensions\": {\"Algorithm\": \"Linear Learner\", \"Host\": \"algo-1\", \"Operation\": \"training\", \"epoch\": 0, \"model\": 12}, \"Metrics\": {\"validation_binary_classification_cross_entropy_objective\": {\"sum\": 0.02403148869450263, \"count\": 1, \"min\": 0.02403148869450263, \"max\": 0.02403148869450263}}}\u001b[0m\n",
      "\u001b[34m#metrics {\"StartTime\": 1650323174.7392457, \"EndTime\": 1650323174.7392612, \"Dimensions\": {\"Algorithm\": \"Linear Learner\", \"Host\": \"algo-1\", \"Operation\": \"training\", \"epoch\": 0, \"model\": 13}, \"Metrics\": {\"validation_binary_classification_cross_entropy_objective\": {\"sum\": 0.023829608752785395, \"count\": 1, \"min\": 0.023829608752785395, \"max\": 0.023829608752785395}}}\u001b[0m\n",
      "\u001b[34m#metrics {\"StartTime\": 1650323174.7393358, \"EndTime\": 1650323174.739353, \"Dimensions\": {\"Algorithm\": \"Linear Learner\", \"Host\": \"algo-1\", \"Operation\": \"training\", \"epoch\": 0, \"model\": 14}, \"Metrics\": {\"validation_binary_classification_cross_entropy_objective\": {\"sum\": 0.02402285488049527, \"count\": 1, \"min\": 0.02402285488049527, \"max\": 0.02402285488049527}}}\u001b[0m\n",
      "\u001b[34m#metrics {\"StartTime\": 1650323174.7394216, \"EndTime\": 1650323174.7394392, \"Dimensions\": {\"Algorithm\": \"Linear Learner\", \"Host\": \"algo-1\", \"Operation\": \"training\", \"epoch\": 0, \"model\": 15}, \"Metrics\": {\"validation_binary_classification_cross_entropy_objective\": {\"sum\": 0.023778505823089907, \"count\": 1, \"min\": 0.023778505823089907, \"max\": 0.023778505823089907}}}\u001b[0m\n",
      "\u001b[34m#metrics {\"StartTime\": 1650323174.7395036, \"EndTime\": 1650323174.7395205, \"Dimensions\": {\"Algorithm\": \"Linear Learner\", \"Host\": \"algo-1\", \"Operation\": \"training\", \"epoch\": 0, \"model\": 16}, \"Metrics\": {\"validation_binary_classification_cross_entropy_objective\": {\"sum\": 0.38305106305383063, \"count\": 1, \"min\": 0.38305106305383063, \"max\": 0.38305106305383063}}}\u001b[0m\n",
      "\u001b[34m#metrics {\"StartTime\": 1650323174.7395883, \"EndTime\": 1650323174.7396069, \"Dimensions\": {\"Algorithm\": \"Linear Learner\", \"Host\": \"algo-1\", \"Operation\": \"training\", \"epoch\": 0, \"model\": 17}, \"Metrics\": {\"validation_binary_classification_cross_entropy_objective\": {\"sum\": 0.38282154030005394, \"count\": 1, \"min\": 0.38282154030005394, \"max\": 0.38282154030005394}}}\u001b[0m\n",
      "\u001b[34m#metrics {\"StartTime\": 1650323174.7396626, \"EndTime\": 1650323174.7396815, \"Dimensions\": {\"Algorithm\": \"Linear Learner\", \"Host\": \"algo-1\", \"Operation\": \"training\", \"epoch\": 0, \"model\": 18}, \"Metrics\": {\"validation_binary_classification_cross_entropy_objective\": {\"sum\": 0.3830444008668245, \"count\": 1, \"min\": 0.3830444008668245, \"max\": 0.3830444008668245}}}\u001b[0m\n",
      "\u001b[34m#metrics {\"StartTime\": 1650323174.7397437, \"EndTime\": 1650323174.7397606, \"Dimensions\": {\"Algorithm\": \"Linear Learner\", \"Host\": \"algo-1\", \"Operation\": \"training\", \"epoch\": 0, \"model\": 19}, \"Metrics\": {\"validation_binary_classification_cross_entropy_objective\": {\"sum\": 0.38198494464702915, \"count\": 1, \"min\": 0.38198494464702915, \"max\": 0.38198494464702915}}}\u001b[0m\n",
      "\u001b[34m#metrics {\"StartTime\": 1650323174.7398143, \"EndTime\": 1650323174.7398322, \"Dimensions\": {\"Algorithm\": \"Linear Learner\", \"Host\": \"algo-1\", \"Operation\": \"training\", \"epoch\": 0, \"model\": 20}, \"Metrics\": {\"validation_binary_classification_cross_entropy_objective\": {\"sum\": 0.39205811663769957, \"count\": 1, \"min\": 0.39205811663769957, \"max\": 0.39205811663769957}}}\u001b[0m\n",
      "\u001b[34m#metrics {\"StartTime\": 1650323174.739886, \"EndTime\": 1650323174.7399037, \"Dimensions\": {\"Algorithm\": \"Linear Learner\", \"Host\": \"algo-1\", \"Operation\": \"training\", \"epoch\": 0, \"model\": 21}, \"Metrics\": {\"validation_binary_classification_cross_entropy_objective\": {\"sum\": 0.3882918011122599, \"count\": 1, \"min\": 0.3882918011122599, \"max\": 0.3882918011122599}}}\u001b[0m\n",
      "\u001b[34m#metrics {\"StartTime\": 1650323174.7399511, \"EndTime\": 1650323174.739966, \"Dimensions\": {\"Algorithm\": \"Linear Learner\", \"Host\": \"algo-1\", \"Operation\": \"training\", \"epoch\": 0, \"model\": 22}, \"Metrics\": {\"validation_binary_classification_cross_entropy_objective\": {\"sum\": 0.3921801282693669, \"count\": 1, \"min\": 0.3921801282693669, \"max\": 0.3921801282693669}}}\u001b[0m\n",
      "\u001b[34m#metrics {\"StartTime\": 1650323174.7400148, \"EndTime\": 1650323174.740029, \"Dimensions\": {\"Algorithm\": \"Linear Learner\", \"Host\": \"algo-1\", \"Operation\": \"training\", \"epoch\": 0, \"model\": 23}, \"Metrics\": {\"validation_binary_classification_cross_entropy_objective\": {\"sum\": 0.3882781335160162, \"count\": 1, \"min\": 0.3882781335160162, \"max\": 0.3882781335160162}}}\u001b[0m\n",
      "\u001b[34m#metrics {\"StartTime\": 1650323174.740079, \"EndTime\": 1650323174.7400935, \"Dimensions\": {\"Algorithm\": \"Linear Learner\", \"Host\": \"algo-1\", \"Operation\": \"training\", \"epoch\": 0, \"model\": 24}, \"Metrics\": {\"validation_binary_classification_cross_entropy_objective\": {\"sum\": 0.5120550044190381, \"count\": 1, \"min\": 0.5120550044190381, \"max\": 0.5120550044190381}}}\u001b[0m\n",
      "\u001b[34m#metrics {\"StartTime\": 1650323174.7401378, \"EndTime\": 1650323174.7401502, \"Dimensions\": {\"Algorithm\": \"Linear Learner\", \"Host\": \"algo-1\", \"Operation\": \"training\", \"epoch\": 0, \"model\": 25}, \"Metrics\": {\"validation_binary_classification_cross_entropy_objective\": {\"sum\": 0.512926949909477, \"count\": 1, \"min\": 0.512926949909477, \"max\": 0.512926949909477}}}\u001b[0m\n",
      "\u001b[34m#metrics {\"StartTime\": 1650323174.7402024, \"EndTime\": 1650323174.7402196, \"Dimensions\": {\"Algorithm\": \"Linear Learner\", \"Host\": \"algo-1\", \"Operation\": \"training\", \"epoch\": 0, \"model\": 26}, \"Metrics\": {\"validation_binary_classification_cross_entropy_objective\": {\"sum\": 0.512294335268184, \"count\": 1, \"min\": 0.512294335268184, \"max\": 0.512294335268184}}}\u001b[0m\n",
      "\u001b[34m#metrics {\"StartTime\": 1650323174.7402718, \"EndTime\": 1650323174.7402885, \"Dimensions\": {\"Algorithm\": \"Linear Learner\", \"Host\": \"algo-1\", \"Operation\": \"training\", \"epoch\": 0, \"model\": 27}, \"Metrics\": {\"validation_binary_classification_cross_entropy_objective\": {\"sum\": 0.512834997511052, \"count\": 1, \"min\": 0.512834997511052, \"max\": 0.512834997511052}}}\u001b[0m\n",
      "\u001b[34m#metrics {\"StartTime\": 1650323174.7403417, \"EndTime\": 1650323174.7403586, \"Dimensions\": {\"Algorithm\": \"Linear Learner\", \"Host\": \"algo-1\", \"Operation\": \"training\", \"epoch\": 0, \"model\": 28}, \"Metrics\": {\"validation_binary_classification_cross_entropy_objective\": {\"sum\": 0.5135357128913415, \"count\": 1, \"min\": 0.5135357128913415, \"max\": 0.5135357128913415}}}\u001b[0m\n",
      "\u001b[34m#metrics {\"StartTime\": 1650323174.740411, \"EndTime\": 1650323174.740427, \"Dimensions\": {\"Algorithm\": \"Linear Learner\", \"Host\": \"algo-1\", \"Operation\": \"training\", \"epoch\": 0, \"model\": 29}, \"Metrics\": {\"validation_binary_classification_cross_entropy_objective\": {\"sum\": 0.5128258985301654, \"count\": 1, \"min\": 0.5128258985301654, \"max\": 0.5128258985301654}}}\u001b[0m\n",
      "\u001b[34m#metrics {\"StartTime\": 1650323174.7404814, \"EndTime\": 1650323174.7404964, \"Dimensions\": {\"Algorithm\": \"Linear Learner\", \"Host\": \"algo-1\", \"Operation\": \"training\", \"epoch\": 0, \"model\": 30}, \"Metrics\": {\"validation_binary_classification_cross_entropy_objective\": {\"sum\": 0.5131982861617406, \"count\": 1, \"min\": 0.5131982861617406, \"max\": 0.5131982861617406}}}\u001b[0m\n",
      "\u001b[34m#metrics {\"StartTime\": 1650323174.7405465, \"EndTime\": 1650323174.7405622, \"Dimensions\": {\"Algorithm\": \"Linear Learner\", \"Host\": \"algo-1\", \"Operation\": \"training\", \"epoch\": 0, \"model\": 31}, \"Metrics\": {\"validation_binary_classification_cross_entropy_objective\": {\"sum\": 0.5122416434254994, \"count\": 1, \"min\": 0.5122416434254994, \"max\": 0.5122416434254994}}}\u001b[0m\n",
      "\u001b[34m[04/18/2022 23:06:14 INFO 140493168445248] #quality_metric: host=algo-1, epoch=0, validation binary_classification_cross_entropy_objective <loss>=0.04559021606458374\u001b[0m\n",
      "\u001b[34m[04/18/2022 23:06:14 INFO 140493168445248] #early_stopping_criteria_metric: host=algo-1, epoch=0, criteria=sampled_accuracy, value=0.9995781338844086\u001b[0m\n",
      "\u001b[34m[04/18/2022 23:06:14 INFO 140493168445248] Epoch 0: Loss improved. Updating best model\u001b[0m\n",
      "\u001b[34m[04/18/2022 23:06:14 INFO 140493168445248] Saving model for epoch: 0\u001b[0m\n",
      "\u001b[34m[04/18/2022 23:06:14 INFO 140493168445248] Saved checkpoint to \"/tmp/tmpx7vi3ves/mx-mod-0000.params\"\u001b[0m\n",
      "\u001b[34m[04/18/2022 23:06:14 INFO 140493168445248] #progress_metric: host=algo-1, completed 6.666666666666667 % of epochs\u001b[0m\n",
      "\u001b[34m#metrics {\"StartTime\": 1650323106.934953, \"EndTime\": 1650323174.750683, \"Dimensions\": {\"Algorithm\": \"Linear Learner\", \"Host\": \"algo-1\", \"Operation\": \"training\", \"epoch\": 0, \"Meta\": \"training_data_iter\"}, \"Metrics\": {\"Total Records Seen\": {\"sum\": 1320472.0, \"count\": 1, \"min\": 1320472, \"max\": 1320472}, \"Total Batches Seen\": {\"sum\": 1321.0, \"count\": 1, \"min\": 1321, \"max\": 1321}, \"Max Records Seen Between Resets\": {\"sum\": 1308472.0, \"count\": 1, \"min\": 1308472, \"max\": 1308472}, \"Max Batches Seen Between Resets\": {\"sum\": 1309.0, \"count\": 1, \"min\": 1309, \"max\": 1309}, \"Reset Count\": {\"sum\": 3.0, \"count\": 1, \"min\": 3, \"max\": 3}, \"Number of Records Since Last Reset\": {\"sum\": 1308472.0, \"count\": 1, \"min\": 1308472, \"max\": 1308472}, \"Number of Batches Since Last Reset\": {\"sum\": 1309.0, \"count\": 1, \"min\": 1309, \"max\": 1309}}}\u001b[0m\n",
      "\u001b[34m[04/18/2022 23:06:14 INFO 140493168445248] #throughput_metric: host=algo-1, train throughput=19294.48144073363 records/second\u001b[0m\n",
      "\u001b[34m[2022-04-18 23:07:14.688] [tensorio] [info] epoch_stats={\"data_pipeline\": \"/opt/ml/input/data/train\", \"epoch\": 5, \"duration\": 59930, \"num_examples\": 1309, \"num_bytes\": 560026016}\u001b[0m\n",
      "\u001b[34m#metrics {\"StartTime\": 1650323234.688215, \"EndTime\": 1650323234.6883075, \"Dimensions\": {\"Algorithm\": \"Linear Learner\", \"Host\": \"algo-1\", \"Operation\": \"training\", \"epoch\": 1, \"model\": 0}, \"Metrics\": {\"train_binary_classification_cross_entropy_objective\": {\"sum\": 0.034347375305420765, \"count\": 1, \"min\": 0.034347375305420765, \"max\": 0.034347375305420765}}}\u001b[0m\n",
      "\u001b[34m#metrics {\"StartTime\": 1650323234.6883996, \"EndTime\": 1650323234.6884167, \"Dimensions\": {\"Algorithm\": \"Linear Learner\", \"Host\": \"algo-1\", \"Operation\": \"training\", \"epoch\": 1, \"model\": 1}, \"Metrics\": {\"train_binary_classification_cross_entropy_objective\": {\"sum\": 0.011969854487191647, \"count\": 1, \"min\": 0.011969854487191647, \"max\": 0.011969854487191647}}}\u001b[0m\n",
      "\u001b[34m#metrics {\"StartTime\": 1650323234.6884627, \"EndTime\": 1650323234.688475, \"Dimensions\": {\"Algorithm\": \"Linear Learner\", \"Host\": \"algo-1\", \"Operation\": \"training\", \"epoch\": 1, \"model\": 2}, \"Metrics\": {\"train_binary_classification_cross_entropy_objective\": {\"sum\": 0.03478051620740045, \"count\": 1, \"min\": 0.03478051620740045, \"max\": 0.03478051620740045}}}\u001b[0m\n",
      "\u001b[34m#metrics {\"StartTime\": 1650323234.688516, \"EndTime\": 1650323234.688527, \"Dimensions\": {\"Algorithm\": \"Linear Learner\", \"Host\": \"algo-1\", \"Operation\": \"training\", \"epoch\": 1, \"model\": 3}, \"Metrics\": {\"train_binary_classification_cross_entropy_objective\": {\"sum\": 0.01217367327942396, \"count\": 1, \"min\": 0.01217367327942396, \"max\": 0.01217367327942396}}}\u001b[0m\n",
      "\u001b[34m#metrics {\"StartTime\": 1650323234.688567, \"EndTime\": 1650323234.6885781, \"Dimensions\": {\"Algorithm\": \"Linear Learner\", \"Host\": \"algo-1\", \"Operation\": \"training\", \"epoch\": 1, \"model\": 4}, \"Metrics\": {\"train_binary_classification_cross_entropy_objective\": {\"sum\": 0.0006089169512921518, \"count\": 1, \"min\": 0.0006089169512921518, \"max\": 0.0006089169512921518}}}\u001b[0m\n",
      "\u001b[34m#metrics {\"StartTime\": 1650323234.6886172, \"EndTime\": 1650323234.688628, \"Dimensions\": {\"Algorithm\": \"Linear Learner\", \"Host\": \"algo-1\", \"Operation\": \"training\", \"epoch\": 1, \"model\": 5}, \"Metrics\": {\"train_binary_classification_cross_entropy_objective\": {\"sum\": 0.0005075587540044697, \"count\": 1, \"min\": 0.0005075587540044697, \"max\": 0.0005075587540044697}}}\u001b[0m\n",
      "\u001b[34m#metrics {\"StartTime\": 1650323234.6886668, \"EndTime\": 1650323234.6886778, \"Dimensions\": {\"Algorithm\": \"Linear Learner\", \"Host\": \"algo-1\", \"Operation\": \"training\", \"epoch\": 1, \"model\": 6}, \"Metrics\": {\"train_binary_classification_cross_entropy_objective\": {\"sum\": 0.0006067076479896493, \"count\": 1, \"min\": 0.0006067076479896493, \"max\": 0.0006067076479896493}}}\u001b[0m\n",
      "\u001b[34m#metrics {\"StartTime\": 1650323234.6887205, \"EndTime\": 1650323234.688732, \"Dimensions\": {\"Algorithm\": \"Linear Learner\", \"Host\": \"algo-1\", \"Operation\": \"training\", \"epoch\": 1, \"model\": 7}, \"Metrics\": {\"train_binary_classification_cross_entropy_objective\": {\"sum\": 0.0005068802301535548, \"count\": 1, \"min\": 0.0005068802301535548, \"max\": 0.0005068802301535548}}}\u001b[0m\n",
      "\u001b[34m#metrics {\"StartTime\": 1650323234.6887715, \"EndTime\": 1650323234.6887827, \"Dimensions\": {\"Algorithm\": \"Linear Learner\", \"Host\": \"algo-1\", \"Operation\": \"training\", \"epoch\": 1, \"model\": 8}, \"Metrics\": {\"train_binary_classification_cross_entropy_objective\": {\"sum\": 0.04343968413875008, \"count\": 1, \"min\": 0.04343968413875008, \"max\": 0.04343968413875008}}}\u001b[0m\n",
      "\u001b[34m#metrics {\"StartTime\": 1650323234.6888208, \"EndTime\": 1650323234.6888316, \"Dimensions\": {\"Algorithm\": \"Linear Learner\", \"Host\": \"algo-1\", \"Operation\": \"training\", \"epoch\": 1, \"model\": 9}, \"Metrics\": {\"train_binary_classification_cross_entropy_objective\": {\"sum\": 0.02682818204547287, \"count\": 1, \"min\": 0.02682818204547287, \"max\": 0.02682818204547287}}}\u001b[0m\n",
      "\u001b[34m#metrics {\"StartTime\": 1650323234.68887, \"EndTime\": 1650323234.6888807, \"Dimensions\": {\"Algorithm\": \"Linear Learner\", \"Host\": \"algo-1\", \"Operation\": \"training\", \"epoch\": 1, \"model\": 10}, \"Metrics\": {\"train_binary_classification_cross_entropy_objective\": {\"sum\": 0.042230697039799585, \"count\": 1, \"min\": 0.042230697039799585, \"max\": 0.042230697039799585}}}\u001b[0m\n",
      "\u001b[34m#metrics {\"StartTime\": 1650323234.6889188, \"EndTime\": 1650323234.6889298, \"Dimensions\": {\"Algorithm\": \"Linear Learner\", \"Host\": \"algo-1\", \"Operation\": \"training\", \"epoch\": 1, \"model\": 11}, \"Metrics\": {\"train_binary_classification_cross_entropy_objective\": {\"sum\": 0.026488470574766852, \"count\": 1, \"min\": 0.026488470574766852, \"max\": 0.026488470574766852}}}\u001b[0m\n",
      "\u001b[34m#metrics {\"StartTime\": 1650323234.6889682, \"EndTime\": 1650323234.6889791, \"Dimensions\": {\"Algorithm\": \"Linear Learner\", \"Host\": \"algo-1\", \"Operation\": \"training\", \"epoch\": 1, \"model\": 12}, \"Metrics\": {\"train_binary_classification_cross_entropy_objective\": {\"sum\": 0.02393425012145203, \"count\": 1, \"min\": 0.02393425012145203, \"max\": 0.02393425012145203}}}\u001b[0m\n",
      "\u001b[34m#metrics {\"StartTime\": 1650323234.6890173, \"EndTime\": 1650323234.6890283, \"Dimensions\": {\"Algorithm\": \"Linear Learner\", \"Host\": \"algo-1\", \"Operation\": \"training\", \"epoch\": 1, \"model\": 13}, \"Metrics\": {\"train_binary_classification_cross_entropy_objective\": {\"sum\": 0.024130625495852317, \"count\": 1, \"min\": 0.024130625495852317, \"max\": 0.024130625495852317}}}\u001b[0m\n",
      "\u001b[34m#metrics {\"StartTime\": 1650323234.6890666, \"EndTime\": 1650323234.6890776, \"Dimensions\": {\"Algorithm\": \"Linear Learner\", \"Host\": \"algo-1\", \"Operation\": \"training\", \"epoch\": 1, \"model\": 14}, \"Metrics\": {\"train_binary_classification_cross_entropy_objective\": {\"sum\": 0.023934723189117713, \"count\": 1, \"min\": 0.023934723189117713, \"max\": 0.023934723189117713}}}\u001b[0m\n",
      "\u001b[34m#metrics {\"StartTime\": 1650323234.689116, \"EndTime\": 1650323234.6891267, \"Dimensions\": {\"Algorithm\": \"Linear Learner\", \"Host\": \"algo-1\", \"Operation\": \"training\", \"epoch\": 1, \"model\": 15}, \"Metrics\": {\"train_binary_classification_cross_entropy_objective\": {\"sum\": 0.024128557310191864, \"count\": 1, \"min\": 0.024128557310191864, \"max\": 0.024128557310191864}}}\u001b[0m\n",
      "\u001b[34m#metrics {\"StartTime\": 1650323234.6891644, \"EndTime\": 1650323234.6891754, \"Dimensions\": {\"Algorithm\": \"Linear Learner\", \"Host\": \"algo-1\", \"Operation\": \"training\", \"epoch\": 1, \"model\": 16}, \"Metrics\": {\"train_binary_classification_cross_entropy_objective\": {\"sum\": 0.3825223800239213, \"count\": 1, \"min\": 0.3825223800239213, \"max\": 0.3825223800239213}}}\u001b[0m\n",
      "\u001b[34m#metrics {\"StartTime\": 1650323234.6892138, \"EndTime\": 1650323234.6892245, \"Dimensions\": {\"Algorithm\": \"Linear Learner\", \"Host\": \"algo-1\", \"Operation\": \"training\", \"epoch\": 1, \"model\": 17}, \"Metrics\": {\"train_binary_classification_cross_entropy_objective\": {\"sum\": 0.38271124645548127, \"count\": 1, \"min\": 0.38271124645548127, \"max\": 0.38271124645548127}}}\u001b[0m\n",
      "\u001b[34m#metrics {\"StartTime\": 1650323234.6892653, \"EndTime\": 1650323234.6892765, \"Dimensions\": {\"Algorithm\": \"Linear Learner\", \"Host\": \"algo-1\", \"Operation\": \"training\", \"epoch\": 1, \"model\": 18}, \"Metrics\": {\"train_binary_classification_cross_entropy_objective\": {\"sum\": 0.38252197274957594, \"count\": 1, \"min\": 0.38252197274957594, \"max\": 0.38252197274957594}}}\u001b[0m\n",
      "\u001b[34m#metrics {\"StartTime\": 1650323234.6893153, \"EndTime\": 1650323234.6893265, \"Dimensions\": {\"Algorithm\": \"Linear Learner\", \"Host\": \"algo-1\", \"Operation\": \"training\", \"epoch\": 1, \"model\": 19}, \"Metrics\": {\"train_binary_classification_cross_entropy_objective\": {\"sum\": 0.3827090345143543, \"count\": 1, \"min\": 0.3827090345143543, \"max\": 0.3827090345143543}}}\u001b[0m\n",
      "\u001b[34m#metrics {\"StartTime\": 1650323234.6893663, \"EndTime\": 1650323234.6893775, \"Dimensions\": {\"Algorithm\": \"Linear Learner\", \"Host\": \"algo-1\", \"Operation\": \"training\", \"epoch\": 1, \"model\": 20}, \"Metrics\": {\"train_binary_classification_cross_entropy_objective\": {\"sum\": 0.38322272393462853, \"count\": 1, \"min\": 0.38322272393462853, \"max\": 0.38322272393462853}}}\u001b[0m\n",
      "\u001b[34m#metrics {\"StartTime\": 1650323234.689432, \"EndTime\": 1650323234.6894426, \"Dimensions\": {\"Algorithm\": \"Linear Learner\", \"Host\": \"algo-1\", \"Operation\": \"training\", \"epoch\": 1, \"model\": 21}, \"Metrics\": {\"train_binary_classification_cross_entropy_objective\": {\"sum\": 0.3856334562622444, \"count\": 1, \"min\": 0.3856334562622444, \"max\": 0.3856334562622444}}}\u001b[0m\n",
      "\u001b[34m#metrics {\"StartTime\": 1650323234.6894846, \"EndTime\": 1650323234.6894958, \"Dimensions\": {\"Algorithm\": \"Linear Learner\", \"Host\": \"algo-1\", \"Operation\": \"training\", \"epoch\": 1, \"model\": 22}, \"Metrics\": {\"train_binary_classification_cross_entropy_objective\": {\"sum\": 0.3832223631365948, \"count\": 1, \"min\": 0.3832223631365948, \"max\": 0.3832223631365948}}}\u001b[0m\n",
      "\u001b[34m#metrics {\"StartTime\": 1650323234.6895347, \"EndTime\": 1650323234.689545, \"Dimensions\": {\"Algorithm\": \"Linear Learner\", \"Host\": \"algo-1\", \"Operation\": \"training\", \"epoch\": 1, \"model\": 23}, \"Metrics\": {\"train_binary_classification_cross_entropy_objective\": {\"sum\": 0.3856342598451387, \"count\": 1, \"min\": 0.3856342598451387, \"max\": 0.3856342598451387}}}\u001b[0m\n",
      "\u001b[34m#metrics {\"StartTime\": 1650323234.6895816, \"EndTime\": 1650323234.6895921, \"Dimensions\": {\"Algorithm\": \"Linear Learner\", \"Host\": \"algo-1\", \"Operation\": \"training\", \"epoch\": 1, \"model\": 24}, \"Metrics\": {\"train_binary_classification_cross_entropy_objective\": {\"sum\": 0.5121540797522308, \"count\": 1, \"min\": 0.5121540797522308, \"max\": 0.5121540797522308}}}\u001b[0m\n",
      "\u001b[34m#metrics {\"StartTime\": 1650323234.6896415, \"EndTime\": 1650323234.6896532, \"Dimensions\": {\"Algorithm\": \"Linear Learner\", \"Host\": \"algo-1\", \"Operation\": \"training\", \"epoch\": 1, \"model\": 25}, \"Metrics\": {\"train_binary_classification_cross_entropy_objective\": {\"sum\": 0.5122507293654509, \"count\": 1, \"min\": 0.5122507293654509, \"max\": 0.5122507293654509}}}\u001b[0m\n",
      "\u001b[34m#metrics {\"StartTime\": 1650323234.689695, \"EndTime\": 1650323234.689706, \"Dimensions\": {\"Algorithm\": \"Linear Learner\", \"Host\": \"algo-1\", \"Operation\": \"training\", \"epoch\": 1, \"model\": 26}, \"Metrics\": {\"train_binary_classification_cross_entropy_objective\": {\"sum\": 0.5121526176382643, \"count\": 1, \"min\": 0.5121526176382643, \"max\": 0.5121526176382643}}}\u001b[0m\n",
      "\u001b[34m#metrics {\"StartTime\": 1650323234.6897435, \"EndTime\": 1650323234.689754, \"Dimensions\": {\"Algorithm\": \"Linear Learner\", \"Host\": \"algo-1\", \"Operation\": \"training\", \"epoch\": 1, \"model\": 27}, \"Metrics\": {\"train_binary_classification_cross_entropy_objective\": {\"sum\": 0.5122517632067386, \"count\": 1, \"min\": 0.5122517632067386, \"max\": 0.5122517632067386}}}\u001b[0m\n",
      "\u001b[34m#metrics {\"StartTime\": 1650323234.6897912, \"EndTime\": 1650323234.6898017, \"Dimensions\": {\"Algorithm\": \"Linear Learner\", \"Host\": \"algo-1\", \"Operation\": \"training\", \"epoch\": 1, \"model\": 28}, \"Metrics\": {\"train_binary_classification_cross_entropy_objective\": {\"sum\": 0.5125337368559765, \"count\": 1, \"min\": 0.5125337368559765, \"max\": 0.5125337368559765}}}\u001b[0m\n",
      "\u001b[34m#metrics {\"StartTime\": 1650323234.6898386, \"EndTime\": 1650323234.6898487, \"Dimensions\": {\"Algorithm\": \"Linear Learner\", \"Host\": \"algo-1\", \"Operation\": \"training\", \"epoch\": 1, \"model\": 29}, \"Metrics\": {\"train_binary_classification_cross_entropy_objective\": {\"sum\": 0.5136220403548775, \"count\": 1, \"min\": 0.5136220403548775, \"max\": 0.5136220403548775}}}\u001b[0m\n",
      "\u001b[34m#metrics {\"StartTime\": 1650323234.6898887, \"EndTime\": 1650323234.689899, \"Dimensions\": {\"Algorithm\": \"Linear Learner\", \"Host\": \"algo-1\", \"Operation\": \"training\", \"epoch\": 1, \"model\": 30}, \"Metrics\": {\"train_binary_classification_cross_entropy_objective\": {\"sum\": 0.5125326249708823, \"count\": 1, \"min\": 0.5125326249708823, \"max\": 0.5125326249708823}}}\u001b[0m\n",
      "\u001b[34m#metrics {\"StartTime\": 1650323234.6899254, \"EndTime\": 1650323234.689933, \"Dimensions\": {\"Algorithm\": \"Linear Learner\", \"Host\": \"algo-1\", \"Operation\": \"training\", \"epoch\": 1, \"model\": 31}, \"Metrics\": {\"train_binary_classification_cross_entropy_objective\": {\"sum\": 0.5136240518552447, \"count\": 1, \"min\": 0.5136240518552447, \"max\": 0.5136240518552447}}}\u001b[0m\n",
      "\u001b[34m[04/18/2022 23:07:14 INFO 140493168445248] #quality_metric: host=algo-1, epoch=1, train binary_classification_cross_entropy_objective <loss>=0.034347375305420765\u001b[0m\n",
      "\u001b[34m[2022-04-18 23:07:20.363] [tensorio] [info] epoch_stats={\"data_pipeline\": \"/opt/ml/input/data/validation\", \"epoch\": 5, \"duration\": 5648, \"num_examples\": 164, \"num_bytes\": 70003252}\u001b[0m\n",
      "\u001b[34m#metrics {\"StartTime\": 1650323242.3617237, \"EndTime\": 1650323242.3617904, \"Dimensions\": {\"Algorithm\": \"Linear Learner\", \"Host\": \"algo-1\", \"Operation\": \"training\", \"epoch\": 1, \"model\": 0}, \"Metrics\": {\"validation_binary_classification_cross_entropy_objective\": {\"sum\": 0.027829490878385665, \"count\": 1, \"min\": 0.027829490878385665, \"max\": 0.027829490878385665}}}\u001b[0m\n",
      "\u001b[34m#metrics {\"StartTime\": 1650323242.3618827, \"EndTime\": 1650323242.3619044, \"Dimensions\": {\"Algorithm\": \"Linear Learner\", \"Host\": \"algo-1\", \"Operation\": \"training\", \"epoch\": 1, \"model\": 1}, \"Metrics\": {\"validation_binary_classification_cross_entropy_objective\": {\"sum\": 0.006686912742598746, \"count\": 1, \"min\": 0.006686912742598746, \"max\": 0.006686912742598746}}}\u001b[0m\n",
      "\u001b[34m#metrics {\"StartTime\": 1650323242.3619578, \"EndTime\": 1650323242.3619757, \"Dimensions\": {\"Algorithm\": \"Linear Learner\", \"Host\": \"algo-1\", \"Operation\": \"training\", \"epoch\": 1, \"model\": 2}, \"Metrics\": {\"validation_binary_classification_cross_entropy_objective\": {\"sum\": 0.028175447867583244, \"count\": 1, \"min\": 0.028175447867583244, \"max\": 0.028175447867583244}}}\u001b[0m\n",
      "\u001b[34m#metrics {\"StartTime\": 1650323242.3620255, \"EndTime\": 1650323242.3620408, \"Dimensions\": {\"Algorithm\": \"Linear Learner\", \"Host\": \"algo-1\", \"Operation\": \"training\", \"epoch\": 1, \"model\": 3}, \"Metrics\": {\"validation_binary_classification_cross_entropy_objective\": {\"sum\": 0.006795569649657173, \"count\": 1, \"min\": 0.006795569649657173, \"max\": 0.006795569649657173}}}\u001b[0m\n",
      "\u001b[34m#metrics {\"StartTime\": 1650323242.362087, \"EndTime\": 1650323242.3621008, \"Dimensions\": {\"Algorithm\": \"Linear Learner\", \"Host\": \"algo-1\", \"Operation\": \"training\", \"epoch\": 1, \"model\": 4}, \"Metrics\": {\"validation_binary_classification_cross_entropy_objective\": {\"sum\": 0.0005596866221173667, \"count\": 1, \"min\": 0.0005596866221173667, \"max\": 0.0005596866221173667}}}\u001b[0m\n",
      "\u001b[34m#metrics {\"StartTime\": 1650323242.3621721, \"EndTime\": 1650323242.3621902, \"Dimensions\": {\"Algorithm\": \"Linear Learner\", \"Host\": \"algo-1\", \"Operation\": \"training\", \"epoch\": 1, \"model\": 5}, \"Metrics\": {\"validation_binary_classification_cross_entropy_objective\": {\"sum\": 0.0004977406664515455, \"count\": 1, \"min\": 0.0004977406664515455, \"max\": 0.0004977406664515455}}}\u001b[0m\n",
      "\u001b[34m#metrics {\"StartTime\": 1650323242.3622425, \"EndTime\": 1650323242.3622582, \"Dimensions\": {\"Algorithm\": \"Linear Learner\", \"Host\": \"algo-1\", \"Operation\": \"training\", \"epoch\": 1, \"model\": 6}, \"Metrics\": {\"validation_binary_classification_cross_entropy_objective\": {\"sum\": 0.0005582124008493129, \"count\": 1, \"min\": 0.0005582124008493129, \"max\": 0.0005582124008493129}}}\u001b[0m\n",
      "\u001b[34m#metrics {\"StartTime\": 1650323242.362309, \"EndTime\": 1650323242.362325, \"Dimensions\": {\"Algorithm\": \"Linear Learner\", \"Host\": \"algo-1\", \"Operation\": \"training\", \"epoch\": 1, \"model\": 7}, \"Metrics\": {\"validation_binary_classification_cross_entropy_objective\": {\"sum\": 0.0004976453250396998, \"count\": 1, \"min\": 0.0004976453250396998, \"max\": 0.0004976453250396998}}}\u001b[0m\n",
      "\u001b[34m#metrics {\"StartTime\": 1650323242.3623905, \"EndTime\": 1650323242.3624086, \"Dimensions\": {\"Algorithm\": \"Linear Learner\", \"Host\": \"algo-1\", \"Operation\": \"training\", \"epoch\": 1, \"model\": 8}, \"Metrics\": {\"validation_binary_classification_cross_entropy_objective\": {\"sum\": 0.03754671886159247, \"count\": 1, \"min\": 0.03754671886159247, \"max\": 0.03754671886159247}}}\u001b[0m\n",
      "\u001b[34m#metrics {\"StartTime\": 1650323242.3624759, \"EndTime\": 1650323242.3624926, \"Dimensions\": {\"Algorithm\": \"Linear Learner\", \"Host\": \"algo-1\", \"Operation\": \"training\", \"epoch\": 1, \"model\": 9}, \"Metrics\": {\"validation_binary_classification_cross_entropy_objective\": {\"sum\": 0.02421804248431351, \"count\": 1, \"min\": 0.02421804248431351, \"max\": 0.02421804248431351}}}\u001b[0m\n",
      "\u001b[34m#metrics {\"StartTime\": 1650323242.3625634, \"EndTime\": 1650323242.3625813, \"Dimensions\": {\"Algorithm\": \"Linear Learner\", \"Host\": \"algo-1\", \"Operation\": \"training\", \"epoch\": 1, \"model\": 10}, \"Metrics\": {\"validation_binary_classification_cross_entropy_objective\": {\"sum\": 0.03662462606325042, \"count\": 1, \"min\": 0.03662462606325042, \"max\": 0.03662462606325042}}}\u001b[0m\n",
      "\u001b[34m#metrics {\"StartTime\": 1650323242.3626487, \"EndTime\": 1650323242.362667, \"Dimensions\": {\"Algorithm\": \"Linear Learner\", \"Host\": \"algo-1\", \"Operation\": \"training\", \"epoch\": 1, \"model\": 11}, \"Metrics\": {\"validation_binary_classification_cross_entropy_objective\": {\"sum\": 0.024157357127399467, \"count\": 1, \"min\": 0.024157357127399467, \"max\": 0.024157357127399467}}}\u001b[0m\n",
      "\u001b[34m#metrics {\"StartTime\": 1650323242.3627355, \"EndTime\": 1650323242.362753, \"Dimensions\": {\"Algorithm\": \"Linear Learner\", \"Host\": \"algo-1\", \"Operation\": \"training\", \"epoch\": 1, \"model\": 12}, \"Metrics\": {\"validation_binary_classification_cross_entropy_objective\": {\"sum\": 0.02397459064191381, \"count\": 1, \"min\": 0.02397459064191381, \"max\": 0.02397459064191381}}}\u001b[0m\n",
      "\u001b[34m#metrics {\"StartTime\": 1650323242.362808, \"EndTime\": 1650323242.3628254, \"Dimensions\": {\"Algorithm\": \"Linear Learner\", \"Host\": \"algo-1\", \"Operation\": \"training\", \"epoch\": 1, \"model\": 13}, \"Metrics\": {\"validation_binary_classification_cross_entropy_objective\": {\"sum\": 0.023553908498418145, \"count\": 1, \"min\": 0.023553908498418145, \"max\": 0.023553908498418145}}}\u001b[0m\n",
      "\u001b[34m#metrics {\"StartTime\": 1650323242.3628793, \"EndTime\": 1650323242.362896, \"Dimensions\": {\"Algorithm\": \"Linear Learner\", \"Host\": \"algo-1\", \"Operation\": \"training\", \"epoch\": 1, \"model\": 14}, \"Metrics\": {\"validation_binary_classification_cross_entropy_objective\": {\"sum\": 0.023973399439667867, \"count\": 1, \"min\": 0.023973399439667867, \"max\": 0.023973399439667867}}}\u001b[0m\n",
      "\u001b[34m#metrics {\"StartTime\": 1650323242.3629425, \"EndTime\": 1650323242.362957, \"Dimensions\": {\"Algorithm\": \"Linear Learner\", \"Host\": \"algo-1\", \"Operation\": \"training\", \"epoch\": 1, \"model\": 15}, \"Metrics\": {\"validation_binary_classification_cross_entropy_objective\": {\"sum\": 0.02353002595925104, \"count\": 1, \"min\": 0.02353002595925104, \"max\": 0.02353002595925104}}}\u001b[0m\n",
      "\u001b[34m#metrics {\"StartTime\": 1650323242.3630097, \"EndTime\": 1650323242.3630257, \"Dimensions\": {\"Algorithm\": \"Linear Learner\", \"Host\": \"algo-1\", \"Operation\": \"training\", \"epoch\": 1, \"model\": 16}, \"Metrics\": {\"validation_binary_classification_cross_entropy_objective\": {\"sum\": 0.3829299230517662, \"count\": 1, \"min\": 0.3829299230517662, \"max\": 0.3829299230517662}}}\u001b[0m\n",
      "\u001b[34m#metrics {\"StartTime\": 1650323242.363079, \"EndTime\": 1650323242.3630953, \"Dimensions\": {\"Algorithm\": \"Linear Learner\", \"Host\": \"algo-1\", \"Operation\": \"training\", \"epoch\": 1, \"model\": 17}, \"Metrics\": {\"validation_binary_classification_cross_entropy_objective\": {\"sum\": 0.38141398070433014, \"count\": 1, \"min\": 0.38141398070433014, \"max\": 0.38141398070433014}}}\u001b[0m\n",
      "\u001b[34m#metrics {\"StartTime\": 1650323242.363147, \"EndTime\": 1650323242.363163, \"Dimensions\": {\"Algorithm\": \"Linear Learner\", \"Host\": \"algo-1\", \"Operation\": \"training\", \"epoch\": 1, \"model\": 18}, \"Metrics\": {\"validation_binary_classification_cross_entropy_objective\": {\"sum\": 0.38293646246615565, \"count\": 1, \"min\": 0.38293646246615565, \"max\": 0.38293646246615565}}}\u001b[0m\n",
      "\u001b[34m#metrics {\"StartTime\": 1650323242.3632154, \"EndTime\": 1650323242.3632314, \"Dimensions\": {\"Algorithm\": \"Linear Learner\", \"Host\": \"algo-1\", \"Operation\": \"training\", \"epoch\": 1, \"model\": 19}, \"Metrics\": {\"validation_binary_classification_cross_entropy_objective\": {\"sum\": 0.38065154092455983, \"count\": 1, \"min\": 0.38065154092455983, \"max\": 0.38065154092455983}}}\u001b[0m\n",
      "\u001b[34m#metrics {\"StartTime\": 1650323242.3632824, \"EndTime\": 1650323242.3632975, \"Dimensions\": {\"Algorithm\": \"Linear Learner\", \"Host\": \"algo-1\", \"Operation\": \"training\", \"epoch\": 1, \"model\": 20}, \"Metrics\": {\"validation_binary_classification_cross_entropy_objective\": {\"sum\": 0.3786575287249412, \"count\": 1, \"min\": 0.3786575287249412, \"max\": 0.3786575287249412}}}\u001b[0m\n",
      "\u001b[34m#metrics {\"StartTime\": 1650323242.3633482, \"EndTime\": 1650323242.3633633, \"Dimensions\": {\"Algorithm\": \"Linear Learner\", \"Host\": \"algo-1\", \"Operation\": \"training\", \"epoch\": 1, \"model\": 21}, \"Metrics\": {\"validation_binary_classification_cross_entropy_objective\": {\"sum\": 0.38510052994646976, \"count\": 1, \"min\": 0.38510052994646976, \"max\": 0.38510052994646976}}}\u001b[0m\n",
      "\u001b[34m#metrics {\"StartTime\": 1650323242.363414, \"EndTime\": 1650323242.3634295, \"Dimensions\": {\"Algorithm\": \"Linear Learner\", \"Host\": \"algo-1\", \"Operation\": \"training\", \"epoch\": 1, \"model\": 22}, \"Metrics\": {\"validation_binary_classification_cross_entropy_objective\": {\"sum\": 0.3786672381170974, \"count\": 1, \"min\": 0.3786672381170974, \"max\": 0.3786672381170974}}}\u001b[0m\n",
      "\u001b[34m#metrics {\"StartTime\": 1650323242.363482, \"EndTime\": 1650323242.363497, \"Dimensions\": {\"Algorithm\": \"Linear Learner\", \"Host\": \"algo-1\", \"Operation\": \"training\", \"epoch\": 1, \"model\": 23}, \"Metrics\": {\"validation_binary_classification_cross_entropy_objective\": {\"sum\": 0.3851123938301221, \"count\": 1, \"min\": 0.3851123938301221, \"max\": 0.3851123938301221}}}\u001b[0m\n",
      "\u001b[34m#metrics {\"StartTime\": 1650323242.3635492, \"EndTime\": 1650323242.3635638, \"Dimensions\": {\"Algorithm\": \"Linear Learner\", \"Host\": \"algo-1\", \"Operation\": \"training\", \"epoch\": 1, \"model\": 24}, \"Metrics\": {\"validation_binary_classification_cross_entropy_objective\": {\"sum\": 0.5120594038955242, \"count\": 1, \"min\": 0.5120594038955242, \"max\": 0.5120594038955242}}}\u001b[0m\n",
      "\u001b[34m#metrics {\"StartTime\": 1650323242.363612, \"EndTime\": 1650323242.3636258, \"Dimensions\": {\"Algorithm\": \"Linear Learner\", \"Host\": \"algo-1\", \"Operation\": \"training\", \"epoch\": 1, \"model\": 25}, \"Metrics\": {\"validation_binary_classification_cross_entropy_objective\": {\"sum\": 0.5128678078398052, \"count\": 1, \"min\": 0.5128678078398052, \"max\": 0.5128678078398052}}}\u001b[0m\n",
      "\u001b[34m#metrics {\"StartTime\": 1650323242.363671, \"EndTime\": 1650323242.3636863, \"Dimensions\": {\"Algorithm\": \"Linear Learner\", \"Host\": \"algo-1\", \"Operation\": \"training\", \"epoch\": 1, \"model\": 26}, \"Metrics\": {\"validation_binary_classification_cross_entropy_objective\": {\"sum\": 0.5122547842003402, \"count\": 1, \"min\": 0.5122547842003402, \"max\": 0.5122547842003402}}}\u001b[0m\n",
      "\u001b[34m#metrics {\"StartTime\": 1650323242.3637376, \"EndTime\": 1650323242.3637547, \"Dimensions\": {\"Algorithm\": \"Linear Learner\", \"Host\": \"algo-1\", \"Operation\": \"training\", \"epoch\": 1, \"model\": 27}, \"Metrics\": {\"validation_binary_classification_cross_entropy_objective\": {\"sum\": 0.5128804677863282, \"count\": 1, \"min\": 0.5128804677863282, \"max\": 0.5128804677863282}}}\u001b[0m\n",
      "\u001b[34m#metrics {\"StartTime\": 1650323242.3638089, \"EndTime\": 1650323242.3638256, \"Dimensions\": {\"Algorithm\": \"Linear Learner\", \"Host\": \"algo-1\", \"Operation\": \"training\", \"epoch\": 1, \"model\": 28}, \"Metrics\": {\"validation_binary_classification_cross_entropy_objective\": {\"sum\": 0.512251938599768, \"count\": 1, \"min\": 0.512251938599768, \"max\": 0.512251938599768}}}\u001b[0m\n",
      "\u001b[34m#metrics {\"StartTime\": 1650323242.3638766, \"EndTime\": 1650323242.3638933, \"Dimensions\": {\"Algorithm\": \"Linear Learner\", \"Host\": \"algo-1\", \"Operation\": \"training\", \"epoch\": 1, \"model\": 29}, \"Metrics\": {\"validation_binary_classification_cross_entropy_objective\": {\"sum\": 0.5123900486508548, \"count\": 1, \"min\": 0.5123900486508548, \"max\": 0.5123900486508548}}}\u001b[0m\n",
      "\u001b[34m#metrics {\"StartTime\": 1650323242.363945, \"EndTime\": 1650323242.3639617, \"Dimensions\": {\"Algorithm\": \"Linear Learner\", \"Host\": \"algo-1\", \"Operation\": \"training\", \"epoch\": 1, \"model\": 30}, \"Metrics\": {\"validation_binary_classification_cross_entropy_objective\": {\"sum\": 0.5123125412530919, \"count\": 1, \"min\": 0.5123125412530919, \"max\": 0.5123125412530919}}}\u001b[0m\n",
      "\u001b[34m#metrics {\"StartTime\": 1650323242.3640149, \"EndTime\": 1650323242.3640316, \"Dimensions\": {\"Algorithm\": \"Linear Learner\", \"Host\": \"algo-1\", \"Operation\": \"training\", \"epoch\": 1, \"model\": 31}, \"Metrics\": {\"validation_binary_classification_cross_entropy_objective\": {\"sum\": 0.5121841192302333, \"count\": 1, \"min\": 0.5121841192302333, \"max\": 0.5121841192302333}}}\u001b[0m\n",
      "\u001b[34m[04/18/2022 23:07:22 INFO 140493168445248] #quality_metric: host=algo-1, epoch=1, validation binary_classification_cross_entropy_objective <loss>=0.027829490878385665\u001b[0m\n",
      "\u001b[34m[04/18/2022 23:07:22 INFO 140493168445248] #early_stopping_criteria_metric: host=algo-1, epoch=1, criteria=sampled_accuracy, value=0.9995781338844086\u001b[0m\n",
      "\u001b[34m[04/18/2022 23:07:22 INFO 140493168445248] Epoch 1: Loss improved. Updating best model\u001b[0m\n",
      "\u001b[34m[04/18/2022 23:07:22 INFO 140493168445248] Saving model for epoch: 1\u001b[0m\n",
      "\u001b[34m[04/18/2022 23:07:22 INFO 140493168445248] Saved checkpoint to \"/tmp/tmp3ung01ii/mx-mod-0000.params\"\u001b[0m\n",
      "\u001b[34m[04/18/2022 23:07:22 INFO 140493168445248] #progress_metric: host=algo-1, completed 13.333333333333334 % of epochs\u001b[0m\n",
      "\u001b[34m#metrics {\"StartTime\": 1650323174.756992, \"EndTime\": 1650323242.3720183, \"Dimensions\": {\"Algorithm\": \"Linear Learner\", \"Host\": \"algo-1\", \"Operation\": \"training\", \"epoch\": 1, \"Meta\": \"training_data_iter\"}, \"Metrics\": {\"Total Records Seen\": {\"sum\": 2628944.0, \"count\": 1, \"min\": 2628944, \"max\": 2628944}, \"Total Batches Seen\": {\"sum\": 2630.0, \"count\": 1, \"min\": 2630, \"max\": 2630}, \"Max Records Seen Between Resets\": {\"sum\": 1308472.0, \"count\": 1, \"min\": 1308472, \"max\": 1308472}, \"Max Batches Seen Between Resets\": {\"sum\": 1309.0, \"count\": 1, \"min\": 1309, \"max\": 1309}, \"Reset Count\": {\"sum\": 4.0, \"count\": 1, \"min\": 4, \"max\": 4}, \"Number of Records Since Last Reset\": {\"sum\": 1308472.0, \"count\": 1, \"min\": 1308472, \"max\": 1308472}, \"Number of Batches Since Last Reset\": {\"sum\": 1309.0, \"count\": 1, \"min\": 1309, \"max\": 1309}}}\u001b[0m\n",
      "\u001b[34m[04/18/2022 23:07:22 INFO 140493168445248] #throughput_metric: host=algo-1, train throughput=19351.750069913953 records/second\u001b[0m\n",
      "\u001b[34m[2022-04-18 23:08:22.423] [tensorio] [info] epoch_stats={\"data_pipeline\": \"/opt/ml/input/data/train\", \"epoch\": 7, \"duration\": 60050, \"num_examples\": 1309, \"num_bytes\": 560026016}\u001b[0m\n",
      "\u001b[34m#metrics {\"StartTime\": 1650323302.4237053, \"EndTime\": 1650323302.423831, \"Dimensions\": {\"Algorithm\": \"Linear Learner\", \"Host\": \"algo-1\", \"Operation\": \"training\", \"epoch\": 2, \"model\": 0}, \"Metrics\": {\"train_binary_classification_cross_entropy_objective\": {\"sum\": 0.02524907561690071, \"count\": 1, \"min\": 0.02524907561690071, \"max\": 0.02524907561690071}}}\u001b[0m\n",
      "\u001b[34m#metrics {\"StartTime\": 1650323302.4239597, \"EndTime\": 1650323302.4239862, \"Dimensions\": {\"Algorithm\": \"Linear Learner\", \"Host\": \"algo-1\", \"Operation\": \"training\", \"epoch\": 2, \"model\": 1}, \"Metrics\": {\"train_binary_classification_cross_entropy_objective\": {\"sum\": 0.004586511278188921, \"count\": 1, \"min\": 0.004586511278188921, \"max\": 0.004586511278188921}}}\u001b[0m\n",
      "\u001b[34m#metrics {\"StartTime\": 1650323302.4240482, \"EndTime\": 1650323302.4240663, \"Dimensions\": {\"Algorithm\": \"Linear Learner\", \"Host\": \"algo-1\", \"Operation\": \"training\", \"epoch\": 2, \"model\": 2}, \"Metrics\": {\"train_binary_classification_cross_entropy_objective\": {\"sum\": 0.025561423683749793, \"count\": 1, \"min\": 0.025561423683749793, \"max\": 0.025561423683749793}}}\u001b[0m\n",
      "\u001b[34m#metrics {\"StartTime\": 1650323302.4241297, \"EndTime\": 1650323302.4241443, \"Dimensions\": {\"Algorithm\": \"Linear Learner\", \"Host\": \"algo-1\", \"Operation\": \"training\", \"epoch\": 2, \"model\": 3}, \"Metrics\": {\"train_binary_classification_cross_entropy_objective\": {\"sum\": 0.004658977567967289, \"count\": 1, \"min\": 0.004658977567967289, \"max\": 0.004658977567967289}}}\u001b[0m\n",
      "\u001b[34m#metrics {\"StartTime\": 1650323302.424192, \"EndTime\": 1650323302.424203, \"Dimensions\": {\"Algorithm\": \"Linear Learner\", \"Host\": \"algo-1\", \"Operation\": \"training\", \"epoch\": 2, \"model\": 4}, \"Metrics\": {\"train_binary_classification_cross_entropy_objective\": {\"sum\": 0.000542889288373132, \"count\": 1, \"min\": 0.000542889288373132, \"max\": 0.000542889288373132}}}\u001b[0m\n",
      "\u001b[34m#metrics {\"StartTime\": 1650323302.4242318, \"EndTime\": 1650323302.4242408, \"Dimensions\": {\"Algorithm\": \"Linear Learner\", \"Host\": \"algo-1\", \"Operation\": \"training\", \"epoch\": 2, \"model\": 5}, \"Metrics\": {\"train_binary_classification_cross_entropy_objective\": {\"sum\": 0.0004971992769691558, \"count\": 1, \"min\": 0.0004971992769691558, \"max\": 0.0004971992769691558}}}\u001b[0m\n",
      "\u001b[34m#metrics {\"StartTime\": 1650323302.4242647, \"EndTime\": 1650323302.4242735, \"Dimensions\": {\"Algorithm\": \"Linear Learner\", \"Host\": \"algo-1\", \"Operation\": \"training\", \"epoch\": 2, \"model\": 6}, \"Metrics\": {\"train_binary_classification_cross_entropy_objective\": {\"sum\": 0.0005417059266694824, \"count\": 1, \"min\": 0.0005417059266694824, \"max\": 0.0005417059266694824}}}\u001b[0m\n",
      "\u001b[34m#metrics {\"StartTime\": 1650323302.4242983, \"EndTime\": 1650323302.424306, \"Dimensions\": {\"Algorithm\": \"Linear Learner\", \"Host\": \"algo-1\", \"Operation\": \"training\", \"epoch\": 2, \"model\": 7}, \"Metrics\": {\"train_binary_classification_cross_entropy_objective\": {\"sum\": 0.0004971971993508324, \"count\": 1, \"min\": 0.0004971971993508324, \"max\": 0.0004971971993508324}}}\u001b[0m\n",
      "\u001b[34m#metrics {\"StartTime\": 1650323302.4243286, \"EndTime\": 1650323302.424336, \"Dimensions\": {\"Algorithm\": \"Linear Learner\", \"Host\": \"algo-1\", \"Operation\": \"training\", \"epoch\": 2, \"model\": 8}, \"Metrics\": {\"train_binary_classification_cross_entropy_objective\": {\"sum\": 0.03524889936359651, \"count\": 1, \"min\": 0.03524889936359651, \"max\": 0.03524889936359651}}}\u001b[0m\n",
      "\u001b[34m#metrics {\"StartTime\": 1650323302.4243605, \"EndTime\": 1650323302.424368, \"Dimensions\": {\"Algorithm\": \"Linear Learner\", \"Host\": \"algo-1\", \"Operation\": \"training\", \"epoch\": 2, \"model\": 9}, \"Metrics\": {\"train_binary_classification_cross_entropy_objective\": {\"sum\": 0.023967720365670114, \"count\": 1, \"min\": 0.023967720365670114, \"max\": 0.023967720365670114}}}\u001b[0m\n",
      "\u001b[34m#metrics {\"StartTime\": 1650323302.4243917, \"EndTime\": 1650323302.424399, \"Dimensions\": {\"Algorithm\": \"Linear Learner\", \"Host\": \"algo-1\", \"Operation\": \"training\", \"epoch\": 2, \"model\": 10}, \"Metrics\": {\"train_binary_classification_cross_entropy_objective\": {\"sum\": 0.034441525115150196, \"count\": 1, \"min\": 0.034441525115150196, \"max\": 0.034441525115150196}}}\u001b[0m\n",
      "\u001b[34m#metrics {\"StartTime\": 1650323302.4244273, \"EndTime\": 1650323302.4244351, \"Dimensions\": {\"Algorithm\": \"Linear Learner\", \"Host\": \"algo-1\", \"Operation\": \"training\", \"epoch\": 2, \"model\": 11}, \"Metrics\": {\"train_binary_classification_cross_entropy_objective\": {\"sum\": 0.02395319572063761, \"count\": 1, \"min\": 0.02395319572063761, \"max\": 0.02395319572063761}}}\u001b[0m\n",
      "\u001b[34m#metrics {\"StartTime\": 1650323302.42446, \"EndTime\": 1650323302.424467, \"Dimensions\": {\"Algorithm\": \"Linear Learner\", \"Host\": \"algo-1\", \"Operation\": \"training\", \"epoch\": 2, \"model\": 12}, \"Metrics\": {\"train_binary_classification_cross_entropy_objective\": {\"sum\": 0.023908097501923915, \"count\": 1, \"min\": 0.023908097501923915, \"max\": 0.023908097501923915}}}\u001b[0m\n",
      "\u001b[34m#metrics {\"StartTime\": 1650323302.4244914, \"EndTime\": 1650323302.4244983, \"Dimensions\": {\"Algorithm\": \"Linear Learner\", \"Host\": \"algo-1\", \"Operation\": \"training\", \"epoch\": 2, \"model\": 13}, \"Metrics\": {\"train_binary_classification_cross_entropy_objective\": {\"sum\": 0.024130144291332374, \"count\": 1, \"min\": 0.024130144291332374, \"max\": 0.024130144291332374}}}\u001b[0m\n",
      "\u001b[34m#metrics {\"StartTime\": 1650323302.4245245, \"EndTime\": 1650323302.4245303, \"Dimensions\": {\"Algorithm\": \"Linear Learner\", \"Host\": \"algo-1\", \"Operation\": \"training\", \"epoch\": 2, \"model\": 14}, \"Metrics\": {\"train_binary_classification_cross_entropy_objective\": {\"sum\": 0.023908141697583214, \"count\": 1, \"min\": 0.023908141697583214, \"max\": 0.023908141697583214}}}\u001b[0m\n",
      "\u001b[34m#metrics {\"StartTime\": 1650323302.4245563, \"EndTime\": 1650323302.4245636, \"Dimensions\": {\"Algorithm\": \"Linear Learner\", \"Host\": \"algo-1\", \"Operation\": \"training\", \"epoch\": 2, \"model\": 15}, \"Metrics\": {\"train_binary_classification_cross_entropy_objective\": {\"sum\": 0.024129790239013297, \"count\": 1, \"min\": 0.024129790239013297, \"max\": 0.024129790239013297}}}\u001b[0m\n",
      "\u001b[34m#metrics {\"StartTime\": 1650323302.4245882, \"EndTime\": 1650323302.4245954, \"Dimensions\": {\"Algorithm\": \"Linear Learner\", \"Host\": \"algo-1\", \"Operation\": \"training\", \"epoch\": 2, \"model\": 16}, \"Metrics\": {\"train_binary_classification_cross_entropy_objective\": {\"sum\": 0.3824961814530399, \"count\": 1, \"min\": 0.3824961814530399, \"max\": 0.3824961814530399}}}\u001b[0m\n",
      "\u001b[34m#metrics {\"StartTime\": 1650323302.42462, \"EndTime\": 1650323302.4246266, \"Dimensions\": {\"Algorithm\": \"Linear Learner\", \"Host\": \"algo-1\", \"Operation\": \"training\", \"epoch\": 2, \"model\": 17}, \"Metrics\": {\"train_binary_classification_cross_entropy_objective\": {\"sum\": 0.3827017840464181, \"count\": 1, \"min\": 0.3827017840464181, \"max\": 0.3827017840464181}}}\u001b[0m\n",
      "\u001b[34m#metrics {\"StartTime\": 1650323302.4246523, \"EndTime\": 1650323302.424658, \"Dimensions\": {\"Algorithm\": \"Linear Learner\", \"Host\": \"algo-1\", \"Operation\": \"training\", \"epoch\": 2, \"model\": 18}, \"Metrics\": {\"train_binary_classification_cross_entropy_objective\": {\"sum\": 0.3824958277711081, \"count\": 1, \"min\": 0.3824958277711081, \"max\": 0.3824958277711081}}}\u001b[0m\n",
      "\u001b[34m#metrics {\"StartTime\": 1650323302.424684, \"EndTime\": 1650323302.424689, \"Dimensions\": {\"Algorithm\": \"Linear Learner\", \"Host\": \"algo-1\", \"Operation\": \"training\", \"epoch\": 2, \"model\": 19}, \"Metrics\": {\"train_binary_classification_cross_entropy_objective\": {\"sum\": 0.38270319056146374, \"count\": 1, \"min\": 0.38270319056146374, \"max\": 0.38270319056146374}}}\u001b[0m\n",
      "\u001b[34m#metrics {\"StartTime\": 1650323302.424713, \"EndTime\": 1650323302.42472, \"Dimensions\": {\"Algorithm\": \"Linear Learner\", \"Host\": \"algo-1\", \"Operation\": \"training\", \"epoch\": 2, \"model\": 20}, \"Metrics\": {\"train_binary_classification_cross_entropy_objective\": {\"sum\": 0.38271613447090175, \"count\": 1, \"min\": 0.38271613447090175, \"max\": 0.38271613447090175}}}\u001b[0m\n",
      "\u001b[34m#metrics {\"StartTime\": 1650323302.4247503, \"EndTime\": 1650323302.4247558, \"Dimensions\": {\"Algorithm\": \"Linear Learner\", \"Host\": \"algo-1\", \"Operation\": \"training\", \"epoch\": 2, \"model\": 21}, \"Metrics\": {\"train_binary_classification_cross_entropy_objective\": {\"sum\": 0.3853007332104791, \"count\": 1, \"min\": 0.3853007332104791, \"max\": 0.3853007332104791}}}\u001b[0m\n",
      "\u001b[34m#metrics {\"StartTime\": 1650323302.4247813, \"EndTime\": 1650323302.4247873, \"Dimensions\": {\"Algorithm\": \"Linear Learner\", \"Host\": \"algo-1\", \"Operation\": \"training\", \"epoch\": 2, \"model\": 22}, \"Metrics\": {\"train_binary_classification_cross_entropy_objective\": {\"sum\": 0.3827165729627697, \"count\": 1, \"min\": 0.3827165729627697, \"max\": 0.3827165729627697}}}\u001b[0m\n",
      "\u001b[34m#metrics {\"StartTime\": 1650323302.4248104, \"EndTime\": 1650323302.424817, \"Dimensions\": {\"Algorithm\": \"Linear Learner\", \"Host\": \"algo-1\", \"Operation\": \"training\", \"epoch\": 2, \"model\": 23}, \"Metrics\": {\"train_binary_classification_cross_entropy_objective\": {\"sum\": 0.3853008520610471, \"count\": 1, \"min\": 0.3853008520610471, \"max\": 0.3853008520610471}}}\u001b[0m\n",
      "\u001b[34m#metrics {\"StartTime\": 1650323302.424843, \"EndTime\": 1650323302.4248486, \"Dimensions\": {\"Algorithm\": \"Linear Learner\", \"Host\": \"algo-1\", \"Operation\": \"training\", \"epoch\": 2, \"model\": 24}, \"Metrics\": {\"train_binary_classification_cross_entropy_objective\": {\"sum\": 0.5121453954714154, \"count\": 1, \"min\": 0.5121453954714154, \"max\": 0.5121453954714154}}}\u001b[0m\n",
      "\u001b[34m#metrics {\"StartTime\": 1650323302.4248717, \"EndTime\": 1650323302.4248788, \"Dimensions\": {\"Algorithm\": \"Linear Learner\", \"Host\": \"algo-1\", \"Operation\": \"training\", \"epoch\": 2, \"model\": 25}, \"Metrics\": {\"train_binary_classification_cross_entropy_objective\": {\"sum\": 0.5122522181939642, \"count\": 1, \"min\": 0.5122522181939642, \"max\": 0.5122522181939642}}}\u001b[0m\n",
      "\u001b[34m#metrics {\"StartTime\": 1650323302.4249053, \"EndTime\": 1650323302.4249127, \"Dimensions\": {\"Algorithm\": \"Linear Learner\", \"Host\": \"algo-1\", \"Operation\": \"training\", \"epoch\": 2, \"model\": 26}, \"Metrics\": {\"train_binary_classification_cross_entropy_objective\": {\"sum\": 0.5121460214317392, \"count\": 1, \"min\": 0.5121460214317392, \"max\": 0.5121460214317392}}}\u001b[0m\n",
      "\u001b[34m#metrics {\"StartTime\": 1650323302.4249365, \"EndTime\": 1650323302.4249434, \"Dimensions\": {\"Algorithm\": \"Linear Learner\", \"Host\": \"algo-1\", \"Operation\": \"training\", \"epoch\": 2, \"model\": 27}, \"Metrics\": {\"train_binary_classification_cross_entropy_objective\": {\"sum\": 0.5122522236768623, \"count\": 1, \"min\": 0.5122522236768623, \"max\": 0.5122522236768623}}}\u001b[0m\n",
      "\u001b[34m#metrics {\"StartTime\": 1650323302.4249692, \"EndTime\": 1650323302.424974, \"Dimensions\": {\"Algorithm\": \"Linear Learner\", \"Host\": \"algo-1\", \"Operation\": \"training\", \"epoch\": 2, \"model\": 28}, \"Metrics\": {\"train_binary_classification_cross_entropy_objective\": {\"sum\": 0.5122458227081765, \"count\": 1, \"min\": 0.5122458227081765, \"max\": 0.5122458227081765}}}\u001b[0m\n",
      "\u001b[34m#metrics {\"StartTime\": 1650323302.4249978, \"EndTime\": 1650323302.4250047, \"Dimensions\": {\"Algorithm\": \"Linear Learner\", \"Host\": \"algo-1\", \"Operation\": \"training\", \"epoch\": 2, \"model\": 29}, \"Metrics\": {\"train_binary_classification_cross_entropy_objective\": {\"sum\": 0.5134359867667568, \"count\": 1, \"min\": 0.5134359867667568, \"max\": 0.5134359867667568}}}\u001b[0m\n",
      "\u001b[34m#metrics {\"StartTime\": 1650323302.4250307, \"EndTime\": 1650323302.425037, \"Dimensions\": {\"Algorithm\": \"Linear Learner\", \"Host\": \"algo-1\", \"Operation\": \"training\", \"epoch\": 2, \"model\": 30}, \"Metrics\": {\"train_binary_classification_cross_entropy_objective\": {\"sum\": 0.5122464531948078, \"count\": 1, \"min\": 0.5122464531948078, \"max\": 0.5122464531948078}}}\u001b[0m\n",
      "\u001b[34m#metrics {\"StartTime\": 1650323302.4250627, \"EndTime\": 1650323302.4250708, \"Dimensions\": {\"Algorithm\": \"Linear Learner\", \"Host\": \"algo-1\", \"Operation\": \"training\", \"epoch\": 2, \"model\": 31}, \"Metrics\": {\"train_binary_classification_cross_entropy_objective\": {\"sum\": 0.5134361288554807, \"count\": 1, \"min\": 0.5134361288554807, \"max\": 0.5134361288554807}}}\u001b[0m\n",
      "\u001b[34m[04/18/2022 23:08:22 INFO 140493168445248] #quality_metric: host=algo-1, epoch=2, train binary_classification_cross_entropy_objective <loss>=0.02524907561690071\u001b[0m\n",
      "\u001b[34m[2022-04-18 23:08:27.986] [tensorio] [info] epoch_stats={\"data_pipeline\": \"/opt/ml/input/data/validation\", \"epoch\": 8, \"duration\": 5528, \"num_examples\": 164, \"num_bytes\": 70003252}\u001b[0m\n",
      "\u001b[34m#metrics {\"StartTime\": 1650323310.091222, \"EndTime\": 1650323310.0913417, \"Dimensions\": {\"Algorithm\": \"Linear Learner\", \"Host\": \"algo-1\", \"Operation\": \"training\", \"epoch\": 2, \"model\": 0}, \"Metrics\": {\"validation_binary_classification_cross_entropy_objective\": {\"sum\": 0.023487888905707577, \"count\": 1, \"min\": 0.023487888905707577, \"max\": 0.023487888905707577}}}\u001b[0m\n",
      "\u001b[34m#metrics {\"StartTime\": 1650323310.091461, \"EndTime\": 1650323310.0914788, \"Dimensions\": {\"Algorithm\": \"Linear Learner\", \"Host\": \"algo-1\", \"Operation\": \"training\", \"epoch\": 2, \"model\": 1}, \"Metrics\": {\"validation_binary_classification_cross_entropy_objective\": {\"sum\": 0.003111054152588292, \"count\": 1, \"min\": 0.003111054152588292, \"max\": 0.003111054152588292}}}\u001b[0m\n",
      "\u001b[34m#metrics {\"StartTime\": 1650323310.0915284, \"EndTime\": 1650323310.0915442, \"Dimensions\": {\"Algorithm\": \"Linear Learner\", \"Host\": \"algo-1\", \"Operation\": \"training\", \"epoch\": 2, \"model\": 2}, \"Metrics\": {\"validation_binary_classification_cross_entropy_objective\": {\"sum\": 0.023776921318160133, \"count\": 1, \"min\": 0.023776921318160133, \"max\": 0.023776921318160133}}}\u001b[0m\n",
      "\u001b[34m#metrics {\"StartTime\": 1650323310.091594, \"EndTime\": 1650323310.0916102, \"Dimensions\": {\"Algorithm\": \"Linear Learner\", \"Host\": \"algo-1\", \"Operation\": \"training\", \"epoch\": 2, \"model\": 3}, \"Metrics\": {\"validation_binary_classification_cross_entropy_objective\": {\"sum\": 0.0031584109752383245, \"count\": 1, \"min\": 0.0031584109752383245, \"max\": 0.0031584109752383245}}}\u001b[0m\n",
      "\u001b[34m#metrics {\"StartTime\": 1650323310.0916731, \"EndTime\": 1650323310.0916946, \"Dimensions\": {\"Algorithm\": \"Linear Learner\", \"Host\": \"algo-1\", \"Operation\": \"training\", \"epoch\": 2, \"model\": 4}, \"Metrics\": {\"validation_binary_classification_cross_entropy_objective\": {\"sum\": 0.0005318980742434068, \"count\": 1, \"min\": 0.0005318980742434068, \"max\": 0.0005318980742434068}}}\u001b[0m\n",
      "\u001b[34m#metrics {\"StartTime\": 1650323310.0917609, \"EndTime\": 1650323310.0917795, \"Dimensions\": {\"Algorithm\": \"Linear Learner\", \"Host\": \"algo-1\", \"Operation\": \"training\", \"epoch\": 2, \"model\": 5}, \"Metrics\": {\"validation_binary_classification_cross_entropy_objective\": {\"sum\": 0.0004978575669398259, \"count\": 1, \"min\": 0.0004978575669398259, \"max\": 0.0004978575669398259}}}\u001b[0m\n",
      "\u001b[34m#metrics {\"StartTime\": 1650323310.0918474, \"EndTime\": 1650323310.091867, \"Dimensions\": {\"Algorithm\": \"Linear Learner\", \"Host\": \"algo-1\", \"Operation\": \"training\", \"epoch\": 2, \"model\": 6}, \"Metrics\": {\"validation_binary_classification_cross_entropy_objective\": {\"sum\": 0.0005309261837018093, \"count\": 1, \"min\": 0.0005309261837018093, \"max\": 0.0005309261837018093}}}\u001b[0m\n",
      "\u001b[34m#metrics {\"StartTime\": 1650323310.091937, \"EndTime\": 1650323310.0919554, \"Dimensions\": {\"Algorithm\": \"Linear Learner\", \"Host\": \"algo-1\", \"Operation\": \"training\", \"epoch\": 2, \"model\": 7}, \"Metrics\": {\"validation_binary_classification_cross_entropy_objective\": {\"sum\": 0.0004978000048853939, \"count\": 1, \"min\": 0.0004978000048853939, \"max\": 0.0004978000048853939}}}\u001b[0m\n",
      "\u001b[34m#metrics {\"StartTime\": 1650323310.0920253, \"EndTime\": 1650323310.0920458, \"Dimensions\": {\"Algorithm\": \"Linear Learner\", \"Host\": \"algo-1\", \"Operation\": \"training\", \"epoch\": 2, \"model\": 8}, \"Metrics\": {\"validation_binary_classification_cross_entropy_objective\": {\"sum\": 0.03367572066050088, \"count\": 1, \"min\": 0.03367572066050088, \"max\": 0.03367572066050088}}}\u001b[0m\n",
      "\u001b[34m#metrics {\"StartTime\": 1650323310.092116, \"EndTime\": 1650323310.092136, \"Dimensions\": {\"Algorithm\": \"Linear Learner\", \"Host\": \"algo-1\", \"Operation\": \"training\", \"epoch\": 2, \"model\": 9}, \"Metrics\": {\"validation_binary_classification_cross_entropy_objective\": {\"sum\": 0.023939270518085098, \"count\": 1, \"min\": 0.023939270518085098, \"max\": 0.023939270518085098}}}\u001b[0m\n",
      "\u001b[34m#metrics {\"StartTime\": 1650323310.0922074, \"EndTime\": 1650323310.0922256, \"Dimensions\": {\"Algorithm\": \"Linear Learner\", \"Host\": \"algo-1\", \"Operation\": \"training\", \"epoch\": 2, \"model\": 10}, \"Metrics\": {\"validation_binary_classification_cross_entropy_objective\": {\"sum\": 0.03294664403610468, \"count\": 1, \"min\": 0.03294664403610468, \"max\": 0.03294664403610468}}}\u001b[0m\n",
      "\u001b[34m#metrics {\"StartTime\": 1650323310.0922863, \"EndTime\": 1650323310.0923028, \"Dimensions\": {\"Algorithm\": \"Linear Learner\", \"Host\": \"algo-1\", \"Operation\": \"training\", \"epoch\": 2, \"model\": 11}, \"Metrics\": {\"validation_binary_classification_cross_entropy_objective\": {\"sum\": 0.02393978757878509, \"count\": 1, \"min\": 0.02393978757878509, \"max\": 0.02393978757878509}}}\u001b[0m\n",
      "\u001b[34m#metrics {\"StartTime\": 1650323310.0923622, \"EndTime\": 1650323310.0923786, \"Dimensions\": {\"Algorithm\": \"Linear Learner\", \"Host\": \"algo-1\", \"Operation\": \"training\", \"epoch\": 2, \"model\": 12}, \"Metrics\": {\"validation_binary_classification_cross_entropy_objective\": {\"sum\": 0.023940150660606837, \"count\": 1, \"min\": 0.023940150660606837, \"max\": 0.023940150660606837}}}\u001b[0m\n",
      "\u001b[34m#metrics {\"StartTime\": 1650323310.0924404, \"EndTime\": 1650323310.0924547, \"Dimensions\": {\"Algorithm\": \"Linear Learner\", \"Host\": \"algo-1\", \"Operation\": \"training\", \"epoch\": 2, \"model\": 13}, \"Metrics\": {\"validation_binary_classification_cross_entropy_objective\": {\"sum\": 0.02328497714574307, \"count\": 1, \"min\": 0.02328497714574307, \"max\": 0.02328497714574307}}}\u001b[0m\n",
      "\u001b[34m#metrics {\"StartTime\": 1650323310.092517, \"EndTime\": 1650323310.0925353, \"Dimensions\": {\"Algorithm\": \"Linear Learner\", \"Host\": \"algo-1\", \"Operation\": \"training\", \"epoch\": 2, \"model\": 14}, \"Metrics\": {\"validation_binary_classification_cross_entropy_objective\": {\"sum\": 0.023939668432905126, \"count\": 1, \"min\": 0.023939668432905126, \"max\": 0.023939668432905126}}}\u001b[0m\n",
      "\u001b[34m#metrics {\"StartTime\": 1650323310.0926018, \"EndTime\": 1650323310.0926204, \"Dimensions\": {\"Algorithm\": \"Linear Learner\", \"Host\": \"algo-1\", \"Operation\": \"training\", \"epoch\": 2, \"model\": 15}, \"Metrics\": {\"validation_binary_classification_cross_entropy_objective\": {\"sum\": 0.023278835920219662, \"count\": 1, \"min\": 0.023278835920219662, \"max\": 0.023278835920219662}}}\u001b[0m\n",
      "\u001b[34m#metrics {\"StartTime\": 1650323310.0926802, \"EndTime\": 1650323310.0926988, \"Dimensions\": {\"Algorithm\": \"Linear Learner\", \"Host\": \"algo-1\", \"Operation\": \"training\", \"epoch\": 2, \"model\": 16}, \"Metrics\": {\"validation_binary_classification_cross_entropy_objective\": {\"sum\": 0.3827130568859911, \"count\": 1, \"min\": 0.3827130568859911, \"max\": 0.3827130568859911}}}\u001b[0m\n",
      "\u001b[34m#metrics {\"StartTime\": 1650323310.0927677, \"EndTime\": 1650323310.0927873, \"Dimensions\": {\"Algorithm\": \"Linear Learner\", \"Host\": \"algo-1\", \"Operation\": \"training\", \"epoch\": 2, \"model\": 17}, \"Metrics\": {\"validation_binary_classification_cross_entropy_objective\": {\"sum\": 0.38055483976342014, \"count\": 1, \"min\": 0.38055483976342014, \"max\": 0.38055483976342014}}}\u001b[0m\n",
      "\u001b[34m#metrics {\"StartTime\": 1650323310.0928545, \"EndTime\": 1650323310.0928721, \"Dimensions\": {\"Algorithm\": \"Linear Learner\", \"Host\": \"algo-1\", \"Operation\": \"training\", \"epoch\": 2, \"model\": 18}, \"Metrics\": {\"validation_binary_classification_cross_entropy_objective\": {\"sum\": 0.3827164358384245, \"count\": 1, \"min\": 0.3827164358384245, \"max\": 0.3827164358384245}}}\u001b[0m\n",
      "\u001b[34m#metrics {\"StartTime\": 1650323310.0929334, \"EndTime\": 1650323310.0929527, \"Dimensions\": {\"Algorithm\": \"Linear Learner\", \"Host\": \"algo-1\", \"Operation\": \"training\", \"epoch\": 2, \"model\": 19}, \"Metrics\": {\"validation_binary_classification_cross_entropy_objective\": {\"sum\": 0.38023100142493255, \"count\": 1, \"min\": 0.38023100142493255, \"max\": 0.38023100142493255}}}\u001b[0m\n",
      "\u001b[34m#metrics {\"StartTime\": 1650323310.093007, \"EndTime\": 1650323310.0930257, \"Dimensions\": {\"Algorithm\": \"Linear Learner\", \"Host\": \"algo-1\", \"Operation\": \"training\", \"epoch\": 2, \"model\": 20}, \"Metrics\": {\"validation_binary_classification_cross_entropy_objective\": {\"sum\": 0.3816845249052903, \"count\": 1, \"min\": 0.3816845249052903, \"max\": 0.3816845249052903}}}\u001b[0m\n",
      "\u001b[34m#metrics {\"StartTime\": 1650323310.0930922, \"EndTime\": 1650323310.0931096, \"Dimensions\": {\"Algorithm\": \"Linear Learner\", \"Host\": \"algo-1\", \"Operation\": \"training\", \"epoch\": 2, \"model\": 21}, \"Metrics\": {\"validation_binary_classification_cross_entropy_objective\": {\"sum\": 0.38371834099478247, \"count\": 1, \"min\": 0.38371834099478247, \"max\": 0.38371834099478247}}}\u001b[0m\n",
      "\u001b[34m#metrics {\"StartTime\": 1650323310.093167, \"EndTime\": 1650323310.0931838, \"Dimensions\": {\"Algorithm\": \"Linear Learner\", \"Host\": \"algo-1\", \"Operation\": \"training\", \"epoch\": 2, \"model\": 22}, \"Metrics\": {\"validation_binary_classification_cross_entropy_objective\": {\"sum\": 0.3816758481651809, \"count\": 1, \"min\": 0.3816758481651809, \"max\": 0.3816758481651809}}}\u001b[0m\n",
      "\u001b[34m#metrics {\"StartTime\": 1650323310.093239, \"EndTime\": 1650323310.0932548, \"Dimensions\": {\"Algorithm\": \"Linear Learner\", \"Host\": \"algo-1\", \"Operation\": \"training\", \"epoch\": 2, \"model\": 23}, \"Metrics\": {\"validation_binary_classification_cross_entropy_objective\": {\"sum\": 0.38371847720148483, \"count\": 1, \"min\": 0.38371847720148483, \"max\": 0.38371847720148483}}}\u001b[0m\n",
      "\u001b[34m#metrics {\"StartTime\": 1650323310.0933104, \"EndTime\": 1650323310.0933273, \"Dimensions\": {\"Algorithm\": \"Linear Learner\", \"Host\": \"algo-1\", \"Operation\": \"training\", \"epoch\": 2, \"model\": 24}, \"Metrics\": {\"validation_binary_classification_cross_entropy_objective\": {\"sum\": 0.5121031837150151, \"count\": 1, \"min\": 0.5121031837150151, \"max\": 0.5121031837150151}}}\u001b[0m\n",
      "\u001b[34m#metrics {\"StartTime\": 1650323310.0933824, \"EndTime\": 1650323310.0934005, \"Dimensions\": {\"Algorithm\": \"Linear Learner\", \"Host\": \"algo-1\", \"Operation\": \"training\", \"epoch\": 2, \"model\": 25}, \"Metrics\": {\"validation_binary_classification_cross_entropy_objective\": {\"sum\": 0.5129077889849764, \"count\": 1, \"min\": 0.5129077889849764, \"max\": 0.5129077889849764}}}\u001b[0m\n",
      "\u001b[34m#metrics {\"StartTime\": 1650323310.0934544, \"EndTime\": 1650323310.093471, \"Dimensions\": {\"Algorithm\": \"Linear Learner\", \"Host\": \"algo-1\", \"Operation\": \"training\", \"epoch\": 2, \"model\": 26}, \"Metrics\": {\"validation_binary_classification_cross_entropy_objective\": {\"sum\": 0.5120404474676618, \"count\": 1, \"min\": 0.5120404474676618, \"max\": 0.5120404474676618}}}\u001b[0m\n",
      "\u001b[34m#metrics {\"StartTime\": 1650323310.0935361, \"EndTime\": 1650323310.0935545, \"Dimensions\": {\"Algorithm\": \"Linear Learner\", \"Host\": \"algo-1\", \"Operation\": \"training\", \"epoch\": 2, \"model\": 27}, \"Metrics\": {\"validation_binary_classification_cross_entropy_objective\": {\"sum\": 0.5128234436375859, \"count\": 1, \"min\": 0.5128234436375859, \"max\": 0.5128234436375859}}}\u001b[0m\n",
      "\u001b[34m#metrics {\"StartTime\": 1650323310.0936134, \"EndTime\": 1650323310.0936322, \"Dimensions\": {\"Algorithm\": \"Linear Learner\", \"Host\": \"algo-1\", \"Operation\": \"training\", \"epoch\": 2, \"model\": 28}, \"Metrics\": {\"validation_binary_classification_cross_entropy_objective\": {\"sum\": 0.5125031334258585, \"count\": 1, \"min\": 0.5125031334258585, \"max\": 0.5125031334258585}}}\u001b[0m\n",
      "\u001b[34m#metrics {\"StartTime\": 1650323310.0936983, \"EndTime\": 1650323310.0937161, \"Dimensions\": {\"Algorithm\": \"Linear Learner\", \"Host\": \"algo-1\", \"Operation\": \"training\", \"epoch\": 2, \"model\": 29}, \"Metrics\": {\"validation_binary_classification_cross_entropy_objective\": {\"sum\": 0.5129758423315038, \"count\": 1, \"min\": 0.5129758423315038, \"max\": 0.5129758423315038}}}\u001b[0m\n",
      "\u001b[34m#metrics {\"StartTime\": 1650323310.0937865, \"EndTime\": 1650323310.093805, \"Dimensions\": {\"Algorithm\": \"Linear Learner\", \"Host\": \"algo-1\", \"Operation\": \"training\", \"epoch\": 2, \"model\": 30}, \"Metrics\": {\"validation_binary_classification_cross_entropy_objective\": {\"sum\": 0.5124502292499858, \"count\": 1, \"min\": 0.5124502292499858, \"max\": 0.5124502292499858}}}\u001b[0m\n",
      "\u001b[34m#metrics {\"StartTime\": 1650323310.0938604, \"EndTime\": 1650323310.0938776, \"Dimensions\": {\"Algorithm\": \"Linear Learner\", \"Host\": \"algo-1\", \"Operation\": \"training\", \"epoch\": 2, \"model\": 31}, \"Metrics\": {\"validation_binary_classification_cross_entropy_objective\": {\"sum\": 0.5129749026918421, \"count\": 1, \"min\": 0.5129749026918421, \"max\": 0.5129749026918421}}}\u001b[0m\n",
      "\u001b[34m[04/18/2022 23:08:30 INFO 140493168445248] #quality_metric: host=algo-1, epoch=2, validation binary_classification_cross_entropy_objective <loss>=0.023487888905707577\u001b[0m\n",
      "\u001b[34m[04/18/2022 23:08:30 INFO 140493168445248] #early_stopping_criteria_metric: host=algo-1, epoch=2, criteria=sampled_accuracy, value=0.9995781338844086\u001b[0m\n",
      "\u001b[34m[04/18/2022 23:08:30 INFO 140493168445248] Epoch 2: Loss improved. Updating best model\u001b[0m\n",
      "\u001b[34m[04/18/2022 23:08:30 INFO 140493168445248] Saving model for epoch: 2\u001b[0m\n",
      "\u001b[34m[04/18/2022 23:08:30 INFO 140493168445248] Saved checkpoint to \"/tmp/tmp8x4fgds1/mx-mod-0000.params\"\u001b[0m\n",
      "\u001b[34m[04/18/2022 23:08:30 INFO 140493168445248] #progress_metric: host=algo-1, completed 20.0 % of epochs\u001b[0m\n",
      "\u001b[34m#metrics {\"StartTime\": 1650323242.3727849, \"EndTime\": 1650323310.1024835, \"Dimensions\": {\"Algorithm\": \"Linear Learner\", \"Host\": \"algo-1\", \"Operation\": \"training\", \"epoch\": 2, \"Meta\": \"training_data_iter\"}, \"Metrics\": {\"Total Records Seen\": {\"sum\": 3937416.0, \"count\": 1, \"min\": 3937416, \"max\": 3937416}, \"Total Batches Seen\": {\"sum\": 3939.0, \"count\": 1, \"min\": 3939, \"max\": 3939}, \"Max Records Seen Between Resets\": {\"sum\": 1308472.0, \"count\": 1, \"min\": 1308472, \"max\": 1308472}, \"Max Batches Seen Between Resets\": {\"sum\": 1309.0, \"count\": 1, \"min\": 1309, \"max\": 1309}, \"Reset Count\": {\"sum\": 5.0, \"count\": 1, \"min\": 5, \"max\": 5}, \"Number of Records Since Last Reset\": {\"sum\": 1308472.0, \"count\": 1, \"min\": 1308472, \"max\": 1308472}, \"Number of Batches Since Last Reset\": {\"sum\": 1309.0, \"count\": 1, \"min\": 1309, \"max\": 1309}}}\u001b[0m\n",
      "\u001b[34m[04/18/2022 23:08:30 INFO 140493168445248] #throughput_metric: host=algo-1, train throughput=19318.983047101312 records/second\u001b[0m\n",
      "\u001b[34m[2022-04-18 23:09:29.935] [tensorio] [info] epoch_stats={\"data_pipeline\": \"/opt/ml/input/data/train\", \"epoch\": 9, \"duration\": 59832, \"num_examples\": 1309, \"num_bytes\": 560026016}\u001b[0m\n",
      "\u001b[34m#metrics {\"StartTime\": 1650323369.9356954, \"EndTime\": 1650323369.9357982, \"Dimensions\": {\"Algorithm\": \"Linear Learner\", \"Host\": \"algo-1\", \"Operation\": \"training\", \"epoch\": 3, \"model\": 0}, \"Metrics\": {\"train_binary_classification_cross_entropy_objective\": {\"sum\": 0.022673856850428685, \"count\": 1, \"min\": 0.022673856850428685, \"max\": 0.022673856850428685}}}\u001b[0m\n",
      "\u001b[34m#metrics {\"StartTime\": 1650323369.9358997, \"EndTime\": 1650323369.9359238, \"Dimensions\": {\"Algorithm\": \"Linear Learner\", \"Host\": \"algo-1\", \"Operation\": \"training\", \"epoch\": 3, \"model\": 1}, \"Metrics\": {\"train_binary_classification_cross_entropy_objective\": {\"sum\": 0.0023208625117026337, \"count\": 1, \"min\": 0.0023208625117026337, \"max\": 0.0023208625117026337}}}\u001b[0m\n",
      "\u001b[34m#metrics {\"StartTime\": 1650323369.93599, \"EndTime\": 1650323369.9360106, \"Dimensions\": {\"Algorithm\": \"Linear Learner\", \"Host\": \"algo-1\", \"Operation\": \"training\", \"epoch\": 3, \"model\": 2}, \"Metrics\": {\"train_binary_classification_cross_entropy_objective\": {\"sum\": 0.02252858263564037, \"count\": 1, \"min\": 0.02252858263564037, \"max\": 0.02252858263564037}}}\u001b[0m\n",
      "\u001b[34m#metrics {\"StartTime\": 1650323369.9360788, \"EndTime\": 1650323369.936102, \"Dimensions\": {\"Algorithm\": \"Linear Learner\", \"Host\": \"algo-1\", \"Operation\": \"training\", \"epoch\": 3, \"model\": 3}, \"Metrics\": {\"train_binary_classification_cross_entropy_objective\": {\"sum\": 0.002354898515371008, \"count\": 1, \"min\": 0.002354898515371008, \"max\": 0.002354898515371008}}}\u001b[0m\n",
      "\u001b[34m#metrics {\"StartTime\": 1650323369.9361594, \"EndTime\": 1650323369.9361763, \"Dimensions\": {\"Algorithm\": \"Linear Learner\", \"Host\": \"algo-1\", \"Operation\": \"training\", \"epoch\": 3, \"model\": 4}, \"Metrics\": {\"train_binary_classification_cross_entropy_objective\": {\"sum\": 0.000526683188929288, \"count\": 1, \"min\": 0.000526683188929288, \"max\": 0.000526683188929288}}}\u001b[0m\n",
      "\u001b[34m#metrics {\"StartTime\": 1650323369.9362342, \"EndTime\": 1650323369.936251, \"Dimensions\": {\"Algorithm\": \"Linear Learner\", \"Host\": \"algo-1\", \"Operation\": \"training\", \"epoch\": 3, \"model\": 5}, \"Metrics\": {\"train_binary_classification_cross_entropy_objective\": {\"sum\": 0.0004973202863144218, \"count\": 1, \"min\": 0.0004973202863144218, \"max\": 0.0004973202863144218}}}\u001b[0m\n",
      "\u001b[34m#metrics {\"StartTime\": 1650323369.9363039, \"EndTime\": 1650323369.9363222, \"Dimensions\": {\"Algorithm\": \"Linear Learner\", \"Host\": \"algo-1\", \"Operation\": \"training\", \"epoch\": 3, \"model\": 6}, \"Metrics\": {\"train_binary_classification_cross_entropy_objective\": {\"sum\": 0.0005258242429578706, \"count\": 1, \"min\": 0.0005258242429578706, \"max\": 0.0005258242429578706}}}\u001b[0m\n",
      "\u001b[34m#metrics {\"StartTime\": 1650323369.9363759, \"EndTime\": 1650323369.9363914, \"Dimensions\": {\"Algorithm\": \"Linear Learner\", \"Host\": \"algo-1\", \"Operation\": \"training\", \"epoch\": 3, \"model\": 7}, \"Metrics\": {\"train_binary_classification_cross_entropy_objective\": {\"sum\": 0.0004973230343027217, \"count\": 1, \"min\": 0.0004973230343027217, \"max\": 0.0004973230343027217}}}\u001b[0m\n",
      "\u001b[34m#metrics {\"StartTime\": 1650323369.936451, \"EndTime\": 1650323369.936468, \"Dimensions\": {\"Algorithm\": \"Linear Learner\", \"Host\": \"algo-1\", \"Operation\": \"training\", \"epoch\": 3, \"model\": 8}, \"Metrics\": {\"train_binary_classification_cross_entropy_objective\": {\"sum\": 0.032903662592628315, \"count\": 1, \"min\": 0.032903662592628315, \"max\": 0.032903662592628315}}}\u001b[0m\n",
      "\u001b[34m#metrics {\"StartTime\": 1650323369.9365268, \"EndTime\": 1650323369.9365425, \"Dimensions\": {\"Algorithm\": \"Linear Learner\", \"Host\": \"algo-1\", \"Operation\": \"training\", \"epoch\": 3, \"model\": 9}, \"Metrics\": {\"train_binary_classification_cross_entropy_objective\": {\"sum\": 0.023908249688804697, \"count\": 1, \"min\": 0.023908249688804697, \"max\": 0.023908249688804697}}}\u001b[0m\n",
      "\u001b[34m#metrics {\"StartTime\": 1650323369.936601, \"EndTime\": 1650323369.936619, \"Dimensions\": {\"Algorithm\": \"Linear Learner\", \"Host\": \"algo-1\", \"Operation\": \"training\", \"epoch\": 3, \"model\": 10}, \"Metrics\": {\"train_binary_classification_cross_entropy_objective\": {\"sum\": 0.031839791989107746, \"count\": 1, \"min\": 0.031839791989107746, \"max\": 0.031839791989107746}}}\u001b[0m\n",
      "\u001b[34m#metrics {\"StartTime\": 1650323369.936673, \"EndTime\": 1650323369.9366899, \"Dimensions\": {\"Algorithm\": \"Linear Learner\", \"Host\": \"algo-1\", \"Operation\": \"training\", \"epoch\": 3, \"model\": 11}, \"Metrics\": {\"train_binary_classification_cross_entropy_objective\": {\"sum\": 0.023908317624246674, \"count\": 1, \"min\": 0.023908317624246674, \"max\": 0.023908317624246674}}}\u001b[0m\n",
      "\u001b[34m#metrics {\"StartTime\": 1650323369.9367456, \"EndTime\": 1650323369.936763, \"Dimensions\": {\"Algorithm\": \"Linear Learner\", \"Host\": \"algo-1\", \"Operation\": \"training\", \"epoch\": 3, \"model\": 12}, \"Metrics\": {\"train_binary_classification_cross_entropy_objective\": {\"sum\": 0.02389910031094099, \"count\": 1, \"min\": 0.02389910031094099, \"max\": 0.02389910031094099}}}\u001b[0m\n",
      "\u001b[34m#metrics {\"StartTime\": 1650323369.9368193, \"EndTime\": 1650323369.9368362, \"Dimensions\": {\"Algorithm\": \"Linear Learner\", \"Host\": \"algo-1\", \"Operation\": \"training\", \"epoch\": 3, \"model\": 13}, \"Metrics\": {\"train_binary_classification_cross_entropy_objective\": {\"sum\": 0.02411175660328763, \"count\": 1, \"min\": 0.02411175660328763, \"max\": 0.02411175660328763}}}\u001b[0m\n",
      "\u001b[34m#metrics {\"StartTime\": 1650323369.9368927, \"EndTime\": 1650323369.9369197, \"Dimensions\": {\"Algorithm\": \"Linear Learner\", \"Host\": \"algo-1\", \"Operation\": \"training\", \"epoch\": 3, \"model\": 14}, \"Metrics\": {\"train_binary_classification_cross_entropy_objective\": {\"sum\": 0.02389911616322462, \"count\": 1, \"min\": 0.02389911616322462, \"max\": 0.02389911616322462}}}\u001b[0m\n",
      "\u001b[34m#metrics {\"StartTime\": 1650323369.9369736, \"EndTime\": 1650323369.9369905, \"Dimensions\": {\"Algorithm\": \"Linear Learner\", \"Host\": \"algo-1\", \"Operation\": \"training\", \"epoch\": 3, \"model\": 15}, \"Metrics\": {\"train_binary_classification_cross_entropy_objective\": {\"sum\": 0.02411167196979581, \"count\": 1, \"min\": 0.02411167196979581, \"max\": 0.02411167196979581}}}\u001b[0m\n",
      "\u001b[34m#metrics {\"StartTime\": 1650323369.9370434, \"EndTime\": 1650323369.9370599, \"Dimensions\": {\"Algorithm\": \"Linear Learner\", \"Host\": \"algo-1\", \"Operation\": \"training\", \"epoch\": 3, \"model\": 16}, \"Metrics\": {\"train_binary_classification_cross_entropy_objective\": {\"sum\": 0.38248692760409203, \"count\": 1, \"min\": 0.38248692760409203, \"max\": 0.38248692760409203}}}\u001b[0m\n",
      "\u001b[34m#metrics {\"StartTime\": 1650323369.9371133, \"EndTime\": 1650323369.9371297, \"Dimensions\": {\"Algorithm\": \"Linear Learner\", \"Host\": \"algo-1\", \"Operation\": \"training\", \"epoch\": 3, \"model\": 17}, \"Metrics\": {\"train_binary_classification_cross_entropy_objective\": {\"sum\": 0.3826847777293727, \"count\": 1, \"min\": 0.3826847777293727, \"max\": 0.3826847777293727}}}\u001b[0m\n",
      "\u001b[34m#metrics {\"StartTime\": 1650323369.937182, \"EndTime\": 1650323369.9371989, \"Dimensions\": {\"Algorithm\": \"Linear Learner\", \"Host\": \"algo-1\", \"Operation\": \"training\", \"epoch\": 3, \"model\": 18}, \"Metrics\": {\"train_binary_classification_cross_entropy_objective\": {\"sum\": 0.38249891268295616, \"count\": 1, \"min\": 0.38249891268295616, \"max\": 0.38249891268295616}}}\u001b[0m\n",
      "\u001b[34m#metrics {\"StartTime\": 1650323369.9372468, \"EndTime\": 1650323369.9372613, \"Dimensions\": {\"Algorithm\": \"Linear Learner\", \"Host\": \"algo-1\", \"Operation\": \"training\", \"epoch\": 3, \"model\": 19}, \"Metrics\": {\"train_binary_classification_cross_entropy_objective\": {\"sum\": 0.3826858084442419, \"count\": 1, \"min\": 0.3826858084442419, \"max\": 0.3826858084442419}}}\u001b[0m\n",
      "\u001b[34m#metrics {\"StartTime\": 1650323369.93731, \"EndTime\": 1650323369.937327, \"Dimensions\": {\"Algorithm\": \"Linear Learner\", \"Host\": \"algo-1\", \"Operation\": \"training\", \"epoch\": 3, \"model\": 20}, \"Metrics\": {\"train_binary_classification_cross_entropy_objective\": {\"sum\": 0.38253480263806267, \"count\": 1, \"min\": 0.38253480263806267, \"max\": 0.38253480263806267}}}\u001b[0m\n",
      "\u001b[34m#metrics {\"StartTime\": 1650323369.9373767, \"EndTime\": 1650323369.9373908, \"Dimensions\": {\"Algorithm\": \"Linear Learner\", \"Host\": \"algo-1\", \"Operation\": \"training\", \"epoch\": 3, \"model\": 21}, \"Metrics\": {\"train_binary_classification_cross_entropy_objective\": {\"sum\": 0.3849834333647282, \"count\": 1, \"min\": 0.3849834333647282, \"max\": 0.3849834333647282}}}\u001b[0m\n",
      "\u001b[34m#metrics {\"StartTime\": 1650323369.9374423, \"EndTime\": 1650323369.9374597, \"Dimensions\": {\"Algorithm\": \"Linear Learner\", \"Host\": \"algo-1\", \"Operation\": \"training\", \"epoch\": 3, \"model\": 22}, \"Metrics\": {\"train_binary_classification_cross_entropy_objective\": {\"sum\": 0.38253479776178295, \"count\": 1, \"min\": 0.38253479776178295, \"max\": 0.38253479776178295}}}\u001b[0m\n",
      "\u001b[34m#metrics {\"StartTime\": 1650323369.9375122, \"EndTime\": 1650323369.9375296, \"Dimensions\": {\"Algorithm\": \"Linear Learner\", \"Host\": \"algo-1\", \"Operation\": \"training\", \"epoch\": 3, \"model\": 23}, \"Metrics\": {\"train_binary_classification_cross_entropy_objective\": {\"sum\": 0.3849834480168987, \"count\": 1, \"min\": 0.3849834480168987, \"max\": 0.3849834480168987}}}\u001b[0m\n",
      "\u001b[34m#metrics {\"StartTime\": 1650323369.9375827, \"EndTime\": 1650323369.9376004, \"Dimensions\": {\"Algorithm\": \"Linear Learner\", \"Host\": \"algo-1\", \"Operation\": \"training\", \"epoch\": 3, \"model\": 24}, \"Metrics\": {\"train_binary_classification_cross_entropy_objective\": {\"sum\": 0.5121403415224968, \"count\": 1, \"min\": 0.5121403415224968, \"max\": 0.5121403415224968}}}\u001b[0m\n",
      "\u001b[34m#metrics {\"StartTime\": 1650323369.937656, \"EndTime\": 1650323369.9376724, \"Dimensions\": {\"Algorithm\": \"Linear Learner\", \"Host\": \"algo-1\", \"Operation\": \"training\", \"epoch\": 3, \"model\": 25}, \"Metrics\": {\"train_binary_classification_cross_entropy_objective\": {\"sum\": 0.5122407279058334, \"count\": 1, \"min\": 0.5122407279058334, \"max\": 0.5122407279058334}}}\u001b[0m\n",
      "\u001b[34m#metrics {\"StartTime\": 1650323369.9377267, \"EndTime\": 1650323369.9377444, \"Dimensions\": {\"Algorithm\": \"Linear Learner\", \"Host\": \"algo-1\", \"Operation\": \"training\", \"epoch\": 3, \"model\": 26}, \"Metrics\": {\"train_binary_classification_cross_entropy_objective\": {\"sum\": 0.5121421733004602, \"count\": 1, \"min\": 0.5121421733004602, \"max\": 0.5121421733004602}}}\u001b[0m\n",
      "\u001b[34m#metrics {\"StartTime\": 1650323369.9377983, \"EndTime\": 1650323369.9378145, \"Dimensions\": {\"Algorithm\": \"Linear Learner\", \"Host\": \"algo-1\", \"Operation\": \"training\", \"epoch\": 3, \"model\": 27}, \"Metrics\": {\"train_binary_classification_cross_entropy_objective\": {\"sum\": 0.512241161778068, \"count\": 1, \"min\": 0.512241161778068, \"max\": 0.512241161778068}}}\u001b[0m\n",
      "\u001b[34m#metrics {\"StartTime\": 1650323369.9378664, \"EndTime\": 1650323369.9378839, \"Dimensions\": {\"Algorithm\": \"Linear Learner\", \"Host\": \"algo-1\", \"Operation\": \"training\", \"epoch\": 3, \"model\": 28}, \"Metrics\": {\"train_binary_classification_cross_entropy_objective\": {\"sum\": 0.5121605309302654, \"count\": 1, \"min\": 0.5121605309302654, \"max\": 0.5121605309302654}}}\u001b[0m\n",
      "\u001b[34m#metrics {\"StartTime\": 1650323369.9379377, \"EndTime\": 1650323369.937955, \"Dimensions\": {\"Algorithm\": \"Linear Learner\", \"Host\": \"algo-1\", \"Operation\": \"training\", \"epoch\": 3, \"model\": 29}, \"Metrics\": {\"train_binary_classification_cross_entropy_objective\": {\"sum\": 0.5132299207168253, \"count\": 1, \"min\": 0.5132299207168253, \"max\": 0.5132299207168253}}}\u001b[0m\n",
      "\u001b[34m#metrics {\"StartTime\": 1650323369.938007, \"EndTime\": 1650323369.9380233, \"Dimensions\": {\"Algorithm\": \"Linear Learner\", \"Host\": \"algo-1\", \"Operation\": \"training\", \"epoch\": 3, \"model\": 30}, \"Metrics\": {\"train_binary_classification_cross_entropy_objective\": {\"sum\": 0.5121608821157286, \"count\": 1, \"min\": 0.5121608821157286, \"max\": 0.5121608821157286}}}\u001b[0m\n",
      "\u001b[34m#metrics {\"StartTime\": 1650323369.9380755, \"EndTime\": 1650323369.938092, \"Dimensions\": {\"Algorithm\": \"Linear Learner\", \"Host\": \"algo-1\", \"Operation\": \"training\", \"epoch\": 3, \"model\": 31}, \"Metrics\": {\"train_binary_classification_cross_entropy_objective\": {\"sum\": 0.5132299172404344, \"count\": 1, \"min\": 0.5132299172404344, \"max\": 0.5132299172404344}}}\u001b[0m\n",
      "\u001b[34m[04/18/2022 23:09:29 INFO 140493168445248] #quality_metric: host=algo-1, epoch=3, train binary_classification_cross_entropy_objective <loss>=0.022673856850428685\u001b[0m\n",
      "\u001b[34m[2022-04-18 23:09:35.471] [tensorio] [info] epoch_stats={\"data_pipeline\": \"/opt/ml/input/data/validation\", \"epoch\": 11, \"duration\": 5504, \"num_examples\": 164, \"num_bytes\": 70003252}\u001b[0m\n",
      "\u001b[34m#metrics {\"StartTime\": 1650323377.5329275, \"EndTime\": 1650323377.532994, \"Dimensions\": {\"Algorithm\": \"Linear Learner\", \"Host\": \"algo-1\", \"Operation\": \"training\", \"epoch\": 3, \"model\": 0}, \"Metrics\": {\"validation_binary_classification_cross_entropy_objective\": {\"sum\": 0.02210162198016083, \"count\": 1, \"min\": 0.02210162198016083, \"max\": 0.02210162198016083}}}\u001b[0m\n",
      "\u001b[34m#metrics {\"StartTime\": 1650323377.5330853, \"EndTime\": 1650323377.5331109, \"Dimensions\": {\"Algorithm\": \"Linear Learner\", \"Host\": \"algo-1\", \"Operation\": \"training\", \"epoch\": 3, \"model\": 1}, \"Metrics\": {\"validation_binary_classification_cross_entropy_objective\": {\"sum\": 0.0017170332501695354, \"count\": 1, \"min\": 0.0017170332501695354, \"max\": 0.0017170332501695354}}}\u001b[0m\n",
      "\u001b[34m#metrics {\"StartTime\": 1650323377.5331678, \"EndTime\": 1650323377.5331879, \"Dimensions\": {\"Algorithm\": \"Linear Learner\", \"Host\": \"algo-1\", \"Operation\": \"training\", \"epoch\": 3, \"model\": 2}, \"Metrics\": {\"validation_binary_classification_cross_entropy_objective\": {\"sum\": 0.021229303915412494, \"count\": 1, \"min\": 0.021229303915412494, \"max\": 0.021229303915412494}}}\u001b[0m\n",
      "\u001b[34m#metrics {\"StartTime\": 1650323377.5332534, \"EndTime\": 1650323377.533273, \"Dimensions\": {\"Algorithm\": \"Linear Learner\", \"Host\": \"algo-1\", \"Operation\": \"training\", \"epoch\": 3, \"model\": 3}, \"Metrics\": {\"validation_binary_classification_cross_entropy_objective\": {\"sum\": 0.0017408979479204016, \"count\": 1, \"min\": 0.0017408979479204016, \"max\": 0.0017408979479204016}}}\u001b[0m\n",
      "\u001b[34m#metrics {\"StartTime\": 1650323377.5333233, \"EndTime\": 1650323377.5333385, \"Dimensions\": {\"Algorithm\": \"Linear Learner\", \"Host\": \"algo-1\", \"Operation\": \"training\", \"epoch\": 3, \"model\": 4}, \"Metrics\": {\"validation_binary_classification_cross_entropy_objective\": {\"sum\": 0.00052285150301802, \"count\": 1, \"min\": 0.00052285150301802, \"max\": 0.00052285150301802}}}\u001b[0m\n",
      "\u001b[34m#metrics {\"StartTime\": 1650323377.5333986, \"EndTime\": 1650323377.5334172, \"Dimensions\": {\"Algorithm\": \"Linear Learner\", \"Host\": \"algo-1\", \"Operation\": \"training\", \"epoch\": 3, \"model\": 5}, \"Metrics\": {\"validation_binary_classification_cross_entropy_objective\": {\"sum\": 0.0004981339035392538, \"count\": 1, \"min\": 0.0004981339035392538, \"max\": 0.0004981339035392538}}}\u001b[0m\n",
      "\u001b[34m#metrics {\"StartTime\": 1650323377.5334585, \"EndTime\": 1650323377.5334733, \"Dimensions\": {\"Algorithm\": \"Linear Learner\", \"Host\": \"algo-1\", \"Operation\": \"training\", \"epoch\": 3, \"model\": 6}, \"Metrics\": {\"validation_binary_classification_cross_entropy_objective\": {\"sum\": 0.0005220730106151269, \"count\": 1, \"min\": 0.0005220730106151269, \"max\": 0.0005220730106151269}}}\u001b[0m\n",
      "\u001b[34m#metrics {\"StartTime\": 1650323377.5335324, \"EndTime\": 1650323377.5335467, \"Dimensions\": {\"Algorithm\": \"Linear Learner\", \"Host\": \"algo-1\", \"Operation\": \"training\", \"epoch\": 3, \"model\": 7}, \"Metrics\": {\"validation_binary_classification_cross_entropy_objective\": {\"sum\": 0.0004980893949308171, \"count\": 1, \"min\": 0.0004980893949308171, \"max\": 0.0004980893949308171}}}\u001b[0m\n",
      "\u001b[34m#metrics {\"StartTime\": 1650323377.5336108, \"EndTime\": 1650323377.5336268, \"Dimensions\": {\"Algorithm\": \"Linear Learner\", \"Host\": \"algo-1\", \"Operation\": \"training\", \"epoch\": 3, \"model\": 8}, \"Metrics\": {\"validation_binary_classification_cross_entropy_objective\": {\"sum\": 0.03234425741707888, \"count\": 1, \"min\": 0.03234425741707888, \"max\": 0.03234425741707888}}}\u001b[0m\n",
      "\u001b[34m#metrics {\"StartTime\": 1650323377.5336735, \"EndTime\": 1650323377.5336883, \"Dimensions\": {\"Algorithm\": \"Linear Learner\", \"Host\": \"algo-1\", \"Operation\": \"training\", \"epoch\": 3, \"model\": 9}, \"Metrics\": {\"validation_binary_classification_cross_entropy_objective\": {\"sum\": 0.02396106047683341, \"count\": 1, \"min\": 0.02396106047683341, \"max\": 0.02396106047683341}}}\u001b[0m\n",
      "\u001b[34m#metrics {\"StartTime\": 1650323377.5337486, \"EndTime\": 1650323377.5337672, \"Dimensions\": {\"Algorithm\": \"Linear Learner\", \"Host\": \"algo-1\", \"Operation\": \"training\", \"epoch\": 3, \"model\": 10}, \"Metrics\": {\"validation_binary_classification_cross_entropy_objective\": {\"sum\": 0.03066664664667592, \"count\": 1, \"min\": 0.03066664664667592, \"max\": 0.03066664664667592}}}\u001b[0m\n",
      "\u001b[34m#metrics {\"StartTime\": 1650323377.5338147, \"EndTime\": 1650323377.533832, \"Dimensions\": {\"Algorithm\": \"Linear Learner\", \"Host\": \"algo-1\", \"Operation\": \"training\", \"epoch\": 3, \"model\": 11}, \"Metrics\": {\"validation_binary_classification_cross_entropy_objective\": {\"sum\": 0.023961591887049435, \"count\": 1, \"min\": 0.023961591887049435, \"max\": 0.023961591887049435}}}\u001b[0m\n",
      "\u001b[34m#metrics {\"StartTime\": 1650323377.5338845, \"EndTime\": 1650323377.5339012, \"Dimensions\": {\"Algorithm\": \"Linear Learner\", \"Host\": \"algo-1\", \"Operation\": \"training\", \"epoch\": 3, \"model\": 12}, \"Metrics\": {\"validation_binary_classification_cross_entropy_objective\": {\"sum\": 0.023922472616608997, \"count\": 1, \"min\": 0.023922472616608997, \"max\": 0.023922472616608997}}}\u001b[0m\n",
      "\u001b[34m#metrics {\"StartTime\": 1650323377.5339553, \"EndTime\": 1650323377.5339715, \"Dimensions\": {\"Algorithm\": \"Linear Learner\", \"Host\": \"algo-1\", \"Operation\": \"training\", \"epoch\": 3, \"model\": 13}, \"Metrics\": {\"validation_binary_classification_cross_entropy_objective\": {\"sum\": 0.023643006853321206, \"count\": 1, \"min\": 0.023643006853321206, \"max\": 0.023643006853321206}}}\u001b[0m\n",
      "\u001b[34m#metrics {\"StartTime\": 1650323377.5340214, \"EndTime\": 1650323377.5340385, \"Dimensions\": {\"Algorithm\": \"Linear Learner\", \"Host\": \"algo-1\", \"Operation\": \"training\", \"epoch\": 3, \"model\": 14}, \"Metrics\": {\"validation_binary_classification_cross_entropy_objective\": {\"sum\": 0.023923174086956916, \"count\": 1, \"min\": 0.023923174086956916, \"max\": 0.023923174086956916}}}\u001b[0m\n",
      "\u001b[34m#metrics {\"StartTime\": 1650323377.5340936, \"EndTime\": 1650323377.5341103, \"Dimensions\": {\"Algorithm\": \"Linear Learner\", \"Host\": \"algo-1\", \"Operation\": \"training\", \"epoch\": 3, \"model\": 15}, \"Metrics\": {\"validation_binary_classification_cross_entropy_objective\": {\"sum\": 0.023626830663139878, \"count\": 1, \"min\": 0.023626830663139878, \"max\": 0.023626830663139878}}}\u001b[0m\n",
      "\u001b[34m#metrics {\"StartTime\": 1650323377.534196, \"EndTime\": 1650323377.5342116, \"Dimensions\": {\"Algorithm\": \"Linear Learner\", \"Host\": \"algo-1\", \"Operation\": \"training\", \"epoch\": 3, \"model\": 16}, \"Metrics\": {\"validation_binary_classification_cross_entropy_objective\": {\"sum\": 0.3825984755165221, \"count\": 1, \"min\": 0.3825984755165221, \"max\": 0.3825984755165221}}}\u001b[0m\n",
      "\u001b[34m#metrics {\"StartTime\": 1650323377.5342612, \"EndTime\": 1650323377.5342784, \"Dimensions\": {\"Algorithm\": \"Linear Learner\", \"Host\": \"algo-1\", \"Operation\": \"training\", \"epoch\": 3, \"model\": 17}, \"Metrics\": {\"validation_binary_classification_cross_entropy_objective\": {\"sum\": 0.3804487250398867, \"count\": 1, \"min\": 0.3804487250398867, \"max\": 0.3804487250398867}}}\u001b[0m\n",
      "\u001b[34m#metrics {\"StartTime\": 1650323377.5343301, \"EndTime\": 1650323377.534348, \"Dimensions\": {\"Algorithm\": \"Linear Learner\", \"Host\": \"algo-1\", \"Operation\": \"training\", \"epoch\": 3, \"model\": 18}, \"Metrics\": {\"validation_binary_classification_cross_entropy_objective\": {\"sum\": 0.3827249279531476, \"count\": 1, \"min\": 0.3827249279531476, \"max\": 0.3827249279531476}}}\u001b[0m\n",
      "\u001b[34m#metrics {\"StartTime\": 1650323377.534399, \"EndTime\": 1650323377.534416, \"Dimensions\": {\"Algorithm\": \"Linear Learner\", \"Host\": \"algo-1\", \"Operation\": \"training\", \"epoch\": 3, \"model\": 19}, \"Metrics\": {\"validation_binary_classification_cross_entropy_objective\": {\"sum\": 0.3803498096802033, \"count\": 1, \"min\": 0.3803498096802033, \"max\": 0.3803498096802033}}}\u001b[0m\n",
      "\u001b[34m#metrics {\"StartTime\": 1650323377.5344682, \"EndTime\": 1650323377.5344863, \"Dimensions\": {\"Algorithm\": \"Linear Learner\", \"Host\": \"algo-1\", \"Operation\": \"training\", \"epoch\": 3, \"model\": 20}, \"Metrics\": {\"validation_binary_classification_cross_entropy_objective\": {\"sum\": 0.38300646655387927, \"count\": 1, \"min\": 0.38300646655387927, \"max\": 0.38300646655387927}}}\u001b[0m\n",
      "\u001b[34m#metrics {\"StartTime\": 1650323377.5345376, \"EndTime\": 1650323377.534556, \"Dimensions\": {\"Algorithm\": \"Linear Learner\", \"Host\": \"algo-1\", \"Operation\": \"training\", \"epoch\": 3, \"model\": 21}, \"Metrics\": {\"validation_binary_classification_cross_entropy_objective\": {\"sum\": 0.3844496045530588, \"count\": 1, \"min\": 0.3844496045530588, \"max\": 0.3844496045530588}}}\u001b[0m\n",
      "\u001b[34m#metrics {\"StartTime\": 1650323377.5346036, \"EndTime\": 1650323377.5346189, \"Dimensions\": {\"Algorithm\": \"Linear Learner\", \"Host\": \"algo-1\", \"Operation\": \"training\", \"epoch\": 3, \"model\": 22}, \"Metrics\": {\"validation_binary_classification_cross_entropy_objective\": {\"sum\": 0.3830064298900203, \"count\": 1, \"min\": 0.3830064298900203, \"max\": 0.3830064298900203}}}\u001b[0m\n",
      "\u001b[34m#metrics {\"StartTime\": 1650323377.5346732, \"EndTime\": 1650323377.534688, \"Dimensions\": {\"Algorithm\": \"Linear Learner\", \"Host\": \"algo-1\", \"Operation\": \"training\", \"epoch\": 3, \"model\": 23}, \"Metrics\": {\"validation_binary_classification_cross_entropy_objective\": {\"sum\": 0.384449862506163, \"count\": 1, \"min\": 0.384449862506163, \"max\": 0.384449862506163}}}\u001b[0m\n",
      "\u001b[34m#metrics {\"StartTime\": 1650323377.5347428, \"EndTime\": 1650323377.5347583, \"Dimensions\": {\"Algorithm\": \"Linear Learner\", \"Host\": \"algo-1\", \"Operation\": \"training\", \"epoch\": 3, \"model\": 24}, \"Metrics\": {\"validation_binary_classification_cross_entropy_objective\": {\"sum\": 0.5121428868492457, \"count\": 1, \"min\": 0.5121428868492457, \"max\": 0.5121428868492457}}}\u001b[0m\n",
      "\u001b[34m#metrics {\"StartTime\": 1650323377.5348103, \"EndTime\": 1650323377.5348282, \"Dimensions\": {\"Algorithm\": \"Linear Learner\", \"Host\": \"algo-1\", \"Operation\": \"training\", \"epoch\": 3, \"model\": 25}, \"Metrics\": {\"validation_binary_classification_cross_entropy_objective\": {\"sum\": 0.5127137101072138, \"count\": 1, \"min\": 0.5127137101072138, \"max\": 0.5127137101072138}}}\u001b[0m\n",
      "\u001b[34m#metrics {\"StartTime\": 1650323377.534879, \"EndTime\": 1650323377.534895, \"Dimensions\": {\"Algorithm\": \"Linear Learner\", \"Host\": \"algo-1\", \"Operation\": \"training\", \"epoch\": 3, \"model\": 26}, \"Metrics\": {\"validation_binary_classification_cross_entropy_objective\": {\"sum\": 0.5120384110841691, \"count\": 1, \"min\": 0.5120384110841691, \"max\": 0.5120384110841691}}}\u001b[0m\n",
      "\u001b[34m#metrics {\"StartTime\": 1650323377.5349474, \"EndTime\": 1650323377.5349658, \"Dimensions\": {\"Algorithm\": \"Linear Learner\", \"Host\": \"algo-1\", \"Operation\": \"training\", \"epoch\": 3, \"model\": 27}, \"Metrics\": {\"validation_binary_classification_cross_entropy_objective\": {\"sum\": 0.5127166176538479, \"count\": 1, \"min\": 0.5127166176538479, \"max\": 0.5127166176538479}}}\u001b[0m\n",
      "\u001b[34m#metrics {\"StartTime\": 1650323377.5350294, \"EndTime\": 1650323377.5350435, \"Dimensions\": {\"Algorithm\": \"Linear Learner\", \"Host\": \"algo-1\", \"Operation\": \"training\", \"epoch\": 3, \"model\": 28}, \"Metrics\": {\"validation_binary_classification_cross_entropy_objective\": {\"sum\": 0.5122763457213237, \"count\": 1, \"min\": 0.5122763457213237, \"max\": 0.5122763457213237}}}\u001b[0m\n",
      "\u001b[34m#metrics {\"StartTime\": 1650323377.5350988, \"EndTime\": 1650323377.535115, \"Dimensions\": {\"Algorithm\": \"Linear Learner\", \"Host\": \"algo-1\", \"Operation\": \"training\", \"epoch\": 3, \"model\": 29}, \"Metrics\": {\"validation_binary_classification_cross_entropy_objective\": {\"sum\": 0.5125438390787356, \"count\": 1, \"min\": 0.5125438390787356, \"max\": 0.5125438390787356}}}\u001b[0m\n",
      "\u001b[34m#metrics {\"StartTime\": 1650323377.535167, \"EndTime\": 1650323377.5351822, \"Dimensions\": {\"Algorithm\": \"Linear Learner\", \"Host\": \"algo-1\", \"Operation\": \"training\", \"epoch\": 3, \"model\": 30}, \"Metrics\": {\"validation_binary_classification_cross_entropy_objective\": {\"sum\": 0.5122978883972703, \"count\": 1, \"min\": 0.5122978883972703, \"max\": 0.5122978883972703}}}\u001b[0m\n",
      "\u001b[34m#metrics {\"StartTime\": 1650323377.535237, \"EndTime\": 1650323377.5352535, \"Dimensions\": {\"Algorithm\": \"Linear Learner\", \"Host\": \"algo-1\", \"Operation\": \"training\", \"epoch\": 3, \"model\": 31}, \"Metrics\": {\"validation_binary_classification_cross_entropy_objective\": {\"sum\": 0.5125438642676462, \"count\": 1, \"min\": 0.5125438642676462, \"max\": 0.5125438642676462}}}\u001b[0m\n",
      "\u001b[34m[04/18/2022 23:09:37 INFO 140493168445248] #quality_metric: host=algo-1, epoch=3, validation binary_classification_cross_entropy_objective <loss>=0.02210162198016083\u001b[0m\n",
      "\u001b[34m[04/18/2022 23:09:37 INFO 140493168445248] #early_stopping_criteria_metric: host=algo-1, epoch=3, criteria=sampled_accuracy, value=0.9995781338844086\u001b[0m\n",
      "\u001b[34m[04/18/2022 23:09:37 INFO 140493168445248] Epoch 3: Loss improved. Updating best model\u001b[0m\n",
      "\u001b[34m[04/18/2022 23:09:37 INFO 140493168445248] Saving model for epoch: 3\u001b[0m\n",
      "\u001b[34m[04/18/2022 23:09:37 INFO 140493168445248] Saved checkpoint to \"/tmp/tmpfe7u2r49/mx-mod-0000.params\"\u001b[0m\n",
      "\u001b[34m[04/18/2022 23:09:37 INFO 140493168445248] #progress_metric: host=algo-1, completed 26.666666666666668 % of epochs\u001b[0m\n",
      "\u001b[34m#metrics {\"StartTime\": 1650323310.1028953, \"EndTime\": 1650323377.5427804, \"Dimensions\": {\"Algorithm\": \"Linear Learner\", \"Host\": \"algo-1\", \"Operation\": \"training\", \"epoch\": 3, \"Meta\": \"training_data_iter\"}, \"Metrics\": {\"Total Records Seen\": {\"sum\": 5245888.0, \"count\": 1, \"min\": 5245888, \"max\": 5245888}, \"Total Batches Seen\": {\"sum\": 5248.0, \"count\": 1, \"min\": 5248, \"max\": 5248}, \"Max Records Seen Between Resets\": {\"sum\": 1308472.0, \"count\": 1, \"min\": 1308472, \"max\": 1308472}, \"Max Batches Seen Between Resets\": {\"sum\": 1309.0, \"count\": 1, \"min\": 1309, \"max\": 1309}, \"Reset Count\": {\"sum\": 6.0, \"count\": 1, \"min\": 6, \"max\": 6}, \"Number of Records Since Last Reset\": {\"sum\": 1308472.0, \"count\": 1, \"min\": 1308472, \"max\": 1308472}, \"Number of Batches Since Last Reset\": {\"sum\": 1309.0, \"count\": 1, \"min\": 1309, \"max\": 1309}}}\u001b[0m\n",
      "\u001b[34m[04/18/2022 23:09:37 INFO 140493168445248] #throughput_metric: host=algo-1, train throughput=19402.00554769031 records/second\u001b[0m\n",
      "\u001b[34m[2022-04-18 23:10:37.494] [tensorio] [info] epoch_stats={\"data_pipeline\": \"/opt/ml/input/data/train\", \"epoch\": 11, \"duration\": 59950, \"num_examples\": 1309, \"num_bytes\": 560026016}\u001b[0m\n",
      "\u001b[34m#metrics {\"StartTime\": 1650323437.4942768, \"EndTime\": 1650323437.4943802, \"Dimensions\": {\"Algorithm\": \"Linear Learner\", \"Host\": \"algo-1\", \"Operation\": \"training\", \"epoch\": 4, \"model\": 0}, \"Metrics\": {\"train_binary_classification_cross_entropy_objective\": {\"sum\": 0.02184667390566718, \"count\": 1, \"min\": 0.02184667390566718, \"max\": 0.02184667390566718}}}\u001b[0m\n",
      "\u001b[34m#metrics {\"StartTime\": 1650323437.4944596, \"EndTime\": 1650323437.4944746, \"Dimensions\": {\"Algorithm\": \"Linear Learner\", \"Host\": \"algo-1\", \"Operation\": \"training\", \"epoch\": 4, \"model\": 1}, \"Metrics\": {\"train_binary_classification_cross_entropy_objective\": {\"sum\": 0.0013526199922102306, \"count\": 1, \"min\": 0.0013526199922102306, \"max\": 0.0013526199922102306}}}\u001b[0m\n",
      "\u001b[34m#metrics {\"StartTime\": 1650323437.4945087, \"EndTime\": 1650323437.4945185, \"Dimensions\": {\"Algorithm\": \"Linear Learner\", \"Host\": \"algo-1\", \"Operation\": \"training\", \"epoch\": 4, \"model\": 2}, \"Metrics\": {\"train_binary_classification_cross_entropy_objective\": {\"sum\": 0.019934660853231354, \"count\": 1, \"min\": 0.019934660853231354, \"max\": 0.019934660853231354}}}\u001b[0m\n",
      "\u001b[34m#metrics {\"StartTime\": 1650323437.4945464, \"EndTime\": 1650323437.4945555, \"Dimensions\": {\"Algorithm\": \"Linear Learner\", \"Host\": \"algo-1\", \"Operation\": \"training\", \"epoch\": 4, \"model\": 3}, \"Metrics\": {\"train_binary_classification_cross_entropy_objective\": {\"sum\": 0.001370275945656161, \"count\": 1, \"min\": 0.001370275945656161, \"max\": 0.001370275945656161}}}\u001b[0m\n",
      "\u001b[34m#metrics {\"StartTime\": 1650323437.4945846, \"EndTime\": 1650323437.494593, \"Dimensions\": {\"Algorithm\": \"Linear Learner\", \"Host\": \"algo-1\", \"Operation\": \"training\", \"epoch\": 4, \"model\": 4}, \"Metrics\": {\"train_binary_classification_cross_entropy_objective\": {\"sum\": 0.0005208131747736115, \"count\": 1, \"min\": 0.0005208131747736115, \"max\": 0.0005208131747736115}}}\u001b[0m\n",
      "\u001b[34m#metrics {\"StartTime\": 1650323437.49462, \"EndTime\": 1650323437.4946282, \"Dimensions\": {\"Algorithm\": \"Linear Learner\", \"Host\": \"algo-1\", \"Operation\": \"training\", \"epoch\": 4, \"model\": 5}, \"Metrics\": {\"train_binary_classification_cross_entropy_objective\": {\"sum\": 0.0004975300138468771, \"count\": 1, \"min\": 0.0004975300138468771, \"max\": 0.0004975300138468771}}}\u001b[0m\n",
      "\u001b[34m#metrics {\"StartTime\": 1650323437.4946537, \"EndTime\": 1650323437.4946609, \"Dimensions\": {\"Algorithm\": \"Linear Learner\", \"Host\": \"algo-1\", \"Operation\": \"training\", \"epoch\": 4, \"model\": 6}, \"Metrics\": {\"train_binary_classification_cross_entropy_objective\": {\"sum\": 0.0005200843954806299, \"count\": 1, \"min\": 0.0005200843954806299, \"max\": 0.0005200843954806299}}}\u001b[0m\n",
      "\u001b[34m#metrics {\"StartTime\": 1650323437.4946861, \"EndTime\": 1650323437.4946935, \"Dimensions\": {\"Algorithm\": \"Linear Learner\", \"Host\": \"algo-1\", \"Operation\": \"training\", \"epoch\": 4, \"model\": 7}, \"Metrics\": {\"train_binary_classification_cross_entropy_objective\": {\"sum\": 0.0004975338913842079, \"count\": 1, \"min\": 0.0004975338913842079, \"max\": 0.0004975338913842079}}}\u001b[0m\n",
      "\u001b[34m#metrics {\"StartTime\": 1650323437.4947193, \"EndTime\": 1650323437.494727, \"Dimensions\": {\"Algorithm\": \"Linear Learner\", \"Host\": \"algo-1\", \"Operation\": \"training\", \"epoch\": 4, \"model\": 8}, \"Metrics\": {\"train_binary_classification_cross_entropy_objective\": {\"sum\": 0.03206196781035957, \"count\": 1, \"min\": 0.03206196781035957, \"max\": 0.03206196781035957}}}\u001b[0m\n",
      "\u001b[34m#metrics {\"StartTime\": 1650323437.494752, \"EndTime\": 1650323437.4947593, \"Dimensions\": {\"Algorithm\": \"Linear Learner\", \"Host\": \"algo-1\", \"Operation\": \"training\", \"epoch\": 4, \"model\": 9}, \"Metrics\": {\"train_binary_classification_cross_entropy_objective\": {\"sum\": 0.023908444725409924, \"count\": 1, \"min\": 0.023908444725409924, \"max\": 0.023908444725409924}}}\u001b[0m\n",
      "\u001b[34m#metrics {\"StartTime\": 1650323437.4947846, \"EndTime\": 1650323437.494792, \"Dimensions\": {\"Algorithm\": \"Linear Learner\", \"Host\": \"algo-1\", \"Operation\": \"training\", \"epoch\": 4, \"model\": 10}, \"Metrics\": {\"train_binary_classification_cross_entropy_objective\": {\"sum\": 0.029450885030472315, \"count\": 1, \"min\": 0.029450885030472315, \"max\": 0.029450885030472315}}}\u001b[0m\n",
      "\u001b[34m#metrics {\"StartTime\": 1650323437.494817, \"EndTime\": 1650323437.494825, \"Dimensions\": {\"Algorithm\": \"Linear Learner\", \"Host\": \"algo-1\", \"Operation\": \"training\", \"epoch\": 4, \"model\": 11}, \"Metrics\": {\"train_binary_classification_cross_entropy_objective\": {\"sum\": 0.02390851869349815, \"count\": 1, \"min\": 0.02390851869349815, \"max\": 0.02390851869349815}}}\u001b[0m\n",
      "\u001b[34m#metrics {\"StartTime\": 1650323437.494849, \"EndTime\": 1650323437.494856, \"Dimensions\": {\"Algorithm\": \"Linear Learner\", \"Host\": \"algo-1\", \"Operation\": \"training\", \"epoch\": 4, \"model\": 12}, \"Metrics\": {\"train_binary_classification_cross_entropy_objective\": {\"sum\": 0.023896522102005983, \"count\": 1, \"min\": 0.023896522102005983, \"max\": 0.023896522102005983}}}\u001b[0m\n",
      "\u001b[34m#metrics {\"StartTime\": 1650323437.4948816, \"EndTime\": 1650323437.4948888, \"Dimensions\": {\"Algorithm\": \"Linear Learner\", \"Host\": \"algo-1\", \"Operation\": \"training\", \"epoch\": 4, \"model\": 13}, \"Metrics\": {\"train_binary_classification_cross_entropy_objective\": {\"sum\": 0.024091355678138384, \"count\": 1, \"min\": 0.024091355678138384, \"max\": 0.024091355678138384}}}\u001b[0m\n",
      "\u001b[34m#metrics {\"StartTime\": 1650323437.4949136, \"EndTime\": 1650323437.494921, \"Dimensions\": {\"Algorithm\": \"Linear Learner\", \"Host\": \"algo-1\", \"Operation\": \"training\", \"epoch\": 4, \"model\": 14}, \"Metrics\": {\"train_binary_classification_cross_entropy_objective\": {\"sum\": 0.023896513526228225, \"count\": 1, \"min\": 0.023896513526228225, \"max\": 0.023896513526228225}}}\u001b[0m\n",
      "\u001b[34m#metrics {\"StartTime\": 1650323437.4949455, \"EndTime\": 1650323437.4949532, \"Dimensions\": {\"Algorithm\": \"Linear Learner\", \"Host\": \"algo-1\", \"Operation\": \"training\", \"epoch\": 4, \"model\": 15}, \"Metrics\": {\"train_binary_classification_cross_entropy_objective\": {\"sum\": 0.024091318772108912, \"count\": 1, \"min\": 0.024091318772108912, \"max\": 0.024091318772108912}}}\u001b[0m\n",
      "\u001b[34m#metrics {\"StartTime\": 1650323437.494978, \"EndTime\": 1650323437.4949856, \"Dimensions\": {\"Algorithm\": \"Linear Learner\", \"Host\": \"algo-1\", \"Operation\": \"training\", \"epoch\": 4, \"model\": 16}, \"Metrics\": {\"train_binary_classification_cross_entropy_objective\": {\"sum\": 0.3824863705649653, \"count\": 1, \"min\": 0.3824863705649653, \"max\": 0.3824863705649653}}}\u001b[0m\n",
      "\u001b[34m#metrics {\"StartTime\": 1650323437.4950135, \"EndTime\": 1650323437.495021, \"Dimensions\": {\"Algorithm\": \"Linear Learner\", \"Host\": \"algo-1\", \"Operation\": \"training\", \"epoch\": 4, \"model\": 17}, \"Metrics\": {\"train_binary_classification_cross_entropy_objective\": {\"sum\": 0.38266381597956384, \"count\": 1, \"min\": 0.38266381597956384, \"max\": 0.38266381597956384}}}\u001b[0m\n",
      "\u001b[34m#metrics {\"StartTime\": 1650323437.4950464, \"EndTime\": 1650323437.495054, \"Dimensions\": {\"Algorithm\": \"Linear Learner\", \"Host\": \"algo-1\", \"Operation\": \"training\", \"epoch\": 4, \"model\": 18}, \"Metrics\": {\"train_binary_classification_cross_entropy_objective\": {\"sum\": 0.3824985155811368, \"count\": 1, \"min\": 0.3824985155811368, \"max\": 0.3824985155811368}}}\u001b[0m\n",
      "\u001b[34m#metrics {\"StartTime\": 1650323437.4950793, \"EndTime\": 1650323437.4950862, \"Dimensions\": {\"Algorithm\": \"Linear Learner\", \"Host\": \"algo-1\", \"Operation\": \"training\", \"epoch\": 4, \"model\": 19}, \"Metrics\": {\"train_binary_classification_cross_entropy_objective\": {\"sum\": 0.3826641103762006, \"count\": 1, \"min\": 0.3826641103762006, \"max\": 0.3826641103762006}}}\u001b[0m\n",
      "\u001b[34m#metrics {\"StartTime\": 1650323437.4951108, \"EndTime\": 1650323437.4951189, \"Dimensions\": {\"Algorithm\": \"Linear Learner\", \"Host\": \"algo-1\", \"Operation\": \"training\", \"epoch\": 4, \"model\": 20}, \"Metrics\": {\"train_binary_classification_cross_entropy_objective\": {\"sum\": 0.3824984222552098, \"count\": 1, \"min\": 0.3824984222552098, \"max\": 0.3824984222552098}}}\u001b[0m\n",
      "\u001b[34m#metrics {\"StartTime\": 1650323437.495143, \"EndTime\": 1650323437.4951503, \"Dimensions\": {\"Algorithm\": \"Linear Learner\", \"Host\": \"algo-1\", \"Operation\": \"training\", \"epoch\": 4, \"model\": 21}, \"Metrics\": {\"train_binary_classification_cross_entropy_objective\": {\"sum\": 0.38466480686759363, \"count\": 1, \"min\": 0.38466480686759363, \"max\": 0.38466480686759363}}}\u001b[0m\n",
      "\u001b[34m#metrics {\"StartTime\": 1650323437.4951754, \"EndTime\": 1650323437.4951825, \"Dimensions\": {\"Algorithm\": \"Linear Learner\", \"Host\": \"algo-1\", \"Operation\": \"training\", \"epoch\": 4, \"model\": 22}, \"Metrics\": {\"train_binary_classification_cross_entropy_objective\": {\"sum\": 0.38249842885801916, \"count\": 1, \"min\": 0.38249842885801916, \"max\": 0.38249842885801916}}}\u001b[0m\n",
      "\u001b[34m#metrics {\"StartTime\": 1650323437.495207, \"EndTime\": 1650323437.4952147, \"Dimensions\": {\"Algorithm\": \"Linear Learner\", \"Host\": \"algo-1\", \"Operation\": \"training\", \"epoch\": 4, \"model\": 23}, \"Metrics\": {\"train_binary_classification_cross_entropy_objective\": {\"sum\": 0.3846648115572215, \"count\": 1, \"min\": 0.3846648115572215, \"max\": 0.3846648115572215}}}\u001b[0m\n",
      "\u001b[34m#metrics {\"StartTime\": 1650323437.4952395, \"EndTime\": 1650323437.4952471, \"Dimensions\": {\"Algorithm\": \"Linear Learner\", \"Host\": \"algo-1\", \"Operation\": \"training\", \"epoch\": 4, \"model\": 24}, \"Metrics\": {\"train_binary_classification_cross_entropy_objective\": {\"sum\": 0.5121385216435891, \"count\": 1, \"min\": 0.5121385216435891, \"max\": 0.5121385216435891}}}\u001b[0m\n",
      "\u001b[34m#metrics {\"StartTime\": 1650323437.495272, \"EndTime\": 1650323437.4952786, \"Dimensions\": {\"Algorithm\": \"Linear Learner\", \"Host\": \"algo-1\", \"Operation\": \"training\", \"epoch\": 4, \"model\": 25}, \"Metrics\": {\"train_binary_classification_cross_entropy_objective\": {\"sum\": 0.5122274781206697, \"count\": 1, \"min\": 0.5122274781206697, \"max\": 0.5122274781206697}}}\u001b[0m\n",
      "\u001b[34m#metrics {\"StartTime\": 1650323437.495303, \"EndTime\": 1650323437.4953103, \"Dimensions\": {\"Algorithm\": \"Linear Learner\", \"Host\": \"algo-1\", \"Operation\": \"training\", \"epoch\": 4, \"model\": 26}, \"Metrics\": {\"train_binary_classification_cross_entropy_objective\": {\"sum\": 0.5121421505989284, \"count\": 1, \"min\": 0.5121421505989284, \"max\": 0.5121421505989284}}}\u001b[0m\n",
      "\u001b[34m#metrics {\"StartTime\": 1650323437.4953349, \"EndTime\": 1650323437.4953418, \"Dimensions\": {\"Algorithm\": \"Linear Learner\", \"Host\": \"algo-1\", \"Operation\": \"training\", \"epoch\": 4, \"model\": 27}, \"Metrics\": {\"train_binary_classification_cross_entropy_objective\": {\"sum\": 0.512228284270027, \"count\": 1, \"min\": 0.512228284270027, \"max\": 0.512228284270027}}}\u001b[0m\n",
      "\u001b[34m#metrics {\"StartTime\": 1650323437.4953692, \"EndTime\": 1650323437.4953766, \"Dimensions\": {\"Algorithm\": \"Linear Learner\", \"Host\": \"algo-1\", \"Operation\": \"training\", \"epoch\": 4, \"model\": 28}, \"Metrics\": {\"train_binary_classification_cross_entropy_objective\": {\"sum\": 0.5121483027373614, \"count\": 1, \"min\": 0.5121483027373614, \"max\": 0.5121483027373614}}}\u001b[0m\n",
      "\u001b[34m#metrics {\"StartTime\": 1650323437.4954016, \"EndTime\": 1650323437.495409, \"Dimensions\": {\"Algorithm\": \"Linear Learner\", \"Host\": \"algo-1\", \"Operation\": \"training\", \"epoch\": 4, \"model\": 29}, \"Metrics\": {\"train_binary_classification_cross_entropy_objective\": {\"sum\": 0.513095348953107, \"count\": 1, \"min\": 0.513095348953107, \"max\": 0.513095348953107}}}\u001b[0m\n",
      "\u001b[34m#metrics {\"StartTime\": 1650323437.4954357, \"EndTime\": 1650323437.4954426, \"Dimensions\": {\"Algorithm\": \"Linear Learner\", \"Host\": \"algo-1\", \"Operation\": \"training\", \"epoch\": 4, \"model\": 30}, \"Metrics\": {\"train_binary_classification_cross_entropy_objective\": {\"sum\": 0.5121481688379876, \"count\": 1, \"min\": 0.5121481688379876, \"max\": 0.5121481688379876}}}\u001b[0m\n",
      "\u001b[34m#metrics {\"StartTime\": 1650323437.4954932, \"EndTime\": 1650323437.4955106, \"Dimensions\": {\"Algorithm\": \"Linear Learner\", \"Host\": \"algo-1\", \"Operation\": \"training\", \"epoch\": 4, \"model\": 31}, \"Metrics\": {\"train_binary_classification_cross_entropy_objective\": {\"sum\": 0.5130953503996589, \"count\": 1, \"min\": 0.5130953503996589, \"max\": 0.5130953503996589}}}\u001b[0m\n",
      "\u001b[34m[04/18/2022 23:10:37 INFO 140493168445248] #quality_metric: host=algo-1, epoch=4, train binary_classification_cross_entropy_objective <loss>=0.02184667390566718\u001b[0m\n",
      "\u001b[34m[2022-04-18 23:10:43.120] [tensorio] [info] epoch_stats={\"data_pipeline\": \"/opt/ml/input/data/validation\", \"epoch\": 14, \"duration\": 5589, \"num_examples\": 164, \"num_bytes\": 70003252}\u001b[0m\n",
      "\u001b[34m#metrics {\"StartTime\": 1650323445.1869247, \"EndTime\": 1650323445.1869884, \"Dimensions\": {\"Algorithm\": \"Linear Learner\", \"Host\": \"algo-1\", \"Operation\": \"training\", \"epoch\": 4, \"model\": 0}, \"Metrics\": {\"validation_binary_classification_cross_entropy_objective\": {\"sum\": 0.02165432740265369, \"count\": 1, \"min\": 0.02165432740265369, \"max\": 0.02165432740265369}}}\u001b[0m\n",
      "\u001b[34m#metrics {\"StartTime\": 1650323445.1870751, \"EndTime\": 1650323445.1870906, \"Dimensions\": {\"Algorithm\": \"Linear Learner\", \"Host\": \"algo-1\", \"Operation\": \"training\", \"epoch\": 4, \"model\": 1}, \"Metrics\": {\"validation_binary_classification_cross_entropy_objective\": {\"sum\": 0.0010639955588744895, \"count\": 1, \"min\": 0.0010639955588744895, \"max\": 0.0010639955588744895}}}\u001b[0m\n",
      "\u001b[34m#metrics {\"StartTime\": 1650323445.1871347, \"EndTime\": 1650323445.1871538, \"Dimensions\": {\"Algorithm\": \"Linear Learner\", \"Host\": \"algo-1\", \"Operation\": \"training\", \"epoch\": 4, \"model\": 2}, \"Metrics\": {\"validation_binary_classification_cross_entropy_objective\": {\"sum\": 0.018649250600743204, \"count\": 1, \"min\": 0.018649250600743204, \"max\": 0.018649250600743204}}}\u001b[0m\n",
      "\u001b[34m#metrics {\"StartTime\": 1650323445.1872044, \"EndTime\": 1650323445.1872191, \"Dimensions\": {\"Algorithm\": \"Linear Learner\", \"Host\": \"algo-1\", \"Operation\": \"training\", \"epoch\": 4, \"model\": 3}, \"Metrics\": {\"validation_binary_classification_cross_entropy_objective\": {\"sum\": 0.0010766687634669665, \"count\": 1, \"min\": 0.0010766687634669665, \"max\": 0.0010766687634669665}}}\u001b[0m\n",
      "\u001b[34m#metrics {\"StartTime\": 1650323445.187277, \"EndTime\": 1650323445.1872911, \"Dimensions\": {\"Algorithm\": \"Linear Learner\", \"Host\": \"algo-1\", \"Operation\": \"training\", \"epoch\": 4, \"model\": 4}, \"Metrics\": {\"validation_binary_classification_cross_entropy_objective\": {\"sum\": 0.000519155222604354, \"count\": 1, \"min\": 0.000519155222604354, \"max\": 0.000519155222604354}}}\u001b[0m\n",
      "\u001b[34m#metrics {\"StartTime\": 1650323445.1873457, \"EndTime\": 1650323445.187362, \"Dimensions\": {\"Algorithm\": \"Linear Learner\", \"Host\": \"algo-1\", \"Operation\": \"training\", \"epoch\": 4, \"model\": 5}, \"Metrics\": {\"validation_binary_classification_cross_entropy_objective\": {\"sum\": 0.0004980958858492649, \"count\": 1, \"min\": 0.0004980958858492649, \"max\": 0.0004980958858492649}}}\u001b[0m\n",
      "\u001b[34m#metrics {\"StartTime\": 1650323445.1874099, \"EndTime\": 1650323445.1874268, \"Dimensions\": {\"Algorithm\": \"Linear Learner\", \"Host\": \"algo-1\", \"Operation\": \"training\", \"epoch\": 4, \"model\": 6}, \"Metrics\": {\"validation_binary_classification_cross_entropy_objective\": {\"sum\": 0.000518454424616682, \"count\": 1, \"min\": 0.000518454424616682, \"max\": 0.000518454424616682}}}\u001b[0m\n",
      "\u001b[34m#metrics {\"StartTime\": 1650323445.1874807, \"EndTime\": 1650323445.1874957, \"Dimensions\": {\"Algorithm\": \"Linear Learner\", \"Host\": \"algo-1\", \"Operation\": \"training\", \"epoch\": 4, \"model\": 7}, \"Metrics\": {\"validation_binary_classification_cross_entropy_objective\": {\"sum\": 0.0004976106573072007, \"count\": 1, \"min\": 0.0004976106573072007, \"max\": 0.0004976106573072007}}}\u001b[0m\n",
      "\u001b[34m#metrics {\"StartTime\": 1650323445.1875584, \"EndTime\": 1650323445.1875784, \"Dimensions\": {\"Algorithm\": \"Linear Learner\", \"Host\": \"algo-1\", \"Operation\": \"training\", \"epoch\": 4, \"model\": 8}, \"Metrics\": {\"validation_binary_classification_cross_entropy_objective\": {\"sum\": 0.031844322389261874, \"count\": 1, \"min\": 0.031844322389261874, \"max\": 0.031844322389261874}}}\u001b[0m\n",
      "\u001b[34m#metrics {\"StartTime\": 1650323445.1876483, \"EndTime\": 1650323445.1876662, \"Dimensions\": {\"Algorithm\": \"Linear Learner\", \"Host\": \"algo-1\", \"Operation\": \"training\", \"epoch\": 4, \"model\": 9}, \"Metrics\": {\"validation_binary_classification_cross_entropy_objective\": {\"sum\": 0.023976131351957395, \"count\": 1, \"min\": 0.023976131351957395, \"max\": 0.023976131351957395}}}\u001b[0m\n",
      "\u001b[34m#metrics {\"StartTime\": 1650323445.187732, \"EndTime\": 1650323445.187748, \"Dimensions\": {\"Algorithm\": \"Linear Learner\", \"Host\": \"algo-1\", \"Operation\": \"training\", \"epoch\": 4, \"model\": 10}, \"Metrics\": {\"validation_binary_classification_cross_entropy_objective\": {\"sum\": 0.028251441691689243, \"count\": 1, \"min\": 0.028251441691689243, \"max\": 0.028251441691689243}}}\u001b[0m\n",
      "\u001b[34m#metrics {\"StartTime\": 1650323445.1878164, \"EndTime\": 1650323445.1878333, \"Dimensions\": {\"Algorithm\": \"Linear Learner\", \"Host\": \"algo-1\", \"Operation\": \"training\", \"epoch\": 4, \"model\": 11}, \"Metrics\": {\"validation_binary_classification_cross_entropy_objective\": {\"sum\": 0.023975923030336594, \"count\": 1, \"min\": 0.023975923030336594, \"max\": 0.023975923030336594}}}\u001b[0m\n",
      "\u001b[34m#metrics {\"StartTime\": 1650323445.1878889, \"EndTime\": 1650323445.1879056, \"Dimensions\": {\"Algorithm\": \"Linear Learner\", \"Host\": \"algo-1\", \"Operation\": \"training\", \"epoch\": 4, \"model\": 12}, \"Metrics\": {\"validation_binary_classification_cross_entropy_objective\": {\"sum\": 0.023912344027335504, \"count\": 1, \"min\": 0.023912344027335504, \"max\": 0.023912344027335504}}}\u001b[0m\n",
      "\u001b[34m#metrics {\"StartTime\": 1650323445.1879609, \"EndTime\": 1650323445.187977, \"Dimensions\": {\"Algorithm\": \"Linear Learner\", \"Host\": \"algo-1\", \"Operation\": \"training\", \"epoch\": 4, \"model\": 13}, \"Metrics\": {\"validation_binary_classification_cross_entropy_objective\": {\"sum\": 0.024042124618757814, \"count\": 1, \"min\": 0.024042124618757814, \"max\": 0.024042124618757814}}}\u001b[0m\n",
      "\u001b[34m#metrics {\"StartTime\": 1650323445.1880293, \"EndTime\": 1650323445.1880453, \"Dimensions\": {\"Algorithm\": \"Linear Learner\", \"Host\": \"algo-1\", \"Operation\": \"training\", \"epoch\": 4, \"model\": 14}, \"Metrics\": {\"validation_binary_classification_cross_entropy_objective\": {\"sum\": 0.023912784413457757, \"count\": 1, \"min\": 0.023912784413457757, \"max\": 0.023912784413457757}}}\u001b[0m\n",
      "\u001b[34m#metrics {\"StartTime\": 1650323445.1881125, \"EndTime\": 1650323445.188133, \"Dimensions\": {\"Algorithm\": \"Linear Learner\", \"Host\": \"algo-1\", \"Operation\": \"training\", \"epoch\": 4, \"model\": 15}, \"Metrics\": {\"validation_binary_classification_cross_entropy_objective\": {\"sum\": 0.024035707032400853, \"count\": 1, \"min\": 0.024035707032400853, \"max\": 0.024035707032400853}}}\u001b[0m\n",
      "\u001b[34m#metrics {\"StartTime\": 1650323445.1881926, \"EndTime\": 1650323445.1882088, \"Dimensions\": {\"Algorithm\": \"Linear Learner\", \"Host\": \"algo-1\", \"Operation\": \"training\", \"epoch\": 4, \"model\": 16}, \"Metrics\": {\"validation_binary_classification_cross_entropy_objective\": {\"sum\": 0.38254752907876516, \"count\": 1, \"min\": 0.38254752907876516, \"max\": 0.38254752907876516}}}\u001b[0m\n",
      "\u001b[34m#metrics {\"StartTime\": 1650323445.1882641, \"EndTime\": 1650323445.1882815, \"Dimensions\": {\"Algorithm\": \"Linear Learner\", \"Host\": \"algo-1\", \"Operation\": \"training\", \"epoch\": 4, \"model\": 17}, \"Metrics\": {\"validation_binary_classification_cross_entropy_objective\": {\"sum\": 0.38069633408459924, \"count\": 1, \"min\": 0.38069633408459924, \"max\": 0.38069633408459924}}}\u001b[0m\n",
      "\u001b[34m#metrics {\"StartTime\": 1650323445.1883428, \"EndTime\": 1650323445.188357, \"Dimensions\": {\"Algorithm\": \"Linear Learner\", \"Host\": \"algo-1\", \"Operation\": \"training\", \"epoch\": 4, \"model\": 18}, \"Metrics\": {\"validation_binary_classification_cross_entropy_objective\": {\"sum\": 0.38272782561080193, \"count\": 1, \"min\": 0.38272782561080193, \"max\": 0.38272782561080193}}}\u001b[0m\n",
      "\u001b[34m#metrics {\"StartTime\": 1650323445.1884172, \"EndTime\": 1650323445.1884336, \"Dimensions\": {\"Algorithm\": \"Linear Learner\", \"Host\": \"algo-1\", \"Operation\": \"training\", \"epoch\": 4, \"model\": 19}, \"Metrics\": {\"validation_binary_classification_cross_entropy_objective\": {\"sum\": 0.3806701191455926, \"count\": 1, \"min\": 0.3806701191455926, \"max\": 0.3806701191455926}}}\u001b[0m\n",
      "\u001b[34m#metrics {\"StartTime\": 1650323445.188501, \"EndTime\": 1650323445.1885183, \"Dimensions\": {\"Algorithm\": \"Linear Learner\", \"Host\": \"algo-1\", \"Operation\": \"training\", \"epoch\": 4, \"model\": 20}, \"Metrics\": {\"validation_binary_classification_cross_entropy_objective\": {\"sum\": 0.3827835858359801, \"count\": 1, \"min\": 0.3827835858359801, \"max\": 0.3827835858359801}}}\u001b[0m\n",
      "\u001b[34m#metrics {\"StartTime\": 1650323445.1885846, \"EndTime\": 1650323445.1885993, \"Dimensions\": {\"Algorithm\": \"Linear Learner\", \"Host\": \"algo-1\", \"Operation\": \"training\", \"epoch\": 4, \"model\": 21}, \"Metrics\": {\"validation_binary_classification_cross_entropy_objective\": {\"sum\": 0.3857122404973487, \"count\": 1, \"min\": 0.3857122404973487, \"max\": 0.3857122404973487}}}\u001b[0m\n",
      "\u001b[34m#metrics {\"StartTime\": 1650323445.1886556, \"EndTime\": 1650323445.1886714, \"Dimensions\": {\"Algorithm\": \"Linear Learner\", \"Host\": \"algo-1\", \"Operation\": \"training\", \"epoch\": 4, \"model\": 22}, \"Metrics\": {\"validation_binary_classification_cross_entropy_objective\": {\"sum\": 0.3827836693325545, \"count\": 1, \"min\": 0.3827836693325545, \"max\": 0.3827836693325545}}}\u001b[0m\n",
      "\u001b[34m#metrics {\"StartTime\": 1650323445.1887357, \"EndTime\": 1650323445.1887553, \"Dimensions\": {\"Algorithm\": \"Linear Learner\", \"Host\": \"algo-1\", \"Operation\": \"training\", \"epoch\": 4, \"model\": 23}, \"Metrics\": {\"validation_binary_classification_cross_entropy_objective\": {\"sum\": 0.3857123067348547, \"count\": 1, \"min\": 0.3857123067348547, \"max\": 0.3857123067348547}}}\u001b[0m\n",
      "\u001b[34m#metrics {\"StartTime\": 1650323445.1888213, \"EndTime\": 1650323445.1888402, \"Dimensions\": {\"Algorithm\": \"Linear Learner\", \"Host\": \"algo-1\", \"Operation\": \"training\", \"epoch\": 4, \"model\": 24}, \"Metrics\": {\"validation_binary_classification_cross_entropy_objective\": {\"sum\": 0.51214284206896, \"count\": 1, \"min\": 0.51214284206896, \"max\": 0.51214284206896}}}\u001b[0m\n",
      "\u001b[34m#metrics {\"StartTime\": 1650323445.1888947, \"EndTime\": 1650323445.1889122, \"Dimensions\": {\"Algorithm\": \"Linear Learner\", \"Host\": \"algo-1\", \"Operation\": \"training\", \"epoch\": 4, \"model\": 25}, \"Metrics\": {\"validation_binary_classification_cross_entropy_objective\": {\"sum\": 0.5126735955541082, \"count\": 1, \"min\": 0.5126735955541082, \"max\": 0.5126735955541082}}}\u001b[0m\n",
      "\u001b[34m#metrics {\"StartTime\": 1650323445.188974, \"EndTime\": 1650323445.1889918, \"Dimensions\": {\"Algorithm\": \"Linear Learner\", \"Host\": \"algo-1\", \"Operation\": \"training\", \"epoch\": 4, \"model\": 26}, \"Metrics\": {\"validation_binary_classification_cross_entropy_objective\": {\"sum\": 0.5120399250309952, \"count\": 1, \"min\": 0.5120399250309952, \"max\": 0.5120399250309952}}}\u001b[0m\n",
      "\u001b[34m#metrics {\"StartTime\": 1650323445.189051, \"EndTime\": 1650323445.1890674, \"Dimensions\": {\"Algorithm\": \"Linear Learner\", \"Host\": \"algo-1\", \"Operation\": \"training\", \"epoch\": 4, \"model\": 27}, \"Metrics\": {\"validation_binary_classification_cross_entropy_objective\": {\"sum\": 0.5126699524912813, \"count\": 1, \"min\": 0.5126699524912813, \"max\": 0.5126699524912813}}}\u001b[0m\n",
      "\u001b[34m#metrics {\"StartTime\": 1650323445.1891203, \"EndTime\": 1650323445.1891341, \"Dimensions\": {\"Algorithm\": \"Linear Learner\", \"Host\": \"algo-1\", \"Operation\": \"training\", \"epoch\": 4, \"model\": 28}, \"Metrics\": {\"validation_binary_classification_cross_entropy_objective\": {\"sum\": 0.5120417574776032, \"count\": 1, \"min\": 0.5120417574776032, \"max\": 0.5120417574776032}}}\u001b[0m\n",
      "\u001b[34m#metrics {\"StartTime\": 1650323445.1891901, \"EndTime\": 1650323445.1892068, \"Dimensions\": {\"Algorithm\": \"Linear Learner\", \"Host\": \"algo-1\", \"Operation\": \"training\", \"epoch\": 4, \"model\": 29}, \"Metrics\": {\"validation_binary_classification_cross_entropy_objective\": {\"sum\": 0.5128505056703305, \"count\": 1, \"min\": 0.5128505056703305, \"max\": 0.5128505056703305}}}\u001b[0m\n",
      "\u001b[34m#metrics {\"StartTime\": 1650323445.189273, \"EndTime\": 1650323445.1892908, \"Dimensions\": {\"Algorithm\": \"Linear Learner\", \"Host\": \"algo-1\", \"Operation\": \"training\", \"epoch\": 4, \"model\": 30}, \"Metrics\": {\"validation_binary_classification_cross_entropy_objective\": {\"sum\": 0.5120437880769755, \"count\": 1, \"min\": 0.5120437880769755, \"max\": 0.5120437880769755}}}\u001b[0m\n",
      "\u001b[34m#metrics {\"StartTime\": 1650323445.1893592, \"EndTime\": 1650323445.1893802, \"Dimensions\": {\"Algorithm\": \"Linear Learner\", \"Host\": \"algo-1\", \"Operation\": \"training\", \"epoch\": 4, \"model\": 31}, \"Metrics\": {\"validation_binary_classification_cross_entropy_objective\": {\"sum\": 0.5128505146263876, \"count\": 1, \"min\": 0.5128505146263876, \"max\": 0.5128505146263876}}}\u001b[0m\n",
      "\u001b[34m[04/18/2022 23:10:45 INFO 140493168445248] #quality_metric: host=algo-1, epoch=4, validation binary_classification_cross_entropy_objective <loss>=0.02165432740265369\u001b[0m\n",
      "\u001b[34m[04/18/2022 23:10:45 INFO 140493168445248] #early_stopping_criteria_metric: host=algo-1, epoch=4, criteria=sampled_accuracy, value=0.9995781338844086\u001b[0m\n",
      "\u001b[34m[04/18/2022 23:10:45 INFO 140493168445248] Epoch 4: Loss improved. Updating best model\u001b[0m\n",
      "\u001b[34m[04/18/2022 23:10:45 INFO 140493168445248] Saving model for epoch: 4\u001b[0m\n",
      "\u001b[34m[04/18/2022 23:10:45 INFO 140493168445248] Saved checkpoint to \"/tmp/tmpgrdqhvlo/mx-mod-0000.params\"\u001b[0m\n",
      "\u001b[34m[04/18/2022 23:10:45 INFO 140493168445248] #progress_metric: host=algo-1, completed 33.333333333333336 % of epochs\u001b[0m\n",
      "\u001b[34m#metrics {\"StartTime\": 1650323377.5434725, \"EndTime\": 1650323445.1970391, \"Dimensions\": {\"Algorithm\": \"Linear Learner\", \"Host\": \"algo-1\", \"Operation\": \"training\", \"epoch\": 4, \"Meta\": \"training_data_iter\"}, \"Metrics\": {\"Total Records Seen\": {\"sum\": 6554360.0, \"count\": 1, \"min\": 6554360, \"max\": 6554360}, \"Total Batches Seen\": {\"sum\": 6557.0, \"count\": 1, \"min\": 6557, \"max\": 6557}, \"Max Records Seen Between Resets\": {\"sum\": 1308472.0, \"count\": 1, \"min\": 1308472, \"max\": 1308472}, \"Max Batches Seen Between Resets\": {\"sum\": 1309.0, \"count\": 1, \"min\": 1309, \"max\": 1309}, \"Reset Count\": {\"sum\": 7.0, \"count\": 1, \"min\": 7, \"max\": 7}, \"Number of Records Since Last Reset\": {\"sum\": 1308472.0, \"count\": 1, \"min\": 1308472, \"max\": 1308472}, \"Number of Batches Since Last Reset\": {\"sum\": 1309.0, \"count\": 1, \"min\": 1309, \"max\": 1309}}}\u001b[0m\n",
      "\u001b[34m[04/18/2022 23:10:45 INFO 140493168445248] #throughput_metric: host=algo-1, train throughput=19340.729687064184 records/second\u001b[0m\n",
      "\u001b[34m[2022-04-18 23:11:44.918] [tensorio] [info] epoch_stats={\"data_pipeline\": \"/opt/ml/input/data/train\", \"epoch\": 13, \"duration\": 59721, \"num_examples\": 1309, \"num_bytes\": 560026016}\u001b[0m\n",
      "\u001b[34m#metrics {\"StartTime\": 1650323504.919012, \"EndTime\": 1650323504.9191175, \"Dimensions\": {\"Algorithm\": \"Linear Learner\", \"Host\": \"algo-1\", \"Operation\": \"training\", \"epoch\": 5, \"model\": 0}, \"Metrics\": {\"train_binary_classification_cross_entropy_objective\": {\"sum\": 0.021500099438775205, \"count\": 1, \"min\": 0.021500099438775205, \"max\": 0.021500099438775205}}}\u001b[0m\n",
      "\u001b[34m#metrics {\"StartTime\": 1650323504.9192455, \"EndTime\": 1650323504.9192693, \"Dimensions\": {\"Algorithm\": \"Linear Learner\", \"Host\": \"algo-1\", \"Operation\": \"training\", \"epoch\": 5, \"model\": 1}, \"Metrics\": {\"train_binary_classification_cross_entropy_objective\": {\"sum\": 0.0008819750805331298, \"count\": 1, \"min\": 0.0008819750805331298, \"max\": 0.0008819750805331298}}}\u001b[0m\n",
      "\u001b[34m#metrics {\"StartTime\": 1650323504.9193292, \"EndTime\": 1650323504.9193478, \"Dimensions\": {\"Algorithm\": \"Linear Learner\", \"Host\": \"algo-1\", \"Operation\": \"training\", \"epoch\": 5, \"model\": 2}, \"Metrics\": {\"train_binary_classification_cross_entropy_objective\": {\"sum\": 0.01744577614685082, \"count\": 1, \"min\": 0.01744577614685082, \"max\": 0.01744577614685082}}}\u001b[0m\n",
      "\u001b[34m#metrics {\"StartTime\": 1650323504.9194016, \"EndTime\": 1650323504.9194183, \"Dimensions\": {\"Algorithm\": \"Linear Learner\", \"Host\": \"algo-1\", \"Operation\": \"training\", \"epoch\": 5, \"model\": 3}, \"Metrics\": {\"train_binary_classification_cross_entropy_objective\": {\"sum\": 0.000891351351634078, \"count\": 1, \"min\": 0.000891351351634078, \"max\": 0.000891351351634078}}}\u001b[0m\n",
      "\u001b[34m#metrics {\"StartTime\": 1650323504.919471, \"EndTime\": 1650323504.919488, \"Dimensions\": {\"Algorithm\": \"Linear Learner\", \"Host\": \"algo-1\", \"Operation\": \"training\", \"epoch\": 5, \"model\": 4}, \"Metrics\": {\"train_binary_classification_cross_entropy_objective\": {\"sum\": 0.0005182711895133742, \"count\": 1, \"min\": 0.0005182711895133742, \"max\": 0.0005182711895133742}}}\u001b[0m\n",
      "\u001b[34m#metrics {\"StartTime\": 1650323504.919545, \"EndTime\": 1650323504.9195657, \"Dimensions\": {\"Algorithm\": \"Linear Learner\", \"Host\": \"algo-1\", \"Operation\": \"training\", \"epoch\": 5, \"model\": 5}, \"Metrics\": {\"train_binary_classification_cross_entropy_objective\": {\"sum\": 0.00049781324566322, \"count\": 1, \"min\": 0.00049781324566322, \"max\": 0.00049781324566322}}}\u001b[0m\n",
      "\u001b[34m#metrics {\"StartTime\": 1650323504.9196281, \"EndTime\": 1650323504.9196439, \"Dimensions\": {\"Algorithm\": \"Linear Learner\", \"Host\": \"algo-1\", \"Operation\": \"training\", \"epoch\": 5, \"model\": 6}, \"Metrics\": {\"train_binary_classification_cross_entropy_objective\": {\"sum\": 0.0005174401757002606, \"count\": 1, \"min\": 0.0005174401757002606, \"max\": 0.0005174401757002606}}}\u001b[0m\n",
      "\u001b[34m#metrics {\"StartTime\": 1650323504.919696, \"EndTime\": 1650323504.9197133, \"Dimensions\": {\"Algorithm\": \"Linear Learner\", \"Host\": \"algo-1\", \"Operation\": \"training\", \"epoch\": 5, \"model\": 7}, \"Metrics\": {\"train_binary_classification_cross_entropy_objective\": {\"sum\": 0.0004978050251892947, \"count\": 1, \"min\": 0.0004978050251892947, \"max\": 0.0004978050251892947}}}\u001b[0m\n",
      "\u001b[34m#metrics {\"StartTime\": 1650323504.9197664, \"EndTime\": 1650323504.9197838, \"Dimensions\": {\"Algorithm\": \"Linear Learner\", \"Host\": \"algo-1\", \"Operation\": \"training\", \"epoch\": 5, \"model\": 8}, \"Metrics\": {\"train_binary_classification_cross_entropy_objective\": {\"sum\": 0.03164436035564551, \"count\": 1, \"min\": 0.03164436035564551, \"max\": 0.03164436035564551}}}\u001b[0m\n",
      "\u001b[34m#metrics {\"StartTime\": 1650323504.9198344, \"EndTime\": 1650323504.9198534, \"Dimensions\": {\"Algorithm\": \"Linear Learner\", \"Host\": \"algo-1\", \"Operation\": \"training\", \"epoch\": 5, \"model\": 9}, \"Metrics\": {\"train_binary_classification_cross_entropy_objective\": {\"sum\": 0.023907944281166847, \"count\": 1, \"min\": 0.023907944281166847, \"max\": 0.023907944281166847}}}\u001b[0m\n",
      "\u001b[34m#metrics {\"StartTime\": 1650323504.9199054, \"EndTime\": 1650323504.9199212, \"Dimensions\": {\"Algorithm\": \"Linear Learner\", \"Host\": \"algo-1\", \"Operation\": \"training\", \"epoch\": 5, \"model\": 10}, \"Metrics\": {\"train_binary_classification_cross_entropy_objective\": {\"sum\": 0.02715959606549791, \"count\": 1, \"min\": 0.02715959606549791, \"max\": 0.02715959606549791}}}\u001b[0m\n",
      "\u001b[34m#metrics {\"StartTime\": 1650323504.920035, \"EndTime\": 1650323504.9200644, \"Dimensions\": {\"Algorithm\": \"Linear Learner\", \"Host\": \"algo-1\", \"Operation\": \"training\", \"epoch\": 5, \"model\": 11}, \"Metrics\": {\"train_binary_classification_cross_entropy_objective\": {\"sum\": 0.023907966427117677, \"count\": 1, \"min\": 0.023907966427117677, \"max\": 0.023907966427117677}}}\u001b[0m\n",
      "\u001b[34m#metrics {\"StartTime\": 1650323504.920124, \"EndTime\": 1650323504.920138, \"Dimensions\": {\"Algorithm\": \"Linear Learner\", \"Host\": \"algo-1\", \"Operation\": \"training\", \"epoch\": 5, \"model\": 12}, \"Metrics\": {\"train_binary_classification_cross_entropy_objective\": {\"sum\": 0.02389585602319933, \"count\": 1, \"min\": 0.02389585602319933, \"max\": 0.02389585602319933}}}\u001b[0m\n",
      "\u001b[34m#metrics {\"StartTime\": 1650323504.92019, \"EndTime\": 1650323504.9202082, \"Dimensions\": {\"Algorithm\": \"Linear Learner\", \"Host\": \"algo-1\", \"Operation\": \"training\", \"epoch\": 5, \"model\": 13}, \"Metrics\": {\"train_binary_classification_cross_entropy_objective\": {\"sum\": 0.024069792371277415, \"count\": 1, \"min\": 0.024069792371277415, \"max\": 0.024069792371277415}}}\u001b[0m\n",
      "\u001b[34m#metrics {\"StartTime\": 1650323504.9202592, \"EndTime\": 1650323504.9202764, \"Dimensions\": {\"Algorithm\": \"Linear Learner\", \"Host\": \"algo-1\", \"Operation\": \"training\", \"epoch\": 5, \"model\": 14}, \"Metrics\": {\"train_binary_classification_cross_entropy_objective\": {\"sum\": 0.0238961876831288, \"count\": 1, \"min\": 0.0238961876831288, \"max\": 0.0238961876831288}}}\u001b[0m\n",
      "\u001b[34m#metrics {\"StartTime\": 1650323504.9203274, \"EndTime\": 1650323504.9203448, \"Dimensions\": {\"Algorithm\": \"Linear Learner\", \"Host\": \"algo-1\", \"Operation\": \"training\", \"epoch\": 5, \"model\": 15}, \"Metrics\": {\"train_binary_classification_cross_entropy_objective\": {\"sum\": 0.024069788921134552, \"count\": 1, \"min\": 0.024069788921134552, \"max\": 0.024069788921134552}}}\u001b[0m\n",
      "\u001b[34m#metrics {\"StartTime\": 1650323504.9203923, \"EndTime\": 1650323504.920407, \"Dimensions\": {\"Algorithm\": \"Linear Learner\", \"Host\": \"algo-1\", \"Operation\": \"training\", \"epoch\": 5, \"model\": 16}, \"Metrics\": {\"train_binary_classification_cross_entropy_objective\": {\"sum\": 0.38249067398677905, \"count\": 1, \"min\": 0.38249067398677905, \"max\": 0.38249067398677905}}}\u001b[0m\n",
      "\u001b[34m#metrics {\"StartTime\": 1650323504.920459, \"EndTime\": 1650323504.9204738, \"Dimensions\": {\"Algorithm\": \"Linear Learner\", \"Host\": \"algo-1\", \"Operation\": \"training\", \"epoch\": 5, \"model\": 17}, \"Metrics\": {\"train_binary_classification_cross_entropy_objective\": {\"sum\": 0.38264271174439596, \"count\": 1, \"min\": 0.38264271174439596, \"max\": 0.38264271174439596}}}\u001b[0m\n",
      "\u001b[34m#metrics {\"StartTime\": 1650323504.9205232, \"EndTime\": 1650323504.920539, \"Dimensions\": {\"Algorithm\": \"Linear Learner\", \"Host\": \"algo-1\", \"Operation\": \"training\", \"epoch\": 5, \"model\": 18}, \"Metrics\": {\"train_binary_classification_cross_entropy_objective\": {\"sum\": 0.3824984322644155, \"count\": 1, \"min\": 0.3824984322644155, \"max\": 0.3824984322644155}}}\u001b[0m\n",
      "\u001b[34m#metrics {\"StartTime\": 1650323504.920588, \"EndTime\": 1650323504.9206033, \"Dimensions\": {\"Algorithm\": \"Linear Learner\", \"Host\": \"algo-1\", \"Operation\": \"training\", \"epoch\": 5, \"model\": 19}, \"Metrics\": {\"train_binary_classification_cross_entropy_objective\": {\"sum\": 0.3826427690698466, \"count\": 1, \"min\": 0.3826427690698466, \"max\": 0.3826427690698466}}}\u001b[0m\n",
      "\u001b[34m#metrics {\"StartTime\": 1650323504.9206855, \"EndTime\": 1650323504.9207091, \"Dimensions\": {\"Algorithm\": \"Linear Learner\", \"Host\": \"algo-1\", \"Operation\": \"training\", \"epoch\": 5, \"model\": 20}, \"Metrics\": {\"train_binary_classification_cross_entropy_objective\": {\"sum\": 0.38248791128269394, \"count\": 1, \"min\": 0.38248791128269394, \"max\": 0.38248791128269394}}}\u001b[0m\n",
      "\u001b[34m#metrics {\"StartTime\": 1650323504.9207635, \"EndTime\": 1650323504.9207826, \"Dimensions\": {\"Algorithm\": \"Linear Learner\", \"Host\": \"algo-1\", \"Operation\": \"training\", \"epoch\": 5, \"model\": 21}, \"Metrics\": {\"train_binary_classification_cross_entropy_objective\": {\"sum\": 0.3844225619488171, \"count\": 1, \"min\": 0.3844225619488171, \"max\": 0.3844225619488171}}}\u001b[0m\n",
      "\u001b[34m#metrics {\"StartTime\": 1650323504.920837, \"EndTime\": 1650323504.9208543, \"Dimensions\": {\"Algorithm\": \"Linear Learner\", \"Host\": \"algo-1\", \"Operation\": \"training\", \"epoch\": 5, \"model\": 22}, \"Metrics\": {\"train_binary_classification_cross_entropy_objective\": {\"sum\": 0.3824925724927803, \"count\": 1, \"min\": 0.3824925724927803, \"max\": 0.3824925724927803}}}\u001b[0m\n",
      "\u001b[34m#metrics {\"StartTime\": 1650323504.920905, \"EndTime\": 1650323504.9209235, \"Dimensions\": {\"Algorithm\": \"Linear Learner\", \"Host\": \"algo-1\", \"Operation\": \"training\", \"epoch\": 5, \"model\": 23}, \"Metrics\": {\"train_binary_classification_cross_entropy_objective\": {\"sum\": 0.3844225647485949, \"count\": 1, \"min\": 0.3844225647485949, \"max\": 0.3844225647485949}}}\u001b[0m\n",
      "\u001b[34m#metrics {\"StartTime\": 1650323504.9209738, \"EndTime\": 1650323504.9209883, \"Dimensions\": {\"Algorithm\": \"Linear Learner\", \"Host\": \"algo-1\", \"Operation\": \"training\", \"epoch\": 5, \"model\": 24}, \"Metrics\": {\"train_binary_classification_cross_entropy_objective\": {\"sum\": 0.5121383654626502, \"count\": 1, \"min\": 0.5121383654626502, \"max\": 0.5121383654626502}}}\u001b[0m\n",
      "\u001b[34m#metrics {\"StartTime\": 1650323504.921042, \"EndTime\": 1650323504.921058, \"Dimensions\": {\"Algorithm\": \"Linear Learner\", \"Host\": \"algo-1\", \"Operation\": \"training\", \"epoch\": 5, \"model\": 25}, \"Metrics\": {\"train_binary_classification_cross_entropy_objective\": {\"sum\": 0.512215029095291, \"count\": 1, \"min\": 0.512215029095291, \"max\": 0.512215029095291}}}\u001b[0m\n",
      "\u001b[34m#metrics {\"StartTime\": 1650323504.9211054, \"EndTime\": 1650323504.9211233, \"Dimensions\": {\"Algorithm\": \"Linear Learner\", \"Host\": \"algo-1\", \"Operation\": \"training\", \"epoch\": 5, \"model\": 26}, \"Metrics\": {\"train_binary_classification_cross_entropy_objective\": {\"sum\": 0.5121420529800088, \"count\": 1, \"min\": 0.5121420529800088, \"max\": 0.5121420529800088}}}\u001b[0m\n",
      "\u001b[34m#metrics {\"StartTime\": 1650323504.9211705, \"EndTime\": 1650323504.9211862, \"Dimensions\": {\"Algorithm\": \"Linear Learner\", \"Host\": \"algo-1\", \"Operation\": \"training\", \"epoch\": 5, \"model\": 27}, \"Metrics\": {\"train_binary_classification_cross_entropy_objective\": {\"sum\": 0.5122151922756744, \"count\": 1, \"min\": 0.5122151922756744, \"max\": 0.5122151922756744}}}\u001b[0m\n",
      "\u001b[34m#metrics {\"StartTime\": 1650323504.9212708, \"EndTime\": 1650323504.9212883, \"Dimensions\": {\"Algorithm\": \"Linear Learner\", \"Host\": \"algo-1\", \"Operation\": \"training\", \"epoch\": 5, \"model\": 28}, \"Metrics\": {\"train_binary_classification_cross_entropy_objective\": {\"sum\": 0.5121418294644137, \"count\": 1, \"min\": 0.5121418294644137, \"max\": 0.5121418294644137}}}\u001b[0m\n",
      "\u001b[34m#metrics {\"StartTime\": 1650323504.921338, \"EndTime\": 1650323504.9213524, \"Dimensions\": {\"Algorithm\": \"Linear Learner\", \"Host\": \"algo-1\", \"Operation\": \"training\", \"epoch\": 5, \"model\": 29}, \"Metrics\": {\"train_binary_classification_cross_entropy_objective\": {\"sum\": 0.5130142250411007, \"count\": 1, \"min\": 0.5130142250411007, \"max\": 0.5130142250411007}}}\u001b[0m\n",
      "\u001b[34m#metrics {\"StartTime\": 1650323504.9214032, \"EndTime\": 1650323504.9214187, \"Dimensions\": {\"Algorithm\": \"Linear Learner\", \"Host\": \"algo-1\", \"Operation\": \"training\", \"epoch\": 5, \"model\": 30}, \"Metrics\": {\"train_binary_classification_cross_entropy_objective\": {\"sum\": 0.5121423423837085, \"count\": 1, \"min\": 0.5121423423837085, \"max\": 0.5121423423837085}}}\u001b[0m\n",
      "\u001b[34m#metrics {\"StartTime\": 1650323504.9214694, \"EndTime\": 1650323504.9214838, \"Dimensions\": {\"Algorithm\": \"Linear Learner\", \"Host\": \"algo-1\", \"Operation\": \"training\", \"epoch\": 5, \"model\": 31}, \"Metrics\": {\"train_binary_classification_cross_entropy_objective\": {\"sum\": 0.513014231060623, \"count\": 1, \"min\": 0.513014231060623, \"max\": 0.513014231060623}}}\u001b[0m\n",
      "\u001b[34m[04/18/2022 23:11:44 INFO 140493168445248] #quality_metric: host=algo-1, epoch=5, train binary_classification_cross_entropy_objective <loss>=0.021500099438775205\u001b[0m\n",
      "\u001b[34m[2022-04-18 23:11:50.419] [tensorio] [info] epoch_stats={\"data_pipeline\": \"/opt/ml/input/data/validation\", \"epoch\": 17, \"duration\": 5474, \"num_examples\": 164, \"num_bytes\": 70003252}\u001b[0m\n",
      "\u001b[34m#metrics {\"StartTime\": 1650323512.4490278, \"EndTime\": 1650323512.4490957, \"Dimensions\": {\"Algorithm\": \"Linear Learner\", \"Host\": \"algo-1\", \"Operation\": \"training\", \"epoch\": 5, \"model\": 0}, \"Metrics\": {\"validation_binary_classification_cross_entropy_objective\": {\"sum\": 0.021333261628558774, \"count\": 1, \"min\": 0.021333261628558774, \"max\": 0.021333261628558774}}}\u001b[0m\n",
      "\u001b[34m#metrics {\"StartTime\": 1650323512.4491837, \"EndTime\": 1650323512.4491997, \"Dimensions\": {\"Algorithm\": \"Linear Learner\", \"Host\": \"algo-1\", \"Operation\": \"training\", \"epoch\": 5, \"model\": 1}, \"Metrics\": {\"validation_binary_classification_cross_entropy_objective\": {\"sum\": 0.000737000142097479, \"count\": 1, \"min\": 0.000737000142097479, \"max\": 0.000737000142097479}}}\u001b[0m\n",
      "\u001b[34m#metrics {\"StartTime\": 1650323512.449247, \"EndTime\": 1650323512.4492617, \"Dimensions\": {\"Algorithm\": \"Linear Learner\", \"Host\": \"algo-1\", \"Operation\": \"training\", \"epoch\": 5, \"model\": 2}, \"Metrics\": {\"validation_binary_classification_cross_entropy_objective\": {\"sum\": 0.016274608672257378, \"count\": 1, \"min\": 0.016274608672257378, \"max\": 0.016274608672257378}}}\u001b[0m\n",
      "\u001b[34m#metrics {\"StartTime\": 1650323512.4493158, \"EndTime\": 1650323512.449332, \"Dimensions\": {\"Algorithm\": \"Linear Learner\", \"Host\": \"algo-1\", \"Operation\": \"training\", \"epoch\": 5, \"model\": 3}, \"Metrics\": {\"validation_binary_classification_cross_entropy_objective\": {\"sum\": 0.0007436427422838716, \"count\": 1, \"min\": 0.0007436427422838716, \"max\": 0.0007436427422838716}}}\u001b[0m\n",
      "\u001b[34m#metrics {\"StartTime\": 1650323512.4493873, \"EndTime\": 1650323512.4494042, \"Dimensions\": {\"Algorithm\": \"Linear Learner\", \"Host\": \"algo-1\", \"Operation\": \"training\", \"epoch\": 5, \"model\": 4}, \"Metrics\": {\"validation_binary_classification_cross_entropy_objective\": {\"sum\": 0.0005174585355517705, \"count\": 1, \"min\": 0.0005174585355517705, \"max\": 0.0005174585355517705}}}\u001b[0m\n",
      "\u001b[34m#metrics {\"StartTime\": 1650323512.4494643, \"EndTime\": 1650323512.4494812, \"Dimensions\": {\"Algorithm\": \"Linear Learner\", \"Host\": \"algo-1\", \"Operation\": \"training\", \"epoch\": 5, \"model\": 5}, \"Metrics\": {\"validation_binary_classification_cross_entropy_objective\": {\"sum\": 0.0004995763881281773, \"count\": 1, \"min\": 0.0004995763881281773, \"max\": 0.0004995763881281773}}}\u001b[0m\n",
      "\u001b[34m#metrics {\"StartTime\": 1650323512.4495435, \"EndTime\": 1650323512.4495604, \"Dimensions\": {\"Algorithm\": \"Linear Learner\", \"Host\": \"algo-1\", \"Operation\": \"training\", \"epoch\": 5, \"model\": 6}, \"Metrics\": {\"validation_binary_classification_cross_entropy_objective\": {\"sum\": 0.0005161765712321161, \"count\": 1, \"min\": 0.0005161765712321161, \"max\": 0.0005161765712321161}}}\u001b[0m\n",
      "\u001b[34m#metrics {\"StartTime\": 1650323512.4496117, \"EndTime\": 1650323512.4496279, \"Dimensions\": {\"Algorithm\": \"Linear Learner\", \"Host\": \"algo-1\", \"Operation\": \"training\", \"epoch\": 5, \"model\": 7}, \"Metrics\": {\"validation_binary_classification_cross_entropy_objective\": {\"sum\": 0.000500683915414722, \"count\": 1, \"min\": 0.000500683915414722, \"max\": 0.000500683915414722}}}\u001b[0m\n",
      "\u001b[34m#metrics {\"StartTime\": 1650323512.449686, \"EndTime\": 1650323512.4497063, \"Dimensions\": {\"Algorithm\": \"Linear Learner\", \"Host\": \"algo-1\", \"Operation\": \"training\", \"epoch\": 5, \"model\": 8}, \"Metrics\": {\"validation_binary_classification_cross_entropy_objective\": {\"sum\": 0.03143199329671141, \"count\": 1, \"min\": 0.03143199329671141, \"max\": 0.03143199329671141}}}\u001b[0m\n",
      "\u001b[34m#metrics {\"StartTime\": 1650323512.4497526, \"EndTime\": 1650323512.4497688, \"Dimensions\": {\"Algorithm\": \"Linear Learner\", \"Host\": \"algo-1\", \"Operation\": \"training\", \"epoch\": 5, \"model\": 9}, \"Metrics\": {\"validation_binary_classification_cross_entropy_objective\": {\"sum\": 0.02396608411353627, \"count\": 1, \"min\": 0.02396608411353627, \"max\": 0.02396608411353627}}}\u001b[0m\n",
      "\u001b[34m#metrics {\"StartTime\": 1650323512.4498286, \"EndTime\": 1650323512.4498487, \"Dimensions\": {\"Algorithm\": \"Linear Learner\", \"Host\": \"algo-1\", \"Operation\": \"training\", \"epoch\": 5, \"model\": 10}, \"Metrics\": {\"validation_binary_classification_cross_entropy_objective\": {\"sum\": 0.0261538065990215, \"count\": 1, \"min\": 0.0261538065990215, \"max\": 0.0261538065990215}}}\u001b[0m\n",
      "\u001b[34m#metrics {\"StartTime\": 1650323512.4498944, \"EndTime\": 1650323512.4499123, \"Dimensions\": {\"Algorithm\": \"Linear Learner\", \"Host\": \"algo-1\", \"Operation\": \"training\", \"epoch\": 5, \"model\": 11}, \"Metrics\": {\"validation_binary_classification_cross_entropy_objective\": {\"sum\": 0.02396426803388942, \"count\": 1, \"min\": 0.02396426803388942, \"max\": 0.02396426803388942}}}\u001b[0m\n",
      "\u001b[34m#metrics {\"StartTime\": 1650323512.449955, \"EndTime\": 1650323512.4499702, \"Dimensions\": {\"Algorithm\": \"Linear Learner\", \"Host\": \"algo-1\", \"Operation\": \"training\", \"epoch\": 5, \"model\": 12}, \"Metrics\": {\"validation_binary_classification_cross_entropy_objective\": {\"sum\": 0.023902141690528986, \"count\": 1, \"min\": 0.023902141690528986, \"max\": 0.023902141690528986}}}\u001b[0m\n",
      "\u001b[34m#metrics {\"StartTime\": 1650323512.4500172, \"EndTime\": 1650323512.4500318, \"Dimensions\": {\"Algorithm\": \"Linear Learner\", \"Host\": \"algo-1\", \"Operation\": \"training\", \"epoch\": 5, \"model\": 13}, \"Metrics\": {\"validation_binary_classification_cross_entropy_objective\": {\"sum\": 0.023994781180631978, \"count\": 1, \"min\": 0.023994781180631978, \"max\": 0.023994781180631978}}}\u001b[0m\n",
      "\u001b[34m#metrics {\"StartTime\": 1650323512.4500782, \"EndTime\": 1650323512.4500942, \"Dimensions\": {\"Algorithm\": \"Linear Learner\", \"Host\": \"algo-1\", \"Operation\": \"training\", \"epoch\": 5, \"model\": 14}, \"Metrics\": {\"validation_binary_classification_cross_entropy_objective\": {\"sum\": 0.02391166197343959, \"count\": 1, \"min\": 0.02391166197343959, \"max\": 0.02391166197343959}}}\u001b[0m\n",
      "\u001b[34m#metrics {\"StartTime\": 1650323512.4501307, \"EndTime\": 1650323512.4501767, \"Dimensions\": {\"Algorithm\": \"Linear Learner\", \"Host\": \"algo-1\", \"Operation\": \"training\", \"epoch\": 5, \"model\": 15}, \"Metrics\": {\"validation_binary_classification_cross_entropy_objective\": {\"sum\": 0.023992935340753585, \"count\": 1, \"min\": 0.023992935340753585, \"max\": 0.023992935340753585}}}\u001b[0m\n",
      "\u001b[34m#metrics {\"StartTime\": 1650323512.4502409, \"EndTime\": 1650323512.4502559, \"Dimensions\": {\"Algorithm\": \"Linear Learner\", \"Host\": \"algo-1\", \"Operation\": \"training\", \"epoch\": 5, \"model\": 16}, \"Metrics\": {\"validation_binary_classification_cross_entropy_objective\": {\"sum\": 0.3825493411876601, \"count\": 1, \"min\": 0.3825493411876601, \"max\": 0.3825493411876601}}}\u001b[0m\n",
      "\u001b[34m#metrics {\"StartTime\": 1650323512.4503174, \"EndTime\": 1650323512.4503307, \"Dimensions\": {\"Algorithm\": \"Linear Learner\", \"Host\": \"algo-1\", \"Operation\": \"training\", \"epoch\": 5, \"model\": 17}, \"Metrics\": {\"validation_binary_classification_cross_entropy_objective\": {\"sum\": 0.3810563535878466, \"count\": 1, \"min\": 0.3810563535878466, \"max\": 0.3810563535878466}}}\u001b[0m\n",
      "\u001b[34m#metrics {\"StartTime\": 1650323512.4503894, \"EndTime\": 1650323512.4504092, \"Dimensions\": {\"Algorithm\": \"Linear Learner\", \"Host\": \"algo-1\", \"Operation\": \"training\", \"epoch\": 5, \"model\": 18}, \"Metrics\": {\"validation_binary_classification_cross_entropy_objective\": {\"sum\": 0.38272865880399287, \"count\": 1, \"min\": 0.38272865880399287, \"max\": 0.38272865880399287}}}\u001b[0m\n",
      "\u001b[34m#metrics {\"StartTime\": 1650323512.450454, \"EndTime\": 1650323512.4504683, \"Dimensions\": {\"Algorithm\": \"Linear Learner\", \"Host\": \"algo-1\", \"Operation\": \"training\", \"epoch\": 5, \"model\": 19}, \"Metrics\": {\"validation_binary_classification_cross_entropy_objective\": {\"sum\": 0.3810498235026834, \"count\": 1, \"min\": 0.3810498235026834, \"max\": 0.3810498235026834}}}\u001b[0m\n",
      "\u001b[34m#metrics {\"StartTime\": 1650323512.4505267, \"EndTime\": 1650323512.4505417, \"Dimensions\": {\"Algorithm\": \"Linear Learner\", \"Host\": \"algo-1\", \"Operation\": \"training\", \"epoch\": 5, \"model\": 20}, \"Metrics\": {\"validation_binary_classification_cross_entropy_objective\": {\"sum\": 0.382626989643323, \"count\": 1, \"min\": 0.382626989643323, \"max\": 0.382626989643323}}}\u001b[0m\n",
      "\u001b[34m#metrics {\"StartTime\": 1650323512.450586, \"EndTime\": 1650323512.4506009, \"Dimensions\": {\"Algorithm\": \"Linear Learner\", \"Host\": \"algo-1\", \"Operation\": \"training\", \"epoch\": 5, \"model\": 21}, \"Metrics\": {\"validation_binary_classification_cross_entropy_objective\": {\"sum\": 0.3875772629906952, \"count\": 1, \"min\": 0.3875772629906952, \"max\": 0.3875772629906952}}}\u001b[0m\n",
      "\u001b[34m#metrics {\"StartTime\": 1650323512.4506629, \"EndTime\": 1650323512.4506817, \"Dimensions\": {\"Algorithm\": \"Linear Learner\", \"Host\": \"algo-1\", \"Operation\": \"training\", \"epoch\": 5, \"model\": 22}, \"Metrics\": {\"validation_binary_classification_cross_entropy_objective\": {\"sum\": 0.3827282622185875, \"count\": 1, \"min\": 0.3827282622185875, \"max\": 0.3827282622185875}}}\u001b[0m\n",
      "\u001b[34m#metrics {\"StartTime\": 1650323512.4507325, \"EndTime\": 1650323512.4507484, \"Dimensions\": {\"Algorithm\": \"Linear Learner\", \"Host\": \"algo-1\", \"Operation\": \"training\", \"epoch\": 5, \"model\": 23}, \"Metrics\": {\"validation_binary_classification_cross_entropy_objective\": {\"sum\": 0.3875772808095172, \"count\": 1, \"min\": 0.3875772808095172, \"max\": 0.3875772808095172}}}\u001b[0m\n",
      "\u001b[34m#metrics {\"StartTime\": 1650323512.4507945, \"EndTime\": 1650323512.4508088, \"Dimensions\": {\"Algorithm\": \"Linear Learner\", \"Host\": \"algo-1\", \"Operation\": \"training\", \"epoch\": 5, \"model\": 24}, \"Metrics\": {\"validation_binary_classification_cross_entropy_objective\": {\"sum\": 0.5121433784994659, \"count\": 1, \"min\": 0.5121433784994659, \"max\": 0.5121433784994659}}}\u001b[0m\n",
      "\u001b[34m#metrics {\"StartTime\": 1650323512.4508667, \"EndTime\": 1650323512.4508848, \"Dimensions\": {\"Algorithm\": \"Linear Learner\", \"Host\": \"algo-1\", \"Operation\": \"training\", \"epoch\": 5, \"model\": 25}, \"Metrics\": {\"validation_binary_classification_cross_entropy_objective\": {\"sum\": 0.5125853110342516, \"count\": 1, \"min\": 0.5125853110342516, \"max\": 0.5125853110342516}}}\u001b[0m\n",
      "\u001b[34m#metrics {\"StartTime\": 1650323512.4509332, \"EndTime\": 1650323512.4509516, \"Dimensions\": {\"Algorithm\": \"Linear Learner\", \"Host\": \"algo-1\", \"Operation\": \"training\", \"epoch\": 5, \"model\": 26}, \"Metrics\": {\"validation_binary_classification_cross_entropy_objective\": {\"sum\": 0.5120397345281963, \"count\": 1, \"min\": 0.5120397345281963, \"max\": 0.5120397345281963}}}\u001b[0m\n",
      "\u001b[34m#metrics {\"StartTime\": 1650323512.451003, \"EndTime\": 1650323512.4510207, \"Dimensions\": {\"Algorithm\": \"Linear Learner\", \"Host\": \"algo-1\", \"Operation\": \"training\", \"epoch\": 5, \"model\": 27}, \"Metrics\": {\"validation_binary_classification_cross_entropy_objective\": {\"sum\": 0.5125870052217276, \"count\": 1, \"min\": 0.5125870052217276, \"max\": 0.5125870052217276}}}\u001b[0m\n",
      "\u001b[34m#metrics {\"StartTime\": 1650323512.4510708, \"EndTime\": 1650323512.451089, \"Dimensions\": {\"Algorithm\": \"Linear Learner\", \"Host\": \"algo-1\", \"Operation\": \"training\", \"epoch\": 5, \"model\": 28}, \"Metrics\": {\"validation_binary_classification_cross_entropy_objective\": {\"sum\": 0.5121094745988188, \"count\": 1, \"min\": 0.5121094745988188, \"max\": 0.5121094745988188}}}\u001b[0m\n",
      "\u001b[34m#metrics {\"StartTime\": 1650323512.4511397, \"EndTime\": 1650323512.4511552, \"Dimensions\": {\"Algorithm\": \"Linear Learner\", \"Host\": \"algo-1\", \"Operation\": \"training\", \"epoch\": 5, \"model\": 29}, \"Metrics\": {\"validation_binary_classification_cross_entropy_objective\": {\"sum\": 0.5126211807894413, \"count\": 1, \"min\": 0.5126211807894413, \"max\": 0.5126211807894413}}}\u001b[0m\n",
      "\u001b[34m#metrics {\"StartTime\": 1650323512.4512103, \"EndTime\": 1650323512.4512265, \"Dimensions\": {\"Algorithm\": \"Linear Learner\", \"Host\": \"algo-1\", \"Operation\": \"training\", \"epoch\": 5, \"model\": 30}, \"Metrics\": {\"validation_binary_classification_cross_entropy_objective\": {\"sum\": 0.5120416041051247, \"count\": 1, \"min\": 0.5120416041051247, \"max\": 0.5120416041051247}}}\u001b[0m\n",
      "\u001b[34m#metrics {\"StartTime\": 1650323512.4512758, \"EndTime\": 1650323512.4512923, \"Dimensions\": {\"Algorithm\": \"Linear Learner\", \"Host\": \"algo-1\", \"Operation\": \"training\", \"epoch\": 5, \"model\": 31}, \"Metrics\": {\"validation_binary_classification_cross_entropy_objective\": {\"sum\": 0.5126211772443354, \"count\": 1, \"min\": 0.5126211772443354, \"max\": 0.5126211772443354}}}\u001b[0m\n",
      "\u001b[34m[04/18/2022 23:11:52 INFO 140493168445248] #quality_metric: host=algo-1, epoch=5, validation binary_classification_cross_entropy_objective <loss>=0.021333261628558774\u001b[0m\n",
      "\u001b[34m[04/18/2022 23:11:52 INFO 140493168445248] #early_stopping_criteria_metric: host=algo-1, epoch=5, criteria=sampled_accuracy, value=0.9995781338844086\u001b[0m\n",
      "\u001b[34m[04/18/2022 23:11:52 INFO 140493168445248] Epoch 5: Loss improved. Updating best model\u001b[0m\n",
      "\u001b[34m[04/18/2022 23:11:52 INFO 140493168445248] Saving model for epoch: 5\u001b[0m\n",
      "\u001b[34m[04/18/2022 23:11:52 INFO 140493168445248] Saved checkpoint to \"/tmp/tmptyhf0663/mx-mod-0000.params\"\u001b[0m\n",
      "\u001b[34m[04/18/2022 23:11:52 INFO 140493168445248] #progress_metric: host=algo-1, completed 40.0 % of epochs\u001b[0m\n",
      "\u001b[34m#metrics {\"StartTime\": 1650323445.1973753, \"EndTime\": 1650323512.460189, \"Dimensions\": {\"Algorithm\": \"Linear Learner\", \"Host\": \"algo-1\", \"Operation\": \"training\", \"epoch\": 5, \"Meta\": \"training_data_iter\"}, \"Metrics\": {\"Total Records Seen\": {\"sum\": 7862832.0, \"count\": 1, \"min\": 7862832, \"max\": 7862832}, \"Total Batches Seen\": {\"sum\": 7866.0, \"count\": 1, \"min\": 7866, \"max\": 7866}, \"Max Records Seen Between Resets\": {\"sum\": 1308472.0, \"count\": 1, \"min\": 1308472, \"max\": 1308472}, \"Max Batches Seen Between Resets\": {\"sum\": 1309.0, \"count\": 1, \"min\": 1309, \"max\": 1309}, \"Reset Count\": {\"sum\": 8.0, \"count\": 1, \"min\": 8, \"max\": 8}, \"Number of Records Since Last Reset\": {\"sum\": 1308472.0, \"count\": 1, \"min\": 1308472, \"max\": 1308472}, \"Number of Batches Since Last Reset\": {\"sum\": 1309.0, \"count\": 1, \"min\": 1309, \"max\": 1309}}}\u001b[0m\n",
      "\u001b[34m[04/18/2022 23:11:52 INFO 140493168445248] #throughput_metric: host=algo-1, train throughput=19453.08026377897 records/second\u001b[0m\n",
      "\u001b[34m[2022-04-18 23:12:52.238] [tensorio] [info] epoch_stats={\"data_pipeline\": \"/opt/ml/input/data/train\", \"epoch\": 15, \"duration\": 59777, \"num_examples\": 1309, \"num_bytes\": 560026016}\u001b[0m\n",
      "\u001b[34m#metrics {\"StartTime\": 1650323572.2385814, \"EndTime\": 1650323572.238683, \"Dimensions\": {\"Algorithm\": \"Linear Learner\", \"Host\": \"algo-1\", \"Operation\": \"training\", \"epoch\": 6, \"model\": 0}, \"Metrics\": {\"train_binary_classification_cross_entropy_objective\": {\"sum\": 0.02117656400808865, \"count\": 1, \"min\": 0.02117656400808865, \"max\": 0.02117656400808865}}}\u001b[0m\n",
      "\u001b[34m#metrics {\"StartTime\": 1650323572.2387877, \"EndTime\": 1650323572.2388103, \"Dimensions\": {\"Algorithm\": \"Linear Learner\", \"Host\": \"algo-1\", \"Operation\": \"training\", \"epoch\": 6, \"model\": 1}, \"Metrics\": {\"train_binary_classification_cross_entropy_objective\": {\"sum\": 0.0006472932571938278, \"count\": 1, \"min\": 0.0006472932571938278, \"max\": 0.0006472932571938278}}}\u001b[0m\n",
      "\u001b[34m#metrics {\"StartTime\": 1650323572.2388742, \"EndTime\": 1650323572.238892, \"Dimensions\": {\"Algorithm\": \"Linear Learner\", \"Host\": \"algo-1\", \"Operation\": \"training\", \"epoch\": 6, \"model\": 2}, \"Metrics\": {\"train_binary_classification_cross_entropy_objective\": {\"sum\": 0.015203996086703893, \"count\": 1, \"min\": 0.015203996086703893, \"max\": 0.015203996086703893}}}\u001b[0m\n",
      "\u001b[34m#metrics {\"StartTime\": 1650323572.238947, \"EndTime\": 1650323572.2389648, \"Dimensions\": {\"Algorithm\": \"Linear Learner\", \"Host\": \"algo-1\", \"Operation\": \"training\", \"epoch\": 6, \"model\": 3}, \"Metrics\": {\"train_binary_classification_cross_entropy_objective\": {\"sum\": 0.0006520147505429906, \"count\": 1, \"min\": 0.0006520147505429906, \"max\": 0.0006520147505429906}}}\u001b[0m\n",
      "\u001b[34m#metrics {\"StartTime\": 1650323572.2390172, \"EndTime\": 1650323572.2390347, \"Dimensions\": {\"Algorithm\": \"Linear Learner\", \"Host\": \"algo-1\", \"Operation\": \"training\", \"epoch\": 6, \"model\": 4}, \"Metrics\": {\"train_binary_classification_cross_entropy_objective\": {\"sum\": 0.0005170683847108018, \"count\": 1, \"min\": 0.0005170683847108018, \"max\": 0.0005170683847108018}}}\u001b[0m\n",
      "\u001b[34m#metrics {\"StartTime\": 1650323572.2390895, \"EndTime\": 1650323572.2391074, \"Dimensions\": {\"Algorithm\": \"Linear Learner\", \"Host\": \"algo-1\", \"Operation\": \"training\", \"epoch\": 6, \"model\": 5}, \"Metrics\": {\"train_binary_classification_cross_entropy_objective\": {\"sum\": 0.000498101156489747, \"count\": 1, \"min\": 0.000498101156489747, \"max\": 0.000498101156489747}}}\u001b[0m\n",
      "\u001b[34m#metrics {\"StartTime\": 1650323572.2391634, \"EndTime\": 1650323572.2391808, \"Dimensions\": {\"Algorithm\": \"Linear Learner\", \"Host\": \"algo-1\", \"Operation\": \"training\", \"epoch\": 6, \"model\": 6}, \"Metrics\": {\"train_binary_classification_cross_entropy_objective\": {\"sum\": 0.0005145744552397217, \"count\": 1, \"min\": 0.0005145744552397217, \"max\": 0.0005145744552397217}}}\u001b[0m\n",
      "\u001b[34m#metrics {\"StartTime\": 1650323572.2392366, \"EndTime\": 1650323572.239254, \"Dimensions\": {\"Algorithm\": \"Linear Learner\", \"Host\": \"algo-1\", \"Operation\": \"training\", \"epoch\": 6, \"model\": 7}, \"Metrics\": {\"train_binary_classification_cross_entropy_objective\": {\"sum\": 0.0004981009797492158, \"count\": 1, \"min\": 0.0004981009797492158, \"max\": 0.0004981009797492158}}}\u001b[0m\n",
      "\u001b[34m#metrics {\"StartTime\": 1650323572.2393112, \"EndTime\": 1650323572.2393281, \"Dimensions\": {\"Algorithm\": \"Linear Learner\", \"Host\": \"algo-1\", \"Operation\": \"training\", \"epoch\": 6, \"model\": 8}, \"Metrics\": {\"train_binary_classification_cross_entropy_objective\": {\"sum\": 0.03121531516696335, \"count\": 1, \"min\": 0.03121531516696335, \"max\": 0.03121531516696335}}}\u001b[0m\n",
      "\u001b[34m#metrics {\"StartTime\": 1650323572.239383, \"EndTime\": 1650323572.2394006, \"Dimensions\": {\"Algorithm\": \"Linear Learner\", \"Host\": \"algo-1\", \"Operation\": \"training\", \"epoch\": 6, \"model\": 9}, \"Metrics\": {\"train_binary_classification_cross_entropy_objective\": {\"sum\": 0.02390677686422972, \"count\": 1, \"min\": 0.02390677686422972, \"max\": 0.02390677686422972}}}\u001b[0m\n",
      "\u001b[34m#metrics {\"StartTime\": 1650323572.2394543, \"EndTime\": 1650323572.2394693, \"Dimensions\": {\"Algorithm\": \"Linear Learner\", \"Host\": \"algo-1\", \"Operation\": \"training\", \"epoch\": 6, \"model\": 10}, \"Metrics\": {\"train_binary_classification_cross_entropy_objective\": {\"sum\": 0.025363578985955006, \"count\": 1, \"min\": 0.025363578985955006, \"max\": 0.025363578985955006}}}\u001b[0m\n",
      "\u001b[34m#metrics {\"StartTime\": 1650323572.2395234, \"EndTime\": 1650323572.2395391, \"Dimensions\": {\"Algorithm\": \"Linear Learner\", \"Host\": \"algo-1\", \"Operation\": \"training\", \"epoch\": 6, \"model\": 11}, \"Metrics\": {\"train_binary_classification_cross_entropy_objective\": {\"sum\": 0.023906764809144745, \"count\": 1, \"min\": 0.023906764809144745, \"max\": 0.023906764809144745}}}\u001b[0m\n",
      "\u001b[34m#metrics {\"StartTime\": 1650323572.239596, \"EndTime\": 1650323572.239615, \"Dimensions\": {\"Algorithm\": \"Linear Learner\", \"Host\": \"algo-1\", \"Operation\": \"training\", \"epoch\": 6, \"model\": 12}, \"Metrics\": {\"train_binary_classification_cross_entropy_objective\": {\"sum\": 0.023895638045914675, \"count\": 1, \"min\": 0.023895638045914675, \"max\": 0.023895638045914675}}}\u001b[0m\n",
      "\u001b[34m#metrics {\"StartTime\": 1650323572.2396693, \"EndTime\": 1650323572.2396867, \"Dimensions\": {\"Algorithm\": \"Linear Learner\", \"Host\": \"algo-1\", \"Operation\": \"training\", \"epoch\": 6, \"model\": 13}, \"Metrics\": {\"train_binary_classification_cross_entropy_objective\": {\"sum\": 0.024050632021842745, \"count\": 1, \"min\": 0.024050632021842745, \"max\": 0.024050632021842745}}}\u001b[0m\n",
      "\u001b[34m#metrics {\"StartTime\": 1650323572.2397432, \"EndTime\": 1650323572.2397614, \"Dimensions\": {\"Algorithm\": \"Linear Learner\", \"Host\": \"algo-1\", \"Operation\": \"training\", \"epoch\": 6, \"model\": 14}, \"Metrics\": {\"train_binary_classification_cross_entropy_objective\": {\"sum\": 0.023897098649167867, \"count\": 1, \"min\": 0.023897098649167867, \"max\": 0.023897098649167867}}}\u001b[0m\n",
      "\u001b[34m#metrics {\"StartTime\": 1650323572.2398279, \"EndTime\": 1650323572.239844, \"Dimensions\": {\"Algorithm\": \"Linear Learner\", \"Host\": \"algo-1\", \"Operation\": \"training\", \"epoch\": 6, \"model\": 15}, \"Metrics\": {\"train_binary_classification_cross_entropy_objective\": {\"sum\": 0.024050632016009876, \"count\": 1, \"min\": 0.024050632016009876, \"max\": 0.024050632016009876}}}\u001b[0m\n",
      "\u001b[34m#metrics {\"StartTime\": 1650323572.2398994, \"EndTime\": 1650323572.2399163, \"Dimensions\": {\"Algorithm\": \"Linear Learner\", \"Host\": \"algo-1\", \"Operation\": \"training\", \"epoch\": 6, \"model\": 16}, \"Metrics\": {\"train_binary_classification_cross_entropy_objective\": {\"sum\": 0.3824914808827438, \"count\": 1, \"min\": 0.3824914808827438, \"max\": 0.3824914808827438}}}\u001b[0m\n",
      "\u001b[34m#metrics {\"StartTime\": 1650323572.23997, \"EndTime\": 1650323572.2399871, \"Dimensions\": {\"Algorithm\": \"Linear Learner\", \"Host\": \"algo-1\", \"Operation\": \"training\", \"epoch\": 6, \"model\": 17}, \"Metrics\": {\"train_binary_classification_cross_entropy_objective\": {\"sum\": 0.38262345736908987, \"count\": 1, \"min\": 0.38262345736908987, \"max\": 0.38262345736908987}}}\u001b[0m\n",
      "\u001b[34m#metrics {\"StartTime\": 1650323572.2400389, \"EndTime\": 1650323572.2400556, \"Dimensions\": {\"Algorithm\": \"Linear Learner\", \"Host\": \"algo-1\", \"Operation\": \"training\", \"epoch\": 6, \"model\": 18}, \"Metrics\": {\"train_binary_classification_cross_entropy_objective\": {\"sum\": 0.3824983745889926, \"count\": 1, \"min\": 0.3824983745889926, \"max\": 0.3824983745889926}}}\u001b[0m\n",
      "\u001b[34m#metrics {\"StartTime\": 1650323572.2401047, \"EndTime\": 1650323572.2401226, \"Dimensions\": {\"Algorithm\": \"Linear Learner\", \"Host\": \"algo-1\", \"Operation\": \"training\", \"epoch\": 6, \"model\": 19}, \"Metrics\": {\"train_binary_classification_cross_entropy_objective\": {\"sum\": 0.3826234671449807, \"count\": 1, \"min\": 0.3826234671449807, \"max\": 0.3826234671449807}}}\u001b[0m\n",
      "\u001b[34m#metrics {\"StartTime\": 1650323572.2401872, \"EndTime\": 1650323572.2402048, \"Dimensions\": {\"Algorithm\": \"Linear Learner\", \"Host\": \"algo-1\", \"Operation\": \"training\", \"epoch\": 6, \"model\": 20}, \"Metrics\": {\"train_binary_classification_cross_entropy_objective\": {\"sum\": 0.3824851805894018, \"count\": 1, \"min\": 0.3824851805894018, \"max\": 0.3824851805894018}}}\u001b[0m\n",
      "\u001b[34m#metrics {\"StartTime\": 1650323572.240258, \"EndTime\": 1650323572.2402744, \"Dimensions\": {\"Algorithm\": \"Linear Learner\", \"Host\": \"algo-1\", \"Operation\": \"training\", \"epoch\": 6, \"model\": 21}, \"Metrics\": {\"train_binary_classification_cross_entropy_objective\": {\"sum\": 0.38424565486149687, \"count\": 1, \"min\": 0.38424565486149687, \"max\": 0.38424565486149687}}}\u001b[0m\n",
      "\u001b[34m#metrics {\"StartTime\": 1650323572.2403336, \"EndTime\": 1650323572.2403493, \"Dimensions\": {\"Algorithm\": \"Linear Learner\", \"Host\": \"algo-1\", \"Operation\": \"training\", \"epoch\": 6, \"model\": 22}, \"Metrics\": {\"train_binary_classification_cross_entropy_objective\": {\"sum\": 0.3824983731191093, \"count\": 1, \"min\": 0.3824983731191093, \"max\": 0.3824983731191093}}}\u001b[0m\n",
      "\u001b[34m#metrics {\"StartTime\": 1650323572.240399, \"EndTime\": 1650323572.2404141, \"Dimensions\": {\"Algorithm\": \"Linear Learner\", \"Host\": \"algo-1\", \"Operation\": \"training\", \"epoch\": 6, \"model\": 23}, \"Metrics\": {\"train_binary_classification_cross_entropy_objective\": {\"sum\": 0.38424565423154683, \"count\": 1, \"min\": 0.38424565423154683, \"max\": 0.38424565423154683}}}\u001b[0m\n",
      "\u001b[34m#metrics {\"StartTime\": 1650323572.2404664, \"EndTime\": 1650323572.2404847, \"Dimensions\": {\"Algorithm\": \"Linear Learner\", \"Host\": \"algo-1\", \"Operation\": \"training\", \"epoch\": 6, \"model\": 24}, \"Metrics\": {\"train_binary_classification_cross_entropy_objective\": {\"sum\": 0.5121383521637056, \"count\": 1, \"min\": 0.5121383521637056, \"max\": 0.5121383521637056}}}\u001b[0m\n",
      "\u001b[34m#metrics {\"StartTime\": 1650323572.2405462, \"EndTime\": 1650323572.240566, \"Dimensions\": {\"Algorithm\": \"Linear Learner\", \"Host\": \"algo-1\", \"Operation\": \"training\", \"epoch\": 6, \"model\": 25}, \"Metrics\": {\"train_binary_classification_cross_entropy_objective\": {\"sum\": 0.5122038583784657, \"count\": 1, \"min\": 0.5122038583784657, \"max\": 0.5122038583784657}}}\u001b[0m\n",
      "\u001b[34m#metrics {\"StartTime\": 1650323572.2406309, \"EndTime\": 1650323572.2406507, \"Dimensions\": {\"Algorithm\": \"Linear Learner\", \"Host\": \"algo-1\", \"Operation\": \"training\", \"epoch\": 6, \"model\": 26}, \"Metrics\": {\"train_binary_classification_cross_entropy_objective\": {\"sum\": 0.5121420859007296, \"count\": 1, \"min\": 0.5121420859007296, \"max\": 0.5121420859007296}}}\u001b[0m\n",
      "\u001b[34m#metrics {\"StartTime\": 1650323572.2407289, \"EndTime\": 1650323572.2407484, \"Dimensions\": {\"Algorithm\": \"Linear Learner\", \"Host\": \"algo-1\", \"Operation\": \"training\", \"epoch\": 6, \"model\": 27}, \"Metrics\": {\"train_binary_classification_cross_entropy_objective\": {\"sum\": 0.5122038598250176, \"count\": 1, \"min\": 0.5122038598250176, \"max\": 0.5122038598250176}}}\u001b[0m\n",
      "\u001b[34m#metrics {\"StartTime\": 1650323572.2408056, \"EndTime\": 1650323572.2408228, \"Dimensions\": {\"Algorithm\": \"Linear Learner\", \"Host\": \"algo-1\", \"Operation\": \"training\", \"epoch\": 6, \"model\": 28}, \"Metrics\": {\"train_binary_classification_cross_entropy_objective\": {\"sum\": 0.5121387148982524, \"count\": 1, \"min\": 0.5121387148982524, \"max\": 0.5121387148982524}}}\u001b[0m\n",
      "\u001b[34m#metrics {\"StartTime\": 1650323572.240883, \"EndTime\": 1650323572.2408998, \"Dimensions\": {\"Algorithm\": \"Linear Learner\", \"Host\": \"algo-1\", \"Operation\": \"training\", \"epoch\": 6, \"model\": 29}, \"Metrics\": {\"train_binary_classification_cross_entropy_objective\": {\"sum\": 0.5129033236255705, \"count\": 1, \"min\": 0.5129033236255705, \"max\": 0.5129033236255705}}}\u001b[0m\n",
      "\u001b[34m#metrics {\"StartTime\": 1650323572.2409549, \"EndTime\": 1650323572.2409718, \"Dimensions\": {\"Algorithm\": \"Linear Learner\", \"Host\": \"algo-1\", \"Operation\": \"training\", \"epoch\": 6, \"model\": 30}, \"Metrics\": {\"train_binary_classification_cross_entropy_objective\": {\"sum\": 0.5121419689400116, \"count\": 1, \"min\": 0.5121419689400116, \"max\": 0.5121419689400116}}}\u001b[0m\n",
      "\u001b[34m#metrics {\"StartTime\": 1650323572.2410297, \"EndTime\": 1650323572.2410462, \"Dimensions\": {\"Algorithm\": \"Linear Learner\", \"Host\": \"algo-1\", \"Operation\": \"training\", \"epoch\": 6, \"model\": 31}, \"Metrics\": {\"train_binary_classification_cross_entropy_objective\": {\"sum\": 0.5129033206624722, \"count\": 1, \"min\": 0.5129033206624722, \"max\": 0.5129033206624722}}}\u001b[0m\n",
      "\u001b[34m[04/18/2022 23:12:52 INFO 140493168445248] #quality_metric: host=algo-1, epoch=6, train binary_classification_cross_entropy_objective <loss>=0.02117656400808865\u001b[0m\n",
      "\u001b[34m[2022-04-18 23:12:57.833] [tensorio] [info] epoch_stats={\"data_pipeline\": \"/opt/ml/input/data/validation\", \"epoch\": 20, \"duration\": 5565, \"num_examples\": 164, \"num_bytes\": 70003252}\u001b[0m\n",
      "\u001b[34m#metrics {\"StartTime\": 1650323579.9630153, \"EndTime\": 1650323579.9630811, \"Dimensions\": {\"Algorithm\": \"Linear Learner\", \"Host\": \"algo-1\", \"Operation\": \"training\", \"epoch\": 6, \"model\": 0}, \"Metrics\": {\"validation_binary_classification_cross_entropy_objective\": {\"sum\": 0.021009019363731056, \"count\": 1, \"min\": 0.021009019363731056, \"max\": 0.021009019363731056}}}\u001b[0m\n",
      "\u001b[34m#metrics {\"StartTime\": 1650323579.9631703, \"EndTime\": 1650323579.9631855, \"Dimensions\": {\"Algorithm\": \"Linear Learner\", \"Host\": \"algo-1\", \"Operation\": \"training\", \"epoch\": 6, \"model\": 1}, \"Metrics\": {\"validation_binary_classification_cross_entropy_objective\": {\"sum\": 0.0005781791006374699, \"count\": 1, \"min\": 0.0005781791006374699, \"max\": 0.0005781791006374699}}}\u001b[0m\n",
      "\u001b[34m#metrics {\"StartTime\": 1650323579.9632342, \"EndTime\": 1650323579.9632514, \"Dimensions\": {\"Algorithm\": \"Linear Learner\", \"Host\": \"algo-1\", \"Operation\": \"training\", \"epoch\": 6, \"model\": 2}, \"Metrics\": {\"validation_binary_classification_cross_entropy_objective\": {\"sum\": 0.01416941994420581, \"count\": 1, \"min\": 0.01416941994420581, \"max\": 0.01416941994420581}}}\u001b[0m\n",
      "\u001b[34m#metrics {\"StartTime\": 1650323579.963305, \"EndTime\": 1650323579.9633226, \"Dimensions\": {\"Algorithm\": \"Linear Learner\", \"Host\": \"algo-1\", \"Operation\": \"training\", \"epoch\": 6, \"model\": 3}, \"Metrics\": {\"validation_binary_classification_cross_entropy_objective\": {\"sum\": 0.0005812768913300622, \"count\": 1, \"min\": 0.0005812768913300622, \"max\": 0.0005812768913300622}}}\u001b[0m\n",
      "\u001b[34m#metrics {\"StartTime\": 1650323579.9633899, \"EndTime\": 1650323579.9634073, \"Dimensions\": {\"Algorithm\": \"Linear Learner\", \"Host\": \"algo-1\", \"Operation\": \"training\", \"epoch\": 6, \"model\": 4}, \"Metrics\": {\"validation_binary_classification_cross_entropy_objective\": {\"sum\": 0.0005166395129452181, \"count\": 1, \"min\": 0.0005166395129452181, \"max\": 0.0005166395129452181}}}\u001b[0m\n",
      "\u001b[34m#metrics {\"StartTime\": 1650323579.963479, \"EndTime\": 1650323579.9634979, \"Dimensions\": {\"Algorithm\": \"Linear Learner\", \"Host\": \"algo-1\", \"Operation\": \"training\", \"epoch\": 6, \"model\": 5}, \"Metrics\": {\"validation_binary_classification_cross_entropy_objective\": {\"sum\": 0.0004981964293979796, \"count\": 1, \"min\": 0.0004981964293979796, \"max\": 0.0004981964293979796}}}\u001b[0m\n",
      "\u001b[34m#metrics {\"StartTime\": 1650323579.9635546, \"EndTime\": 1650323579.9635713, \"Dimensions\": {\"Algorithm\": \"Linear Learner\", \"Host\": \"algo-1\", \"Operation\": \"training\", \"epoch\": 6, \"model\": 6}, \"Metrics\": {\"validation_binary_classification_cross_entropy_objective\": {\"sum\": 0.0005126061715979948, \"count\": 1, \"min\": 0.0005126061715979948, \"max\": 0.0005126061715979948}}}\u001b[0m\n",
      "\u001b[34m#metrics {\"StartTime\": 1650323579.9636257, \"EndTime\": 1650323579.9636421, \"Dimensions\": {\"Algorithm\": \"Linear Learner\", \"Host\": \"algo-1\", \"Operation\": \"training\", \"epoch\": 6, \"model\": 7}, \"Metrics\": {\"validation_binary_classification_cross_entropy_objective\": {\"sum\": 0.0004981013348826474, \"count\": 1, \"min\": 0.0004981013348826474, \"max\": 0.0004981013348826474}}}\u001b[0m\n",
      "\u001b[34m#metrics {\"StartTime\": 1650323579.9636958, \"EndTime\": 1650323579.9637125, \"Dimensions\": {\"Algorithm\": \"Linear Learner\", \"Host\": \"algo-1\", \"Operation\": \"training\", \"epoch\": 6, \"model\": 8}, \"Metrics\": {\"validation_binary_classification_cross_entropy_objective\": {\"sum\": 0.030992234914765892, \"count\": 1, \"min\": 0.030992234914765892, \"max\": 0.030992234914765892}}}\u001b[0m\n",
      "\u001b[34m#metrics {\"StartTime\": 1650323579.963775, \"EndTime\": 1650323579.963792, \"Dimensions\": {\"Algorithm\": \"Linear Learner\", \"Host\": \"algo-1\", \"Operation\": \"training\", \"epoch\": 6, \"model\": 9}, \"Metrics\": {\"validation_binary_classification_cross_entropy_objective\": {\"sum\": 0.023935389186821417, \"count\": 1, \"min\": 0.023935389186821417, \"max\": 0.023935389186821417}}}\u001b[0m\n",
      "\u001b[34m#metrics {\"StartTime\": 1650323579.9638467, \"EndTime\": 1650323579.9638636, \"Dimensions\": {\"Algorithm\": \"Linear Learner\", \"Host\": \"algo-1\", \"Operation\": \"training\", \"epoch\": 6, \"model\": 10}, \"Metrics\": {\"validation_binary_classification_cross_entropy_objective\": {\"sum\": 0.024707935597199086, \"count\": 1, \"min\": 0.024707935597199086, \"max\": 0.024707935597199086}}}\u001b[0m\n",
      "\u001b[34m#metrics {\"StartTime\": 1650323579.963917, \"EndTime\": 1650323579.963934, \"Dimensions\": {\"Algorithm\": \"Linear Learner\", \"Host\": \"algo-1\", \"Operation\": \"training\", \"epoch\": 6, \"model\": 11}, \"Metrics\": {\"validation_binary_classification_cross_entropy_objective\": {\"sum\": 0.02393258118886155, \"count\": 1, \"min\": 0.02393258118886155, \"max\": 0.02393258118886155}}}\u001b[0m\n",
      "\u001b[34m#metrics {\"StartTime\": 1650323579.9639869, \"EndTime\": 1650323579.9640038, \"Dimensions\": {\"Algorithm\": \"Linear Learner\", \"Host\": \"algo-1\", \"Operation\": \"training\", \"epoch\": 6, \"model\": 12}, \"Metrics\": {\"validation_binary_classification_cross_entropy_objective\": {\"sum\": 0.023897142473075676, \"count\": 1, \"min\": 0.023897142473075676, \"max\": 0.023897142473075676}}}\u001b[0m\n",
      "\u001b[34m#metrics {\"StartTime\": 1650323579.9640486, \"EndTime\": 1650323579.9640586, \"Dimensions\": {\"Algorithm\": \"Linear Learner\", \"Host\": \"algo-1\", \"Operation\": \"training\", \"epoch\": 6, \"model\": 13}, \"Metrics\": {\"validation_binary_classification_cross_entropy_objective\": {\"sum\": 0.02381047589176334, \"count\": 1, \"min\": 0.02381047589176334, \"max\": 0.02381047589176334}}}\u001b[0m\n",
      "\u001b[34m#metrics {\"StartTime\": 1650323579.964085, \"EndTime\": 1650323579.9640927, \"Dimensions\": {\"Algorithm\": \"Linear Learner\", \"Host\": \"algo-1\", \"Operation\": \"training\", \"epoch\": 6, \"model\": 14}, \"Metrics\": {\"validation_binary_classification_cross_entropy_objective\": {\"sum\": 0.023913060138737775, \"count\": 1, \"min\": 0.023913060138737775, \"max\": 0.023913060138737775}}}\u001b[0m\n",
      "\u001b[34m#metrics {\"StartTime\": 1650323579.9641178, \"EndTime\": 1650323579.964125, \"Dimensions\": {\"Algorithm\": \"Linear Learner\", \"Host\": \"algo-1\", \"Operation\": \"training\", \"epoch\": 6, \"model\": 15}, \"Metrics\": {\"validation_binary_classification_cross_entropy_objective\": {\"sum\": 0.0238099753962706, \"count\": 1, \"min\": 0.0238099753962706, \"max\": 0.0238099753962706}}}\u001b[0m\n",
      "\u001b[34m#metrics {\"StartTime\": 1650323579.9641507, \"EndTime\": 1650323579.9641643, \"Dimensions\": {\"Algorithm\": \"Linear Learner\", \"Host\": \"algo-1\", \"Operation\": \"training\", \"epoch\": 6, \"model\": 16}, \"Metrics\": {\"validation_binary_classification_cross_entropy_objective\": {\"sum\": 0.3825496292741648, \"count\": 1, \"min\": 0.3825496292741648, \"max\": 0.3825496292741648}}}\u001b[0m\n",
      "\u001b[34m#metrics {\"StartTime\": 1650323579.9642148, \"EndTime\": 1650323579.96423, \"Dimensions\": {\"Algorithm\": \"Linear Learner\", \"Host\": \"algo-1\", \"Operation\": \"training\", \"epoch\": 6, \"model\": 17}, \"Metrics\": {\"validation_binary_classification_cross_entropy_objective\": {\"sum\": 0.3814297095931003, \"count\": 1, \"min\": 0.3814297095931003, \"max\": 0.3814297095931003}}}\u001b[0m\n",
      "\u001b[34m#metrics {\"StartTime\": 1650323579.9642813, \"EndTime\": 1650323579.964299, \"Dimensions\": {\"Algorithm\": \"Linear Learner\", \"Host\": \"algo-1\", \"Operation\": \"training\", \"epoch\": 6, \"model\": 18}, \"Metrics\": {\"validation_binary_classification_cross_entropy_objective\": {\"sum\": 0.38272880732527376, \"count\": 1, \"min\": 0.38272880732527376, \"max\": 0.38272880732527376}}}\u001b[0m\n",
      "\u001b[34m#metrics {\"StartTime\": 1650323579.9643514, \"EndTime\": 1650323579.9643676, \"Dimensions\": {\"Algorithm\": \"Linear Learner\", \"Host\": \"algo-1\", \"Operation\": \"training\", \"epoch\": 6, \"model\": 19}, \"Metrics\": {\"validation_binary_classification_cross_entropy_objective\": {\"sum\": 0.38142816616591957, \"count\": 1, \"min\": 0.38142816616591957, \"max\": 0.38142816616591957}}}\u001b[0m\n",
      "\u001b[34m#metrics {\"StartTime\": 1650323579.964417, \"EndTime\": 1650323579.9644341, \"Dimensions\": {\"Algorithm\": \"Linear Learner\", \"Host\": \"algo-1\", \"Operation\": \"training\", \"epoch\": 6, \"model\": 20}, \"Metrics\": {\"validation_binary_classification_cross_entropy_objective\": {\"sum\": 0.3825546584734188, \"count\": 1, \"min\": 0.3825546584734188, \"max\": 0.3825546584734188}}}\u001b[0m\n",
      "\u001b[34m#metrics {\"StartTime\": 1650323579.964486, \"EndTime\": 1650323579.9645019, \"Dimensions\": {\"Algorithm\": \"Linear Learner\", \"Host\": \"algo-1\", \"Operation\": \"training\", \"epoch\": 6, \"model\": 21}, \"Metrics\": {\"validation_binary_classification_cross_entropy_objective\": {\"sum\": 0.38930420761878526, \"count\": 1, \"min\": 0.38930420761878526, \"max\": 0.38930420761878526}}}\u001b[0m\n",
      "\u001b[34m#metrics {\"StartTime\": 1650323579.9645565, \"EndTime\": 1650323579.9645715, \"Dimensions\": {\"Algorithm\": \"Linear Learner\", \"Host\": \"algo-1\", \"Operation\": \"training\", \"epoch\": 6, \"model\": 22}, \"Metrics\": {\"validation_binary_classification_cross_entropy_objective\": {\"sum\": 0.38272873007928093, \"count\": 1, \"min\": 0.38272873007928093, \"max\": 0.38272873007928093}}}\u001b[0m\n",
      "\u001b[34m#metrics {\"StartTime\": 1650323579.9646232, \"EndTime\": 1650323579.9646392, \"Dimensions\": {\"Algorithm\": \"Linear Learner\", \"Host\": \"algo-1\", \"Operation\": \"training\", \"epoch\": 6, \"model\": 23}, \"Metrics\": {\"validation_binary_classification_cross_entropy_objective\": {\"sum\": 0.3893042263705299, \"count\": 1, \"min\": 0.3893042263705299, \"max\": 0.3893042263705299}}}\u001b[0m\n",
      "\u001b[34m#metrics {\"StartTime\": 1650323579.964691, \"EndTime\": 1650323579.9647086, \"Dimensions\": {\"Algorithm\": \"Linear Learner\", \"Host\": \"algo-1\", \"Operation\": \"training\", \"epoch\": 6, \"model\": 24}, \"Metrics\": {\"validation_binary_classification_cross_entropy_objective\": {\"sum\": 0.5121434964208849, \"count\": 1, \"min\": 0.5121434964208849, \"max\": 0.5121434964208849}}}\u001b[0m\n",
      "\u001b[34m#metrics {\"StartTime\": 1650323579.9647605, \"EndTime\": 1650323579.9647768, \"Dimensions\": {\"Algorithm\": \"Linear Learner\", \"Host\": \"algo-1\", \"Operation\": \"training\", \"epoch\": 6, \"model\": 25}, \"Metrics\": {\"validation_binary_classification_cross_entropy_objective\": {\"sum\": 0.5123640079817934, \"count\": 1, \"min\": 0.5123640079817934, \"max\": 0.5123640079817934}}}\u001b[0m\n",
      "\u001b[34m#metrics {\"StartTime\": 1650323579.964829, \"EndTime\": 1650323579.9648447, \"Dimensions\": {\"Algorithm\": \"Linear Learner\", \"Host\": \"algo-1\", \"Operation\": \"training\", \"epoch\": 6, \"model\": 26}, \"Metrics\": {\"validation_binary_classification_cross_entropy_objective\": {\"sum\": 0.5120394499867976, \"count\": 1, \"min\": 0.5120394499867976, \"max\": 0.5120394499867976}}}\u001b[0m\n",
      "\u001b[34m#metrics {\"StartTime\": 1650323579.964898, \"EndTime\": 1650323579.9649138, \"Dimensions\": {\"Algorithm\": \"Linear Learner\", \"Host\": \"algo-1\", \"Operation\": \"training\", \"epoch\": 6, \"model\": 27}, \"Metrics\": {\"validation_binary_classification_cross_entropy_objective\": {\"sum\": 0.5123642624830838, \"count\": 1, \"min\": 0.5123642624830838, \"max\": 0.5123642624830838}}}\u001b[0m\n",
      "\u001b[34m#metrics {\"StartTime\": 1650323579.9649663, \"EndTime\": 1650323579.9649842, \"Dimensions\": {\"Algorithm\": \"Linear Learner\", \"Host\": \"algo-1\", \"Operation\": \"training\", \"epoch\": 6, \"model\": 28}, \"Metrics\": {\"validation_binary_classification_cross_entropy_objective\": {\"sum\": 0.5121435622852218, \"count\": 1, \"min\": 0.5121435622852218, \"max\": 0.5121435622852218}}}\u001b[0m\n",
      "\u001b[34m#metrics {\"StartTime\": 1650323579.9650369, \"EndTime\": 1650323579.965053, \"Dimensions\": {\"Algorithm\": \"Linear Learner\", \"Host\": \"algo-1\", \"Operation\": \"training\", \"epoch\": 6, \"model\": 29}, \"Metrics\": {\"validation_binary_classification_cross_entropy_objective\": {\"sum\": 0.5124508065425024, \"count\": 1, \"min\": 0.5124508065425024, \"max\": 0.5124508065425024}}}\u001b[0m\n",
      "\u001b[34m#metrics {\"StartTime\": 1650323579.9651048, \"EndTime\": 1650323579.965121, \"Dimensions\": {\"Algorithm\": \"Linear Learner\", \"Host\": \"algo-1\", \"Operation\": \"training\", \"epoch\": 6, \"model\": 30}, \"Metrics\": {\"validation_binary_classification_cross_entropy_objective\": {\"sum\": 0.5120398600995808, \"count\": 1, \"min\": 0.5120398600995808, \"max\": 0.5120398600995808}}}\u001b[0m\n",
      "\u001b[34m#metrics {\"StartTime\": 1650323579.965173, \"EndTime\": 1650323579.96519, \"Dimensions\": {\"Algorithm\": \"Linear Learner\", \"Host\": \"algo-1\", \"Operation\": \"training\", \"epoch\": 6, \"model\": 31}, \"Metrics\": {\"validation_binary_classification_cross_entropy_objective\": {\"sum\": 0.5124508326643358, \"count\": 1, \"min\": 0.5124508326643358, \"max\": 0.5124508326643358}}}\u001b[0m\n",
      "\u001b[34m[04/18/2022 23:12:59 INFO 140493168445248] #quality_metric: host=algo-1, epoch=6, validation binary_classification_cross_entropy_objective <loss>=0.021009019363731056\u001b[0m\n",
      "\u001b[34m[04/18/2022 23:12:59 INFO 140493168445248] #early_stopping_criteria_metric: host=algo-1, epoch=6, criteria=sampled_accuracy, value=0.9995781338844086\u001b[0m\n",
      "\u001b[34m[04/18/2022 23:12:59 INFO 140493168445248] Epoch 6: Loss improved. Updating best model\u001b[0m\n",
      "\u001b[34m[04/18/2022 23:12:59 INFO 140493168445248] Saving model for epoch: 6\u001b[0m\n",
      "\u001b[34m[04/18/2022 23:12:59 INFO 140493168445248] Saved checkpoint to \"/tmp/tmprkao433a/mx-mod-0000.params\"\u001b[0m\n",
      "\u001b[34m[04/18/2022 23:12:59 INFO 140493168445248] #progress_metric: host=algo-1, completed 46.666666666666664 % of epochs\u001b[0m\n",
      "\u001b[34m#metrics {\"StartTime\": 1650323512.4605834, \"EndTime\": 1650323579.9734266, \"Dimensions\": {\"Algorithm\": \"Linear Learner\", \"Host\": \"algo-1\", \"Operation\": \"training\", \"epoch\": 6, \"Meta\": \"training_data_iter\"}, \"Metrics\": {\"Total Records Seen\": {\"sum\": 9171304.0, \"count\": 1, \"min\": 9171304, \"max\": 9171304}, \"Total Batches Seen\": {\"sum\": 9175.0, \"count\": 1, \"min\": 9175, \"max\": 9175}, \"Max Records Seen Between Resets\": {\"sum\": 1308472.0, \"count\": 1, \"min\": 1308472, \"max\": 1308472}, \"Max Batches Seen Between Resets\": {\"sum\": 1309.0, \"count\": 1, \"min\": 1309, \"max\": 1309}, \"Reset Count\": {\"sum\": 9.0, \"count\": 1, \"min\": 9, \"max\": 9}, \"Number of Records Since Last Reset\": {\"sum\": 1308472.0, \"count\": 1, \"min\": 1308472, \"max\": 1308472}, \"Number of Batches Since Last Reset\": {\"sum\": 1309.0, \"count\": 1, \"min\": 1309, \"max\": 1309}}}\u001b[0m\n",
      "\u001b[34m[04/18/2022 23:12:59 INFO 140493168445248] #throughput_metric: host=algo-1, train throughput=19381.039570746365 records/second\u001b[0m\n",
      "\u001b[34m[2022-04-18 23:13:59.796] [tensorio] [info] epoch_stats={\"data_pipeline\": \"/opt/ml/input/data/train\", \"epoch\": 17, \"duration\": 59822, \"num_examples\": 1309, \"num_bytes\": 560026016}\u001b[0m\n",
      "\u001b[34m#metrics {\"StartTime\": 1650323639.796235, \"EndTime\": 1650323639.7963305, \"Dimensions\": {\"Algorithm\": \"Linear Learner\", \"Host\": \"algo-1\", \"Operation\": \"training\", \"epoch\": 7, \"model\": 0}, \"Metrics\": {\"train_binary_classification_cross_entropy_objective\": {\"sum\": 0.020853312980873506, \"count\": 1, \"min\": 0.020853312980873506, \"max\": 0.020853312980873506}}}\u001b[0m\n",
      "\u001b[34m#metrics {\"StartTime\": 1650323639.7964237, \"EndTime\": 1650323639.7964416, \"Dimensions\": {\"Algorithm\": \"Linear Learner\", \"Host\": \"algo-1\", \"Operation\": \"training\", \"epoch\": 7, \"model\": 1}, \"Metrics\": {\"train_binary_classification_cross_entropy_objective\": {\"sum\": 0.0005403485518939999, \"count\": 1, \"min\": 0.0005403485518939999, \"max\": 0.0005403485518939999}}}\u001b[0m\n",
      "\u001b[34m#metrics {\"StartTime\": 1650323639.7964895, \"EndTime\": 1650323639.796502, \"Dimensions\": {\"Algorithm\": \"Linear Learner\", \"Host\": \"algo-1\", \"Operation\": \"training\", \"epoch\": 7, \"model\": 2}, \"Metrics\": {\"train_binary_classification_cross_entropy_objective\": {\"sum\": 0.013231324469277618, \"count\": 1, \"min\": 0.013231324469277618, \"max\": 0.013231324469277618}}}\u001b[0m\n",
      "\u001b[34m#metrics {\"StartTime\": 1650323639.7965436, \"EndTime\": 1650323639.7965553, \"Dimensions\": {\"Algorithm\": \"Linear Learner\", \"Host\": \"algo-1\", \"Operation\": \"training\", \"epoch\": 7, \"model\": 3}, \"Metrics\": {\"train_binary_classification_cross_entropy_objective\": {\"sum\": 0.0005422990928640424, \"count\": 1, \"min\": 0.0005422990928640424, \"max\": 0.0005422990928640424}}}\u001b[0m\n",
      "\u001b[34m#metrics {\"StartTime\": 1650323639.7965949, \"EndTime\": 1650323639.796606, \"Dimensions\": {\"Algorithm\": \"Linear Learner\", \"Host\": \"algo-1\", \"Operation\": \"training\", \"epoch\": 7, \"model\": 4}, \"Metrics\": {\"train_binary_classification_cross_entropy_objective\": {\"sum\": 0.0005163667594119679, \"count\": 1, \"min\": 0.0005163667594119679, \"max\": 0.0005163667594119679}}}\u001b[0m\n",
      "\u001b[34m#metrics {\"StartTime\": 1650323639.796649, \"EndTime\": 1650323639.79666, \"Dimensions\": {\"Algorithm\": \"Linear Learner\", \"Host\": \"algo-1\", \"Operation\": \"training\", \"epoch\": 7, \"model\": 5}, \"Metrics\": {\"train_binary_classification_cross_entropy_objective\": {\"sum\": 0.0004982631355979756, \"count\": 1, \"min\": 0.0004982631355979756, \"max\": 0.0004982631355979756}}}\u001b[0m\n",
      "\u001b[34m#metrics {\"StartTime\": 1650323639.7967, \"EndTime\": 1650323639.796711, \"Dimensions\": {\"Algorithm\": \"Linear Learner\", \"Host\": \"algo-1\", \"Operation\": \"training\", \"epoch\": 7, \"model\": 6}, \"Metrics\": {\"train_binary_classification_cross_entropy_objective\": {\"sum\": 0.0005102079121526958, \"count\": 1, \"min\": 0.0005102079121526958, \"max\": 0.0005102079121526958}}}\u001b[0m\n",
      "\u001b[34m#metrics {\"StartTime\": 1650323639.796751, \"EndTime\": 1650323639.7967615, \"Dimensions\": {\"Algorithm\": \"Linear Learner\", \"Host\": \"algo-1\", \"Operation\": \"training\", \"epoch\": 7, \"model\": 7}, \"Metrics\": {\"train_binary_classification_cross_entropy_objective\": {\"sum\": 0.0004982587729982279, \"count\": 1, \"min\": 0.0004982587729982279, \"max\": 0.0004982587729982279}}}\u001b[0m\n",
      "\u001b[34m#metrics {\"StartTime\": 1650323639.7968013, \"EndTime\": 1650323639.7968123, \"Dimensions\": {\"Algorithm\": \"Linear Learner\", \"Host\": \"algo-1\", \"Operation\": \"training\", \"epoch\": 7, \"model\": 8}, \"Metrics\": {\"train_binary_classification_cross_entropy_objective\": {\"sum\": 0.030772370264070842, \"count\": 1, \"min\": 0.030772370264070842, \"max\": 0.030772370264070842}}}\u001b[0m\n",
      "\u001b[34m#metrics {\"StartTime\": 1650323639.7968564, \"EndTime\": 1650323639.7968695, \"Dimensions\": {\"Algorithm\": \"Linear Learner\", \"Host\": \"algo-1\", \"Operation\": \"training\", \"epoch\": 7, \"model\": 9}, \"Metrics\": {\"train_binary_classification_cross_entropy_objective\": {\"sum\": 0.023905347058532436, \"count\": 1, \"min\": 0.023905347058532436, \"max\": 0.023905347058532436}}}\u001b[0m\n",
      "\u001b[34m#metrics {\"StartTime\": 1650323639.7969136, \"EndTime\": 1650323639.796925, \"Dimensions\": {\"Algorithm\": \"Linear Learner\", \"Host\": \"algo-1\", \"Operation\": \"training\", \"epoch\": 7, \"model\": 10}, \"Metrics\": {\"train_binary_classification_cross_entropy_objective\": {\"sum\": 0.024312725767083123, \"count\": 1, \"min\": 0.024312725767083123, \"max\": 0.024312725767083123}}}\u001b[0m\n",
      "\u001b[34m#metrics {\"StartTime\": 1650323639.7969675, \"EndTime\": 1650323639.7969794, \"Dimensions\": {\"Algorithm\": \"Linear Learner\", \"Host\": \"algo-1\", \"Operation\": \"training\", \"epoch\": 7, \"model\": 11}, \"Metrics\": {\"train_binary_classification_cross_entropy_objective\": {\"sum\": 0.02390532764673962, \"count\": 1, \"min\": 0.02390532764673962, \"max\": 0.02390532764673962}}}\u001b[0m\n",
      "\u001b[34m#metrics {\"StartTime\": 1650323639.797018, \"EndTime\": 1650323639.797029, \"Dimensions\": {\"Algorithm\": \"Linear Learner\", \"Host\": \"algo-1\", \"Operation\": \"training\", \"epoch\": 7, \"model\": 12}, \"Metrics\": {\"train_binary_classification_cross_entropy_objective\": {\"sum\": 0.02389584185078239, \"count\": 1, \"min\": 0.02389584185078239, \"max\": 0.02389584185078239}}}\u001b[0m\n",
      "\u001b[34m#metrics {\"StartTime\": 1650323639.7970679, \"EndTime\": 1650323639.7970784, \"Dimensions\": {\"Algorithm\": \"Linear Learner\", \"Host\": \"algo-1\", \"Operation\": \"training\", \"epoch\": 7, \"model\": 13}, \"Metrics\": {\"train_binary_classification_cross_entropy_objective\": {\"sum\": 0.02403378537233452, \"count\": 1, \"min\": 0.02403378537233452, \"max\": 0.02403378537233452}}}\u001b[0m\n",
      "\u001b[34m#metrics {\"StartTime\": 1650323639.7971168, \"EndTime\": 1650323639.7971277, \"Dimensions\": {\"Algorithm\": \"Linear Learner\", \"Host\": \"algo-1\", \"Operation\": \"training\", \"epoch\": 7, \"model\": 14}, \"Metrics\": {\"train_binary_classification_cross_entropy_objective\": {\"sum\": 0.023897109808907233, \"count\": 1, \"min\": 0.023897109808907233, \"max\": 0.023897109808907233}}}\u001b[0m\n",
      "\u001b[34m#metrics {\"StartTime\": 1650323639.7971666, \"EndTime\": 1650323639.7971773, \"Dimensions\": {\"Algorithm\": \"Linear Learner\", \"Host\": \"algo-1\", \"Operation\": \"training\", \"epoch\": 7, \"model\": 15}, \"Metrics\": {\"train_binary_classification_cross_entropy_objective\": {\"sum\": 0.024033785453994705, \"count\": 1, \"min\": 0.024033785453994705, \"max\": 0.024033785453994705}}}\u001b[0m\n",
      "\u001b[34m#metrics {\"StartTime\": 1650323639.797216, \"EndTime\": 1650323639.7972267, \"Dimensions\": {\"Algorithm\": \"Linear Learner\", \"Host\": \"algo-1\", \"Operation\": \"training\", \"epoch\": 7, \"model\": 16}, \"Metrics\": {\"train_binary_classification_cross_entropy_objective\": {\"sum\": 0.38249175439770433, \"count\": 1, \"min\": 0.38249175439770433, \"max\": 0.38249175439770433}}}\u001b[0m\n",
      "\u001b[34m#metrics {\"StartTime\": 1650323639.7972658, \"EndTime\": 1650323639.7972763, \"Dimensions\": {\"Algorithm\": \"Linear Learner\", \"Host\": \"algo-1\", \"Operation\": \"training\", \"epoch\": 7, \"model\": 17}, \"Metrics\": {\"train_binary_classification_cross_entropy_objective\": {\"sum\": 0.38260612644113895, \"count\": 1, \"min\": 0.38260612644113895, \"max\": 0.38260612644113895}}}\u001b[0m\n",
      "\u001b[34m#metrics {\"StartTime\": 1650323639.797315, \"EndTime\": 1650323639.7973256, \"Dimensions\": {\"Algorithm\": \"Linear Learner\", \"Host\": \"algo-1\", \"Operation\": \"training\", \"epoch\": 7, \"model\": 18}, \"Metrics\": {\"train_binary_classification_cross_entropy_objective\": {\"sum\": 0.3824983884245613, \"count\": 1, \"min\": 0.3824983884245613, \"max\": 0.3824983884245613}}}\u001b[0m\n",
      "\u001b[34m#metrics {\"StartTime\": 1650323639.7973673, \"EndTime\": 1650323639.7973783, \"Dimensions\": {\"Algorithm\": \"Linear Learner\", \"Host\": \"algo-1\", \"Operation\": \"training\", \"epoch\": 7, \"model\": 19}, \"Metrics\": {\"train_binary_classification_cross_entropy_objective\": {\"sum\": 0.38260612667445376, \"count\": 1, \"min\": 0.38260612667445376, \"max\": 0.38260612667445376}}}\u001b[0m\n",
      "\u001b[34m#metrics {\"StartTime\": 1650323639.7974176, \"EndTime\": 1650323639.7974284, \"Dimensions\": {\"Algorithm\": \"Linear Learner\", \"Host\": \"algo-1\", \"Operation\": \"training\", \"epoch\": 7, \"model\": 20}, \"Metrics\": {\"train_binary_classification_cross_entropy_objective\": {\"sum\": 0.38249461486069797, \"count\": 1, \"min\": 0.38249461486069797, \"max\": 0.38249461486069797}}}\u001b[0m\n",
      "\u001b[34m#metrics {\"StartTime\": 1650323639.7974677, \"EndTime\": 1650323639.7974777, \"Dimensions\": {\"Algorithm\": \"Linear Learner\", \"Host\": \"algo-1\", \"Operation\": \"training\", \"epoch\": 7, \"model\": 21}, \"Metrics\": {\"train_binary_classification_cross_entropy_objective\": {\"sum\": 0.3840530927932226, \"count\": 1, \"min\": 0.3840530927932226, \"max\": 0.3840530927932226}}}\u001b[0m\n",
      "\u001b[34m#metrics {\"StartTime\": 1650323639.7975163, \"EndTime\": 1650323639.797527, \"Dimensions\": {\"Algorithm\": \"Linear Learner\", \"Host\": \"algo-1\", \"Operation\": \"training\", \"epoch\": 7, \"model\": 22}, \"Metrics\": {\"train_binary_classification_cross_entropy_objective\": {\"sum\": 0.3824983806551779, \"count\": 1, \"min\": 0.3824983806551779, \"max\": 0.3824983806551779}}}\u001b[0m\n",
      "\u001b[34m#metrics {\"StartTime\": 1650323639.7975655, \"EndTime\": 1650323639.797576, \"Dimensions\": {\"Algorithm\": \"Linear Learner\", \"Host\": \"algo-1\", \"Operation\": \"training\", \"epoch\": 7, \"model\": 23}, \"Metrics\": {\"train_binary_classification_cross_entropy_objective\": {\"sum\": 0.3840530931898578, \"count\": 1, \"min\": 0.3840530931898578, \"max\": 0.3840530931898578}}}\u001b[0m\n",
      "\u001b[34m#metrics {\"StartTime\": 1650323639.7976146, \"EndTime\": 1650323639.7976248, \"Dimensions\": {\"Algorithm\": \"Linear Learner\", \"Host\": \"algo-1\", \"Operation\": \"training\", \"epoch\": 7, \"model\": 24}, \"Metrics\": {\"train_binary_classification_cross_entropy_objective\": {\"sum\": 0.5121383476140667, \"count\": 1, \"min\": 0.5121383476140667, \"max\": 0.5121383476140667}}}\u001b[0m\n",
      "\u001b[34m#metrics {\"StartTime\": 1650323639.7976635, \"EndTime\": 1650323639.7976742, \"Dimensions\": {\"Algorithm\": \"Linear Learner\", \"Host\": \"algo-1\", \"Operation\": \"training\", \"epoch\": 7, \"model\": 25}, \"Metrics\": {\"train_binary_classification_cross_entropy_objective\": {\"sum\": 0.5121933545220518, \"count\": 1, \"min\": 0.5121933545220518, \"max\": 0.5121933545220518}}}\u001b[0m\n",
      "\u001b[34m#metrics {\"StartTime\": 1650323639.7977126, \"EndTime\": 1650323639.7977233, \"Dimensions\": {\"Algorithm\": \"Linear Learner\", \"Host\": \"algo-1\", \"Operation\": \"training\", \"epoch\": 7, \"model\": 26}, \"Metrics\": {\"train_binary_classification_cross_entropy_objective\": {\"sum\": 0.5121421127319336, \"count\": 1, \"min\": 0.5121421127319336, \"max\": 0.5121421127319336}}}\u001b[0m\n",
      "\u001b[34m#metrics {\"StartTime\": 1650323639.7977614, \"EndTime\": 1650323639.797772, \"Dimensions\": {\"Algorithm\": \"Linear Learner\", \"Host\": \"algo-1\", \"Operation\": \"training\", \"epoch\": 7, \"model\": 27}, \"Metrics\": {\"train_binary_classification_cross_entropy_objective\": {\"sum\": 0.5121933537754444, \"count\": 1, \"min\": 0.5121933537754444, \"max\": 0.5121933537754444}}}\u001b[0m\n",
      "\u001b[34m#metrics {\"StartTime\": 1650323639.7978103, \"EndTime\": 1650323639.7978315, \"Dimensions\": {\"Algorithm\": \"Linear Learner\", \"Host\": \"algo-1\", \"Operation\": \"training\", \"epoch\": 7, \"model\": 28}, \"Metrics\": {\"train_binary_classification_cross_entropy_objective\": {\"sum\": 0.5121383645527224, \"count\": 1, \"min\": 0.5121383645527224, \"max\": 0.5121383645527224}}}\u001b[0m\n",
      "\u001b[34m#metrics {\"StartTime\": 1650323639.7978685, \"EndTime\": 1650323639.7978787, \"Dimensions\": {\"Algorithm\": \"Linear Learner\", \"Host\": \"algo-1\", \"Operation\": \"training\", \"epoch\": 7, \"model\": 29}, \"Metrics\": {\"train_binary_classification_cross_entropy_objective\": {\"sum\": 0.5128040568733798, \"count\": 1, \"min\": 0.5128040568733798, \"max\": 0.5128040568733798}}}\u001b[0m\n",
      "\u001b[34m#metrics {\"StartTime\": 1650323639.797919, \"EndTime\": 1650323639.7979298, \"Dimensions\": {\"Algorithm\": \"Linear Learner\", \"Host\": \"algo-1\", \"Operation\": \"training\", \"epoch\": 7, \"model\": 30}, \"Metrics\": {\"train_binary_classification_cross_entropy_objective\": {\"sum\": 0.5121420790646054, \"count\": 1, \"min\": 0.5121420790646054, \"max\": 0.5121420790646054}}}\u001b[0m\n",
      "\u001b[34m#metrics {\"StartTime\": 1650323639.7979698, \"EndTime\": 1650323639.7979808, \"Dimensions\": {\"Algorithm\": \"Linear Learner\", \"Host\": \"algo-1\", \"Operation\": \"training\", \"epoch\": 7, \"model\": 31}, \"Metrics\": {\"train_binary_classification_cross_entropy_objective\": {\"sum\": 0.5128040642694596, \"count\": 1, \"min\": 0.5128040642694596, \"max\": 0.5128040642694596}}}\u001b[0m\n",
      "\u001b[34m[04/18/2022 23:13:59 INFO 140493168445248] #quality_metric: host=algo-1, epoch=7, train binary_classification_cross_entropy_objective <loss>=0.020853312980873506\u001b[0m\n",
      "\u001b[34m[2022-04-18 23:14:05.780] [tensorio] [info] epoch_stats={\"data_pipeline\": \"/opt/ml/input/data/validation\", \"epoch\": 23, \"duration\": 5959, \"num_examples\": 164, \"num_bytes\": 70003252}\u001b[0m\n",
      "\u001b[34m#metrics {\"StartTime\": 1650323648.2119277, \"EndTime\": 1650323648.2119954, \"Dimensions\": {\"Algorithm\": \"Linear Learner\", \"Host\": \"algo-1\", \"Operation\": \"training\", \"epoch\": 7, \"model\": 0}, \"Metrics\": {\"validation_binary_classification_cross_entropy_objective\": {\"sum\": 0.020687363825110303, \"count\": 1, \"min\": 0.020687363825110303, \"max\": 0.020687363825110303}}}\u001b[0m\n",
      "\u001b[34m#metrics {\"StartTime\": 1650323648.2120922, \"EndTime\": 1650323648.2121143, \"Dimensions\": {\"Algorithm\": \"Linear Learner\", \"Host\": \"algo-1\", \"Operation\": \"training\", \"epoch\": 7, \"model\": 1}, \"Metrics\": {\"validation_binary_classification_cross_entropy_objective\": {\"sum\": 0.0005143056818347691, \"count\": 1, \"min\": 0.0005143056818347691, \"max\": 0.0005143056818347691}}}\u001b[0m\n",
      "\u001b[34m#metrics {\"StartTime\": 1650323648.212173, \"EndTime\": 1650323648.2121909, \"Dimensions\": {\"Algorithm\": \"Linear Learner\", \"Host\": \"algo-1\", \"Operation\": \"training\", \"epoch\": 7, \"model\": 2}, \"Metrics\": {\"validation_binary_classification_cross_entropy_objective\": {\"sum\": 0.01232693276230324, \"count\": 1, \"min\": 0.01232693276230324, \"max\": 0.01232693276230324}}}\u001b[0m\n",
      "\u001b[34m#metrics {\"StartTime\": 1650323648.212256, \"EndTime\": 1650323648.212275, \"Dimensions\": {\"Algorithm\": \"Linear Learner\", \"Host\": \"algo-1\", \"Operation\": \"training\", \"epoch\": 7, \"model\": 3}, \"Metrics\": {\"validation_binary_classification_cross_entropy_objective\": {\"sum\": 0.0005153214592793396, \"count\": 1, \"min\": 0.0005153214592793396, \"max\": 0.0005153214592793396}}}\u001b[0m\n",
      "\u001b[34m#metrics {\"StartTime\": 1650323648.2123318, \"EndTime\": 1650323648.2123485, \"Dimensions\": {\"Algorithm\": \"Linear Learner\", \"Host\": \"algo-1\", \"Operation\": \"training\", \"epoch\": 7, \"model\": 4}, \"Metrics\": {\"validation_binary_classification_cross_entropy_objective\": {\"sum\": 0.0005158878396988696, \"count\": 1, \"min\": 0.0005158878396988696, \"max\": 0.0005158878396988696}}}\u001b[0m\n",
      "\u001b[34m#metrics {\"StartTime\": 1650323648.2123983, \"EndTime\": 1650323648.2124135, \"Dimensions\": {\"Algorithm\": \"Linear Learner\", \"Host\": \"algo-1\", \"Operation\": \"training\", \"epoch\": 7, \"model\": 5}, \"Metrics\": {\"validation_binary_classification_cross_entropy_objective\": {\"sum\": 0.0004922500577005409, \"count\": 1, \"min\": 0.0004922500577005409, \"max\": 0.0004922500577005409}}}\u001b[0m\n",
      "\u001b[34m#metrics {\"StartTime\": 1650323648.2124624, \"EndTime\": 1650323648.2124784, \"Dimensions\": {\"Algorithm\": \"Linear Learner\", \"Host\": \"algo-1\", \"Operation\": \"training\", \"epoch\": 7, \"model\": 6}, \"Metrics\": {\"validation_binary_classification_cross_entropy_objective\": {\"sum\": 0.0005075522211052077, \"count\": 1, \"min\": 0.0005075522211052077, \"max\": 0.0005075522211052077}}}\u001b[0m\n",
      "\u001b[34m#metrics {\"StartTime\": 1650323648.2125323, \"EndTime\": 1650323648.2125485, \"Dimensions\": {\"Algorithm\": \"Linear Learner\", \"Host\": \"algo-1\", \"Operation\": \"training\", \"epoch\": 7, \"model\": 7}, \"Metrics\": {\"validation_binary_classification_cross_entropy_objective\": {\"sum\": 0.0004916938752913888, \"count\": 1, \"min\": 0.0004916938752913888, \"max\": 0.0004916938752913888}}}\u001b[0m\n",
      "\u001b[34m#metrics {\"StartTime\": 1650323648.2126036, \"EndTime\": 1650323648.2126207, \"Dimensions\": {\"Algorithm\": \"Linear Learner\", \"Host\": \"algo-1\", \"Operation\": \"training\", \"epoch\": 7, \"model\": 8}, \"Metrics\": {\"validation_binary_classification_cross_entropy_objective\": {\"sum\": 0.030548559400651192, \"count\": 1, \"min\": 0.030548559400651192, \"max\": 0.030548559400651192}}}\u001b[0m\n",
      "\u001b[34m#metrics {\"StartTime\": 1650323648.2126904, \"EndTime\": 1650323648.2127087, \"Dimensions\": {\"Algorithm\": \"Linear Learner\", \"Host\": \"algo-1\", \"Operation\": \"training\", \"epoch\": 7, \"model\": 9}, \"Metrics\": {\"validation_binary_classification_cross_entropy_objective\": {\"sum\": 0.023904247285218314, \"count\": 1, \"min\": 0.023904247285218314, \"max\": 0.023904247285218314}}}\u001b[0m\n",
      "\u001b[34m#metrics {\"StartTime\": 1650323648.2127702, \"EndTime\": 1650323648.2127867, \"Dimensions\": {\"Algorithm\": \"Linear Learner\", \"Host\": \"algo-1\", \"Operation\": \"training\", \"epoch\": 7, \"model\": 10}, \"Metrics\": {\"validation_binary_classification_cross_entropy_objective\": {\"sum\": 0.024053195442384098, \"count\": 1, \"min\": 0.024053195442384098, \"max\": 0.024053195442384098}}}\u001b[0m\n",
      "\u001b[34m#metrics {\"StartTime\": 1650323648.212843, \"EndTime\": 1650323648.2128592, \"Dimensions\": {\"Algorithm\": \"Linear Learner\", \"Host\": \"algo-1\", \"Operation\": \"training\", \"epoch\": 7, \"model\": 11}, \"Metrics\": {\"validation_binary_classification_cross_entropy_objective\": {\"sum\": 0.023902302747957606, \"count\": 1, \"min\": 0.023902302747957606, \"max\": 0.023902302747957606}}}\u001b[0m\n",
      "\u001b[34m#metrics {\"StartTime\": 1650323648.2129312, \"EndTime\": 1650323648.212949, \"Dimensions\": {\"Algorithm\": \"Linear Learner\", \"Host\": \"algo-1\", \"Operation\": \"training\", \"epoch\": 7, \"model\": 12}, \"Metrics\": {\"validation_binary_classification_cross_entropy_objective\": {\"sum\": 0.023897437148346388, \"count\": 1, \"min\": 0.023897437148346388, \"max\": 0.023897437148346388}}}\u001b[0m\n",
      "\u001b[34m#metrics {\"StartTime\": 1650323648.2130048, \"EndTime\": 1650323648.2130222, \"Dimensions\": {\"Algorithm\": \"Linear Learner\", \"Host\": \"algo-1\", \"Operation\": \"training\", \"epoch\": 7, \"model\": 13}, \"Metrics\": {\"validation_binary_classification_cross_entropy_objective\": {\"sum\": 0.023593656412934563, \"count\": 1, \"min\": 0.023593656412934563, \"max\": 0.023593656412934563}}}\u001b[0m\n",
      "\u001b[34m#metrics {\"StartTime\": 1650323648.2130957, \"EndTime\": 1650323648.2131147, \"Dimensions\": {\"Algorithm\": \"Linear Learner\", \"Host\": \"algo-1\", \"Operation\": \"training\", \"epoch\": 7, \"model\": 14}, \"Metrics\": {\"validation_binary_classification_cross_entropy_objective\": {\"sum\": 0.023913508069871706, \"count\": 1, \"min\": 0.023913508069871706, \"max\": 0.023913508069871706}}}\u001b[0m\n",
      "\u001b[34m#metrics {\"StartTime\": 1650323648.2131724, \"EndTime\": 1650323648.21319, \"Dimensions\": {\"Algorithm\": \"Linear Learner\", \"Host\": \"algo-1\", \"Operation\": \"training\", \"epoch\": 7, \"model\": 15}, \"Metrics\": {\"validation_binary_classification_cross_entropy_objective\": {\"sum\": 0.02359352624690616, \"count\": 1, \"min\": 0.02359352624690616, \"max\": 0.02359352624690616}}}\u001b[0m\n",
      "\u001b[34m#metrics {\"StartTime\": 1650323648.2132468, \"EndTime\": 1650323648.2132623, \"Dimensions\": {\"Algorithm\": \"Linear Learner\", \"Host\": \"algo-1\", \"Operation\": \"training\", \"epoch\": 7, \"model\": 16}, \"Metrics\": {\"validation_binary_classification_cross_entropy_objective\": {\"sum\": 0.3825498339573874, \"count\": 1, \"min\": 0.3825498339573874, \"max\": 0.3825498339573874}}}\u001b[0m\n",
      "\u001b[34m#metrics {\"StartTime\": 1650323648.213318, \"EndTime\": 1650323648.2133348, \"Dimensions\": {\"Algorithm\": \"Linear Learner\", \"Host\": \"algo-1\", \"Operation\": \"training\", \"epoch\": 7, \"model\": 17}, \"Metrics\": {\"validation_binary_classification_cross_entropy_objective\": {\"sum\": 0.38177518417967315, \"count\": 1, \"min\": 0.38177518417967315, \"max\": 0.38177518417967315}}}\u001b[0m\n",
      "\u001b[34m#metrics {\"StartTime\": 1650323648.2133908, \"EndTime\": 1650323648.2134082, \"Dimensions\": {\"Algorithm\": \"Linear Learner\", \"Host\": \"algo-1\", \"Operation\": \"training\", \"epoch\": 7, \"model\": 18}, \"Metrics\": {\"validation_binary_classification_cross_entropy_objective\": {\"sum\": 0.3827288849444357, \"count\": 1, \"min\": 0.3827288849444357, \"max\": 0.3827288849444357}}}\u001b[0m\n",
      "\u001b[34m#metrics {\"StartTime\": 1650323648.213478, \"EndTime\": 1650323648.2134976, \"Dimensions\": {\"Algorithm\": \"Linear Learner\", \"Host\": \"algo-1\", \"Operation\": \"training\", \"epoch\": 7, \"model\": 19}, \"Metrics\": {\"validation_binary_classification_cross_entropy_objective\": {\"sum\": 0.3817748105441643, \"count\": 1, \"min\": 0.3817748105441643, \"max\": 0.3817748105441643}}}\u001b[0m\n",
      "\u001b[34m#metrics {\"StartTime\": 1650323648.2135682, \"EndTime\": 1650323648.213586, \"Dimensions\": {\"Algorithm\": \"Linear Learner\", \"Host\": \"algo-1\", \"Operation\": \"training\", \"epoch\": 7, \"model\": 20}, \"Metrics\": {\"validation_binary_classification_cross_entropy_objective\": {\"sum\": 0.3825510223142194, \"count\": 1, \"min\": 0.3825510223142194, \"max\": 0.3825510223142194}}}\u001b[0m\n",
      "\u001b[34m#metrics {\"StartTime\": 1650323648.21364, \"EndTime\": 1650323648.2136543, \"Dimensions\": {\"Algorithm\": \"Linear Learner\", \"Host\": \"algo-1\", \"Operation\": \"training\", \"epoch\": 7, \"model\": 21}, \"Metrics\": {\"validation_binary_classification_cross_entropy_objective\": {\"sum\": 0.38957305091522665, \"count\": 1, \"min\": 0.38957305091522665, \"max\": 0.38957305091522665}}}\u001b[0m\n",
      "\u001b[34m#metrics {\"StartTime\": 1650323648.2137134, \"EndTime\": 1650323648.2137308, \"Dimensions\": {\"Algorithm\": \"Linear Learner\", \"Host\": \"algo-1\", \"Operation\": \"training\", \"epoch\": 7, \"model\": 22}, \"Metrics\": {\"validation_binary_classification_cross_entropy_objective\": {\"sum\": 0.3827288729097339, \"count\": 1, \"min\": 0.3827288729097339, \"max\": 0.3827288729097339}}}\u001b[0m\n",
      "\u001b[34m#metrics {\"StartTime\": 1650323648.2137938, \"EndTime\": 1650323648.2138093, \"Dimensions\": {\"Algorithm\": \"Linear Learner\", \"Host\": \"algo-1\", \"Operation\": \"training\", \"epoch\": 7, \"model\": 23}, \"Metrics\": {\"validation_binary_classification_cross_entropy_objective\": {\"sum\": 0.38957306239017486, \"count\": 1, \"min\": 0.38957306239017486, \"max\": 0.38957306239017486}}}\u001b[0m\n",
      "\u001b[34m#metrics {\"StartTime\": 1650323648.2138681, \"EndTime\": 1650323648.2138846, \"Dimensions\": {\"Algorithm\": \"Linear Learner\", \"Host\": \"algo-1\", \"Operation\": \"training\", \"epoch\": 7, \"model\": 24}, \"Metrics\": {\"validation_binary_classification_cross_entropy_objective\": {\"sum\": 0.5121435244085635, \"count\": 1, \"min\": 0.5121435244085635, \"max\": 0.5121435244085635}}}\u001b[0m\n",
      "\u001b[34m#metrics {\"StartTime\": 1650323648.2139513, \"EndTime\": 1650323648.2139702, \"Dimensions\": {\"Algorithm\": \"Linear Learner\", \"Host\": \"algo-1\", \"Operation\": \"training\", \"epoch\": 7, \"model\": 25}, \"Metrics\": {\"validation_binary_classification_cross_entropy_objective\": {\"sum\": 0.5122648455842005, \"count\": 1, \"min\": 0.5122648455842005, \"max\": 0.5122648455842005}}}\u001b[0m\n",
      "\u001b[34m#metrics {\"StartTime\": 1650323648.214026, \"EndTime\": 1650323648.214043, \"Dimensions\": {\"Algorithm\": \"Linear Learner\", \"Host\": \"algo-1\", \"Operation\": \"training\", \"epoch\": 7, \"model\": 26}, \"Metrics\": {\"validation_binary_classification_cross_entropy_objective\": {\"sum\": 0.5120393555750286, \"count\": 1, \"min\": 0.5120393555750286, \"max\": 0.5120393555750286}}}\u001b[0m\n",
      "\u001b[34m#metrics {\"StartTime\": 1650323648.2140977, \"EndTime\": 1650323648.2141156, \"Dimensions\": {\"Algorithm\": \"Linear Learner\", \"Host\": \"algo-1\", \"Operation\": \"training\", \"epoch\": 7, \"model\": 27}, \"Metrics\": {\"validation_binary_classification_cross_entropy_objective\": {\"sum\": 0.5122648784230767, \"count\": 1, \"min\": 0.5122648784230767, \"max\": 0.5122648784230767}}}\u001b[0m\n",
      "\u001b[34m#metrics {\"StartTime\": 1650323648.214224, \"EndTime\": 1650323648.2142417, \"Dimensions\": {\"Algorithm\": \"Linear Learner\", \"Host\": \"algo-1\", \"Operation\": \"training\", \"epoch\": 7, \"model\": 28}, \"Metrics\": {\"validation_binary_classification_cross_entropy_objective\": {\"sum\": 0.5121434607832409, \"count\": 1, \"min\": 0.5121434607832409, \"max\": 0.5121434607832409}}}\u001b[0m\n",
      "\u001b[34m#metrics {\"StartTime\": 1650323648.2143085, \"EndTime\": 1650323648.2143254, \"Dimensions\": {\"Algorithm\": \"Linear Learner\", \"Host\": \"algo-1\", \"Operation\": \"training\", \"epoch\": 7, \"model\": 29}, \"Metrics\": {\"validation_binary_classification_cross_entropy_objective\": {\"sum\": 0.5126803999185213, \"count\": 1, \"min\": 0.5126803999185213, \"max\": 0.5126803999185213}}}\u001b[0m\n",
      "\u001b[34m#metrics {\"StartTime\": 1650323648.2143795, \"EndTime\": 1650323648.2143989, \"Dimensions\": {\"Algorithm\": \"Linear Learner\", \"Host\": \"algo-1\", \"Operation\": \"training\", \"epoch\": 7, \"model\": 30}, \"Metrics\": {\"validation_binary_classification_cross_entropy_objective\": {\"sum\": 0.5120394479343678, \"count\": 1, \"min\": 0.5120394479343678, \"max\": 0.5120394479343678}}}\u001b[0m\n",
      "\u001b[34m#metrics {\"StartTime\": 1650323648.2144523, \"EndTime\": 1650323648.2144704, \"Dimensions\": {\"Algorithm\": \"Linear Learner\", \"Host\": \"algo-1\", \"Operation\": \"training\", \"epoch\": 7, \"model\": 31}, \"Metrics\": {\"validation_binary_classification_cross_entropy_objective\": {\"sum\": 0.5126803978660917, \"count\": 1, \"min\": 0.5126803978660917, \"max\": 0.5126803978660917}}}\u001b[0m\n",
      "\u001b[34m[04/18/2022 23:14:08 INFO 140493168445248] #quality_metric: host=algo-1, epoch=7, validation binary_classification_cross_entropy_objective <loss>=0.020687363825110303\u001b[0m\n",
      "\u001b[34m[04/18/2022 23:14:08 INFO 140493168445248] #early_stopping_criteria_metric: host=algo-1, epoch=7, criteria=sampled_accuracy, value=0.9995781338844086\u001b[0m\n",
      "\u001b[34m[04/18/2022 23:14:08 INFO 140493168445248] Epoch 7: Loss improved. Updating best model\u001b[0m\n",
      "\u001b[34m[04/18/2022 23:14:08 INFO 140493168445248] Saving model for epoch: 7\u001b[0m\n",
      "\u001b[34m[04/18/2022 23:14:08 INFO 140493168445248] Saved checkpoint to \"/tmp/tmp7fz6p_u3/mx-mod-0000.params\"\u001b[0m\n",
      "\u001b[34m[04/18/2022 23:14:08 INFO 140493168445248] #progress_metric: host=algo-1, completed 53.333333333333336 % of epochs\u001b[0m\n",
      "\u001b[34m#metrics {\"StartTime\": 1650323579.9739032, \"EndTime\": 1650323648.2237604, \"Dimensions\": {\"Algorithm\": \"Linear Learner\", \"Host\": \"algo-1\", \"Operation\": \"training\", \"epoch\": 7, \"Meta\": \"training_data_iter\"}, \"Metrics\": {\"Total Records Seen\": {\"sum\": 10479776.0, \"count\": 1, \"min\": 10479776, \"max\": 10479776}, \"Total Batches Seen\": {\"sum\": 10484.0, \"count\": 1, \"min\": 10484, \"max\": 10484}, \"Max Records Seen Between Resets\": {\"sum\": 1308472.0, \"count\": 1, \"min\": 1308472, \"max\": 1308472}, \"Max Batches Seen Between Resets\": {\"sum\": 1309.0, \"count\": 1, \"min\": 1309, \"max\": 1309}, \"Reset Count\": {\"sum\": 10.0, \"count\": 1, \"min\": 10, \"max\": 10}, \"Number of Records Since Last Reset\": {\"sum\": 1308472.0, \"count\": 1, \"min\": 1308472, \"max\": 1308472}, \"Number of Batches Since Last Reset\": {\"sum\": 1309.0, \"count\": 1, \"min\": 1309, \"max\": 1309}}}\u001b[0m\n",
      "\u001b[34m[04/18/2022 23:14:08 INFO 140493168445248] #throughput_metric: host=algo-1, train throughput=19171.746361593614 records/second\u001b[0m\n",
      "\u001b[34m[2022-04-18 23:15:08.157] [tensorio] [info] epoch_stats={\"data_pipeline\": \"/opt/ml/input/data/train\", \"epoch\": 19, \"duration\": 59932, \"num_examples\": 1309, \"num_bytes\": 560026016}\u001b[0m\n",
      "\u001b[34m#metrics {\"StartTime\": 1650323708.1571326, \"EndTime\": 1650323708.1572404, \"Dimensions\": {\"Algorithm\": \"Linear Learner\", \"Host\": \"algo-1\", \"Operation\": \"training\", \"epoch\": 8, \"model\": 0}, \"Metrics\": {\"train_binary_classification_cross_entropy_objective\": {\"sum\": 0.02053371638260121, \"count\": 1, \"min\": 0.02053371638260121, \"max\": 0.02053371638260121}}}\u001b[0m\n",
      "\u001b[34m#metrics {\"StartTime\": 1650323708.1573503, \"EndTime\": 1650323708.1573749, \"Dimensions\": {\"Algorithm\": \"Linear Learner\", \"Host\": \"algo-1\", \"Operation\": \"training\", \"epoch\": 8, \"model\": 1}, \"Metrics\": {\"train_binary_classification_cross_entropy_objective\": {\"sum\": 0.0005039777652067147, \"count\": 1, \"min\": 0.0005039777652067147, \"max\": 0.0005039777652067147}}}\u001b[0m\n",
      "\u001b[34m#metrics {\"StartTime\": 1650323708.1574416, \"EndTime\": 1650323708.1574616, \"Dimensions\": {\"Algorithm\": \"Linear Learner\", \"Host\": \"algo-1\", \"Operation\": \"training\", \"epoch\": 8, \"model\": 2}, \"Metrics\": {\"train_binary_classification_cross_entropy_objective\": {\"sum\": 0.011509027510243453, \"count\": 1, \"min\": 0.011509027510243453, \"max\": 0.011509027510243453}}}\u001b[0m\n",
      "\u001b[34m#metrics {\"StartTime\": 1650323708.1575248, \"EndTime\": 1650323708.1575446, \"Dimensions\": {\"Algorithm\": \"Linear Learner\", \"Host\": \"algo-1\", \"Operation\": \"training\", \"epoch\": 8, \"model\": 3}, \"Metrics\": {\"train_binary_classification_cross_entropy_objective\": {\"sum\": 0.0005044676661491394, \"count\": 1, \"min\": 0.0005044676661491394, \"max\": 0.0005044676661491394}}}\u001b[0m\n",
      "\u001b[34m#metrics {\"StartTime\": 1650323708.157611, \"EndTime\": 1650323708.1576314, \"Dimensions\": {\"Algorithm\": \"Linear Learner\", \"Host\": \"algo-1\", \"Operation\": \"training\", \"epoch\": 8, \"model\": 4}, \"Metrics\": {\"train_binary_classification_cross_entropy_objective\": {\"sum\": 0.0005153373735259068, \"count\": 1, \"min\": 0.0005153373735259068, \"max\": 0.0005153373735259068}}}\u001b[0m\n",
      "\u001b[34m#metrics {\"StartTime\": 1650323708.157697, \"EndTime\": 1650323708.1577175, \"Dimensions\": {\"Algorithm\": \"Linear Learner\", \"Host\": \"algo-1\", \"Operation\": \"training\", \"epoch\": 8, \"model\": 5}, \"Metrics\": {\"train_binary_classification_cross_entropy_objective\": {\"sum\": 0.0004982204725253837, \"count\": 1, \"min\": 0.0004982204725253837, \"max\": 0.0004982204725253837}}}\u001b[0m\n",
      "\u001b[34m#metrics {\"StartTime\": 1650323708.1577797, \"EndTime\": 1650323708.1577997, \"Dimensions\": {\"Algorithm\": \"Linear Learner\", \"Host\": \"algo-1\", \"Operation\": \"training\", \"epoch\": 8, \"model\": 6}, \"Metrics\": {\"train_binary_classification_cross_entropy_objective\": {\"sum\": 0.0005047453493791254, \"count\": 1, \"min\": 0.0005047453493791254, \"max\": 0.0005047453493791254}}}\u001b[0m\n",
      "\u001b[34m#metrics {\"StartTime\": 1650323708.1578648, \"EndTime\": 1650323708.157883, \"Dimensions\": {\"Algorithm\": \"Linear Learner\", \"Host\": \"algo-1\", \"Operation\": \"training\", \"epoch\": 8, \"model\": 7}, \"Metrics\": {\"train_binary_classification_cross_entropy_objective\": {\"sum\": 0.000498219331766305, \"count\": 1, \"min\": 0.000498219331766305, \"max\": 0.000498219331766305}}}\u001b[0m\n",
      "\u001b[34m#metrics {\"StartTime\": 1650323708.157943, \"EndTime\": 1650323708.157961, \"Dimensions\": {\"Algorithm\": \"Linear Learner\", \"Host\": \"algo-1\", \"Operation\": \"training\", \"epoch\": 8, \"model\": 8}, \"Metrics\": {\"train_binary_classification_cross_entropy_objective\": {\"sum\": 0.030330578984835096, \"count\": 1, \"min\": 0.030330578984835096, \"max\": 0.030330578984835096}}}\u001b[0m\n",
      "\u001b[34m#metrics {\"StartTime\": 1650323708.1580286, \"EndTime\": 1650323708.1580472, \"Dimensions\": {\"Algorithm\": \"Linear Learner\", \"Host\": \"algo-1\", \"Operation\": \"training\", \"epoch\": 8, \"model\": 9}, \"Metrics\": {\"train_binary_classification_cross_entropy_objective\": {\"sum\": 0.0239040314356486, \"count\": 1, \"min\": 0.0239040314356486, \"max\": 0.0239040314356486}}}\u001b[0m\n",
      "\u001b[34m#metrics {\"StartTime\": 1650323708.158103, \"EndTime\": 1650323708.1581204, \"Dimensions\": {\"Algorithm\": \"Linear Learner\", \"Host\": \"algo-1\", \"Operation\": \"training\", \"epoch\": 8, \"model\": 10}, \"Metrics\": {\"train_binary_classification_cross_entropy_objective\": {\"sum\": 0.023952999201025074, \"count\": 1, \"min\": 0.023952999201025074, \"max\": 0.023952999201025074}}}\u001b[0m\n",
      "\u001b[34m#metrics {\"StartTime\": 1650323708.1582108, \"EndTime\": 1650323708.1582303, \"Dimensions\": {\"Algorithm\": \"Linear Learner\", \"Host\": \"algo-1\", \"Operation\": \"training\", \"epoch\": 8, \"model\": 11}, \"Metrics\": {\"train_binary_classification_cross_entropy_objective\": {\"sum\": 0.023904017149490683, \"count\": 1, \"min\": 0.023904017149490683, \"max\": 0.023904017149490683}}}\u001b[0m\n",
      "\u001b[34m#metrics {\"StartTime\": 1650323708.1582878, \"EndTime\": 1650323708.1583056, \"Dimensions\": {\"Algorithm\": \"Linear Learner\", \"Host\": \"algo-1\", \"Operation\": \"training\", \"epoch\": 8, \"model\": 12}, \"Metrics\": {\"train_binary_classification_cross_entropy_objective\": {\"sum\": 0.02389604514381572, \"count\": 1, \"min\": 0.02389604514381572, \"max\": 0.02389604514381572}}}\u001b[0m\n",
      "\u001b[34m#metrics {\"StartTime\": 1650323708.15836, \"EndTime\": 1650323708.1583776, \"Dimensions\": {\"Algorithm\": \"Linear Learner\", \"Host\": \"algo-1\", \"Operation\": \"training\", \"epoch\": 8, \"model\": 13}, \"Metrics\": {\"train_binary_classification_cross_entropy_objective\": {\"sum\": 0.024018085745131933, \"count\": 1, \"min\": 0.024018085745131933, \"max\": 0.024018085745131933}}}\u001b[0m\n",
      "\u001b[34m#metrics {\"StartTime\": 1650323708.1584294, \"EndTime\": 1650323708.1584456, \"Dimensions\": {\"Algorithm\": \"Linear Learner\", \"Host\": \"algo-1\", \"Operation\": \"training\", \"epoch\": 8, \"model\": 14}, \"Metrics\": {\"train_binary_classification_cross_entropy_objective\": {\"sum\": 0.02389710004468212, \"count\": 1, \"min\": 0.02389710004468212, \"max\": 0.02389710004468212}}}\u001b[0m\n",
      "\u001b[34m#metrics {\"StartTime\": 1650323708.1585004, \"EndTime\": 1650323708.158517, \"Dimensions\": {\"Algorithm\": \"Linear Learner\", \"Host\": \"algo-1\", \"Operation\": \"training\", \"epoch\": 8, \"model\": 15}, \"Metrics\": {\"train_binary_classification_cross_entropy_objective\": {\"sum\": 0.024018085726175104, \"count\": 1, \"min\": 0.024018085726175104, \"max\": 0.024018085726175104}}}\u001b[0m\n",
      "\u001b[34m#metrics {\"StartTime\": 1650323708.1585686, \"EndTime\": 1650323708.1585839, \"Dimensions\": {\"Algorithm\": \"Linear Learner\", \"Host\": \"algo-1\", \"Operation\": \"training\", \"epoch\": 8, \"model\": 16}, \"Metrics\": {\"train_binary_classification_cross_entropy_objective\": {\"sum\": 0.3824918802243854, \"count\": 1, \"min\": 0.3824918802243854, \"max\": 0.3824918802243854}}}\u001b[0m\n",
      "\u001b[34m#metrics {\"StartTime\": 1650323708.1586354, \"EndTime\": 1650323708.1586516, \"Dimensions\": {\"Algorithm\": \"Linear Learner\", \"Host\": \"algo-1\", \"Operation\": \"training\", \"epoch\": 8, \"model\": 17}, \"Metrics\": {\"train_binary_classification_cross_entropy_objective\": {\"sum\": 0.38259091919131966, \"count\": 1, \"min\": 0.38259091919131966, \"max\": 0.38259091919131966}}}\u001b[0m\n",
      "\u001b[34m#metrics {\"StartTime\": 1650323708.1587033, \"EndTime\": 1650323708.1587203, \"Dimensions\": {\"Algorithm\": \"Linear Learner\", \"Host\": \"algo-1\", \"Operation\": \"training\", \"epoch\": 8, \"model\": 18}, \"Metrics\": {\"train_binary_classification_cross_entropy_objective\": {\"sum\": 0.38249837566224076, \"count\": 1, \"min\": 0.38249837566224076, \"max\": 0.38249837566224076}}}\u001b[0m\n",
      "\u001b[34m#metrics {\"StartTime\": 1650323708.1588821, \"EndTime\": 1650323708.158904, \"Dimensions\": {\"Algorithm\": \"Linear Learner\", \"Host\": \"algo-1\", \"Operation\": \"training\", \"epoch\": 8, \"model\": 19}, \"Metrics\": {\"train_binary_classification_cross_entropy_objective\": {\"sum\": 0.3825909195879548, \"count\": 1, \"min\": 0.3825909195879548, \"max\": 0.3825909195879548}}}\u001b[0m\n",
      "\u001b[34m#metrics {\"StartTime\": 1650323708.1589742, \"EndTime\": 1650323708.1589935, \"Dimensions\": {\"Algorithm\": \"Linear Learner\", \"Host\": \"algo-1\", \"Operation\": \"training\", \"epoch\": 8, \"model\": 20}, \"Metrics\": {\"train_binary_classification_cross_entropy_objective\": {\"sum\": 0.38249265307971825, \"count\": 1, \"min\": 0.38249265307971825, \"max\": 0.38249265307971825}}}\u001b[0m\n",
      "\u001b[34m#metrics {\"StartTime\": 1650323708.1590655, \"EndTime\": 1650323708.159083, \"Dimensions\": {\"Algorithm\": \"Linear Learner\", \"Host\": \"algo-1\", \"Operation\": \"training\", \"epoch\": 8, \"model\": 21}, \"Metrics\": {\"train_binary_classification_cross_entropy_objective\": {\"sum\": 0.3838779645680652, \"count\": 1, \"min\": 0.3838779645680652, \"max\": 0.3838779645680652}}}\u001b[0m\n",
      "\u001b[34m#metrics {\"StartTime\": 1650323708.1591542, \"EndTime\": 1650323708.1591723, \"Dimensions\": {\"Algorithm\": \"Linear Learner\", \"Host\": \"algo-1\", \"Operation\": \"training\", \"epoch\": 8, \"model\": 22}, \"Metrics\": {\"train_binary_classification_cross_entropy_objective\": {\"sum\": 0.38249838632472793, \"count\": 1, \"min\": 0.38249838632472793, \"max\": 0.38249838632472793}}}\u001b[0m\n",
      "\u001b[34m#metrics {\"StartTime\": 1650323708.1592414, \"EndTime\": 1650323708.1592588, \"Dimensions\": {\"Algorithm\": \"Linear Learner\", \"Host\": \"algo-1\", \"Operation\": \"training\", \"epoch\": 8, \"model\": 23}, \"Metrics\": {\"train_binary_classification_cross_entropy_objective\": {\"sum\": 0.3838779642880874, \"count\": 1, \"min\": 0.3838779642880874, \"max\": 0.3838779642880874}}}\u001b[0m\n",
      "\u001b[34m#metrics {\"StartTime\": 1650323708.1593282, \"EndTime\": 1650323708.1593478, \"Dimensions\": {\"Algorithm\": \"Linear Learner\", \"Host\": \"algo-1\", \"Operation\": \"training\", \"epoch\": 8, \"model\": 24}, \"Metrics\": {\"train_binary_classification_cross_entropy_objective\": {\"sum\": 0.5121383442776648, \"count\": 1, \"min\": 0.5121383442776648, \"max\": 0.5121383442776648}}}\u001b[0m\n",
      "\u001b[34m#metrics {\"StartTime\": 1650323708.159417, \"EndTime\": 1650323708.1594384, \"Dimensions\": {\"Algorithm\": \"Linear Learner\", \"Host\": \"algo-1\", \"Operation\": \"training\", \"epoch\": 8, \"model\": 25}, \"Metrics\": {\"train_binary_classification_cross_entropy_objective\": {\"sum\": 0.5121844504586782, \"count\": 1, \"min\": 0.5121844504586782, \"max\": 0.5121844504586782}}}\u001b[0m\n",
      "\u001b[34m#metrics {\"StartTime\": 1650323708.159506, \"EndTime\": 1650323708.1595235, \"Dimensions\": {\"Algorithm\": \"Linear Learner\", \"Host\": \"algo-1\", \"Operation\": \"training\", \"epoch\": 8, \"model\": 26}, \"Metrics\": {\"train_binary_classification_cross_entropy_objective\": {\"sum\": 0.5121421199413615, \"count\": 1, \"min\": 0.5121421199413615, \"max\": 0.5121421199413615}}}\u001b[0m\n",
      "\u001b[34m#metrics {\"StartTime\": 1650323708.159577, \"EndTime\": 1650323708.1595922, \"Dimensions\": {\"Algorithm\": \"Linear Learner\", \"Host\": \"algo-1\", \"Operation\": \"training\", \"epoch\": 8, \"model\": 27}, \"Metrics\": {\"train_binary_classification_cross_entropy_objective\": {\"sum\": 0.5121844502953579, \"count\": 1, \"min\": 0.5121844502953579, \"max\": 0.5121844502953579}}}\u001b[0m\n",
      "\u001b[34m#metrics {\"StartTime\": 1650323708.159644, \"EndTime\": 1650323708.1596591, \"Dimensions\": {\"Algorithm\": \"Linear Learner\", \"Host\": \"algo-1\", \"Operation\": \"training\", \"epoch\": 8, \"model\": 28}, \"Metrics\": {\"train_binary_classification_cross_entropy_objective\": {\"sum\": 0.5121383485706574, \"count\": 1, \"min\": 0.5121383485706574, \"max\": 0.5121383485706574}}}\u001b[0m\n",
      "\u001b[34m#metrics {\"StartTime\": 1650323708.159709, \"EndTime\": 1650323708.1597245, \"Dimensions\": {\"Algorithm\": \"Linear Learner\", \"Host\": \"algo-1\", \"Operation\": \"training\", \"epoch\": 8, \"model\": 29}, \"Metrics\": {\"train_binary_classification_cross_entropy_objective\": {\"sum\": 0.5127468636189032, \"count\": 1, \"min\": 0.5127468636189032, \"max\": 0.5127468636189032}}}\u001b[0m\n",
      "\u001b[34m#metrics {\"StartTime\": 1650323708.1597853, \"EndTime\": 1650323708.1597998, \"Dimensions\": {\"Algorithm\": \"Linear Learner\", \"Host\": \"algo-1\", \"Operation\": \"training\", \"epoch\": 8, \"model\": 30}, \"Metrics\": {\"train_binary_classification_cross_entropy_objective\": {\"sum\": 0.5121421129185855, \"count\": 1, \"min\": 0.5121421129185855, \"max\": 0.5121421129185855}}}\u001b[0m\n",
      "\u001b[34m#metrics {\"StartTime\": 1650323708.1598635, \"EndTime\": 1650323708.1598806, \"Dimensions\": {\"Algorithm\": \"Linear Learner\", \"Host\": \"algo-1\", \"Operation\": \"training\", \"epoch\": 8, \"model\": 31}, \"Metrics\": {\"train_binary_classification_cross_entropy_objective\": {\"sum\": 0.5127468613090865, \"count\": 1, \"min\": 0.5127468613090865, \"max\": 0.5127468613090865}}}\u001b[0m\n",
      "\u001b[34m[04/18/2022 23:15:08 INFO 140493168445248] #quality_metric: host=algo-1, epoch=8, train binary_classification_cross_entropy_objective <loss>=0.02053371638260121\u001b[0m\n",
      "\u001b[34m[2022-04-18 23:15:13.776] [tensorio] [info] epoch_stats={\"data_pipeline\": \"/opt/ml/input/data/validation\", \"epoch\": 26, \"duration\": 5589, \"num_examples\": 164, \"num_bytes\": 70003252}\u001b[0m\n",
      "\u001b[34m#metrics {\"StartTime\": 1650323715.8799286, \"EndTime\": 1650323715.8799949, \"Dimensions\": {\"Algorithm\": \"Linear Learner\", \"Host\": \"algo-1\", \"Operation\": \"training\", \"epoch\": 8, \"model\": 0}, \"Metrics\": {\"validation_binary_classification_cross_entropy_objective\": {\"sum\": 0.020370028283799402, \"count\": 1, \"min\": 0.020370028283799402, \"max\": 0.020370028283799402}}}\u001b[0m\n",
      "\u001b[34m#metrics {\"StartTime\": 1650323715.8800862, \"EndTime\": 1650323715.8801022, \"Dimensions\": {\"Algorithm\": \"Linear Learner\", \"Host\": \"algo-1\", \"Operation\": \"training\", \"epoch\": 8, \"model\": 1}, \"Metrics\": {\"validation_binary_classification_cross_entropy_objective\": {\"sum\": 0.0004986419127033069, \"count\": 1, \"min\": 0.0004986419127033069, \"max\": 0.0004986419127033069}}}\u001b[0m\n",
      "\u001b[34m#metrics {\"StartTime\": 1650323715.8801515, \"EndTime\": 1650323715.8801682, \"Dimensions\": {\"Algorithm\": \"Linear Learner\", \"Host\": \"algo-1\", \"Operation\": \"training\", \"epoch\": 8, \"model\": 2}, \"Metrics\": {\"validation_binary_classification_cross_entropy_objective\": {\"sum\": 0.010721124013925795, \"count\": 1, \"min\": 0.010721124013925795, \"max\": 0.010721124013925795}}}\u001b[0m\n",
      "\u001b[34m#metrics {\"StartTime\": 1650323715.8802025, \"EndTime\": 1650323715.8802114, \"Dimensions\": {\"Algorithm\": \"Linear Learner\", \"Host\": \"algo-1\", \"Operation\": \"training\", \"epoch\": 8, \"model\": 3}, \"Metrics\": {\"validation_binary_classification_cross_entropy_objective\": {\"sum\": 0.0004987896291562658, \"count\": 1, \"min\": 0.0004987896291562658, \"max\": 0.0004987896291562658}}}\u001b[0m\n",
      "\u001b[34m#metrics {\"StartTime\": 1650323715.8802457, \"EndTime\": 1650323715.88026, \"Dimensions\": {\"Algorithm\": \"Linear Learner\", \"Host\": \"algo-1\", \"Operation\": \"training\", \"epoch\": 8, \"model\": 4}, \"Metrics\": {\"validation_binary_classification_cross_entropy_objective\": {\"sum\": 0.0005145478485033768, \"count\": 1, \"min\": 0.0005145478485033768, \"max\": 0.0005145478485033768}}}\u001b[0m\n",
      "\u001b[34m#metrics {\"StartTime\": 1650323715.8803082, \"EndTime\": 1650323715.8803189, \"Dimensions\": {\"Algorithm\": \"Linear Learner\", \"Host\": \"algo-1\", \"Operation\": \"training\", \"epoch\": 8, \"model\": 5}, \"Metrics\": {\"validation_binary_classification_cross_entropy_objective\": {\"sum\": 0.0004863768413489172, \"count\": 1, \"min\": 0.0004863768413489172, \"max\": 0.0004863768413489172}}}\u001b[0m\n",
      "\u001b[34m#metrics {\"StartTime\": 1650323715.8803477, \"EndTime\": 1650323715.8803556, \"Dimensions\": {\"Algorithm\": \"Linear Learner\", \"Host\": \"algo-1\", \"Operation\": \"training\", \"epoch\": 8, \"model\": 6}, \"Metrics\": {\"validation_binary_classification_cross_entropy_objective\": {\"sum\": 0.0005020775540338766, \"count\": 1, \"min\": 0.0005020775540338766, \"max\": 0.0005020775540338766}}}\u001b[0m\n",
      "\u001b[34m#metrics {\"StartTime\": 1650323715.8803859, \"EndTime\": 1650323715.8803995, \"Dimensions\": {\"Algorithm\": \"Linear Learner\", \"Host\": \"algo-1\", \"Operation\": \"training\", \"epoch\": 8, \"model\": 7}, \"Metrics\": {\"validation_binary_classification_cross_entropy_objective\": {\"sum\": 0.00048620563000508925, \"count\": 1, \"min\": 0.00048620563000508925, \"max\": 0.00048620563000508925}}}\u001b[0m\n",
      "\u001b[34m#metrics {\"StartTime\": 1650323715.8804383, \"EndTime\": 1650323715.8804474, \"Dimensions\": {\"Algorithm\": \"Linear Learner\", \"Host\": \"algo-1\", \"Operation\": \"training\", \"epoch\": 8, \"model\": 8}, \"Metrics\": {\"validation_binary_classification_cross_entropy_objective\": {\"sum\": 0.030109587285888886, \"count\": 1, \"min\": 0.030109587285888886, \"max\": 0.030109587285888886}}}\u001b[0m\n",
      "\u001b[34m#metrics {\"StartTime\": 1650323715.880474, \"EndTime\": 1650323715.8804815, \"Dimensions\": {\"Algorithm\": \"Linear Learner\", \"Host\": \"algo-1\", \"Operation\": \"training\", \"epoch\": 8, \"model\": 9}, \"Metrics\": {\"validation_binary_classification_cross_entropy_objective\": {\"sum\": 0.023891255649719674, \"count\": 1, \"min\": 0.023891255649719674, \"max\": 0.023891255649719674}}}\u001b[0m\n",
      "\u001b[34m#metrics {\"StartTime\": 1650323715.8805108, \"EndTime\": 1650323715.8805258, \"Dimensions\": {\"Algorithm\": \"Linear Learner\", \"Host\": \"algo-1\", \"Operation\": \"training\", \"epoch\": 8, \"model\": 10}, \"Metrics\": {\"validation_binary_classification_cross_entropy_objective\": {\"sum\": 0.023919791571925263, \"count\": 1, \"min\": 0.023919791571925263, \"max\": 0.023919791571925263}}}\u001b[0m\n",
      "\u001b[34m#metrics {\"StartTime\": 1650323715.8805647, \"EndTime\": 1650323715.880574, \"Dimensions\": {\"Algorithm\": \"Linear Learner\", \"Host\": \"algo-1\", \"Operation\": \"training\", \"epoch\": 8, \"model\": 11}, \"Metrics\": {\"validation_binary_classification_cross_entropy_objective\": {\"sum\": 0.02389052881553805, \"count\": 1, \"min\": 0.02389052881553805, \"max\": 0.02389052881553805}}}\u001b[0m\n",
      "\u001b[34m#metrics {\"StartTime\": 1650323715.8806002, \"EndTime\": 1650323715.880608, \"Dimensions\": {\"Algorithm\": \"Linear Learner\", \"Host\": \"algo-1\", \"Operation\": \"training\", \"epoch\": 8, \"model\": 12}, \"Metrics\": {\"validation_binary_classification_cross_entropy_objective\": {\"sum\": 0.02389761454358237, \"count\": 1, \"min\": 0.02389761454358237, \"max\": 0.02389761454358237}}}\u001b[0m\n",
      "\u001b[34m#metrics {\"StartTime\": 1650323715.8806329, \"EndTime\": 1650323715.8806405, \"Dimensions\": {\"Algorithm\": \"Linear Learner\", \"Host\": \"algo-1\", \"Operation\": \"training\", \"epoch\": 8, \"model\": 13}, \"Metrics\": {\"validation_binary_classification_cross_entropy_objective\": {\"sum\": 0.02341794089246414, \"count\": 1, \"min\": 0.02341794089246414, \"max\": 0.02341794089246414}}}\u001b[0m\n",
      "\u001b[34m#metrics {\"StartTime\": 1650323715.8806667, \"EndTime\": 1650323715.8806744, \"Dimensions\": {\"Algorithm\": \"Linear Learner\", \"Host\": \"algo-1\", \"Operation\": \"training\", \"epoch\": 8, \"model\": 14}, \"Metrics\": {\"validation_binary_classification_cross_entropy_objective\": {\"sum\": 0.02391359223698423, \"count\": 1, \"min\": 0.02391359223698423, \"max\": 0.02391359223698423}}}\u001b[0m\n",
      "\u001b[34m#metrics {\"StartTime\": 1650323715.8807068, \"EndTime\": 1650323715.880721, \"Dimensions\": {\"Algorithm\": \"Linear Learner\", \"Host\": \"algo-1\", \"Operation\": \"training\", \"epoch\": 8, \"model\": 15}, \"Metrics\": {\"validation_binary_classification_cross_entropy_objective\": {\"sum\": 0.023417907517157447, \"count\": 1, \"min\": 0.023417907517157447, \"max\": 0.023417907517157447}}}\u001b[0m\n",
      "\u001b[34m#metrics {\"StartTime\": 1650323715.8807726, \"EndTime\": 1650323715.8807902, \"Dimensions\": {\"Algorithm\": \"Linear Learner\", \"Host\": \"algo-1\", \"Operation\": \"training\", \"epoch\": 8, \"model\": 16}, \"Metrics\": {\"validation_binary_classification_cross_entropy_objective\": {\"sum\": 0.38254988498825465, \"count\": 1, \"min\": 0.38254988498825465, \"max\": 0.38254988498825465}}}\u001b[0m\n",
      "\u001b[34m#metrics {\"StartTime\": 1650323715.8808444, \"EndTime\": 1650323715.880872, \"Dimensions\": {\"Algorithm\": \"Linear Learner\", \"Host\": \"algo-1\", \"Operation\": \"training\", \"epoch\": 8, \"model\": 17}, \"Metrics\": {\"validation_binary_classification_cross_entropy_objective\": {\"sum\": 0.3820766097985797, \"count\": 1, \"min\": 0.3820766097985797, \"max\": 0.3820766097985797}}}\u001b[0m\n",
      "\u001b[34m#metrics {\"StartTime\": 1650323715.8809254, \"EndTime\": 1650323715.880942, \"Dimensions\": {\"Algorithm\": \"Linear Learner\", \"Host\": \"algo-1\", \"Operation\": \"training\", \"epoch\": 8, \"model\": 18}, \"Metrics\": {\"validation_binary_classification_cross_entropy_objective\": {\"sum\": 0.3827289172235583, \"count\": 1, \"min\": 0.3827289172235583, \"max\": 0.3827289172235583}}}\u001b[0m\n",
      "\u001b[34m#metrics {\"StartTime\": 1650323715.8809953, \"EndTime\": 1650323715.8810124, \"Dimensions\": {\"Algorithm\": \"Linear Learner\", \"Host\": \"algo-1\", \"Operation\": \"training\", \"epoch\": 8, \"model\": 19}, \"Metrics\": {\"validation_binary_classification_cross_entropy_objective\": {\"sum\": 0.38207655699515947, \"count\": 1, \"min\": 0.38207655699515947, \"max\": 0.38207655699515947}}}\u001b[0m\n",
      "\u001b[34m#metrics {\"StartTime\": 1650323715.8810673, \"EndTime\": 1650323715.8810837, \"Dimensions\": {\"Algorithm\": \"Linear Learner\", \"Host\": \"algo-1\", \"Operation\": \"training\", \"epoch\": 8, \"model\": 20}, \"Metrics\": {\"validation_binary_classification_cross_entropy_objective\": {\"sum\": 0.3825502882907028, \"count\": 1, \"min\": 0.3825502882907028, \"max\": 0.3825502882907028}}}\u001b[0m\n",
      "\u001b[34m#metrics {\"StartTime\": 1650323715.8811376, \"EndTime\": 1650323715.881154, \"Dimensions\": {\"Algorithm\": \"Linear Learner\", \"Host\": \"algo-1\", \"Operation\": \"training\", \"epoch\": 8, \"model\": 21}, \"Metrics\": {\"validation_binary_classification_cross_entropy_objective\": {\"sum\": 0.38999945532618985, \"count\": 1, \"min\": 0.38999945532618985, \"max\": 0.38999945532618985}}}\u001b[0m\n",
      "\u001b[34m#metrics {\"StartTime\": 1650323715.8812072, \"EndTime\": 1650323715.8812246, \"Dimensions\": {\"Algorithm\": \"Linear Learner\", \"Host\": \"algo-1\", \"Operation\": \"training\", \"epoch\": 8, \"model\": 22}, \"Metrics\": {\"validation_binary_classification_cross_entropy_objective\": {\"sum\": 0.3827289232875553, \"count\": 1, \"min\": 0.3827289232875553, \"max\": 0.3827289232875553}}}\u001b[0m\n",
      "\u001b[34m#metrics {\"StartTime\": 1650323715.881277, \"EndTime\": 1650323715.8812938, \"Dimensions\": {\"Algorithm\": \"Linear Learner\", \"Host\": \"algo-1\", \"Operation\": \"training\", \"epoch\": 8, \"model\": 23}, \"Metrics\": {\"validation_binary_classification_cross_entropy_objective\": {\"sum\": 0.389999440772597, \"count\": 1, \"min\": 0.389999440772597, \"max\": 0.389999440772597}}}\u001b[0m\n",
      "\u001b[34m#metrics {\"StartTime\": 1650323715.8813486, \"EndTime\": 1650323715.8813648, \"Dimensions\": {\"Algorithm\": \"Linear Learner\", \"Host\": \"algo-1\", \"Operation\": \"training\", \"epoch\": 8, \"model\": 24}, \"Metrics\": {\"validation_binary_classification_cross_entropy_objective\": {\"sum\": 0.5121435316853599, \"count\": 1, \"min\": 0.5121435316853599, \"max\": 0.5121435316853599}}}\u001b[0m\n",
      "\u001b[34m#metrics {\"StartTime\": 1650323715.8814151, \"EndTime\": 1650323715.8814297, \"Dimensions\": {\"Algorithm\": \"Linear Learner\", \"Host\": \"algo-1\", \"Operation\": \"training\", \"epoch\": 8, \"model\": 25}, \"Metrics\": {\"validation_binary_classification_cross_entropy_objective\": {\"sum\": 0.5121873426644662, \"count\": 1, \"min\": 0.5121873426644662, \"max\": 0.5121873426644662}}}\u001b[0m\n",
      "\u001b[34m#metrics {\"StartTime\": 1650323715.8814778, \"EndTime\": 1650323715.8814924, \"Dimensions\": {\"Algorithm\": \"Linear Learner\", \"Host\": \"algo-1\", \"Operation\": \"training\", \"epoch\": 8, \"model\": 26}, \"Metrics\": {\"validation_binary_classification_cross_entropy_objective\": {\"sum\": 0.5120393260946738, \"count\": 1, \"min\": 0.5120393260946738, \"max\": 0.5120393260946738}}}\u001b[0m\n",
      "\u001b[34m#metrics {\"StartTime\": 1650323715.8815427, \"EndTime\": 1650323715.881558, \"Dimensions\": {\"Algorithm\": \"Linear Learner\", \"Host\": \"algo-1\", \"Operation\": \"training\", \"epoch\": 8, \"model\": 27}, \"Metrics\": {\"validation_binary_classification_cross_entropy_objective\": {\"sum\": 0.5121873400522828, \"count\": 1, \"min\": 0.5121873400522828, \"max\": 0.5121873400522828}}}\u001b[0m\n",
      "\u001b[34m#metrics {\"StartTime\": 1650323715.8816056, \"EndTime\": 1650323715.8816187, \"Dimensions\": {\"Algorithm\": \"Linear Learner\", \"Host\": \"algo-1\", \"Operation\": \"training\", \"epoch\": 8, \"model\": 28}, \"Metrics\": {\"validation_binary_classification_cross_entropy_objective\": {\"sum\": 0.5121435130269075, \"count\": 1, \"min\": 0.5121435130269075, \"max\": 0.5121435130269075}}}\u001b[0m\n",
      "\u001b[34m#metrics {\"StartTime\": 1650323715.8816638, \"EndTime\": 1650323715.88168, \"Dimensions\": {\"Algorithm\": \"Linear Learner\", \"Host\": \"algo-1\", \"Operation\": \"training\", \"epoch\": 8, \"model\": 29}, \"Metrics\": {\"validation_binary_classification_cross_entropy_objective\": {\"sum\": 0.5130111036345615, \"count\": 1, \"min\": 0.5130111036345615, \"max\": 0.5130111036345615}}}\u001b[0m\n",
      "\u001b[34m#metrics {\"StartTime\": 1650323715.881732, \"EndTime\": 1650323715.8817494, \"Dimensions\": {\"Algorithm\": \"Linear Learner\", \"Host\": \"algo-1\", \"Operation\": \"training\", \"epoch\": 8, \"model\": 30}, \"Metrics\": {\"validation_binary_classification_cross_entropy_objective\": {\"sum\": 0.5120393490445702, \"count\": 1, \"min\": 0.5120393490445702, \"max\": 0.5120393490445702}}}\u001b[0m\n",
      "\u001b[34m#metrics {\"StartTime\": 1650323715.8818028, \"EndTime\": 1650323715.8818212, \"Dimensions\": {\"Algorithm\": \"Linear Learner\", \"Host\": \"algo-1\", \"Operation\": \"training\", \"epoch\": 8, \"model\": 31}, \"Metrics\": {\"validation_binary_classification_cross_entropy_objective\": {\"sum\": 0.5130111082991745, \"count\": 1, \"min\": 0.5130111082991745, \"max\": 0.5130111082991745}}}\u001b[0m\n",
      "\u001b[34m[04/18/2022 23:15:15 INFO 140493168445248] #quality_metric: host=algo-1, epoch=8, validation binary_classification_cross_entropy_objective <loss>=0.020370028283799402\u001b[0m\n",
      "\u001b[34m[04/18/2022 23:15:15 INFO 140493168445248] #early_stopping_criteria_metric: host=algo-1, epoch=8, criteria=sampled_accuracy, value=0.9995781338844086\u001b[0m\n",
      "\u001b[34m[04/18/2022 23:15:15 INFO 140493168445248] Epoch 8: Loss improved. Updating best model\u001b[0m\n",
      "\u001b[34m[04/18/2022 23:15:15 INFO 140493168445248] Saving model for epoch: 8\u001b[0m\n",
      "\u001b[34m[04/18/2022 23:15:15 INFO 140493168445248] Saved checkpoint to \"/tmp/tmpscxiq0rr/mx-mod-0000.params\"\u001b[0m\n",
      "\u001b[34m[04/18/2022 23:15:15 INFO 140493168445248] #progress_metric: host=algo-1, completed 60.0 % of epochs\u001b[0m\n",
      "\u001b[34m#metrics {\"StartTime\": 1650323648.2241066, \"EndTime\": 1650323715.889905, \"Dimensions\": {\"Algorithm\": \"Linear Learner\", \"Host\": \"algo-1\", \"Operation\": \"training\", \"epoch\": 8, \"Meta\": \"training_data_iter\"}, \"Metrics\": {\"Total Records Seen\": {\"sum\": 11788248.0, \"count\": 1, \"min\": 11788248, \"max\": 11788248}, \"Total Batches Seen\": {\"sum\": 11793.0, \"count\": 1, \"min\": 11793, \"max\": 11793}, \"Max Records Seen Between Resets\": {\"sum\": 1308472.0, \"count\": 1, \"min\": 1308472, \"max\": 1308472}, \"Max Batches Seen Between Resets\": {\"sum\": 1309.0, \"count\": 1, \"min\": 1309, \"max\": 1309}, \"Reset Count\": {\"sum\": 11.0, \"count\": 1, \"min\": 11, \"max\": 11}, \"Number of Records Since Last Reset\": {\"sum\": 1308472.0, \"count\": 1, \"min\": 1308472, \"max\": 1308472}, \"Number of Batches Since Last Reset\": {\"sum\": 1309.0, \"count\": 1, \"min\": 1309, \"max\": 1309}}}\u001b[0m\n",
      "\u001b[34m[04/18/2022 23:15:15 INFO 140493168445248] #throughput_metric: host=algo-1, train throughput=19337.22900779123 records/second\u001b[0m\n",
      "\u001b[34m[2022-04-18 23:16:15.672] [tensorio] [info] epoch_stats={\"data_pipeline\": \"/opt/ml/input/data/train\", \"epoch\": 21, \"duration\": 59782, \"num_examples\": 1309, \"num_bytes\": 560026016}\u001b[0m\n",
      "\u001b[34m#metrics {\"StartTime\": 1650323775.672837, \"EndTime\": 1650323775.6729686, \"Dimensions\": {\"Algorithm\": \"Linear Learner\", \"Host\": \"algo-1\", \"Operation\": \"training\", \"epoch\": 9, \"model\": 0}, \"Metrics\": {\"train_binary_classification_cross_entropy_objective\": {\"sum\": 0.020218592346261402, \"count\": 1, \"min\": 0.020218592346261402, \"max\": 0.020218592346261402}}}\u001b[0m\n",
      "\u001b[34m#metrics {\"StartTime\": 1650323775.6731563, \"EndTime\": 1650323775.6731877, \"Dimensions\": {\"Algorithm\": \"Linear Learner\", \"Host\": \"algo-1\", \"Operation\": \"training\", \"epoch\": 9, \"model\": 1}, \"Metrics\": {\"train_binary_classification_cross_entropy_objective\": {\"sum\": 0.0004973887365072146, \"count\": 1, \"min\": 0.0004973887365072146, \"max\": 0.0004973887365072146}}}\u001b[0m\n",
      "\u001b[34m#metrics {\"StartTime\": 1650323775.67326, \"EndTime\": 1650323775.6732779, \"Dimensions\": {\"Algorithm\": \"Linear Learner\", \"Host\": \"algo-1\", \"Operation\": \"training\", \"epoch\": 9, \"model\": 2}, \"Metrics\": {\"train_binary_classification_cross_entropy_objective\": {\"sum\": 0.010009164616966831, \"count\": 1, \"min\": 0.010009164616966831, \"max\": 0.010009164616966831}}}\u001b[0m\n",
      "\u001b[34m#metrics {\"StartTime\": 1650323775.6733375, \"EndTime\": 1650323775.6733549, \"Dimensions\": {\"Algorithm\": \"Linear Learner\", \"Host\": \"algo-1\", \"Operation\": \"training\", \"epoch\": 9, \"model\": 3}, \"Metrics\": {\"train_binary_classification_cross_entropy_objective\": {\"sum\": 0.0004974354483893523, \"count\": 1, \"min\": 0.0004974354483893523, \"max\": 0.0004974354483893523}}}\u001b[0m\n",
      "\u001b[34m#metrics {\"StartTime\": 1650323775.6734152, \"EndTime\": 1650323775.6734366, \"Dimensions\": {\"Algorithm\": \"Linear Learner\", \"Host\": \"algo-1\", \"Operation\": \"training\", \"epoch\": 9, \"model\": 4}, \"Metrics\": {\"train_binary_classification_cross_entropy_objective\": {\"sum\": 0.0005136058076031346, \"count\": 1, \"min\": 0.0005136058076031346, \"max\": 0.0005136058076031346}}}\u001b[0m\n",
      "\u001b[34m#metrics {\"StartTime\": 1650323775.673495, \"EndTime\": 1650323775.6735137, \"Dimensions\": {\"Algorithm\": \"Linear Learner\", \"Host\": \"algo-1\", \"Operation\": \"training\", \"epoch\": 9, \"model\": 5}, \"Metrics\": {\"train_binary_classification_cross_entropy_objective\": {\"sum\": 0.0004981218396432538, \"count\": 1, \"min\": 0.0004981218396432538, \"max\": 0.0004981218396432538}}}\u001b[0m\n",
      "\u001b[34m#metrics {\"StartTime\": 1650323775.6735725, \"EndTime\": 1650323775.6735902, \"Dimensions\": {\"Algorithm\": \"Linear Learner\", \"Host\": \"algo-1\", \"Operation\": \"training\", \"epoch\": 9, \"model\": 6}, \"Metrics\": {\"train_binary_classification_cross_entropy_objective\": {\"sum\": 0.0004999285308182786, \"count\": 1, \"min\": 0.0004999285308182786, \"max\": 0.0004999285308182786}}}\u001b[0m\n",
      "\u001b[34m#metrics {\"StartTime\": 1650323775.673648, \"EndTime\": 1650323775.6736653, \"Dimensions\": {\"Algorithm\": \"Linear Learner\", \"Host\": \"algo-1\", \"Operation\": \"training\", \"epoch\": 9, \"model\": 7}, \"Metrics\": {\"train_binary_classification_cross_entropy_objective\": {\"sum\": 0.0004981222357316119, \"count\": 1, \"min\": 0.0004981222357316119, \"max\": 0.0004981222357316119}}}\u001b[0m\n",
      "\u001b[34m#metrics {\"StartTime\": 1650323775.6737165, \"EndTime\": 1650323775.6737304, \"Dimensions\": {\"Algorithm\": \"Linear Learner\", \"Host\": \"algo-1\", \"Operation\": \"training\", \"epoch\": 9, \"model\": 8}, \"Metrics\": {\"train_binary_classification_cross_entropy_objective\": {\"sum\": 0.029894963722345663, \"count\": 1, \"min\": 0.029894963722345663, \"max\": 0.029894963722345663}}}\u001b[0m\n",
      "\u001b[34m#metrics {\"StartTime\": 1650323775.6737802, \"EndTime\": 1650323775.6737947, \"Dimensions\": {\"Algorithm\": \"Linear Learner\", \"Host\": \"algo-1\", \"Operation\": \"training\", \"epoch\": 9, \"model\": 9}, \"Metrics\": {\"train_binary_classification_cross_entropy_objective\": {\"sum\": 0.023902928253197158, \"count\": 1, \"min\": 0.023902928253197158, \"max\": 0.023902928253197158}}}\u001b[0m\n",
      "\u001b[34m#metrics {\"StartTime\": 1650323775.673842, \"EndTime\": 1650323775.6738567, \"Dimensions\": {\"Algorithm\": \"Linear Learner\", \"Host\": \"algo-1\", \"Operation\": \"training\", \"epoch\": 9, \"model\": 10}, \"Metrics\": {\"train_binary_classification_cross_entropy_objective\": {\"sum\": 0.023900142926324034, \"count\": 1, \"min\": 0.023900142926324034, \"max\": 0.023900142926324034}}}\u001b[0m\n",
      "\u001b[34m#metrics {\"StartTime\": 1650323775.673895, \"EndTime\": 1650323775.6739044, \"Dimensions\": {\"Algorithm\": \"Linear Learner\", \"Host\": \"algo-1\", \"Operation\": \"training\", \"epoch\": 9, \"model\": 11}, \"Metrics\": {\"train_binary_classification_cross_entropy_objective\": {\"sum\": 0.02390292437433832, \"count\": 1, \"min\": 0.02390292437433832, \"max\": 0.02390292437433832}}}\u001b[0m\n",
      "\u001b[34m#metrics {\"StartTime\": 1650323775.6739295, \"EndTime\": 1650323775.673937, \"Dimensions\": {\"Algorithm\": \"Linear Learner\", \"Host\": \"algo-1\", \"Operation\": \"training\", \"epoch\": 9, \"model\": 12}, \"Metrics\": {\"train_binary_classification_cross_entropy_objective\": {\"sum\": 0.023896166368362007, \"count\": 1, \"min\": 0.023896166368362007, \"max\": 0.023896166368362007}}}\u001b[0m\n",
      "\u001b[34m#metrics {\"StartTime\": 1650323775.6739647, \"EndTime\": 1650323775.6739783, \"Dimensions\": {\"Algorithm\": \"Linear Learner\", \"Host\": \"algo-1\", \"Operation\": \"training\", \"epoch\": 9, \"model\": 13}, \"Metrics\": {\"train_binary_classification_cross_entropy_objective\": {\"sum\": 0.024004134634583733, \"count\": 1, \"min\": 0.024004134634583733, \"max\": 0.024004134634583733}}}\u001b[0m\n",
      "\u001b[34m#metrics {\"StartTime\": 1650323775.6740181, \"EndTime\": 1650323775.6740277, \"Dimensions\": {\"Algorithm\": \"Linear Learner\", \"Host\": \"algo-1\", \"Operation\": \"training\", \"epoch\": 9, \"model\": 14}, \"Metrics\": {\"train_binary_classification_cross_entropy_objective\": {\"sum\": 0.023897121376947526, \"count\": 1, \"min\": 0.023897121376947526, \"max\": 0.023897121376947526}}}\u001b[0m\n",
      "\u001b[34m#metrics {\"StartTime\": 1650323775.6740537, \"EndTime\": 1650323775.6740608, \"Dimensions\": {\"Algorithm\": \"Linear Learner\", \"Host\": \"algo-1\", \"Operation\": \"training\", \"epoch\": 9, \"model\": 15}, \"Metrics\": {\"train_binary_classification_cross_entropy_objective\": {\"sum\": 0.02400413455583998, \"count\": 1, \"min\": 0.02400413455583998, \"max\": 0.02400413455583998}}}\u001b[0m\n",
      "\u001b[34m#metrics {\"StartTime\": 1650323775.6740851, \"EndTime\": 1650323775.6740925, \"Dimensions\": {\"Algorithm\": \"Linear Learner\", \"Host\": \"algo-1\", \"Operation\": \"training\", \"epoch\": 9, \"model\": 16}, \"Metrics\": {\"train_binary_classification_cross_entropy_objective\": {\"sum\": 0.3824919318102915, \"count\": 1, \"min\": 0.3824919318102915, \"max\": 0.3824919318102915}}}\u001b[0m\n",
      "\u001b[34m#metrics {\"StartTime\": 1650323775.674117, \"EndTime\": 1650323775.6741242, \"Dimensions\": {\"Algorithm\": \"Linear Learner\", \"Host\": \"algo-1\", \"Operation\": \"training\", \"epoch\": 9, \"model\": 17}, \"Metrics\": {\"train_binary_classification_cross_entropy_objective\": {\"sum\": 0.38257745694968315, \"count\": 1, \"min\": 0.38257745694968315, \"max\": 0.38257745694968315}}}\u001b[0m\n",
      "\u001b[34m#metrics {\"StartTime\": 1650323775.674201, \"EndTime\": 1650323775.6742117, \"Dimensions\": {\"Algorithm\": \"Linear Learner\", \"Host\": \"algo-1\", \"Operation\": \"training\", \"epoch\": 9, \"model\": 18}, \"Metrics\": {\"train_binary_classification_cross_entropy_objective\": {\"sum\": 0.3824983794652723, \"count\": 1, \"min\": 0.3824983794652723, \"max\": 0.3824983794652723}}}\u001b[0m\n",
      "\u001b[34m#metrics {\"StartTime\": 1650323775.6742654, \"EndTime\": 1650323775.6742804, \"Dimensions\": {\"Algorithm\": \"Linear Learner\", \"Host\": \"algo-1\", \"Operation\": \"training\", \"epoch\": 9, \"model\": 19}, \"Metrics\": {\"train_binary_classification_cross_entropy_objective\": {\"sum\": 0.38257745739298127, \"count\": 1, \"min\": 0.38257745739298127, \"max\": 0.38257745739298127}}}\u001b[0m\n",
      "\u001b[34m#metrics {\"StartTime\": 1650323775.6743364, \"EndTime\": 1650323775.6743507, \"Dimensions\": {\"Algorithm\": \"Linear Learner\", \"Host\": \"algo-1\", \"Operation\": \"training\", \"epoch\": 9, \"model\": 20}, \"Metrics\": {\"train_binary_classification_cross_entropy_objective\": {\"sum\": 0.382492200285652, \"count\": 1, \"min\": 0.382492200285652, \"max\": 0.382492200285652}}}\u001b[0m\n",
      "\u001b[34m#metrics {\"StartTime\": 1650323775.6744146, \"EndTime\": 1650323775.6744301, \"Dimensions\": {\"Algorithm\": \"Linear Learner\", \"Host\": \"algo-1\", \"Operation\": \"training\", \"epoch\": 9, \"model\": 21}, \"Metrics\": {\"train_binary_classification_cross_entropy_objective\": {\"sum\": 0.3837423985799154, \"count\": 1, \"min\": 0.3837423985799154, \"max\": 0.3837423985799154}}}\u001b[0m\n",
      "\u001b[34m#metrics {\"StartTime\": 1650323775.6744852, \"EndTime\": 1650323775.6745036, \"Dimensions\": {\"Algorithm\": \"Linear Learner\", \"Host\": \"algo-1\", \"Operation\": \"training\", \"epoch\": 9, \"model\": 22}, \"Metrics\": {\"train_binary_classification_cross_entropy_objective\": {\"sum\": 0.38249837636218526, \"count\": 1, \"min\": 0.38249837636218526, \"max\": 0.38249837636218526}}}\u001b[0m\n",
      "\u001b[34m#metrics {\"StartTime\": 1650323775.6745725, \"EndTime\": 1650323775.6745894, \"Dimensions\": {\"Algorithm\": \"Linear Learner\", \"Host\": \"algo-1\", \"Operation\": \"training\", \"epoch\": 9, \"model\": 23}, \"Metrics\": {\"train_binary_classification_cross_entropy_objective\": {\"sum\": 0.38374239874323574, \"count\": 1, \"min\": 0.38374239874323574, \"max\": 0.38374239874323574}}}\u001b[0m\n",
      "\u001b[34m#metrics {\"StartTime\": 1650323775.6746452, \"EndTime\": 1650323775.6746624, \"Dimensions\": {\"Algorithm\": \"Linear Learner\", \"Host\": \"algo-1\", \"Operation\": \"training\", \"epoch\": 9, \"model\": 24}, \"Metrics\": {\"train_binary_classification_cross_entropy_objective\": {\"sum\": 0.5121383439043611, \"count\": 1, \"min\": 0.5121383439043611, \"max\": 0.5121383439043611}}}\u001b[0m\n",
      "\u001b[34m#metrics {\"StartTime\": 1650323775.67473, \"EndTime\": 1650323775.6747477, \"Dimensions\": {\"Algorithm\": \"Linear Learner\", \"Host\": \"algo-1\", \"Operation\": \"training\", \"epoch\": 9, \"model\": 25}, \"Metrics\": {\"train_binary_classification_cross_entropy_objective\": {\"sum\": 0.5121776102281856, \"count\": 1, \"min\": 0.5121776102281856, \"max\": 0.5121776102281856}}}\u001b[0m\n",
      "\u001b[34m#metrics {\"StartTime\": 1650323775.6748145, \"EndTime\": 1650323775.6748326, \"Dimensions\": {\"Algorithm\": \"Linear Learner\", \"Host\": \"algo-1\", \"Operation\": \"training\", \"epoch\": 9, \"model\": 26}, \"Metrics\": {\"train_binary_classification_cross_entropy_objective\": {\"sum\": 0.5121421227178078, \"count\": 1, \"min\": 0.5121421227178078, \"max\": 0.5121421227178078}}}\u001b[0m\n",
      "\u001b[34m#metrics {\"StartTime\": 1650323775.674908, \"EndTime\": 1650323775.6749232, \"Dimensions\": {\"Algorithm\": \"Linear Learner\", \"Host\": \"algo-1\", \"Operation\": \"training\", \"epoch\": 9, \"model\": 27}, \"Metrics\": {\"train_binary_classification_cross_entropy_objective\": {\"sum\": 0.5121776096682301, \"count\": 1, \"min\": 0.5121776096682301, \"max\": 0.5121776096682301}}}\u001b[0m\n",
      "\u001b[34m#metrics {\"StartTime\": 1650323775.6749735, \"EndTime\": 1650323775.674988, \"Dimensions\": {\"Algorithm\": \"Linear Learner\", \"Host\": \"algo-1\", \"Operation\": \"training\", \"epoch\": 9, \"model\": 28}, \"Metrics\": {\"train_binary_classification_cross_entropy_objective\": {\"sum\": 0.5121383448142889, \"count\": 1, \"min\": 0.5121383448142889, \"max\": 0.5121383448142889}}}\u001b[0m\n",
      "\u001b[34m#metrics {\"StartTime\": 1650323775.6750505, \"EndTime\": 1650323775.675067, \"Dimensions\": {\"Algorithm\": \"Linear Learner\", \"Host\": \"algo-1\", \"Operation\": \"training\", \"epoch\": 9, \"model\": 29}, \"Metrics\": {\"train_binary_classification_cross_entropy_objective\": {\"sum\": 0.5127132888933934, \"count\": 1, \"min\": 0.5127132888933934, \"max\": 0.5127132888933934}}}\u001b[0m\n",
      "\u001b[34m#metrics {\"StartTime\": 1650323775.675129, \"EndTime\": 1650323775.675145, \"Dimensions\": {\"Algorithm\": \"Linear Learner\", \"Host\": \"algo-1\", \"Operation\": \"training\", \"epoch\": 9, \"model\": 30}, \"Metrics\": {\"train_binary_classification_cross_entropy_objective\": {\"sum\": 0.5121421207113004, \"count\": 1, \"min\": 0.5121421207113004, \"max\": 0.5121421207113004}}}\u001b[0m\n",
      "\u001b[34m#metrics {\"StartTime\": 1650323775.6752074, \"EndTime\": 1650323775.6752238, \"Dimensions\": {\"Algorithm\": \"Linear Learner\", \"Host\": \"algo-1\", \"Operation\": \"training\", \"epoch\": 9, \"model\": 31}, \"Metrics\": {\"train_binary_classification_cross_entropy_objective\": {\"sum\": 0.512713293909662, \"count\": 1, \"min\": 0.512713293909662, \"max\": 0.512713293909662}}}\u001b[0m\n",
      "\u001b[34m[04/18/2022 23:16:15 INFO 140493168445248] #quality_metric: host=algo-1, epoch=9, train binary_classification_cross_entropy_objective <loss>=0.020218592346261402\u001b[0m\n",
      "\u001b[34m[2022-04-18 23:16:21.267] [tensorio] [info] epoch_stats={\"data_pipeline\": \"/opt/ml/input/data/validation\", \"epoch\": 29, \"duration\": 5560, \"num_examples\": 164, \"num_bytes\": 70003252}\u001b[0m\n",
      "\u001b[34m#metrics {\"StartTime\": 1650323783.459154, \"EndTime\": 1650323783.4592214, \"Dimensions\": {\"Algorithm\": \"Linear Learner\", \"Host\": \"algo-1\", \"Operation\": \"training\", \"epoch\": 9, \"model\": 0}, \"Metrics\": {\"validation_binary_classification_cross_entropy_objective\": {\"sum\": 0.02005731119923644, \"count\": 1, \"min\": 0.02005731119923644, \"max\": 0.02005731119923644}}}\u001b[0m\n",
      "\u001b[34m#metrics {\"StartTime\": 1650323783.4593136, \"EndTime\": 1650323783.4593377, \"Dimensions\": {\"Algorithm\": \"Linear Learner\", \"Host\": \"algo-1\", \"Operation\": \"training\", \"epoch\": 9, \"model\": 1}, \"Metrics\": {\"validation_binary_classification_cross_entropy_objective\": {\"sum\": 0.0004973069842529246, \"count\": 1, \"min\": 0.0004973069842529246, \"max\": 0.0004973069842529246}}}\u001b[0m\n",
      "\u001b[34m#metrics {\"StartTime\": 1650323783.459397, \"EndTime\": 1650323783.4594147, \"Dimensions\": {\"Algorithm\": \"Linear Learner\", \"Host\": \"algo-1\", \"Operation\": \"training\", \"epoch\": 9, \"model\": 2}, \"Metrics\": {\"validation_binary_classification_cross_entropy_objective\": {\"sum\": 0.009323509457865583, \"count\": 1, \"min\": 0.009323509457865583, \"max\": 0.009323509457865583}}}\u001b[0m\n",
      "\u001b[34m#metrics {\"StartTime\": 1650323783.459466, \"EndTime\": 1650323783.4594824, \"Dimensions\": {\"Algorithm\": \"Linear Learner\", \"Host\": \"algo-1\", \"Operation\": \"training\", \"epoch\": 9, \"model\": 3}, \"Metrics\": {\"validation_binary_classification_cross_entropy_objective\": {\"sum\": 0.0004973091172201466, \"count\": 1, \"min\": 0.0004973091172201466, \"max\": 0.0004973091172201466}}}\u001b[0m\n",
      "\u001b[34m#metrics {\"StartTime\": 1650323783.459536, \"EndTime\": 1650323783.4595551, \"Dimensions\": {\"Algorithm\": \"Linear Learner\", \"Host\": \"algo-1\", \"Operation\": \"training\", \"epoch\": 9, \"model\": 4}, \"Metrics\": {\"validation_binary_classification_cross_entropy_objective\": {\"sum\": 0.0005124139971913817, \"count\": 1, \"min\": 0.0005124139971913817, \"max\": 0.0005124139971913817}}}\u001b[0m\n",
      "\u001b[34m#metrics {\"StartTime\": 1650323783.4596055, \"EndTime\": 1650323783.459622, \"Dimensions\": {\"Algorithm\": \"Linear Learner\", \"Host\": \"algo-1\", \"Operation\": \"training\", \"epoch\": 9, \"model\": 5}, \"Metrics\": {\"validation_binary_classification_cross_entropy_objective\": {\"sum\": 0.0004831070237340512, \"count\": 1, \"min\": 0.0004831070237340512, \"max\": 0.0004831070237340512}}}\u001b[0m\n",
      "\u001b[34m#metrics {\"StartTime\": 1650323783.459671, \"EndTime\": 1650323783.4596875, \"Dimensions\": {\"Algorithm\": \"Linear Learner\", \"Host\": \"algo-1\", \"Operation\": \"training\", \"epoch\": 9, \"model\": 6}, \"Metrics\": {\"validation_binary_classification_cross_entropy_objective\": {\"sum\": 0.0004984002926690463, \"count\": 1, \"min\": 0.0004984002926690463, \"max\": 0.0004984002926690463}}}\u001b[0m\n",
      "\u001b[34m#metrics {\"StartTime\": 1650323783.4597414, \"EndTime\": 1650323783.4597576, \"Dimensions\": {\"Algorithm\": \"Linear Learner\", \"Host\": \"algo-1\", \"Operation\": \"training\", \"epoch\": 9, \"model\": 7}, \"Metrics\": {\"validation_binary_classification_cross_entropy_objective\": {\"sum\": 0.00048295167043484156, \"count\": 1, \"min\": 0.00048295167043484156, \"max\": 0.00048295167043484156}}}\u001b[0m\n",
      "\u001b[34m#metrics {\"StartTime\": 1650323783.459811, \"EndTime\": 1650323783.4598293, \"Dimensions\": {\"Algorithm\": \"Linear Learner\", \"Host\": \"algo-1\", \"Operation\": \"training\", \"epoch\": 9, \"model\": 8}, \"Metrics\": {\"validation_binary_classification_cross_entropy_objective\": {\"sum\": 0.02967771112050434, \"count\": 1, \"min\": 0.02967771112050434, \"max\": 0.02967771112050434}}}\u001b[0m\n",
      "\u001b[34m#metrics {\"StartTime\": 1650323783.4598846, \"EndTime\": 1650323783.4599, \"Dimensions\": {\"Algorithm\": \"Linear Learner\", \"Host\": \"algo-1\", \"Operation\": \"training\", \"epoch\": 9, \"model\": 9}, \"Metrics\": {\"validation_binary_classification_cross_entropy_objective\": {\"sum\": 0.02389137105224763, \"count\": 1, \"min\": 0.02389137105224763, \"max\": 0.02389137105224763}}}\u001b[0m\n",
      "\u001b[34m#metrics {\"StartTime\": 1650323783.4599524, \"EndTime\": 1650323783.45997, \"Dimensions\": {\"Algorithm\": \"Linear Learner\", \"Host\": \"algo-1\", \"Operation\": \"training\", \"epoch\": 9, \"model\": 10}, \"Metrics\": {\"validation_binary_classification_cross_entropy_objective\": {\"sum\": 0.02391246959872001, \"count\": 1, \"min\": 0.02391246959872001, \"max\": 0.02391246959872001}}}\u001b[0m\n",
      "\u001b[34m#metrics {\"StartTime\": 1650323783.4600239, \"EndTime\": 1650323783.4600418, \"Dimensions\": {\"Algorithm\": \"Linear Learner\", \"Host\": \"algo-1\", \"Operation\": \"training\", \"epoch\": 9, \"model\": 11}, \"Metrics\": {\"validation_binary_classification_cross_entropy_objective\": {\"sum\": 0.023891180992587094, \"count\": 1, \"min\": 0.023891180992587094, \"max\": 0.023891180992587094}}}\u001b[0m\n",
      "\u001b[34m#metrics {\"StartTime\": 1650323783.4600942, \"EndTime\": 1650323783.4601116, \"Dimensions\": {\"Algorithm\": \"Linear Learner\", \"Host\": \"algo-1\", \"Operation\": \"training\", \"epoch\": 9, \"model\": 12}, \"Metrics\": {\"validation_binary_classification_cross_entropy_objective\": {\"sum\": 0.023897747053578854, \"count\": 1, \"min\": 0.023897747053578854, \"max\": 0.023897747053578854}}}\u001b[0m\n",
      "\u001b[34m#metrics {\"StartTime\": 1650323783.460179, \"EndTime\": 1650323783.4601982, \"Dimensions\": {\"Algorithm\": \"Linear Learner\", \"Host\": \"algo-1\", \"Operation\": \"training\", \"epoch\": 9, \"model\": 13}, \"Metrics\": {\"validation_binary_classification_cross_entropy_objective\": {\"sum\": 0.02332148620948038, \"count\": 1, \"min\": 0.02332148620948038, \"max\": 0.02332148620948038}}}\u001b[0m\n",
      "\u001b[34m#metrics {\"StartTime\": 1650323783.4602807, \"EndTime\": 1650323783.4602983, \"Dimensions\": {\"Algorithm\": \"Linear Learner\", \"Host\": \"algo-1\", \"Operation\": \"training\", \"epoch\": 9, \"model\": 14}, \"Metrics\": {\"validation_binary_classification_cross_entropy_objective\": {\"sum\": 0.02391364330866685, \"count\": 1, \"min\": 0.02391364330866685, \"max\": 0.02391364330866685}}}\u001b[0m\n",
      "\u001b[34m#metrics {\"StartTime\": 1650323783.4603631, \"EndTime\": 1650323783.4603817, \"Dimensions\": {\"Algorithm\": \"Linear Learner\", \"Host\": \"algo-1\", \"Operation\": \"training\", \"epoch\": 9, \"model\": 15}, \"Metrics\": {\"validation_binary_classification_cross_entropy_objective\": {\"sum\": 0.023321469475180902, \"count\": 1, \"min\": 0.023321469475180902, \"max\": 0.023321469475180902}}}\u001b[0m\n",
      "\u001b[34m#metrics {\"StartTime\": 1650323783.46044, \"EndTime\": 1650323783.4604554, \"Dimensions\": {\"Algorithm\": \"Linear Learner\", \"Host\": \"algo-1\", \"Operation\": \"training\", \"epoch\": 9, \"model\": 16}, \"Metrics\": {\"validation_binary_classification_cross_entropy_objective\": {\"sum\": 0.3825499470276088, \"count\": 1, \"min\": 0.3825499470276088, \"max\": 0.3825499470276088}}}\u001b[0m\n",
      "\u001b[34m#metrics {\"StartTime\": 1650323783.4605083, \"EndTime\": 1650323783.4605215, \"Dimensions\": {\"Algorithm\": \"Linear Learner\", \"Host\": \"algo-1\", \"Operation\": \"training\", \"epoch\": 9, \"model\": 17}, \"Metrics\": {\"validation_binary_classification_cross_entropy_objective\": {\"sum\": 0.38233085705418707, \"count\": 1, \"min\": 0.38233085705418707, \"max\": 0.38233085705418707}}}\u001b[0m\n",
      "\u001b[34m#metrics {\"StartTime\": 1650323783.4605513, \"EndTime\": 1650323783.4605598, \"Dimensions\": {\"Algorithm\": \"Linear Learner\", \"Host\": \"algo-1\", \"Operation\": \"training\", \"epoch\": 9, \"model\": 18}, \"Metrics\": {\"validation_binary_classification_cross_entropy_objective\": {\"sum\": 0.38272891778331186, \"count\": 1, \"min\": 0.38272891778331186, \"max\": 0.38272891778331186}}}\u001b[0m\n",
      "\u001b[34m#metrics {\"StartTime\": 1650323783.4605918, \"EndTime\": 1650323783.4606059, \"Dimensions\": {\"Algorithm\": \"Linear Learner\", \"Host\": \"algo-1\", \"Operation\": \"training\", \"epoch\": 9, \"model\": 19}, \"Metrics\": {\"validation_binary_classification_cross_entropy_objective\": {\"sum\": 0.38233083820915015, \"count\": 1, \"min\": 0.38233083820915015, \"max\": 0.38233083820915015}}}\u001b[0m\n",
      "\u001b[34m#metrics {\"StartTime\": 1650323783.460669, \"EndTime\": 1650323783.4606876, \"Dimensions\": {\"Algorithm\": \"Linear Learner\", \"Host\": \"algo-1\", \"Operation\": \"training\", \"epoch\": 9, \"model\": 20}, \"Metrics\": {\"validation_binary_classification_cross_entropy_objective\": {\"sum\": 0.3825500998403338, \"count\": 1, \"min\": 0.3825500998403338, \"max\": 0.3825500998403338}}}\u001b[0m\n",
      "\u001b[34m#metrics {\"StartTime\": 1650323783.4607298, \"EndTime\": 1650323783.4607453, \"Dimensions\": {\"Algorithm\": \"Linear Learner\", \"Host\": \"algo-1\", \"Operation\": \"training\", \"epoch\": 9, \"model\": 21}, \"Metrics\": {\"validation_binary_classification_cross_entropy_objective\": {\"sum\": 0.391261071492765, \"count\": 1, \"min\": 0.391261071492765, \"max\": 0.391261071492765}}}\u001b[0m\n",
      "\u001b[34m#metrics {\"StartTime\": 1650323783.4608095, \"EndTime\": 1650323783.4608276, \"Dimensions\": {\"Algorithm\": \"Linear Learner\", \"Host\": \"algo-1\", \"Operation\": \"training\", \"epoch\": 9, \"model\": 22}, \"Metrics\": {\"validation_binary_classification_cross_entropy_objective\": {\"sum\": 0.38272892496681604, \"count\": 1, \"min\": 0.38272892496681604, \"max\": 0.38272892496681604}}}\u001b[0m\n",
      "\u001b[34m#metrics {\"StartTime\": 1650323783.4608724, \"EndTime\": 1650323783.4608886, \"Dimensions\": {\"Algorithm\": \"Linear Learner\", \"Host\": \"algo-1\", \"Operation\": \"training\", \"epoch\": 9, \"model\": 23}, \"Metrics\": {\"validation_binary_classification_cross_entropy_objective\": {\"sum\": 0.3912610881920799, \"count\": 1, \"min\": 0.3912610881920799, \"max\": 0.3912610881920799}}}\u001b[0m\n",
      "\u001b[34m#metrics {\"StartTime\": 1650323783.460944, \"EndTime\": 1650323783.4609623, \"Dimensions\": {\"Algorithm\": \"Linear Learner\", \"Host\": \"algo-1\", \"Operation\": \"training\", \"epoch\": 9, \"model\": 24}, \"Metrics\": {\"validation_binary_classification_cross_entropy_objective\": {\"sum\": 0.5121435300060992, \"count\": 1, \"min\": 0.5121435300060992, \"max\": 0.5121435300060992}}}\u001b[0m\n",
      "\u001b[34m#metrics {\"StartTime\": 1650323783.4610152, \"EndTime\": 1650323783.461032, \"Dimensions\": {\"Algorithm\": \"Linear Learner\", \"Host\": \"algo-1\", \"Operation\": \"training\", \"epoch\": 9, \"model\": 25}, \"Metrics\": {\"validation_binary_classification_cross_entropy_objective\": {\"sum\": 0.5121565000561007, \"count\": 1, \"min\": 0.5121565000561007, \"max\": 0.5121565000561007}}}\u001b[0m\n",
      "\u001b[34m#metrics {\"StartTime\": 1650323783.461086, \"EndTime\": 1650323783.461103, \"Dimensions\": {\"Algorithm\": \"Linear Learner\", \"Host\": \"algo-1\", \"Operation\": \"training\", \"epoch\": 9, \"model\": 26}, \"Metrics\": {\"validation_binary_classification_cross_entropy_objective\": {\"sum\": 0.5120393204971381, \"count\": 1, \"min\": 0.5120393204971381, \"max\": 0.5120393204971381}}}\u001b[0m\n",
      "\u001b[34m#metrics {\"StartTime\": 1650323783.4611552, \"EndTime\": 1650323783.4611728, \"Dimensions\": {\"Algorithm\": \"Linear Learner\", \"Host\": \"algo-1\", \"Operation\": \"training\", \"epoch\": 9, \"model\": 27}, \"Metrics\": {\"validation_binary_classification_cross_entropy_objective\": {\"sum\": 0.5121564972573329, \"count\": 1, \"min\": 0.5121564972573329, \"max\": 0.5121564972573329}}}\u001b[0m\n",
      "\u001b[34m#metrics {\"StartTime\": 1650323783.4612246, \"EndTime\": 1650323783.46124, \"Dimensions\": {\"Algorithm\": \"Linear Learner\", \"Host\": \"algo-1\", \"Operation\": \"training\", \"epoch\": 9, \"model\": 28}, \"Metrics\": {\"validation_binary_classification_cross_entropy_objective\": {\"sum\": 0.512143528140254, \"count\": 1, \"min\": 0.512143528140254, \"max\": 0.512143528140254}}}\u001b[0m\n",
      "\u001b[34m#metrics {\"StartTime\": 1650323783.461293, \"EndTime\": 1650323783.4613104, \"Dimensions\": {\"Algorithm\": \"Linear Learner\", \"Host\": \"algo-1\", \"Operation\": \"training\", \"epoch\": 9, \"model\": 29}, \"Metrics\": {\"validation_binary_classification_cross_entropy_objective\": {\"sum\": 0.5138677310953516, \"count\": 1, \"min\": 0.5138677310953516, \"max\": 0.5138677310953516}}}\u001b[0m\n",
      "\u001b[34m#metrics {\"StartTime\": 1650323783.4613643, \"EndTime\": 1650323783.461381, \"Dimensions\": {\"Algorithm\": \"Linear Learner\", \"Host\": \"algo-1\", \"Operation\": \"training\", \"epoch\": 9, \"model\": 30}, \"Metrics\": {\"validation_binary_classification_cross_entropy_objective\": {\"sum\": 0.5120393266544273, \"count\": 1, \"min\": 0.5120393266544273, \"max\": 0.5120393266544273}}}\u001b[0m\n",
      "\u001b[34m#metrics {\"StartTime\": 1650323783.4614365, \"EndTime\": 1650323783.461452, \"Dimensions\": {\"Algorithm\": \"Linear Learner\", \"Host\": \"algo-1\", \"Operation\": \"training\", \"epoch\": 9, \"model\": 31}, \"Metrics\": {\"validation_binary_classification_cross_entropy_objective\": {\"sum\": 0.5138677254978159, \"count\": 1, \"min\": 0.5138677254978159, \"max\": 0.5138677254978159}}}\u001b[0m\n",
      "\u001b[34m[04/18/2022 23:16:23 INFO 140493168445248] #quality_metric: host=algo-1, epoch=9, validation binary_classification_cross_entropy_objective <loss>=0.02005731119923644\u001b[0m\n",
      "\u001b[34m[04/18/2022 23:16:23 INFO 140493168445248] #early_stopping_criteria_metric: host=algo-1, epoch=9, criteria=sampled_accuracy, value=0.9995781338844086\u001b[0m\n",
      "\u001b[34m[04/18/2022 23:16:23 INFO 140493168445248] Epoch 9: Loss improved. Updating best model\u001b[0m\n",
      "\u001b[34m[04/18/2022 23:16:23 INFO 140493168445248] Saving model for epoch: 9\u001b[0m\n",
      "\u001b[34m[04/18/2022 23:16:23 INFO 140493168445248] Saved checkpoint to \"/tmp/tmpv201enx2/mx-mod-0000.params\"\u001b[0m\n",
      "\u001b[34m[04/18/2022 23:16:23 INFO 140493168445248] #progress_metric: host=algo-1, completed 66.66666666666667 % of epochs\u001b[0m\n",
      "\u001b[34m#metrics {\"StartTime\": 1650323715.890344, \"EndTime\": 1650323783.4705098, \"Dimensions\": {\"Algorithm\": \"Linear Learner\", \"Host\": \"algo-1\", \"Operation\": \"training\", \"epoch\": 9, \"Meta\": \"training_data_iter\"}, \"Metrics\": {\"Total Records Seen\": {\"sum\": 13096720.0, \"count\": 1, \"min\": 13096720, \"max\": 13096720}, \"Total Batches Seen\": {\"sum\": 13102.0, \"count\": 1, \"min\": 13102, \"max\": 13102}, \"Max Records Seen Between Resets\": {\"sum\": 1308472.0, \"count\": 1, \"min\": 1308472, \"max\": 1308472}, \"Max Batches Seen Between Resets\": {\"sum\": 1309.0, \"count\": 1, \"min\": 1309, \"max\": 1309}, \"Reset Count\": {\"sum\": 12.0, \"count\": 1, \"min\": 12, \"max\": 12}, \"Number of Records Since Last Reset\": {\"sum\": 1308472.0, \"count\": 1, \"min\": 1308472, \"max\": 1308472}, \"Number of Batches Since Last Reset\": {\"sum\": 1309.0, \"count\": 1, \"min\": 1309, \"max\": 1309}}}\u001b[0m\n",
      "\u001b[34m[04/18/2022 23:16:23 INFO 140493168445248] #throughput_metric: host=algo-1, train throughput=19361.731719774707 records/second\u001b[0m\n",
      "\u001b[34m[2022-04-18 23:17:23.669] [tensorio] [info] epoch_stats={\"data_pipeline\": \"/opt/ml/input/data/train\", \"epoch\": 23, \"duration\": 60198, \"num_examples\": 1309, \"num_bytes\": 560026016}\u001b[0m\n",
      "\u001b[34m#metrics {\"StartTime\": 1650323843.669803, \"EndTime\": 1650323843.669912, \"Dimensions\": {\"Algorithm\": \"Linear Learner\", \"Host\": \"algo-1\", \"Operation\": \"training\", \"epoch\": 10, \"model\": 0}, \"Metrics\": {\"train_binary_classification_cross_entropy_objective\": {\"sum\": 0.0199081272378974, \"count\": 1, \"min\": 0.0199081272378974, \"max\": 0.0199081272378974}}}\u001b[0m\n",
      "\u001b[34m#metrics {\"StartTime\": 1650323843.6700225, \"EndTime\": 1650323843.6700468, \"Dimensions\": {\"Algorithm\": \"Linear Learner\", \"Host\": \"algo-1\", \"Operation\": \"training\", \"epoch\": 10, \"model\": 1}, \"Metrics\": {\"train_binary_classification_cross_entropy_objective\": {\"sum\": 0.0004969867376741649, \"count\": 1, \"min\": 0.0004969867376741649, \"max\": 0.0004969867376741649}}}\u001b[0m\n",
      "\u001b[34m#metrics {\"StartTime\": 1650323843.6701086, \"EndTime\": 1650323843.670128, \"Dimensions\": {\"Algorithm\": \"Linear Learner\", \"Host\": \"algo-1\", \"Operation\": \"training\", \"epoch\": 10, \"model\": 2}, \"Metrics\": {\"train_binary_classification_cross_entropy_objective\": {\"sum\": 0.008704225885029598, \"count\": 1, \"min\": 0.008704225885029598, \"max\": 0.008704225885029598}}}\u001b[0m\n",
      "\u001b[34m#metrics {\"StartTime\": 1650323843.6702287, \"EndTime\": 1650323843.670247, \"Dimensions\": {\"Algorithm\": \"Linear Learner\", \"Host\": \"algo-1\", \"Operation\": \"training\", \"epoch\": 10, \"model\": 3}, \"Metrics\": {\"train_binary_classification_cross_entropy_objective\": {\"sum\": 0.0004969870469074365, \"count\": 1, \"min\": 0.0004969870469074365, \"max\": 0.0004969870469074365}}}\u001b[0m\n",
      "\u001b[34m#metrics {\"StartTime\": 1650323843.6703076, \"EndTime\": 1650323843.6703293, \"Dimensions\": {\"Algorithm\": \"Linear Learner\", \"Host\": \"algo-1\", \"Operation\": \"training\", \"epoch\": 10, \"model\": 4}, \"Metrics\": {\"train_binary_classification_cross_entropy_objective\": {\"sum\": 0.0005110750936814769, \"count\": 1, \"min\": 0.0005110750936814769, \"max\": 0.0005110750936814769}}}\u001b[0m\n",
      "\u001b[34m#metrics {\"StartTime\": 1650323843.6703863, \"EndTime\": 1650323843.670404, \"Dimensions\": {\"Algorithm\": \"Linear Learner\", \"Host\": \"algo-1\", \"Operation\": \"training\", \"epoch\": 10, \"model\": 5}, \"Metrics\": {\"train_binary_classification_cross_entropy_objective\": {\"sum\": 0.0004979991882766058, \"count\": 1, \"min\": 0.0004979991882766058, \"max\": 0.0004979991882766058}}}\u001b[0m\n",
      "\u001b[34m#metrics {\"StartTime\": 1650323843.670518, \"EndTime\": 1650323843.6705372, \"Dimensions\": {\"Algorithm\": \"Linear Learner\", \"Host\": \"algo-1\", \"Operation\": \"training\", \"epoch\": 10, \"model\": 6}, \"Metrics\": {\"train_binary_classification_cross_entropy_objective\": {\"sum\": 0.0004975170251152931, \"count\": 1, \"min\": 0.0004975170251152931, \"max\": 0.0004975170251152931}}}\u001b[0m\n",
      "\u001b[34m#metrics {\"StartTime\": 1650323843.67059, \"EndTime\": 1650323843.670605, \"Dimensions\": {\"Algorithm\": \"Linear Learner\", \"Host\": \"algo-1\", \"Operation\": \"training\", \"epoch\": 10, \"model\": 7}, \"Metrics\": {\"train_binary_classification_cross_entropy_objective\": {\"sum\": 0.0004979995459728285, \"count\": 1, \"min\": 0.0004979995459728285, \"max\": 0.0004979995459728285}}}\u001b[0m\n",
      "\u001b[34m#metrics {\"StartTime\": 1650323843.6706479, \"EndTime\": 1650323843.6706576, \"Dimensions\": {\"Algorithm\": \"Linear Learner\", \"Host\": \"algo-1\", \"Operation\": \"training\", \"epoch\": 10, \"model\": 8}, \"Metrics\": {\"train_binary_classification_cross_entropy_objective\": {\"sum\": 0.02946688345229589, \"count\": 1, \"min\": 0.02946688345229589, \"max\": 0.02946688345229589}}}\u001b[0m\n",
      "\u001b[34m#metrics {\"StartTime\": 1650323843.6706846, \"EndTime\": 1650323843.6706924, \"Dimensions\": {\"Algorithm\": \"Linear Learner\", \"Host\": \"algo-1\", \"Operation\": \"training\", \"epoch\": 10, \"model\": 9}, \"Metrics\": {\"train_binary_classification_cross_entropy_objective\": {\"sum\": 0.023902047374562023, \"count\": 1, \"min\": 0.023902047374562023, \"max\": 0.023902047374562023}}}\u001b[0m\n",
      "\u001b[34m#metrics {\"StartTime\": 1650323843.670717, \"EndTime\": 1650323843.6707244, \"Dimensions\": {\"Algorithm\": \"Linear Learner\", \"Host\": \"algo-1\", \"Operation\": \"training\", \"epoch\": 10, \"model\": 10}, \"Metrics\": {\"train_binary_classification_cross_entropy_objective\": {\"sum\": 0.0238972131367488, \"count\": 1, \"min\": 0.0238972131367488, \"max\": 0.0238972131367488}}}\u001b[0m\n",
      "\u001b[34m#metrics {\"StartTime\": 1650323843.6707485, \"EndTime\": 1650323843.670756, \"Dimensions\": {\"Algorithm\": \"Linear Learner\", \"Host\": \"algo-1\", \"Operation\": \"training\", \"epoch\": 10, \"model\": 11}, \"Metrics\": {\"train_binary_classification_cross_entropy_objective\": {\"sum\": 0.023902046643995, \"count\": 1, \"min\": 0.023902046643995, \"max\": 0.023902046643995}}}\u001b[0m\n",
      "\u001b[34m#metrics {\"StartTime\": 1650323843.6707802, \"EndTime\": 1650323843.6707876, \"Dimensions\": {\"Algorithm\": \"Linear Learner\", \"Host\": \"algo-1\", \"Operation\": \"training\", \"epoch\": 10, \"model\": 12}, \"Metrics\": {\"train_binary_classification_cross_entropy_objective\": {\"sum\": 0.023896281309448614, \"count\": 1, \"min\": 0.023896281309448614, \"max\": 0.023896281309448614}}}\u001b[0m\n",
      "\u001b[34m#metrics {\"StartTime\": 1650323843.6708121, \"EndTime\": 1650323843.670819, \"Dimensions\": {\"Algorithm\": \"Linear Learner\", \"Host\": \"algo-1\", \"Operation\": \"training\", \"epoch\": 10, \"model\": 13}, \"Metrics\": {\"train_binary_classification_cross_entropy_objective\": {\"sum\": 0.02399197725272689, \"count\": 1, \"min\": 0.02399197725272689, \"max\": 0.02399197725272689}}}\u001b[0m\n",
      "\u001b[34m#metrics {\"StartTime\": 1650323843.6708431, \"EndTime\": 1650323843.6708505, \"Dimensions\": {\"Algorithm\": \"Linear Learner\", \"Host\": \"algo-1\", \"Operation\": \"training\", \"epoch\": 10, \"model\": 14}, \"Metrics\": {\"train_binary_classification_cross_entropy_objective\": {\"sum\": 0.023897112706385622, \"count\": 1, \"min\": 0.023897112706385622, \"max\": 0.023897112706385622}}}\u001b[0m\n",
      "\u001b[34m#metrics {\"StartTime\": 1650323843.670875, \"EndTime\": 1650323843.6708822, \"Dimensions\": {\"Algorithm\": \"Linear Learner\", \"Host\": \"algo-1\", \"Operation\": \"training\", \"epoch\": 10, \"model\": 15}, \"Metrics\": {\"train_binary_classification_cross_entropy_objective\": {\"sum\": 0.02399197725855976, \"count\": 1, \"min\": 0.02399197725855976, \"max\": 0.02399197725855976}}}\u001b[0m\n",
      "\u001b[34m#metrics {\"StartTime\": 1650323843.6709063, \"EndTime\": 1650323843.6709137, \"Dimensions\": {\"Algorithm\": \"Linear Learner\", \"Host\": \"algo-1\", \"Operation\": \"training\", \"epoch\": 10, \"model\": 16}, \"Metrics\": {\"train_binary_classification_cross_entropy_objective\": {\"sum\": 0.3824919666908567, \"count\": 1, \"min\": 0.3824919666908567, \"max\": 0.3824919666908567}}}\u001b[0m\n",
      "\u001b[34m#metrics {\"StartTime\": 1650323843.6709793, \"EndTime\": 1650323843.670995, \"Dimensions\": {\"Algorithm\": \"Linear Learner\", \"Host\": \"algo-1\", \"Operation\": \"training\", \"epoch\": 10, \"model\": 17}, \"Metrics\": {\"train_binary_classification_cross_entropy_objective\": {\"sum\": 0.38256600406191765, \"count\": 1, \"min\": 0.38256600406191765, \"max\": 0.38256600406191765}}}\u001b[0m\n",
      "\u001b[34m#metrics {\"StartTime\": 1650323843.6710386, \"EndTime\": 1650323843.6710508, \"Dimensions\": {\"Algorithm\": \"Linear Learner\", \"Host\": \"algo-1\", \"Operation\": \"training\", \"epoch\": 10, \"model\": 18}, \"Metrics\": {\"train_binary_classification_cross_entropy_objective\": {\"sum\": 0.3824983800018964, \"count\": 1, \"min\": 0.3824983800018964, \"max\": 0.3824983800018964}}}\u001b[0m\n",
      "\u001b[34m#metrics {\"StartTime\": 1650323843.6710987, \"EndTime\": 1650323843.6711118, \"Dimensions\": {\"Algorithm\": \"Linear Learner\", \"Host\": \"algo-1\", \"Operation\": \"training\", \"epoch\": 10, \"model\": 19}, \"Metrics\": {\"train_binary_classification_cross_entropy_objective\": {\"sum\": 0.38256600406191765, \"count\": 1, \"min\": 0.38256600406191765, \"max\": 0.38256600406191765}}}\u001b[0m\n",
      "\u001b[34m#metrics {\"StartTime\": 1650323843.6711595, \"EndTime\": 1650323843.6711726, \"Dimensions\": {\"Algorithm\": \"Linear Learner\", \"Host\": \"algo-1\", \"Operation\": \"training\", \"epoch\": 10, \"model\": 20}, \"Metrics\": {\"train_binary_classification_cross_entropy_objective\": {\"sum\": 0.3824920729657561, \"count\": 1, \"min\": 0.3824920729657561, \"max\": 0.3824920729657561}}}\u001b[0m\n",
      "\u001b[34m#metrics {\"StartTime\": 1650323843.6712177, \"EndTime\": 1650323843.6712337, \"Dimensions\": {\"Algorithm\": \"Linear Learner\", \"Host\": \"algo-1\", \"Operation\": \"training\", \"epoch\": 10, \"model\": 21}, \"Metrics\": {\"train_binary_classification_cross_entropy_objective\": {\"sum\": 0.38363493057857595, \"count\": 1, \"min\": 0.38363493057857595, \"max\": 0.38363493057857595}}}\u001b[0m\n",
      "\u001b[34m#metrics {\"StartTime\": 1650323843.67128, \"EndTime\": 1650323843.6712897, \"Dimensions\": {\"Algorithm\": \"Linear Learner\", \"Host\": \"algo-1\", \"Operation\": \"training\", \"epoch\": 10, \"model\": 22}, \"Metrics\": {\"train_binary_classification_cross_entropy_objective\": {\"sum\": 0.38249838140178527, \"count\": 1, \"min\": 0.38249838140178527, \"max\": 0.38249838140178527}}}\u001b[0m\n",
      "\u001b[34m#metrics {\"StartTime\": 1650323843.6713164, \"EndTime\": 1650323843.6713243, \"Dimensions\": {\"Algorithm\": \"Linear Learner\", \"Host\": \"algo-1\", \"Operation\": \"training\", \"epoch\": 10, \"model\": 23}, \"Metrics\": {\"train_binary_classification_cross_entropy_objective\": {\"sum\": 0.3836349310218741, \"count\": 1, \"min\": 0.3836349310218741, \"max\": 0.3836349310218741}}}\u001b[0m\n",
      "\u001b[34m#metrics {\"StartTime\": 1650323843.6713483, \"EndTime\": 1650323843.6713555, \"Dimensions\": {\"Algorithm\": \"Linear Learner\", \"Host\": \"algo-1\", \"Operation\": \"training\", \"epoch\": 10, \"model\": 24}, \"Metrics\": {\"train_binary_classification_cross_entropy_objective\": {\"sum\": 0.5121383446743, \"count\": 1, \"min\": 0.5121383446743, \"max\": 0.5121383446743}}}\u001b[0m\n",
      "\u001b[34m#metrics {\"StartTime\": 1650323843.6713846, \"EndTime\": 1650323843.6713917, \"Dimensions\": {\"Algorithm\": \"Linear Learner\", \"Host\": \"algo-1\", \"Operation\": \"training\", \"epoch\": 10, \"model\": 25}, \"Metrics\": {\"train_binary_classification_cross_entropy_objective\": {\"sum\": 0.5121727494406044, \"count\": 1, \"min\": 0.5121727494406044, \"max\": 0.5121727494406044}}}\u001b[0m\n",
      "\u001b[34m#metrics {\"StartTime\": 1650323843.6714168, \"EndTime\": 1650323843.6714303, \"Dimensions\": {\"Algorithm\": \"Linear Learner\", \"Host\": \"algo-1\", \"Operation\": \"training\", \"epoch\": 10, \"model\": 26}, \"Metrics\": {\"train_binary_classification_cross_entropy_objective\": {\"sum\": 0.5121421225778189, \"count\": 1, \"min\": 0.5121421225778189, \"max\": 0.5121421225778189}}}\u001b[0m\n",
      "\u001b[34m#metrics {\"StartTime\": 1650323843.6714818, \"EndTime\": 1650323843.6714966, \"Dimensions\": {\"Algorithm\": \"Linear Learner\", \"Host\": \"algo-1\", \"Operation\": \"training\", \"epoch\": 10, \"model\": 27}, \"Metrics\": {\"train_binary_classification_cross_entropy_objective\": {\"sum\": 0.51217275000056, \"count\": 1, \"min\": 0.51217275000056, \"max\": 0.51217275000056}}}\u001b[0m\n",
      "\u001b[34m#metrics {\"StartTime\": 1650323843.6715505, \"EndTime\": 1650323843.671565, \"Dimensions\": {\"Algorithm\": \"Linear Learner\", \"Host\": \"algo-1\", \"Operation\": \"training\", \"epoch\": 10, \"model\": 28}, \"Metrics\": {\"train_binary_classification_cross_entropy_objective\": {\"sum\": 0.5121383432510795, \"count\": 1, \"min\": 0.5121383432510795, \"max\": 0.5121383432510795}}}\u001b[0m\n",
      "\u001b[34m#metrics {\"StartTime\": 1650323843.671613, \"EndTime\": 1650323843.6716268, \"Dimensions\": {\"Algorithm\": \"Linear Learner\", \"Host\": \"algo-1\", \"Operation\": \"training\", \"epoch\": 10, \"model\": 29}, \"Metrics\": {\"train_binary_classification_cross_entropy_objective\": {\"sum\": 0.5126782444478539, \"count\": 1, \"min\": 0.5126782444478539, \"max\": 0.5126782444478539}}}\u001b[0m\n",
      "\u001b[34m#metrics {\"StartTime\": 1650323843.671675, \"EndTime\": 1650323843.6716912, \"Dimensions\": {\"Algorithm\": \"Linear Learner\", \"Host\": \"algo-1\", \"Operation\": \"training\", \"epoch\": 10, \"model\": 30}, \"Metrics\": {\"train_binary_classification_cross_entropy_objective\": {\"sum\": 0.51214212243783, \"count\": 1, \"min\": 0.51214212243783, \"max\": 0.51214212243783}}}\u001b[0m\n",
      "\u001b[34m#metrics {\"StartTime\": 1650323843.6717446, \"EndTime\": 1650323843.6717615, \"Dimensions\": {\"Algorithm\": \"Linear Learner\", \"Host\": \"algo-1\", \"Operation\": \"training\", \"epoch\": 10, \"model\": 31}, \"Metrics\": {\"train_binary_classification_cross_entropy_objective\": {\"sum\": 0.5126782455677651, \"count\": 1, \"min\": 0.5126782455677651, \"max\": 0.5126782455677651}}}\u001b[0m\n",
      "\u001b[34m[04/18/2022 23:17:23 INFO 140493168445248] #quality_metric: host=algo-1, epoch=10, train binary_classification_cross_entropy_objective <loss>=0.0199081272378974\u001b[0m\n",
      "\u001b[34m[2022-04-18 23:17:29.216] [tensorio] [info] epoch_stats={\"data_pipeline\": \"/opt/ml/input/data/validation\", \"epoch\": 32, \"duration\": 5513, \"num_examples\": 164, \"num_bytes\": 70003252}\u001b[0m\n",
      "\u001b[34m#metrics {\"StartTime\": 1650323851.3220806, \"EndTime\": 1650323851.3222396, \"Dimensions\": {\"Algorithm\": \"Linear Learner\", \"Host\": \"algo-1\", \"Operation\": \"training\", \"epoch\": 10, \"model\": 0}, \"Metrics\": {\"validation_binary_classification_cross_entropy_objective\": {\"sum\": 0.01974927698389749, \"count\": 1, \"min\": 0.01974927698389749, \"max\": 0.01974927698389749}}}\u001b[0m\n",
      "\u001b[34m#metrics {\"StartTime\": 1650323851.3223765, \"EndTime\": 1650323851.3224025, \"Dimensions\": {\"Algorithm\": \"Linear Learner\", \"Host\": \"algo-1\", \"Operation\": \"training\", \"epoch\": 10, \"model\": 1}, \"Metrics\": {\"validation_binary_classification_cross_entropy_objective\": {\"sum\": 0.0004974589560720635, \"count\": 1, \"min\": 0.0004974589560720635, \"max\": 0.0004974589560720635}}}\u001b[0m\n",
      "\u001b[34m#metrics {\"StartTime\": 1650323851.3224802, \"EndTime\": 1650323851.3224983, \"Dimensions\": {\"Algorithm\": \"Linear Learner\", \"Host\": \"algo-1\", \"Operation\": \"training\", \"epoch\": 10, \"model\": 2}, \"Metrics\": {\"validation_binary_classification_cross_entropy_objective\": {\"sum\": 0.008107922355146164, \"count\": 1, \"min\": 0.008107922355146164, \"max\": 0.008107922355146164}}}\u001b[0m\n",
      "\u001b[34m#metrics {\"StartTime\": 1650323851.322558, \"EndTime\": 1650323851.3225758, \"Dimensions\": {\"Algorithm\": \"Linear Learner\", \"Host\": \"algo-1\", \"Operation\": \"training\", \"epoch\": 10, \"model\": 3}, \"Metrics\": {\"validation_binary_classification_cross_entropy_objective\": {\"sum\": 0.0004974555272170162, \"count\": 1, \"min\": 0.0004974555272170162, \"max\": 0.0004974555272170162}}}\u001b[0m\n",
      "\u001b[34m#metrics {\"StartTime\": 1650323851.3226328, \"EndTime\": 1650323851.3226504, \"Dimensions\": {\"Algorithm\": \"Linear Learner\", \"Host\": \"algo-1\", \"Operation\": \"training\", \"epoch\": 10, \"model\": 4}, \"Metrics\": {\"validation_binary_classification_cross_entropy_objective\": {\"sum\": 0.0005095701943173626, \"count\": 1, \"min\": 0.0005095701943173626, \"max\": 0.0005095701943173626}}}\u001b[0m\n",
      "\u001b[34m#metrics {\"StartTime\": 1650323851.3226998, \"EndTime\": 1650323851.3227153, \"Dimensions\": {\"Algorithm\": \"Linear Learner\", \"Host\": \"algo-1\", \"Operation\": \"training\", \"epoch\": 10, \"model\": 5}, \"Metrics\": {\"validation_binary_classification_cross_entropy_objective\": {\"sum\": 0.00048276380678668914, \"count\": 1, \"min\": 0.00048276380678668914, \"max\": 0.00048276380678668914}}}\u001b[0m\n",
      "\u001b[34m#metrics {\"StartTime\": 1650323851.3227649, \"EndTime\": 1650323851.32278, \"Dimensions\": {\"Algorithm\": \"Linear Learner\", \"Host\": \"algo-1\", \"Operation\": \"training\", \"epoch\": 10, \"model\": 6}, \"Metrics\": {\"validation_binary_classification_cross_entropy_objective\": {\"sum\": 0.0004972850268622623, \"count\": 1, \"min\": 0.0004972850268622623, \"max\": 0.0004972850268622623}}}\u001b[0m\n",
      "\u001b[34m#metrics {\"StartTime\": 1650323851.3228328, \"EndTime\": 1650323851.3228495, \"Dimensions\": {\"Algorithm\": \"Linear Learner\", \"Host\": \"algo-1\", \"Operation\": \"training\", \"epoch\": 10, \"model\": 7}, \"Metrics\": {\"validation_binary_classification_cross_entropy_objective\": {\"sum\": 0.00048272699588312694, \"count\": 1, \"min\": 0.00048272699588312694, \"max\": 0.00048272699588312694}}}\u001b[0m\n",
      "\u001b[34m#metrics {\"StartTime\": 1650323851.322904, \"EndTime\": 1650323851.322922, \"Dimensions\": {\"Algorithm\": \"Linear Learner\", \"Host\": \"algo-1\", \"Operation\": \"training\", \"epoch\": 10, \"model\": 8}, \"Metrics\": {\"validation_binary_classification_cross_entropy_objective\": {\"sum\": 0.029253736844686493, \"count\": 1, \"min\": 0.029253736844686493, \"max\": 0.029253736844686493}}}\u001b[0m\n",
      "\u001b[34m#metrics {\"StartTime\": 1650323851.3229783, \"EndTime\": 1650323851.3229954, \"Dimensions\": {\"Algorithm\": \"Linear Learner\", \"Host\": \"algo-1\", \"Operation\": \"training\", \"epoch\": 10, \"model\": 9}, \"Metrics\": {\"validation_binary_classification_cross_entropy_objective\": {\"sum\": 0.023895809804776104, \"count\": 1, \"min\": 0.023895809804776104, \"max\": 0.023895809804776104}}}\u001b[0m\n",
      "\u001b[34m#metrics {\"StartTime\": 1650323851.3230665, \"EndTime\": 1650323851.3230865, \"Dimensions\": {\"Algorithm\": \"Linear Learner\", \"Host\": \"algo-1\", \"Operation\": \"training\", \"epoch\": 10, \"model\": 10}, \"Metrics\": {\"validation_binary_classification_cross_entropy_objective\": {\"sum\": 0.023913208916572424, \"count\": 1, \"min\": 0.023913208916572424, \"max\": 0.023913208916572424}}}\u001b[0m\n",
      "\u001b[34m#metrics {\"StartTime\": 1650323851.323145, \"EndTime\": 1650323851.323162, \"Dimensions\": {\"Algorithm\": \"Linear Learner\", \"Host\": \"algo-1\", \"Operation\": \"training\", \"epoch\": 10, \"model\": 11}, \"Metrics\": {\"validation_binary_classification_cross_entropy_objective\": {\"sum\": 0.023895755648618077, \"count\": 1, \"min\": 0.023895755648618077, \"max\": 0.023895755648618077}}}\u001b[0m\n",
      "\u001b[34m#metrics {\"StartTime\": 1650323851.3232207, \"EndTime\": 1650323851.3232384, \"Dimensions\": {\"Algorithm\": \"Linear Learner\", \"Host\": \"algo-1\", \"Operation\": \"training\", \"epoch\": 10, \"model\": 12}, \"Metrics\": {\"validation_binary_classification_cross_entropy_objective\": {\"sum\": 0.023897852736219277, \"count\": 1, \"min\": 0.023897852736219277, \"max\": 0.023897852736219277}}}\u001b[0m\n",
      "\u001b[34m#metrics {\"StartTime\": 1650323851.3233078, \"EndTime\": 1650323851.3233256, \"Dimensions\": {\"Algorithm\": \"Linear Learner\", \"Host\": \"algo-1\", \"Operation\": \"training\", \"epoch\": 10, \"model\": 13}, \"Metrics\": {\"validation_binary_classification_cross_entropy_objective\": {\"sum\": 0.02330618620856119, \"count\": 1, \"min\": 0.02330618620856119, \"max\": 0.02330618620856119}}}\u001b[0m\n",
      "\u001b[34m#metrics {\"StartTime\": 1650323851.3233979, \"EndTime\": 1650323851.3234177, \"Dimensions\": {\"Algorithm\": \"Linear Learner\", \"Host\": \"algo-1\", \"Operation\": \"training\", \"epoch\": 10, \"model\": 14}, \"Metrics\": {\"validation_binary_classification_cross_entropy_objective\": {\"sum\": 0.02391364269643638, \"count\": 1, \"min\": 0.02391364269643638, \"max\": 0.02391364269643638}}}\u001b[0m\n",
      "\u001b[34m#metrics {\"StartTime\": 1650323851.323487, \"EndTime\": 1650323851.323505, \"Dimensions\": {\"Algorithm\": \"Linear Learner\", \"Host\": \"algo-1\", \"Operation\": \"training\", \"epoch\": 10, \"model\": 15}, \"Metrics\": {\"validation_binary_classification_cross_entropy_objective\": {\"sum\": 0.023306197158740428, \"count\": 1, \"min\": 0.023306197158740428, \"max\": 0.023306197158740428}}}\u001b[0m\n",
      "\u001b[34m#metrics {\"StartTime\": 1650323851.3235748, \"EndTime\": 1650323851.3235931, \"Dimensions\": {\"Algorithm\": \"Linear Learner\", \"Host\": \"algo-1\", \"Operation\": \"training\", \"epoch\": 10, \"model\": 16}, \"Metrics\": {\"validation_binary_classification_cross_entropy_objective\": {\"sum\": 0.3825499671787374, \"count\": 1, \"min\": 0.3825499671787374, \"max\": 0.3825499671787374}}}\u001b[0m\n",
      "\u001b[34m#metrics {\"StartTime\": 1650323851.323662, \"EndTime\": 1650323851.323681, \"Dimensions\": {\"Algorithm\": \"Linear Learner\", \"Host\": \"algo-1\", \"Operation\": \"training\", \"epoch\": 10, \"model\": 17}, \"Metrics\": {\"validation_binary_classification_cross_entropy_objective\": {\"sum\": 0.3825397576467652, \"count\": 1, \"min\": 0.3825397576467652, \"max\": 0.3825397576467652}}}\u001b[0m\n",
      "\u001b[34m#metrics {\"StartTime\": 1650323851.3237472, \"EndTime\": 1650323851.3237658, \"Dimensions\": {\"Algorithm\": \"Linear Learner\", \"Host\": \"algo-1\", \"Operation\": \"training\", \"epoch\": 10, \"model\": 18}, \"Metrics\": {\"validation_binary_classification_cross_entropy_objective\": {\"sum\": 0.3827289174101428, \"count\": 1, \"min\": 0.3827289174101428, \"max\": 0.3827289174101428}}}\u001b[0m\n",
      "\u001b[34m#metrics {\"StartTime\": 1650323851.3238232, \"EndTime\": 1650323851.3238401, \"Dimensions\": {\"Algorithm\": \"Linear Learner\", \"Host\": \"algo-1\", \"Operation\": \"training\", \"epoch\": 10, \"model\": 19}, \"Metrics\": {\"validation_binary_classification_cross_entropy_objective\": {\"sum\": 0.38253975746018065, \"count\": 1, \"min\": 0.38253975746018065, \"max\": 0.38253975746018065}}}\u001b[0m\n",
      "\u001b[34m#metrics {\"StartTime\": 1650323851.3239033, \"EndTime\": 1650323851.32392, \"Dimensions\": {\"Algorithm\": \"Linear Learner\", \"Host\": \"algo-1\", \"Operation\": \"training\", \"epoch\": 10, \"model\": 20}, \"Metrics\": {\"validation_binary_classification_cross_entropy_objective\": {\"sum\": 0.38255002744553857, \"count\": 1, \"min\": 0.38255002744553857, \"max\": 0.38255002744553857}}}\u001b[0m\n",
      "\u001b[34m#metrics {\"StartTime\": 1650323851.3239813, \"EndTime\": 1650323851.3239992, \"Dimensions\": {\"Algorithm\": \"Linear Learner\", \"Host\": \"algo-1\", \"Operation\": \"training\", \"epoch\": 10, \"model\": 21}, \"Metrics\": {\"validation_binary_classification_cross_entropy_objective\": {\"sum\": 0.3923610818588041, \"count\": 1, \"min\": 0.3923610818588041, \"max\": 0.3923610818588041}}}\u001b[0m\n",
      "\u001b[34m#metrics {\"StartTime\": 1650323851.324064, \"EndTime\": 1650323851.3240795, \"Dimensions\": {\"Algorithm\": \"Linear Learner\", \"Host\": \"algo-1\", \"Operation\": \"training\", \"epoch\": 10, \"model\": 22}, \"Metrics\": {\"validation_binary_classification_cross_entropy_objective\": {\"sum\": 0.38272891703697376, \"count\": 1, \"min\": 0.38272891703697376, \"max\": 0.38272891703697376}}}\u001b[0m\n",
      "\u001b[34m#metrics {\"StartTime\": 1650323851.3241427, \"EndTime\": 1650323851.3241618, \"Dimensions\": {\"Algorithm\": \"Linear Learner\", \"Host\": \"algo-1\", \"Operation\": \"training\", \"epoch\": 10, \"model\": 23}, \"Metrics\": {\"validation_binary_classification_cross_entropy_objective\": {\"sum\": 0.39236107756736005, \"count\": 1, \"min\": 0.39236107756736005, \"max\": 0.39236107756736005}}}\u001b[0m\n",
      "\u001b[34m#metrics {\"StartTime\": 1650323851.324234, \"EndTime\": 1650323851.3242528, \"Dimensions\": {\"Algorithm\": \"Linear Learner\", \"Host\": \"algo-1\", \"Operation\": \"training\", \"epoch\": 10, \"model\": 24}, \"Metrics\": {\"validation_binary_classification_cross_entropy_objective\": {\"sum\": 0.5121435303792683, \"count\": 1, \"min\": 0.5121435303792683, \"max\": 0.5121435303792683}}}\u001b[0m\n",
      "\u001b[34m#metrics {\"StartTime\": 1650323851.3243108, \"EndTime\": 1650323851.3243282, \"Dimensions\": {\"Algorithm\": \"Linear Learner\", \"Host\": \"algo-1\", \"Operation\": \"training\", \"epoch\": 10, \"model\": 25}, \"Metrics\": {\"validation_binary_classification_cross_entropy_objective\": {\"sum\": 0.512168321864943, \"count\": 1, \"min\": 0.512168321864943, \"max\": 0.512168321864943}}}\u001b[0m\n",
      "\u001b[34m#metrics {\"StartTime\": 1650323851.324384, \"EndTime\": 1650323851.3244011, \"Dimensions\": {\"Algorithm\": \"Linear Learner\", \"Host\": \"algo-1\", \"Operation\": \"training\", \"epoch\": 10, \"model\": 26}, \"Metrics\": {\"validation_binary_classification_cross_entropy_objective\": {\"sum\": 0.512039320123969, \"count\": 1, \"min\": 0.512039320123969, \"max\": 0.512039320123969}}}\u001b[0m\n",
      "\u001b[34m#metrics {\"StartTime\": 1650323851.324455, \"EndTime\": 1650323851.3244712, \"Dimensions\": {\"Algorithm\": \"Linear Learner\", \"Host\": \"algo-1\", \"Operation\": \"training\", \"epoch\": 10, \"model\": 27}, \"Metrics\": {\"validation_binary_classification_cross_entropy_objective\": {\"sum\": 0.5121683220515275, \"count\": 1, \"min\": 0.5121683220515275, \"max\": 0.5121683220515275}}}\u001b[0m\n",
      "\u001b[34m#metrics {\"StartTime\": 1650323851.3245237, \"EndTime\": 1650323851.3245394, \"Dimensions\": {\"Algorithm\": \"Linear Learner\", \"Host\": \"algo-1\", \"Operation\": \"training\", \"epoch\": 10, \"model\": 28}, \"Metrics\": {\"validation_binary_classification_cross_entropy_objective\": {\"sum\": 0.5121435292597611, \"count\": 1, \"min\": 0.5121435292597611, \"max\": 0.5121435292597611}}}\u001b[0m\n",
      "\u001b[34m#metrics {\"StartTime\": 1650323851.3245947, \"EndTime\": 1650323851.3246124, \"Dimensions\": {\"Algorithm\": \"Linear Learner\", \"Host\": \"algo-1\", \"Operation\": \"training\", \"epoch\": 10, \"model\": 29}, \"Metrics\": {\"validation_binary_classification_cross_entropy_objective\": {\"sum\": 0.51355756828295, \"count\": 1, \"min\": 0.51355756828295, \"max\": 0.51355756828295}}}\u001b[0m\n",
      "\u001b[34m#metrics {\"StartTime\": 1650323851.3246658, \"EndTime\": 1650323851.324685, \"Dimensions\": {\"Algorithm\": \"Linear Learner\", \"Host\": \"algo-1\", \"Operation\": \"training\", \"epoch\": 10, \"model\": 30}, \"Metrics\": {\"validation_binary_classification_cross_entropy_objective\": {\"sum\": 0.5120393197508, \"count\": 1, \"min\": 0.5120393197508, \"max\": 0.5120393197508}}}\u001b[0m\n",
      "\u001b[34m#metrics {\"StartTime\": 1650323851.324739, \"EndTime\": 1650323851.3247566, \"Dimensions\": {\"Algorithm\": \"Linear Learner\", \"Host\": \"algo-1\", \"Operation\": \"training\", \"epoch\": 10, \"model\": 31}, \"Metrics\": {\"validation_binary_classification_cross_entropy_objective\": {\"sum\": 0.5135575983230584, \"count\": 1, \"min\": 0.5135575983230584, \"max\": 0.5135575983230584}}}\u001b[0m\n",
      "\u001b[34m[04/18/2022 23:17:31 INFO 140493168445248] #quality_metric: host=algo-1, epoch=10, validation binary_classification_cross_entropy_objective <loss>=0.01974927698389749\u001b[0m\n",
      "\u001b[34m[04/18/2022 23:17:31 INFO 140493168445248] #early_stopping_criteria_metric: host=algo-1, epoch=10, criteria=sampled_accuracy, value=0.9995781338844086\u001b[0m\n",
      "\u001b[34m[04/18/2022 23:17:31 INFO 140493168445248] Epoch 10: Loss improved. Updating best model\u001b[0m\n",
      "\u001b[34m[04/18/2022 23:17:31 INFO 140493168445248] Saving model for epoch: 10\u001b[0m\n",
      "\u001b[34m[04/18/2022 23:17:31 INFO 140493168445248] Saved checkpoint to \"/tmp/tmpunncq4jc/mx-mod-0000.params\"\u001b[0m\n",
      "\u001b[34m[04/18/2022 23:17:31 INFO 140493168445248] #progress_metric: host=algo-1, completed 73.33333333333333 % of epochs\u001b[0m\n",
      "\u001b[34m#metrics {\"StartTime\": 1650323783.470843, \"EndTime\": 1650323851.3327363, \"Dimensions\": {\"Algorithm\": \"Linear Learner\", \"Host\": \"algo-1\", \"Operation\": \"training\", \"epoch\": 10, \"Meta\": \"training_data_iter\"}, \"Metrics\": {\"Total Records Seen\": {\"sum\": 14405192.0, \"count\": 1, \"min\": 14405192, \"max\": 14405192}, \"Total Batches Seen\": {\"sum\": 14411.0, \"count\": 1, \"min\": 14411, \"max\": 14411}, \"Max Records Seen Between Resets\": {\"sum\": 1308472.0, \"count\": 1, \"min\": 1308472, \"max\": 1308472}, \"Max Batches Seen Between Resets\": {\"sum\": 1309.0, \"count\": 1, \"min\": 1309, \"max\": 1309}, \"Reset Count\": {\"sum\": 13.0, \"count\": 1, \"min\": 13, \"max\": 13}, \"Number of Records Since Last Reset\": {\"sum\": 1308472.0, \"count\": 1, \"min\": 1308472, \"max\": 1308472}, \"Number of Batches Since Last Reset\": {\"sum\": 1309.0, \"count\": 1, \"min\": 1309, \"max\": 1309}}}\u001b[0m\n",
      "\u001b[34m[04/18/2022 23:17:31 INFO 140493168445248] #throughput_metric: host=algo-1, train throughput=19281.35137518907 records/second\u001b[0m\n",
      "\u001b[34m[2022-04-18 23:18:32.684] [tensorio] [info] epoch_stats={\"data_pipeline\": \"/opt/ml/input/data/train\", \"epoch\": 25, \"duration\": 61351, \"num_examples\": 1309, \"num_bytes\": 560026016}\u001b[0m\n",
      "\u001b[34m#metrics {\"StartTime\": 1650323912.685002, \"EndTime\": 1650323912.6855326, \"Dimensions\": {\"Algorithm\": \"Linear Learner\", \"Host\": \"algo-1\", \"Operation\": \"training\", \"epoch\": 11, \"model\": 0}, \"Metrics\": {\"train_binary_classification_cross_entropy_objective\": {\"sum\": 0.019602347850799562, \"count\": 1, \"min\": 0.019602347850799562, \"max\": 0.019602347850799562}}}\u001b[0m\n",
      "\u001b[34m#metrics {\"StartTime\": 1650323912.6857147, \"EndTime\": 1650323912.6857445, \"Dimensions\": {\"Algorithm\": \"Linear Learner\", \"Host\": \"algo-1\", \"Operation\": \"training\", \"epoch\": 11, \"model\": 1}, \"Metrics\": {\"train_binary_classification_cross_entropy_objective\": {\"sum\": 0.0004969811281844381, \"count\": 1, \"min\": 0.0004969811281844381, \"max\": 0.0004969811281844381}}}\u001b[0m\n",
      "\u001b[34m#metrics {\"StartTime\": 1650323912.6858263, \"EndTime\": 1650323912.6858463, \"Dimensions\": {\"Algorithm\": \"Linear Learner\", \"Host\": \"algo-1\", \"Operation\": \"training\", \"epoch\": 11, \"model\": 2}, \"Metrics\": {\"train_binary_classification_cross_entropy_objective\": {\"sum\": 0.007569437513657666, \"count\": 1, \"min\": 0.007569437513657666, \"max\": 0.007569437513657666}}}\u001b[0m\n",
      "\u001b[34m#metrics {\"StartTime\": 1650323912.6859121, \"EndTime\": 1650323912.685934, \"Dimensions\": {\"Algorithm\": \"Linear Learner\", \"Host\": \"algo-1\", \"Operation\": \"training\", \"epoch\": 11, \"model\": 3}, \"Metrics\": {\"train_binary_classification_cross_entropy_objective\": {\"sum\": 0.0004969805401126179, \"count\": 1, \"min\": 0.0004969805401126179, \"max\": 0.0004969805401126179}}}\u001b[0m\n",
      "\u001b[34m#metrics {\"StartTime\": 1650323912.6859963, \"EndTime\": 1650323912.6860158, \"Dimensions\": {\"Algorithm\": \"Linear Learner\", \"Host\": \"algo-1\", \"Operation\": \"training\", \"epoch\": 11, \"model\": 4}, \"Metrics\": {\"train_binary_classification_cross_entropy_objective\": {\"sum\": 0.0005080933484507992, \"count\": 1, \"min\": 0.0005080933484507992, \"max\": 0.0005080933484507992}}}\u001b[0m\n",
      "\u001b[34m#metrics {\"StartTime\": 1650323912.6860695, \"EndTime\": 1650323912.6860847, \"Dimensions\": {\"Algorithm\": \"Linear Learner\", \"Host\": \"algo-1\", \"Operation\": \"training\", \"epoch\": 11, \"model\": 5}, \"Metrics\": {\"train_binary_classification_cross_entropy_objective\": {\"sum\": 0.0004978903537724361, \"count\": 1, \"min\": 0.0004978903537724361, \"max\": 0.0004978903537724361}}}\u001b[0m\n",
      "\u001b[34m#metrics {\"StartTime\": 1650323912.6861699, \"EndTime\": 1650323912.686188, \"Dimensions\": {\"Algorithm\": \"Linear Learner\", \"Host\": \"algo-1\", \"Operation\": \"training\", \"epoch\": 11, \"model\": 6}, \"Metrics\": {\"train_binary_classification_cross_entropy_objective\": {\"sum\": 0.0004969767291976042, \"count\": 1, \"min\": 0.0004969767291976042, \"max\": 0.0004969767291976042}}}\u001b[0m\n",
      "\u001b[34m#metrics {\"StartTime\": 1650323912.6862454, \"EndTime\": 1650323912.6862626, \"Dimensions\": {\"Algorithm\": \"Linear Learner\", \"Host\": \"algo-1\", \"Operation\": \"training\", \"epoch\": 11, \"model\": 7}, \"Metrics\": {\"train_binary_classification_cross_entropy_objective\": {\"sum\": 0.0004978907594987012, \"count\": 1, \"min\": 0.0004978907594987012, \"max\": 0.0004978907594987012}}}\u001b[0m\n",
      "\u001b[34m#metrics {\"StartTime\": 1650323912.6863246, \"EndTime\": 1650323912.686346, \"Dimensions\": {\"Algorithm\": \"Linear Learner\", \"Host\": \"algo-1\", \"Operation\": \"training\", \"epoch\": 11, \"model\": 8}, \"Metrics\": {\"train_binary_classification_cross_entropy_objective\": {\"sum\": 0.029046996121012837, \"count\": 1, \"min\": 0.029046996121012837, \"max\": 0.029046996121012837}}}\u001b[0m\n",
      "\u001b[34m#metrics {\"StartTime\": 1650323912.686405, \"EndTime\": 1650323912.6864202, \"Dimensions\": {\"Algorithm\": \"Linear Learner\", \"Host\": \"algo-1\", \"Operation\": \"training\", \"epoch\": 11, \"model\": 9}, \"Metrics\": {\"train_binary_classification_cross_entropy_objective\": {\"sum\": 0.02390133576874339, \"count\": 1, \"min\": 0.02390133576874339, \"max\": 0.02390133576874339}}}\u001b[0m\n",
      "\u001b[34m#metrics {\"StartTime\": 1650323912.6864727, \"EndTime\": 1650323912.6864896, \"Dimensions\": {\"Algorithm\": \"Linear Learner\", \"Host\": \"algo-1\", \"Operation\": \"training\", \"epoch\": 11, \"model\": 10}, \"Metrics\": {\"train_binary_classification_cross_entropy_objective\": {\"sum\": 0.0238971107421665, \"count\": 1, \"min\": 0.0238971107421665, \"max\": 0.0238971107421665}}}\u001b[0m\n",
      "\u001b[34m#metrics {\"StartTime\": 1650323912.686545, \"EndTime\": 1650323912.6865623, \"Dimensions\": {\"Algorithm\": \"Linear Learner\", \"Host\": \"algo-1\", \"Operation\": \"training\", \"epoch\": 11, \"model\": 11}, \"Metrics\": {\"train_binary_classification_cross_entropy_objective\": {\"sum\": 0.023901331698858046, \"count\": 1, \"min\": 0.023901331698858046, \"max\": 0.023901331698858046}}}\u001b[0m\n",
      "\u001b[34m#metrics {\"StartTime\": 1650323912.6866114, \"EndTime\": 1650323912.6866221, \"Dimensions\": {\"Algorithm\": \"Linear Learner\", \"Host\": \"algo-1\", \"Operation\": \"training\", \"epoch\": 11, \"model\": 12}, \"Metrics\": {\"train_binary_classification_cross_entropy_objective\": {\"sum\": 0.023896371688317816, \"count\": 1, \"min\": 0.023896371688317816, \"max\": 0.023896371688317816}}}\u001b[0m\n",
      "\u001b[34m#metrics {\"StartTime\": 1650323912.6866503, \"EndTime\": 1650323912.6866581, \"Dimensions\": {\"Algorithm\": \"Linear Learner\", \"Host\": \"algo-1\", \"Operation\": \"training\", \"epoch\": 11, \"model\": 13}, \"Metrics\": {\"train_binary_classification_cross_entropy_objective\": {\"sum\": 0.02398091475606329, \"count\": 1, \"min\": 0.02398091475606329, \"max\": 0.02398091475606329}}}\u001b[0m\n",
      "\u001b[34m#metrics {\"StartTime\": 1650323912.6866837, \"EndTime\": 1650323912.6866913, \"Dimensions\": {\"Algorithm\": \"Linear Learner\", \"Host\": \"algo-1\", \"Operation\": \"training\", \"epoch\": 11, \"model\": 14}, \"Metrics\": {\"train_binary_classification_cross_entropy_objective\": {\"sum\": 0.023897113846711792, \"count\": 1, \"min\": 0.023897113846711792, \"max\": 0.023897113846711792}}}\u001b[0m\n",
      "\u001b[34m#metrics {\"StartTime\": 1650323912.6867163, \"EndTime\": 1650323912.686724, \"Dimensions\": {\"Algorithm\": \"Linear Learner\", \"Host\": \"algo-1\", \"Operation\": \"training\", \"epoch\": 11, \"model\": 15}, \"Metrics\": {\"train_binary_classification_cross_entropy_objective\": {\"sum\": 0.023980914845014568, \"count\": 1, \"min\": 0.023980914845014568, \"max\": 0.023980914845014568}}}\u001b[0m\n",
      "\u001b[34m#metrics {\"StartTime\": 1650323912.686763, \"EndTime\": 1650323912.6867783, \"Dimensions\": {\"Algorithm\": \"Linear Learner\", \"Host\": \"algo-1\", \"Operation\": \"training\", \"epoch\": 11, \"model\": 16}, \"Metrics\": {\"train_binary_classification_cross_entropy_objective\": {\"sum\": 0.38249198572934584, \"count\": 1, \"min\": 0.38249198572934584, \"max\": 0.38249198572934584}}}\u001b[0m\n",
      "\u001b[34m#metrics {\"StartTime\": 1650323912.6868281, \"EndTime\": 1650323912.6868427, \"Dimensions\": {\"Algorithm\": \"Linear Learner\", \"Host\": \"algo-1\", \"Operation\": \"training\", \"epoch\": 11, \"model\": 17}, \"Metrics\": {\"train_binary_classification_cross_entropy_objective\": {\"sum\": 0.38255653430343767, \"count\": 1, \"min\": 0.38255653430343767, \"max\": 0.38255653430343767}}}\u001b[0m\n",
      "\u001b[34m#metrics {\"StartTime\": 1650323912.6869044, \"EndTime\": 1650323912.686922, \"Dimensions\": {\"Algorithm\": \"Linear Learner\", \"Host\": \"algo-1\", \"Operation\": \"training\", \"epoch\": 11, \"model\": 18}, \"Metrics\": {\"train_binary_classification_cross_entropy_objective\": {\"sum\": 0.3824983817517575, \"count\": 1, \"min\": 0.3824983817517575, \"max\": 0.3824983817517575}}}\u001b[0m\n",
      "\u001b[34m#metrics {\"StartTime\": 1650323912.6869812, \"EndTime\": 1650323912.6869977, \"Dimensions\": {\"Algorithm\": \"Linear Learner\", \"Host\": \"algo-1\", \"Operation\": \"training\", \"epoch\": 11, \"model\": 19}, \"Metrics\": {\"train_binary_classification_cross_entropy_objective\": {\"sum\": 0.38255653393013395, \"count\": 1, \"min\": 0.38255653393013395, \"max\": 0.38255653393013395}}}\u001b[0m\n",
      "\u001b[34m#metrics {\"StartTime\": 1650323912.6870537, \"EndTime\": 1650323912.68707, \"Dimensions\": {\"Algorithm\": \"Linear Learner\", \"Host\": \"algo-1\", \"Operation\": \"training\", \"epoch\": 11, \"model\": 20}, \"Metrics\": {\"train_binary_classification_cross_entropy_objective\": {\"sum\": 0.3824920165968962, \"count\": 1, \"min\": 0.3824920165968962, \"max\": 0.3824920165968962}}}\u001b[0m\n",
      "\u001b[34m#metrics {\"StartTime\": 1650323912.6871352, \"EndTime\": 1650323912.6871533, \"Dimensions\": {\"Algorithm\": \"Linear Learner\", \"Host\": \"algo-1\", \"Operation\": \"training\", \"epoch\": 11, \"model\": 21}, \"Metrics\": {\"train_binary_classification_cross_entropy_objective\": {\"sum\": 0.38353996533501766, \"count\": 1, \"min\": 0.38353996533501766, \"max\": 0.38353996533501766}}}\u001b[0m\n",
      "\u001b[34m#metrics {\"StartTime\": 1650323912.6872072, \"EndTime\": 1650323912.6872222, \"Dimensions\": {\"Algorithm\": \"Linear Learner\", \"Host\": \"algo-1\", \"Operation\": \"training\", \"epoch\": 11, \"model\": 22}, \"Metrics\": {\"train_binary_classification_cross_entropy_objective\": {\"sum\": 0.3824983804451945, \"count\": 1, \"min\": 0.3824983804451945, \"max\": 0.3824983804451945}}}\u001b[0m\n",
      "\u001b[34m#metrics {\"StartTime\": 1650323912.6872866, \"EndTime\": 1650323912.6873043, \"Dimensions\": {\"Algorithm\": \"Linear Learner\", \"Host\": \"algo-1\", \"Operation\": \"training\", \"epoch\": 11, \"model\": 23}, \"Metrics\": {\"train_binary_classification_cross_entropy_objective\": {\"sum\": 0.38353996524169176, \"count\": 1, \"min\": 0.38353996524169176, \"max\": 0.38353996524169176}}}\u001b[0m\n",
      "\u001b[34m#metrics {\"StartTime\": 1650323912.68737, \"EndTime\": 1650323912.6873865, \"Dimensions\": {\"Algorithm\": \"Linear Learner\", \"Host\": \"algo-1\", \"Operation\": \"training\", \"epoch\": 11, \"model\": 24}, \"Metrics\": {\"train_binary_classification_cross_entropy_objective\": {\"sum\": 0.5121383446509685, \"count\": 1, \"min\": 0.5121383446509685, \"max\": 0.5121383446509685}}}\u001b[0m\n",
      "\u001b[34m#metrics {\"StartTime\": 1650323912.687441, \"EndTime\": 1650323912.6874568, \"Dimensions\": {\"Algorithm\": \"Linear Learner\", \"Host\": \"algo-1\", \"Operation\": \"training\", \"epoch\": 11, \"model\": 25}, \"Metrics\": {\"train_binary_classification_cross_entropy_objective\": {\"sum\": 0.5121694608215892, \"count\": 1, \"min\": 0.5121694608215892, \"max\": 0.5121694608215892}}}\u001b[0m\n",
      "\u001b[34m#metrics {\"StartTime\": 1650323912.6875095, \"EndTime\": 1650323912.6875281, \"Dimensions\": {\"Algorithm\": \"Linear Learner\", \"Host\": \"algo-1\", \"Operation\": \"training\", \"epoch\": 11, \"model\": 26}, \"Metrics\": {\"train_binary_classification_cross_entropy_objective\": {\"sum\": 0.51214212243783, \"count\": 1, \"min\": 0.51214212243783, \"max\": 0.51214212243783}}}\u001b[0m\n",
      "\u001b[34m#metrics {\"StartTime\": 1650323912.6875806, \"EndTime\": 1650323912.6875982, \"Dimensions\": {\"Algorithm\": \"Linear Learner\", \"Host\": \"algo-1\", \"Operation\": \"training\", \"epoch\": 11, \"model\": 27}, \"Metrics\": {\"train_binary_classification_cross_entropy_objective\": {\"sum\": 0.5121694605182799, \"count\": 1, \"min\": 0.5121694605182799, \"max\": 0.5121694605182799}}}\u001b[0m\n",
      "\u001b[34m#metrics {\"StartTime\": 1650323912.687653, \"EndTime\": 1650323912.6876698, \"Dimensions\": {\"Algorithm\": \"Linear Learner\", \"Host\": \"algo-1\", \"Operation\": \"training\", \"epoch\": 11, \"model\": 28}, \"Metrics\": {\"train_binary_classification_cross_entropy_objective\": {\"sum\": 0.5121383443009963, \"count\": 1, \"min\": 0.5121383443009963, \"max\": 0.5121383443009963}}}\u001b[0m\n",
      "\u001b[34m#metrics {\"StartTime\": 1650323912.6877227, \"EndTime\": 1650323912.687739, \"Dimensions\": {\"Algorithm\": \"Linear Learner\", \"Host\": \"algo-1\", \"Operation\": \"training\", \"epoch\": 11, \"model\": 29}, \"Metrics\": {\"train_binary_classification_cross_entropy_objective\": {\"sum\": 0.512626654015404, \"count\": 1, \"min\": 0.512626654015404, \"max\": 0.512626654015404}}}\u001b[0m\n",
      "\u001b[34m#metrics {\"StartTime\": 1650323912.6877928, \"EndTime\": 1650323912.687809, \"Dimensions\": {\"Algorithm\": \"Linear Learner\", \"Host\": \"algo-1\", \"Operation\": \"training\", \"epoch\": 11, \"model\": 30}, \"Metrics\": {\"train_binary_classification_cross_entropy_objective\": {\"sum\": 0.5121421226011503, \"count\": 1, \"min\": 0.5121421226011503, \"max\": 0.5121421226011503}}}\u001b[0m\n",
      "\u001b[34m#metrics {\"StartTime\": 1650323912.6878586, \"EndTime\": 1650323912.6878777, \"Dimensions\": {\"Algorithm\": \"Linear Learner\", \"Host\": \"algo-1\", \"Operation\": \"training\", \"epoch\": 11, \"model\": 31}, \"Metrics\": {\"train_binary_classification_cross_entropy_objective\": {\"sum\": 0.5126266532221336, \"count\": 1, \"min\": 0.5126266532221336, \"max\": 0.5126266532221336}}}\u001b[0m\n",
      "\u001b[34m[04/18/2022 23:18:32 INFO 140493168445248] #quality_metric: host=algo-1, epoch=11, train binary_classification_cross_entropy_objective <loss>=0.019602347850799562\u001b[0m\n",
      "\u001b[34m[2022-04-18 23:18:38.281] [tensorio] [info] epoch_stats={\"data_pipeline\": \"/opt/ml/input/data/validation\", \"epoch\": 35, \"duration\": 5562, \"num_examples\": 164, \"num_bytes\": 70003252}\u001b[0m\n",
      "\u001b[34m#metrics {\"StartTime\": 1650323920.3497443, \"EndTime\": 1650323920.3498707, \"Dimensions\": {\"Algorithm\": \"Linear Learner\", \"Host\": \"algo-1\", \"Operation\": \"training\", \"epoch\": 11, \"model\": 0}, \"Metrics\": {\"validation_binary_classification_cross_entropy_objective\": {\"sum\": 0.01944589617492009, \"count\": 1, \"min\": 0.01944589617492009, \"max\": 0.01944589617492009}}}\u001b[0m\n",
      "\u001b[34m#metrics {\"StartTime\": 1650323920.3500137, \"EndTime\": 1650323920.3500388, \"Dimensions\": {\"Algorithm\": \"Linear Learner\", \"Host\": \"algo-1\", \"Operation\": \"training\", \"epoch\": 11, \"model\": 1}, \"Metrics\": {\"validation_binary_classification_cross_entropy_objective\": {\"sum\": 0.0004975514236449356, \"count\": 1, \"min\": 0.0004975514236449356, \"max\": 0.0004975514236449356}}}\u001b[0m\n",
      "\u001b[34m#metrics {\"StartTime\": 1650323920.3505394, \"EndTime\": 1650323920.3505654, \"Dimensions\": {\"Algorithm\": \"Linear Learner\", \"Host\": \"algo-1\", \"Operation\": \"training\", \"epoch\": 11, \"model\": 2}, \"Metrics\": {\"validation_binary_classification_cross_entropy_objective\": {\"sum\": 0.007051026279093856, \"count\": 1, \"min\": 0.007051026279093856, \"max\": 0.007051026279093856}}}\u001b[0m\n",
      "\u001b[34m#metrics {\"StartTime\": 1650323920.350635, \"EndTime\": 1650323920.3506546, \"Dimensions\": {\"Algorithm\": \"Linear Learner\", \"Host\": \"algo-1\", \"Operation\": \"training\", \"epoch\": 11, \"model\": 3}, \"Metrics\": {\"validation_binary_classification_cross_entropy_objective\": {\"sum\": 0.0004975494703382022, \"count\": 1, \"min\": 0.0004975494703382022, \"max\": 0.0004975494703382022}}}\u001b[0m\n",
      "\u001b[34m#metrics {\"StartTime\": 1650323920.350714, \"EndTime\": 1650323920.3507335, \"Dimensions\": {\"Algorithm\": \"Linear Learner\", \"Host\": \"algo-1\", \"Operation\": \"training\", \"epoch\": 11, \"model\": 4}, \"Metrics\": {\"validation_binary_classification_cross_entropy_objective\": {\"sum\": 0.0005065736195337319, \"count\": 1, \"min\": 0.0005065736195337319, \"max\": 0.0005065736195337319}}}\u001b[0m\n",
      "\u001b[34m#metrics {\"StartTime\": 1650323920.3507922, \"EndTime\": 1650323920.3508103, \"Dimensions\": {\"Algorithm\": \"Linear Learner\", \"Host\": \"algo-1\", \"Operation\": \"training\", \"epoch\": 11, \"model\": 5}, \"Metrics\": {\"validation_binary_classification_cross_entropy_objective\": {\"sum\": 0.00048364130469145597, \"count\": 1, \"min\": 0.00048364130469145597, \"max\": 0.00048364130469145597}}}\u001b[0m\n",
      "\u001b[34m#metrics {\"StartTime\": 1650323920.350872, \"EndTime\": 1650323920.3508906, \"Dimensions\": {\"Algorithm\": \"Linear Learner\", \"Host\": \"algo-1\", \"Operation\": \"training\", \"epoch\": 11, \"model\": 6}, \"Metrics\": {\"validation_binary_classification_cross_entropy_objective\": {\"sum\": 0.000497203645580582, \"count\": 1, \"min\": 0.000497203645580582, \"max\": 0.000497203645580582}}}\u001b[0m\n",
      "\u001b[34m#metrics {\"StartTime\": 1650323920.3509502, \"EndTime\": 1650323920.3509681, \"Dimensions\": {\"Algorithm\": \"Linear Learner\", \"Host\": \"algo-1\", \"Operation\": \"training\", \"epoch\": 11, \"model\": 7}, \"Metrics\": {\"validation_binary_classification_cross_entropy_objective\": {\"sum\": 0.00048363349182894554, \"count\": 1, \"min\": 0.00048363349182894554, \"max\": 0.00048363349182894554}}}\u001b[0m\n",
      "\u001b[34m#metrics {\"StartTime\": 1650323920.3510253, \"EndTime\": 1650323920.3510423, \"Dimensions\": {\"Algorithm\": \"Linear Learner\", \"Host\": \"algo-1\", \"Operation\": \"training\", \"epoch\": 11, \"model\": 8}, \"Metrics\": {\"validation_binary_classification_cross_entropy_objective\": {\"sum\": 0.028838076868540563, \"count\": 1, \"min\": 0.028838076868540563, \"max\": 0.028838076868540563}}}\u001b[0m\n",
      "\u001b[34m#metrics {\"StartTime\": 1650323920.3510988, \"EndTime\": 1650323920.3511155, \"Dimensions\": {\"Algorithm\": \"Linear Learner\", \"Host\": \"algo-1\", \"Operation\": \"training\", \"epoch\": 11, \"model\": 9}, \"Metrics\": {\"validation_binary_classification_cross_entropy_objective\": {\"sum\": 0.023900993134508258, \"count\": 1, \"min\": 0.023900993134508258, \"max\": 0.023900993134508258}}}\u001b[0m\n",
      "\u001b[34m#metrics {\"StartTime\": 1650323920.351169, \"EndTime\": 1650323920.3511865, \"Dimensions\": {\"Algorithm\": \"Linear Learner\", \"Host\": \"algo-1\", \"Operation\": \"training\", \"epoch\": 11, \"model\": 10}, \"Metrics\": {\"validation_binary_classification_cross_entropy_objective\": {\"sum\": 0.023913507346856676, \"count\": 1, \"min\": 0.023913507346856676, \"max\": 0.023913507346856676}}}\u001b[0m\n",
      "\u001b[34m#metrics {\"StartTime\": 1650323920.35124, \"EndTime\": 1650323920.3512573, \"Dimensions\": {\"Algorithm\": \"Linear Learner\", \"Host\": \"algo-1\", \"Operation\": \"training\", \"epoch\": 11, \"model\": 11}, \"Metrics\": {\"validation_binary_classification_cross_entropy_objective\": {\"sum\": 0.023900993554323437, \"count\": 1, \"min\": 0.023900993554323437, \"max\": 0.023900993554323437}}}\u001b[0m\n",
      "\u001b[34m#metrics {\"StartTime\": 1650323920.3513112, \"EndTime\": 1650323920.3513277, \"Dimensions\": {\"Algorithm\": \"Linear Learner\", \"Host\": \"algo-1\", \"Operation\": \"training\", \"epoch\": 11, \"model\": 12}, \"Metrics\": {\"validation_binary_classification_cross_entropy_objective\": {\"sum\": 0.023897940716653004, \"count\": 1, \"min\": 0.023897940716653004, \"max\": 0.023897940716653004}}}\u001b[0m\n",
      "\u001b[34m#metrics {\"StartTime\": 1650323920.3513856, \"EndTime\": 1650323920.3514032, \"Dimensions\": {\"Algorithm\": \"Linear Learner\", \"Host\": \"algo-1\", \"Operation\": \"training\", \"epoch\": 11, \"model\": 13}, \"Metrics\": {\"validation_binary_classification_cross_entropy_objective\": {\"sum\": 0.02332281969408724, \"count\": 1, \"min\": 0.02332281969408724, \"max\": 0.02332281969408724}}}\u001b[0m\n",
      "\u001b[34m#metrics {\"StartTime\": 1650323920.351459, \"EndTime\": 1650323920.3514762, \"Dimensions\": {\"Algorithm\": \"Linear Learner\", \"Host\": \"algo-1\", \"Operation\": \"training\", \"epoch\": 11, \"model\": 14}, \"Metrics\": {\"validation_binary_classification_cross_entropy_objective\": {\"sum\": 0.023913647926633814, \"count\": 1, \"min\": 0.023913647926633814, \"max\": 0.023913647926633814}}}\u001b[0m\n",
      "\u001b[34m#metrics {\"StartTime\": 1650323920.3515317, \"EndTime\": 1650323920.3515487, \"Dimensions\": {\"Algorithm\": \"Linear Learner\", \"Host\": \"algo-1\", \"Operation\": \"training\", \"epoch\": 11, \"model\": 15}, \"Metrics\": {\"validation_binary_classification_cross_entropy_objective\": {\"sum\": 0.023322814073228462, \"count\": 1, \"min\": 0.023322814073228462, \"max\": 0.023322814073228462}}}\u001b[0m\n",
      "\u001b[34m#metrics {\"StartTime\": 1650323920.3516047, \"EndTime\": 1650323920.3516226, \"Dimensions\": {\"Algorithm\": \"Linear Learner\", \"Host\": \"algo-1\", \"Operation\": \"training\", \"epoch\": 11, \"model\": 16}, \"Metrics\": {\"validation_binary_classification_cross_entropy_objective\": {\"sum\": 0.3825499802396541, \"count\": 1, \"min\": 0.3825499802396541, \"max\": 0.3825499802396541}}}\u001b[0m\n",
      "\u001b[34m#metrics {\"StartTime\": 1650323920.351677, \"EndTime\": 1650323920.351694, \"Dimensions\": {\"Algorithm\": \"Linear Learner\", \"Host\": \"algo-1\", \"Operation\": \"training\", \"epoch\": 11, \"model\": 17}, \"Metrics\": {\"validation_binary_classification_cross_entropy_objective\": {\"sum\": 0.38270556038628695, \"count\": 1, \"min\": 0.38270556038628695, \"max\": 0.38270556038628695}}}\u001b[0m\n",
      "\u001b[34m#metrics {\"StartTime\": 1650323920.3517537, \"EndTime\": 1650323920.3517706, \"Dimensions\": {\"Algorithm\": \"Linear Learner\", \"Host\": \"algo-1\", \"Operation\": \"training\", \"epoch\": 11, \"model\": 18}, \"Metrics\": {\"validation_binary_classification_cross_entropy_objective\": {\"sum\": 0.38272890043095115, \"count\": 1, \"min\": 0.38272890043095115, \"max\": 0.38272890043095115}}}\u001b[0m\n",
      "\u001b[34m#metrics {\"StartTime\": 1650323920.3518279, \"EndTime\": 1650323920.3518443, \"Dimensions\": {\"Algorithm\": \"Linear Learner\", \"Host\": \"algo-1\", \"Operation\": \"training\", \"epoch\": 11, \"model\": 19}, \"Metrics\": {\"validation_binary_classification_cross_entropy_objective\": {\"sum\": 0.3827055601997024, \"count\": 1, \"min\": 0.3827055601997024, \"max\": 0.3827055601997024}}}\u001b[0m\n",
      "\u001b[34m#metrics {\"StartTime\": 1650323920.3518984, \"EndTime\": 1650323920.3519144, \"Dimensions\": {\"Algorithm\": \"Linear Learner\", \"Host\": \"algo-1\", \"Operation\": \"training\", \"epoch\": 11, \"model\": 20}, \"Metrics\": {\"validation_binary_classification_cross_entropy_objective\": {\"sum\": 0.3825500048688112, \"count\": 1, \"min\": 0.3825500048688112, \"max\": 0.3825500048688112}}}\u001b[0m\n",
      "\u001b[34m#metrics {\"StartTime\": 1650323920.3519685, \"EndTime\": 1650323920.351986, \"Dimensions\": {\"Algorithm\": \"Linear Learner\", \"Host\": \"algo-1\", \"Operation\": \"training\", \"epoch\": 11, \"model\": 21}, \"Metrics\": {\"validation_binary_classification_cross_entropy_objective\": {\"sum\": 0.3921647091109062, \"count\": 1, \"min\": 0.3921647091109062, \"max\": 0.3921647091109062}}}\u001b[0m\n",
      "\u001b[34m#metrics {\"StartTime\": 1650323920.3520412, \"EndTime\": 1650323920.3520584, \"Dimensions\": {\"Algorithm\": \"Linear Learner\", \"Host\": \"algo-1\", \"Operation\": \"training\", \"epoch\": 11, \"model\": 22}, \"Metrics\": {\"validation_binary_classification_cross_entropy_objective\": {\"sum\": 0.38272891685038923, \"count\": 1, \"min\": 0.38272891685038923, \"max\": 0.38272891685038923}}}\u001b[0m\n",
      "\u001b[34m#metrics {\"StartTime\": 1650323920.3521142, \"EndTime\": 1650323920.3521311, \"Dimensions\": {\"Algorithm\": \"Linear Learner\", \"Host\": \"algo-1\", \"Operation\": \"training\", \"epoch\": 11, \"model\": 23}, \"Metrics\": {\"validation_binary_classification_cross_entropy_objective\": {\"sum\": 0.39216471433527283, \"count\": 1, \"min\": 0.39216471433527283, \"max\": 0.39216471433527283}}}\u001b[0m\n",
      "\u001b[34m#metrics {\"StartTime\": 1650323920.3521855, \"EndTime\": 1650323920.3522043, \"Dimensions\": {\"Algorithm\": \"Linear Learner\", \"Host\": \"algo-1\", \"Operation\": \"training\", \"epoch\": 11, \"model\": 24}, \"Metrics\": {\"validation_binary_classification_cross_entropy_objective\": {\"sum\": 0.5121435298195147, \"count\": 1, \"min\": 0.5121435298195147, \"max\": 0.5121435298195147}}}\u001b[0m\n",
      "\u001b[34m#metrics {\"StartTime\": 1650323920.3522592, \"EndTime\": 1650323920.3522756, \"Dimensions\": {\"Algorithm\": \"Linear Learner\", \"Host\": \"algo-1\", \"Operation\": \"training\", \"epoch\": 11, \"model\": 25}, \"Metrics\": {\"validation_binary_classification_cross_entropy_objective\": {\"sum\": 0.5121769390845892, \"count\": 1, \"min\": 0.5121769390845892, \"max\": 0.5121769390845892}}}\u001b[0m\n",
      "\u001b[34m#metrics {\"StartTime\": 1650323920.3523302, \"EndTime\": 1650323920.352348, \"Dimensions\": {\"Algorithm\": \"Linear Learner\", \"Host\": \"algo-1\", \"Operation\": \"training\", \"epoch\": 11, \"model\": 26}, \"Metrics\": {\"validation_binary_classification_cross_entropy_objective\": {\"sum\": 0.5120393188178773, \"count\": 1, \"min\": 0.5120393188178773, \"max\": 0.5120393188178773}}}\u001b[0m\n",
      "\u001b[34m#metrics {\"StartTime\": 1650323920.3524015, \"EndTime\": 1650323920.3524175, \"Dimensions\": {\"Algorithm\": \"Linear Learner\", \"Host\": \"algo-1\", \"Operation\": \"training\", \"epoch\": 11, \"model\": 27}, \"Metrics\": {\"validation_binary_classification_cross_entropy_objective\": {\"sum\": 0.5121769390845892, \"count\": 1, \"min\": 0.5121769390845892, \"max\": 0.5121769390845892}}}\u001b[0m\n",
      "\u001b[34m#metrics {\"StartTime\": 1650323920.3524725, \"EndTime\": 1650323920.3524885, \"Dimensions\": {\"Algorithm\": \"Linear Learner\", \"Host\": \"algo-1\", \"Operation\": \"training\", \"epoch\": 11, \"model\": 28}, \"Metrics\": {\"validation_binary_classification_cross_entropy_objective\": {\"sum\": 0.5121435296329302, \"count\": 1, \"min\": 0.5121435296329302, \"max\": 0.5121435296329302}}}\u001b[0m\n",
      "\u001b[34m#metrics {\"StartTime\": 1650323920.3525422, \"EndTime\": 1650323920.352559, \"Dimensions\": {\"Algorithm\": \"Linear Learner\", \"Host\": \"algo-1\", \"Operation\": \"training\", \"epoch\": 11, \"model\": 29}, \"Metrics\": {\"validation_binary_classification_cross_entropy_objective\": {\"sum\": 0.5131860561059604, \"count\": 1, \"min\": 0.5131860561059604, \"max\": 0.5131860561059604}}}\u001b[0m\n",
      "\u001b[34m#metrics {\"StartTime\": 1650323920.352612, \"EndTime\": 1650323920.3526297, \"Dimensions\": {\"Algorithm\": \"Linear Learner\", \"Host\": \"algo-1\", \"Operation\": \"training\", \"epoch\": 11, \"model\": 30}, \"Metrics\": {\"validation_binary_classification_cross_entropy_objective\": {\"sum\": 0.5120393203105535, \"count\": 1, \"min\": 0.5120393203105535, \"max\": 0.5120393203105535}}}\u001b[0m\n",
      "\u001b[34m#metrics {\"StartTime\": 1650323920.3526833, \"EndTime\": 1650323920.3526998, \"Dimensions\": {\"Algorithm\": \"Linear Learner\", \"Host\": \"algo-1\", \"Operation\": \"training\", \"epoch\": 11, \"model\": 31}, \"Metrics\": {\"validation_binary_classification_cross_entropy_objective\": {\"sum\": 0.5131860559193758, \"count\": 1, \"min\": 0.5131860559193758, \"max\": 0.5131860559193758}}}\u001b[0m\n",
      "\u001b[34m[04/18/2022 23:18:40 INFO 140493168445248] #quality_metric: host=algo-1, epoch=11, validation binary_classification_cross_entropy_objective <loss>=0.01944589617492009\u001b[0m\n",
      "\u001b[34m[04/18/2022 23:18:40 INFO 140493168445248] #early_stopping_criteria_metric: host=algo-1, epoch=11, criteria=sampled_accuracy, value=0.9995781338844086\u001b[0m\n",
      "\u001b[34m[04/18/2022 23:18:40 INFO 140493168445248] Epoch 11: Loss improved. Updating best model\u001b[0m\n",
      "\u001b[34m[04/18/2022 23:18:40 INFO 140493168445248] Saving model for epoch: 11\u001b[0m\n",
      "\u001b[34m[04/18/2022 23:18:40 INFO 140493168445248] Saved checkpoint to \"/tmp/tmptfba3wnj/mx-mod-0000.params\"\u001b[0m\n",
      "\u001b[34m[04/18/2022 23:18:40 INFO 140493168445248] #progress_metric: host=algo-1, completed 80.0 % of epochs\u001b[0m\n",
      "\u001b[34m#metrics {\"StartTime\": 1650323851.3336575, \"EndTime\": 1650323920.3629768, \"Dimensions\": {\"Algorithm\": \"Linear Learner\", \"Host\": \"algo-1\", \"Operation\": \"training\", \"epoch\": 11, \"Meta\": \"training_data_iter\"}, \"Metrics\": {\"Total Records Seen\": {\"sum\": 15713664.0, \"count\": 1, \"min\": 15713664, \"max\": 15713664}, \"Total Batches Seen\": {\"sum\": 15720.0, \"count\": 1, \"min\": 15720, \"max\": 15720}, \"Max Records Seen Between Resets\": {\"sum\": 1308472.0, \"count\": 1, \"min\": 1308472, \"max\": 1308472}, \"Max Batches Seen Between Resets\": {\"sum\": 1309.0, \"count\": 1, \"min\": 1309, \"max\": 1309}, \"Reset Count\": {\"sum\": 14.0, \"count\": 1, \"min\": 14, \"max\": 14}, \"Number of Records Since Last Reset\": {\"sum\": 1308472.0, \"count\": 1, \"min\": 1308472, \"max\": 1308472}, \"Number of Batches Since Last Reset\": {\"sum\": 1309.0, \"count\": 1, \"min\": 1309, \"max\": 1309}}}\u001b[0m\n",
      "\u001b[34m[04/18/2022 23:18:40 INFO 140493168445248] #throughput_metric: host=algo-1, train throughput=18955.277832277716 records/second\u001b[0m\n",
      "\u001b[34m[2022-04-18 23:19:41.154] [tensorio] [info] epoch_stats={\"data_pipeline\": \"/opt/ml/input/data/train\", \"epoch\": 27, \"duration\": 60790, \"num_examples\": 1309, \"num_bytes\": 560026016}\u001b[0m\n",
      "\u001b[34m#metrics {\"StartTime\": 1650323981.1544263, \"EndTime\": 1650323981.154541, \"Dimensions\": {\"Algorithm\": \"Linear Learner\", \"Host\": \"algo-1\", \"Operation\": \"training\", \"epoch\": 12, \"model\": 0}, \"Metrics\": {\"train_binary_classification_cross_entropy_objective\": {\"sum\": 0.01930118780836053, \"count\": 1, \"min\": 0.01930118780836053, \"max\": 0.01930118780836053}}}\u001b[0m\n",
      "\u001b[34m#metrics {\"StartTime\": 1650323981.1546733, \"EndTime\": 1650323981.154698, \"Dimensions\": {\"Algorithm\": \"Linear Learner\", \"Host\": \"algo-1\", \"Operation\": \"training\", \"epoch\": 12, \"model\": 1}, \"Metrics\": {\"train_binary_classification_cross_entropy_objective\": {\"sum\": 0.0004969777383753283, \"count\": 1, \"min\": 0.0004969777383753283, \"max\": 0.0004969777383753283}}}\u001b[0m\n",
      "\u001b[34m#metrics {\"StartTime\": 1650323981.1547647, \"EndTime\": 1650323981.154784, \"Dimensions\": {\"Algorithm\": \"Linear Learner\", \"Host\": \"algo-1\", \"Operation\": \"training\", \"epoch\": 12, \"model\": 2}, \"Metrics\": {\"train_binary_classification_cross_entropy_objective\": {\"sum\": 0.006582887081924929, \"count\": 1, \"min\": 0.006582887081924929, \"max\": 0.006582887081924929}}}\u001b[0m\n",
      "\u001b[34m#metrics {\"StartTime\": 1650323981.1548436, \"EndTime\": 1650323981.1548636, \"Dimensions\": {\"Algorithm\": \"Linear Learner\", \"Host\": \"algo-1\", \"Operation\": \"training\", \"epoch\": 12, \"model\": 3}, \"Metrics\": {\"train_binary_classification_cross_entropy_objective\": {\"sum\": 0.0004969776284849607, \"count\": 1, \"min\": 0.0004969776284849607, \"max\": 0.0004969776284849607}}}\u001b[0m\n",
      "\u001b[34m#metrics {\"StartTime\": 1650323981.154922, \"EndTime\": 1650323981.1549404, \"Dimensions\": {\"Algorithm\": \"Linear Learner\", \"Host\": \"algo-1\", \"Operation\": \"training\", \"epoch\": 12, \"model\": 4}, \"Metrics\": {\"train_binary_classification_cross_entropy_objective\": {\"sum\": 0.0005052479225743436, \"count\": 1, \"min\": 0.0005052479225743436, \"max\": 0.0005052479225743436}}}\u001b[0m\n",
      "\u001b[34m#metrics {\"StartTime\": 1650323981.1550019, \"EndTime\": 1650323981.1550198, \"Dimensions\": {\"Algorithm\": \"Linear Learner\", \"Host\": \"algo-1\", \"Operation\": \"training\", \"epoch\": 12, \"model\": 5}, \"Metrics\": {\"train_binary_classification_cross_entropy_objective\": {\"sum\": 0.0004977886056590153, \"count\": 1, \"min\": 0.0004977886056590153, \"max\": 0.0004977886056590153}}}\u001b[0m\n",
      "\u001b[34m#metrics {\"StartTime\": 1650323981.155074, \"EndTime\": 1650323981.1550913, \"Dimensions\": {\"Algorithm\": \"Linear Learner\", \"Host\": \"algo-1\", \"Operation\": \"training\", \"epoch\": 12, \"model\": 6}, \"Metrics\": {\"train_binary_classification_cross_entropy_objective\": {\"sum\": 0.0004969287185220544, \"count\": 1, \"min\": 0.0004969287185220544, \"max\": 0.0004969287185220544}}}\u001b[0m\n",
      "\u001b[34m#metrics {\"StartTime\": 1650323981.155147, \"EndTime\": 1650323981.1551652, \"Dimensions\": {\"Algorithm\": \"Linear Learner\", \"Host\": \"algo-1\", \"Operation\": \"training\", \"epoch\": 12, \"model\": 7}, \"Metrics\": {\"train_binary_classification_cross_entropy_objective\": {\"sum\": 0.000497788767065477, \"count\": 1, \"min\": 0.000497788767065477, \"max\": 0.000497788767065477}}}\u001b[0m\n",
      "\u001b[34m#metrics {\"StartTime\": 1650323981.1552215, \"EndTime\": 1650323981.1552386, \"Dimensions\": {\"Algorithm\": \"Linear Learner\", \"Host\": \"algo-1\", \"Operation\": \"training\", \"epoch\": 12, \"model\": 8}, \"Metrics\": {\"train_binary_classification_cross_entropy_objective\": {\"sum\": 0.028635429669593086, \"count\": 1, \"min\": 0.028635429669593086, \"max\": 0.028635429669593086}}}\u001b[0m\n",
      "\u001b[34m#metrics {\"StartTime\": 1650323981.1553073, \"EndTime\": 1650323981.155322, \"Dimensions\": {\"Algorithm\": \"Linear Learner\", \"Host\": \"algo-1\", \"Operation\": \"training\", \"epoch\": 12, \"model\": 9}, \"Metrics\": {\"train_binary_classification_cross_entropy_objective\": {\"sum\": 0.023900724387679262, \"count\": 1, \"min\": 0.023900724387679262, \"max\": 0.023900724387679262}}}\u001b[0m\n",
      "\u001b[34m#metrics {\"StartTime\": 1650323981.155374, \"EndTime\": 1650323981.1553903, \"Dimensions\": {\"Algorithm\": \"Linear Learner\", \"Host\": \"algo-1\", \"Operation\": \"training\", \"epoch\": 12, \"model\": 10}, \"Metrics\": {\"train_binary_classification_cross_entropy_objective\": {\"sum\": 0.023897105276766903, \"count\": 1, \"min\": 0.023897105276766903, \"max\": 0.023897105276766903}}}\u001b[0m\n",
      "\u001b[34m#metrics {\"StartTime\": 1650323981.1554415, \"EndTime\": 1650323981.155456, \"Dimensions\": {\"Algorithm\": \"Linear Learner\", \"Host\": \"algo-1\", \"Operation\": \"training\", \"epoch\": 12, \"model\": 11}, \"Metrics\": {\"train_binary_classification_cross_entropy_objective\": {\"sum\": 0.023900725517797906, \"count\": 1, \"min\": 0.023900725517797906, \"max\": 0.023900725517797906}}}\u001b[0m\n",
      "\u001b[34m#metrics {\"StartTime\": 1650323981.1555123, \"EndTime\": 1650323981.1555293, \"Dimensions\": {\"Algorithm\": \"Linear Learner\", \"Host\": \"algo-1\", \"Operation\": \"training\", \"epoch\": 12, \"model\": 12}, \"Metrics\": {\"train_binary_classification_cross_entropy_objective\": {\"sum\": 0.023896419294748103, \"count\": 1, \"min\": 0.023896419294748103, \"max\": 0.023896419294748103}}}\u001b[0m\n",
      "\u001b[34m#metrics {\"StartTime\": 1650323981.1555822, \"EndTime\": 1650323981.155599, \"Dimensions\": {\"Algorithm\": \"Linear Learner\", \"Host\": \"algo-1\", \"Operation\": \"training\", \"epoch\": 12, \"model\": 13}, \"Metrics\": {\"train_binary_classification_cross_entropy_objective\": {\"sum\": 0.023971300055127626, \"count\": 1, \"min\": 0.023971300055127626, \"max\": 0.023971300055127626}}}\u001b[0m\n",
      "\u001b[34m#metrics {\"StartTime\": 1650323981.1556542, \"EndTime\": 1650323981.1556714, \"Dimensions\": {\"Algorithm\": \"Linear Learner\", \"Host\": \"algo-1\", \"Operation\": \"training\", \"epoch\": 12, \"model\": 14}, \"Metrics\": {\"train_binary_classification_cross_entropy_objective\": {\"sum\": 0.02389711223683955, \"count\": 1, \"min\": 0.02389711223683955, \"max\": 0.02389711223683955}}}\u001b[0m\n",
      "\u001b[34m#metrics {\"StartTime\": 1650323981.1557257, \"EndTime\": 1650323981.1557436, \"Dimensions\": {\"Algorithm\": \"Linear Learner\", \"Host\": \"algo-1\", \"Operation\": \"training\", \"epoch\": 12, \"model\": 15}, \"Metrics\": {\"train_binary_classification_cross_entropy_objective\": {\"sum\": 0.023971300141162465, \"count\": 1, \"min\": 0.023971300141162465, \"max\": 0.023971300141162465}}}\u001b[0m\n",
      "\u001b[34m#metrics {\"StartTime\": 1650323981.1557968, \"EndTime\": 1650323981.155814, \"Dimensions\": {\"Algorithm\": \"Linear Learner\", \"Host\": \"algo-1\", \"Operation\": \"training\", \"epoch\": 12, \"model\": 16}, \"Metrics\": {\"train_binary_classification_cross_entropy_objective\": {\"sum\": 0.38249198983568666, \"count\": 1, \"min\": 0.38249198983568666, \"max\": 0.38249198983568666}}}\u001b[0m\n",
      "\u001b[34m#metrics {\"StartTime\": 1650323981.1558666, \"EndTime\": 1650323981.1558833, \"Dimensions\": {\"Algorithm\": \"Linear Learner\", \"Host\": \"algo-1\", \"Operation\": \"training\", \"epoch\": 12, \"model\": 17}, \"Metrics\": {\"train_binary_classification_cross_entropy_objective\": {\"sum\": 0.38254869462226143, \"count\": 1, \"min\": 0.38254869462226143, \"max\": 0.38254869462226143}}}\u001b[0m\n",
      "\u001b[34m#metrics {\"StartTime\": 1650323981.1559374, \"EndTime\": 1650323981.1559541, \"Dimensions\": {\"Algorithm\": \"Linear Learner\", \"Host\": \"algo-1\", \"Operation\": \"training\", \"epoch\": 12, \"model\": 18}, \"Metrics\": {\"train_binary_classification_cross_entropy_objective\": {\"sum\": 0.38249838210172976, \"count\": 1, \"min\": 0.38249838210172976, \"max\": 0.38249838210172976}}}\u001b[0m\n",
      "\u001b[34m#metrics {\"StartTime\": 1650323981.1560051, \"EndTime\": 1650323981.1560197, \"Dimensions\": {\"Algorithm\": \"Linear Learner\", \"Host\": \"algo-1\", \"Operation\": \"training\", \"epoch\": 12, \"model\": 19}, \"Metrics\": {\"train_binary_classification_cross_entropy_objective\": {\"sum\": 0.3825486953222059, \"count\": 1, \"min\": 0.3825486953222059, \"max\": 0.3825486953222059}}}\u001b[0m\n",
      "\u001b[34m#metrics {\"StartTime\": 1650323981.1560721, \"EndTime\": 1650323981.1560886, \"Dimensions\": {\"Algorithm\": \"Linear Learner\", \"Host\": \"algo-1\", \"Operation\": \"training\", \"epoch\": 12, \"model\": 20}, \"Metrics\": {\"train_binary_classification_cross_entropy_objective\": {\"sum\": 0.3824920006381627, \"count\": 1, \"min\": 0.3824920006381627, \"max\": 0.3824920006381627}}}\u001b[0m\n",
      "\u001b[34m#metrics {\"StartTime\": 1650323981.1561396, \"EndTime\": 1650323981.1561549, \"Dimensions\": {\"Algorithm\": \"Linear Learner\", \"Host\": \"algo-1\", \"Operation\": \"training\", \"epoch\": 12, \"model\": 21}, \"Metrics\": {\"train_binary_classification_cross_entropy_objective\": {\"sum\": 0.38343762694659217, \"count\": 1, \"min\": 0.38343762694659217, \"max\": 0.38343762694659217}}}\u001b[0m\n",
      "\u001b[34m#metrics {\"StartTime\": 1650323981.1562057, \"EndTime\": 1650323981.156221, \"Dimensions\": {\"Algorithm\": \"Linear Learner\", \"Host\": \"algo-1\", \"Operation\": \"training\", \"epoch\": 12, \"model\": 22}, \"Metrics\": {\"train_binary_classification_cross_entropy_objective\": {\"sum\": 0.38249838284833715, \"count\": 1, \"min\": 0.38249838284833715, \"max\": 0.38249838284833715}}}\u001b[0m\n",
      "\u001b[34m#metrics {\"StartTime\": 1650323981.1562765, \"EndTime\": 1650323981.1562946, \"Dimensions\": {\"Algorithm\": \"Linear Learner\", \"Host\": \"algo-1\", \"Operation\": \"training\", \"epoch\": 12, \"model\": 23}, \"Metrics\": {\"train_binary_classification_cross_entropy_objective\": {\"sum\": 0.38343762645663104, \"count\": 1, \"min\": 0.38343762645663104, \"max\": 0.38343762645663104}}}\u001b[0m\n",
      "\u001b[34m#metrics {\"StartTime\": 1650323981.156347, \"EndTime\": 1650323981.156365, \"Dimensions\": {\"Algorithm\": \"Linear Learner\", \"Host\": \"algo-1\", \"Operation\": \"training\", \"epoch\": 12, \"model\": 24}, \"Metrics\": {\"train_binary_classification_cross_entropy_objective\": {\"sum\": 0.5121383441143444, \"count\": 1, \"min\": 0.5121383441143444, \"max\": 0.5121383441143444}}}\u001b[0m\n",
      "\u001b[34m#metrics {\"StartTime\": 1650323981.1564214, \"EndTime\": 1650323981.1564374, \"Dimensions\": {\"Algorithm\": \"Linear Learner\", \"Host\": \"algo-1\", \"Operation\": \"training\", \"epoch\": 12, \"model\": 25}, \"Metrics\": {\"train_binary_classification_cross_entropy_objective\": {\"sum\": 0.5121665431264708, \"count\": 1, \"min\": 0.5121665431264708, \"max\": 0.5121665431264708}}}\u001b[0m\n",
      "\u001b[34m#metrics {\"StartTime\": 1650323981.1564927, \"EndTime\": 1650323981.1565099, \"Dimensions\": {\"Algorithm\": \"Linear Learner\", \"Host\": \"algo-1\", \"Operation\": \"training\", \"epoch\": 12, \"model\": 26}, \"Metrics\": {\"train_binary_classification_cross_entropy_objective\": {\"sum\": 0.5121421228111337, \"count\": 1, \"min\": 0.5121421228111337, \"max\": 0.5121421228111337}}}\u001b[0m\n",
      "\u001b[34m#metrics {\"StartTime\": 1650323981.156565, \"EndTime\": 1650323981.1565812, \"Dimensions\": {\"Algorithm\": \"Linear Learner\", \"Host\": \"algo-1\", \"Operation\": \"training\", \"epoch\": 12, \"model\": 27}, \"Metrics\": {\"train_binary_classification_cross_entropy_objective\": {\"sum\": 0.5121665431964653, \"count\": 1, \"min\": 0.5121665431964653, \"max\": 0.5121665431964653}}}\u001b[0m\n",
      "\u001b[34m#metrics {\"StartTime\": 1650323981.1566346, \"EndTime\": 1650323981.1566522, \"Dimensions\": {\"Algorithm\": \"Linear Learner\", \"Host\": \"algo-1\", \"Operation\": \"training\", \"epoch\": 12, \"model\": 28}, \"Metrics\": {\"train_binary_classification_cross_entropy_objective\": {\"sum\": 0.5121383446743, \"count\": 1, \"min\": 0.5121383446743, \"max\": 0.5121383446743}}}\u001b[0m\n",
      "\u001b[34m#metrics {\"StartTime\": 1650323981.1567063, \"EndTime\": 1650323981.1567233, \"Dimensions\": {\"Algorithm\": \"Linear Learner\", \"Host\": \"algo-1\", \"Operation\": \"training\", \"epoch\": 12, \"model\": 29}, \"Metrics\": {\"train_binary_classification_cross_entropy_objective\": {\"sum\": 0.5125793966124181, \"count\": 1, \"min\": 0.5125793966124181, \"max\": 0.5125793966124181}}}\u001b[0m\n",
      "\u001b[34m#metrics {\"StartTime\": 1650323981.1567743, \"EndTime\": 1650323981.1567914, \"Dimensions\": {\"Algorithm\": \"Linear Learner\", \"Host\": \"algo-1\", \"Operation\": \"training\", \"epoch\": 12, \"model\": 30}, \"Metrics\": {\"train_binary_classification_cross_entropy_objective\": {\"sum\": 0.512142122484493, \"count\": 1, \"min\": 0.512142122484493, \"max\": 0.512142122484493}}}\u001b[0m\n",
      "\u001b[34m#metrics {\"StartTime\": 1650323981.1568592, \"EndTime\": 1650323981.1568763, \"Dimensions\": {\"Algorithm\": \"Linear Learner\", \"Host\": \"algo-1\", \"Operation\": \"training\", \"epoch\": 12, \"model\": 31}, \"Metrics\": {\"train_binary_classification_cross_entropy_objective\": {\"sum\": 0.5125793973123626, \"count\": 1, \"min\": 0.5125793973123626, \"max\": 0.5125793973123626}}}\u001b[0m\n",
      "\u001b[34m[04/18/2022 23:19:41 INFO 140493168445248] #quality_metric: host=algo-1, epoch=12, train binary_classification_cross_entropy_objective <loss>=0.01930118780836053\u001b[0m\n",
      "\u001b[34m[2022-04-18 23:19:46.802] [tensorio] [info] epoch_stats={\"data_pipeline\": \"/opt/ml/input/data/validation\", \"epoch\": 38, \"duration\": 5612, \"num_examples\": 164, \"num_bytes\": 70003252}\u001b[0m\n",
      "\u001b[34m#metrics {\"StartTime\": 1650323988.9045982, \"EndTime\": 1650323988.9046776, \"Dimensions\": {\"Algorithm\": \"Linear Learner\", \"Host\": \"algo-1\", \"Operation\": \"training\", \"epoch\": 12, \"model\": 0}, \"Metrics\": {\"validation_binary_classification_cross_entropy_objective\": {\"sum\": 0.01914710373593617, \"count\": 1, \"min\": 0.01914710373593617, \"max\": 0.01914710373593617}}}\u001b[0m\n",
      "\u001b[34m#metrics {\"StartTime\": 1650323988.9047718, \"EndTime\": 1650323988.9047883, \"Dimensions\": {\"Algorithm\": \"Linear Learner\", \"Host\": \"algo-1\", \"Operation\": \"training\", \"epoch\": 12, \"model\": 1}, \"Metrics\": {\"validation_binary_classification_cross_entropy_objective\": {\"sum\": 0.0004974738764565653, \"count\": 1, \"min\": 0.0004974738764565653, \"max\": 0.0004974738764565653}}}\u001b[0m\n",
      "\u001b[34m#metrics {\"StartTime\": 1650323988.904828, \"EndTime\": 1650323988.9048436, \"Dimensions\": {\"Algorithm\": \"Linear Learner\", \"Host\": \"algo-1\", \"Operation\": \"training\", \"epoch\": 12, \"model\": 2}, \"Metrics\": {\"validation_binary_classification_cross_entropy_objective\": {\"sum\": 0.006132239248321132, \"count\": 1, \"min\": 0.006132239248321132, \"max\": 0.006132239248321132}}}\u001b[0m\n",
      "\u001b[34m#metrics {\"StartTime\": 1650323988.904901, \"EndTime\": 1650323988.9049184, \"Dimensions\": {\"Algorithm\": \"Linear Learner\", \"Host\": \"algo-1\", \"Operation\": \"training\", \"epoch\": 12, \"model\": 3}, \"Metrics\": {\"validation_binary_classification_cross_entropy_objective\": {\"sum\": 0.0004974778147748241, \"count\": 1, \"min\": 0.0004974778147748241, \"max\": 0.0004974778147748241}}}\u001b[0m\n",
      "\u001b[34m#metrics {\"StartTime\": 1650323988.9049828, \"EndTime\": 1650323988.9050002, \"Dimensions\": {\"Algorithm\": \"Linear Learner\", \"Host\": \"algo-1\", \"Operation\": \"training\", \"epoch\": 12, \"model\": 4}, \"Metrics\": {\"validation_binary_classification_cross_entropy_objective\": {\"sum\": 0.0005039559124607296, \"count\": 1, \"min\": 0.0005039559124607296, \"max\": 0.0005039559124607296}}}\u001b[0m\n",
      "\u001b[34m#metrics {\"StartTime\": 1650323988.9050581, \"EndTime\": 1650323988.9050748, \"Dimensions\": {\"Algorithm\": \"Linear Learner\", \"Host\": \"algo-1\", \"Operation\": \"training\", \"epoch\": 12, \"model\": 5}, \"Metrics\": {\"validation_binary_classification_cross_entropy_objective\": {\"sum\": 0.00048411038857029253, \"count\": 1, \"min\": 0.00048411038857029253, \"max\": 0.00048411038857029253}}}\u001b[0m\n",
      "\u001b[34m#metrics {\"StartTime\": 1650323988.9051223, \"EndTime\": 1650323988.9051392, \"Dimensions\": {\"Algorithm\": \"Linear Learner\", \"Host\": \"algo-1\", \"Operation\": \"training\", \"epoch\": 12, \"model\": 6}, \"Metrics\": {\"validation_binary_classification_cross_entropy_objective\": {\"sum\": 0.0004972253759357788, \"count\": 1, \"min\": 0.0004972253759357788, \"max\": 0.0004972253759357788}}}\u001b[0m\n",
      "\u001b[34m#metrics {\"StartTime\": 1650323988.9052007, \"EndTime\": 1650323988.9052176, \"Dimensions\": {\"Algorithm\": \"Linear Learner\", \"Host\": \"algo-1\", \"Operation\": \"training\", \"epoch\": 12, \"model\": 7}, \"Metrics\": {\"validation_binary_classification_cross_entropy_objective\": {\"sum\": 0.0004841065765245679, \"count\": 1, \"min\": 0.0004841065765245679, \"max\": 0.0004841065765245679}}}\u001b[0m\n",
      "\u001b[34m#metrics {\"StartTime\": 1650323988.9052708, \"EndTime\": 1650323988.905288, \"Dimensions\": {\"Algorithm\": \"Linear Learner\", \"Host\": \"algo-1\", \"Operation\": \"training\", \"epoch\": 12, \"model\": 8}, \"Metrics\": {\"validation_binary_classification_cross_entropy_objective\": {\"sum\": 0.028430835154630893, \"count\": 1, \"min\": 0.028430835154630893, \"max\": 0.028430835154630893}}}\u001b[0m\n",
      "\u001b[34m#metrics {\"StartTime\": 1650323988.9053473, \"EndTime\": 1650323988.9053655, \"Dimensions\": {\"Algorithm\": \"Linear Learner\", \"Host\": \"algo-1\", \"Operation\": \"training\", \"epoch\": 12, \"model\": 9}, \"Metrics\": {\"validation_binary_classification_cross_entropy_objective\": {\"sum\": 0.02390623856190223, \"count\": 1, \"min\": 0.02390623856190223, \"max\": 0.02390623856190223}}}\u001b[0m\n",
      "\u001b[34m#metrics {\"StartTime\": 1650323988.9054132, \"EndTime\": 1650323988.905429, \"Dimensions\": {\"Algorithm\": \"Linear Learner\", \"Host\": \"algo-1\", \"Operation\": \"training\", \"epoch\": 12, \"model\": 10}, \"Metrics\": {\"validation_binary_classification_cross_entropy_objective\": {\"sum\": 0.023913615029449962, \"count\": 1, \"min\": 0.023913615029449962, \"max\": 0.023913615029449962}}}\u001b[0m\n",
      "\u001b[34m#metrics {\"StartTime\": 1650323988.905477, \"EndTime\": 1650323988.9054933, \"Dimensions\": {\"Algorithm\": \"Linear Learner\", \"Host\": \"algo-1\", \"Operation\": \"training\", \"epoch\": 12, \"model\": 11}, \"Metrics\": {\"validation_binary_classification_cross_entropy_objective\": {\"sum\": 0.02390623840447154, \"count\": 1, \"min\": 0.02390623840447154, \"max\": 0.02390623840447154}}}\u001b[0m\n",
      "\u001b[34m#metrics {\"StartTime\": 1650323988.905546, \"EndTime\": 1650323988.905562, \"Dimensions\": {\"Algorithm\": \"Linear Learner\", \"Host\": \"algo-1\", \"Operation\": \"training\", \"epoch\": 12, \"model\": 12}, \"Metrics\": {\"validation_binary_classification_cross_entropy_objective\": {\"sum\": 0.023897973777098312, \"count\": 1, \"min\": 0.023897973777098312, \"max\": 0.023897973777098312}}}\u001b[0m\n",
      "\u001b[34m#metrics {\"StartTime\": 1650323988.9056158, \"EndTime\": 1650323988.9056337, \"Dimensions\": {\"Algorithm\": \"Linear Learner\", \"Host\": \"algo-1\", \"Operation\": \"training\", \"epoch\": 12, \"model\": 13}, \"Metrics\": {\"validation_binary_classification_cross_entropy_objective\": {\"sum\": 0.023350846794465717, \"count\": 1, \"min\": 0.023350846794465717, \"max\": 0.023350846794465717}}}\u001b[0m\n",
      "\u001b[34m#metrics {\"StartTime\": 1650323988.905688, \"EndTime\": 1650323988.9057052, \"Dimensions\": {\"Algorithm\": \"Linear Learner\", \"Host\": \"algo-1\", \"Operation\": \"training\", \"epoch\": 12, \"model\": 14}, \"Metrics\": {\"validation_binary_classification_cross_entropy_objective\": {\"sum\": 0.023913636766546984, \"count\": 1, \"min\": 0.023913636766546984, \"max\": 0.023913636766546984}}}\u001b[0m\n",
      "\u001b[34m#metrics {\"StartTime\": 1650323988.90576, \"EndTime\": 1650323988.9057765, \"Dimensions\": {\"Algorithm\": \"Linear Learner\", \"Host\": \"algo-1\", \"Operation\": \"training\", \"epoch\": 12, \"model\": 15}, \"Metrics\": {\"validation_binary_classification_cross_entropy_objective\": {\"sum\": 0.0233508516514941, \"count\": 1, \"min\": 0.0233508516514941, \"max\": 0.0233508516514941}}}\u001b[0m\n",
      "\u001b[34m#metrics {\"StartTime\": 1650323988.9058268, \"EndTime\": 1650323988.905842, \"Dimensions\": {\"Algorithm\": \"Linear Learner\", \"Host\": \"algo-1\", \"Operation\": \"training\", \"epoch\": 12, \"model\": 16}, \"Metrics\": {\"validation_binary_classification_cross_entropy_objective\": {\"sum\": 0.38254997930673146, \"count\": 1, \"min\": 0.38254997930673146, \"max\": 0.38254997930673146}}}\u001b[0m\n",
      "\u001b[34m#metrics {\"StartTime\": 1650323988.905897, \"EndTime\": 1650323988.9059143, \"Dimensions\": {\"Algorithm\": \"Linear Learner\", \"Host\": \"algo-1\", \"Operation\": \"training\", \"epoch\": 12, \"model\": 17}, \"Metrics\": {\"validation_binary_classification_cross_entropy_objective\": {\"sum\": 0.38283400209381274, \"count\": 1, \"min\": 0.38283400209381274, \"max\": 0.38283400209381274}}}\u001b[0m\n",
      "\u001b[34m#metrics {\"StartTime\": 1650323988.905967, \"EndTime\": 1650323988.9059842, \"Dimensions\": {\"Algorithm\": \"Linear Learner\", \"Host\": \"algo-1\", \"Operation\": \"training\", \"epoch\": 12, \"model\": 18}, \"Metrics\": {\"validation_binary_classification_cross_entropy_objective\": {\"sum\": 0.3827289174101428, \"count\": 1, \"min\": 0.3827289174101428, \"max\": 0.3827289174101428}}}\u001b[0m\n",
      "\u001b[34m#metrics {\"StartTime\": 1650323988.9060378, \"EndTime\": 1650323988.9060538, \"Dimensions\": {\"Algorithm\": \"Linear Learner\", \"Host\": \"algo-1\", \"Operation\": \"training\", \"epoch\": 12, \"model\": 19}, \"Metrics\": {\"validation_binary_classification_cross_entropy_objective\": {\"sum\": 0.38283400246698174, \"count\": 1, \"min\": 0.38283400246698174, \"max\": 0.38283400246698174}}}\u001b[0m\n",
      "\u001b[34m#metrics {\"StartTime\": 1650323988.9061093, \"EndTime\": 1650323988.9061272, \"Dimensions\": {\"Algorithm\": \"Linear Learner\", \"Host\": \"algo-1\", \"Operation\": \"training\", \"epoch\": 12, \"model\": 20}, \"Metrics\": {\"validation_binary_classification_cross_entropy_objective\": {\"sum\": 0.3825499962859231, \"count\": 1, \"min\": 0.3825499962859231, \"max\": 0.3825499962859231}}}\u001b[0m\n",
      "\u001b[34m#metrics {\"StartTime\": 1650323988.9062152, \"EndTime\": 1650323988.906233, \"Dimensions\": {\"Algorithm\": \"Linear Learner\", \"Host\": \"algo-1\", \"Operation\": \"training\", \"epoch\": 12, \"model\": 21}, \"Metrics\": {\"validation_binary_classification_cross_entropy_objective\": {\"sum\": 0.39135892611943074, \"count\": 1, \"min\": 0.39135892611943074, \"max\": 0.39135892611943074}}}\u001b[0m\n",
      "\u001b[34m#metrics {\"StartTime\": 1650323988.906287, \"EndTime\": 1650323988.906304, \"Dimensions\": {\"Algorithm\": \"Linear Learner\", \"Host\": \"algo-1\", \"Operation\": \"training\", \"epoch\": 12, \"model\": 22}, \"Metrics\": {\"validation_binary_classification_cross_entropy_objective\": {\"sum\": 0.38272891759672734, \"count\": 1, \"min\": 0.38272891759672734, \"max\": 0.38272891759672734}}}\u001b[0m\n",
      "\u001b[34m#metrics {\"StartTime\": 1650323988.9063568, \"EndTime\": 1650323988.9063733, \"Dimensions\": {\"Algorithm\": \"Linear Learner\", \"Host\": \"algo-1\", \"Operation\": \"training\", \"epoch\": 12, \"model\": 23}, \"Metrics\": {\"validation_binary_classification_cross_entropy_objective\": {\"sum\": 0.39135892630601526, \"count\": 1, \"min\": 0.39135892630601526, \"max\": 0.39135892630601526}}}\u001b[0m\n",
      "\u001b[34m#metrics {\"StartTime\": 1650323988.9064279, \"EndTime\": 1650323988.9064457, \"Dimensions\": {\"Algorithm\": \"Linear Learner\", \"Host\": \"algo-1\", \"Operation\": \"training\", \"epoch\": 12, \"model\": 24}, \"Metrics\": {\"validation_binary_classification_cross_entropy_objective\": {\"sum\": 0.512143528140254, \"count\": 1, \"min\": 0.512143528140254, \"max\": 0.512143528140254}}}\u001b[0m\n",
      "\u001b[34m#metrics {\"StartTime\": 1650323988.906498, \"EndTime\": 1650323988.9065156, \"Dimensions\": {\"Algorithm\": \"Linear Learner\", \"Host\": \"algo-1\", \"Operation\": \"training\", \"epoch\": 12, \"model\": 25}, \"Metrics\": {\"validation_binary_classification_cross_entropy_objective\": {\"sum\": 0.5121803276461256, \"count\": 1, \"min\": 0.5121803276461256, \"max\": 0.5121803276461256}}}\u001b[0m\n",
      "\u001b[34m#metrics {\"StartTime\": 1650323988.9065695, \"EndTime\": 1650323988.9065864, \"Dimensions\": {\"Algorithm\": \"Linear Learner\", \"Host\": \"algo-1\", \"Operation\": \"training\", \"epoch\": 12, \"model\": 26}, \"Metrics\": {\"validation_binary_classification_cross_entropy_objective\": {\"sum\": 0.5120393188178773, \"count\": 1, \"min\": 0.5120393188178773, \"max\": 0.5120393188178773}}}\u001b[0m\n",
      "\u001b[34m#metrics {\"StartTime\": 1650323988.9066424, \"EndTime\": 1650323988.9066594, \"Dimensions\": {\"Algorithm\": \"Linear Learner\", \"Host\": \"algo-1\", \"Operation\": \"training\", \"epoch\": 12, \"model\": 27}, \"Metrics\": {\"validation_binary_classification_cross_entropy_objective\": {\"sum\": 0.5121803276461256, \"count\": 1, \"min\": 0.5121803276461256, \"max\": 0.5121803276461256}}}\u001b[0m\n",
      "\u001b[34m#metrics {\"StartTime\": 1650323988.9067104, \"EndTime\": 1650323988.9067268, \"Dimensions\": {\"Algorithm\": \"Linear Learner\", \"Host\": \"algo-1\", \"Operation\": \"training\", \"epoch\": 12, \"model\": 28}, \"Metrics\": {\"validation_binary_classification_cross_entropy_objective\": {\"sum\": 0.5121435283268385, \"count\": 1, \"min\": 0.5121435283268385, \"max\": 0.5121435283268385}}}\u001b[0m\n",
      "\u001b[34m#metrics {\"StartTime\": 1650323988.9067793, \"EndTime\": 1650323988.9067953, \"Dimensions\": {\"Algorithm\": \"Linear Learner\", \"Host\": \"algo-1\", \"Operation\": \"training\", \"epoch\": 12, \"model\": 29}, \"Metrics\": {\"validation_binary_classification_cross_entropy_objective\": {\"sum\": 0.5134423217396537, \"count\": 1, \"min\": 0.5134423217396537, \"max\": 0.5134423217396537}}}\u001b[0m\n",
      "\u001b[34m#metrics {\"StartTime\": 1650323988.906847, \"EndTime\": 1650323988.906864, \"Dimensions\": {\"Algorithm\": \"Linear Learner\", \"Host\": \"algo-1\", \"Operation\": \"training\", \"epoch\": 12, \"model\": 30}, \"Metrics\": {\"validation_binary_classification_cross_entropy_objective\": {\"sum\": 0.5120393182581238, \"count\": 1, \"min\": 0.5120393182581238, \"max\": 0.5120393182581238}}}\u001b[0m\n",
      "\u001b[34m#metrics {\"StartTime\": 1650323988.906916, \"EndTime\": 1650323988.906933, \"Dimensions\": {\"Algorithm\": \"Linear Learner\", \"Host\": \"algo-1\", \"Operation\": \"training\", \"epoch\": 12, \"model\": 31}, \"Metrics\": {\"validation_binary_classification_cross_entropy_objective\": {\"sum\": 0.5134423372261692, \"count\": 1, \"min\": 0.5134423372261692, \"max\": 0.5134423372261692}}}\u001b[0m\n",
      "\u001b[34m[04/18/2022 23:19:48 INFO 140493168445248] #quality_metric: host=algo-1, epoch=12, validation binary_classification_cross_entropy_objective <loss>=0.01914710373593617\u001b[0m\n",
      "\u001b[34m[04/18/2022 23:19:48 INFO 140493168445248] #early_stopping_criteria_metric: host=algo-1, epoch=12, criteria=sampled_accuracy, value=0.9995781338844086\u001b[0m\n",
      "\u001b[34m[04/18/2022 23:19:48 INFO 140493168445248] Epoch 12: Loss improved. Updating best model\u001b[0m\n",
      "\u001b[34m[04/18/2022 23:19:48 INFO 140493168445248] Saving model for epoch: 12\u001b[0m\n",
      "\u001b[34m[04/18/2022 23:19:48 INFO 140493168445248] Saved checkpoint to \"/tmp/tmp3xk70r6v/mx-mod-0000.params\"\u001b[0m\n",
      "\u001b[34m[04/18/2022 23:19:48 INFO 140493168445248] #progress_metric: host=algo-1, completed 86.66666666666667 % of epochs\u001b[0m\n",
      "\u001b[34m#metrics {\"StartTime\": 1650323920.3633006, \"EndTime\": 1650323988.9158816, \"Dimensions\": {\"Algorithm\": \"Linear Learner\", \"Host\": \"algo-1\", \"Operation\": \"training\", \"epoch\": 12, \"Meta\": \"training_data_iter\"}, \"Metrics\": {\"Total Records Seen\": {\"sum\": 17022136.0, \"count\": 1, \"min\": 17022136, \"max\": 17022136}, \"Total Batches Seen\": {\"sum\": 17029.0, \"count\": 1, \"min\": 17029, \"max\": 17029}, \"Max Records Seen Between Resets\": {\"sum\": 1308472.0, \"count\": 1, \"min\": 1308472, \"max\": 1308472}, \"Max Batches Seen Between Resets\": {\"sum\": 1309.0, \"count\": 1, \"min\": 1309, \"max\": 1309}, \"Reset Count\": {\"sum\": 15.0, \"count\": 1, \"min\": 15, \"max\": 15}, \"Number of Records Since Last Reset\": {\"sum\": 1308472.0, \"count\": 1, \"min\": 1308472, \"max\": 1308472}, \"Number of Batches Since Last Reset\": {\"sum\": 1309.0, \"count\": 1, \"min\": 1309, \"max\": 1309}}}\u001b[0m\n",
      "\u001b[34m[04/18/2022 23:19:48 INFO 140493168445248] #throughput_metric: host=algo-1, train throughput=19087.08997915849 records/second\u001b[0m\n",
      "\u001b[34m[2022-04-18 23:20:49.646] [tensorio] [info] epoch_stats={\"data_pipeline\": \"/opt/ml/input/data/train\", \"epoch\": 29, \"duration\": 60730, \"num_examples\": 1309, \"num_bytes\": 560026016}\u001b[0m\n",
      "\u001b[34m#metrics {\"StartTime\": 1650324049.6465752, \"EndTime\": 1650324049.646679, \"Dimensions\": {\"Algorithm\": \"Linear Learner\", \"Host\": \"algo-1\", \"Operation\": \"training\", \"epoch\": 13, \"model\": 0}, \"Metrics\": {\"train_binary_classification_cross_entropy_objective\": {\"sum\": 0.01900458460845714, \"count\": 1, \"min\": 0.01900458460845714, \"max\": 0.01900458460845714}}}\u001b[0m\n",
      "\u001b[34m#metrics {\"StartTime\": 1650324049.6467845, \"EndTime\": 1650324049.6468077, \"Dimensions\": {\"Algorithm\": \"Linear Learner\", \"Host\": \"algo-1\", \"Operation\": \"training\", \"epoch\": 13, \"model\": 1}, \"Metrics\": {\"train_binary_classification_cross_entropy_objective\": {\"sum\": 0.0004969690740336336, \"count\": 1, \"min\": 0.0004969690740336336, \"max\": 0.0004969690740336336}}}\u001b[0m\n",
      "\u001b[34m#metrics {\"StartTime\": 1650324049.6468694, \"EndTime\": 1650324049.6468875, \"Dimensions\": {\"Algorithm\": \"Linear Learner\", \"Host\": \"algo-1\", \"Operation\": \"training\", \"epoch\": 13, \"model\": 2}, \"Metrics\": {\"train_binary_classification_cross_entropy_objective\": {\"sum\": 0.0057253554596448895, \"count\": 1, \"min\": 0.0057253554596448895, \"max\": 0.0057253554596448895}}}\u001b[0m\n",
      "\u001b[34m#metrics {\"StartTime\": 1650324049.646941, \"EndTime\": 1650324049.6469576, \"Dimensions\": {\"Algorithm\": \"Linear Learner\", \"Host\": \"algo-1\", \"Operation\": \"training\", \"epoch\": 13, \"model\": 3}, \"Metrics\": {\"train_binary_classification_cross_entropy_objective\": {\"sum\": 0.0004969693869352341, \"count\": 1, \"min\": 0.0004969693869352341, \"max\": 0.0004969693869352341}}}\u001b[0m\n",
      "\u001b[34m#metrics {\"StartTime\": 1650324049.6470108, \"EndTime\": 1650324049.6470277, \"Dimensions\": {\"Algorithm\": \"Linear Learner\", \"Host\": \"algo-1\", \"Operation\": \"training\", \"epoch\": 13, \"model\": 4}, \"Metrics\": {\"train_binary_classification_cross_entropy_objective\": {\"sum\": 0.0005029077826791218, \"count\": 1, \"min\": 0.0005029077826791218, \"max\": 0.0005029077826791218}}}\u001b[0m\n",
      "\u001b[34m#metrics {\"StartTime\": 1650324049.6470869, \"EndTime\": 1650324049.6471043, \"Dimensions\": {\"Algorithm\": \"Linear Learner\", \"Host\": \"algo-1\", \"Operation\": \"training\", \"epoch\": 13, \"model\": 5}, \"Metrics\": {\"train_binary_classification_cross_entropy_objective\": {\"sum\": 0.0004976967054815103, \"count\": 1, \"min\": 0.0004976967054815103, \"max\": 0.0004976967054815103}}}\u001b[0m\n",
      "\u001b[34m#metrics {\"StartTime\": 1650324049.6471605, \"EndTime\": 1650324049.6471784, \"Dimensions\": {\"Algorithm\": \"Linear Learner\", \"Host\": \"algo-1\", \"Operation\": \"training\", \"epoch\": 13, \"model\": 6}, \"Metrics\": {\"train_binary_classification_cross_entropy_objective\": {\"sum\": 0.0004969260048474376, \"count\": 1, \"min\": 0.0004969260048474376, \"max\": 0.0004969260048474376}}}\u001b[0m\n",
      "\u001b[34m#metrics {\"StartTime\": 1650324049.6472363, \"EndTime\": 1650324049.647254, \"Dimensions\": {\"Algorithm\": \"Linear Learner\", \"Host\": \"algo-1\", \"Operation\": \"training\", \"epoch\": 13, \"model\": 7}, \"Metrics\": {\"train_binary_classification_cross_entropy_objective\": {\"sum\": 0.0004976967511875185, \"count\": 1, \"min\": 0.0004976967511875185, \"max\": 0.0004976967511875185}}}\u001b[0m\n",
      "\u001b[34m#metrics {\"StartTime\": 1650324049.6473105, \"EndTime\": 1650324049.647327, \"Dimensions\": {\"Algorithm\": \"Linear Learner\", \"Host\": \"algo-1\", \"Operation\": \"training\", \"epoch\": 13, \"model\": 8}, \"Metrics\": {\"train_binary_classification_cross_entropy_objective\": {\"sum\": 0.028232516336878507, \"count\": 1, \"min\": 0.028232516336878507, \"max\": 0.028232516336878507}}}\u001b[0m\n",
      "\u001b[34m#metrics {\"StartTime\": 1650324049.647393, \"EndTime\": 1650324049.6474102, \"Dimensions\": {\"Algorithm\": \"Linear Learner\", \"Host\": \"algo-1\", \"Operation\": \"training\", \"epoch\": 13, \"model\": 9}, \"Metrics\": {\"train_binary_classification_cross_entropy_objective\": {\"sum\": 0.02390020459726316, \"count\": 1, \"min\": 0.02390020459726316, \"max\": 0.02390020459726316}}}\u001b[0m\n",
      "\u001b[34m#metrics {\"StartTime\": 1650324049.6474617, \"EndTime\": 1650324049.647479, \"Dimensions\": {\"Algorithm\": \"Linear Learner\", \"Host\": \"algo-1\", \"Operation\": \"training\", \"epoch\": 13, \"model\": 10}, \"Metrics\": {\"train_binary_classification_cross_entropy_objective\": {\"sum\": 0.023897114136897095, \"count\": 1, \"min\": 0.023897114136897095, \"max\": 0.023897114136897095}}}\u001b[0m\n",
      "\u001b[34m#metrics {\"StartTime\": 1650324049.647533, \"EndTime\": 1650324049.6475506, \"Dimensions\": {\"Algorithm\": \"Linear Learner\", \"Host\": \"algo-1\", \"Operation\": \"training\", \"epoch\": 13, \"model\": 11}, \"Metrics\": {\"train_binary_classification_cross_entropy_objective\": {\"sum\": 0.023900203018013492, \"count\": 1, \"min\": 0.023900203018013492, \"max\": 0.023900203018013492}}}\u001b[0m\n",
      "\u001b[34m#metrics {\"StartTime\": 1650324049.6476176, \"EndTime\": 1650324049.6476347, \"Dimensions\": {\"Algorithm\": \"Linear Learner\", \"Host\": \"algo-1\", \"Operation\": \"training\", \"epoch\": 13, \"model\": 12}, \"Metrics\": {\"train_binary_classification_cross_entropy_objective\": {\"sum\": 0.02389644376655602, \"count\": 1, \"min\": 0.02389644376655602, \"max\": 0.02389644376655602}}}\u001b[0m\n",
      "\u001b[34m#metrics {\"StartTime\": 1650324049.6476846, \"EndTime\": 1650324049.6477003, \"Dimensions\": {\"Algorithm\": \"Linear Learner\", \"Host\": \"algo-1\", \"Operation\": \"training\", \"epoch\": 13, \"model\": 13}, \"Metrics\": {\"train_binary_classification_cross_entropy_objective\": {\"sum\": 0.023963175670087156, \"count\": 1, \"min\": 0.023963175670087156, \"max\": 0.023963175670087156}}}\u001b[0m\n",
      "\u001b[34m#metrics {\"StartTime\": 1650324049.6477575, \"EndTime\": 1650324049.6477735, \"Dimensions\": {\"Algorithm\": \"Linear Learner\", \"Host\": \"algo-1\", \"Operation\": \"training\", \"epoch\": 13, \"model\": 14}, \"Metrics\": {\"train_binary_classification_cross_entropy_objective\": {\"sum\": 0.02389711307385646, \"count\": 1, \"min\": 0.02389711307385646, \"max\": 0.02389711307385646}}}\u001b[0m\n",
      "\u001b[34m#metrics {\"StartTime\": 1650324049.647823, \"EndTime\": 1650324049.6478407, \"Dimensions\": {\"Algorithm\": \"Linear Learner\", \"Host\": \"algo-1\", \"Operation\": \"training\", \"epoch\": 13, \"model\": 15}, \"Metrics\": {\"train_binary_classification_cross_entropy_objective\": {\"sum\": 0.023963175620507756, \"count\": 1, \"min\": 0.023963175620507756, \"max\": 0.023963175620507756}}}\u001b[0m\n",
      "\u001b[34m#metrics {\"StartTime\": 1650324049.6478965, \"EndTime\": 1650324049.6479137, \"Dimensions\": {\"Algorithm\": \"Linear Learner\", \"Host\": \"algo-1\", \"Operation\": \"training\", \"epoch\": 13, \"model\": 16}, \"Metrics\": {\"train_binary_classification_cross_entropy_objective\": {\"sum\": 0.3824919900923329, \"count\": 1, \"min\": 0.3824919900923329, \"max\": 0.3824919900923329}}}\u001b[0m\n",
      "\u001b[34m#metrics {\"StartTime\": 1650324049.647965, \"EndTime\": 1650324049.64798, \"Dimensions\": {\"Algorithm\": \"Linear Learner\", \"Host\": \"algo-1\", \"Operation\": \"training\", \"epoch\": 13, \"model\": 17}, \"Metrics\": {\"train_binary_classification_cross_entropy_objective\": {\"sum\": 0.3825422722119439, \"count\": 1, \"min\": 0.3825422722119439, \"max\": 0.3825422722119439}}}\u001b[0m\n",
      "\u001b[34m#metrics {\"StartTime\": 1650324049.6480353, \"EndTime\": 1650324049.6480527, \"Dimensions\": {\"Algorithm\": \"Linear Learner\", \"Host\": \"algo-1\", \"Operation\": \"training\", \"epoch\": 13, \"model\": 18}, \"Metrics\": {\"train_binary_classification_cross_entropy_objective\": {\"sum\": 0.38249838259169083, \"count\": 1, \"min\": 0.38249838259169083, \"max\": 0.38249838259169083}}}\u001b[0m\n",
      "\u001b[34m#metrics {\"StartTime\": 1650324049.6481054, \"EndTime\": 1650324049.6481218, \"Dimensions\": {\"Algorithm\": \"Linear Learner\", \"Host\": \"algo-1\", \"Operation\": \"training\", \"epoch\": 13, \"model\": 19}, \"Metrics\": {\"train_binary_classification_cross_entropy_objective\": {\"sum\": 0.38254227181530875, \"count\": 1, \"min\": 0.38254227181530875, \"max\": 0.38254227181530875}}}\u001b[0m\n",
      "\u001b[34m#metrics {\"StartTime\": 1650324049.6481771, \"EndTime\": 1650324049.648194, \"Dimensions\": {\"Algorithm\": \"Linear Learner\", \"Host\": \"algo-1\", \"Operation\": \"training\", \"epoch\": 13, \"model\": 20}, \"Metrics\": {\"train_binary_classification_cross_entropy_objective\": {\"sum\": 0.38249199979822934, \"count\": 1, \"min\": 0.38249199979822934, \"max\": 0.38249199979822934}}}\u001b[0m\n",
      "\u001b[34m#metrics {\"StartTime\": 1650324049.6482487, \"EndTime\": 1650324049.6482658, \"Dimensions\": {\"Algorithm\": \"Linear Learner\", \"Host\": \"algo-1\", \"Operation\": \"training\", \"epoch\": 13, \"model\": 21}, \"Metrics\": {\"train_binary_classification_cross_entropy_objective\": {\"sum\": 0.3833392286854782, \"count\": 1, \"min\": 0.3833392286854782, \"max\": 0.3833392286854782}}}\u001b[0m\n",
      "\u001b[34m#metrics {\"StartTime\": 1650324049.6483192, \"EndTime\": 1650324049.6483362, \"Dimensions\": {\"Algorithm\": \"Linear Learner\", \"Host\": \"algo-1\", \"Operation\": \"training\", \"epoch\": 13, \"model\": 22}, \"Metrics\": {\"train_binary_classification_cross_entropy_objective\": {\"sum\": 0.38249838275501125, \"count\": 1, \"min\": 0.38249838275501125, \"max\": 0.38249838275501125}}}\u001b[0m\n",
      "\u001b[34m#metrics {\"StartTime\": 1650324049.6483912, \"EndTime\": 1650324049.6484072, \"Dimensions\": {\"Algorithm\": \"Linear Learner\", \"Host\": \"algo-1\", \"Operation\": \"training\", \"epoch\": 13, \"model\": 23}, \"Metrics\": {\"train_binary_classification_cross_entropy_objective\": {\"sum\": 0.38333922847549484, \"count\": 1, \"min\": 0.38333922847549484, \"max\": 0.38333922847549484}}}\u001b[0m\n",
      "\u001b[34m#metrics {\"StartTime\": 1650324049.648461, \"EndTime\": 1650324049.6484787, \"Dimensions\": {\"Algorithm\": \"Linear Learner\", \"Host\": \"algo-1\", \"Operation\": \"training\", \"epoch\": 13, \"model\": 24}, \"Metrics\": {\"train_binary_classification_cross_entropy_objective\": {\"sum\": 0.5121383440676814, \"count\": 1, \"min\": 0.5121383440676814, \"max\": 0.5121383440676814}}}\u001b[0m\n",
      "\u001b[34m#metrics {\"StartTime\": 1650324049.6485324, \"EndTime\": 1650324049.6485474, \"Dimensions\": {\"Algorithm\": \"Linear Learner\", \"Host\": \"algo-1\", \"Operation\": \"training\", \"epoch\": 13, \"model\": 25}, \"Metrics\": {\"train_binary_classification_cross_entropy_objective\": {\"sum\": 0.5121639734204027, \"count\": 1, \"min\": 0.5121639734204027, \"max\": 0.5121639734204027}}}\u001b[0m\n",
      "\u001b[34m#metrics {\"StartTime\": 1650324049.6486, \"EndTime\": 1650324049.6486175, \"Dimensions\": {\"Algorithm\": \"Linear Learner\", \"Host\": \"algo-1\", \"Operation\": \"training\", \"epoch\": 13, \"model\": 26}, \"Metrics\": {\"train_binary_classification_cross_entropy_objective\": {\"sum\": 0.5121421227644708, \"count\": 1, \"min\": 0.5121421227644708, \"max\": 0.5121421227644708}}}\u001b[0m\n",
      "\u001b[34m#metrics {\"StartTime\": 1650324049.6486733, \"EndTime\": 1650324049.6486905, \"Dimensions\": {\"Algorithm\": \"Linear Learner\", \"Host\": \"algo-1\", \"Operation\": \"training\", \"epoch\": 13, \"model\": 27}, \"Metrics\": {\"train_binary_classification_cross_entropy_objective\": {\"sum\": 0.5121639733270767, \"count\": 1, \"min\": 0.5121639733270767, \"max\": 0.5121639733270767}}}\u001b[0m\n",
      "\u001b[34m#metrics {\"StartTime\": 1650324049.648743, \"EndTime\": 1650324049.6487615, \"Dimensions\": {\"Algorithm\": \"Linear Learner\", \"Host\": \"algo-1\", \"Operation\": \"training\", \"epoch\": 13, \"model\": 28}, \"Metrics\": {\"train_binary_classification_cross_entropy_objective\": {\"sum\": 0.5121383440910129, \"count\": 1, \"min\": 0.5121383440910129, \"max\": 0.5121383440910129}}}\u001b[0m\n",
      "\u001b[34m#metrics {\"StartTime\": 1650324049.648813, \"EndTime\": 1650324049.6488278, \"Dimensions\": {\"Algorithm\": \"Linear Learner\", \"Host\": \"algo-1\", \"Operation\": \"training\", \"epoch\": 13, \"model\": 29}, \"Metrics\": {\"train_binary_classification_cross_entropy_objective\": {\"sum\": 0.512526871450815, \"count\": 1, \"min\": 0.512526871450815, \"max\": 0.512526871450815}}}\u001b[0m\n",
      "\u001b[34m#metrics {\"StartTime\": 1650324049.6488748, \"EndTime\": 1650324049.648891, \"Dimensions\": {\"Algorithm\": \"Linear Learner\", \"Host\": \"algo-1\", \"Operation\": \"training\", \"epoch\": 13, \"model\": 30}, \"Metrics\": {\"train_binary_classification_cross_entropy_objective\": {\"sum\": 0.5121421223211726, \"count\": 1, \"min\": 0.5121421223211726, \"max\": 0.5121421223211726}}}\u001b[0m\n",
      "\u001b[34m#metrics {\"StartTime\": 1650324049.6489553, \"EndTime\": 1650324049.6489735, \"Dimensions\": {\"Algorithm\": \"Linear Learner\", \"Host\": \"algo-1\", \"Operation\": \"training\", \"epoch\": 13, \"model\": 31}, \"Metrics\": {\"train_binary_classification_cross_entropy_objective\": {\"sum\": 0.5125268715441409, \"count\": 1, \"min\": 0.5125268715441409, \"max\": 0.5125268715441409}}}\u001b[0m\n",
      "\u001b[34m[04/18/2022 23:20:49 INFO 140493168445248] #quality_metric: host=algo-1, epoch=13, train binary_classification_cross_entropy_objective <loss>=0.01900458460845714\u001b[0m\n",
      "\u001b[34m[2022-04-18 23:20:55.315] [tensorio] [info] epoch_stats={\"data_pipeline\": \"/opt/ml/input/data/validation\", \"epoch\": 41, \"duration\": 5641, \"num_examples\": 164, \"num_bytes\": 70003252}\u001b[0m\n",
      "\u001b[34m#metrics {\"StartTime\": 1650324057.3240025, \"EndTime\": 1650324057.3240812, \"Dimensions\": {\"Algorithm\": \"Linear Learner\", \"Host\": \"algo-1\", \"Operation\": \"training\", \"epoch\": 13, \"model\": 0}, \"Metrics\": {\"validation_binary_classification_cross_entropy_objective\": {\"sum\": 0.0188528370328534, \"count\": 1, \"min\": 0.0188528370328534, \"max\": 0.0188528370328534}}}\u001b[0m\n",
      "\u001b[34m#metrics {\"StartTime\": 1650324057.3241808, \"EndTime\": 1650324057.3242025, \"Dimensions\": {\"Algorithm\": \"Linear Learner\", \"Host\": \"algo-1\", \"Operation\": \"training\", \"epoch\": 13, \"model\": 1}, \"Metrics\": {\"validation_binary_classification_cross_entropy_objective\": {\"sum\": 0.0004973492627754371, \"count\": 1, \"min\": 0.0004973492627754371, \"max\": 0.0004973492627754371}}}\u001b[0m\n",
      "\u001b[34m#metrics {\"StartTime\": 1650324057.3242586, \"EndTime\": 1650324057.3242753, \"Dimensions\": {\"Algorithm\": \"Linear Learner\", \"Host\": \"algo-1\", \"Operation\": \"training\", \"epoch\": 13, \"model\": 2}, \"Metrics\": {\"validation_binary_classification_cross_entropy_objective\": {\"sum\": 0.00533372790762179, \"count\": 1, \"min\": 0.00533372790762179, \"max\": 0.00533372790762179}}}\u001b[0m\n",
      "\u001b[34m#metrics {\"StartTime\": 1650324057.3243225, \"EndTime\": 1650324057.3243377, \"Dimensions\": {\"Algorithm\": \"Linear Learner\", \"Host\": \"algo-1\", \"Operation\": \"training\", \"epoch\": 13, \"model\": 3}, \"Metrics\": {\"validation_binary_classification_cross_entropy_objective\": {\"sum\": 0.0004973518864380913, \"count\": 1, \"min\": 0.0004973518864380913, \"max\": 0.0004973518864380913}}}\u001b[0m\n",
      "\u001b[34m#metrics {\"StartTime\": 1650324057.3243814, \"EndTime\": 1650324057.324394, \"Dimensions\": {\"Algorithm\": \"Linear Learner\", \"Host\": \"algo-1\", \"Operation\": \"training\", \"epoch\": 13, \"model\": 4}, \"Metrics\": {\"validation_binary_classification_cross_entropy_objective\": {\"sum\": 0.0005019125007081792, \"count\": 1, \"min\": 0.0005019125007081792, \"max\": 0.0005019125007081792}}}\u001b[0m\n",
      "\u001b[34m#metrics {\"StartTime\": 1650324057.3244405, \"EndTime\": 1650324057.3244565, \"Dimensions\": {\"Algorithm\": \"Linear Learner\", \"Host\": \"algo-1\", \"Operation\": \"training\", \"epoch\": 13, \"model\": 5}, \"Metrics\": {\"validation_binary_classification_cross_entropy_objective\": {\"sum\": 0.0004854987215564749, \"count\": 1, \"min\": 0.0004854987215564749, \"max\": 0.0004854987215564749}}}\u001b[0m\n",
      "\u001b[34m#metrics {\"StartTime\": 1650324057.324506, \"EndTime\": 1650324057.324522, \"Dimensions\": {\"Algorithm\": \"Linear Learner\", \"Host\": \"algo-1\", \"Operation\": \"training\", \"epoch\": 13, \"model\": 6}, \"Metrics\": {\"validation_binary_classification_cross_entropy_objective\": {\"sum\": 0.0004972323910765656, \"count\": 1, \"min\": 0.0004972323910765656, \"max\": 0.0004972323910765656}}}\u001b[0m\n",
      "\u001b[34m#metrics {\"StartTime\": 1650324057.324571, \"EndTime\": 1650324057.3245854, \"Dimensions\": {\"Algorithm\": \"Linear Learner\", \"Host\": \"algo-1\", \"Operation\": \"training\", \"epoch\": 13, \"model\": 7}, \"Metrics\": {\"validation_binary_classification_cross_entropy_objective\": {\"sum\": 0.0004854973513263784, \"count\": 1, \"min\": 0.0004854973513263784, \"max\": 0.0004854973513263784}}}\u001b[0m\n",
      "\u001b[34m#metrics {\"StartTime\": 1650324057.3246305, \"EndTime\": 1650324057.3246448, \"Dimensions\": {\"Algorithm\": \"Linear Learner\", \"Host\": \"algo-1\", \"Operation\": \"training\", \"epoch\": 13, \"model\": 8}, \"Metrics\": {\"validation_binary_classification_cross_entropy_objective\": {\"sum\": 0.028032498268749373, \"count\": 1, \"min\": 0.028032498268749373, \"max\": 0.028032498268749373}}}\u001b[0m\n",
      "\u001b[34m#metrics {\"StartTime\": 1650324057.3246925, \"EndTime\": 1650324057.324706, \"Dimensions\": {\"Algorithm\": \"Linear Learner\", \"Host\": \"algo-1\", \"Operation\": \"training\", \"epoch\": 13, \"model\": 9}, \"Metrics\": {\"validation_binary_classification_cross_entropy_objective\": {\"sum\": 0.023911515417126928, \"count\": 1, \"min\": 0.023911515417126928, \"max\": 0.023911515417126928}}}\u001b[0m\n",
      "\u001b[34m#metrics {\"StartTime\": 1650324057.324755, \"EndTime\": 1650324057.324771, \"Dimensions\": {\"Algorithm\": \"Linear Learner\", \"Host\": \"algo-1\", \"Operation\": \"training\", \"epoch\": 13, \"model\": 10}, \"Metrics\": {\"validation_binary_classification_cross_entropy_objective\": {\"sum\": 0.023913637652823474, \"count\": 1, \"min\": 0.023913637652823474, \"max\": 0.023913637652823474}}}\u001b[0m\n",
      "\u001b[34m#metrics {\"StartTime\": 1650324057.3248212, \"EndTime\": 1650324057.3248372, \"Dimensions\": {\"Algorithm\": \"Linear Learner\", \"Host\": \"algo-1\", \"Operation\": \"training\", \"epoch\": 13, \"model\": 11}, \"Metrics\": {\"validation_binary_classification_cross_entropy_objective\": {\"sum\": 0.023911515335496198, \"count\": 1, \"min\": 0.023911515335496198, \"max\": 0.023911515335496198}}}\u001b[0m\n",
      "\u001b[34m#metrics {\"StartTime\": 1650324057.3248909, \"EndTime\": 1650324057.3249068, \"Dimensions\": {\"Algorithm\": \"Linear Learner\", \"Host\": \"algo-1\", \"Operation\": \"training\", \"epoch\": 13, \"model\": 12}, \"Metrics\": {\"validation_binary_classification_cross_entropy_objective\": {\"sum\": 0.023897983945954857, \"count\": 1, \"min\": 0.023897983945954857, \"max\": 0.023897983945954857}}}\u001b[0m\n",
      "\u001b[34m#metrics {\"StartTime\": 1650324057.3249586, \"EndTime\": 1650324057.324975, \"Dimensions\": {\"Algorithm\": \"Linear Learner\", \"Host\": \"algo-1\", \"Operation\": \"training\", \"epoch\": 13, \"model\": 13}, \"Metrics\": {\"validation_binary_classification_cross_entropy_objective\": {\"sum\": 0.023428069038599387, \"count\": 1, \"min\": 0.023428069038599387, \"max\": 0.023428069038599387}}}\u001b[0m\n",
      "\u001b[34m#metrics {\"StartTime\": 1650324057.325027, \"EndTime\": 1650324057.3250425, \"Dimensions\": {\"Algorithm\": \"Linear Learner\", \"Host\": \"algo-1\", \"Operation\": \"training\", \"epoch\": 13, \"model\": 14}, \"Metrics\": {\"validation_binary_classification_cross_entropy_objective\": {\"sum\": 0.023913642783897876, \"count\": 1, \"min\": 0.023913642783897876, \"max\": 0.023913642783897876}}}\u001b[0m\n",
      "\u001b[34m#metrics {\"StartTime\": 1650324057.3250945, \"EndTime\": 1650324057.3251097, \"Dimensions\": {\"Algorithm\": \"Linear Learner\", \"Host\": \"algo-1\", \"Operation\": \"training\", \"epoch\": 13, \"model\": 15}, \"Metrics\": {\"validation_binary_classification_cross_entropy_objective\": {\"sum\": 0.023428068933645595, \"count\": 1, \"min\": 0.023428068933645595, \"max\": 0.023428068933645595}}}\u001b[0m\n",
      "\u001b[34m#metrics {\"StartTime\": 1650324057.3251598, \"EndTime\": 1650324057.3251743, \"Dimensions\": {\"Algorithm\": \"Linear Learner\", \"Host\": \"algo-1\", \"Operation\": \"training\", \"epoch\": 13, \"model\": 16}, \"Metrics\": {\"validation_binary_classification_cross_entropy_objective\": {\"sum\": 0.3825499789335624, \"count\": 1, \"min\": 0.3825499789335624, \"max\": 0.3825499789335624}}}\u001b[0m\n",
      "\u001b[34m#metrics {\"StartTime\": 1650324057.32522, \"EndTime\": 1650324057.3252342, \"Dimensions\": {\"Algorithm\": \"Linear Learner\", \"Host\": \"algo-1\", \"Operation\": \"training\", \"epoch\": 13, \"model\": 17}, \"Metrics\": {\"validation_binary_classification_cross_entropy_objective\": {\"sum\": 0.3829287348815188, \"count\": 1, \"min\": 0.3829287348815188, \"max\": 0.3829287348815188}}}\u001b[0m\n",
      "\u001b[34m#metrics {\"StartTime\": 1650324057.3252828, \"EndTime\": 1650324057.3252976, \"Dimensions\": {\"Algorithm\": \"Linear Learner\", \"Host\": \"algo-1\", \"Operation\": \"training\", \"epoch\": 13, \"model\": 18}, \"Metrics\": {\"validation_binary_classification_cross_entropy_objective\": {\"sum\": 0.3827289172235583, \"count\": 1, \"min\": 0.3827289172235583, \"max\": 0.3827289172235583}}}\u001b[0m\n",
      "\u001b[34m#metrics {\"StartTime\": 1650324057.325344, \"EndTime\": 1650324057.3253586, \"Dimensions\": {\"Algorithm\": \"Linear Learner\", \"Host\": \"algo-1\", \"Operation\": \"training\", \"epoch\": 13, \"model\": 19}, \"Metrics\": {\"validation_binary_classification_cross_entropy_objective\": {\"sum\": 0.3829287348815188, \"count\": 1, \"min\": 0.3829287348815188, \"max\": 0.3829287348815188}}}\u001b[0m\n",
      "\u001b[34m#metrics {\"StartTime\": 1650324057.32541, \"EndTime\": 1650324057.3254256, \"Dimensions\": {\"Algorithm\": \"Linear Learner\", \"Host\": \"algo-1\", \"Operation\": \"training\", \"epoch\": 13, \"model\": 20}, \"Metrics\": {\"validation_binary_classification_cross_entropy_objective\": {\"sum\": 0.3825499982450606, \"count\": 1, \"min\": 0.3825499982450606, \"max\": 0.3825499982450606}}}\u001b[0m\n",
      "\u001b[34m#metrics {\"StartTime\": 1650324057.3254776, \"EndTime\": 1650324057.3254938, \"Dimensions\": {\"Algorithm\": \"Linear Learner\", \"Host\": \"algo-1\", \"Operation\": \"training\", \"epoch\": 13, \"model\": 21}, \"Metrics\": {\"validation_binary_classification_cross_entropy_objective\": {\"sum\": 0.390610549681679, \"count\": 1, \"min\": 0.390610549681679, \"max\": 0.390610549681679}}}\u001b[0m\n",
      "\u001b[34m#metrics {\"StartTime\": 1650324057.3255465, \"EndTime\": 1650324057.3255632, \"Dimensions\": {\"Algorithm\": \"Linear Learner\", \"Host\": \"algo-1\", \"Operation\": \"training\", \"epoch\": 13, \"model\": 22}, \"Metrics\": {\"validation_binary_classification_cross_entropy_objective\": {\"sum\": 0.38272891703697376, \"count\": 1, \"min\": 0.38272891703697376, \"max\": 0.38272891703697376}}}\u001b[0m\n",
      "\u001b[34m#metrics {\"StartTime\": 1650324057.325615, \"EndTime\": 1650324057.3256304, \"Dimensions\": {\"Algorithm\": \"Linear Learner\", \"Host\": \"algo-1\", \"Operation\": \"training\", \"epoch\": 13, \"model\": 23}, \"Metrics\": {\"validation_binary_classification_cross_entropy_objective\": {\"sum\": 0.3906105642352719, \"count\": 1, \"min\": 0.3906105642352719, \"max\": 0.3906105642352719}}}\u001b[0m\n",
      "\u001b[34m#metrics {\"StartTime\": 1650324057.3256812, \"EndTime\": 1650324057.3256981, \"Dimensions\": {\"Algorithm\": \"Linear Learner\", \"Host\": \"algo-1\", \"Operation\": \"training\", \"epoch\": 13, \"model\": 24}, \"Metrics\": {\"validation_binary_classification_cross_entropy_objective\": {\"sum\": 0.512143528513423, \"count\": 1, \"min\": 0.512143528513423, \"max\": 0.512143528513423}}}\u001b[0m\n",
      "\u001b[34m#metrics {\"StartTime\": 1650324057.325748, \"EndTime\": 1650324057.3257623, \"Dimensions\": {\"Algorithm\": \"Linear Learner\", \"Host\": \"algo-1\", \"Operation\": \"training\", \"epoch\": 13, \"model\": 25}, \"Metrics\": {\"validation_binary_classification_cross_entropy_objective\": {\"sum\": 0.5122113560926767, \"count\": 1, \"min\": 0.5122113560926767, \"max\": 0.5122113560926767}}}\u001b[0m\n",
      "\u001b[34m#metrics {\"StartTime\": 1650324057.3258119, \"EndTime\": 1650324057.3258266, \"Dimensions\": {\"Algorithm\": \"Linear Learner\", \"Host\": \"algo-1\", \"Operation\": \"training\", \"epoch\": 13, \"model\": 26}, \"Metrics\": {\"validation_binary_classification_cross_entropy_objective\": {\"sum\": 0.5120393186312928, \"count\": 1, \"min\": 0.5120393186312928, \"max\": 0.5120393186312928}}}\u001b[0m\n",
      "\u001b[34m#metrics {\"StartTime\": 1650324057.3258808, \"EndTime\": 1650324057.3258963, \"Dimensions\": {\"Algorithm\": \"Linear Learner\", \"Host\": \"algo-1\", \"Operation\": \"training\", \"epoch\": 13, \"model\": 27}, \"Metrics\": {\"validation_binary_classification_cross_entropy_objective\": {\"sum\": 0.5122113564658457, \"count\": 1, \"min\": 0.5122113564658457, \"max\": 0.5122113564658457}}}\u001b[0m\n",
      "\u001b[34m#metrics {\"StartTime\": 1650324057.325949, \"EndTime\": 1650324057.3259661, \"Dimensions\": {\"Algorithm\": \"Linear Learner\", \"Host\": \"algo-1\", \"Operation\": \"training\", \"epoch\": 13, \"model\": 28}, \"Metrics\": {\"validation_binary_classification_cross_entropy_objective\": {\"sum\": 0.512143528140254, \"count\": 1, \"min\": 0.512143528140254, \"max\": 0.512143528140254}}}\u001b[0m\n",
      "\u001b[34m#metrics {\"StartTime\": 1650324057.3260176, \"EndTime\": 1650324057.3260345, \"Dimensions\": {\"Algorithm\": \"Linear Learner\", \"Host\": \"algo-1\", \"Operation\": \"training\", \"epoch\": 13, \"model\": 29}, \"Metrics\": {\"validation_binary_classification_cross_entropy_objective\": {\"sum\": 0.5140655198332005, \"count\": 1, \"min\": 0.5140655198332005, \"max\": 0.5140655198332005}}}\u001b[0m\n",
      "\u001b[34m#metrics {\"StartTime\": 1650324057.3260877, \"EndTime\": 1650324057.3261044, \"Dimensions\": {\"Algorithm\": \"Linear Learner\", \"Host\": \"algo-1\", \"Operation\": \"training\", \"epoch\": 13, \"model\": 30}, \"Metrics\": {\"validation_binary_classification_cross_entropy_objective\": {\"sum\": 0.5120393184447083, \"count\": 1, \"min\": 0.5120393184447083, \"max\": 0.5120393184447083}}}\u001b[0m\n",
      "\u001b[34m#metrics {\"StartTime\": 1650324057.3261864, \"EndTime\": 1650324057.3262036, \"Dimensions\": {\"Algorithm\": \"Linear Learner\", \"Host\": \"algo-1\", \"Operation\": \"training\", \"epoch\": 13, \"model\": 31}, \"Metrics\": {\"validation_binary_classification_cross_entropy_objective\": {\"sum\": 0.5140655174076016, \"count\": 1, \"min\": 0.5140655174076016, \"max\": 0.5140655174076016}}}\u001b[0m\n",
      "\u001b[34m[04/18/2022 23:20:57 INFO 140493168445248] #quality_metric: host=algo-1, epoch=13, validation binary_classification_cross_entropy_objective <loss>=0.0188528370328534\u001b[0m\n",
      "\u001b[34m[04/18/2022 23:20:57 INFO 140493168445248] #early_stopping_criteria_metric: host=algo-1, epoch=13, criteria=sampled_accuracy, value=0.9995781338844086\u001b[0m\n",
      "\u001b[34m[04/18/2022 23:20:57 INFO 140493168445248] Epoch 13: Loss improved. Updating best model\u001b[0m\n",
      "\u001b[34m[04/18/2022 23:20:57 INFO 140493168445248] Saving model for epoch: 13\u001b[0m\n",
      "\u001b[34m[04/18/2022 23:20:57 INFO 140493168445248] Saved checkpoint to \"/tmp/tmpa6_taale/mx-mod-0000.params\"\u001b[0m\n",
      "\u001b[34m[04/18/2022 23:20:57 INFO 140493168445248] #progress_metric: host=algo-1, completed 93.33333333333333 % of epochs\u001b[0m\n",
      "\u001b[34m#metrics {\"StartTime\": 1650323988.9162438, \"EndTime\": 1650324057.334915, \"Dimensions\": {\"Algorithm\": \"Linear Learner\", \"Host\": \"algo-1\", \"Operation\": \"training\", \"epoch\": 13, \"Meta\": \"training_data_iter\"}, \"Metrics\": {\"Total Records Seen\": {\"sum\": 18330608.0, \"count\": 1, \"min\": 18330608, \"max\": 18330608}, \"Total Batches Seen\": {\"sum\": 18338.0, \"count\": 1, \"min\": 18338, \"max\": 18338}, \"Max Records Seen Between Resets\": {\"sum\": 1308472.0, \"count\": 1, \"min\": 1308472, \"max\": 1308472}, \"Max Batches Seen Between Resets\": {\"sum\": 1309.0, \"count\": 1, \"min\": 1309, \"max\": 1309}, \"Reset Count\": {\"sum\": 16.0, \"count\": 1, \"min\": 16, \"max\": 16}, \"Number of Records Since Last Reset\": {\"sum\": 1308472.0, \"count\": 1, \"min\": 1308472, \"max\": 1308472}, \"Number of Batches Since Last Reset\": {\"sum\": 1309.0, \"count\": 1, \"min\": 1309, \"max\": 1309}}}\u001b[0m\n",
      "\u001b[34m[04/18/2022 23:20:57 INFO 140493168445248] #throughput_metric: host=algo-1, train throughput=19124.44314479043 records/second\u001b[0m\n",
      "\u001b[34m[2022-04-18 23:21:58.062] [tensorio] [info] epoch_stats={\"data_pipeline\": \"/opt/ml/input/data/train\", \"epoch\": 31, \"duration\": 60726, \"num_examples\": 1309, \"num_bytes\": 560026016}\u001b[0m\n",
      "\u001b[34m#metrics {\"StartTime\": 1650324118.063032, \"EndTime\": 1650324118.063097, \"Dimensions\": {\"Algorithm\": \"Linear Learner\", \"Host\": \"algo-1\", \"Operation\": \"training\", \"epoch\": 14, \"model\": 0}, \"Metrics\": {\"train_binary_classification_cross_entropy_objective\": {\"sum\": 0.018712473806620375, \"count\": 1, \"min\": 0.018712473806620375, \"max\": 0.018712473806620375}}}\u001b[0m\n",
      "\u001b[34m#metrics {\"StartTime\": 1650324118.0631692, \"EndTime\": 1650324118.063183, \"Dimensions\": {\"Algorithm\": \"Linear Learner\", \"Host\": \"algo-1\", \"Operation\": \"training\", \"epoch\": 14, \"model\": 1}, \"Metrics\": {\"train_binary_classification_cross_entropy_objective\": {\"sum\": 0.0004969574342672614, \"count\": 1, \"min\": 0.0004969574342672614, \"max\": 0.0004969574342672614}}}\u001b[0m\n",
      "\u001b[34m#metrics {\"StartTime\": 1650324118.0632331, \"EndTime\": 1650324118.06325, \"Dimensions\": {\"Algorithm\": \"Linear Learner\", \"Host\": \"algo-1\", \"Operation\": \"training\", \"epoch\": 14, \"model\": 2}, \"Metrics\": {\"train_binary_classification_cross_entropy_objective\": {\"sum\": 0.004980192494319484, \"count\": 1, \"min\": 0.004980192494319484, \"max\": 0.004980192494319484}}}\u001b[0m\n",
      "\u001b[34m#metrics {\"StartTime\": 1650324118.063307, \"EndTime\": 1650324118.063325, \"Dimensions\": {\"Algorithm\": \"Linear Learner\", \"Host\": \"algo-1\", \"Operation\": \"training\", \"epoch\": 14, \"model\": 3}, \"Metrics\": {\"train_binary_classification_cross_entropy_objective\": {\"sum\": 0.0004969575684460661, \"count\": 1, \"min\": 0.0004969575684460661, \"max\": 0.0004969575684460661}}}\u001b[0m\n",
      "\u001b[34m#metrics {\"StartTime\": 1650324118.0633812, \"EndTime\": 1650324118.063401, \"Dimensions\": {\"Algorithm\": \"Linear Learner\", \"Host\": \"algo-1\", \"Operation\": \"training\", \"epoch\": 14, \"model\": 4}, \"Metrics\": {\"train_binary_classification_cross_entropy_objective\": {\"sum\": 0.0005011398458471721, \"count\": 1, \"min\": 0.0005011398458471721, \"max\": 0.0005011398458471721}}}\u001b[0m\n",
      "\u001b[34m#metrics {\"StartTime\": 1650324118.0634637, \"EndTime\": 1650324118.063484, \"Dimensions\": {\"Algorithm\": \"Linear Learner\", \"Host\": \"algo-1\", \"Operation\": \"training\", \"epoch\": 14, \"model\": 5}, \"Metrics\": {\"train_binary_classification_cross_entropy_objective\": {\"sum\": 0.0004976101923699773, \"count\": 1, \"min\": 0.0004976101923699773, \"max\": 0.0004976101923699773}}}\u001b[0m\n",
      "\u001b[34m#metrics {\"StartTime\": 1650324118.0635514, \"EndTime\": 1650324118.0635686, \"Dimensions\": {\"Algorithm\": \"Linear Learner\", \"Host\": \"algo-1\", \"Operation\": \"training\", \"epoch\": 14, \"model\": 6}, \"Metrics\": {\"train_binary_classification_cross_entropy_objective\": {\"sum\": 0.000496925952397173, \"count\": 1, \"min\": 0.000496925952397173, \"max\": 0.000496925952397173}}}\u001b[0m\n",
      "\u001b[34m#metrics {\"StartTime\": 1650324118.0636244, \"EndTime\": 1650324118.06364, \"Dimensions\": {\"Algorithm\": \"Linear Learner\", \"Host\": \"algo-1\", \"Operation\": \"training\", \"epoch\": 14, \"model\": 7}, \"Metrics\": {\"train_binary_classification_cross_entropy_objective\": {\"sum\": 0.0004976102178204315, \"count\": 1, \"min\": 0.0004976102178204315, \"max\": 0.0004976102178204315}}}\u001b[0m\n",
      "\u001b[34m#metrics {\"StartTime\": 1650324118.0636916, \"EndTime\": 1650324118.0637078, \"Dimensions\": {\"Algorithm\": \"Linear Learner\", \"Host\": \"algo-1\", \"Operation\": \"training\", \"epoch\": 14, \"model\": 8}, \"Metrics\": {\"train_binary_classification_cross_entropy_objective\": {\"sum\": 0.02783846403845224, \"count\": 1, \"min\": 0.02783846403845224, \"max\": 0.02783846403845224}}}\u001b[0m\n",
      "\u001b[34m#metrics {\"StartTime\": 1650324118.0637462, \"EndTime\": 1650324118.0637558, \"Dimensions\": {\"Algorithm\": \"Linear Learner\", \"Host\": \"algo-1\", \"Operation\": \"training\", \"epoch\": 14, \"model\": 9}, \"Metrics\": {\"train_binary_classification_cross_entropy_objective\": {\"sum\": 0.023899731230662868, \"count\": 1, \"min\": 0.023899731230662868, \"max\": 0.023899731230662868}}}\u001b[0m\n",
      "\u001b[34m#metrics {\"StartTime\": 1650324118.0637825, \"EndTime\": 1650324118.0637898, \"Dimensions\": {\"Algorithm\": \"Linear Learner\", \"Host\": \"algo-1\", \"Operation\": \"training\", \"epoch\": 14, \"model\": 10}, \"Metrics\": {\"train_binary_classification_cross_entropy_objective\": {\"sum\": 0.02389710779656693, \"count\": 1, \"min\": 0.02389710779656693, \"max\": 0.02389710779656693}}}\u001b[0m\n",
      "\u001b[34m#metrics {\"StartTime\": 1650324118.0638149, \"EndTime\": 1650324118.0638223, \"Dimensions\": {\"Algorithm\": \"Linear Learner\", \"Host\": \"algo-1\", \"Operation\": \"training\", \"epoch\": 14, \"model\": 11}, \"Metrics\": {\"train_binary_classification_cross_entropy_objective\": {\"sum\": 0.023899731049843883, \"count\": 1, \"min\": 0.023899731049843883, \"max\": 0.023899731049843883}}}\u001b[0m\n",
      "\u001b[34m#metrics {\"StartTime\": 1650324118.0638475, \"EndTime\": 1650324118.0638552, \"Dimensions\": {\"Algorithm\": \"Linear Learner\", \"Host\": \"algo-1\", \"Operation\": \"training\", \"epoch\": 14, \"model\": 12}, \"Metrics\": {\"train_binary_classification_cross_entropy_objective\": {\"sum\": 0.023896454771724317, \"count\": 1, \"min\": 0.023896454771724317, \"max\": 0.023896454771724317}}}\u001b[0m\n",
      "\u001b[34m#metrics {\"StartTime\": 1650324118.0638802, \"EndTime\": 1650324118.0638878, \"Dimensions\": {\"Algorithm\": \"Linear Learner\", \"Host\": \"algo-1\", \"Operation\": \"training\", \"epoch\": 14, \"model\": 13}, \"Metrics\": {\"train_binary_classification_cross_entropy_objective\": {\"sum\": 0.023955871797847455, \"count\": 1, \"min\": 0.023955871797847455, \"max\": 0.023955871797847455}}}\u001b[0m\n",
      "\u001b[34m#metrics {\"StartTime\": 1650324118.0639343, \"EndTime\": 1650324118.0639496, \"Dimensions\": {\"Algorithm\": \"Linear Learner\", \"Host\": \"algo-1\", \"Operation\": \"training\", \"epoch\": 14, \"model\": 14}, \"Metrics\": {\"train_binary_classification_cross_entropy_objective\": {\"sum\": 0.023897113241551485, \"count\": 1, \"min\": 0.023897113241551485, \"max\": 0.023897113241551485}}}\u001b[0m\n",
      "\u001b[34m#metrics {\"StartTime\": 1650324118.0639994, \"EndTime\": 1650324118.0640147, \"Dimensions\": {\"Algorithm\": \"Linear Learner\", \"Host\": \"algo-1\", \"Operation\": \"training\", \"epoch\": 14, \"model\": 15}, \"Metrics\": {\"train_binary_classification_cross_entropy_objective\": {\"sum\": 0.02395587191304665, \"count\": 1, \"min\": 0.02395587191304665, \"max\": 0.02395587191304665}}}\u001b[0m\n",
      "\u001b[34m#metrics {\"StartTime\": 1650324118.0640752, \"EndTime\": 1650324118.0640907, \"Dimensions\": {\"Algorithm\": \"Linear Learner\", \"Host\": \"algo-1\", \"Operation\": \"training\", \"epoch\": 14, \"model\": 16}, \"Metrics\": {\"train_binary_classification_cross_entropy_objective\": {\"sum\": 0.38249199004566997, \"count\": 1, \"min\": 0.38249199004566997, \"max\": 0.38249199004566997}}}\u001b[0m\n",
      "\u001b[34m#metrics {\"StartTime\": 1650324118.0641394, \"EndTime\": 1650324118.0641549, \"Dimensions\": {\"Algorithm\": \"Linear Learner\", \"Host\": \"algo-1\", \"Operation\": \"training\", \"epoch\": 14, \"model\": 17}, \"Metrics\": {\"train_binary_classification_cross_entropy_objective\": {\"sum\": 0.38253653707708424, \"count\": 1, \"min\": 0.38253653707708424, \"max\": 0.38253653707708424}}}\u001b[0m\n",
      "\u001b[34m#metrics {\"StartTime\": 1650324118.0642033, \"EndTime\": 1650324118.0642183, \"Dimensions\": {\"Algorithm\": \"Linear Learner\", \"Host\": \"algo-1\", \"Operation\": \"training\", \"epoch\": 14, \"model\": 18}, \"Metrics\": {\"train_binary_classification_cross_entropy_objective\": {\"sum\": 0.38249838259169083, \"count\": 1, \"min\": 0.38249838259169083, \"max\": 0.38249838259169083}}}\u001b[0m\n",
      "\u001b[34m#metrics {\"StartTime\": 1650324118.0642676, \"EndTime\": 1650324118.0642834, \"Dimensions\": {\"Algorithm\": \"Linear Learner\", \"Host\": \"algo-1\", \"Operation\": \"training\", \"epoch\": 14, \"model\": 19}, \"Metrics\": {\"train_binary_classification_cross_entropy_objective\": {\"sum\": 0.38253653740372495, \"count\": 1, \"min\": 0.38253653740372495, \"max\": 0.38253653740372495}}}\u001b[0m\n",
      "\u001b[34m#metrics {\"StartTime\": 1650324118.064335, \"EndTime\": 1650324118.0643516, \"Dimensions\": {\"Algorithm\": \"Linear Learner\", \"Host\": \"algo-1\", \"Operation\": \"training\", \"epoch\": 14, \"model\": 20}, \"Metrics\": {\"train_binary_classification_cross_entropy_objective\": {\"sum\": 0.3824919995182516, \"count\": 1, \"min\": 0.3824919995182516, \"max\": 0.3824919995182516}}}\u001b[0m\n",
      "\u001b[34m#metrics {\"StartTime\": 1650324118.064406, \"EndTime\": 1650324118.064422, \"Dimensions\": {\"Algorithm\": \"Linear Learner\", \"Host\": \"algo-1\", \"Operation\": \"training\", \"epoch\": 14, \"model\": 21}, \"Metrics\": {\"train_binary_classification_cross_entropy_objective\": {\"sum\": 0.38324582343145247, \"count\": 1, \"min\": 0.38324582343145247, \"max\": 0.38324582343145247}}}\u001b[0m\n",
      "\u001b[34m#metrics {\"StartTime\": 1650324118.0644739, \"EndTime\": 1650324118.0644894, \"Dimensions\": {\"Algorithm\": \"Linear Learner\", \"Host\": \"algo-1\", \"Operation\": \"training\", \"epoch\": 14, \"model\": 22}, \"Metrics\": {\"train_binary_classification_cross_entropy_objective\": {\"sum\": 0.3824983826616853, \"count\": 1, \"min\": 0.3824983826616853, \"max\": 0.3824983826616853}}}\u001b[0m\n",
      "\u001b[34m#metrics {\"StartTime\": 1650324118.0645423, \"EndTime\": 1650324118.0645583, \"Dimensions\": {\"Algorithm\": \"Linear Learner\", \"Host\": \"algo-1\", \"Operation\": \"training\", \"epoch\": 14, \"model\": 23}, \"Metrics\": {\"train_binary_classification_cross_entropy_objective\": {\"sum\": 0.3832458235481099, \"count\": 1, \"min\": 0.3832458235481099, \"max\": 0.3832458235481099}}}\u001b[0m\n",
      "\u001b[34m#metrics {\"StartTime\": 1650324118.0646095, \"EndTime\": 1650324118.0646257, \"Dimensions\": {\"Algorithm\": \"Linear Learner\", \"Host\": \"algo-1\", \"Operation\": \"training\", \"epoch\": 14, \"model\": 24}, \"Metrics\": {\"train_binary_classification_cross_entropy_objective\": {\"sum\": 0.5121383441376759, \"count\": 1, \"min\": 0.5121383441376759, \"max\": 0.5121383441376759}}}\u001b[0m\n",
      "\u001b[34m#metrics {\"StartTime\": 1650324118.0646791, \"EndTime\": 1650324118.0646946, \"Dimensions\": {\"Algorithm\": \"Linear Learner\", \"Host\": \"algo-1\", \"Operation\": \"training\", \"epoch\": 14, \"model\": 25}, \"Metrics\": {\"train_binary_classification_cross_entropy_objective\": {\"sum\": 0.5121614067240957, \"count\": 1, \"min\": 0.5121614067240957, \"max\": 0.5121614067240957}}}\u001b[0m\n",
      "\u001b[34m#metrics {\"StartTime\": 1650324118.0647464, \"EndTime\": 1650324118.064763, \"Dimensions\": {\"Algorithm\": \"Linear Learner\", \"Host\": \"algo-1\", \"Operation\": \"training\", \"epoch\": 14, \"model\": 26}, \"Metrics\": {\"train_binary_classification_cross_entropy_objective\": {\"sum\": 0.5121421227411392, \"count\": 1, \"min\": 0.5121421227411392, \"max\": 0.5121421227411392}}}\u001b[0m\n",
      "\u001b[34m#metrics {\"StartTime\": 1650324118.0648155, \"EndTime\": 1650324118.0648315, \"Dimensions\": {\"Algorithm\": \"Linear Learner\", \"Host\": \"algo-1\", \"Operation\": \"training\", \"epoch\": 14, \"model\": 27}, \"Metrics\": {\"train_binary_classification_cross_entropy_objective\": {\"sum\": 0.5121614068640846, \"count\": 1, \"min\": 0.5121614068640846, \"max\": 0.5121614068640846}}}\u001b[0m\n",
      "\u001b[34m#metrics {\"StartTime\": 1650324118.0648832, \"EndTime\": 1650324118.0648973, \"Dimensions\": {\"Algorithm\": \"Linear Learner\", \"Host\": \"algo-1\", \"Operation\": \"training\", \"epoch\": 14, \"model\": 28}, \"Metrics\": {\"train_binary_classification_cross_entropy_objective\": {\"sum\": 0.5121383440676814, \"count\": 1, \"min\": 0.5121383440676814, \"max\": 0.5121383440676814}}}\u001b[0m\n",
      "\u001b[34m#metrics {\"StartTime\": 1650324118.0649474, \"EndTime\": 1650324118.0649636, \"Dimensions\": {\"Algorithm\": \"Linear Learner\", \"Host\": \"algo-1\", \"Operation\": \"training\", \"epoch\": 14, \"model\": 29}, \"Metrics\": {\"train_binary_classification_cross_entropy_objective\": {\"sum\": 0.5124801078586403, \"count\": 1, \"min\": 0.5124801078586403, \"max\": 0.5124801078586403}}}\u001b[0m\n",
      "\u001b[34m#metrics {\"StartTime\": 1650324118.065017, \"EndTime\": 1650324118.0650327, \"Dimensions\": {\"Algorithm\": \"Linear Learner\", \"Host\": \"algo-1\", \"Operation\": \"training\", \"epoch\": 14, \"model\": 30}, \"Metrics\": {\"train_binary_classification_cross_entropy_objective\": {\"sum\": 0.5121421228111337, \"count\": 1, \"min\": 0.5121421228111337, \"max\": 0.5121421228111337}}}\u001b[0m\n",
      "\u001b[34m#metrics {\"StartTime\": 1650324118.0650845, \"EndTime\": 1650324118.0651033, \"Dimensions\": {\"Algorithm\": \"Linear Learner\", \"Host\": \"algo-1\", \"Operation\": \"training\", \"epoch\": 14, \"model\": 31}, \"Metrics\": {\"train_binary_classification_cross_entropy_objective\": {\"sum\": 0.5124801078586403, \"count\": 1, \"min\": 0.5124801078586403, \"max\": 0.5124801078586403}}}\u001b[0m\n",
      "\u001b[34m[04/18/2022 23:21:58 INFO 140493168445248] #quality_metric: host=algo-1, epoch=14, train binary_classification_cross_entropy_objective <loss>=0.018712473806620375\u001b[0m\n",
      "\u001b[34m[2022-04-18 23:22:03.931] [tensorio] [info] epoch_stats={\"data_pipeline\": \"/opt/ml/input/data/validation\", \"epoch\": 44, \"duration\": 5842, \"num_examples\": 164, \"num_bytes\": 70003252}\u001b[0m\n",
      "\u001b[34m#metrics {\"StartTime\": 1650324126.55304, \"EndTime\": 1650324126.553165, \"Dimensions\": {\"Algorithm\": \"Linear Learner\", \"Host\": \"algo-1\", \"Operation\": \"training\", \"epoch\": 14, \"model\": 0}, \"Metrics\": {\"validation_binary_classification_cross_entropy_objective\": {\"sum\": 0.018563024772891408, \"count\": 1, \"min\": 0.018563024772891408, \"max\": 0.018563024772891408}}}\u001b[0m\n",
      "\u001b[34m#metrics {\"StartTime\": 1650324126.5532892, \"EndTime\": 1650324126.5533144, \"Dimensions\": {\"Algorithm\": \"Linear Learner\", \"Host\": \"algo-1\", \"Operation\": \"training\", \"epoch\": 14, \"model\": 1}, \"Metrics\": {\"validation_binary_classification_cross_entropy_objective\": {\"sum\": 0.0004973149137307623, \"count\": 1, \"min\": 0.0004973149137307623, \"max\": 0.0004973149137307623}}}\u001b[0m\n",
      "\u001b[34m#metrics {\"StartTime\": 1650324126.5533788, \"EndTime\": 1650324126.5533981, \"Dimensions\": {\"Algorithm\": \"Linear Learner\", \"Host\": \"algo-1\", \"Operation\": \"training\", \"epoch\": 14, \"model\": 2}, \"Metrics\": {\"validation_binary_classification_cross_entropy_objective\": {\"sum\": 0.004639942094334075, \"count\": 1, \"min\": 0.004639942094334075, \"max\": 0.004639942094334075}}}\u001b[0m\n",
      "\u001b[34m#metrics {\"StartTime\": 1650324126.553446, \"EndTime\": 1650324126.5534606, \"Dimensions\": {\"Algorithm\": \"Linear Learner\", \"Host\": \"algo-1\", \"Operation\": \"training\", \"epoch\": 14, \"model\": 3}, \"Metrics\": {\"validation_binary_classification_cross_entropy_objective\": {\"sum\": 0.0004973168107341579, \"count\": 1, \"min\": 0.0004973168107341579, \"max\": 0.0004973168107341579}}}\u001b[0m\n",
      "\u001b[34m#metrics {\"StartTime\": 1650324126.5535092, \"EndTime\": 1650324126.5535223, \"Dimensions\": {\"Algorithm\": \"Linear Learner\", \"Host\": \"algo-1\", \"Operation\": \"training\", \"epoch\": 14, \"model\": 4}, \"Metrics\": {\"validation_binary_classification_cross_entropy_objective\": {\"sum\": 0.0005004120747005869, \"count\": 1, \"min\": 0.0005004120747005869, \"max\": 0.0005004120747005869}}}\u001b[0m\n",
      "\u001b[34m#metrics {\"StartTime\": 1650324126.5535703, \"EndTime\": 1650324126.5535886, \"Dimensions\": {\"Algorithm\": \"Linear Learner\", \"Host\": \"algo-1\", \"Operation\": \"training\", \"epoch\": 14, \"model\": 5}, \"Metrics\": {\"validation_binary_classification_cross_entropy_objective\": {\"sum\": 0.0004883528935374226, \"count\": 1, \"min\": 0.0004883528935374226, \"max\": 0.0004883528935374226}}}\u001b[0m\n",
      "\u001b[34m#metrics {\"StartTime\": 1650324126.5536358, \"EndTime\": 1650324126.553651, \"Dimensions\": {\"Algorithm\": \"Linear Learner\", \"Host\": \"algo-1\", \"Operation\": \"training\", \"epoch\": 14, \"model\": 6}, \"Metrics\": {\"validation_binary_classification_cross_entropy_objective\": {\"sum\": 0.0004972347474350241, \"count\": 1, \"min\": 0.0004972347474350241, \"max\": 0.0004972347474350241}}}\u001b[0m\n",
      "\u001b[34m#metrics {\"StartTime\": 1650324126.5537007, \"EndTime\": 1650324126.5537133, \"Dimensions\": {\"Algorithm\": \"Linear Learner\", \"Host\": \"algo-1\", \"Operation\": \"training\", \"epoch\": 14, \"model\": 7}, \"Metrics\": {\"validation_binary_classification_cross_entropy_objective\": {\"sum\": 0.0004883522239103475, \"count\": 1, \"min\": 0.0004883522239103475, \"max\": 0.0004883522239103475}}}\u001b[0m\n",
      "\u001b[34m#metrics {\"StartTime\": 1650324126.5537636, \"EndTime\": 1650324126.5537765, \"Dimensions\": {\"Algorithm\": \"Linear Learner\", \"Host\": \"algo-1\", \"Operation\": \"training\", \"epoch\": 14, \"model\": 8}, \"Metrics\": {\"validation_binary_classification_cross_entropy_objective\": {\"sum\": 0.027643103924292874, \"count\": 1, \"min\": 0.027643103924292874, \"max\": 0.027643103924292874}}}\u001b[0m\n",
      "\u001b[34m#metrics {\"StartTime\": 1650324126.5538275, \"EndTime\": 1650324126.5538461, \"Dimensions\": {\"Algorithm\": \"Linear Learner\", \"Host\": \"algo-1\", \"Operation\": \"training\", \"epoch\": 14, \"model\": 9}, \"Metrics\": {\"validation_binary_classification_cross_entropy_objective\": {\"sum\": 0.023915641220762892, \"count\": 1, \"min\": 0.023915641220762892, \"max\": 0.023915641220762892}}}\u001b[0m\n",
      "\u001b[34m#metrics {\"StartTime\": 1650324126.5538957, \"EndTime\": 1650324126.553912, \"Dimensions\": {\"Algorithm\": \"Linear Learner\", \"Host\": \"algo-1\", \"Operation\": \"training\", \"epoch\": 14, \"model\": 10}, \"Metrics\": {\"validation_binary_classification_cross_entropy_objective\": {\"sum\": 0.02391363690648538, \"count\": 1, \"min\": 0.02391363690648538, \"max\": 0.02391363690648538}}}\u001b[0m\n",
      "\u001b[34m#metrics {\"StartTime\": 1650324126.5539649, \"EndTime\": 1650324126.5539804, \"Dimensions\": {\"Algorithm\": \"Linear Learner\", \"Host\": \"algo-1\", \"Operation\": \"training\", \"epoch\": 14, \"model\": 11}, \"Metrics\": {\"validation_binary_classification_cross_entropy_objective\": {\"sum\": 0.02391564125574749, \"count\": 1, \"min\": 0.02391564125574749, \"max\": 0.02391564125574749}}}\u001b[0m\n",
      "\u001b[34m#metrics {\"StartTime\": 1650324126.5540345, \"EndTime\": 1650324126.55405, \"Dimensions\": {\"Algorithm\": \"Linear Learner\", \"Host\": \"algo-1\", \"Operation\": \"training\", \"epoch\": 14, \"model\": 12}, \"Metrics\": {\"validation_binary_classification_cross_entropy_objective\": {\"sum\": 0.023897988878783204, \"count\": 1, \"min\": 0.023897988878783204, \"max\": 0.023897988878783204}}}\u001b[0m\n",
      "\u001b[34m#metrics {\"StartTime\": 1650324126.554102, \"EndTime\": 1650324126.5541153, \"Dimensions\": {\"Algorithm\": \"Linear Learner\", \"Host\": \"algo-1\", \"Operation\": \"training\", \"epoch\": 14, \"model\": 13}, \"Metrics\": {\"validation_binary_classification_cross_entropy_objective\": {\"sum\": 0.023559220495671742, \"count\": 1, \"min\": 0.023559220495671742, \"max\": 0.023559220495671742}}}\u001b[0m\n",
      "\u001b[34m#metrics {\"StartTime\": 1650324126.554225, \"EndTime\": 1650324126.554239, \"Dimensions\": {\"Algorithm\": \"Linear Learner\", \"Host\": \"algo-1\", \"Operation\": \"training\", \"epoch\": 14, \"model\": 14}, \"Metrics\": {\"validation_binary_classification_cross_entropy_objective\": {\"sum\": 0.023913642317436565, \"count\": 1, \"min\": 0.023913642317436565, \"max\": 0.023913642317436565}}}\u001b[0m\n",
      "\u001b[34m#metrics {\"StartTime\": 1650324126.5542884, \"EndTime\": 1650324126.5543034, \"Dimensions\": {\"Algorithm\": \"Linear Learner\", \"Host\": \"algo-1\", \"Operation\": \"training\", \"epoch\": 14, \"model\": 15}, \"Metrics\": {\"validation_binary_classification_cross_entropy_objective\": {\"sum\": 0.02355921976682595, \"count\": 1, \"min\": 0.02355921976682595, \"max\": 0.02355921976682595}}}\u001b[0m\n",
      "\u001b[34m#metrics {\"StartTime\": 1650324126.5543468, \"EndTime\": 1650324126.5543592, \"Dimensions\": {\"Algorithm\": \"Linear Learner\", \"Host\": \"algo-1\", \"Operation\": \"training\", \"epoch\": 14, \"model\": 16}, \"Metrics\": {\"validation_binary_classification_cross_entropy_objective\": {\"sum\": 0.38254997930673146, \"count\": 1, \"min\": 0.38254997930673146, \"max\": 0.38254997930673146}}}\u001b[0m\n",
      "\u001b[34m#metrics {\"StartTime\": 1650324126.5543985, \"EndTime\": 1650324126.55441, \"Dimensions\": {\"Algorithm\": \"Linear Learner\", \"Host\": \"algo-1\", \"Operation\": \"training\", \"epoch\": 14, \"model\": 17}, \"Metrics\": {\"validation_binary_classification_cross_entropy_objective\": {\"sum\": 0.38297466574069194, \"count\": 1, \"min\": 0.38297466574069194, \"max\": 0.38297466574069194}}}\u001b[0m\n",
      "\u001b[34m#metrics {\"StartTime\": 1650324126.5544553, \"EndTime\": 1650324126.554469, \"Dimensions\": {\"Algorithm\": \"Linear Learner\", \"Host\": \"algo-1\", \"Operation\": \"training\", \"epoch\": 14, \"model\": 18}, \"Metrics\": {\"validation_binary_classification_cross_entropy_objective\": {\"sum\": 0.38272891759672734, \"count\": 1, \"min\": 0.38272891759672734, \"max\": 0.38272891759672734}}}\u001b[0m\n",
      "\u001b[34m#metrics {\"StartTime\": 1650324126.5545187, \"EndTime\": 1650324126.5545304, \"Dimensions\": {\"Algorithm\": \"Linear Learner\", \"Host\": \"algo-1\", \"Operation\": \"training\", \"epoch\": 14, \"model\": 19}, \"Metrics\": {\"validation_binary_classification_cross_entropy_objective\": {\"sum\": 0.3829746653675229, \"count\": 1, \"min\": 0.3829746653675229, \"max\": 0.3829746653675229}}}\u001b[0m\n",
      "\u001b[34m#metrics {\"StartTime\": 1650324126.554581, \"EndTime\": 1650324126.554597, \"Dimensions\": {\"Algorithm\": \"Linear Learner\", \"Host\": \"algo-1\", \"Operation\": \"training\", \"epoch\": 14, \"model\": 20}, \"Metrics\": {\"validation_binary_classification_cross_entropy_objective\": {\"sum\": 0.3825499962859231, \"count\": 1, \"min\": 0.3825499962859231, \"max\": 0.3825499962859231}}}\u001b[0m\n",
      "\u001b[34m#metrics {\"StartTime\": 1650324126.554645, \"EndTime\": 1650324126.5546637, \"Dimensions\": {\"Algorithm\": \"Linear Learner\", \"Host\": \"algo-1\", \"Operation\": \"training\", \"epoch\": 14, \"model\": 21}, \"Metrics\": {\"validation_binary_classification_cross_entropy_objective\": {\"sum\": 0.3892167220538596, \"count\": 1, \"min\": 0.3892167220538596, \"max\": 0.3892167220538596}}}\u001b[0m\n",
      "\u001b[34m#metrics {\"StartTime\": 1650324126.5547144, \"EndTime\": 1650324126.5547323, \"Dimensions\": {\"Algorithm\": \"Linear Learner\", \"Host\": \"algo-1\", \"Operation\": \"training\", \"epoch\": 14, \"model\": 22}, \"Metrics\": {\"validation_binary_classification_cross_entropy_objective\": {\"sum\": 0.38272891703697376, \"count\": 1, \"min\": 0.38272891703697376, \"max\": 0.38272891703697376}}}\u001b[0m\n",
      "\u001b[34m#metrics {\"StartTime\": 1650324126.5547826, \"EndTime\": 1650324126.554801, \"Dimensions\": {\"Algorithm\": \"Linear Learner\", \"Host\": \"algo-1\", \"Operation\": \"training\", \"epoch\": 14, \"model\": 23}, \"Metrics\": {\"validation_binary_classification_cross_entropy_objective\": {\"sum\": 0.38921671365755606, \"count\": 1, \"min\": 0.38921671365755606, \"max\": 0.38921671365755606}}}\u001b[0m\n",
      "\u001b[34m#metrics {\"StartTime\": 1650324126.554853, \"EndTime\": 1650324126.5548704, \"Dimensions\": {\"Algorithm\": \"Linear Learner\", \"Host\": \"algo-1\", \"Operation\": \"training\", \"epoch\": 14, \"model\": 24}, \"Metrics\": {\"validation_binary_classification_cross_entropy_objective\": {\"sum\": 0.512143528513423, \"count\": 1, \"min\": 0.512143528513423, \"max\": 0.512143528513423}}}\u001b[0m\n",
      "\u001b[34m#metrics {\"StartTime\": 1650324126.5549233, \"EndTime\": 1650324126.5549395, \"Dimensions\": {\"Algorithm\": \"Linear Learner\", \"Host\": \"algo-1\", \"Operation\": \"training\", \"epoch\": 14, \"model\": 25}, \"Metrics\": {\"validation_binary_classification_cross_entropy_objective\": {\"sum\": 0.5122619087437962, \"count\": 1, \"min\": 0.5122619087437962, \"max\": 0.5122619087437962}}}\u001b[0m\n",
      "\u001b[34m#metrics {\"StartTime\": 1650324126.5549896, \"EndTime\": 1650324126.555007, \"Dimensions\": {\"Algorithm\": \"Linear Learner\", \"Host\": \"algo-1\", \"Operation\": \"training\", \"epoch\": 14, \"model\": 26}, \"Metrics\": {\"validation_binary_classification_cross_entropy_objective\": {\"sum\": 0.5120393186312928, \"count\": 1, \"min\": 0.5120393186312928, \"max\": 0.5120393186312928}}}\u001b[0m\n",
      "\u001b[34m#metrics {\"StartTime\": 1650324126.5550582, \"EndTime\": 1650324126.5550764, \"Dimensions\": {\"Algorithm\": \"Linear Learner\", \"Host\": \"algo-1\", \"Operation\": \"training\", \"epoch\": 14, \"model\": 27}, \"Metrics\": {\"validation_binary_classification_cross_entropy_objective\": {\"sum\": 0.5122619083706271, \"count\": 1, \"min\": 0.5122619083706271, \"max\": 0.5122619083706271}}}\u001b[0m\n",
      "\u001b[34m#metrics {\"StartTime\": 1650324126.5551264, \"EndTime\": 1650324126.5551434, \"Dimensions\": {\"Algorithm\": \"Linear Learner\", \"Host\": \"algo-1\", \"Operation\": \"training\", \"epoch\": 14, \"model\": 28}, \"Metrics\": {\"validation_binary_classification_cross_entropy_objective\": {\"sum\": 0.5121435287000076, \"count\": 1, \"min\": 0.5121435287000076, \"max\": 0.5121435287000076}}}\u001b[0m\n",
      "\u001b[34m#metrics {\"StartTime\": 1650324126.5551975, \"EndTime\": 1650324126.5552108, \"Dimensions\": {\"Algorithm\": \"Linear Learner\", \"Host\": \"algo-1\", \"Operation\": \"training\", \"epoch\": 14, \"model\": 29}, \"Metrics\": {\"validation_binary_classification_cross_entropy_objective\": {\"sum\": 0.5141417953999374, \"count\": 1, \"min\": 0.5141417953999374, \"max\": 0.5141417953999374}}}\u001b[0m\n",
      "\u001b[34m#metrics {\"StartTime\": 1650324126.555265, \"EndTime\": 1650324126.5552816, \"Dimensions\": {\"Algorithm\": \"Linear Learner\", \"Host\": \"algo-1\", \"Operation\": \"training\", \"epoch\": 14, \"model\": 30}, \"Metrics\": {\"validation_binary_classification_cross_entropy_objective\": {\"sum\": 0.5120393180715392, \"count\": 1, \"min\": 0.5120393180715392, \"max\": 0.5120393180715392}}}\u001b[0m\n",
      "\u001b[34m#metrics {\"StartTime\": 1650324126.5553362, \"EndTime\": 1650324126.5553496, \"Dimensions\": {\"Algorithm\": \"Linear Learner\", \"Host\": \"algo-1\", \"Operation\": \"training\", \"epoch\": 14, \"model\": 31}, \"Metrics\": {\"validation_binary_classification_cross_entropy_objective\": {\"sum\": 0.5141418103266993, \"count\": 1, \"min\": 0.5141418103266993, \"max\": 0.5141418103266993}}}\u001b[0m\n",
      "\u001b[34m[04/18/2022 23:22:06 INFO 140493168445248] #quality_metric: host=algo-1, epoch=14, validation binary_classification_cross_entropy_objective <loss>=0.018563024772891408\u001b[0m\n",
      "\u001b[34m[04/18/2022 23:22:06 INFO 140493168445248] #early_stopping_criteria_metric: host=algo-1, epoch=14, criteria=sampled_accuracy, value=0.9995781338844086\u001b[0m\n",
      "\u001b[34m[04/18/2022 23:22:06 INFO 140493168445248] Epoch 14: Loss improved. Updating best model\u001b[0m\n",
      "\u001b[34m[04/18/2022 23:22:06 INFO 140493168445248] Saving model for epoch: 14\u001b[0m\n",
      "\u001b[34m[04/18/2022 23:22:06 INFO 140493168445248] Saved checkpoint to \"/tmp/tmpki7ovy3d/mx-mod-0000.params\"\u001b[0m\n",
      "\u001b[34m[04/18/2022 23:22:06 INFO 140493168445248] #progress_metric: host=algo-1, completed 100.0 % of epochs\u001b[0m\n",
      "\u001b[34m#metrics {\"StartTime\": 1650324057.3353467, \"EndTime\": 1650324126.5648708, \"Dimensions\": {\"Algorithm\": \"Linear Learner\", \"Host\": \"algo-1\", \"Operation\": \"training\", \"epoch\": 14, \"Meta\": \"training_data_iter\"}, \"Metrics\": {\"Total Records Seen\": {\"sum\": 19639080.0, \"count\": 1, \"min\": 19639080, \"max\": 19639080}, \"Total Batches Seen\": {\"sum\": 19647.0, \"count\": 1, \"min\": 19647, \"max\": 19647}, \"Max Records Seen Between Resets\": {\"sum\": 1308472.0, \"count\": 1, \"min\": 1308472, \"max\": 1308472}, \"Max Batches Seen Between Resets\": {\"sum\": 1309.0, \"count\": 1, \"min\": 1309, \"max\": 1309}, \"Reset Count\": {\"sum\": 17.0, \"count\": 1, \"min\": 17, \"max\": 17}, \"Number of Records Since Last Reset\": {\"sum\": 1308472.0, \"count\": 1, \"min\": 1308472, \"max\": 1308472}, \"Number of Batches Since Last Reset\": {\"sum\": 1309.0, \"count\": 1, \"min\": 1309, \"max\": 1309}}}\u001b[0m\n",
      "\u001b[34m[04/18/2022 23:22:06 INFO 140493168445248] #throughput_metric: host=algo-1, train throughput=18900.450479236868 records/second\u001b[0m\n",
      "\u001b[34m[04/18/2022 23:22:06 WARNING 140493168445248] wait_for_all_workers will not sync workers since the kv store is not running distributed\u001b[0m\n",
      "\u001b[34m[04/18/2022 23:22:06 WARNING 140493168445248] wait_for_all_workers will not sync workers since the kv store is not running distributed\u001b[0m\n",
      "\u001b[34m[2022-04-18 23:22:12.162] [tensorio] [info] epoch_stats={\"data_pipeline\": \"/opt/ml/input/data/validation\", \"epoch\": 47, \"duration\": 5569, \"num_examples\": 164, \"num_bytes\": 70003252}\u001b[0m\n",
      "\u001b[34m[04/18/2022 23:22:14 INFO 140493168445248] #early_stopping_criteria_metric: host=algo-1, epoch=14, criteria=sampled_accuracy, value=0.9995781338844086\u001b[0m\n",
      "\u001b[34m[04/18/2022 23:22:14 INFO 140493168445248] Epoch 14: Loss improved. Updating best model\u001b[0m\n",
      "\u001b[34m[2022-04-18 23:22:15.141] [tensorio] [info] epoch_stats={\"data_pipeline\": \"/opt/ml/input/data/validation\", \"epoch\": 49, \"duration\": 884, \"num_examples\": 164, \"num_bytes\": 70003252}\u001b[0m\n",
      "\u001b[34m[04/18/2022 23:22:15 INFO 140493168445248] #validation_score (algo-1) : ('binary_classification_cross_entropy_objective', 0.018563024772891408)\u001b[0m\n",
      "\u001b[34m[04/18/2022 23:22:15 INFO 140493168445248] #validation_score (algo-1) : ('binary_classification_accuracy', 0.9995720198827335)\u001b[0m\n",
      "\u001b[34m[04/18/2022 23:22:15 INFO 140493168445248] #validation_score (algo-1) : ('binary_f_1.000', 0.9989816108007449)\u001b[0m\n",
      "\u001b[34m[04/18/2022 23:22:15 INFO 140493168445248] #validation_score (algo-1) : ('precision', 0.9979652937243845)\u001b[0m\n",
      "\u001b[34m[04/18/2022 23:22:15 INFO 140493168445248] #validation_score (algo-1) : ('recall', 1.0)\u001b[0m\n",
      "\u001b[34m[04/18/2022 23:22:15 INFO 140493168445248] #validation_score (algo-1) : ('roc_auc_score', 1.0)\u001b[0m\n",
      "\u001b[34m[04/18/2022 23:22:15 INFO 140493168445248] #validation_score (algo-1) : ('binary_balanced_accuracy', 0.5)\u001b[0m\n",
      "\u001b[34m[04/18/2022 23:22:15 INFO 140493168445248] #validation_score (algo-1) : ('binary_log_loss', 0.6204979591258145)\u001b[0m\n",
      "\u001b[34m[04/18/2022 23:22:15 INFO 140493168445248] #quality_metric: host=algo-1, validation binary_classification_cross_entropy_objective <loss>=0.018563024772891408\u001b[0m\n",
      "\u001b[34m[04/18/2022 23:22:15 INFO 140493168445248] #quality_metric: host=algo-1, validation binary_classification_accuracy <score>=0.9995720198827335\u001b[0m\n",
      "\u001b[34m[04/18/2022 23:22:15 INFO 140493168445248] #quality_metric: host=algo-1, validation binary_f_1.000 <score>=0.9989816108007449\u001b[0m\n",
      "\u001b[34m[04/18/2022 23:22:15 INFO 140493168445248] #quality_metric: host=algo-1, validation precision <score>=0.9979652937243845\u001b[0m\n",
      "\u001b[34m[04/18/2022 23:22:15 INFO 140493168445248] #quality_metric: host=algo-1, validation recall <score>=1.0\u001b[0m\n",
      "\u001b[34m[04/18/2022 23:22:15 INFO 140493168445248] #quality_metric: host=algo-1, validation roc_auc_score <score>=1.0\u001b[0m\n",
      "\u001b[34m[04/18/2022 23:22:15 INFO 140493168445248] #quality_metric: host=algo-1, validation binary_balanced_accuracy <score>=0.5\u001b[0m\n",
      "\u001b[34m[04/18/2022 23:22:15 INFO 140493168445248] #quality_metric: host=algo-1, validation binary_log_loss <score>=0.6204979591258145\u001b[0m\n",
      "\u001b[34m[04/18/2022 23:22:15 INFO 140493168445248] Best model found for hyperparameters: {\"optimizer\": \"adam\", \"learning_rate\": 0.005, \"l1\": 0.0, \"wd\": 0.0001, \"lr_scheduler_step\": 10, \"lr_scheduler_factor\": 0.99, \"lr_scheduler_minimum_lr\": 1e-05}\u001b[0m\n",
      "\u001b[34m[04/18/2022 23:22:15 INFO 140493168445248] Saved checkpoint to \"/tmp/tmpqcb515xj/mx-mod-0000.params\"\u001b[0m\n",
      "\u001b[34m[2022-04-18 23:22:15.434] [tensorio] [info] epoch_stats={\"data_pipeline\": \"/opt/ml/input/data/test\", \"epoch\": 0, \"duration\": 1028966, \"num_examples\": 1, \"num_bytes\": 428000}\u001b[0m\n",
      "\u001b[34m[2022-04-18 23:22:16.288] [tensorio] [info] epoch_stats={\"data_pipeline\": \"/opt/ml/input/data/test\", \"epoch\": 1, \"duration\": 854, \"num_examples\": 164, \"num_bytes\": 70003252}\u001b[0m\n",
      "\u001b[34m#metrics {\"StartTime\": 1650324135.4304492, \"EndTime\": 1650324136.5638855, \"Dimensions\": {\"Algorithm\": \"Linear Learner\", \"Host\": \"algo-1\", \"Operation\": \"training\", \"Meta\": \"test_data_iter\"}, \"Metrics\": {\"Total Records Seen\": {\"sum\": 163559.0, \"count\": 1, \"min\": 163559, \"max\": 163559}, \"Total Batches Seen\": {\"sum\": 164.0, \"count\": 1, \"min\": 164, \"max\": 164}, \"Max Records Seen Between Resets\": {\"sum\": 163559.0, \"count\": 1, \"min\": 163559, \"max\": 163559}, \"Max Batches Seen Between Resets\": {\"sum\": 164.0, \"count\": 1, \"min\": 164, \"max\": 164}, \"Reset Count\": {\"sum\": 1.0, \"count\": 1, \"min\": 1, \"max\": 1}, \"Number of Records Since Last Reset\": {\"sum\": 163559.0, \"count\": 1, \"min\": 163559, \"max\": 163559}, \"Number of Batches Since Last Reset\": {\"sum\": 164.0, \"count\": 1, \"min\": 164, \"max\": 164}}}\u001b[0m\n",
      "\u001b[34m[04/18/2022 23:22:16 INFO 140493168445248] #test_score (algo-1) : ('binary_classification_cross_entropy_objective', 0.018559558323977886)\u001b[0m\n",
      "\u001b[34m[04/18/2022 23:22:16 INFO 140493168445248] #test_score (algo-1) : ('binary_classification_accuracy', 0.9996576159061867)\u001b[0m\n",
      "\u001b[34m[04/18/2022 23:22:16 INFO 140493168445248] #test_score (algo-1) : ('binary_f_1.000', 0.9991851226681412)\u001b[0m\n",
      "\u001b[34m[04/18/2022 23:22:16 INFO 140493168445248] #test_score (algo-1) : ('precision', 0.9983715723050975)\u001b[0m\n",
      "\u001b[34m[04/18/2022 23:22:16 INFO 140493168445248] #test_score (algo-1) : ('recall', 1.0)\u001b[0m\n",
      "\u001b[34m[04/18/2022 23:22:16 INFO 140493168445248] #test_score (algo-1) : ('roc_auc_score', 1.0)\u001b[0m\n",
      "\u001b[34m[04/18/2022 23:22:16 INFO 140493168445248] #test_score (algo-1) : ('binary_balanced_accuracy', 0.5)\u001b[0m\n",
      "\u001b[34m[04/18/2022 23:22:16 INFO 140493168445248] #test_score (algo-1) : ('binary_log_loss', 0.6204948910159519)\u001b[0m\n",
      "\u001b[34m[04/18/2022 23:22:16 INFO 140493168445248] #quality_metric: host=algo-1, test binary_classification_cross_entropy_objective <loss>=0.018559558323977886\u001b[0m\n",
      "\u001b[34m[04/18/2022 23:22:16 INFO 140493168445248] #quality_metric: host=algo-1, test binary_classification_accuracy <score>=0.9996576159061867\u001b[0m\n",
      "\u001b[34m[04/18/2022 23:22:16 INFO 140493168445248] #quality_metric: host=algo-1, test binary_f_1.000 <score>=0.9991851226681412\u001b[0m\n",
      "\u001b[34m[04/18/2022 23:22:16 INFO 140493168445248] #quality_metric: host=algo-1, test precision <score>=0.9983715723050975\u001b[0m\n",
      "\u001b[34m[04/18/2022 23:22:16 INFO 140493168445248] #quality_metric: host=algo-1, test recall <score>=1.0\u001b[0m\n",
      "\u001b[34m[04/18/2022 23:22:16 INFO 140493168445248] #quality_metric: host=algo-1, test roc_auc_score <score>=1.0\u001b[0m\n",
      "\u001b[34m[04/18/2022 23:22:16 INFO 140493168445248] #quality_metric: host=algo-1, test binary_balanced_accuracy <score>=0.5\u001b[0m\n",
      "\u001b[34m[04/18/2022 23:22:16 INFO 140493168445248] #quality_metric: host=algo-1, test binary_log_loss <score>=0.6204948910159519\u001b[0m\n",
      "\u001b[34m#metrics {\"StartTime\": 1650323106.446625, \"EndTime\": 1650324136.573991, \"Dimensions\": {\"Algorithm\": \"Linear Learner\", \"Host\": \"algo-1\", \"Operation\": \"training\"}, \"Metrics\": {\"initialize.time\": {\"sum\": 450.25157928466797, \"count\": 1, \"min\": 450.25157928466797, \"max\": 450.25157928466797}, \"epochs\": {\"sum\": 15.0, \"count\": 1, \"min\": 15, \"max\": 15}, \"check_early_stopping.time\": {\"sum\": 20.229101181030273, \"count\": 16, \"min\": 1.154184341430664, \"max\": 1.4739036560058594}, \"update.time\": {\"sum\": 1019560.2517127991, \"count\": 15, \"min\": 67258.50796699524, \"max\": 69225.27837753296}, \"finalize.time\": {\"sum\": 8862.045764923096, \"count\": 1, \"min\": 8862.045764923096, \"max\": 8862.045764923096}, \"setuptime\": {\"sum\": 29.83856201171875, \"count\": 1, \"min\": 29.83856201171875, \"max\": 29.83856201171875}, \"totaltime\": {\"sum\": 1030383.3992481232, \"count\": 1, \"min\": 1030383.3992481232, \"max\": 1030383.3992481232}}}\u001b[0m\n",
      "\u001b[34m[04/18/2022 23:22:16 INFO 140493168445248 integration.py:636] worker closed\u001b[0m\n",
      "\n",
      "2022-04-18 23:23:14 Uploading - Uploading generated training model\n",
      "2022-04-18 23:23:14 Completed - Training job completed\n",
      "Training seconds: 1177\n",
      "Billable seconds: 1177\n"
     ]
    }
   ],
   "source": [
    "### Fit the classifier\n",
    "# Enter your code here\n",
    "#linear.fit([train_records,val_records,test_records])\n",
    "classifier_estimator.fit([train_records,val_records,test_records])"
   ]
  },
  {
   "cell_type": "markdown",
   "metadata": {},
   "source": [
    "## Model evaluation\n",
    "In this section, you will evaluate your trained model. "
   ]
  },
  {
   "cell_type": "markdown",
   "metadata": {},
   "source": [
    "First, examine the metrics for the training job:"
   ]
  },
  {
   "cell_type": "code",
   "execution_count": 71,
   "metadata": {},
   "outputs": [
    {
     "data": {
      "text/html": [
       "<div>\n",
       "<style scoped>\n",
       "    .dataframe tbody tr th:only-of-type {\n",
       "        vertical-align: middle;\n",
       "    }\n",
       "\n",
       "    .dataframe tbody tr th {\n",
       "        vertical-align: top;\n",
       "    }\n",
       "\n",
       "    .dataframe thead th {\n",
       "        text-align: right;\n",
       "    }\n",
       "</style>\n",
       "<table border=\"1\" class=\"dataframe\">\n",
       "  <thead>\n",
       "    <tr style=\"text-align: right;\">\n",
       "      <th></th>\n",
       "      <th>timestamp</th>\n",
       "      <th>metric_name</th>\n",
       "      <th>value</th>\n",
       "    </tr>\n",
       "  </thead>\n",
       "  <tbody>\n",
       "    <tr>\n",
       "      <th>0</th>\n",
       "      <td>0.0</td>\n",
       "      <td>test:objective_loss</td>\n",
       "      <td>0.018560</td>\n",
       "    </tr>\n",
       "    <tr>\n",
       "      <th>1</th>\n",
       "      <td>0.0</td>\n",
       "      <td>test:binary_f_beta</td>\n",
       "      <td>0.999185</td>\n",
       "    </tr>\n",
       "    <tr>\n",
       "      <th>2</th>\n",
       "      <td>0.0</td>\n",
       "      <td>test:precision</td>\n",
       "      <td>0.998372</td>\n",
       "    </tr>\n",
       "    <tr>\n",
       "      <th>3</th>\n",
       "      <td>0.0</td>\n",
       "      <td>test:recall</td>\n",
       "      <td>1.000000</td>\n",
       "    </tr>\n",
       "  </tbody>\n",
       "</table>\n",
       "</div>"
      ],
      "text/plain": [
       "   timestamp          metric_name     value\n",
       "0        0.0  test:objective_loss  0.018560\n",
       "1        0.0   test:binary_f_beta  0.999185\n",
       "2        0.0       test:precision  0.998372\n",
       "3        0.0          test:recall  1.000000"
      ]
     },
     "execution_count": 71,
     "metadata": {},
     "output_type": "execute_result"
    }
   ],
   "source": [
    "sagemaker.analytics.TrainingJobAnalytics(classifier_estimator._current_job_name, \n",
    "                                         metric_names = ['test:objective_loss', \n",
    "                                                         'test:binary_f_beta',\n",
    "                                                         'test:precision',\n",
    "                                                         'test:recall']\n",
    "                                        ).dataframe()"
   ]
  },
  {
   "cell_type": "markdown",
   "metadata": {},
   "source": [
    "Next, set up some functions that will help load the test data into Amazon S3 and perform a prediction by using the batch prediction function. Using batch prediction will help reduce costs because the instances will only run when predictions are performed on the supplied test data.\n",
    "\n",
    "**Note:** Replace `<LabBucketName>` with the name of the lab bucket that was created during the lab setup."
   ]
  },
  {
   "cell_type": "code",
   "execution_count": 84,
   "metadata": {},
   "outputs": [],
   "source": [
    "import io\n",
    "bucket='c47433a664954l1929602t1w372070435191-flightbucket-nju461tjoe79'\n",
    "prefix='flight-linear'\n",
    "train_file='flight_train.csv'\n",
    "test_file='flight_test.csv'\n",
    "validate_file='flight_validate.csv'\n",
    "whole_file='flight.csv'\n",
    "s3_resource = boto3.Session().resource('s3')\n",
    "\n",
    "def upload_s3_csv(filename, folder, dataframe):\n",
    "    csv_buffer = io.StringIO()\n",
    "    dataframe.to_csv(csv_buffer, header=False, index=False )\n",
    "    s3_resource.Bucket(bucket).Object(os.path.join(prefix, folder, filename)).put(Body=csv_buffer.getvalue())"
   ]
  },
  {
   "cell_type": "code",
   "execution_count": 85,
   "metadata": {},
   "outputs": [],
   "source": [
    "def batch_linear_predict(test_data, estimator):\n",
    "    batch_X = test_data.iloc[:,1:];\n",
    "    batch_X_file='batch-in.csv'\n",
    "    upload_s3_csv(batch_X_file, 'batch-in', batch_X)\n",
    "\n",
    "    batch_output = \"s3://{}/{}/batch-out/\".format(bucket,prefix)\n",
    "    batch_input = \"s3://{}/{}/batch-in/{}\".format(bucket,prefix,batch_X_file)\n",
    "\n",
    "    classifier_transformer = estimator.transformer(instance_count=1,\n",
    "                                           instance_type='ml.m4.xlarge',\n",
    "                                           strategy='MultiRecord',\n",
    "                                           assemble_with='Line',\n",
    "                                           output_path=batch_output)\n",
    "\n",
    "    classifier_transformer.transform(data=batch_input,\n",
    "                             data_type='S3Prefix',\n",
    "                             content_type='text/csv',\n",
    "                             split_type='Line')\n",
    "    \n",
    "    classifier_transformer.wait()\n",
    "\n",
    "    s3 = boto3.client('s3')\n",
    "    obj = s3.get_object(Bucket=bucket, Key=\"{}/batch-out/{}\".format(prefix,'batch-in.csv.out'))\n",
    "    target_predicted_df = pd.read_json(io.BytesIO(obj['Body'].read()),orient=\"records\",lines=True)\n",
    "    return test_data.iloc[:,0], target_predicted_df.iloc[:,0]"
   ]
  },
  {
   "cell_type": "markdown",
   "metadata": {},
   "source": [
    "\n",
    "To run the predictions on the test dataset, run the `batch_linear_predict` function (which was defined previously) on your test dataset.\n"
   ]
  },
  {
   "cell_type": "code",
   "execution_count": 86,
   "metadata": {},
   "outputs": [
    {
     "name": "stderr",
     "output_type": "stream",
     "text": [
      "Defaulting to the only supported framework/algorithm version: 1. Ignoring framework/algorithm version: 1.\n"
     ]
    },
    {
     "name": "stdout",
     "output_type": "stream",
     "text": [
      "...................................\u001b[34mDocker entrypoint called with argument(s): serve\u001b[0m\n",
      "\u001b[34mRunning default environment configuration script\u001b[0m\n",
      "\u001b[35mDocker entrypoint called with argument(s): serve\u001b[0m\n",
      "\u001b[35mRunning default environment configuration script\u001b[0m\n",
      "\u001b[34m[04/18/2022 23:43:46 INFO 139763988211520] loaded entry point class algorithm.serve.server_config:config_api\u001b[0m\n",
      "\u001b[35m[04/18/2022 23:43:46 INFO 139763988211520] loaded entry point class algorithm.serve.server_config:config_api\u001b[0m\n",
      "\u001b[34m[04/18/2022 23:43:46 INFO 139763988211520] loading entry points\u001b[0m\n",
      "\u001b[34m[04/18/2022 23:43:46 INFO 139763988211520] loaded request iterator application/json\u001b[0m\n",
      "\u001b[34m[04/18/2022 23:43:46 INFO 139763988211520] loaded request iterator application/jsonlines\u001b[0m\n",
      "\u001b[34m[04/18/2022 23:43:46 INFO 139763988211520] loaded request iterator application/x-recordio-protobuf\u001b[0m\n",
      "\u001b[34m[04/18/2022 23:43:46 INFO 139763988211520] loaded request iterator text/csv\u001b[0m\n",
      "\u001b[34m[04/18/2022 23:43:46 INFO 139763988211520] loaded response encoder application/json\u001b[0m\n",
      "\u001b[34m[04/18/2022 23:43:46 INFO 139763988211520] loaded response encoder application/jsonlines\u001b[0m\n",
      "\u001b[34m[04/18/2022 23:43:46 INFO 139763988211520] loaded response encoder application/x-recordio-protobuf\u001b[0m\n",
      "\u001b[34m[04/18/2022 23:43:46 INFO 139763988211520] loaded response encoder text/csv\u001b[0m\n",
      "\u001b[34m[04/18/2022 23:43:46 INFO 139763988211520] loaded entry point class algorithm:model\u001b[0m\n",
      "\u001b[34m[04/18/2022 23:43:46 INFO 139763988211520] Number of server workers: 4\u001b[0m\n",
      "\u001b[34m[04/18/2022 23:43:46 INFO 139763988211520] loading model...\u001b[0m\n",
      "\u001b[34m[04/18/2022 23:43:46 INFO 139763988211520] ...model loaded.\u001b[0m\n",
      "\u001b[34m[2022-04-18 23:43:46 +0000] [1] [INFO] Starting gunicorn 20.1.0\u001b[0m\n",
      "\u001b[34m[2022-04-18 23:43:46 +0000] [1] [INFO] Listening at: http://0.0.0.0:8080 (1)\u001b[0m\n",
      "\u001b[34m[2022-04-18 23:43:46 +0000] [1] [INFO] Using worker: sync\u001b[0m\n",
      "\u001b[35m[04/18/2022 23:43:46 INFO 139763988211520] loading entry points\u001b[0m\n",
      "\u001b[35m[04/18/2022 23:43:46 INFO 139763988211520] loaded request iterator application/json\u001b[0m\n",
      "\u001b[35m[04/18/2022 23:43:46 INFO 139763988211520] loaded request iterator application/jsonlines\u001b[0m\n",
      "\u001b[35m[04/18/2022 23:43:46 INFO 139763988211520] loaded request iterator application/x-recordio-protobuf\u001b[0m\n",
      "\u001b[35m[04/18/2022 23:43:46 INFO 139763988211520] loaded request iterator text/csv\u001b[0m\n",
      "\u001b[35m[04/18/2022 23:43:46 INFO 139763988211520] loaded response encoder application/json\u001b[0m\n",
      "\u001b[35m[04/18/2022 23:43:46 INFO 139763988211520] loaded response encoder application/jsonlines\u001b[0m\n",
      "\u001b[35m[04/18/2022 23:43:46 INFO 139763988211520] loaded response encoder application/x-recordio-protobuf\u001b[0m\n",
      "\u001b[35m[04/18/2022 23:43:46 INFO 139763988211520] loaded response encoder text/csv\u001b[0m\n",
      "\u001b[35m[04/18/2022 23:43:46 INFO 139763988211520] loaded entry point class algorithm:model\u001b[0m\n",
      "\u001b[35m[04/18/2022 23:43:46 INFO 139763988211520] Number of server workers: 4\u001b[0m\n",
      "\u001b[35m[04/18/2022 23:43:46 INFO 139763988211520] loading model...\u001b[0m\n",
      "\u001b[35m[04/18/2022 23:43:46 INFO 139763988211520] ...model loaded.\u001b[0m\n",
      "\u001b[35m[2022-04-18 23:43:46 +0000] [1] [INFO] Starting gunicorn 20.1.0\u001b[0m\n",
      "\u001b[35m[2022-04-18 23:43:46 +0000] [1] [INFO] Listening at: http://0.0.0.0:8080 (1)\u001b[0m\n",
      "\u001b[35m[2022-04-18 23:43:46 +0000] [1] [INFO] Using worker: sync\u001b[0m\n",
      "\u001b[34m[2022-04-18 23:43:46 +0000] [60] [INFO] Booting worker with pid: 60\u001b[0m\n",
      "\u001b[34m[2022-04-18 23:43:46 +0000] [69] [INFO] Booting worker with pid: 69\u001b[0m\n",
      "\u001b[34m[2022-04-18 23:43:46 +0000] [78] [INFO] Booting worker with pid: 78\u001b[0m\n",
      "\u001b[34m[2022-04-18 23:43:46 +0000] [87] [INFO] Booting worker with pid: 87\u001b[0m\n",
      "\u001b[35m[2022-04-18 23:43:46 +0000] [60] [INFO] Booting worker with pid: 60\u001b[0m\n",
      "\u001b[35m[2022-04-18 23:43:46 +0000] [69] [INFO] Booting worker with pid: 69\u001b[0m\n",
      "\u001b[35m[2022-04-18 23:43:46 +0000] [78] [INFO] Booting worker with pid: 78\u001b[0m\n",
      "\u001b[35m[2022-04-18 23:43:46 +0000] [87] [INFO] Booting worker with pid: 87\u001b[0m\n",
      "\u001b[34m#metrics {\"StartTime\": 1650325426.7189107, \"EndTime\": 1650325427.999963, \"Dimensions\": {\"Algorithm\": \"LinearLearnerModel\", \"Host\": \"UNKNOWN\", \"Operation\": \"scoring\"}, \"Metrics\": {\"execution_parameters.count\": {\"sum\": 1.0, \"count\": 1, \"min\": 1, \"max\": 1}}}\u001b[0m\n",
      "\u001b[35m#metrics {\"StartTime\": 1650325426.7189107, \"EndTime\": 1650325427.999963, \"Dimensions\": {\"Algorithm\": \"LinearLearnerModel\", \"Host\": \"UNKNOWN\", \"Operation\": \"scoring\"}, \"Metrics\": {\"execution_parameters.count\": {\"sum\": 1.0, \"count\": 1, \"min\": 1, \"max\": 1}}}\u001b[0m\n",
      "\u001b[32m2022-04-18T23:43:48.012:[sagemaker logs]: MaxConcurrentTransforms=4, MaxPayloadInMB=6, BatchStrategy=MULTI_RECORD\u001b[0m\n",
      "\u001b[34m#metrics {\"StartTime\": 1650325426.7189107, \"EndTime\": 1650325430.788071, \"Dimensions\": {\"Algorithm\": \"LinearLearnerModel\", \"Host\": \"UNKNOWN\", \"Operation\": \"scoring\"}, \"Metrics\": {\"json.encoder.time\": {\"sum\": 150.09498596191406, \"count\": 1, \"min\": 150.09498596191406, \"max\": 150.09498596191406}, \"invocations.count\": {\"sum\": 1.0, \"count\": 1, \"min\": 1, \"max\": 1}}}\u001b[0m\n",
      "\u001b[34m#metrics {\"StartTime\": 1650325426.7189107, \"EndTime\": 1650325430.9615762, \"Dimensions\": {\"Algorithm\": \"LinearLearnerModel\", \"Host\": \"UNKNOWN\", \"Operation\": \"scoring\"}, \"Metrics\": {\"json.encoder.time\": {\"sum\": 145.19429206848145, \"count\": 1, \"min\": 145.19429206848145, \"max\": 145.19429206848145}, \"invocations.count\": {\"sum\": 1.0, \"count\": 1, \"min\": 1, \"max\": 1}}}\u001b[0m\n",
      "\u001b[34m#metrics {\"StartTime\": 1650325428.000157, \"EndTime\": 1650325431.0745947, \"Dimensions\": {\"Algorithm\": \"LinearLearnerModel\", \"Host\": \"UNKNOWN\", \"Operation\": \"scoring\"}, \"Metrics\": {\"json.encoder.time\": {\"sum\": 150.04277229309082, \"count\": 1, \"min\": 150.04277229309082, \"max\": 150.04277229309082}, \"invocations.count\": {\"sum\": 1.0, \"count\": 1, \"min\": 1, \"max\": 1}}}\u001b[0m\n",
      "\u001b[34m#metrics {\"StartTime\": 1650325426.7189107, \"EndTime\": 1650325431.1672082, \"Dimensions\": {\"Algorithm\": \"LinearLearnerModel\", \"Host\": \"UNKNOWN\", \"Operation\": \"scoring\"}, \"Metrics\": {\"json.encoder.time\": {\"sum\": 146.57354354858398, \"count\": 1, \"min\": 146.57354354858398, \"max\": 146.57354354858398}, \"invocations.count\": {\"sum\": 1.0, \"count\": 1, \"min\": 1, \"max\": 1}}}\u001b[0m\n",
      "\u001b[34m#metrics {\"StartTime\": 1650325430.962433, \"EndTime\": 1650325431.3145475, \"Dimensions\": {\"Algorithm\": \"LinearLearnerModel\", \"Host\": \"UNKNOWN\", \"Operation\": \"scoring\"}, \"Metrics\": {\"json.encoder.time\": {\"sum\": 15.37942886352539, \"count\": 1, \"min\": 15.37942886352539, \"max\": 15.37942886352539}, \"invocations.count\": {\"sum\": 1.0, \"count\": 1, \"min\": 1, \"max\": 1}}}\u001b[0m\n",
      "\u001b[35m#metrics {\"StartTime\": 1650325426.7189107, \"EndTime\": 1650325430.788071, \"Dimensions\": {\"Algorithm\": \"LinearLearnerModel\", \"Host\": \"UNKNOWN\", \"Operation\": \"scoring\"}, \"Metrics\": {\"json.encoder.time\": {\"sum\": 150.09498596191406, \"count\": 1, \"min\": 150.09498596191406, \"max\": 150.09498596191406}, \"invocations.count\": {\"sum\": 1.0, \"count\": 1, \"min\": 1, \"max\": 1}}}\u001b[0m\n",
      "\u001b[35m#metrics {\"StartTime\": 1650325426.7189107, \"EndTime\": 1650325430.9615762, \"Dimensions\": {\"Algorithm\": \"LinearLearnerModel\", \"Host\": \"UNKNOWN\", \"Operation\": \"scoring\"}, \"Metrics\": {\"json.encoder.time\": {\"sum\": 145.19429206848145, \"count\": 1, \"min\": 145.19429206848145, \"max\": 145.19429206848145}, \"invocations.count\": {\"sum\": 1.0, \"count\": 1, \"min\": 1, \"max\": 1}}}\u001b[0m\n",
      "\u001b[35m#metrics {\"StartTime\": 1650325428.000157, \"EndTime\": 1650325431.0745947, \"Dimensions\": {\"Algorithm\": \"LinearLearnerModel\", \"Host\": \"UNKNOWN\", \"Operation\": \"scoring\"}, \"Metrics\": {\"json.encoder.time\": {\"sum\": 150.04277229309082, \"count\": 1, \"min\": 150.04277229309082, \"max\": 150.04277229309082}, \"invocations.count\": {\"sum\": 1.0, \"count\": 1, \"min\": 1, \"max\": 1}}}\u001b[0m\n",
      "\u001b[35m#metrics {\"StartTime\": 1650325426.7189107, \"EndTime\": 1650325431.1672082, \"Dimensions\": {\"Algorithm\": \"LinearLearnerModel\", \"Host\": \"UNKNOWN\", \"Operation\": \"scoring\"}, \"Metrics\": {\"json.encoder.time\": {\"sum\": 146.57354354858398, \"count\": 1, \"min\": 146.57354354858398, \"max\": 146.57354354858398}, \"invocations.count\": {\"sum\": 1.0, \"count\": 1, \"min\": 1, \"max\": 1}}}\u001b[0m\n",
      "\u001b[35m#metrics {\"StartTime\": 1650325430.962433, \"EndTime\": 1650325431.3145475, \"Dimensions\": {\"Algorithm\": \"LinearLearnerModel\", \"Host\": \"UNKNOWN\", \"Operation\": \"scoring\"}, \"Metrics\": {\"json.encoder.time\": {\"sum\": 15.37942886352539, \"count\": 1, \"min\": 15.37942886352539, \"max\": 15.37942886352539}, \"invocations.count\": {\"sum\": 1.0, \"count\": 1, \"min\": 1, \"max\": 1}}}\u001b[0m\n",
      "\u001b[34m#metrics {\"StartTime\": 1650325430.7882748, \"EndTime\": 1650325431.932603, \"Dimensions\": {\"Algorithm\": \"LinearLearnerModel\", \"Host\": \"UNKNOWN\", \"Operation\": \"scoring\"}, \"Metrics\": {\"json.encoder.time\": {\"sum\": 68.93205642700195, \"count\": 1, \"min\": 68.93205642700195, \"max\": 68.93205642700195}, \"invocations.count\": {\"sum\": 1.0, \"count\": 1, \"min\": 1, \"max\": 1}}}\u001b[0m\n",
      "\u001b[35m#metrics {\"StartTime\": 1650325430.7882748, \"EndTime\": 1650325431.932603, \"Dimensions\": {\"Algorithm\": \"LinearLearnerModel\", \"Host\": \"UNKNOWN\", \"Operation\": \"scoring\"}, \"Metrics\": {\"json.encoder.time\": {\"sum\": 68.93205642700195, \"count\": 1, \"min\": 68.93205642700195, \"max\": 68.93205642700195}, \"invocations.count\": {\"sum\": 1.0, \"count\": 1, \"min\": 1, \"max\": 1}}}\u001b[0m\n",
      "\n",
      "\u001b[34mDocker entrypoint called with argument(s): serve\u001b[0m\n",
      "\u001b[34mRunning default environment configuration script\u001b[0m\n",
      "\u001b[35mDocker entrypoint called with argument(s): serve\u001b[0m\n",
      "\u001b[35mRunning default environment configuration script\u001b[0m\n",
      "\u001b[34m[04/18/2022 23:43:46 INFO 139763988211520] loaded entry point class algorithm.serve.server_config:config_api\u001b[0m\n",
      "\u001b[35m[04/18/2022 23:43:46 INFO 139763988211520] loaded entry point class algorithm.serve.server_config:config_api\u001b[0m\n",
      "\u001b[34m[04/18/2022 23:43:46 INFO 139763988211520] loading entry points\u001b[0m\n",
      "\u001b[34m[04/18/2022 23:43:46 INFO 139763988211520] loaded request iterator application/json\u001b[0m\n",
      "\u001b[34m[04/18/2022 23:43:46 INFO 139763988211520] loaded request iterator application/jsonlines\u001b[0m\n",
      "\u001b[34m[04/18/2022 23:43:46 INFO 139763988211520] loaded request iterator application/x-recordio-protobuf\u001b[0m\n",
      "\u001b[34m[04/18/2022 23:43:46 INFO 139763988211520] loaded request iterator text/csv\u001b[0m\n",
      "\u001b[34m[04/18/2022 23:43:46 INFO 139763988211520] loaded response encoder application/json\u001b[0m\n",
      "\u001b[34m[04/18/2022 23:43:46 INFO 139763988211520] loaded response encoder application/jsonlines\u001b[0m\n",
      "\u001b[34m[04/18/2022 23:43:46 INFO 139763988211520] loaded response encoder application/x-recordio-protobuf\u001b[0m\n",
      "\u001b[34m[04/18/2022 23:43:46 INFO 139763988211520] loaded response encoder text/csv\u001b[0m\n",
      "\u001b[34m[04/18/2022 23:43:46 INFO 139763988211520] loaded entry point class algorithm:model\u001b[0m\n",
      "\u001b[34m[04/18/2022 23:43:46 INFO 139763988211520] Number of server workers: 4\u001b[0m\n",
      "\u001b[34m[04/18/2022 23:43:46 INFO 139763988211520] loading model...\u001b[0m\n",
      "\u001b[34m[04/18/2022 23:43:46 INFO 139763988211520] ...model loaded.\u001b[0m\n",
      "\u001b[34m[2022-04-18 23:43:46 +0000] [1] [INFO] Starting gunicorn 20.1.0\u001b[0m\n",
      "\u001b[34m[2022-04-18 23:43:46 +0000] [1] [INFO] Listening at: http://0.0.0.0:8080 (1)\u001b[0m\n",
      "\u001b[34m[2022-04-18 23:43:46 +0000] [1] [INFO] Using worker: sync\u001b[0m\n",
      "\u001b[35m[04/18/2022 23:43:46 INFO 139763988211520] loading entry points\u001b[0m\n",
      "\u001b[35m[04/18/2022 23:43:46 INFO 139763988211520] loaded request iterator application/json\u001b[0m\n",
      "\u001b[35m[04/18/2022 23:43:46 INFO 139763988211520] loaded request iterator application/jsonlines\u001b[0m\n",
      "\u001b[35m[04/18/2022 23:43:46 INFO 139763988211520] loaded request iterator application/x-recordio-protobuf\u001b[0m\n",
      "\u001b[35m[04/18/2022 23:43:46 INFO 139763988211520] loaded request iterator text/csv\u001b[0m\n",
      "\u001b[35m[04/18/2022 23:43:46 INFO 139763988211520] loaded response encoder application/json\u001b[0m\n",
      "\u001b[35m[04/18/2022 23:43:46 INFO 139763988211520] loaded response encoder application/jsonlines\u001b[0m\n",
      "\u001b[35m[04/18/2022 23:43:46 INFO 139763988211520] loaded response encoder application/x-recordio-protobuf\u001b[0m\n",
      "\u001b[35m[04/18/2022 23:43:46 INFO 139763988211520] loaded response encoder text/csv\u001b[0m\n",
      "\u001b[35m[04/18/2022 23:43:46 INFO 139763988211520] loaded entry point class algorithm:model\u001b[0m\n",
      "\u001b[35m[04/18/2022 23:43:46 INFO 139763988211520] Number of server workers: 4\u001b[0m\n",
      "\u001b[35m[04/18/2022 23:43:46 INFO 139763988211520] loading model...\u001b[0m\n",
      "\u001b[35m[04/18/2022 23:43:46 INFO 139763988211520] ...model loaded.\u001b[0m\n",
      "\u001b[35m[2022-04-18 23:43:46 +0000] [1] [INFO] Starting gunicorn 20.1.0\u001b[0m\n",
      "\u001b[35m[2022-04-18 23:43:46 +0000] [1] [INFO] Listening at: http://0.0.0.0:8080 (1)\u001b[0m\n",
      "\u001b[35m[2022-04-18 23:43:46 +0000] [1] [INFO] Using worker: sync\u001b[0m\n",
      "\u001b[34m[2022-04-18 23:43:46 +0000] [60] [INFO] Booting worker with pid: 60\u001b[0m\n",
      "\u001b[34m[2022-04-18 23:43:46 +0000] [69] [INFO] Booting worker with pid: 69\u001b[0m\n",
      "\u001b[34m[2022-04-18 23:43:46 +0000] [78] [INFO] Booting worker with pid: 78\u001b[0m\n",
      "\u001b[34m[2022-04-18 23:43:46 +0000] [87] [INFO] Booting worker with pid: 87\u001b[0m\n",
      "\u001b[35m[2022-04-18 23:43:46 +0000] [60] [INFO] Booting worker with pid: 60\u001b[0m\n",
      "\u001b[35m[2022-04-18 23:43:46 +0000] [69] [INFO] Booting worker with pid: 69\u001b[0m\n",
      "\u001b[35m[2022-04-18 23:43:46 +0000] [78] [INFO] Booting worker with pid: 78\u001b[0m\n",
      "\u001b[35m[2022-04-18 23:43:46 +0000] [87] [INFO] Booting worker with pid: 87\u001b[0m\n",
      "\u001b[34m#metrics {\"StartTime\": 1650325426.7189107, \"EndTime\": 1650325427.999963, \"Dimensions\": {\"Algorithm\": \"LinearLearnerModel\", \"Host\": \"UNKNOWN\", \"Operation\": \"scoring\"}, \"Metrics\": {\"execution_parameters.count\": {\"sum\": 1.0, \"count\": 1, \"min\": 1, \"max\": 1}}}\u001b[0m\n",
      "\u001b[35m#metrics {\"StartTime\": 1650325426.7189107, \"EndTime\": 1650325427.999963, \"Dimensions\": {\"Algorithm\": \"LinearLearnerModel\", \"Host\": \"UNKNOWN\", \"Operation\": \"scoring\"}, \"Metrics\": {\"execution_parameters.count\": {\"sum\": 1.0, \"count\": 1, \"min\": 1, \"max\": 1}}}\u001b[0m\n",
      "\u001b[32m2022-04-18T23:43:48.012:[sagemaker logs]: MaxConcurrentTransforms=4, MaxPayloadInMB=6, BatchStrategy=MULTI_RECORD\u001b[0m\n",
      "\u001b[34m#metrics {\"StartTime\": 1650325426.7189107, \"EndTime\": 1650325430.788071, \"Dimensions\": {\"Algorithm\": \"LinearLearnerModel\", \"Host\": \"UNKNOWN\", \"Operation\": \"scoring\"}, \"Metrics\": {\"json.encoder.time\": {\"sum\": 150.09498596191406, \"count\": 1, \"min\": 150.09498596191406, \"max\": 150.09498596191406}, \"invocations.count\": {\"sum\": 1.0, \"count\": 1, \"min\": 1, \"max\": 1}}}\u001b[0m\n",
      "\u001b[34m#metrics {\"StartTime\": 1650325426.7189107, \"EndTime\": 1650325430.9615762, \"Dimensions\": {\"Algorithm\": \"LinearLearnerModel\", \"Host\": \"UNKNOWN\", \"Operation\": \"scoring\"}, \"Metrics\": {\"json.encoder.time\": {\"sum\": 145.19429206848145, \"count\": 1, \"min\": 145.19429206848145, \"max\": 145.19429206848145}, \"invocations.count\": {\"sum\": 1.0, \"count\": 1, \"min\": 1, \"max\": 1}}}\u001b[0m\n",
      "\u001b[34m#metrics {\"StartTime\": 1650325428.000157, \"EndTime\": 1650325431.0745947, \"Dimensions\": {\"Algorithm\": \"LinearLearnerModel\", \"Host\": \"UNKNOWN\", \"Operation\": \"scoring\"}, \"Metrics\": {\"json.encoder.time\": {\"sum\": 150.04277229309082, \"count\": 1, \"min\": 150.04277229309082, \"max\": 150.04277229309082}, \"invocations.count\": {\"sum\": 1.0, \"count\": 1, \"min\": 1, \"max\": 1}}}\u001b[0m\n",
      "\u001b[34m#metrics {\"StartTime\": 1650325426.7189107, \"EndTime\": 1650325431.1672082, \"Dimensions\": {\"Algorithm\": \"LinearLearnerModel\", \"Host\": \"UNKNOWN\", \"Operation\": \"scoring\"}, \"Metrics\": {\"json.encoder.time\": {\"sum\": 146.57354354858398, \"count\": 1, \"min\": 146.57354354858398, \"max\": 146.57354354858398}, \"invocations.count\": {\"sum\": 1.0, \"count\": 1, \"min\": 1, \"max\": 1}}}\u001b[0m\n",
      "\u001b[34m#metrics {\"StartTime\": 1650325430.962433, \"EndTime\": 1650325431.3145475, \"Dimensions\": {\"Algorithm\": \"LinearLearnerModel\", \"Host\": \"UNKNOWN\", \"Operation\": \"scoring\"}, \"Metrics\": {\"json.encoder.time\": {\"sum\": 15.37942886352539, \"count\": 1, \"min\": 15.37942886352539, \"max\": 15.37942886352539}, \"invocations.count\": {\"sum\": 1.0, \"count\": 1, \"min\": 1, \"max\": 1}}}\u001b[0m\n",
      "\u001b[35m#metrics {\"StartTime\": 1650325426.7189107, \"EndTime\": 1650325430.788071, \"Dimensions\": {\"Algorithm\": \"LinearLearnerModel\", \"Host\": \"UNKNOWN\", \"Operation\": \"scoring\"}, \"Metrics\": {\"json.encoder.time\": {\"sum\": 150.09498596191406, \"count\": 1, \"min\": 150.09498596191406, \"max\": 150.09498596191406}, \"invocations.count\": {\"sum\": 1.0, \"count\": 1, \"min\": 1, \"max\": 1}}}\u001b[0m\n",
      "\u001b[35m#metrics {\"StartTime\": 1650325426.7189107, \"EndTime\": 1650325430.9615762, \"Dimensions\": {\"Algorithm\": \"LinearLearnerModel\", \"Host\": \"UNKNOWN\", \"Operation\": \"scoring\"}, \"Metrics\": {\"json.encoder.time\": {\"sum\": 145.19429206848145, \"count\": 1, \"min\": 145.19429206848145, \"max\": 145.19429206848145}, \"invocations.count\": {\"sum\": 1.0, \"count\": 1, \"min\": 1, \"max\": 1}}}\u001b[0m\n",
      "\u001b[35m#metrics {\"StartTime\": 1650325428.000157, \"EndTime\": 1650325431.0745947, \"Dimensions\": {\"Algorithm\": \"LinearLearnerModel\", \"Host\": \"UNKNOWN\", \"Operation\": \"scoring\"}, \"Metrics\": {\"json.encoder.time\": {\"sum\": 150.04277229309082, \"count\": 1, \"min\": 150.04277229309082, \"max\": 150.04277229309082}, \"invocations.count\": {\"sum\": 1.0, \"count\": 1, \"min\": 1, \"max\": 1}}}\u001b[0m\n",
      "\u001b[35m#metrics {\"StartTime\": 1650325426.7189107, \"EndTime\": 1650325431.1672082, \"Dimensions\": {\"Algorithm\": \"LinearLearnerModel\", \"Host\": \"UNKNOWN\", \"Operation\": \"scoring\"}, \"Metrics\": {\"json.encoder.time\": {\"sum\": 146.57354354858398, \"count\": 1, \"min\": 146.57354354858398, \"max\": 146.57354354858398}, \"invocations.count\": {\"sum\": 1.0, \"count\": 1, \"min\": 1, \"max\": 1}}}\u001b[0m\n",
      "\u001b[35m#metrics {\"StartTime\": 1650325430.962433, \"EndTime\": 1650325431.3145475, \"Dimensions\": {\"Algorithm\": \"LinearLearnerModel\", \"Host\": \"UNKNOWN\", \"Operation\": \"scoring\"}, \"Metrics\": {\"json.encoder.time\": {\"sum\": 15.37942886352539, \"count\": 1, \"min\": 15.37942886352539, \"max\": 15.37942886352539}, \"invocations.count\": {\"sum\": 1.0, \"count\": 1, \"min\": 1, \"max\": 1}}}\u001b[0m\n",
      "\u001b[34m#metrics {\"StartTime\": 1650325430.7882748, \"EndTime\": 1650325431.932603, \"Dimensions\": {\"Algorithm\": \"LinearLearnerModel\", \"Host\": \"UNKNOWN\", \"Operation\": \"scoring\"}, \"Metrics\": {\"json.encoder.time\": {\"sum\": 68.93205642700195, \"count\": 1, \"min\": 68.93205642700195, \"max\": 68.93205642700195}, \"invocations.count\": {\"sum\": 1.0, \"count\": 1, \"min\": 1, \"max\": 1}}}\u001b[0m\n",
      "\u001b[35m#metrics {\"StartTime\": 1650325430.7882748, \"EndTime\": 1650325431.932603, \"Dimensions\": {\"Algorithm\": \"LinearLearnerModel\", \"Host\": \"UNKNOWN\", \"Operation\": \"scoring\"}, \"Metrics\": {\"json.encoder.time\": {\"sum\": 68.93205642700195, \"count\": 1, \"min\": 68.93205642700195, \"max\": 68.93205642700195}, \"invocations.count\": {\"sum\": 1.0, \"count\": 1, \"min\": 1, \"max\": 1}}}\u001b[0m\n"
     ]
    }
   ],
   "source": [
    "test_labels, target_predicted = batch_linear_predict(test, classifier_estimator)"
   ]
  },
  {
   "cell_type": "markdown",
   "metadata": {},
   "source": [
    "To view a plot of the confusion matrix, and various scoring metrics, create a couple of functions:"
   ]
  },
  {
   "cell_type": "code",
   "execution_count": 87,
   "metadata": {},
   "outputs": [],
   "source": [
    "from sklearn.metrics import confusion_matrix\n",
    "\n",
    "def plot_confusion_matrix(test_labels, target_predicted):\n",
    "    matrix = confusion_matrix(test_labels, target_predicted)\n",
    "    df_confusion = pd.DataFrame(matrix)\n",
    "    colormap = sns.color_palette(\"BrBG\", 10)\n",
    "    sns.heatmap(df_confusion, annot=True, fmt='.2f', cbar=None, cmap=colormap)\n",
    "    plt.title(\"Confusion Matrix\")\n",
    "    plt.tight_layout()\n",
    "    plt.ylabel(\"True Class\")\n",
    "    plt.xlabel(\"Predicted Class\")\n",
    "    plt.show()\n",
    "    "
   ]
  },
  {
   "cell_type": "code",
   "execution_count": 88,
   "metadata": {},
   "outputs": [],
   "source": [
    "from sklearn import metrics\n",
    "\n",
    "def plot_roc(test_labels, target_predicted):\n",
    "    TN, FP, FN, TP = confusion_matrix(test_labels, target_predicted).ravel()\n",
    "    # Sensitivity, hit rate, recall, or true positive rate\n",
    "    Sensitivity  = float(TP)/(TP+FN)*100\n",
    "    # Specificity or true negative rate\n",
    "    Specificity  = float(TN)/(TN+FP)*100\n",
    "    # Precision or positive predictive value\n",
    "    Precision = float(TP)/(TP+FP)*100\n",
    "    # Negative predictive value\n",
    "    NPV = float(TN)/(TN+FN)*100\n",
    "    # Fall out or false positive rate\n",
    "    FPR = float(FP)/(FP+TN)*100\n",
    "    # False negative rate\n",
    "    FNR = float(FN)/(TP+FN)*100\n",
    "    # False discovery rate\n",
    "    FDR = float(FP)/(TP+FP)*100\n",
    "    # Overall accuracy\n",
    "    ACC = float(TP+TN)/(TP+FP+FN+TN)*100\n",
    "\n",
    "    print(\"Sensitivity or TPR: \", Sensitivity, \"%\") \n",
    "    print( \"Specificity or TNR: \",Specificity, \"%\") \n",
    "    print(\"Precision: \",Precision, \"%\") \n",
    "    print(\"Negative Predictive Value: \",NPV, \"%\") \n",
    "    print( \"False Positive Rate: \",FPR,\"%\")\n",
    "    print(\"False Negative Rate: \",FNR, \"%\") \n",
    "    print(\"False Discovery Rate: \",FDR, \"%\" )\n",
    "    print(\"Accuracy: \",ACC, \"%\") \n",
    "\n",
    "    test_labels = test.iloc[:,0];\n",
    "    print(\"Validation AUC\", metrics.roc_auc_score(test_labels, target_predicted) )\n",
    "\n",
    "    fpr, tpr, thresholds = metrics.roc_curve(test_labels, target_predicted)\n",
    "    roc_auc = metrics.auc(fpr, tpr)\n",
    "\n",
    "    plt.figure()\n",
    "    plt.plot(fpr, tpr, label='ROC curve (area = %0.2f)' % (roc_auc))\n",
    "    plt.plot([0, 1], [0, 1], 'k--')\n",
    "    plt.xlim([0.0, 1.0])\n",
    "    plt.ylim([0.0, 1.05])\n",
    "    plt.xlabel('False Positive Rate')\n",
    "    plt.ylabel('True Positive Rate')\n",
    "    plt.title('Receiver operating characteristic')\n",
    "    plt.legend(loc=\"lower right\")\n",
    "\n",
    "    # create the axis of thresholds (scores)\n",
    "    ax2 = plt.gca().twinx()\n",
    "    ax2.plot(fpr, thresholds, markeredgecolor='r',linestyle='dashed', color='r')\n",
    "    ax2.set_ylabel('Threshold',color='r')\n",
    "    ax2.set_ylim([thresholds[-1],thresholds[0]])\n",
    "    ax2.set_xlim([fpr[0],fpr[-1]])\n",
    "\n",
    "    print(plt.figure())"
   ]
  },
  {
   "cell_type": "markdown",
   "metadata": {},
   "source": [
    "To plot the confusion matrix, call the `plot_confusion_matrix` function on the `test_labels` and the `target_predicted` data from your batch job:"
   ]
  },
  {
   "cell_type": "code",
   "execution_count": 90,
   "metadata": {},
   "outputs": [
    {
     "data": {
      "image/png": "[encoded data removed]",
      "text/plain": [
       "<Figure size 432x288 with 1 Axes>"
      ]
     },
     "metadata": {
      "needs_background": "light"
     },
     "output_type": "display_data"
    }
   ],
   "source": [
    "# Enter your code here\n",
    "plot_confusion_matrix(test_labels,target_predicted)"
   ]
  },
  {
   "cell_type": "markdown",
   "metadata": {},
   "source": [
    "To print statistics and plot a receiver operating characteristic (ROC) curve, call the `plot_roc` function on the `test_labels` and `target_predicted` data from your batch job:"
   ]
  },
  {
   "cell_type": "code",
   "execution_count": 91,
   "metadata": {},
   "outputs": [
    {
     "name": "stdout",
     "output_type": "stream",
     "text": [
      "Sensitivity or TPR:  100.0 %\n",
      "Specificity or TNR:  99.95666506740129 %\n",
      "Precision:  99.83715723050976 %\n",
      "Negative Predictive Value:  100.0 %\n",
      "False Positive Rate:  0.043334932598703045 %\n",
      "False Negative Rate:  0.0 %\n",
      "False Discovery Rate:  0.16284276949024395 %\n",
      "Accuracy:  99.96576159061867 %\n",
      "Validation AUC 0.9997833253370064\n",
      "Figure(432x288)\n"
     ]
    },
    {
     "data": {
      "image/png": "[encoded data removed]",
      "text/plain": [
       "<Figure size 432x288 with 2 Axes>"
      ]
     },
     "metadata": {
      "needs_background": "light"
     },
     "output_type": "display_data"
    },
    {
     "data": {
      "text/plain": [
       "<Figure size 432x288 with 0 Axes>"
      ]
     },
     "metadata": {},
     "output_type": "display_data"
    }
   ],
   "source": [
    "# Enter your code here\n",
    "plot_roc(test_labels,target_predicted)"
   ]
  },
  {
   "cell_type": "markdown",
   "metadata": {},
   "source": [
    "### Key questions to consider:\n",
    "\n",
    "1. How does your model's performance on the test set compare to its performance on the training set? What can you deduce from this comparison? \n",
    "2. Are there obvious differences between the outcomes of metrics like accuracy, precision, and recall? If so, why might you be seeing those differences? \n",
    "3. Given your business situation and goals, which metric (or metrics) is the most important for you to consider? Why?\n",
    "4. From a business standpoint, is the outcome for the metric (or metrics) that you consider to be the most important sufficient for what you need? If not, what are some things you might change in your next iteration? (This will happen in the feature engineering section, which is next.)\n",
    "\n",
    "Use the following cells to answer these (and other) questions. Insert and delete cells where needed.\n",
    "\n",
    "#### <span style=\"color: blue;\">Project presentation: In your project presentation, write down your answers to these questions -- and other similar questions that you might answer -- in this section. Record the key details and decisions that you made.</span>"
   ]
  },
  {
   "cell_type": "markdown",
   "metadata": {},
   "source": [
    "\n",
    "**Question**: What can you summarize from the confusion matrix?\n"
   ]
  },
  {
   "cell_type": "code",
   "execution_count": null,
   "metadata": {},
   "outputs": [],
   "source": [
    "# Enter your answer here"
   ]
  },
  {
   "cell_type": "markdown",
   "metadata": {},
   "source": [
    "## <span style=\"color:red\"> End of Step 3 </span>\n",
    "\n",
    "Save the project file to your local computer. Follow these steps:\n",
    "\n",
    "1. In the file explorer on the left, right-click the notebook that you're working on. \n",
    "\n",
    "2. Select **Download**, and save the file locally.  \n",
    "\n",
    "This action downloads the current notebook to the default download folder on your computer."
   ]
  },
  {
   "cell_type": "markdown",
   "metadata": {},
   "source": [
    "# Iteration II"
   ]
  },
  {
   "cell_type": "markdown",
   "metadata": {},
   "source": [
    "# Step 4: Feature engineering\n",
    "\n",
    "You have now gone through one iteration of training and evaluating your model. Given that the first outcome that you reached for your model probably wasn't sufficient for solving your business problem, what could you change about your data to possibly improve model performance?\n",
    "\n",
    "### Key questions to consider:\n",
    "\n",
    "1. How might the balance of your two main classes (*delay* and *no delay*) impact model performance?\n",
    "2. Do you have any features that are correlated?\n",
    "3. At this stage, could you perform any feature-reduction techniques that might have a positive impact on model performance? \n",
    "4. Can you think of adding some more data or datasets?\n",
    "5. After performing some feature engineering, how does the performance of your model compare to the first iteration?\n",
    "\n",
    "Use the following cells to perform specific feature-engineering techniques that you think could improve your model performance (use the previous questions as a guide). Insert and delete cells where needed.\n",
    "\n",
    "#### <span style=\"color: blue;\">Project presentation: In your project presentation, record your key decisions and the methods that you use in this section. Also include any new performance metrics that you obtain after you evaluate your model again.</span>\n",
    "\n",
    "Before you start, think about why the precision and recall are around 80 percent, and the accuracy is at 99 percent."
   ]
  },
  {
   "cell_type": "markdown",
   "metadata": {},
   "source": [
    "Add more features:\n",
    "\n",
    "1. Holidays\n",
    "2. Weather"
   ]
  },
  {
   "cell_type": "markdown",
   "metadata": {},
   "source": [
    "Because the list of holidays from 2014 to 2018 is known, you can create an indicator variable **is_holiday** to mark them.\n",
    "\n",
    "The hypothesis is that airplane delays could be higher during holidays compared to the rest of the days. Add a boolean variable `is_holiday` that includes the holidays for the years 2014-2018."
   ]
  },
  {
   "cell_type": "code",
   "execution_count": 113,
   "metadata": {},
   "outputs": [],
   "source": [
    "# Source: http://www.calendarpedia.com/holidays/federal-holidays-2014.html\n",
    "\n",
    "holidays_14 = ['2014-01-01',  '2014-01-20', '2014-02-17', '2014-05-26', '2014-07-04', '2014-09-01', '2014-10-13', '2014-11-11', '2014-11-27', '2014-12-25' ] \n",
    "holidays_15 = ['2015-01-01',  '2015-01-19', '2015-02-16', '2015-05-25', '2015-06-03', '2015-07-04', '2015-09-07', '2015-10-12', '2015-11-11', '2015-11-26', '2015-12-25'] \n",
    "holidays_16 = ['2016-01-01',  '2016-01-18', '2016-02-15', '2016-05-30', '2016-07-04', '2016-09-05', '2016-10-10', '2016-11-11', '2016-11-24', '2016-12-25', '2016-12-26']\n",
    "holidays_17 = ['2017-01-02', '2017-01-16', '2017-02-20', '2017-05-29' , '2017-07-04', '2017-09-04' ,'2017-10-09', '2017-11-10', '2017-11-23', '2017-12-25']\n",
    "holidays_18 = ['2018-01-01', '2018-01-15', '2018-02-19', '2018-05-28' , '2018-07-04', '2018-09-03' ,'2018-10-08', '2018-11-12','2018-11-22', '2018-12-25']\n",
    "holidays = holidays_14+ holidays_15+ holidays_16 + holidays_17+ holidays_18\n",
    "\n",
    "### Add indicator variable for holidays\n",
    "data_orig['is_holiday'] = pd.Series(data_orig['FlightDate'],holidays)"
   ]
  },
  {
   "cell_type": "markdown",
   "metadata": {},
   "source": [
    "Weather data was fetched from https://www.ncei.noaa.gov/access/services/data/v1?dataset=daily-summaries&stations=USW00023174,USW00012960,USW00003017,USW00094846,USW00013874,USW00023234,USW00003927,USW00023183,USW00013881&dataTypes=AWND,PRCP,SNOW,SNWD,TAVG,TMIN,TMAX&startDate=2014-01-01&endDate=2018-12-31.\n",
    "<br>\n",
    "\n",
    "This dataset has information on wind speed, precipitation, snow, and temperature for cities by their airport codes.\n",
    "\n",
    "**Question**: Could bad weather because of rain, heavy winds, or snow lead to airplane delays? You will now check."
   ]
  },
  {
   "cell_type": "code",
   "execution_count": 92,
   "metadata": {},
   "outputs": [
    {
     "name": "stdout",
     "output_type": "stream",
     "text": [
      "download: s3://aws-tc-largeobjects/CUR-TF-200-ACMLFO-1/flight_delay_project/data2/daily-summaries.csv to ../project/data/daily-summaries.csv\n"
     ]
    }
   ],
   "source": [
    "!aws s3 cp s3://aws-tc-largeobjects/CUR-TF-200-ACMLFO-1/flight_delay_project/data2/daily-summaries.csv /home/ec2-user/SageMaker/project/data/\n",
    "#!wget 'https://www.ncei.noaa.gov/access/services/data/v1?dataset=daily-summaries&stations=USW00023174,USW00012960,USW00003017,USW00094846,USW00013874,USW00023234,USW00003927,USW00023183,USW00013881&dataTypes=AWND,PRCP,SNOW,SNWD,TAVG,TMIN,TMAX&startDate=2014-01-01&endDate=2018-12-31' -O /home/ec2-user/SageMaker/project/data/daily-summaries.csv"
   ]
  },
  {
   "cell_type": "markdown",
   "metadata": {},
   "source": [
    "Import the weather data that was prepared for the airport codes in the dataset. Use the following stations and airports  for the analysis. Create a new column called *airport* that maps the weather station to the airport name."
   ]
  },
  {
   "cell_type": "code",
   "execution_count": 93,
   "metadata": {},
   "outputs": [],
   "source": [
    "weather = pd.read_csv('/home/ec2-user/SageMaker/project/data/daily-summaries.csv')\n",
    "station = ['USW00023174','USW00012960','USW00003017','USW00094846','USW00013874','USW00023234','USW00003927','USW00023183','USW00013881'] \n",
    "airports = ['LAX', 'IAH', 'DEN', 'ORD', 'ATL', 'SFO', 'DFW', 'PHX', 'CLT']\n",
    "\n",
    "### Map weather stations to airport code\n",
    "station_map = {s:a for s,a in zip(station, airports)}\n",
    "weather['airport'] = weather['STATION'].map(station_map)"
   ]
  },
  {
   "cell_type": "markdown",
   "metadata": {},
   "source": [
    "From the **DATE** column, create another column called *MONTH*."
   ]
  },
  {
   "cell_type": "code",
   "execution_count": 94,
   "metadata": {},
   "outputs": [
    {
     "data": {
      "text/html": [
       "<div>\n",
       "<style scoped>\n",
       "    .dataframe tbody tr th:only-of-type {\n",
       "        vertical-align: middle;\n",
       "    }\n",
       "\n",
       "    .dataframe tbody tr th {\n",
       "        vertical-align: top;\n",
       "    }\n",
       "\n",
       "    .dataframe thead th {\n",
       "        text-align: right;\n",
       "    }\n",
       "</style>\n",
       "<table border=\"1\" class=\"dataframe\">\n",
       "  <thead>\n",
       "    <tr style=\"text-align: right;\">\n",
       "      <th></th>\n",
       "      <th>STATION</th>\n",
       "      <th>DATE</th>\n",
       "      <th>AWND</th>\n",
       "      <th>PRCP</th>\n",
       "      <th>SNOW</th>\n",
       "      <th>SNWD</th>\n",
       "      <th>TAVG</th>\n",
       "      <th>TMAX</th>\n",
       "      <th>TMIN</th>\n",
       "      <th>airport</th>\n",
       "      <th>MONTH</th>\n",
       "    </tr>\n",
       "  </thead>\n",
       "  <tbody>\n",
       "    <tr>\n",
       "      <th>0</th>\n",
       "      <td>USW00023174</td>\n",
       "      <td>2014-01-01</td>\n",
       "      <td>16</td>\n",
       "      <td>0</td>\n",
       "      <td>NaN</td>\n",
       "      <td>NaN</td>\n",
       "      <td>131.0</td>\n",
       "      <td>178.0</td>\n",
       "      <td>78.0</td>\n",
       "      <td>LAX</td>\n",
       "      <td>01</td>\n",
       "    </tr>\n",
       "    <tr>\n",
       "      <th>1</th>\n",
       "      <td>USW00023174</td>\n",
       "      <td>2014-01-02</td>\n",
       "      <td>22</td>\n",
       "      <td>0</td>\n",
       "      <td>NaN</td>\n",
       "      <td>NaN</td>\n",
       "      <td>159.0</td>\n",
       "      <td>256.0</td>\n",
       "      <td>100.0</td>\n",
       "      <td>LAX</td>\n",
       "      <td>01</td>\n",
       "    </tr>\n",
       "    <tr>\n",
       "      <th>2</th>\n",
       "      <td>USW00023174</td>\n",
       "      <td>2014-01-03</td>\n",
       "      <td>17</td>\n",
       "      <td>0</td>\n",
       "      <td>NaN</td>\n",
       "      <td>NaN</td>\n",
       "      <td>140.0</td>\n",
       "      <td>178.0</td>\n",
       "      <td>83.0</td>\n",
       "      <td>LAX</td>\n",
       "      <td>01</td>\n",
       "    </tr>\n",
       "    <tr>\n",
       "      <th>3</th>\n",
       "      <td>USW00023174</td>\n",
       "      <td>2014-01-04</td>\n",
       "      <td>18</td>\n",
       "      <td>0</td>\n",
       "      <td>NaN</td>\n",
       "      <td>NaN</td>\n",
       "      <td>136.0</td>\n",
       "      <td>183.0</td>\n",
       "      <td>100.0</td>\n",
       "      <td>LAX</td>\n",
       "      <td>01</td>\n",
       "    </tr>\n",
       "    <tr>\n",
       "      <th>4</th>\n",
       "      <td>USW00023174</td>\n",
       "      <td>2014-01-05</td>\n",
       "      <td>18</td>\n",
       "      <td>0</td>\n",
       "      <td>NaN</td>\n",
       "      <td>NaN</td>\n",
       "      <td>151.0</td>\n",
       "      <td>244.0</td>\n",
       "      <td>83.0</td>\n",
       "      <td>LAX</td>\n",
       "      <td>01</td>\n",
       "    </tr>\n",
       "  </tbody>\n",
       "</table>\n",
       "</div>"
      ],
      "text/plain": [
       "       STATION        DATE  AWND  PRCP  SNOW  SNWD   TAVG   TMAX   TMIN  \\\n",
       "0  USW00023174  2014-01-01    16     0   NaN   NaN  131.0  178.0   78.0   \n",
       "1  USW00023174  2014-01-02    22     0   NaN   NaN  159.0  256.0  100.0   \n",
       "2  USW00023174  2014-01-03    17     0   NaN   NaN  140.0  178.0   83.0   \n",
       "3  USW00023174  2014-01-04    18     0   NaN   NaN  136.0  183.0  100.0   \n",
       "4  USW00023174  2014-01-05    18     0   NaN   NaN  151.0  244.0   83.0   \n",
       "\n",
       "  airport MONTH  \n",
       "0     LAX    01  \n",
       "1     LAX    01  \n",
       "2     LAX    01  \n",
       "3     LAX    01  \n",
       "4     LAX    01  "
      ]
     },
     "execution_count": 94,
     "metadata": {},
     "output_type": "execute_result"
    }
   ],
   "source": [
    "weather['MONTH'] = weather['DATE'].apply(lambda x: x.split('-')[1])\n",
    "weather.head()"
   ]
  },
  {
   "cell_type": "markdown",
   "metadata": {},
   "source": [
    "### Sample output\n",
    "```\n",
    "  STATION     DATE      AWND PRCP SNOW SNWD TAVG TMAX  TMIN airport MONTH\n",
    "0 USW00023174 2014-01-01 16   0   NaN  NaN 131.0 178.0 78.0  LAX    01\n",
    "1 USW00023174 2014-01-02 22   0   NaN  NaN 159.0 256.0 100.0 LAX    01\n",
    "2 USW00023174 2014-01-03 17   0   NaN  NaN 140.0 178.0 83.0  LAX    01\n",
    "3 USW00023174 2014-01-04 18   0   NaN  NaN 136.0 183.0 100.0 LAX    01\n",
    "4 USW00023174 2014-01-05 18   0   NaN  NaN 151.0 244.0 83.0  LAX    01\n",
    "```"
   ]
  },
  {
   "cell_type": "markdown",
   "metadata": {},
   "source": [
    "Analyze and handle the **SNOW** and **SNWD** columns for missing values by using `fillna()`. To check the missing values for all the columns, use the `isna()` function."
   ]
  },
  {
   "cell_type": "code",
   "execution_count": 95,
   "metadata": {},
   "outputs": [
    {
     "data": {
      "text/plain": [
       "STATION     0\n",
       "DATE        0\n",
       "AWND        0\n",
       "PRCP        0\n",
       "SNOW        0\n",
       "SNWD        0\n",
       "TAVG       62\n",
       "TMAX       20\n",
       "TMIN       20\n",
       "airport     0\n",
       "MONTH       0\n",
       "dtype: int64"
      ]
     },
     "execution_count": 95,
     "metadata": {},
     "output_type": "execute_result"
    }
   ],
   "source": [
    "weather.SNOW.fillna(0, inplace=True)\n",
    "weather.SNWD.fillna(0, inplace=True)\n",
    "weather.isna().sum()"
   ]
  },
  {
   "cell_type": "markdown",
   "metadata": {},
   "source": [
    "**Question**: Print the index of the rows that have missing values for *TAVG*, *TMAX*, *TMIN*.\n",
    "\n",
    "**Hint**: To find the rows that are missing, use the `isna()` function. Then, to get the index, use the list on the *idx* variable."
   ]
  },
  {
   "cell_type": "code",
   "execution_count": 96,
   "metadata": {},
   "outputs": [
    {
     "data": {
      "text/plain": [
       "array([ 3956,  3957,  3958,  3959,  3960,  3961,  3962,  3963,  3964,\n",
       "        3965,  3966,  3967,  3968,  3969,  3970,  3971,  3972,  3973,\n",
       "        3974,  3975,  3976,  3977,  3978,  3979,  3980,  3981,  3982,\n",
       "        3983,  3984,  3985,  4017,  4018,  4019,  4020,  4021,  4022,\n",
       "        4023,  4024,  4025,  4026,  4027,  4028,  4029,  4030,  4031,\n",
       "        4032,  4033,  4034,  4035,  4036,  4037,  4038,  4039,  4040,\n",
       "        4041,  4042,  4043,  4044,  4045,  4046,  4047, 13420])"
      ]
     },
     "execution_count": 96,
     "metadata": {},
     "output_type": "execute_result"
    }
   ],
   "source": [
    "idx = np.array([i for i in range(len(weather))])\n",
    "TAVG_idx = idx[weather.TAVG.isna()] \n",
    "TMAX_idx = idx[weather.TMAX.isna()] # Enter your code here \n",
    "TMIN_idx = idx[weather.TMIN.isna()] # Enter your code here \n",
    "TAVG_idx"
   ]
  },
  {
   "cell_type": "markdown",
   "metadata": {},
   "source": [
    "### Sample output\n",
    "\n",
    "```\n",
    "array([ 3956,  3957,  3958,  3959,  3960,  3961,  3962,  3963,  3964,\n",
    "        3965,  3966,  3967,  3968,  3969,  3970,  3971,  3972,  3973,\n",
    "        3974,  3975,  3976,  3977,  3978,  3979,  3980,  3981,  3982,\n",
    "        3983,  3984,  3985,  4017,  4018,  4019,  4020,  4021,  4022,\n",
    "        4023,  4024,  4025,  4026,  4027,  4028,  4029,  4030,  4031,\n",
    "        4032,  4033,  4034,  4035,  4036,  4037,  4038,  4039,  4040,\n",
    "        4041,  4042,  4043,  4044,  4045,  4046,  4047, 13420])\n",
    "```"
   ]
  },
  {
   "cell_type": "markdown",
   "metadata": {},
   "source": [
    "You can replace the missing *TAVG*, *TMAX*, and *TMIN* values with the average value for a particular station or airport. Because consecutive rows of *TAVG_idx* are missing, replacing them with a previous value would not be possible. Instead, replace them with the mean. Use the `groupby` function to aggregate the variables with a mean value.\n",
    "\n",
    "**Hint:** Group by `MONTH` and `STATION`."
   ]
  },
  {
   "cell_type": "code",
   "execution_count": 97,
   "metadata": {},
   "outputs": [
    {
     "data": {
      "text/html": [
       "<div>\n",
       "<style scoped>\n",
       "    .dataframe tbody tr th:only-of-type {\n",
       "        vertical-align: middle;\n",
       "    }\n",
       "\n",
       "    .dataframe tbody tr th {\n",
       "        vertical-align: top;\n",
       "    }\n",
       "\n",
       "    .dataframe thead th {\n",
       "        text-align: right;\n",
       "    }\n",
       "</style>\n",
       "<table border=\"1\" class=\"dataframe\">\n",
       "  <thead>\n",
       "    <tr style=\"text-align: right;\">\n",
       "      <th></th>\n",
       "      <th>MONTH</th>\n",
       "      <th>STATION</th>\n",
       "      <th>TAVG</th>\n",
       "      <th>TMAX</th>\n",
       "      <th>TMIN</th>\n",
       "    </tr>\n",
       "  </thead>\n",
       "  <tbody>\n",
       "    <tr>\n",
       "      <th>0</th>\n",
       "      <td>01</td>\n",
       "      <td>USW00003017</td>\n",
       "      <td>-2.741935</td>\n",
       "      <td>74.000000</td>\n",
       "      <td>-69.858065</td>\n",
       "    </tr>\n",
       "    <tr>\n",
       "      <th>1</th>\n",
       "      <td>01</td>\n",
       "      <td>USW00003927</td>\n",
       "      <td>79.529032</td>\n",
       "      <td>143.767742</td>\n",
       "      <td>20.696774</td>\n",
       "    </tr>\n",
       "  </tbody>\n",
       "</table>\n",
       "</div>"
      ],
      "text/plain": [
       "  MONTH      STATION       TAVG        TMAX       TMIN\n",
       "0    01  USW00003017  -2.741935   74.000000 -69.858065\n",
       "1    01  USW00003927  79.529032  143.767742  20.696774"
      ]
     },
     "execution_count": 97,
     "metadata": {},
     "output_type": "execute_result"
    }
   ],
   "source": [
    "weather_impute = weather.groupby(['MONTH','STATION']).agg({'TAVG':'mean','TMAX':'mean', 'TMIN':'mean' }).reset_index()# Enter your code here\n",
    "weather_impute.head(2)"
   ]
  },
  {
   "cell_type": "markdown",
   "metadata": {},
   "source": [
    "Merge the mean data with the weather data."
   ]
  },
  {
   "cell_type": "code",
   "execution_count": 98,
   "metadata": {},
   "outputs": [],
   "source": [
    "\n",
    "weather = pd.merge(weather, weather_impute,  how='left', left_on=['MONTH','STATION'], right_on = ['MONTH','STATION'])\\\n",
    ".rename(columns = {'TAVG_y':'TAVG_AVG',\n",
    "                   'TMAX_y':'TMAX_AVG', \n",
    "                   'TMIN_y':'TMIN_AVG',\n",
    "                   'TAVG_x':'TAVG',\n",
    "                   'TMAX_x':'TMAX', \n",
    "                   'TMIN_x':'TMIN'})"
   ]
  },
  {
   "cell_type": "markdown",
   "metadata": {},
   "source": [
    "Check for missing values again."
   ]
  },
  {
   "cell_type": "code",
   "execution_count": 99,
   "metadata": {},
   "outputs": [
    {
     "data": {
      "text/plain": [
       "STATION     0\n",
       "DATE        0\n",
       "AWND        0\n",
       "PRCP        0\n",
       "SNOW        0\n",
       "SNWD        0\n",
       "TAVG        0\n",
       "TMAX        0\n",
       "TMIN        0\n",
       "airport     0\n",
       "MONTH       0\n",
       "TAVG_AVG    0\n",
       "TMAX_AVG    0\n",
       "TMIN_AVG    0\n",
       "dtype: int64"
      ]
     },
     "execution_count": 99,
     "metadata": {},
     "output_type": "execute_result"
    }
   ],
   "source": [
    "weather.TAVG[TAVG_idx] = weather.TAVG_AVG[TAVG_idx]\n",
    "weather.TMAX[TMAX_idx] = weather.TMAX_AVG[TMAX_idx]\n",
    "weather.TMIN[TMIN_idx] = weather.TMIN_AVG[TMIN_idx]\n",
    "weather.isna().sum()"
   ]
  },
  {
   "cell_type": "markdown",
   "metadata": {},
   "source": [
    "Drop `STATION,MONTH,TAVG_AVG,TMAX_AVG,TMIN_AVG,TMAX,TMIN,SNWD` from the dataset."
   ]
  },
  {
   "cell_type": "code",
   "execution_count": 100,
   "metadata": {},
   "outputs": [],
   "source": [
    "weather.drop(columns=['STATION','MONTH','TAVG_AVG', 'TMAX_AVG', 'TMIN_AVG', 'TMAX' ,'TMIN', 'SNWD'],inplace=True)"
   ]
  },
  {
   "cell_type": "markdown",
   "metadata": {},
   "source": [
    "Add the origin and destination weather conditions to the dataset."
   ]
  },
  {
   "cell_type": "code",
   "execution_count": 101,
   "metadata": {},
   "outputs": [],
   "source": [
    "### Add origin weather conditions\n",
    "data_orig = pd.merge(data_orig, weather,  how='left', left_on=['FlightDate','Origin'], right_on = ['DATE','airport'])\\\n",
    ".rename(columns = {'AWND':'AWND_O','PRCP':'PRCP_O', 'TAVG':'TAVG_O', 'SNOW': 'SNOW_O'})\\\n",
    ".drop(columns=['DATE','airport'])\n",
    "\n",
    "### Add destination weather conditions\n",
    "data_orig = pd.merge(data_orig, weather,  how='left', left_on=['FlightDate','Dest'], right_on = ['DATE','airport'])\\\n",
    ".rename(columns = {'AWND':'AWND_D','PRCP':'PRCP_D', 'TAVG':'TAVG_D', 'SNOW': 'SNOW_D'})\\\n",
    ".drop(columns=['DATE','airport'])"
   ]
  },
  {
   "cell_type": "markdown",
   "metadata": {},
   "source": [
    "**Note**: It's always a good practice to check for nulls or NAs after joins."
   ]
  },
  {
   "cell_type": "code",
   "execution_count": 102,
   "metadata": {},
   "outputs": [
    {
     "data": {
      "text/plain": [
       "0"
      ]
     },
     "execution_count": 102,
     "metadata": {},
     "output_type": "execute_result"
    }
   ],
   "source": [
    "sum(data.isna().any())"
   ]
  },
  {
   "cell_type": "code",
   "execution_count": 103,
   "metadata": {},
   "outputs": [
    {
     "data": {
      "text/plain": [
       "Index(['Year', 'Quarter', 'Month', 'DayofMonth', 'DayOfWeek', 'FlightDate',\n",
       "       'Reporting_Airline', 'Origin', 'OriginState', 'Dest', 'DestState',\n",
       "       'CRSDepTime', 'Cancelled', 'Diverted', 'Distance', 'DistanceGroup',\n",
       "       'ArrDelay', 'ArrDelayMinutes', 'is_delay', 'AirTime', 'DepHourofDay',\n",
       "       'AWND_O', 'PRCP_O', 'SNOW_O', 'TAVG_O', 'AWND_D', 'PRCP_D', 'SNOW_D',\n",
       "       'TAVG_D'],\n",
       "      dtype='object')"
      ]
     },
     "execution_count": 103,
     "metadata": {},
     "output_type": "execute_result"
    }
   ],
   "source": [
    "data_orig.columns"
   ]
  },
  {
   "cell_type": "markdown",
   "metadata": {},
   "source": [
    "Convert the categorical data into numerical data by using one-hot encoding."
   ]
  },
  {
   "cell_type": "code",
   "execution_count": 114,
   "metadata": {},
   "outputs": [],
   "source": [
    "data = data_orig.copy()\n",
    "data = data[['is_delay', 'Year', 'Quarter', 'Month', 'DayofMonth', 'DayOfWeek', \n",
    "       'Reporting_Airline', 'Origin', 'Dest','Distance','DepHourofDay','is_holiday', 'AWND_O', 'PRCP_O',\n",
    "       'TAVG_O', 'AWND_D', 'PRCP_D', 'TAVG_D', 'SNOW_O', 'SNOW_D']]\n",
    "\n",
    "\n",
    "categorical_columns  = ['Year', 'Quarter', 'Month', 'DayofMonth', 'DayOfWeek', \n",
    "       'Reporting_Airline', 'Origin', 'Dest', 'is_holiday']\n",
    "for c in categorical_columns:\n",
    "    data[c] = data[c].astype('category')"
   ]
  },
  {
   "cell_type": "code",
   "execution_count": 115,
   "metadata": {},
   "outputs": [],
   "source": [
    "data_dummies = pd.get_dummies(data[['Year', 'Quarter', 'Month', 'DayofMonth', 'DayOfWeek', 'Reporting_Airline', 'Origin', 'Dest', 'is_holiday']], drop_first=True)\n",
    "data = pd.concat([data, data_dummies], axis = 1)\n",
    "data.drop(categorical_columns,axis=1, inplace=True)"
   ]
  },
  {
   "cell_type": "markdown",
   "metadata": {},
   "source": [
    "Check the new columns."
   ]
  },
  {
   "cell_type": "code",
   "execution_count": 116,
   "metadata": {},
   "outputs": [
    {
     "data": {
      "text/plain": [
       "(1635590, 85)"
      ]
     },
     "execution_count": 116,
     "metadata": {},
     "output_type": "execute_result"
    }
   ],
   "source": [
    "data.shape"
   ]
  },
  {
   "cell_type": "code",
   "execution_count": 117,
   "metadata": {},
   "outputs": [
    {
     "data": {
      "text/plain": [
       "Index(['is_delay', 'Distance', 'DepHourofDay', 'AWND_O', 'PRCP_O', 'TAVG_O',\n",
       "       'AWND_D', 'PRCP_D', 'TAVG_D', 'SNOW_O', 'SNOW_D', 'Year_2015',\n",
       "       'Year_2016', 'Year_2017', 'Year_2018', 'Quarter_2', 'Quarter_3',\n",
       "       'Quarter_4', 'Month_2', 'Month_3', 'Month_4', 'Month_5', 'Month_6',\n",
       "       'Month_7', 'Month_8', 'Month_9', 'Month_10', 'Month_11', 'Month_12',\n",
       "       'DayofMonth_2', 'DayofMonth_3', 'DayofMonth_4', 'DayofMonth_5',\n",
       "       'DayofMonth_6', 'DayofMonth_7', 'DayofMonth_8', 'DayofMonth_9',\n",
       "       'DayofMonth_10', 'DayofMonth_11', 'DayofMonth_12', 'DayofMonth_13',\n",
       "       'DayofMonth_14', 'DayofMonth_15', 'DayofMonth_16', 'DayofMonth_17',\n",
       "       'DayofMonth_18', 'DayofMonth_19', 'DayofMonth_20', 'DayofMonth_21',\n",
       "       'DayofMonth_22', 'DayofMonth_23', 'DayofMonth_24', 'DayofMonth_25',\n",
       "       'DayofMonth_26', 'DayofMonth_27', 'DayofMonth_28', 'DayofMonth_29',\n",
       "       'DayofMonth_30', 'DayofMonth_31', 'DayOfWeek_2', 'DayOfWeek_3',\n",
       "       'DayOfWeek_4', 'DayOfWeek_5', 'DayOfWeek_6', 'DayOfWeek_7',\n",
       "       'Reporting_Airline_DL', 'Reporting_Airline_OO', 'Reporting_Airline_UA',\n",
       "       'Reporting_Airline_WN', 'Origin_CLT', 'Origin_DEN', 'Origin_DFW',\n",
       "       'Origin_IAH', 'Origin_LAX', 'Origin_ORD', 'Origin_PHX', 'Origin_SFO',\n",
       "       'Dest_CLT', 'Dest_DEN', 'Dest_DFW', 'Dest_IAH', 'Dest_LAX', 'Dest_ORD',\n",
       "       'Dest_PHX', 'Dest_SFO'],\n",
       "      dtype='object')"
      ]
     },
     "execution_count": 117,
     "metadata": {},
     "output_type": "execute_result"
    }
   ],
   "source": [
    "data.columns"
   ]
  },
  {
   "cell_type": "markdown",
   "metadata": {},
   "source": [
    "### Sample output\n",
    "\n",
    "```\n",
    "Index(['Distance', 'DepHourofDay', 'is_delay', 'AWND_O', 'PRCP_O', 'TAVG_O',\n",
    "       'AWND_D', 'PRCP_D', 'TAVG_D', 'SNOW_O', 'SNOW_D', 'Year_2015',\n",
    "       'Year_2016', 'Year_2017', 'Year_2018', 'Quarter_2', 'Quarter_3',\n",
    "       'Quarter_4', 'Month_2', 'Month_3', 'Month_4', 'Month_5', 'Month_6',\n",
    "       'Month_7', 'Month_8', 'Month_9', 'Month_10', 'Month_11', 'Month_12',\n",
    "       'DayofMonth_2', 'DayofMonth_3', 'DayofMonth_4', 'DayofMonth_5',\n",
    "       'DayofMonth_6', 'DayofMonth_7', 'DayofMonth_8', 'DayofMonth_9',\n",
    "       'DayofMonth_10', 'DayofMonth_11', 'DayofMonth_12', 'DayofMonth_13',\n",
    "       'DayofMonth_14', 'DayofMonth_15', 'DayofMonth_16', 'DayofMonth_17',\n",
    "       'DayofMonth_18', 'DayofMonth_19', 'DayofMonth_20', 'DayofMonth_21',\n",
    "       'DayofMonth_22', 'DayofMonth_23', 'DayofMonth_24', 'DayofMonth_25',\n",
    "       'DayofMonth_26', 'DayofMonth_27', 'DayofMonth_28', 'DayofMonth_29',\n",
    "       'DayofMonth_30', 'DayofMonth_31', 'DayOfWeek_2', 'DayOfWeek_3',\n",
    "       'DayOfWeek_4', 'DayOfWeek_5', 'DayOfWeek_6', 'DayOfWeek_7',\n",
    "       'Reporting_Airline_DL', 'Reporting_Airline_OO', 'Reporting_Airline_UA',\n",
    "       'Reporting_Airline_WN', 'Origin_CLT', 'Origin_DEN', 'Origin_DFW',\n",
    "       'Origin_IAH', 'Origin_LAX', 'Origin_ORD', 'Origin_PHX', 'Origin_SFO',\n",
    "       'Dest_CLT', 'Dest_DEN', 'Dest_DFW', 'Dest_IAH', 'Dest_LAX', 'Dest_ORD',\n",
    "       'Dest_PHX', 'Dest_SFO', 'is_holiday_1'],\n",
    "      dtype='object')\n",
    "```"
   ]
  },
  {
   "cell_type": "markdown",
   "metadata": {},
   "source": [
    "Rename the **is_delay** column to *target* again. Use the same code that you used previously."
   ]
  },
  {
   "cell_type": "code",
   "execution_count": 118,
   "metadata": {},
   "outputs": [],
   "source": [
    "data.rename(columns = {'is_delay':'target'}, inplace=True )# Enter your code here"
   ]
  },
  {
   "cell_type": "markdown",
   "metadata": {},
   "source": [
    "Create the training sets again.\n",
    "\n",
    "**Hint:** Use the `split_data` function that you defined (and used) earlier."
   ]
  },
  {
   "cell_type": "code",
   "execution_count": 119,
   "metadata": {},
   "outputs": [
    {
     "name": "stdout",
     "output_type": "stream",
     "text": [
      "0.0    1033806\n",
      "1.0     274666\n",
      "Name: target, dtype: int64\n",
      "0.0    129226\n",
      "1.0     34333\n",
      "Name: target, dtype: int64\n",
      "0.0    129226\n",
      "1.0     34333\n",
      "Name: target, dtype: int64\n"
     ]
    }
   ],
   "source": [
    "# Enter your code here\n",
    "train, validate, test = split_data(data)\n",
    "print(train['target'].value_counts())\n",
    "print(test['target'].value_counts())\n",
    "print(validate['target'].value_counts())"
   ]
  },
  {
   "cell_type": "markdown",
   "metadata": {},
   "source": [
    "### New baseline classifier\n",
    "\n",
    "Now, see if these new features add any predictive power to the model."
   ]
  },
  {
   "cell_type": "code",
   "execution_count": 120,
   "metadata": {},
   "outputs": [],
   "source": [
    "# Instantiate the LinearLearner estimator object\n",
    "classifier_estimator2 = sagemaker.LinearLearner(role=sagemaker.get_execution_role(),\n",
    "                                               instance_count=1,\n",
    "                                               instance_type='ml.m4.xlarge',\n",
    "                                               predictor_type='binary_classifier',\n",
    "                                               binary_classifier_model_selection_criteria = 'cross_entropy_loss')"
   ]
  },
  {
   "cell_type": "markdown",
   "metadata": {},
   "source": [
    "### Sample code\n",
    "\n",
    "```\n",
    "num_classes = len(pd.unique(train_labels)) \n",
    "classifier_estimator2 = sagemaker.LinearLearner(role=sagemaker.get_execution_role(),\n",
    "                                               instance_count=1,\n",
    "                                               instance_type='ml.m4.xlarge',\n",
    "                                               predictor_type='binary_classifier',\n",
    "                                               binary_classifier_model_selection_criteria = 'cross_entropy_loss')\n",
    "```"
   ]
  },
  {
   "cell_type": "code",
   "execution_count": null,
   "metadata": {},
   "outputs": [],
   "source": [
    "train_records = classifier_estimator2.record_set(train.values[:, 1:].astype(np.float32), train.values[:, 0].astype(np.float32), channel='train')\n",
    "val_records = classifier_estimator2.record_set(validate.values[:, 1:].astype(np.float32), validate.values[:, 0].astype(np.float32), channel='validation')\n",
    "test_records = classifier_estimator2.record_set(test.values[:, 1:].astype(np.float32), test.values[:, 0].astype(np.float32), channel='test')"
   ]
  },
  {
   "cell_type": "markdown",
   "metadata": {},
   "source": [
    "Train your model by using the three datasets that you just created."
   ]
  },
  {
   "cell_type": "code",
   "execution_count": null,
   "metadata": {},
   "outputs": [],
   "source": [
    "# Enter your code here"
   ]
  },
  {
   "cell_type": "markdown",
   "metadata": {},
   "source": [
    "Perform a batch prediction by using the newly trained model."
   ]
  },
  {
   "cell_type": "code",
   "execution_count": null,
   "metadata": {},
   "outputs": [],
   "source": [
    "# Enter your code here"
   ]
  },
  {
   "cell_type": "markdown",
   "metadata": {},
   "source": [
    "Plot a confusion matrix."
   ]
  },
  {
   "cell_type": "code",
   "execution_count": null,
   "metadata": {},
   "outputs": [],
   "source": [
    "# Enter your code here"
   ]
  },
  {
   "cell_type": "markdown",
   "metadata": {},
   "source": [
    "Plot the ROC curve."
   ]
  },
  {
   "cell_type": "code",
   "execution_count": null,
   "metadata": {},
   "outputs": [],
   "source": [
    "# Enter your code here"
   ]
  },
  {
   "cell_type": "markdown",
   "metadata": {},
   "source": [
    "The linear model shows only a little improvement in performance. Try a tree-based ensemble model, which is called *XGBoost*, with Amazon SageMaker."
   ]
  },
  {
   "cell_type": "markdown",
   "metadata": {},
   "source": [
    "### Try the XGBoost model"
   ]
  },
  {
   "cell_type": "markdown",
   "metadata": {},
   "source": [
    "Perform these steps:  \n",
    "\n",
    "1. Use the training set variables and save them as CSV files: train.csv, validation.csv and test.csv.\n",
    "2. Store the bucket name in the variable. The Amazon S3 bucket name is provided to the left of the lab instructions.  \n",
    "a. `bucket = <LabBucketName>`  \n",
    "b. `prefix = 'flight-xgb'`  \n",
    "3. Use the AWS SDK for Python (Boto3) to upload the model to the bucket.    "
   ]
  },
  {
   "cell_type": "code",
   "execution_count": null,
   "metadata": {},
   "outputs": [],
   "source": [
    "bucket='c47433a664954l1929602t1w372070435191-flightbucket-nju461tjoe79'\n",
    "prefix='flight-xgb'\n",
    "train_file='flight_train.csv'\n",
    "test_file='flight_test.csv'\n",
    "validate_file='flight_validate.csv'\n",
    "whole_file='flight.csv'\n",
    "s3_resource = boto3.Session().resource('s3')\n",
    "\n",
    "def upload_s3_csv(filename, folder, dataframe):\n",
    "    csv_buffer = io.StringIO()\n",
    "    dataframe.to_csv(csv_buffer, header=False, index=False )\n",
    "    s3_resource.Bucket(bucket).Object(os.path.join(prefix, folder, filename)).put(Body=csv_buffer.getvalue())\n",
    "\n",
    "upload_s3_csv(train_file, 'train', train)\n",
    "upload_s3_csv(test_file, 'test', test)\n",
    "upload_s3_csv(validate_file, 'validate', validate)"
   ]
  },
  {
   "cell_type": "markdown",
   "metadata": {},
   "source": [
    "Use the `sagemaker.inputs.TrainingInput` function to create a `record_set` for the training and validation datasets."
   ]
  },
  {
   "cell_type": "code",
   "execution_count": null,
   "metadata": {},
   "outputs": [],
   "source": [
    "train_channel = sagemaker.inputs.TrainingInput(\n",
    "    \"s3://{}/{}/train/\".format(bucket,prefix,train_file),\n",
    "    content_type='text/csv')\n",
    "\n",
    "validate_channel = sagemaker.inputs.TrainingInput(\n",
    "    \"s3://{}/{}/validate/\".format(bucket,prefix,validate_file),\n",
    "    content_type='text/csv')\n",
    "\n",
    "data_channels = {'train': train_channel, 'validation': validate_channel}"
   ]
  },
  {
   "cell_type": "code",
   "execution_count": null,
   "metadata": {},
   "outputs": [],
   "source": [
    "from sagemaker.image_uris import retrieve\n",
    "container = retrieve('xgboost',boto3.Session().region_name,'1.0-1')"
   ]
  },
  {
   "cell_type": "code",
   "execution_count": null,
   "metadata": {},
   "outputs": [],
   "source": [
    "sess = sagemaker.Session()\n",
    "s3_output_location=\"s3://{}/{}/output/\".format(bucket,prefix)\n",
    "\n",
    "xgb = sagemaker.estimator.Estimator(container,\n",
    "                                    role = sagemaker.get_execution_role(), \n",
    "                                    instance_count=1, \n",
    "                                    instance_type=instance_type,\n",
    "                                    output_path=s3_output_location,\n",
    "                                    sagemaker_session=sess)\n",
    "xgb.set_hyperparameters(max_depth=5,\n",
    "                        eta=0.2,\n",
    "                        gamma=4,\n",
    "                        min_child_weight=6,\n",
    "                        subsample=0.8,\n",
    "                        silent=0,\n",
    "                        objective='binary:logistic',\n",
    "                        eval_metric = \"auc\", \n",
    "                        num_round=100)\n",
    "\n",
    "xgb.fit(inputs=data_channels)"
   ]
  },
  {
   "cell_type": "markdown",
   "metadata": {},
   "source": [
    "Use the batch transformer for your new model, and evaluate the model on the test dataset."
   ]
  },
  {
   "cell_type": "code",
   "execution_count": null,
   "metadata": {},
   "outputs": [],
   "source": [
    "batch_X = test.iloc[:,1:];\n",
    "batch_X_file='batch-in.csv'\n",
    "upload_s3_csv(batch_X_file, 'batch-in', batch_X)"
   ]
  },
  {
   "cell_type": "code",
   "execution_count": null,
   "metadata": {},
   "outputs": [],
   "source": [
    "batch_output = \"s3://{}/{}/batch-out/\".format(bucket,prefix)\n",
    "batch_input = \"s3://{}/{}/batch-in/{}\".format(bucket,prefix,batch_X_file)\n",
    "\n",
    "xgb_transformer = xgb.transformer(instance_count=1,\n",
    "                                       instance_type=instance_type,\n",
    "                                       strategy='MultiRecord',\n",
    "                                       assemble_with='Line',\n",
    "                                       output_path=batch_output)\n",
    "\n",
    "xgb_transformer.transform(data=batch_input,\n",
    "                         data_type='S3Prefix',\n",
    "                         content_type='text/csv',\n",
    "                         split_type='Line')\n",
    "xgb_transformer.wait()"
   ]
  },
  {
   "cell_type": "markdown",
   "metadata": {},
   "source": [
    "Get the predicted target and test labels."
   ]
  },
  {
   "cell_type": "code",
   "execution_count": null,
   "metadata": {},
   "outputs": [],
   "source": [
    "s3 = boto3.client('s3')\n",
    "obj = s3.get_object(Bucket=bucket, Key=\"{}/batch-out/{}\".format(prefix,'batch-in.csv.out'))\n",
    "target_predicted = pd.read_csv(io.BytesIO(obj['Body'].read()),',',names=['target'])\n",
    "test_labels = test.iloc[:,0]"
   ]
  },
  {
   "cell_type": "markdown",
   "metadata": {},
   "source": [
    "Calculate the predicted values based on the defined threshold.\n",
    "\n",
    "**Note:** The predicted target will be a score, which must be converted to a binary class."
   ]
  },
  {
   "cell_type": "code",
   "execution_count": null,
   "metadata": {},
   "outputs": [],
   "source": [
    "print(target_predicted.head())\n",
    "\n",
    "def binary_convert(x):\n",
    "    threshold = 0.55\n",
    "    if x > threshold:\n",
    "        return 1\n",
    "    else:\n",
    "        return 0\n",
    "\n",
    "target_predicted['target'] = target_predicted['target'].apply(binary_convert)\n",
    "\n",
    "test_labels = test.iloc[:,0]\n",
    "\n",
    "print(target_predicted.head())"
   ]
  },
  {
   "cell_type": "markdown",
   "metadata": {},
   "source": [
    "Plot a confusion matrix for your `target_predicted` and `test_labels`."
   ]
  },
  {
   "cell_type": "code",
   "execution_count": null,
   "metadata": {},
   "outputs": [],
   "source": [
    "# Enter your code here"
   ]
  },
  {
   "cell_type": "markdown",
   "metadata": {},
   "source": [
    "Plot the ROC chart:"
   ]
  },
  {
   "cell_type": "code",
   "execution_count": null,
   "metadata": {},
   "outputs": [],
   "source": [
    "# Enter your code here"
   ]
  },
  {
   "cell_type": "markdown",
   "metadata": {},
   "source": [
    "### Try different thresholds"
   ]
  },
  {
   "cell_type": "markdown",
   "metadata": {},
   "source": [
    "**Question**: Based on how well the model handled the test set, what can you conclude?"
   ]
  },
  {
   "cell_type": "code",
   "execution_count": null,
   "metadata": {},
   "outputs": [],
   "source": [
    "#Enter your answer here"
   ]
  },
  {
   "cell_type": "markdown",
   "metadata": {},
   "source": [
    "### Hyperparameter optimization (HPO)"
   ]
  },
  {
   "cell_type": "code",
   "execution_count": null,
   "metadata": {},
   "outputs": [],
   "source": [
    "from sagemaker.tuner import IntegerParameter, CategoricalParameter, ContinuousParameter, HyperparameterTuner\n",
    "\n",
    "### You can spin up multiple instances to do hyperparameter optimization in parallel\n",
    "\n",
    "xgb = sagemaker.estimator.Estimator(container,\n",
    "                                    role=sagemaker.get_execution_role(), \n",
    "                                    instance_count= 1, # make sure you have a limit set for these instances\n",
    "                                    instance_type=instance_type, \n",
    "                                    output_path='s3://{}/{}/output'.format(bucket, prefix),\n",
    "                                    sagemaker_session=sess)\n",
    "\n",
    "xgb.set_hyperparameters(eval_metric='auc',\n",
    "                        objective='binary:logistic',\n",
    "                        num_round=100,\n",
    "                        rate_drop=0.3,\n",
    "                        tweedie_variance_power=1.4)\n",
    "\n",
    "hyperparameter_ranges = {'alpha': ContinuousParameter(0, 1000, scaling_type='Linear'),\n",
    "                         'eta': ContinuousParameter(0.1, 0.5, scaling_type='Linear'),\n",
    "                         'min_child_weight': ContinuousParameter(3, 10, scaling_type='Linear'),\n",
    "                         'subsample': ContinuousParameter(0.5, 1),\n",
    "                         'num_round': IntegerParameter(10,150)}\n",
    "\n",
    "objective_metric_name = 'validation:auc'\n",
    "\n",
    "tuner = HyperparameterTuner(xgb,\n",
    "                            objective_metric_name,\n",
    "                            hyperparameter_ranges,\n",
    "                            max_jobs=10, # Set this to 10 or above depending upon budget and available time.\n",
    "                            max_parallel_jobs=1)"
   ]
  },
  {
   "cell_type": "code",
   "execution_count": null,
   "metadata": {},
   "outputs": [],
   "source": [
    "tuner.fit(inputs=data_channels)\n",
    "tuner.wait()"
   ]
  },
  {
   "cell_type": "markdown",
   "metadata": {},
   "source": [
    "<i class=\"fas fa-exclamation-triangle\" style=\"color:red\"></i> Wait until the training job is finished. It might take 25-30 minutes.\n",
    "\n",
    "**To monitor hyperparameter optimization jobs:**  \n",
    "\n",
    "1. In the AWS Management Console, on the **Services** menu, choose **Amazon SageMaker**.  \n",
    "2. Choose **Training > Hyperparameter tuning jobs**.\n",
    "3. You can check the status of each hyperparameter tuning job, its objective metric value, and its logs.  "
   ]
  },
  {
   "cell_type": "markdown",
   "metadata": {},
   "source": [
    "Check that the job completed successfully."
   ]
  },
  {
   "cell_type": "code",
   "execution_count": null,
   "metadata": {},
   "outputs": [],
   "source": [
    "boto3.client('sagemaker').describe_hyper_parameter_tuning_job(\n",
    "    HyperParameterTuningJobName=tuner.latest_tuning_job.job_name)['HyperParameterTuningJobStatus']"
   ]
  },
  {
   "cell_type": "markdown",
   "metadata": {},
   "source": [
    "The hyperparameter tuning job will have a model that worked the best. You can get the information about that model from the tuning job."
   ]
  },
  {
   "cell_type": "code",
   "execution_count": null,
   "metadata": {},
   "outputs": [],
   "source": [
    "sage_client = boto3.Session().client('sagemaker')\n",
    "tuning_job_name = tuner.latest_tuning_job.job_name\n",
    "print(f'tuning job name:{tuning_job_name}')\n",
    "tuning_job_result = sage_client.describe_hyper_parameter_tuning_job(HyperParameterTuningJobName=tuning_job_name)\n",
    "best_training_job = tuning_job_result['BestTrainingJob']\n",
    "best_training_job_name = best_training_job['TrainingJobName']\n",
    "print(f\"best training job: {best_training_job_name}\")\n",
    "\n",
    "best_estimator = tuner.best_estimator()\n",
    "\n",
    "tuner_df = sagemaker.HyperparameterTuningJobAnalytics(tuning_job_name).dataframe()\n",
    "tuner_df.head()"
   ]
  },
  {
   "cell_type": "markdown",
   "metadata": {},
   "source": [
    "Use the estimator `best_estimator` and train it by using the data. \n",
    "\n",
    "**Tip:** See the previous XGBoost estimator fit function."
   ]
  },
  {
   "cell_type": "code",
   "execution_count": null,
   "metadata": {},
   "outputs": [],
   "source": [
    "# Enter your code here'"
   ]
  },
  {
   "cell_type": "markdown",
   "metadata": {},
   "source": [
    "Use the batch transformer for your new model, and evaluate the model on the test dataset."
   ]
  },
  {
   "cell_type": "code",
   "execution_count": null,
   "metadata": {},
   "outputs": [],
   "source": [
    "batch_output = \"s3://{}/{}/batch-out/\".format(bucket,prefix)\n",
    "batch_input = \"s3://{}/{}/batch-in/{}\".format(bucket,prefix,batch_X_file)\n",
    "\n",
    "xgb_transformer = best_estimator.transformer(instance_count=1,\n",
    "                                       instance_type=instance_type,\n",
    "                                       strategy='MultiRecord',\n",
    "                                       assemble_with='Line',\n",
    "                                       output_path=batch_output)\n",
    "\n",
    "xgb_transformer.transform(data=batch_input,\n",
    "                         data_type='S3Prefix',\n",
    "                         content_type='text/csv',\n",
    "                         split_type='Line')\n",
    "xgb_transformer.wait()"
   ]
  },
  {
   "cell_type": "code",
   "execution_count": null,
   "metadata": {},
   "outputs": [],
   "source": [
    "s3 = boto3.client('s3')\n",
    "obj = s3.get_object(Bucket=bucket, Key=\"{}/batch-out/{}\".format(prefix,'batch-in.csv.out'))\n",
    "target_predicted = pd.read_csv(io.BytesIO(obj['Body'].read()),',',names=['target'])\n",
    "test_labels = test.iloc[:,0]"
   ]
  },
  {
   "cell_type": "markdown",
   "metadata": {},
   "source": [
    "Get the predicted target and test labels."
   ]
  },
  {
   "cell_type": "code",
   "execution_count": null,
   "metadata": {},
   "outputs": [],
   "source": [
    "print(target_predicted.head())\n",
    "\n",
    "def binary_convert(x):\n",
    "    threshold = 0.55\n",
    "    if x > threshold:\n",
    "        return 1\n",
    "    else:\n",
    "        return 0\n",
    "\n",
    "target_predicted['target'] = target_predicted['target'].apply(binary_convert)\n",
    "\n",
    "test_labels = test.iloc[:,0]\n",
    "\n",
    "print(target_predicted.head())"
   ]
  },
  {
   "cell_type": "markdown",
   "metadata": {},
   "source": [
    "Plot a confusion matrix for your `target_predicted` and `test_labels`."
   ]
  },
  {
   "cell_type": "code",
   "execution_count": null,
   "metadata": {},
   "outputs": [],
   "source": [
    "# Enter your code here"
   ]
  },
  {
   "cell_type": "markdown",
   "metadata": {},
   "source": [
    "Plot the ROC chart:"
   ]
  },
  {
   "cell_type": "code",
   "execution_count": null,
   "metadata": {},
   "outputs": [],
   "source": [
    "# Enter your code here"
   ]
  },
  {
   "cell_type": "markdown",
   "metadata": {},
   "source": [
    "**Question**: Try different hyperparameters and hyperparameter ranges. Do these changes improve the model?"
   ]
  },
  {
   "cell_type": "markdown",
   "metadata": {},
   "source": [
    "## Conclusion\n",
    "\n",
    "You have now iterated through training and evaluating your model at least a couple of times. It's time to wrap up this project and reflect on:\n",
    "\n",
    "- What you learned \n",
    "- What types of steps you might take moving forward (assuming that you had more time)\n",
    "\n",
    "Use the following cell to answer some of these questions and other relevant questions:\n",
    "\n",
    "1. Does your model performance meet your business goal? If not, what are some things you'd like to do differently if you had more time for tuning?\n",
    "2. How much did your model improve as you made changes to your dataset, features, and hyperparameters? What types of techniques did you employ throughout this project, and which yielded the greatest improvements in your model?\n",
    "3. What were some of the biggest challenges that you encountered throughout this project?\n",
    "4. Do you have any unanswered questions about aspects of the pipeline that didn't make sense to you?\n",
    "5. What were the three most important things that you learned about machine learning while working on this project?\n",
    "\n",
    "#### <span style=\"color: blue;\">Project presentation: Make sure that you also summarize your answers to these questions in your project presentation. Combine all your notes for your project presentation and prepare to present your findings to the class.</span>"
   ]
  },
  {
   "cell_type": "code",
   "execution_count": null,
   "metadata": {},
   "outputs": [],
   "source": [
    "# Write your answers here"
   ]
  }
 ],
 "metadata": {
  "kernelspec": {
   "display_name": "conda_python3",
   "language": "python",
   "name": "conda_python3"
  },
  "language_info": {
   "codemirror_mode": {
    "name": "ipython",
    "version": 3
   },
   "file_extension": ".py",
   "mimetype": "text/x-python",
   "name": "python",
   "nbconvert_exporter": "python",
   "pygments_lexer": "ipython3",
   "version": "3.6.13"
  }
 },
 "nbformat": 4,
 "nbformat_minor": 4
}
