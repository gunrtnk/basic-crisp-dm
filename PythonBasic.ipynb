{
  "nbformat": 4,
  "nbformat_minor": 0,
  "metadata": {
    "colab": {
      "name": "PythonBasic.ipynb",
      "provenance": [],
      "authorship_tag": "ABX9TyM0vj16AF45y3CkzZDFUHQw",
      "include_colab_link": true
    },
    "kernelspec": {
      "name": "python3",
      "display_name": "Python 3"
    },
    "language_info": {
      "name": "python"
    }
  },
  "cells": [
    {
      "cell_type": "markdown",
      "metadata": {
        "id": "view-in-github",
        "colab_type": "text"
      },
      "source": [
        "<a href=\"https://colab.research.google.com/github/gunrtnk/CS352/blob/main/PythonBasic.ipynb\" target=\"_parent\"><img src=\"https://colab.research.google.com/assets/colab-badge.svg\" alt=\"Open In Colab\"/></a>"
      ]
    },
    {
      "cell_type": "markdown",
      "source": [
        "Python Basics 1: Variables and Data types\n"
      ],
      "metadata": {
        "id": "PVnW-24MzpIx"
      }
    },
    {
      "cell_type": "code",
      "execution_count": 1,
      "metadata": {
        "id": "MmiHQ85tsagM"
      },
      "outputs": [],
      "source": [
        "dog_name = 'Freddie'\n",
        "age = 9\n",
        "is_vaccinated= True\n",
        "height = 1.1\n",
        "birth_year = 2001"
      ]
    },
    {
      "cell_type": "code",
      "source": [
        "dog_name = 'ed'"
      ],
      "metadata": {
        "id": "ulhSCGgkwQaF"
      },
      "execution_count": 6,
      "outputs": []
    },
    {
      "cell_type": "code",
      "source": [
        "dog_name"
      ],
      "metadata": {
        "colab": {
          "base_uri": "https://localhost:8080/",
          "height": 36
        },
        "id": "NsoBF5tkwu5I",
        "outputId": "2e25fa4f-c2d9-4379-db6e-75404edce42d"
      },
      "execution_count": 7,
      "outputs": [
        {
          "output_type": "execute_result",
          "data": {
            "application/vnd.google.colaboratory.intrinsic+json": {
              "type": "string"
            },
            "text/plain": [
              "'ed'"
            ]
          },
          "metadata": {},
          "execution_count": 7
        }
      ]
    },
    {
      "cell_type": "code",
      "source": [
        "a=1\n",
        "b=45\n",
        "c=True\n",
        "d=False\n",
        "e='yy'"
      ],
      "metadata": {
        "id": "tgDIsev7w5UJ"
      },
      "execution_count": 25,
      "outputs": []
    },
    {
      "cell_type": "code",
      "source": [
        "a==e or not c and b>a"
      ],
      "metadata": {
        "colab": {
          "base_uri": "https://localhost:8080/"
        },
        "id": "8i8Qyi0jxFND",
        "outputId": "a2c23e70-4f01-4345-bba1-71c2a0727a57"
      },
      "execution_count": 30,
      "outputs": [
        {
          "output_type": "execute_result",
          "data": {
            "text/plain": [
              "False"
            ]
          },
          "metadata": {},
          "execution_count": 30
        }
      ]
    },
    {
      "cell_type": "markdown",
      "source": [
        "Python Data Structures (Python for Data Science Basics #2)\n"
      ],
      "metadata": {
        "id": "3A96qmhKzt-i"
      }
    },
    {
      "cell_type": "code",
      "source": [
        "my_first_list=[1,2,33,444]\n",
        "dog=['Freddie',9,1.1,2001,['bone','ball']]"
      ],
      "metadata": {
        "id": "tHxC3pTtz3qi"
      },
      "execution_count": 36,
      "outputs": []
    },
    {
      "cell_type": "code",
      "source": [
        "dog[0:4]"
      ],
      "metadata": {
        "colab": {
          "base_uri": "https://localhost:8080/"
        },
        "id": "MitARi8E2wxY",
        "outputId": "9acc7657-530b-4855-d002-173f801349f8"
      },
      "execution_count": 45,
      "outputs": [
        {
          "output_type": "execute_result",
          "data": {
            "text/plain": [
              "['Freddie', 9, 1.1, 2001]"
            ]
          },
          "metadata": {},
          "execution_count": 45
        }
      ]
    },
    {
      "cell_type": "code",
      "source": [
        "book_list = ['A','B','C','D']\n",
        "book_tuple = ('X','Y','Z')"
      ],
      "metadata": {
        "id": "EKVrcnwa4PCJ"
      },
      "execution_count": 46,
      "outputs": []
    },
    {
      "cell_type": "code",
      "source": [
        "book_tuple[0:2]"
      ],
      "metadata": {
        "colab": {
          "base_uri": "https://localhost:8080/"
        },
        "id": "zDCTe8eO44hM",
        "outputId": "d3964340-bed5-463c-f6ca-0aab4ac9ef53"
      },
      "execution_count": 52,
      "outputs": [
        {
          "output_type": "execute_result",
          "data": {
            "text/plain": [
              "('X', 'Y')"
            ]
          },
          "metadata": {},
          "execution_count": 52
        }
      ]
    },
    {
      "cell_type": "code",
      "source": [
        "cat_dict={'name': ['man','nan'] , 'age':9, 'birth_year':2000}"
      ],
      "metadata": {
        "id": "pzr-5HE753lS"
      },
      "execution_count": 55,
      "outputs": []
    },
    {
      "cell_type": "code",
      "source": [
        "cat_dict['name']"
      ],
      "metadata": {
        "colab": {
          "base_uri": "https://localhost:8080/"
        },
        "id": "J8vG2bE76hIP",
        "outputId": "5bd5fc83-783b-4a87-a6d3-483cd8097a7f"
      },
      "execution_count": 57,
      "outputs": [
        {
          "output_type": "execute_result",
          "data": {
            "text/plain": [
              "['man', 'nan']"
            ]
          },
          "metadata": {},
          "execution_count": 57
        }
      ]
    },
    {
      "cell_type": "code",
      "source": [
        "test = [{'Arizona': 'Phoenix', 'California': 'Sacramento', 'Hawaii': 'Honolulu'},\n",
        "1000,\n",
        "2000,\n",
        "3000,\n",
        "['hat', 't-shirt', 'jeans', {'socks1': 'red', 'socks2': 'blue'}]]"
      ],
      "metadata": {
        "id": "sngt2J3o7c9H"
      },
      "execution_count": 58,
      "outputs": []
    },
    {
      "cell_type": "code",
      "source": [
        "test[4][3]['socks2']"
      ],
      "metadata": {
        "colab": {
          "base_uri": "https://localhost:8080/",
          "height": 36
        },
        "id": "2OJuJc4Q7nYx",
        "outputId": "6d8470a8-2ebe-4387-eaad-33e69dbd76cf"
      },
      "execution_count": 67,
      "outputs": [
        {
          "output_type": "execute_result",
          "data": {
            "application/vnd.google.colaboratory.intrinsic+json": {
              "type": "string"
            },
            "text/plain": [
              "'blue'"
            ]
          },
          "metadata": {},
          "execution_count": 67
        }
      ]
    }
  ]
}